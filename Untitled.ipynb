{
 "cells": [
  {
   "cell_type": "code",
   "execution_count": 9,
   "id": "4b3aa84f",
   "metadata": {},
   "outputs": [
    {
     "name": "stdout",
     "output_type": "stream",
     "text": [
      "Collecting fpdf2\n",
      "  Downloading fpdf2-2.5.5-py2.py3-none-any.whl (227 kB)\n",
      "Requirement already satisfied: defusedxml in d:\\anaconda\\lib\\site-packages (from fpdf2) (0.7.1)\n",
      "Requirement already satisfied: Pillow>=6.2.2 in d:\\anaconda\\lib\\site-packages (from fpdf2) (9.0.1)\n",
      "Installing collected packages: fpdf2\n",
      "Note: you may need to restart the kernel to use updated packages.\n",
      "Successfully installed fpdf2-2.5.5\n"
     ]
    }
   ],
   "source": [
    "pip install fpdf2"
   ]
  },
  {
   "cell_type": "code",
   "execution_count": 18,
   "id": "f318574c",
   "metadata": {},
   "outputs": [],
   "source": [
    "import fpdf as PDF"
   ]
  },
  {
   "cell_type": "code",
   "execution_count": null,
   "id": "236af586",
   "metadata": {},
   "outputs": [],
   "source": []
  }
 ],
 "metadata": {
  "kernelspec": {
   "display_name": "Python 3 (ipykernel)",
   "language": "python",
   "name": "python3"
  },
  "language_info": {
   "codemirror_mode": {
    "name": "ipython",
    "version": 3
   },
   "file_extension": ".py",
   "mimetype": "text/x-python",
   "name": "python",
   "nbconvert_exporter": "python",
   "pygments_lexer": "ipython3",
   "version": "3.9.12"
  }
 },
 "nbformat": 4,
 "nbformat_minor": 5
}
