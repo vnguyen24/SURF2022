{
 "cells": [
  {
   "cell_type": "markdown",
   "id": "152634f4",
   "metadata": {},
   "source": [
    "# Multivariate Exploratory Data Analysis\n",
    "\n",
    "## Lesson Overview\n",
    "Welcome to lesson three! Today, we will dive into creating, describing, and visualizing multivariate data relationships by using the Matplotlib, Pandas, and Seaborn libraries in Python.\n",
    "\n",
    "By the end of this lesson you will be able to:\n",
    "* Calculate the correlation coefficient \n",
    "* Construct a contingency table\n",
    "* Practice importing dataframes\n",
    "* Build plots to describe multiple variables within a single dataset"
   ]
  },
  {
   "cell_type": "markdown",
   "id": "23effbaf",
   "metadata": {},
   "source": [
    "## Multivariate Non-Graphical"
   ]
  },
  {
   "cell_type": "markdown",
   "id": "697b1429",
   "metadata": {},
   "source": [
    "### Correlation Coefficient "
   ]
  },
  {
   "cell_type": "markdown",
   "id": "4572599f",
   "metadata": {},
   "source": [
    "To calculate correlation we will make use of the corr() function. Again, we will follow the format dataframe.corr()\n",
    "\n",
    "**Meanings**:\n",
    "* 1: Full correlation. If one variable increases, so does the other\n",
    "* 0: No correlation.\n",
    "* -1: Full negative correlation. If one variable increases, the other decreases."
   ]
  },
  {
   "cell_type": "code",
   "execution_count": 18,
   "id": "af50d18e",
   "metadata": {},
   "outputs": [
    {
     "ename": "NameError",
     "evalue": "name 'penguins' is not defined",
     "output_type": "error",
     "traceback": [
      "\u001b[0;31m---------------------------------------------------------------------------\u001b[0m",
      "\u001b[0;31mNameError\u001b[0m                                 Traceback (most recent call last)",
      "Input \u001b[0;32mIn [18]\u001b[0m, in \u001b[0;36m<cell line: 3>\u001b[0;34m()\u001b[0m\n\u001b[1;32m      1\u001b[0m \u001b[38;5;66;03m# Let's see the correlation for penguins' variables\u001b[39;00m\n\u001b[0;32m----> 3\u001b[0m penguins_corr \u001b[38;5;241m=\u001b[39m \u001b[43mpenguins\u001b[49m\u001b[38;5;241m.\u001b[39mcorr()\n\u001b[1;32m      4\u001b[0m \u001b[38;5;28mprint\u001b[39m(penguins_corr)\n",
      "\u001b[0;31mNameError\u001b[0m: name 'penguins' is not defined"
     ]
    }
   ],
   "source": [
    "# Let's see the correlation for penguins' variables\n",
    "\n",
    "penguins_corr = penguins.corr()\n",
    "print(penguins_corr)"
   ]
  },
  {
   "cell_type": "markdown",
   "id": "39a8e9b6",
   "metadata": {},
   "source": [
    "This table is quite confusing to look at, since it is showing us the correlation coefficient between **ALL** variables. So, if we want to look at two specific variables, we can use the same correlation table and indicate our variables by typing: correlationTable.loc[\"columnName\", \"columnName\"]"
   ]
  },
  {
   "cell_type": "code",
   "execution_count": null,
   "id": "3d07f879",
   "metadata": {},
   "outputs": [],
   "source": [
    "# Let's check the correlation between Culmen Length and Culmen Depth\n",
    "culmen_corr = penguins_corr.loc[\"Culmen Length (mm)\", \"Culmen Depth (mm)\"]\n",
    "print(culmen_corr)"
   ]
  },
  {
   "cell_type": "markdown",
   "id": "dad0e382",
   "metadata": {},
   "source": [
    "### Contingency Table"
   ]
  },
  {
   "cell_type": "code",
   "execution_count": null,
   "id": "3efbbe77",
   "metadata": {},
   "outputs": [],
   "source": [
    "# To Create a contingency table we can type pd.crosstab(dataframe[\"columnName1\"], dataframe[\"columnName2\"])\n",
    "\n",
    "freq_three = pd.crosstab(penguins[\"Species\"], penguins[\"Island\"]).to_markdown()\n",
    "print(freq_three)"
   ]
  },
  {
   "cell_type": "code",
   "execution_count": null,
   "id": "fd6f429c",
   "metadata": {},
   "outputs": [],
   "source": [
    "# If we want to see a table of proportions, we have to type\n",
    "# pd.crosstab(dataframe[\"columnName1\"], dataframe[\"columnName2\"], normalize = True)\n",
    "\n",
    "prop_one = pd.crosstab(penguins[\"Species\"], penguins[\"Island\"], normalize = True)\n",
    "print(prop_one)"
   ]
  },
  {
   "cell_type": "code",
   "execution_count": null,
   "id": "0b79fc95",
   "metadata": {},
   "outputs": [],
   "source": [
    "# Verify that they add up to one\n",
    "\n",
    "print(0.13 + 0.16 + 0.15+ 0.2 + 0.36)"
   ]
  },
  {
   "cell_type": "markdown",
   "id": "8937273c",
   "metadata": {},
   "source": [
    "## Multivariate Data Visualization\n",
    "\n",
    "Now that we understand how Python can help us numerically analyze our multivariate data, let's see what Python's plotting tools can do to help visualize our data! Using the Matplotlib and Seaborn libraries for plot making, and the pandas library for importing data, we will learn how to create scatter plots, bar plots, linear model plots, and box plots to describe the relationships between variables in our dataset. \n",
    "  \n",
    "We will practice loading libraries at the beginning of every new plot, but as a reminder, libraries only need to be imported once per Jupyter notebook. This repetition is meant to help you build the healthy habit of remembering to load your libraries at the beginning of your work. Additionally, one chunk produces only one plot. So all of the work you do in a chunk will only affect a single graph. Now, let's begin!"
   ]
  },
  {
   "cell_type": "markdown",
   "id": "609d0bfe",
   "metadata": {},
   "source": [
    "### Scatter plot\n",
    "\n",
    "Scatter plots are a helpful way to visualize the relationship between two variables in statistics. Using the Matplotlib library, we can create scatter plots for the same Penguins dataset that we have been working with thus far."
   ]
  },
  {
   "cell_type": "code",
   "execution_count": null,
   "id": "96739ee9",
   "metadata": {},
   "outputs": [],
   "source": [
    "# As always, load libraries\n",
    "import matplotlib.pyplot as plt\n",
    "import pandas as pd\n",
    "\n",
    "# Create the data\n",
    "df = pd.read_csv(\"penguins_wrangled.csv\")\n",
    "\n",
    "# Draw the scatter plot\n",
    "plt.scatter(df[\"Flipper Length (mm)\"], df[\"Body Mass (g)\"], c = \"blue\", marker = \"*\", alpha = 0.5)\n",
    "\n",
    "# Add x-axis and y-axix labels\n",
    "plt.xlabel(\"Flipper Length (mm)\")\n",
    "plt.ylabel(\"Body Mass (g)\")\n",
    "\n",
    "# Add a title\n",
    "plt.title(\"Flipper Length vs. Body Mass in Penguins\")\n",
    "\n",
    "# Display the graph\n",
    "plt.show()"
   ]
  },
  {
   "cell_type": "markdown",
   "id": "ec07072d",
   "metadata": {},
   "source": [
    "### lm plots\n",
    "The lm plot displays the scattered data and fits a regression model onto it. It is exactly the same as putting the line of best fit onto our graph, and this process helps to understand the relationship between two variables. The method lmplot( ) takes the input of two column names (x and y) as a string and a DataFrame variable, and by default, fits the regression line. Let's try it out!"
   ]
  },
  {
   "cell_type": "code",
   "execution_count": null,
   "id": "7c41ee62",
   "metadata": {},
   "outputs": [],
   "source": [
    "# Add libraries\n",
    "import pandas as pd\n",
    "import seaborn as sns\n",
    "import matplotlib.pyplot as plt\n",
    "\n",
    "# Create DataFrame using pandas\n",
    "df = pd.read_csv(\"penguins_wrangled.csv\")\n",
    "\n",
    "# Create the plot\n",
    "sns.lmplot(x = \"Culmen Depth (mm)\", y = \"Body Mass (g)\", data = df)\n",
    "\n",
    "# Add a title\n",
    "plt.title(\"Culmen Depth vs. Body Mass\")\n",
    "\n",
    "# Display the plot\n",
    "plt.show()"
   ]
  },
  {
   "cell_type": "markdown",
   "id": "0e186dd4",
   "metadata": {},
   "source": [
    "If we wanted to remove the regression line, we can set the parameter fig_reg to False within the lmplot( ) method."
   ]
  },
  {
   "cell_type": "code",
   "execution_count": null,
   "id": "d0914206",
   "metadata": {},
   "outputs": [],
   "source": [
    "# Add libraries\n",
    "import pandas as pd\n",
    "import seaborn as sns\n",
    "import matplotlib.pyplot as plt\n",
    "\n",
    "# Create DataFrame using pandas\n",
    "df = pd.read_csv(\"penguins_wrangled.csv\")\n",
    "\n",
    "# Create the plot\n",
    "sns.lmplot(x = \"Culmen Depth (mm)\", y = \"Body Mass (g)\", data = df, fit_reg = False)\n",
    "\n",
    "# Add a title\n",
    "plt.title(\"Culmen Depth vs. Body Mass\")\n",
    "\n",
    "# Display the plot\n",
    "plt.show()"
   ]
  },
  {
   "cell_type": "markdown",
   "id": "dc47e2b3",
   "metadata": {},
   "source": [
    "Huh, doesn't the above scatterplot look interesting? There are two clusters of data, which might hint that something else is going on in our data. One would assume that there would be a strong, positive association between body mass and culmen depth in penguins, but here we see the opposite. This could be a result of the differences in penguin species, so let's go ahead and add it as another dimension to our plot!"
   ]
  },
  {
   "cell_type": "code",
   "execution_count": null,
   "id": "70b1c5cc",
   "metadata": {},
   "outputs": [],
   "source": [
    "# Add libraries\n",
    "import pandas as pd\n",
    "import seaborn as sns\n",
    "import matplotlib.pyplot as plt\n",
    "\n",
    "# Create DataFrame using pandas\n",
    "df = pd.read_csv(\"penguins_wrangled.csv\")\n",
    "\n",
    "# Create the plot\n",
    "sns.lmplot(x = \"Culmen Depth (mm)\", y = \"Body Mass (g)\", hue = \"Species\", data = df)\n",
    "\n",
    "# Add a title\n",
    "plt.title(\"Culmen Depth vs. Body Mass for Species\")\n",
    "\n",
    "# Display the plot\n",
    "plt.show()"
   ]
  },
  {
   "cell_type": "markdown",
   "id": "d7160329",
   "metadata": {},
   "source": [
    "### Box plot\n",
    "Box plots, or box-and-whisker plots, are another helpful visualization to understand the distribution of our data. Let's practice making a box plot in Seaborn using the same dataset from our previous example!"
   ]
  },
  {
   "cell_type": "code",
   "execution_count": 42,
   "id": "90d536ef",
   "metadata": {
    "scrolled": true
   },
   "outputs": [
    {
     "data": {
      "image/png": "[encoded data removed]",
      "text/plain": [
       "<Figure size 432x288 with 1 Axes>"
      ]
     },
     "metadata": {
      "needs_background": "light"
     },
     "output_type": "display_data"
    }
   ],
   "source": [
    "# Add libraries\n",
    "import pandas as pd\n",
    "import seaborn as sns\n",
    "import matplotlib.pyplot as plt\n",
    "\n",
    "# Create DataFrame using pandas\n",
    "# We also do not need to create our dataframe more than once in a Jupyter notebook. \n",
    "# For the sake of practice, we'll do it again!\n",
    "df = pd.read_csv(\"penguins_wrangled.csv\")\n",
    "\n",
    "# Create a box plot for the variables 'Body Mass (g)' and 'Sex'\n",
    "sns.boxplot(x = \"Sex\", y = \"Flipper Length (mm)\", data = df)\n",
    "\n",
    "# Display the plot\n",
    "plt.show()"
   ]
  },
  {
   "cell_type": "markdown",
   "id": "f6dc2b6e",
   "metadata": {},
   "source": [
    "What if we wanted to compare flipper length by sex AND by species? We can add this to our box plot by adding color, using the hue parameter within sns.boxplot( ). Let's try it out!"
   ]
  },
  {
   "cell_type": "code",
   "execution_count": 44,
   "id": "2800ac9b",
   "metadata": {},
   "outputs": [
    {
     "data": {
      "image/png": "[encoded data removed]",
      "text/plain": [
       "<Figure size 432x288 with 1 Axes>"
      ]
     },
     "metadata": {
      "needs_background": "light"
     },
     "output_type": "display_data"
    }
   ],
   "source": [
    "# Add libraries\n",
    "import pandas as pd\n",
    "import seaborn as sns\n",
    "import matplotlib.pyplot as plt\n",
    "\n",
    "# Create DataFrame using pandas\n",
    "df = pd.read_csv(\"penguins_wrangled.csv\")\n",
    "\n",
    "# Create a box plot for the variables 'Body Mass (g)' and 'Sex'\n",
    "sns.boxplot(x = \"Sex\", y = \"Flipper Length (mm)\", data = df, hue = \"Species\")\n",
    "\n",
    "# Edits legend so that it does not block the box drawings\n",
    "plt.legend(bbox_to_anchor = (1.75, 0.6))\n",
    "\n",
    "# Add a title\n",
    "plt.title(\"Flipper Length (mm) by Sex and Species\")\n",
    "\n",
    "# Display the plot\n",
    "plt.show()"
   ]
  },
  {
   "cell_type": "markdown",
   "id": "36a58d6d",
   "metadata": {},
   "source": [
    "### Mosaic Plot (Segmented Bar Chart)\n",
    "\n"
   ]
  },
  {
   "cell_type": "code",
   "execution_count": 2,
   "id": "e71bff75",
   "metadata": {},
   "outputs": [
    {
     "data": {
      "text/plain": [
       "(<Figure size 432x288 with 3 Axes>,\n",
       " {('Adelie Penguin (Pygoscelis adeliae)', 'Torgersen'): (0.0,\n",
       "   0.0,\n",
       "   0.43409746380043407,\n",
       "   0.3197859022044815),\n",
       "  ('Adelie Penguin (Pygoscelis adeliae)', 'Biscoe'): (0.0,\n",
       "   0.3230971604826272,\n",
       "   0.43409746380043407,\n",
       "   0.2993740361063231),\n",
       "  ('Adelie Penguin (Pygoscelis adeliae)', 'Dream'): (0.0,\n",
       "   0.625782454867096,\n",
       "   0.43409746380043407,\n",
       "   0.37421754513290384),\n",
       "  ('Chinstrap penguin (Pygoscelis antarctica)',\n",
       "   'Torgersen'): (0.439047958849939, 0.0, 0.20218238040020214, 0.0),\n",
       "  ('Chinstrap penguin (Pygoscelis antarctica)', 'Biscoe'): (0.439047958849939,\n",
       "   0.003311258278145696,\n",
       "   0.20218238040020214,\n",
       "   0.0),\n",
       "  ('Chinstrap penguin (Pygoscelis antarctica)', 'Dream'): (0.439047958849939,\n",
       "   0.006622516556291392,\n",
       "   0.20218238040020214,\n",
       "   0.9933774834437087),\n",
       "  ('Gentoo penguin (Pygoscelis papua)', 'Torgersen'): (0.6461808342996461,\n",
       "   0.0,\n",
       "   0.3538191657003539,\n",
       "   0.0),\n",
       "  ('Gentoo penguin (Pygoscelis papua)', 'Biscoe'): (0.6461808342996461,\n",
       "   0.003311258278145696,\n",
       "   0.3538191657003539,\n",
       "   0.9933774834437087),\n",
       "  ('Gentoo penguin (Pygoscelis papua)', 'Dream'): (0.6461808342996461,\n",
       "   1.0,\n",
       "   0.3538191657003539,\n",
       "   0.0)})"
      ]
     },
     "execution_count": 2,
     "metadata": {},
     "output_type": "execute_result"
    },
    {
     "data": {
      "image/png": "[encoded data removed]",
      "text/plain": [
       "<Figure size 432x288 with 3 Axes>"
      ]
     },
     "metadata": {
      "needs_background": "light"
     },
     "output_type": "display_data"
    }
   ],
   "source": [
    "# Add libraries\n",
    "import pandas as pd\n",
    "import seaborn as sns\n",
    "import matplotlib.pyplot as plt\n",
    "from statsmodels.graphics.mosaicplot import mosaic\n",
    "\n",
    "# Create DataFrame using pandas\n",
    "df = pd.read_csv(\"penguins_wrangled.csv\")\n",
    "\n",
    "mosaic(df, index = [\"Species\", \"Island\"])"
   ]
  },
  {
   "cell_type": "code",
   "execution_count": null,
   "id": "202f4536",
   "metadata": {},
   "outputs": [],
   "source": []
  }
 ],
 "metadata": {
  "kernelspec": {
   "display_name": "Python 3 (ipykernel)",
   "language": "python",
   "name": "python3"
  },
  "language_info": {
   "codemirror_mode": {
    "name": "ipython",
    "version": 3
   },
   "file_extension": ".py",
   "mimetype": "text/x-python",
   "name": "python",
   "nbconvert_exporter": "python",
   "pygments_lexer": "ipython3",
   "version": "3.9.12"
  }
 },
 "nbformat": 4,
 "nbformat_minor": 5
}
