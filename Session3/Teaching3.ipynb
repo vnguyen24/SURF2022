{
 "cells": [
  {
   "cell_type": "markdown",
   "id": "152634f4",
   "metadata": {},
   "source": [
    "# Multivariate Exploratory Data Analysis\n",
    "\n",
    "## Lesson Overview\n",
    "Welcome to lesson three! Today, we will dive into creating, describing, and visualizing multivariate data relationships by using the Matplotlib, Pandas, and Seaborn libraries in Python.\n",
    "\n",
    "By the end of this lesson you will be able to:\n",
    "* Calculate the correlation coefficient \n",
    "* Construct a contingency table\n",
    "* Practice importing dataframes\n",
    "* Build plots to describe multiple variables within a single dataset"
   ]
  },
  {
   "cell_type": "markdown",
   "id": "a9218fd7",
   "metadata": {},
   "source": [
    "## Importing a dataframe from a csv file\n",
    "\n",
    "We can import a csv file to work with external data. In order to do so, we are going to use pd.read_csv(\"nameOfFile.csv).\n",
    "\n",
    "**Note** : your file must be stored in the same folder as this jupyter notebook."
   ]
  },
  {
   "cell_type": "code",
   "execution_count": 47,
   "id": "deccc2aa",
   "metadata": {},
   "outputs": [],
   "source": [
    "penguins = pd.read_csv(\"penguins_wrangled.csv\")"
   ]
  },
  {
   "cell_type": "markdown",
   "id": "b6959464",
   "metadata": {},
   "source": [
    "Now, we can look at the first few rows by typing dataframe.head(), or the last few rows by typing dataframe.tail()"
   ]
  },
  {
   "cell_type": "code",
   "execution_count": 48,
   "id": "40483077",
   "metadata": {},
   "outputs": [
    {
     "data": {
      "text/html": [
       "<div>\n",
       "<style scoped>\n",
       "    .dataframe tbody tr th:only-of-type {\n",
       "        vertical-align: middle;\n",
       "    }\n",
       "\n",
       "    .dataframe tbody tr th {\n",
       "        vertical-align: top;\n",
       "    }\n",
       "\n",
       "    .dataframe thead th {\n",
       "        text-align: right;\n",
       "    }\n",
       "</style>\n",
       "<table border=\"1\" class=\"dataframe\">\n",
       "  <thead>\n",
       "    <tr style=\"text-align: right;\">\n",
       "      <th></th>\n",
       "      <th>Unnamed: 0</th>\n",
       "      <th>studyName</th>\n",
       "      <th>Sample Number</th>\n",
       "      <th>Species</th>\n",
       "      <th>Region</th>\n",
       "      <th>Island</th>\n",
       "      <th>Stage</th>\n",
       "      <th>Individual ID</th>\n",
       "      <th>Clutch Completion</th>\n",
       "      <th>Date Egg</th>\n",
       "      <th>Culmen Length (mm)</th>\n",
       "      <th>Culmen Depth (mm)</th>\n",
       "      <th>Flipper Length (mm)</th>\n",
       "      <th>Body Mass (g)</th>\n",
       "      <th>Sex</th>\n",
       "      <th>Delta 15 N (o/oo)</th>\n",
       "      <th>Delta 13 C (o/oo)</th>\n",
       "      <th>Comments</th>\n",
       "    </tr>\n",
       "  </thead>\n",
       "  <tbody>\n",
       "    <tr>\n",
       "      <th>0</th>\n",
       "      <td>0</td>\n",
       "      <td>PAL0708</td>\n",
       "      <td>1</td>\n",
       "      <td>Adelie</td>\n",
       "      <td>Anvers</td>\n",
       "      <td>Torgersen</td>\n",
       "      <td>Adult, 1 Egg Stage</td>\n",
       "      <td>N1A1</td>\n",
       "      <td>Yes</td>\n",
       "      <td>11/11/07</td>\n",
       "      <td>39.1</td>\n",
       "      <td>18.7</td>\n",
       "      <td>181.0</td>\n",
       "      <td>3750.0</td>\n",
       "      <td>MALE</td>\n",
       "      <td>NaN</td>\n",
       "      <td>NaN</td>\n",
       "      <td>Not enough blood for isotopes.</td>\n",
       "    </tr>\n",
       "    <tr>\n",
       "      <th>1</th>\n",
       "      <td>1</td>\n",
       "      <td>PAL0708</td>\n",
       "      <td>2</td>\n",
       "      <td>Adelie</td>\n",
       "      <td>Anvers</td>\n",
       "      <td>Torgersen</td>\n",
       "      <td>Adult, 1 Egg Stage</td>\n",
       "      <td>N1A2</td>\n",
       "      <td>Yes</td>\n",
       "      <td>11/11/07</td>\n",
       "      <td>39.5</td>\n",
       "      <td>17.4</td>\n",
       "      <td>186.0</td>\n",
       "      <td>3800.0</td>\n",
       "      <td>FEMALE</td>\n",
       "      <td>8.94956</td>\n",
       "      <td>-24.69454</td>\n",
       "      <td>NaN</td>\n",
       "    </tr>\n",
       "    <tr>\n",
       "      <th>2</th>\n",
       "      <td>2</td>\n",
       "      <td>PAL0708</td>\n",
       "      <td>3</td>\n",
       "      <td>Adelie</td>\n",
       "      <td>Anvers</td>\n",
       "      <td>Torgersen</td>\n",
       "      <td>Adult, 1 Egg Stage</td>\n",
       "      <td>N2A1</td>\n",
       "      <td>Yes</td>\n",
       "      <td>11/16/07</td>\n",
       "      <td>40.3</td>\n",
       "      <td>18.0</td>\n",
       "      <td>195.0</td>\n",
       "      <td>3250.0</td>\n",
       "      <td>FEMALE</td>\n",
       "      <td>8.36821</td>\n",
       "      <td>-25.33302</td>\n",
       "      <td>NaN</td>\n",
       "    </tr>\n",
       "    <tr>\n",
       "      <th>3</th>\n",
       "      <td>4</td>\n",
       "      <td>PAL0708</td>\n",
       "      <td>5</td>\n",
       "      <td>Adelie</td>\n",
       "      <td>Anvers</td>\n",
       "      <td>Torgersen</td>\n",
       "      <td>Adult, 1 Egg Stage</td>\n",
       "      <td>N3A1</td>\n",
       "      <td>Yes</td>\n",
       "      <td>11/16/07</td>\n",
       "      <td>36.7</td>\n",
       "      <td>19.3</td>\n",
       "      <td>193.0</td>\n",
       "      <td>3450.0</td>\n",
       "      <td>FEMALE</td>\n",
       "      <td>8.76651</td>\n",
       "      <td>-25.32426</td>\n",
       "      <td>NaN</td>\n",
       "    </tr>\n",
       "    <tr>\n",
       "      <th>4</th>\n",
       "      <td>5</td>\n",
       "      <td>PAL0708</td>\n",
       "      <td>6</td>\n",
       "      <td>Adelie</td>\n",
       "      <td>Anvers</td>\n",
       "      <td>Torgersen</td>\n",
       "      <td>Adult, 1 Egg Stage</td>\n",
       "      <td>N3A2</td>\n",
       "      <td>Yes</td>\n",
       "      <td>11/16/07</td>\n",
       "      <td>39.3</td>\n",
       "      <td>20.6</td>\n",
       "      <td>190.0</td>\n",
       "      <td>3650.0</td>\n",
       "      <td>MALE</td>\n",
       "      <td>8.66496</td>\n",
       "      <td>-25.29805</td>\n",
       "      <td>NaN</td>\n",
       "    </tr>\n",
       "  </tbody>\n",
       "</table>\n",
       "</div>"
      ],
      "text/plain": [
       "   Unnamed: 0 studyName  Sample Number Species  Region     Island  \\\n",
       "0           0   PAL0708              1  Adelie  Anvers  Torgersen   \n",
       "1           1   PAL0708              2  Adelie  Anvers  Torgersen   \n",
       "2           2   PAL0708              3  Adelie  Anvers  Torgersen   \n",
       "3           4   PAL0708              5  Adelie  Anvers  Torgersen   \n",
       "4           5   PAL0708              6  Adelie  Anvers  Torgersen   \n",
       "\n",
       "                Stage Individual ID Clutch Completion  Date Egg  \\\n",
       "0  Adult, 1 Egg Stage          N1A1               Yes  11/11/07   \n",
       "1  Adult, 1 Egg Stage          N1A2               Yes  11/11/07   \n",
       "2  Adult, 1 Egg Stage          N2A1               Yes  11/16/07   \n",
       "3  Adult, 1 Egg Stage          N3A1               Yes  11/16/07   \n",
       "4  Adult, 1 Egg Stage          N3A2               Yes  11/16/07   \n",
       "\n",
       "   Culmen Length (mm)  Culmen Depth (mm)  Flipper Length (mm)  Body Mass (g)  \\\n",
       "0                39.1               18.7                181.0         3750.0   \n",
       "1                39.5               17.4                186.0         3800.0   \n",
       "2                40.3               18.0                195.0         3250.0   \n",
       "3                36.7               19.3                193.0         3450.0   \n",
       "4                39.3               20.6                190.0         3650.0   \n",
       "\n",
       "      Sex  Delta 15 N (o/oo)  Delta 13 C (o/oo)  \\\n",
       "0    MALE                NaN                NaN   \n",
       "1  FEMALE            8.94956          -24.69454   \n",
       "2  FEMALE            8.36821          -25.33302   \n",
       "3  FEMALE            8.76651          -25.32426   \n",
       "4    MALE            8.66496          -25.29805   \n",
       "\n",
       "                         Comments  \n",
       "0  Not enough blood for isotopes.  \n",
       "1                             NaN  \n",
       "2                             NaN  \n",
       "3                             NaN  \n",
       "4                             NaN  "
      ]
     },
     "execution_count": 48,
     "metadata": {},
     "output_type": "execute_result"
    }
   ],
   "source": [
    "penguins.head()"
   ]
  },
  {
   "cell_type": "markdown",
   "id": "23effbaf",
   "metadata": {},
   "source": [
    "## Multivariate Non-Graphical"
   ]
  },
  {
   "cell_type": "markdown",
   "id": "697b1429",
   "metadata": {},
   "source": [
    "### Correlation Coefficient "
   ]
  },
  {
   "cell_type": "markdown",
   "id": "4572599f",
   "metadata": {},
   "source": [
    "To calculate correlation we will make use of the corr() function. We will follow the format dataframe.corr()\n",
    "\n",
    "**Meanings**:\n",
    "* 1: Full correlation. If one variable increases, so does the other\n",
    "* 0: No correlation.\n",
    "* -1: Full negative correlation. If one variable increases, the other decreases."
   ]
  },
  {
   "cell_type": "code",
   "execution_count": 35,
   "id": "af50d18e",
   "metadata": {},
   "outputs": [
    {
     "name": "stdout",
     "output_type": "stream",
     "text": [
      "                     Unnamed: 0  Sample Number  Culmen Length (mm)  \\\n",
      "Unnamed: 0             1.000000       0.137114            0.703662   \n",
      "Sample Number          0.137114       1.000000           -0.264023   \n",
      "Culmen Length (mm)     0.703662      -0.264023            1.000000   \n",
      "Culmen Depth (mm)     -0.691711      -0.009061           -0.228626   \n",
      "Flipper Length (mm)    0.831031       0.019753            0.653096   \n",
      "Body Mass (g)          0.692066      -0.025134            0.589451   \n",
      "Delta 15 N (o/oo)     -0.371663       0.013260           -0.056942   \n",
      "Delta 13 C (o/oo)     -0.254498      -0.486510            0.196765   \n",
      "\n",
      "                     Culmen Depth (mm)  Flipper Length (mm)  Body Mass (g)  \\\n",
      "Unnamed: 0                   -0.691711             0.831031       0.692066   \n",
      "Sample Number                -0.009061             0.019753      -0.025134   \n",
      "Culmen Length (mm)           -0.228626             0.653096       0.589451   \n",
      "Culmen Depth (mm)             1.000000            -0.577792      -0.472016   \n",
      "Flipper Length (mm)          -0.577792             1.000000       0.872979   \n",
      "Body Mass (g)                -0.472016             0.872979       1.000000   \n",
      "Delta 15 N (o/oo)             0.599481            -0.501601      -0.539795   \n",
      "Delta 13 C (o/oo)             0.424233            -0.369678      -0.371105   \n",
      "\n",
      "                     Delta 15 N (o/oo)  Delta 13 C (o/oo)  \n",
      "Unnamed: 0                   -0.371663          -0.254498  \n",
      "Sample Number                 0.013260          -0.486510  \n",
      "Culmen Length (mm)           -0.056942           0.196765  \n",
      "Culmen Depth (mm)             0.599481           0.424233  \n",
      "Flipper Length (mm)          -0.501601          -0.369678  \n",
      "Body Mass (g)                -0.539795          -0.371105  \n",
      "Delta 15 N (o/oo)             1.000000           0.569393  \n",
      "Delta 13 C (o/oo)             0.569393           1.000000  \n"
     ]
    }
   ],
   "source": [
    "# Let's see the correlation for penguins' variables\n",
    "\n",
    "penguins_corr = penguins.corr()\n",
    "print(penguins_corr)"
   ]
  },
  {
   "cell_type": "markdown",
   "id": "39a8e9b6",
   "metadata": {},
   "source": [
    "This table is quite confusing to look at, since it is showing us the correlation coefficient between **ALL** variables. So, if we want to look at two specific variables, we can use the same correlation table and indicate our variables by typing: correlationTable.loc[\"columnName1\", \"columnName2\"]"
   ]
  },
  {
   "cell_type": "code",
   "execution_count": 36,
   "id": "3d07f879",
   "metadata": {},
   "outputs": [
    {
     "name": "stdout",
     "output_type": "stream",
     "text": [
      "-0.22862563591303017\n"
     ]
    }
   ],
   "source": [
    "# Let's check the correlation between Culmen Length and Culmen Depth\n",
    "culmen_corr = penguins_corr.loc[\"Culmen Length (mm)\", \"Culmen Depth (mm)\"]\n",
    "print(culmen_corr)"
   ]
  },
  {
   "cell_type": "markdown",
   "id": "dad0e382",
   "metadata": {},
   "source": [
    "### Contingency Table"
   ]
  },
  {
   "cell_type": "markdown",
   "id": "f9422732",
   "metadata": {},
   "source": [
    "To create a contingency table we can type pd.crosstab(dataframe[\"columnName1\"], dataframe[\"columnName2\"])\n",
    "\n",
    "**Parameters** :\n",
    "* dataframe[column1]\n",
    "* dataframe[column2]\n",
    "* margins = True ; this will calculate the total for each row/column"
   ]
  },
  {
   "cell_type": "code",
   "execution_count": 37,
   "id": "3efbbe77",
   "metadata": {},
   "outputs": [
    {
     "name": "stdout",
     "output_type": "stream",
     "text": [
      "Island                                     Biscoe  Dream  Torgersen  All\n",
      "Species                                                                 \n",
      "Adelie Penguin (Pygoscelis adeliae)            44     55         47  146\n",
      "Chinstrap penguin (Pygoscelis antarctica)       0     68          0   68\n",
      "Gentoo penguin (Pygoscelis papua)             119      0          0  119\n",
      "All                                           163    123         47  333\n"
     ]
    }
   ],
   "source": [
    "# To create a contingency table we can type pd.crosstab(dataframe[\"columnName1\"], dataframe[\"columnName2\"])\n",
    "\n",
    "freq_three = pd.crosstab(penguins[\"Species\"], penguins[\"Island\"], margins = True)\n",
    "print(freq_three)"
   ]
  },
  {
   "cell_type": "code",
   "execution_count": 38,
   "id": "a3d875c0",
   "metadata": {},
   "outputs": [
    {
     "name": "stdout",
     "output_type": "stream",
     "text": [
      "| Species                                   |   Biscoe |   Dream |   Torgersen |   All |\n",
      "|:------------------------------------------|---------:|--------:|------------:|------:|\n",
      "| Adelie Penguin (Pygoscelis adeliae)       |       44 |      55 |          47 |   146 |\n",
      "| Chinstrap penguin (Pygoscelis antarctica) |        0 |      68 |           0 |    68 |\n",
      "| Gentoo penguin (Pygoscelis papua)         |      119 |       0 |           0 |   119 |\n",
      "| All                                       |      163 |     123 |          47 |   333 |\n"
     ]
    }
   ],
   "source": [
    "# We can also add to_markdown() at the end for visualization\n",
    "\n",
    "freq_three = pd.crosstab(penguins[\"Species\"], penguins[\"Island\"], margins = True).to_markdown()\n",
    "print(freq_three)"
   ]
  },
  {
   "cell_type": "markdown",
   "id": "14efeede",
   "metadata": {},
   "source": [
    "If we want to see a table of proportions we can add one extra parameter: normalize.\n",
    "\n",
    "**Parameters** :\n",
    "* dataframe[column1]\n",
    "* dataframe[column2]\n",
    "* margins = True ; this will calculate the total for each row/column\n",
    "* normalize = True ;this will calculate proportions instead of coutns"
   ]
  },
  {
   "cell_type": "code",
   "execution_count": 52,
   "id": "fd6f429c",
   "metadata": {},
   "outputs": [
    {
     "name": "stdout",
     "output_type": "stream",
     "text": [
      "| Species   |   Biscoe |    Dream |   Torgersen |      All |\n",
      "|:----------|---------:|---------:|------------:|---------:|\n",
      "| Adelie    | 0.132132 | 0.165165 |    0.141141 | 0.438438 |\n",
      "| Chinstrap | 0        | 0.204204 |    0        | 0.204204 |\n",
      "| Gentoo    | 0.357357 | 0        |    0        | 0.357357 |\n",
      "| All       | 0.489489 | 0.369369 |    0.141141 | 1        |\n"
     ]
    }
   ],
   "source": [
    "# If we want to see a table of proportions, we have to type \"normalize = True\" as a parameter\n",
    "\n",
    "prop_one = pd.crosstab(penguins[\"Species\"], penguins[\"Island\"], margins = True, normalize = True).to_markdown()\n",
    "print(prop_one)"
   ]
  },
  {
   "cell_type": "markdown",
   "id": "8937273c",
   "metadata": {},
   "source": [
    "## Multivariate Data Visualization\n",
    "\n",
    "Now that we understand how Python can help us numerically analyze our multivariate data, let's see what Python's plotting tools can do to help visualize our data! Using the Matplotlib and Seaborn libraries for plot making, and the pandas library for importing data, we will learn how to create scatter plots, bar plots, linear model plots, and box plots to describe the relationships between variables in our dataset. \n",
    "  \n",
    "We will practice loading libraries at the beginning of every new plot, but as a reminder, libraries only need to be imported once per Jupyter notebook. This repetition is meant to help you build the healthy habit of remembering to load your libraries at the beginning of your work. Additionally, one chunk produces only one plot. So all of the work you do in a chunk will only affect a single graph. Now, let's begin!"
   ]
  },
  {
   "cell_type": "markdown",
   "id": "117ade2e",
   "metadata": {},
   "source": [
    "### Bar plot\n",
    "Bar plots are another helpful data visualization that statisticians use to compare the values of various groups. Bar plots can be both vertical and horizontal, and they offer a relationship between a categorical and a continuous variable. Let's practice making them both ways!"
   ]
  },
  {
   "cell_type": "markdown",
   "id": "dc284215",
   "metadata": {},
   "source": [
    "Let's go back to the penguins dataset! However, we will be using a sub-dataframe that we have created for you, since we want to work with specific counts. It is possible to work directly with our original dataframe, nonetheless, for a barplot this requires data cleaning and wrangling, which is beyond the scope of this course."
   ]
  },
  {
   "cell_type": "code",
   "execution_count": 39,
   "id": "886f0983",
   "metadata": {
    "scrolled": true
   },
   "outputs": [
    {
     "data": {
      "text/html": [
       "<div>\n",
       "<style scoped>\n",
       "    .dataframe tbody tr th:only-of-type {\n",
       "        vertical-align: middle;\n",
       "    }\n",
       "\n",
       "    .dataframe tbody tr th {\n",
       "        vertical-align: top;\n",
       "    }\n",
       "\n",
       "    .dataframe thead th {\n",
       "        text-align: right;\n",
       "    }\n",
       "</style>\n",
       "<table border=\"1\" class=\"dataframe\">\n",
       "  <thead>\n",
       "    <tr style=\"text-align: right;\">\n",
       "      <th></th>\n",
       "      <th>Unnamed: 0</th>\n",
       "      <th>Species</th>\n",
       "      <th>Count</th>\n",
       "    </tr>\n",
       "  </thead>\n",
       "  <tbody>\n",
       "    <tr>\n",
       "      <th>0</th>\n",
       "      <td>0</td>\n",
       "      <td>Adelie Penguin (Pygoscelis adeliae)</td>\n",
       "      <td>152</td>\n",
       "    </tr>\n",
       "    <tr>\n",
       "      <th>1</th>\n",
       "      <td>1</td>\n",
       "      <td>Chinstrap penguin (Pygoscelis antarctica)</td>\n",
       "      <td>68</td>\n",
       "    </tr>\n",
       "    <tr>\n",
       "      <th>2</th>\n",
       "      <td>2</td>\n",
       "      <td>Gentoo penguin (Pygoscelis papua)</td>\n",
       "      <td>124</td>\n",
       "    </tr>\n",
       "  </tbody>\n",
       "</table>\n",
       "</div>"
      ],
      "text/plain": [
       "   Unnamed: 0                                    Species  Count\n",
       "0           0        Adelie Penguin (Pygoscelis adeliae)    152\n",
       "1           1  Chinstrap penguin (Pygoscelis antarctica)     68\n",
       "2           2          Gentoo penguin (Pygoscelis papua)    124"
      ]
     },
     "execution_count": 39,
     "metadata": {},
     "output_type": "execute_result"
    }
   ],
   "source": [
    "# Add libraries\n",
    "import matplotlib.pyplot as plt\n",
    "import seaborn as sns\n",
    "import pandas as pd\n",
    "\n",
    "# Import sub-Dataframe and look at it\n",
    "species_counts = pd.read_csv(\"penguins_counts.csv\")\n",
    "\n",
    "species_counts.head()"
   ]
  },
  {
   "cell_type": "markdown",
   "id": "9127182d",
   "metadata": {},
   "source": [
    "**Parameters**: \n",
    "* data = dataframe\n",
    "* x = show each category from this variable\n",
    "* y = numerical values for the y axis (Generally counts, but we can also display the mean for all values in one column)"
   ]
  },
  {
   "cell_type": "code",
   "execution_count": 40,
   "id": "b75f4699",
   "metadata": {},
   "outputs": [
    {
     "data": {
      "image/png": "[encoded data removed]",
      "text/plain": [
       "<Figure size 432x288 with 1 Axes>"
      ]
     },
     "metadata": {
      "needs_background": "light"
     },
     "output_type": "display_data"
    }
   ],
   "source": [
    "sns.barplot(data = species_counts, x = \"Species\", y =\"Count\")\n",
    "plt.xticks([0,1,2],[\"Adelie\", \"Chinstap\", \"Gentoo\"])\n",
    "plt.show()"
   ]
  },
  {
   "cell_type": "markdown",
   "id": "545a263b",
   "metadata": {},
   "source": [
    "Similarly, if we do not have access to the sub-dataframe or we can't perform data cleaning, we can create a **countplot.**\n",
    "A countplot will count how many times each category from a variable (the x parameter) is repeated.\n",
    "\n",
    "**Parameters**: \n",
    "* data = dataframe\n",
    "* x = count how many times each category is repeated"
   ]
  },
  {
   "cell_type": "code",
   "execution_count": 41,
   "id": "d7d9c34f",
   "metadata": {},
   "outputs": [
    {
     "data": {
      "image/png": "[encoded data removed]",
      "text/plain": [
       "<Figure size 432x288 with 1 Axes>"
      ]
     },
     "metadata": {
      "needs_background": "light"
     },
     "output_type": "display_data"
    }
   ],
   "source": [
    "sns.countplot(data = penguins, x = \"Species\")\n",
    "plt.show()"
   ]
  },
  {
   "cell_type": "markdown",
   "id": "19d30bb0",
   "metadata": {},
   "source": [
    "Now, what if we want to see how the counts change by also adding island? We can do so by introducing a new parameter: hue. Hue will make a distinction (by colors) for each level of the categorical variable we're adding.\n",
    "\n",
    "**Parameters**: \n",
    "* data = dataframe\n",
    "* x = count how many times each category is repeated\n",
    "* hue = assigns a unique color to each category from this variable\n"
   ]
  },
  {
   "cell_type": "code",
   "execution_count": 42,
   "id": "f44b14d9",
   "metadata": {},
   "outputs": [
    {
     "data": {
      "image/png": "[encoded data removed]",
      "text/plain": [
       "<Figure size 432x288 with 1 Axes>"
      ]
     },
     "metadata": {
      "needs_background": "light"
     },
     "output_type": "display_data"
    }
   ],
   "source": [
    "sns.countplot(data = penguins, x = \"Species\", hue = \"Island\")\n",
    "plt.show()"
   ]
  },
  {
   "cell_type": "markdown",
   "id": "b99d582a",
   "metadata": {},
   "source": [
    "What if we also want to see how the data changes by sex? "
   ]
  },
  {
   "cell_type": "markdown",
   "id": "55279a12",
   "metadata": {},
   "source": [
    "We will use the function catplot, which shows the relationship between a numerical and one or more categorical variables using one of several visual representations. "
   ]
  },
  {
   "cell_type": "markdown",
   "id": "76d4cc9e",
   "metadata": {},
   "source": [
    "**Parameters**: \n",
    "* data = dataframe\n",
    "* x = Count of each response to this categorical variable\n",
    "* hue = assigns a unique color to each category from this variable\n",
    "* col = Create as many graphs as categories from this variable\n",
    "* kind = kind of visualization we're using, for now we will only use count"
   ]
  },
  {
   "cell_type": "code",
   "execution_count": 43,
   "id": "76d14257",
   "metadata": {},
   "outputs": [
    {
     "data": {
      "image/png": "[encoded data removed]",
      "text/plain": [
       "<Figure size 1155.25x360 with 3 Axes>"
      ]
     },
     "metadata": {
      "needs_background": "light"
     },
     "output_type": "display_data"
    }
   ],
   "source": [
    "sns.catplot(data = penguins, x = \"Species\", hue = \"Sex\", col = \"Island\", kind = \"count\")\n",
    "plt.xticks([0,1,2],[\"Adelie\", \"Chinstap\", \"Gentoo\"])\n",
    "plt.show()"
   ]
  },
  {
   "cell_type": "markdown",
   "id": "eba1aadd",
   "metadata": {},
   "source": [
    "### Histogram plot\n",
    "\n",
    "Histograms are a common way to visualize the distribution of a single numeric variable. Furthermore, it shows the probability distribution of a continuous variable, so we will certainly need to use these in our statistical analysis. Let's see how to make histograms using the hist( ) method.\n",
    "\n",
    "Here we will need to specify the data, bins, and density.\n",
    "\n",
    "* bins = \"auto\" will choose the best bin edges\n",
    "* density = True will set the area within the histogram to 1.0"
   ]
  },
  {
   "cell_type": "code",
   "execution_count": null,
   "id": "1d9665fb",
   "metadata": {},
   "outputs": [],
   "source": [
    "penguins.head()"
   ]
  },
  {
   "cell_type": "code",
   "execution_count": null,
   "id": "b9857323",
   "metadata": {
    "scrolled": true
   },
   "outputs": [],
   "source": [
    "# Add libraries\n",
    "import matplotlib.pyplot as plt\n",
    "\n",
    "# Plot the histogram\n",
    "sns.histplot(penguins[\"Culmen Length (mm)\"], bins = \"auto\")\n",
    "\n",
    "# Label axis\n",
    "plt.xlabel(\"Culmen Length (mm)\")\n",
    "plt.ylabel(\"Frequency\")\n",
    "\n",
    "# Add title\n",
    "plt.title(\"Culmen Length Distribution\")\n",
    "\n",
    "# Display the graph\n",
    "plt.show()"
   ]
  },
  {
   "cell_type": "code",
   "execution_count": null,
   "id": "9e353a79",
   "metadata": {},
   "outputs": [],
   "source": [
    "# Add libraries\n",
    "import matplotlib.pyplot as plt\n",
    "\n",
    "# Plot the histogram\n",
    "sns.histplot(data = penguins, x = \"Culmen Length (mm)\", hue = \"Island\", palette = \"colorblind\")\n",
    "plt.show()"
   ]
  },
  {
   "cell_type": "code",
   "execution_count": null,
   "id": "7365ce17",
   "metadata": {},
   "outputs": [],
   "source": [
    "# The format we will use is sns.kdeplot(dataframe[\"columnName\"])\n",
    "g = sns.FacetGrid(data = penguins, col = \"Island\", hue = \"Sex\", palette = \"colorblind\")\n",
    "g.map(sns.histplot, \"Culmen Length (mm)\")\n",
    "\n",
    "# Display the plot\n",
    "plt.show()"
   ]
  },
  {
   "cell_type": "markdown",
   "id": "5d660158",
   "metadata": {},
   "source": [
    "### Density plot"
   ]
  },
  {
   "cell_type": "code",
   "execution_count": null,
   "id": "e814f214",
   "metadata": {},
   "outputs": [],
   "source": [
    "penguins.head()"
   ]
  },
  {
   "cell_type": "code",
   "execution_count": null,
   "id": "9d1f739d",
   "metadata": {},
   "outputs": [],
   "source": [
    "# The format we will use is sns.kdeplot(dataframe[\"columnName\"])\n",
    "sns.displot(penguins, x = \"Culmen Depth (mm)\", kind=\"kde\")\n",
    "\n",
    "# Display the plot\n",
    "plt.show()"
   ]
  },
  {
   "cell_type": "code",
   "execution_count": null,
   "id": "aeef6f26",
   "metadata": {},
   "outputs": [],
   "source": [
    "# The format we will use is sns.kdeplot(dataframe[\"columnName\"])\n",
    "sns.displot(penguins, x = \"Culmen Depth (mm)\", hue = \"Species\", kind=\"kde\", palette = \"colorblind\")\n",
    "\n",
    "# Display the plot\n",
    "plt.show()"
   ]
  },
  {
   "cell_type": "code",
   "execution_count": null,
   "id": "bbf58a35",
   "metadata": {
    "scrolled": true
   },
   "outputs": [],
   "source": [
    "# The format we will use is sns.kdeplot(dataframe[\"columnName\"])\n",
    "g = sns.FacetGrid(penguins, col = \"Island\", hue = \"Sex\", palette = \"colorblind\")\n",
    "g.map(sns.kdeplot, \"Culmen Depth (mm)\", warn_singular=False)\n",
    "\n",
    "# Display the plot\n",
    "plt.show()"
   ]
  },
  {
   "cell_type": "markdown",
   "id": "609d0bfe",
   "metadata": {},
   "source": [
    "### Scatter plot\n",
    "\n",
    "Scatter plots are a helpful way to visualize the relationship between two variables in statistics. Using the Matplotlib library, we can create scatter plots for the same Penguins dataset that we have been working with thus far.\n",
    "\n",
    "**Parameters**: \n",
    "* x = quantitative variable of choice from our dataframe\n",
    "* y = quantitative variable of choice from our dataframe\n",
    "* c = colors each data point\n",
    "* marker = symbol to mark each data point\n",
    "* alpha = a stylistic parameter that changes the transparency of points, and helps us determine where there may be many points on the scatter plot"
   ]
  },
  {
   "cell_type": "code",
   "execution_count": 66,
   "id": "96739ee9",
   "metadata": {},
   "outputs": [
    {
     "data": {
      "image/png": "[encoded data removed]",
      "text/plain": [
       "<Figure size 432x288 with 1 Axes>"
      ]
     },
     "metadata": {},
     "output_type": "display_data"
    }
   ],
   "source": [
    "# As always, load libraries\n",
    "import matplotlib.pyplot as plt\n",
    "import pandas as pd\n",
    "\n",
    "# Create the data\n",
    "penguins = pd.read_csv(\"penguins_wrangled.csv\")\n",
    "\n",
    "# Draw the scatter plot\n",
    "plt.scatter(penguins[\"Flipper Length (mm)\"], penguins[\"Body Mass (g)\"], c = \"blue\", marker = \"*\", alpha = 0.5)\n",
    "\n",
    "# Add x-axis and y-axix labels\n",
    "plt.xlabel(\"Flipper Length (mm)\")\n",
    "plt.ylabel(\"Body Mass (g)\")\n",
    "\n",
    "# Add a title\n",
    "plt.title(\"Flipper Length vs. Body Mass in Penguins\")\n",
    "\n",
    "# Display the graph\n",
    "plt.show()"
   ]
  },
  {
   "cell_type": "markdown",
   "id": "ec07072d",
   "metadata": {},
   "source": [
    "### lm plots\n",
    "The lm plot displays the scattered data and fits a regression model onto it. It is exactly the same as putting the line of best fit onto our graph, and this process helps to understand the relationship between two variables. The method lmplot( ) takes the input of two column names (x and y) as a string and a DataFrame variable, and by default, fits the regression line. Let's try it out!\n",
    "\n",
    "**Parameters**: \n",
    "* x = quantitative variable of choice\n",
    "* y = quantitative variable of choice\n",
    "* data = dataframe named after loading our csv file"
   ]
  },
  {
   "cell_type": "code",
   "execution_count": null,
   "id": "7c41ee62",
   "metadata": {},
   "outputs": [],
   "source": [
    "# Add libraries\n",
    "import pandas as pd\n",
    "import seaborn as sns\n",
    "import matplotlib.pyplot as plt\n",
    "\n",
    "# Create DataFrame using pandas\n",
    "penguins = pd.read_csv(\"penguins_wrangled.csv\")\n",
    "\n",
    "# Create the plot\n",
    "sns.lmplot(data = penguins, x = \"Culmen Depth (mm)\", y = \"Body Mass (g)\")\n",
    "\n",
    "# Add a title\n",
    "plt.title(\"Culmen Depth vs. Body Mass\")\n",
    "\n",
    "# Display the plot\n",
    "plt.show()"
   ]
  },
  {
   "cell_type": "markdown",
   "id": "0e186dd4",
   "metadata": {},
   "source": [
    "If we wanted to remove the regression line, we can set the parameter fig_reg to False within the lmplot( ) method. By default, Seaborn includes the line of best fit."
   ]
  },
  {
   "cell_type": "code",
   "execution_count": null,
   "id": "d0914206",
   "metadata": {},
   "outputs": [],
   "source": [
    "# Add libraries\n",
    "import pandas as pd\n",
    "import seaborn as sns\n",
    "import matplotlib.pyplot as plt\n",
    "\n",
    "# Create DataFrame using pandas\n",
    "penguins = pd.read_csv(\"penguins_wrangled.csv\")\n",
    "\n",
    "# Create the plot\n",
    "sns.lmplot(data = penguins, x = \"Culmen Depth (mm)\", y = \"Body Mass (g)\", fit_reg = False)\n",
    "\n",
    "# Add a title\n",
    "plt.title(\"Culmen Depth vs. Body Mass\")\n",
    "\n",
    "# Display the plot\n",
    "plt.show()"
   ]
  },
  {
   "cell_type": "markdown",
   "id": "dc47e2b3",
   "metadata": {},
   "source": [
    "Huh, doesn't the above scatterplot look interesting? There are two clusters of data, which might hint that something else is going on in our data. One would assume that there would be a strong, positive association between body mass and culmen depth in penguins, but here we see the opposite. This could be a result of the differences in penguin species, so let's go ahead and add it as another dimension to our plot!"
   ]
  },
  {
   "cell_type": "code",
   "execution_count": 67,
   "id": "70b1c5cc",
   "metadata": {},
   "outputs": [
    {
     "data": {
      "image/png": "[encoded data removed]",
      "text/plain": [
       "<Figure size 446.85x360 with 1 Axes>"
      ]
     },
     "metadata": {},
     "output_type": "display_data"
    }
   ],
   "source": [
    "# Add libraries\n",
    "import pandas as pd\n",
    "import seaborn as sns\n",
    "import matplotlib.pyplot as plt\n",
    "\n",
    "# Create DataFrame using pandas\n",
    "penguins = pd.read_csv(\"penguins_wrangled.csv\")\n",
    "\n",
    "# Create the plot\n",
    "# 'hue = ' changes the color depending on the category of Species\n",
    "sns.lmplot(x = \"Culmen Depth (mm)\", y = \"Body Mass (g)\", hue = \"Species\", data = penguins)\n",
    "\n",
    "# Add a title\n",
    "plt.title(\"Culmen Depth vs. Body Mass for Species\")\n",
    "\n",
    "# Display the plot\n",
    "plt.show()"
   ]
  },
  {
   "cell_type": "markdown",
   "id": "d7160329",
   "metadata": {},
   "source": [
    "### Box plot\n",
    "Box plots, or box-and-whisker plots, are another helpful visualization to understand the distribution of our data. Let's practice making a box plot in Seaborn using the same dataset from our previous example!\n",
    "\n",
    "**Parameters**: \n",
    "* x = categorical variable of choice\n",
    "* y = quantitative variable of choice\n",
    "* data = dataframe named after loading our csv file"
   ]
  },
  {
   "cell_type": "code",
   "execution_count": 70,
   "id": "90d536ef",
   "metadata": {
    "scrolled": true
   },
   "outputs": [
    {
     "data": {
      "image/png": "[encoded data removed]",
      "text/plain": [
       "<Figure size 432x288 with 1 Axes>"
      ]
     },
     "metadata": {},
     "output_type": "display_data"
    }
   ],
   "source": [
    "# Add libraries\n",
    "import pandas as pd\n",
    "import seaborn as sns\n",
    "import matplotlib.pyplot as plt\n",
    "\n",
    "# Create DataFrame using pandas\n",
    "# We also do not need to create our dataframe more than once in a Jupyter notebook. \n",
    "# For the sake of practice, we'll do it again!\n",
    "penguins = pd.read_csv(\"penguins_wrangled.csv\")\n",
    "\n",
    "# Create a box plot for the variables 'Body Mass (g)' and 'Sex'\n",
    "sns.boxplot(data = penguins, x = \"Sex\", y = \"Flipper Length (mm)\")\n",
    "\n",
    "# Add a title\n",
    "plt.title(\"Flipper Length (mm) by Sex and Species\")\n",
    "\n",
    "# Display the plot\n",
    "plt.show()"
   ]
  },
  {
   "cell_type": "markdown",
   "id": "f6dc2b6e",
   "metadata": {},
   "source": [
    "What if we wanted to learn more about how flipper length varies by sex AND by species? We can add the 'Species' variable to our box plot by adding color, using the hue parameter within sns.boxplot( ). Let's try it out!"
   ]
  },
  {
   "cell_type": "code",
   "execution_count": 59,
   "id": "2800ac9b",
   "metadata": {},
   "outputs": [
    {
     "data": {
      "image/png": "[encoded data removed]",
      "text/plain": [
       "<Figure size 432x288 with 1 Axes>"
      ]
     },
     "metadata": {},
     "output_type": "display_data"
    }
   ],
   "source": [
    "# Add libraries\n",
    "import pandas as pd\n",
    "import seaborn as sns\n",
    "import matplotlib.pyplot as plt\n",
    "\n",
    "# Create DataFrame using pandas\n",
    "penguins = pd.read_csv(\"penguins_wrangled.csv\")\n",
    "\n",
    "# Create a box plot for the variables 'Body Mass (g)' and 'Sex'\n",
    "# Again, 'hue = ' changes the color depending on the category of Species\n",
    "sns.boxplot(data = penguins, x = \"Sex\", y = \"Flipper Length (mm)\", hue = \"Species\")\n",
    "\n",
    "# Edits legend so that it does not block the box drawings\n",
    "plt.legend(bbox_to_anchor = (1, 0.6))\n",
    "\n",
    "# Add a title\n",
    "plt.title(\"Flipper Length (mm) by Sex and Species\")\n",
    "\n",
    "# Display the plot\n",
    "plt.show()"
   ]
  },
  {
   "cell_type": "markdown",
   "id": "a85c6e5d",
   "metadata": {},
   "source": [
    "### Segmented Bar Charts\n",
    "\n",
    "Segmented bar plots are a final data visualization method that is particularly useful for comparing two categorical variables and one quantitative variable. This dataset is far from creating a perfect example of when to use a segmented bar plot, but for the sake of time, we are going to proceed with this dataset. (We would prefer another dataset for our final materials.) Let's say we were interested in knowing the total body mass of all penguins in this dataset. With a segmented bar plot, we can practice using color and formatting to compare the body mass of different species, and how sex may also play into the overall body mass.\n",
    "\n",
    "**Parameters for sns.barplot()**: \n",
    "* x = categorical variable to compare for body mass\n",
    "* y = quantitative variable to see a breakdown of\n",
    "* data = dataframe created by grouping male and female penguins\n",
    "* color = color assigned to the first and second groups"
   ]
  },
  {
   "cell_type": "code",
   "execution_count": 60,
   "id": "a37f4634",
   "metadata": {},
   "outputs": [
    {
     "data": {
      "image/png": "[encoded data removed]",
      "text/plain": [
       "<Figure size 432x288 with 1 Axes>"
      ]
     },
     "metadata": {},
     "output_type": "display_data"
    }
   ],
   "source": [
    "# import libraries\n",
    "import seaborn as sns\n",
    "import numpy as np\n",
    "import matplotlib.pyplot as plt\n",
    "import matplotlib.patches as mpatches\n",
    "\n",
    "# top bar -> sum all values(male=No and male=Yes) to find y position of the bars\n",
    "total = penguins.groupby('Species')['Body Mass (g)'].sum().reset_index()\n",
    "\n",
    "# bar chart 1 -> top bars (group of 'male=No')\n",
    "bar1 = sns.barplot(x = \"Species\",  y = \"Body Mass (g)\", data = total, color = 'darkblue')\n",
    "\n",
    "# bottom bar ->  take only male=Yes values from the data\n",
    "male = penguins[penguins.Sex == 'MALE']\n",
    "\n",
    "# bar chart 2 -> bottom bars (group of 'male=Yes')\n",
    "bar2 = sns.barplot(x = \"Species\", y = \"Body Mass (g)\", data = male, estimator = sum, color = 'lightblue')\n",
    "\n",
    "# Add legend\n",
    "top_bar = mpatches.Patch(color = 'darkblue', label = 'Female')\n",
    "bottom_bar = mpatches.Patch(color = 'lightblue', label = 'Male')\n",
    "plt.legend(handles=[top_bar, bottom_bar])\n",
    "\n",
    "# Display the graph\n",
    "plt.show()"
   ]
  },
  {
   "cell_type": "markdown",
   "id": "ed1deb44",
   "metadata": {},
   "source": []
  }
 ],
 "metadata": {
  "kernelspec": {
   "display_name": "Python 3 (ipykernel)",
   "language": "python",
   "name": "python3"
  },
  "language_info": {
   "codemirror_mode": {
    "name": "ipython",
    "version": 3
   },
   "file_extension": ".py",
   "mimetype": "text/x-python",
   "name": "python",
   "nbconvert_exporter": "python",
   "pygments_lexer": "ipython3",
   "version": "3.9.12"
  }
 },
 "nbformat": 4,
 "nbformat_minor": 5
}
