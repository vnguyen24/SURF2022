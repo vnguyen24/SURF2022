{
 "cells": [
  {
   "cell_type": "markdown",
   "id": "152634f4",
   "metadata": {},
   "source": [
    "# Multivariate Exploratory Data Analysis\n",
    "\n",
    "## Lesson Overview\n",
    "Welcome to lesson three! Today, we will dive into creating, describing, and visualizing multivariate data relationships by using the Matplotlib, Pandas, and Seaborn libraries in Python.\n",
    "\n",
    "By the end of this lesson you will be able to:\n",
    "* Calculate the correlation coefficient\n",
    "* Practice importing dataframes\n",
    "* Build plots to describe multiple variables within a single dataset\n",
    "* "
   ]
  },
  {
   "cell_type": "markdown",
   "id": "23effbaf",
   "metadata": {},
   "source": [
    "## Multivariate Non-Graphical"
   ]
  },
  {
   "cell_type": "markdown",
   "id": "697b1429",
   "metadata": {},
   "source": [
    "### Correlation Coefficient "
   ]
  },
  {
   "cell_type": "markdown",
   "id": "4572599f",
   "metadata": {},
   "source": [
    "To calculate correlation we will make use of the corr() function. Again, we will follow the format dataframe.corr()\n",
    "\n",
    "**Meanings**:\n",
    "* 1: Full correlation. If one variable increases, so does the other\n",
    "* 0: No correlation.\n",
    "* -1: Full negative correlation. If one variable increases, the other decreases."
   ]
  },
  {
   "cell_type": "code",
   "execution_count": 2,
   "id": "af50d18e",
   "metadata": {},
   "outputs": [
    {
     "ename": "NameError",
     "evalue": "name 'penguins' is not defined",
     "output_type": "error",
     "traceback": [
      "\u001b[0;31m---------------------------------------------------------------------------\u001b[0m",
      "\u001b[0;31mNameError\u001b[0m                                 Traceback (most recent call last)",
      "Input \u001b[0;32mIn [2]\u001b[0m, in \u001b[0;36m<cell line: 3>\u001b[0;34m()\u001b[0m\n\u001b[1;32m      1\u001b[0m \u001b[38;5;66;03m# Let's see the correlation for penguins' variables\u001b[39;00m\n\u001b[0;32m----> 3\u001b[0m penguins_corr \u001b[38;5;241m=\u001b[39m \u001b[43mpenguins\u001b[49m\u001b[38;5;241m.\u001b[39mcorr()\n\u001b[1;32m      4\u001b[0m \u001b[38;5;28mprint\u001b[39m(penguins_corr)\n",
      "\u001b[0;31mNameError\u001b[0m: name 'penguins' is not defined"
     ]
    }
   ],
   "source": [
    "# Let's see the correlation for penguins' variables\n",
    "\n",
    "penguins_corr = penguins.corr()\n",
    "print(penguins_corr)"
   ]
  },
  {
   "cell_type": "markdown",
   "id": "39a8e9b6",
   "metadata": {},
   "source": [
    "This table is quite confusing to look at, since it is showing us the correlation coefficient between **ALL** variables. So, if we want to look at two specific variables, we can use the same correlation table and indicate our variables by typing: correlationTable.loc[\"columnName\", \"columnName\"]"
   ]
  },
  {
   "cell_type": "code",
   "execution_count": 48,
   "id": "3d07f879",
   "metadata": {},
   "outputs": [
    {
     "name": "stdout",
     "output_type": "stream",
     "text": [
      "-0.23505287035553338\n"
     ]
    }
   ],
   "source": [
    "# Let's check the correlation between Culmen Length and Culmen Depth\n",
    "culmen_corr = penguins_corr.loc[\"Culmen Length (mm)\", \"Culmen Depth (mm)\"]\n",
    "print(culmen_corr)"
   ]
  },
  {
   "cell_type": "markdown",
   "id": "dad0e382",
   "metadata": {},
   "source": [
    "### Contingency Table"
   ]
  },
  {
   "cell_type": "code",
   "execution_count": 89,
   "id": "3efbbe77",
   "metadata": {},
   "outputs": [
    {
     "name": "stdout",
     "output_type": "stream",
     "text": [
      "| Species                                   |   Biscoe |   Dream |   Torgersen |\n",
      "|:------------------------------------------|---------:|--------:|------------:|\n",
      "| Adelie Penguin (Pygoscelis adeliae)       |       44 |      56 |          52 |\n",
      "| Chinstrap penguin (Pygoscelis antarctica) |        0 |      68 |           0 |\n",
      "| Gentoo penguin (Pygoscelis papua)         |      124 |       0 |           0 |\n"
     ]
    }
   ],
   "source": [
    "# To Create a contingency table we can type pd.crosstab(dataframe[\"columnName1\"], dataframe[\"columnName2\"])\n",
    "\n",
    "freq_three = pd.crosstab(penguins[\"Species\"], penguins[\"Island\"]).to_markdown()\n",
    "print(freq_three)"
   ]
  },
  {
   "cell_type": "code",
   "execution_count": 98,
   "id": "fd6f429c",
   "metadata": {},
   "outputs": [
    {
     "name": "stdout",
     "output_type": "stream",
     "text": [
      "Island                                       Biscoe     Dream  Torgersen\n",
      "Species                                                                 \n",
      "Adelie Penguin (Pygoscelis adeliae)        0.127907  0.162791   0.151163\n",
      "Chinstrap penguin (Pygoscelis antarctica)  0.000000  0.197674   0.000000\n",
      "Gentoo penguin (Pygoscelis papua)          0.360465  0.000000   0.000000\n"
     ]
    }
   ],
   "source": [
    "# If we want to see a table of proportions, we have to type\n",
    "# pd.crosstab(dataframe[\"columnName1\"], dataframe[\"columnName2\"], normalize = True)\n",
    "\n",
    "prop_one = pd.crosstab(penguins[\"Species\"], penguins[\"Island\"], normalize = True)\n",
    "print(prop_one)"
   ]
  },
  {
   "cell_type": "code",
   "execution_count": 97,
   "id": "0b79fc95",
   "metadata": {},
   "outputs": [
    {
     "name": "stdout",
     "output_type": "stream",
     "text": [
      "1.0\n"
     ]
    }
   ],
   "source": [
    "# Verify that they add up to one\n",
    "\n",
    "print(0.13 + 0.16 + 0.15+ 0.2 + 0.36)"
   ]
  },
  {
   "cell_type": "markdown",
   "id": "307f3210",
   "metadata": {},
   "source": [
    "## Multivariate Data Visualization\n",
    "\n",
    "Now that we understand how Python can help us numerically analyze our multivariate data, let's see what Python's plotting tools can do to help visualize our data! Using the Matplotlib and Seaborn libraries for plot making, and the pandas library for importing data, we will learn how to create scatter plots, bar plots, linear model plots, and box plots to describe the relationships between variables in our dataset. \n",
    "  \n",
    "We will practice loading libraries at the beginning of every new plot, but as a reminder, libraries only need to be imported once per Jupyter notebook. This repetition is meant to help you build the healthy habit of remembering to load your libraries at the beginning of your work. Now, let's begin!"
   ]
  },
  {
   "cell_type": "markdown",
   "id": "609d0bfe",
   "metadata": {},
   "source": [
    "### Scatter plot\n",
    "\n",
    "Scatter plots are a helpful way to visualize the relationship between two variables in statistics. Using the Matplotlib library, we can create scatter plots for the same Penguins dataset that we have been working with thus far."
   ]
  },
  {
   "cell_type": "code",
   "execution_count": 3,
   "id": "96739ee9",
   "metadata": {},
   "outputs": [
    {
     "data": {
      "image/png": "[encoded data removed]",
      "text/plain": [
       "<Figure size 432x288 with 1 Axes>"
      ]
     },
     "metadata": {
      "needs_background": "light"
     },
     "output_type": "display_data"
    }
   ],
   "source": [
    "# As always, load libraries\n",
    "import matplotlib.pyplot as plt\n",
    "import pandas as pd\n",
    "\n",
    "# Create the data\n",
    "df = pd.read_csv(\"penguins_lter.csv\")\n",
    "\n",
    "# Draw the scatter plot\n",
    "plt.scatter(df[\"Flipper Length (mm)\"], df[\"Body Mass (g)\"], c = \"blue\", marker = \"*\", alpha = 0.5)\n",
    "\n",
    "# Add x-axis and y-axix labels\n",
    "plt.xlabel(\"Flipper Length (mm)\")\n",
    "plt.ylabel(\"Body Mass (g)\")\n",
    "\n",
    "# Add a title\n",
    "plt.title(\"Flipper Length vs. Body Mass in Penguins\")\n",
    "\n",
    "# Display the graph\n",
    "plt.show()"
   ]
  },
  {
   "cell_type": "markdown",
   "id": "ec07072d",
   "metadata": {},
   "source": [
    "### lm plots\n",
    "The lm plot displays the scattered data and fits a regression model onto it. It is exactly the same as putting the line of best fit onto our graph, and this process helps to understand the relationship between two variables. The method lmplot( ) takes the input of two column names (x and y) as a string and a DataFrame variable, and by default, fits the regression line. Let's try it out!"
   ]
  },
  {
   "cell_type": "code",
   "execution_count": 38,
   "id": "7c41ee62",
   "metadata": {},
   "outputs": [
    {
     "data": {
      "image/png": "[encoded data removed]",
      "text/plain": [
       "<Figure size 360x360 with 1 Axes>"
      ]
     },
     "metadata": {
      "needs_background": "light"
     },
     "output_type": "display_data"
    }
   ],
   "source": [
    "# Add libraries\n",
    "import pandas as pd\n",
    "import seaborn as sns\n",
    "import matplotlib.pyplot as plt\n",
    "\n",
    "# Create DataFrame using pandas\n",
    "df = pd.read_csv(\"penguins_lter.csv\")\n",
    "\n",
    "# Create the plot\n",
    "sns.lmplot(x = 'x', y = 'y', data = df)\n",
    "\n",
    "# Display the plot\n",
    "plt.show()"
   ]
  },
  {
   "cell_type": "markdown",
   "id": "0e186dd4",
   "metadata": {},
   "source": [
    "If we wanted to remove the regression line, we can set the parameter fig_reg to False within the lmplot( ) method."
   ]
  },
  {
   "cell_type": "code",
   "execution_count": 39,
   "id": "d0914206",
   "metadata": {},
   "outputs": [
    {
     "data": {
      "image/png": "[encoded data removed]",
      "text/plain": [
       "<Figure size 360x360 with 1 Axes>"
      ]
     },
     "metadata": {
      "needs_background": "light"
     },
     "output_type": "display_data"
    }
   ],
   "source": [
    "# Add libraries\n",
    "import pandas as pd\n",
    "import seaborn as sns\n",
    "import matplotlib.pyplot as plt\n",
    "\n",
    "# Create DataFrame using pandas\n",
    "df = pd.DataFrame({'x':[1,3,5,7,9,11],\n",
    "                  'y':[10,25,35, 33,41,59]})\n",
    "# Create the plot\n",
    "sns.lmplot(x = 'x', y = 'y', data = df, fit_reg = False)\n",
    "\n",
    "# Display the plot\n",
    "plt.show()"
   ]
  },
  {
   "cell_type": "markdown",
   "id": "d7160329",
   "metadata": {},
   "source": [
    "### Box plot\n",
    "Box plots, or box-and-whisker plots, are another helpful visualization to understand the distribution of our data. Let's practice making a box plot in Seaborn using the same dataset from our previous example!"
   ]
  },
  {
   "cell_type": "code",
   "execution_count": 1,
   "id": "90d536ef",
   "metadata": {},
   "outputs": [
    {
     "data": {
      "image/png": "[encoded data removed]",
      "text/plain": [
       "<Figure size 432x288 with 1 Axes>"
      ]
     },
     "metadata": {
      "needs_background": "light"
     },
     "output_type": "display_data"
    }
   ],
   "source": [
    "# Add libraries\n",
    "import pandas as pd\n",
    "import seaborn as sns\n",
    "import matplotlib.pyplot as plt\n",
    "\n",
    "# Create DataFrame using pandas\n",
    "# We also do not need to create our dataframe more than once in a Jupyter notebook. \n",
    "# For the sake of practice, we'll do it again!\n",
    "df = pd.read_csv(\"HR_comma_sep.csv\")\n",
    "\n",
    "# Create a box plot for the variables 'satisfaction_level' and 'last_evaluation'\n",
    "sns.boxplot(data = df[['satisfaction_level', 'last_evaluation']])\n",
    "\n",
    "# Display the plot\n",
    "plt.show()"
   ]
  },
  {
   "cell_type": "markdown",
   "id": "3fdee444",
   "metadata": {},
   "source": [
    "### Bar plots\n",
    "\n",
    "We can also use seaborn to make more bar plots with advanced details. The bar() function intakes two columns (x and y) and a DataFrame, and outputs a colorful bar plot by default. Let's see an example!"
   ]
  },
  {
   "cell_type": "code",
   "execution_count": 41,
   "id": "aac918c2",
   "metadata": {},
   "outputs": [
    {
     "data": {
      "image/png": "[encoded data removed]",
      "text/plain": [
       "<Figure size 432x288 with 1 Axes>"
      ]
     },
     "metadata": {
      "needs_background": "light"
     },
     "output_type": "display_data"
    }
   ],
   "source": [
    "# Add libraries\n",
    "import pandas as pd\n",
    "import seaborn as sns\n",
    "import matplotlib.pyplot as plt\n",
    "\n",
    "# Create DataFrame\n",
    "df = pd.DataFrame({'x': ['P','Q','R','S','T','U'],\n",
    "                  'y': [10,25,35,33,41,59]})\n",
    "\n",
    "# Create bar plot\n",
    "sns.barplot(x ='x', y  ='y', data = df)\n",
    "\n",
    "# Display the plot\n",
    "plt.show()"
   ]
  },
  {
   "cell_type": "code",
   "execution_count": null,
   "id": "61cdb215",
   "metadata": {},
   "outputs": [],
   "source": []
  }
 ],
 "metadata": {
  "kernelspec": {
   "display_name": "Python 3 (ipykernel)",
   "language": "python",
   "name": "python3"
  },
  "language_info": {
   "codemirror_mode": {
    "name": "ipython",
    "version": 3
   },
   "file_extension": ".py",
   "mimetype": "text/x-python",
   "name": "python",
   "nbconvert_exporter": "python",
   "pygments_lexer": "ipython3",
   "version": "3.9.12"
  }
 },
 "nbformat": 4,
 "nbformat_minor": 5
}
