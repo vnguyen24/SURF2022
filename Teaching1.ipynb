{
 "cells": [
  {
   "cell_type": "markdown",
   "id": "84b55686",
   "metadata": {},
   "source": [
    "# Lesson 1 - Getting started"
   ]
  },
  {
   "cell_type": "markdown",
   "id": "ccb6b3c0",
   "metadata": {},
   "source": [
    "## Basic arithmetic"
   ]
  },
  {
   "cell_type": "markdown",
   "id": "1c5c0e6a",
   "metadata": {},
   "source": [
    "We can treat Python as a scientific calculator. Let's try some operations!"
   ]
  },
  {
   "cell_type": "code",
   "execution_count": 8,
   "id": "63a72ef6",
   "metadata": {},
   "outputs": [
    {
     "data": {
      "text/plain": [
       "10"
      ]
     },
     "execution_count": 8,
     "metadata": {},
     "output_type": "execute_result"
    }
   ],
   "source": [
    "# Addition (+) | Run this cell to see the result\n",
    "\n",
    "5 + 6"
   ]
  },
  {
   "cell_type": "code",
   "execution_count": 9,
   "id": "11cfe8de",
   "metadata": {},
   "outputs": [
    {
     "data": {
      "text/plain": [
       "5"
      ]
     },
     "execution_count": 9,
     "metadata": {},
     "output_type": "execute_result"
    }
   ],
   "source": [
    "# Subtraction (-) | Run this cell to see the result\n",
    "\n",
    "10 - 5"
   ]
  },
  {
   "cell_type": "code",
   "execution_count": 10,
   "id": "d1bbc0e2",
   "metadata": {},
   "outputs": [
    {
     "data": {
      "text/plain": [
       "1.0"
      ]
     },
     "execution_count": 10,
     "metadata": {},
     "output_type": "execute_result"
    }
   ],
   "source": [
    "# Division (/) | Run this cell to see the result\n",
    "\n",
    "5 / 5\n"
   ]
  },
  {
   "cell_type": "code",
   "execution_count": 11,
   "id": "7b059f01",
   "metadata": {},
   "outputs": [
    {
     "data": {
      "text/plain": [
       "20"
      ]
     },
     "execution_count": 11,
     "metadata": {},
     "output_type": "execute_result"
    }
   ],
   "source": [
    "# Multiplication (*) | Run this cell to see the result\n",
    "\n",
    "10 * 2"
   ]
  },
  {
   "cell_type": "code",
   "execution_count": 1,
   "id": "841acbbe",
   "metadata": {},
   "outputs": [
    {
     "data": {
      "text/plain": [
       "25"
      ]
     },
     "execution_count": 1,
     "metadata": {},
     "output_type": "execute_result"
    }
   ],
   "source": [
    "# Exponentiation (**) | Run this cell to see the results\n",
    "\n",
    "5 ** 2"
   ]
  },
  {
   "cell_type": "markdown",
   "id": "e5061ecb",
   "metadata": {},
   "source": [
    "## Variables and data types "
   ]
  },
  {
   "cell_type": "markdown",
   "id": "b7db5473",
   "metadata": {},
   "source": [
    "In Python we can assign values to different variables. This is useful when we want to do multiple things with a certain value. \n",
    "The way we assign variables is by using the equal sign =\n",
    "Let's see some examples!"
   ]
  },
  {
   "cell_type": "code",
   "execution_count": 13,
   "id": "785e2722",
   "metadata": {},
   "outputs": [],
   "source": [
    "# Let's say we want to store 5 and 10 as my_first_integer and my_second_integer\n",
    "my_first_integer = 5\n",
    "my_second_integer = 10"
   ]
  },
  {
   "cell_type": "code",
   "execution_count": 14,
   "id": "f5a49e69",
   "metadata": {},
   "outputs": [
    {
     "data": {
      "text/plain": [
       "15"
      ]
     },
     "execution_count": 14,
     "metadata": {},
     "output_type": "execute_result"
    }
   ],
   "source": [
    "# Now let's make use of addition to see the result of adding my_first_integer and my_second_integer\n",
    "my_first_integer + my_second_integer"
   ]
  },
  {
   "cell_type": "markdown",
   "id": "f1f4e8a2",
   "metadata": {},
   "source": [
    "Now that we know how to assign variables let's discover the different types of variables we can use in Python."
   ]
  },
  {
   "cell_type": "code",
   "execution_count": 15,
   "id": "280cdad0",
   "metadata": {},
   "outputs": [],
   "source": [
    "# Strings (‘’ or \" \") | What we want to treat as text \n",
    "my_first_string = \"This is a string\""
   ]
  },
  {
   "cell_type": "code",
   "execution_count": 16,
   "id": "8bdacde2",
   "metadata": {},
   "outputs": [
    {
     "name": "stdout",
     "output_type": "stream",
     "text": [
      "This is a string\n"
     ]
    }
   ],
   "source": [
    "# We can see what is stored inside of our variable by using the print function\n",
    "print(my_first_string)"
   ]
  },
  {
   "cell_type": "code",
   "execution_count": 17,
   "id": "5008eede",
   "metadata": {},
   "outputs": [
    {
     "name": "stdout",
     "output_type": "stream",
     "text": [
      "20\n"
     ]
    }
   ],
   "source": [
    "# Integers | Numbers, already seen in the first example. Note that we can change the value of a variable.\n",
    "my_first_int = 10\n",
    "print(my_first_int + my_second_int)\n",
    "\n",
    "# Run it and see how we changed the previously defined version of integer a"
   ]
  },
  {
   "cell_type": "code",
   "execution_count": 21,
   "id": "63011999",
   "metadata": {},
   "outputs": [
    {
     "name": "stdout",
     "output_type": "stream",
     "text": [
      "True\n",
      "False\n"
     ]
    }
   ],
   "source": [
    "# Boolean (True or False) | They are mostly used for logical operations. Let's play around with two integers\n",
    "# to see how they work\n",
    "\n",
    "a = 20\n",
    "b = 10\n",
    "my_first_boolean = 20 > 10 #This boolean will tell us whether 20 is greater than 10 or not. \n",
    "my_second_boolean = 20 < 10 #This boolean will tell us whether 20 is less than 10 or not.\n",
    "\n",
    "print(my_first_boolean)\n",
    "print(my_second_boolean)"
   ]
  },
  {
   "cell_type": "code",
   "execution_count": 1,
   "id": "8c52f3c0",
   "metadata": {},
   "outputs": [
    {
     "data": {
      "text/plain": [
       "10"
      ]
     },
     "execution_count": 1,
     "metadata": {},
     "output_type": "execute_result"
    }
   ],
   "source": [
    "5+5"
   ]
  },
  {
   "cell_type": "code",
   "execution_count": null,
   "id": "277ecc80",
   "metadata": {},
   "outputs": [],
   "source": []
  }
 ],
 "metadata": {
  "kernelspec": {
   "display_name": "Python 3 (ipykernel)",
   "language": "python",
   "name": "python3"
  },
  "language_info": {
   "codemirror_mode": {
    "name": "ipython",
    "version": 3
   },
   "file_extension": ".py",
   "mimetype": "text/x-python",
   "name": "python",
   "nbconvert_exporter": "python",
   "pygments_lexer": "ipython3",
   "version": "3.9.12"
  }
 },
 "nbformat": 4,
 "nbformat_minor": 5
}
