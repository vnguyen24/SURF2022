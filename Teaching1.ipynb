{
 "cells": [
  {
   "cell_type": "markdown",
   "id": "84b55686",
   "metadata": {},
   "source": [
    "# Lesson 1 - Getting Started"
   ]
  },
  {
   "cell_type": "markdown",
   "id": "ccb6b3c0",
   "metadata": {},
   "source": [
    "## Basic arithmetic"
   ]
  },
  {
   "cell_type": "markdown",
   "id": "1c5c0e6a",
   "metadata": {},
   "source": [
    "We can treat Python as a scientific calculator. Let's try some operations!"
   ]
  },
  {
   "cell_type": "code",
   "execution_count": 3,
   "id": "63a72ef6",
   "metadata": {},
   "outputs": [
    {
     "data": {
      "text/plain": [
       "11"
      ]
     },
     "execution_count": 3,
     "metadata": {},
     "output_type": "execute_result"
    }
   ],
   "source": [
    "# Addition (+) | Run this cell to see the result\n",
    "\n",
    "5 + 6"
   ]
  },
  {
   "cell_type": "code",
   "execution_count": 4,
   "id": "11cfe8de",
   "metadata": {},
   "outputs": [
    {
     "data": {
      "text/plain": [
       "5"
      ]
     },
     "execution_count": 4,
     "metadata": {},
     "output_type": "execute_result"
    }
   ],
   "source": [
    "# Subtraction (-) | Run this cell to see the result\n",
    "\n",
    "10 - 5"
   ]
  },
  {
   "cell_type": "code",
   "execution_count": 5,
   "id": "d1bbc0e2",
   "metadata": {},
   "outputs": [
    {
     "data": {
      "text/plain": [
       "1.0"
      ]
     },
     "execution_count": 5,
     "metadata": {},
     "output_type": "execute_result"
    }
   ],
   "source": [
    "# Division (/) | Run this cell to see the result\n",
    "\n",
    "5 / 5\n"
   ]
  },
  {
   "cell_type": "code",
   "execution_count": 6,
   "id": "7b059f01",
   "metadata": {},
   "outputs": [
    {
     "data": {
      "text/plain": [
       "20"
      ]
     },
     "execution_count": 6,
     "metadata": {},
     "output_type": "execute_result"
    }
   ],
   "source": [
    "# Multiplication (*) | Run this cell to see the result\n",
    "\n",
    "10 * 2"
   ]
  },
  {
   "cell_type": "code",
   "execution_count": 7,
   "id": "841acbbe",
   "metadata": {},
   "outputs": [
    {
     "data": {
      "text/plain": [
       "25"
      ]
     },
     "execution_count": 7,
     "metadata": {},
     "output_type": "execute_result"
    }
   ],
   "source": [
    "# Exponentiation (**) | Run this cell to see the results\n",
    "\n",
    "5 ** 2"
   ]
  },
  {
   "cell_type": "markdown",
   "id": "e5061ecb",
   "metadata": {},
   "source": [
    "## Variables and data types "
   ]
  },
  {
   "cell_type": "markdown",
   "id": "b7db5473",
   "metadata": {},
   "source": [
    "In Python we can assign values to different variables. This is useful when we want to do multiple things with a certain value. \n",
    "The way we assign variables is by using the equal sign =\n",
    "Let's see some examples!"
   ]
  },
  {
   "cell_type": "code",
   "execution_count": 13,
   "id": "785e2722",
   "metadata": {},
   "outputs": [],
   "source": [
    "# Let's say we want to store 5 and 10 as my_first_integer and my_second_integer\n",
    "my_first_integer = 5\n",
    "my_second_integer = 10"
   ]
  },
  {
   "cell_type": "code",
   "execution_count": 14,
   "id": "f5a49e69",
   "metadata": {},
   "outputs": [
    {
     "data": {
      "text/plain": [
       "15"
      ]
     },
     "execution_count": 14,
     "metadata": {},
     "output_type": "execute_result"
    }
   ],
   "source": [
    "# Now let's make use of addition to see the result of adding my_first_integer and my_second_integer\n",
    "my_first_integer + my_second_integer"
   ]
  },
  {
   "cell_type": "markdown",
   "id": "f1f4e8a2",
   "metadata": {},
   "source": [
    "Now that we know how to assign variables let's discover the different types of variables we can use in Python."
   ]
  },
  {
   "cell_type": "code",
   "execution_count": 10,
   "id": "280cdad0",
   "metadata": {},
   "outputs": [],
   "source": [
    "# Strings (‘’ or \" \") | What we want to treat as text \n",
    "my_first_string = \"This is a string\""
   ]
  },
  {
   "cell_type": "code",
   "execution_count": 11,
   "id": "8bdacde2",
   "metadata": {},
   "outputs": [
    {
     "name": "stdout",
     "output_type": "stream",
     "text": [
      "This is a string\n"
     ]
    }
   ],
   "source": [
    "# We can see what is stored inside of our variable by using the print function\n",
    "print(my_first_string)"
   ]
  },
  {
   "cell_type": "code",
   "execution_count": 12,
   "id": "5008eede",
   "metadata": {},
   "outputs": [
    {
     "ename": "NameError",
     "evalue": "name 'my_second_int' is not defined",
     "output_type": "error",
     "traceback": [
      "\u001b[0;31m---------------------------------------------------------------------------\u001b[0m",
      "\u001b[0;31mNameError\u001b[0m                                 Traceback (most recent call last)",
      "Input \u001b[0;32mIn [12]\u001b[0m, in \u001b[0;36m<cell line: 3>\u001b[0;34m()\u001b[0m\n\u001b[1;32m      1\u001b[0m \u001b[38;5;66;03m# Integers | Numbers, already seen in the first example. Note that we can change the value of a variable.\u001b[39;00m\n\u001b[1;32m      2\u001b[0m my_first_int \u001b[38;5;241m=\u001b[39m \u001b[38;5;241m10\u001b[39m\n\u001b[0;32m----> 3\u001b[0m \u001b[38;5;28mprint\u001b[39m(my_first_int \u001b[38;5;241m+\u001b[39m \u001b[43mmy_second_int\u001b[49m)\n",
      "\u001b[0;31mNameError\u001b[0m: name 'my_second_int' is not defined"
     ]
    }
   ],
   "source": [
    "# Integers | Numbers, already seen in the first example. Note that we can change the value of a variable.\n",
    "my_first_int = 10\n",
    "print(my_first_int + my_second_int)\n",
    "\n",
    "# Run it and see how we changed the previously defined version of integer a"
   ]
  },
  {
   "cell_type": "code",
   "execution_count": 33,
   "id": "63011999",
   "metadata": {},
   "outputs": [
    {
     "name": "stdout",
     "output_type": "stream",
     "text": [
      "True\n",
      "False\n"
     ]
    }
   ],
   "source": [
    "# Boolean (True or False) | They are mostly used for logical operations. Let's play around with two integers\n",
    "# to see how they work\n",
    "\n",
    "a = 20\n",
    "b = 10\n",
    "my_first_boolean = 20 > 10 #This boolean will tell us whether 20 is greater than 10 or not. \n",
    "my_second_boolean = 20 < 10 #This boolean will tell us whether 20 is less than 10 or not.\n",
    "\n",
    "print(my_first_boolean)\n",
    "print(my_second_boolean)"
   ]
  },
  {
   "cell_type": "markdown",
   "id": "598b5069",
   "metadata": {},
   "source": [
    "## Data Structures"
   ]
  },
  {
   "cell_type": "markdown",
   "id": "13bbf63b",
   "metadata": {},
   "source": [
    "Now that we know the different data types that we can come across in Python, it is important to understand how Python can organize this data for us. There are five different configurations of data that you will likely come across in Python: lists, tuples, sets, dictionaries, and arrays. To define a data structure we will continue using the equal sign =, let's try it!"
   ]
  },
  {
   "cell_type": "code",
   "execution_count": 16,
   "id": "acbf8f6c",
   "metadata": {},
   "outputs": [
    {
     "name": "stdout",
     "output_type": "stream",
     "text": [
      "[5, 10]\n"
     ]
    }
   ],
   "source": [
    "# A LIST groups objects of the same type.  \n",
    "# Using the variables \"my_first_integer\" and \"my_second_integer\" that we made earlier, let's practice making a list!\n",
    "\n",
    "integers = [my_first_integer, my_second_integer]\n",
    "print(integers)"
   ]
  },
  {
   "cell_type": "code",
   "execution_count": 30,
   "id": "ce5cb657",
   "metadata": {},
   "outputs": [
    {
     "name": "stdout",
     "output_type": "stream",
     "text": [
      "[5, 10, 'This is a string', 'This is a string']\n",
      "4\n"
     ]
    }
   ],
   "source": [
    "# A TUPLE groups objects of different types.\n",
    "# Using the variables \"my_first_integer\" and \"my_first_string\" that we made earlier, let's practice making a tuple!\n",
    "\n",
    "my_first_tuple = [my_first_integer, my_second_integer, my_first_string, my_first_string]\n",
    "print(my_first_tuple)"
   ]
  },
  {
   "cell_type": "code",
   "execution_count": 22,
   "id": "5a07b422",
   "metadata": {},
   "outputs": [
    {
     "name": "stdout",
     "output_type": "stream",
     "text": [
      "[5, 10, 'This is a string']\n",
      "{10, 5, 'This is a string'}\n"
     ]
    }
   ],
   "source": [
    "# A SET is an unordered collection of elements with no duplicate elements. \n",
    "# Using the same variables, let's see two ways to make a set!\n",
    "\n",
    "my_first_set = [my_first_integer, my_second_integer, my_first_string]\n",
    "print(my_first_set)\n",
    "my_second_set = set((my_first_integer, my_second_integer, my_first_string))\n",
    "print(my_second_set)"
   ]
  },
  {
   "cell_type": "code",
   "execution_count": 29,
   "id": "ff743282",
   "metadata": {},
   "outputs": [
    {
     "name": "stdout",
     "output_type": "stream",
     "text": [
      "{'my_first_integer': 5, 'my_second_integer': 10, 'my_first_string': 'This is a string', 'my_first_boolean': True}\n",
      "This is a string\n",
      "4\n"
     ]
    }
   ],
   "source": [
    "# DICTIONARIES list unordered elements that are accessed by their position in the list, via indexing.\n",
    "# This data structure is used to store data values in key:value pairs.\n",
    "\n",
    "my_first_dict = {\"my_first_integer\": 5,\n",
    "                \"my_second_integer\": 10,\n",
    "                \"my_first_string\" : \"This is a string\",\n",
    "                \"my_first_boolean\" : 20 > 10}\n",
    "\n",
    "print(my_first_dict)\n",
    "\n",
    "# We can also use index syntax to access the value stored in a key variable name within a dictionary.\n",
    "print(my_first_dict[\"my_first_string\"])"
   ]
  },
  {
   "cell_type": "code",
   "execution_count": 37,
   "id": "4e6ac65b",
   "metadata": {},
   "outputs": [
    {
     "name": "stdout",
     "output_type": "stream",
     "text": [
      "[5, 10, 'This is a string', True]\n",
      "This is a string\n",
      "True\n"
     ]
    }
   ],
   "source": [
    "# An ARRAY can consist of basic values––characters, integers, and floating point numbers.\n",
    "\n",
    "my_first_array = [my_first_integer, my_second_integer, my_first_string, my_first_boolean]\n",
    "\n",
    "print(my_first_array)\n",
    "\n",
    "# We can also find a value stored in a specific position in array.\n",
    "print(my_first_array[2])\n",
    "print(my_first_array[3])"
   ]
  },
  {
   "cell_type": "code",
   "execution_count": 45,
   "id": "bda2c580",
   "metadata": {
    "scrolled": true
   },
   "outputs": [
    {
     "name": "stdout",
     "output_type": "stream",
     "text": [
      "   integers  booleans\n",
      "0         5      True\n",
      "1        10     False\n",
      "2        15     False\n"
     ]
    }
   ],
   "source": [
    "# Our last data structure is a DATAFRAME.\n",
    "# A dataframe is the convenient way to display a data file for statistical data analysis.\n",
    "# We can think of dataframes as a two-dimensional array.\n",
    "\n",
    "# To create our dataframe, we must first import a library to use one of its functions.\n",
    "import pandas as pd\n",
    "\n",
    "# We create a dataframe using lists of equal length.\n",
    "my_first_df = {\n",
    "  \"integers\": [5, 10, 15],\n",
    "  \"booleans\": [True, False, False]\n",
    "}\n",
    "\n",
    "#load data into a DataFrame object:\n",
    "df = pd.DataFrame(my_first_df)\n",
    "\n",
    "print(df) "
   ]
  },
  {
   "cell_type": "code",
   "execution_count": 43,
   "id": "7cb3eb79",
   "metadata": {},
   "outputs": [
    {
     "name": "stdout",
     "output_type": "stream",
     "text": [
      "4\n",
      "4\n",
      "<class 'list'>\n"
     ]
    }
   ],
   "source": [
    "# Finally, we can find the length of any of these data structures using the len() function.\n",
    "# This can be important for when we are trying to use an index to find the values stored in a certain position.\n",
    "\n",
    "print(len(my_first_tuple))\n",
    "print(len(my_first_dict))"
   ]
  },
  {
   "cell_type": "code",
   "execution_count": null,
   "id": "11ec8a57",
   "metadata": {},
   "outputs": [],
   "source": []
  }
 ],
 "metadata": {
  "kernelspec": {
   "display_name": "Python 3 (ipykernel)",
   "language": "python",
   "name": "python3"
  },
  "language_info": {
   "codemirror_mode": {
    "name": "ipython",
    "version": 3
   },
   "file_extension": ".py",
   "mimetype": "text/x-python",
   "name": "python",
   "nbconvert_exporter": "python",
   "pygments_lexer": "ipython3",
   "version": "3.9.12"
  }
 },
 "nbformat": 4,
 "nbformat_minor": 5
}
