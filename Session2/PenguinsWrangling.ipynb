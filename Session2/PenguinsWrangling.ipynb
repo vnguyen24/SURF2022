{
 "cells": [
  {
   "cell_type": "code",
   "execution_count": 1,
   "id": "2637282b",
   "metadata": {},
   "outputs": [],
   "source": [
    "import pandas as pd\n",
    "\n",
    "penguins = pd.read_csv(\"penguins_lter.csv\")"
   ]
  },
  {
   "cell_type": "code",
   "execution_count": 9,
   "id": "7afcbb58",
   "metadata": {},
   "outputs": [
    {
     "name": "stdout",
     "output_type": "stream",
     "text": [
      "                                     Species  Count\n",
      "0        Adelie Penguin (Pygoscelis adeliae)    152\n",
      "1  Chinstrap penguin (Pygoscelis antarctica)     68\n",
      "2          Gentoo penguin (Pygoscelis papua)    124\n"
     ]
    }
   ],
   "source": [
    "species_counts = penguins.groupby('Species').size().reset_index(name='Count')\n",
    "    \n",
    "print(species_counts)"
   ]
  },
  {
   "cell_type": "code",
   "execution_count": 8,
   "id": "db4de2b6",
   "metadata": {},
   "outputs": [],
   "source": [
    "species_counts.to_csv(\"penguins_counts.csv\")"
   ]
  },
  {
   "cell_type": "code",
   "execution_count": 6,
   "id": "f2c5a584",
   "metadata": {},
   "outputs": [],
   "source": [
    "df = penguins.dropna(subset = ['Sex'])"
   ]
  },
  {
   "cell_type": "code",
   "execution_count": 8,
   "id": "0d685e4c",
   "metadata": {},
   "outputs": [],
   "source": [
    "df.to_csv(\"penguins_wrangled.csv\")"
   ]
  },
  {
   "cell_type": "code",
   "execution_count": null,
   "id": "d2248b4a",
   "metadata": {},
   "outputs": [],
   "source": []
  }
 ],
 "metadata": {
  "kernelspec": {
   "display_name": "Python 3 (ipykernel)",
   "language": "python",
   "name": "python3"
  },
  "language_info": {
   "codemirror_mode": {
    "name": "ipython",
    "version": 3
   },
   "file_extension": ".py",
   "mimetype": "text/x-python",
   "name": "python",
   "nbconvert_exporter": "python",
   "pygments_lexer": "ipython3",
   "version": "3.9.12"
  }
 },
 "nbformat": 4,
 "nbformat_minor": 5
}
