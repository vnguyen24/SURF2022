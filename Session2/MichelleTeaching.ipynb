{
 "cells": [
  {
   "cell_type": "markdown",
   "id": "ff85b6a1",
   "metadata": {},
   "source": [
    "# Variance "
   ]
  },
  {
   "cell_type": "code",
   "execution_count": 3,
   "id": "fc116b88",
   "metadata": {},
   "outputs": [
    {
     "data": {
      "text/html": [
       "<div>\n",
       "<style scoped>\n",
       "    .dataframe tbody tr th:only-of-type {\n",
       "        vertical-align: middle;\n",
       "    }\n",
       "\n",
       "    .dataframe tbody tr th {\n",
       "        vertical-align: top;\n",
       "    }\n",
       "\n",
       "    .dataframe thead th {\n",
       "        text-align: right;\n",
       "    }\n",
       "</style>\n",
       "<table border=\"1\" class=\"dataframe\">\n",
       "  <thead>\n",
       "    <tr style=\"text-align: right;\">\n",
       "      <th></th>\n",
       "      <th>subject</th>\n",
       "      <th>grades</th>\n",
       "      <th>attendance (%)</th>\n",
       "      <th>participation (%)</th>\n",
       "      <th>semester</th>\n",
       "    </tr>\n",
       "  </thead>\n",
       "  <tbody>\n",
       "    <tr>\n",
       "      <th>0</th>\n",
       "      <td>Calculus</td>\n",
       "      <td>4.0</td>\n",
       "      <td>90</td>\n",
       "      <td>100</td>\n",
       "      <td>fall</td>\n",
       "    </tr>\n",
       "    <tr>\n",
       "      <th>1</th>\n",
       "      <td>Intro to music</td>\n",
       "      <td>3.3</td>\n",
       "      <td>60</td>\n",
       "      <td>20</td>\n",
       "      <td>spring</td>\n",
       "    </tr>\n",
       "    <tr>\n",
       "      <th>2</th>\n",
       "      <td>Psychology</td>\n",
       "      <td>3.9</td>\n",
       "      <td>78</td>\n",
       "      <td>80</td>\n",
       "      <td>spring</td>\n",
       "    </tr>\n",
       "    <tr>\n",
       "      <th>3</th>\n",
       "      <td>Sociology</td>\n",
       "      <td>4.0</td>\n",
       "      <td>100</td>\n",
       "      <td>92</td>\n",
       "      <td>fall</td>\n",
       "    </tr>\n",
       "  </tbody>\n",
       "</table>\n",
       "</div>"
      ],
      "text/plain": [
       "          subject  grades  attendance (%)  participation (%) semester\n",
       "0        Calculus     4.0              90                100     fall\n",
       "1  Intro to music     3.3              60                 20   spring\n",
       "2      Psychology     3.9              78                 80   spring\n",
       "3       Sociology     4.0             100                 92     fall"
      ]
     },
     "execution_count": 3,
     "metadata": {},
     "output_type": "execute_result"
    }
   ],
   "source": [
    "import pandas as pd\n",
    "\n",
    "# Create our raw data\n",
    "my_subjects_raw = { 'subject': ['Calculus', 'Intro to music', 'Psychology', 'Sociology'],\n",
    "    'grades': [4.0, 3.3, 3.9, 4.0],\n",
    "    'attendance (%)': [90, 60, 78, 100],\n",
    "    'participation (%)':[100, 20, 80, 92],\n",
    "    'semester': ['fall', 'spring', 'spring', 'fall']}\n",
    "\n",
    "# Transform our raw data to pandas dataframe\n",
    "my_subjects_pd = pd.DataFrame(my_subjects_raw, columns = ['subject', 'grades', 'attendance (%)', 'participation (%)',\n",
    "                                                         'semester'])\n",
    "# Display data\n",
    "my_subjects_pd"
   ]
  },
  {
   "cell_type": "code",
   "execution_count": 4,
   "id": "e19dc8eb",
   "metadata": {},
   "outputs": [
    {
     "name": "stdout",
     "output_type": "stream",
     "text": [
      "grades                  0.113333\n",
      "attendance (%)        296.000000\n",
      "participation (%)    1316.000000\n",
      "dtype: float64\n",
      "0.1133333333333334\n"
     ]
    },
    {
     "name": "stderr",
     "output_type": "stream",
     "text": [
      "/var/folders/rm/31m9_p91783drqpmmys24h9h0000gn/T/ipykernel_48307/1782831178.py:3: FutureWarning: Dropping of nuisance columns in DataFrame reductions (with 'numeric_only=None') is deprecated; in a future version this will raise TypeError.  Select only valid columns before calling the reduction.\n",
      "  print(my_subjects_pd.var())\n"
     ]
    }
   ],
   "source": [
    "# The function var() will display a table with all the variance values for every column. To see the variance values\n",
    "# of every quantitative value we can type dataframe.var()\n",
    "print(my_subjects_pd.var())\n",
    "\n",
    "# to print the variance of only one column, we can do dataframe['nameOfColum'].var()\n",
    "print(my_subjects_pd['grades'].var())"
   ]
  },
  {
   "cell_type": "code",
   "execution_count": 5,
   "id": "fe5dafe4",
   "metadata": {},
   "outputs": [
    {
     "name": "stdout",
     "output_type": "stream",
     "text": [
      "grades                  0.113333\n",
      "attendance (%)        296.000000\n",
      "participation (%)    1316.000000\n",
      "dtype: float64\n"
     ]
    }
   ],
   "source": [
    "# Note that when we execute my_subjects_pd.var(), without specifying a column, we will be prompted to a message.\n",
    "# This is happening because we have a qualitative variable in our dataframe, which won't be considered in the table.\n",
    "# To avoid this message, we can type numeric_only = True inside the parenthesis \n",
    "\n",
    "print(my_subjects_pd.var(numeric_only = True))"
   ]
  },
  {
   "cell_type": "markdown",
   "id": "929bd674",
   "metadata": {},
   "source": [
    "# Standard Deviation"
   ]
  },
  {
   "cell_type": "code",
   "execution_count": 6,
   "id": "2ec9ad6b",
   "metadata": {},
   "outputs": [
    {
     "ename": "NameError",
     "evalue": "name 'my_subjects' is not defined",
     "output_type": "error",
     "traceback": [
      "\u001b[0;31m---------------------------------------------------------------------------\u001b[0m",
      "\u001b[0;31mNameError\u001b[0m                                 Traceback (most recent call last)",
      "Input \u001b[0;32mIn [6]\u001b[0m, in \u001b[0;36m<cell line: 3>\u001b[0;34m()\u001b[0m\n\u001b[1;32m      1\u001b[0m \u001b[38;5;66;03m# dataframe.std() will display a table with all the standard deviations (quantitative variable columns)\u001b[39;00m\n\u001b[0;32m----> 3\u001b[0m \u001b[43mmy_subjects\u001b[49m\u001b[38;5;241m.\u001b[39mstd(numeric_only \u001b[38;5;241m=\u001b[39m \u001b[38;5;28;01mTrue\u001b[39;00m)\n",
      "\u001b[0;31mNameError\u001b[0m: name 'my_subjects' is not defined"
     ]
    }
   ],
   "source": [
    "# dataframe.std() will display a table with all the standard deviations (quantitative variable columns)\n",
    "\n",
    "my_subjects.std(numeric_only = True)"
   ]
  },
  {
   "cell_type": "code",
   "execution_count": null,
   "id": "bb3f85e6",
   "metadata": {},
   "outputs": [],
   "source": [
    "# if we want to check only one column, we can follow the same pattern we've been using:\n",
    "# dataframe.['columnName'].std()\n",
    "\n",
    "my_subjects['grades'].std()"
   ]
  },
  {
   "cell_type": "markdown",
   "id": "697b1429",
   "metadata": {},
   "source": [
    "# Correlation Coefficient "
   ]
  },
  {
   "cell_type": "code",
   "execution_count": null,
   "id": "fe525d14",
   "metadata": {},
   "outputs": [],
   "source": [
    "sample_correlation = { 'subject id': ['0111', '9203', '2313', '4503'],\n",
    "    'concerts attended': [3, 2, 10, 4],\n",
    "    'shoe size': [7, 7, 7, 7.5]}\n",
    "\n",
    "# Transform our raw data to pandas dataframe\n",
    "sample_correlation_pd = pd.DataFrame(sample_correlation, columns = ['subject id', 'concerts attended', 'shoe size'])\n"
   ]
  },
  {
   "cell_type": "code",
   "execution_count": null,
   "id": "af50d18e",
   "metadata": {},
   "outputs": [],
   "source": [
    "# To calculate correlation we will make use of the corr() function. Again, we will follow the format dataframe.corr()\n",
    "\n",
    "# Meanings:\n",
    "# 1: Full correlation. If one variable increases, so does the other\n",
    "# 0: No correlation.\n",
    "# -1: Full negative correlation. If one variable increases, the other decreases.\n",
    "\n",
    "# Let's see the correlation between concerts attended and shoe size. Should we expect a value closer to -1, 0 or 1?\n",
    "\n",
    "sample_correlation_pd.corr()"
   ]
  },
  {
   "cell_type": "code",
   "execution_count": null,
   "id": "dc9a5b30",
   "metadata": {},
   "outputs": [],
   "source": [
    "sample_correlation = { 'subject id': ['0111', '9203', '2313', '4503'],\n",
    "    'class attendance (%)': [99, 65, 100, 45],\n",
    "    'GPA': [4.0, 3.2, 3.8, 2.9]}\n",
    "\n",
    "# Transform our raw data to pandas dataframe\n",
    "sample_correlation_pd = pd.DataFrame(sample_correlation, columns = ['subject id', 'class attendance (%)', 'GPA'])"
   ]
  },
  {
   "cell_type": "code",
   "execution_count": null,
   "id": "3ca02fc3",
   "metadata": {},
   "outputs": [],
   "source": [
    "sample_correlation_pd.corr()"
   ]
  },
  {
   "cell_type": "markdown",
   "id": "b88b2f34",
   "metadata": {},
   "source": [
    "# Range"
   ]
  },
  {
   "cell_type": "code",
   "execution_count": null,
   "id": "5b1de9e8",
   "metadata": {},
   "outputs": [],
   "source": [
    "# To calculate range we have to make use of the minimum and maximum methods.\n",
    "\n",
    "# Let's store my_subjects_pd max and min\n",
    "\n",
    "subjects_max = my_subjects_pd['grades'].max()\n",
    "subjects_min = my_subjects_pd['grades'].min()\n",
    "\n",
    "# Let's print both values to get a better sense of what we're doing. Note that we cannot simply add a STRING\n",
    "# and an INTEGER. Thus, we have to transform both integers to string format by making use of the function str()\n",
    "print(\"The maximum achieved grade was: \" + str(subjects_max))\n",
    "print(\"The minimum achieved grade was: \" + str(subjects_min))\n",
    "\n",
    "# Now, we're going to store the subtraction and print the final result \n",
    "range = subjects_max - subjects_min\n",
    "print(\"Thus, grades' range is: \" + str(range))"
   ]
  },
  {
   "cell_type": "markdown",
   "id": "9be43d33",
   "metadata": {},
   "source": [
    "# Describing dataframes"
   ]
  },
  {
   "cell_type": "code",
   "execution_count": null,
   "id": "b81dcf45",
   "metadata": {},
   "outputs": [],
   "source": [
    "# In order to get an idea of our data more quickly we can make use of three different methods.\n",
    "\n",
    "# To look at the first few rows of a data frame we can do dataframe.head() , similarly to take a look at the\n",
    "# last few rows we can type dataframe.tail() . This will come handy when we are dealing with big dataframes"
   ]
  },
  {
   "cell_type": "code",
   "execution_count": null,
   "id": "9a8079f6",
   "metadata": {},
   "outputs": [],
   "source": [
    "# We can also display a data summary by typing my_subjects_pd.describe()\n",
    "# This will show counts, mean, std, min, 25%, 50%, 75%, and max.\n",
    "\n",
    "my_subjects_pd.describe()"
   ]
  },
  {
   "cell_type": "code",
   "execution_count": null,
   "id": "76bc923c",
   "metadata": {},
   "outputs": [],
   "source": [
    "# Sometime, we will encounter missing data in our dataframes. To get a sense of how many values are missing we can\n",
    "# type dataframe.isnull().sum()\n",
    "\n",
    "my_subjects_pd.isnull().sum()"
   ]
  },
  {
   "cell_type": "code",
   "execution_count": null,
   "id": "2072aae3",
   "metadata": {},
   "outputs": [],
   "source": [
    "my_subjects_pd"
   ]
  },
  {
   "cell_type": "markdown",
   "id": "5fd7157a",
   "metadata": {},
   "source": [
    "# Pandas plotting\n",
    "\n",
    "We can directly plot pandas data frames by using the plot( ) method. Inside the parenthesis we can include seven different parameters.\n",
    "\n",
    "* **kind** : Used to indicate the type of graph. Line, bar, barh, hist, box, KDE, pie, area, or scatter\n",
    "* **figsize** = Used to indicate the size in a tuple format (width, height)\n",
    "* **title** = Defines the graph's title.\n",
    "* **lenged** = Defines the legend.\n",
    "* **xticks** = Defines the sequence of x-axis ticks\n",
    "* **yticks** = "
   ]
  },
  {
   "cell_type": "code",
   "execution_count": 7,
   "id": "3b8304f9",
   "metadata": {},
   "outputs": [
    {
     "data": {
      "text/html": [
       "<div>\n",
       "<style scoped>\n",
       "    .dataframe tbody tr th:only-of-type {\n",
       "        vertical-align: middle;\n",
       "    }\n",
       "\n",
       "    .dataframe tbody tr th {\n",
       "        vertical-align: top;\n",
       "    }\n",
       "\n",
       "    .dataframe thead th {\n",
       "        text-align: right;\n",
       "    }\n",
       "</style>\n",
       "<table border=\"1\" class=\"dataframe\">\n",
       "  <thead>\n",
       "    <tr style=\"text-align: right;\">\n",
       "      <th></th>\n",
       "      <th>subject</th>\n",
       "      <th>grades</th>\n",
       "      <th>attendance (%)</th>\n",
       "      <th>participation (%)</th>\n",
       "      <th>semester</th>\n",
       "    </tr>\n",
       "  </thead>\n",
       "  <tbody>\n",
       "    <tr>\n",
       "      <th>0</th>\n",
       "      <td>Calculus</td>\n",
       "      <td>4.0</td>\n",
       "      <td>90</td>\n",
       "      <td>100</td>\n",
       "      <td>fall</td>\n",
       "    </tr>\n",
       "    <tr>\n",
       "      <th>1</th>\n",
       "      <td>Intro to music</td>\n",
       "      <td>3.3</td>\n",
       "      <td>60</td>\n",
       "      <td>20</td>\n",
       "      <td>spring</td>\n",
       "    </tr>\n",
       "    <tr>\n",
       "      <th>2</th>\n",
       "      <td>Psychology</td>\n",
       "      <td>3.9</td>\n",
       "      <td>78</td>\n",
       "      <td>80</td>\n",
       "      <td>spring</td>\n",
       "    </tr>\n",
       "    <tr>\n",
       "      <th>3</th>\n",
       "      <td>Sociology</td>\n",
       "      <td>4.0</td>\n",
       "      <td>100</td>\n",
       "      <td>92</td>\n",
       "      <td>fall</td>\n",
       "    </tr>\n",
       "  </tbody>\n",
       "</table>\n",
       "</div>"
      ],
      "text/plain": [
       "          subject  grades  attendance (%)  participation (%) semester\n",
       "0        Calculus     4.0              90                100     fall\n",
       "1  Intro to music     3.3              60                 20   spring\n",
       "2      Psychology     3.9              78                 80   spring\n",
       "3       Sociology     4.0             100                 92     fall"
      ]
     },
     "execution_count": 7,
     "metadata": {},
     "output_type": "execute_result"
    }
   ],
   "source": [
    "# Let's recall my_subjects_pd\n",
    "\n",
    "my_subjects_pd"
   ]
  },
  {
   "cell_type": "code",
   "execution_count": 10,
   "id": "38947329",
   "metadata": {},
   "outputs": [
    {
     "data": {
      "image/png": "[encoded data removed]",
      "text/plain": [
       "<Figure size 432x288 with 1 Axes>"
      ]
     },
     "metadata": {
      "needs_background": "light"
     },
     "output_type": "display_data"
    }
   ],
   "source": [
    "import matplotlib.pyplot as plt\n",
    "\n",
    "my_subjects_pd.plot(kind = 'scatter', x = 'attendance (%)', y = ('grades'), color = 'pink',\n",
    "                   title = 'grades v/s attendance')\n",
    "plt.show()"
   ]
  },
  {
   "cell_type": "code",
   "execution_count": null,
   "id": "308876bb",
   "metadata": {},
   "outputs": [],
   "source": []
  }
 ],
 "metadata": {
  "kernelspec": {
   "display_name": "Python 3 (ipykernel)",
   "language": "python",
   "name": "python3"
  },
  "language_info": {
   "codemirror_mode": {
    "name": "ipython",
    "version": 3
   },
   "file_extension": ".py",
   "mimetype": "text/x-python",
   "name": "python",
   "nbconvert_exporter": "python",
   "pygments_lexer": "ipython3",
   "version": "3.9.12"
  }
 },
 "nbformat": 4,
 "nbformat_minor": 5
}
