{
 "cells": [
  {
   "cell_type": "markdown",
   "id": "ff85b6a1",
   "metadata": {},
   "source": [
    "# Variance "
   ]
  },
  {
   "cell_type": "code",
   "execution_count": 3,
   "id": "fc116b88",
   "metadata": {},
   "outputs": [
    {
     "data": {
      "text/html": [
       "<div>\n",
       "<style scoped>\n",
       "    .dataframe tbody tr th:only-of-type {\n",
       "        vertical-align: middle;\n",
       "    }\n",
       "\n",
       "    .dataframe tbody tr th {\n",
       "        vertical-align: top;\n",
       "    }\n",
       "\n",
       "    .dataframe thead th {\n",
       "        text-align: right;\n",
       "    }\n",
       "</style>\n",
       "<table border=\"1\" class=\"dataframe\">\n",
       "  <thead>\n",
       "    <tr style=\"text-align: right;\">\n",
       "      <th></th>\n",
       "      <th>subject</th>\n",
       "      <th>grades</th>\n",
       "      <th>attendance (%)</th>\n",
       "      <th>participation (%)</th>\n",
       "      <th>semester</th>\n",
       "    </tr>\n",
       "  </thead>\n",
       "  <tbody>\n",
       "    <tr>\n",
       "      <th>0</th>\n",
       "      <td>Calculus</td>\n",
       "      <td>4.0</td>\n",
       "      <td>90</td>\n",
       "      <td>100</td>\n",
       "      <td>fall</td>\n",
       "    </tr>\n",
       "    <tr>\n",
       "      <th>1</th>\n",
       "      <td>Intro to music</td>\n",
       "      <td>3.3</td>\n",
       "      <td>60</td>\n",
       "      <td>20</td>\n",
       "      <td>spring</td>\n",
       "    </tr>\n",
       "    <tr>\n",
       "      <th>2</th>\n",
       "      <td>Psychology</td>\n",
       "      <td>3.9</td>\n",
       "      <td>78</td>\n",
       "      <td>80</td>\n",
       "      <td>spring</td>\n",
       "    </tr>\n",
       "    <tr>\n",
       "      <th>3</th>\n",
       "      <td>Sociology</td>\n",
       "      <td>4.0</td>\n",
       "      <td>100</td>\n",
       "      <td>92</td>\n",
       "      <td>fall</td>\n",
       "    </tr>\n",
       "  </tbody>\n",
       "</table>\n",
       "</div>"
      ],
      "text/plain": [
       "          subject  grades  attendance (%)  participation (%) semester\n",
       "0        Calculus     4.0              90                100     fall\n",
       "1  Intro to music     3.3              60                 20   spring\n",
       "2      Psychology     3.9              78                 80   spring\n",
       "3       Sociology     4.0             100                 92     fall"
      ]
     },
     "execution_count": 3,
     "metadata": {},
     "output_type": "execute_result"
    }
   ],
   "source": [
    "import pandas as pd\n",
    "\n",
    "# Create our raw data\n",
    "my_subjects_raw = { 'subject': ['Calculus', 'Intro to music', 'Psychology', 'Sociology'],\n",
    "    'grades': [4.0, 3.3, 3.9, 4.0],\n",
    "    'attendance (%)': [90, 60, 78, 100],\n",
    "    'participation (%)':[100, 20, 80, 92],\n",
    "    'semester': ['fall', 'spring', 'spring', 'fall']}\n",
    "\n",
    "# Transform our raw data to pandas dataframe\n",
    "my_subjects_pd = pd.DataFrame(my_subjects_raw, columns = ['subject', 'grades', 'attendance (%)', 'participation (%)',\n",
    "                                                         'semester'])\n",
    "# Display data\n",
    "my_subjects_pd"
   ]
  },
  {
   "cell_type": "code",
   "execution_count": 4,
   "id": "e19dc8eb",
   "metadata": {},
   "outputs": [
    {
     "name": "stdout",
     "output_type": "stream",
     "text": [
      "grades                  0.113333\n",
      "attendance (%)        296.000000\n",
      "participation (%)    1316.000000\n",
      "dtype: float64\n",
      "0.1133333333333334\n"
     ]
    },
    {
     "name": "stderr",
     "output_type": "stream",
     "text": [
      "/var/folders/rm/31m9_p91783drqpmmys24h9h0000gn/T/ipykernel_48307/1782831178.py:3: FutureWarning: Dropping of nuisance columns in DataFrame reductions (with 'numeric_only=None') is deprecated; in a future version this will raise TypeError.  Select only valid columns before calling the reduction.\n",
      "  print(my_subjects_pd.var())\n"
     ]
    }
   ],
   "source": [
    "# The function var() will display a table with all the variance values for every column. To see the variance values\n",
    "# of every quantitative value we can type dataframe.var()\n",
    "print(my_subjects_pd.var())\n",
    "\n",
    "# to print the variance of only one column, we can do dataframe['nameOfColum'].var()\n",
    "print(my_subjects_pd['grades'].var())"
   ]
  },
  {
   "cell_type": "code",
   "execution_count": 5,
   "id": "fe5dafe4",
   "metadata": {},
   "outputs": [
    {
     "name": "stdout",
     "output_type": "stream",
     "text": [
      "grades                  0.113333\n",
      "attendance (%)        296.000000\n",
      "participation (%)    1316.000000\n",
      "dtype: float64\n"
     ]
    }
   ],
   "source": [
    "# Note that when we execute my_subjects_pd.var(), without specifying a column, we will be prompted to a message.\n",
    "# This is happening because we have a qualitative variable in our dataframe, which won't be considered in the table.\n",
    "# To avoid this message, we can type numeric_only = True inside the parenthesis \n",
    "\n",
    "print(my_subjects_pd.var(numeric_only = True))"
   ]
  },
  {
   "cell_type": "markdown",
   "id": "929bd674",
   "metadata": {},
   "source": [
    "# Standard Deviation"
   ]
  },
  {
   "cell_type": "code",
   "execution_count": 45,
   "id": "2ec9ad6b",
   "metadata": {},
   "outputs": [
    {
     "data": {
      "text/plain": [
       "grades                0.336650\n",
       "attendance (%)       17.204651\n",
       "participation (%)    36.276714\n",
       "dtype: float64"
      ]
     },
     "execution_count": 45,
     "metadata": {},
     "output_type": "execute_result"
    }
   ],
   "source": [
    "# dataframe.std() will display a table with all the standard deviations (quantitative variable columns)\n",
    "\n",
    "my_subjects_pd.std(numeric_only = True)"
   ]
  },
  {
   "cell_type": "code",
   "execution_count": null,
   "id": "bb3f85e6",
   "metadata": {},
   "outputs": [],
   "source": [
    "# if we want to check only one column, we can follow the same pattern we've been using:\n",
    "# dataframe.['columnName'].std()\n",
    "\n",
    "my_subjects['grades'].std()"
   ]
  },
  {
   "cell_type": "markdown",
   "id": "697b1429",
   "metadata": {},
   "source": [
    "# Correlation Coefficient "
   ]
  },
  {
   "cell_type": "code",
   "execution_count": null,
   "id": "fe525d14",
   "metadata": {},
   "outputs": [],
   "source": [
    "sample_correlation = { 'subject id': ['0111', '9203', '2313', '4503'],\n",
    "    'concerts attended': [3, 2, 10, 4],\n",
    "    'shoe size': [7, 7, 7, 7.5]}\n",
    "\n",
    "# Transform our raw data to pandas dataframe\n",
    "sample_correlation_pd = pd.DataFrame(sample_correlation, columns = ['subject id', 'concerts attended', 'shoe size'])\n"
   ]
  },
  {
   "cell_type": "code",
   "execution_count": null,
   "id": "af50d18e",
   "metadata": {},
   "outputs": [],
   "source": [
    "# To calculate correlation we will make use of the corr() function. Again, we will follow the format dataframe.corr()\n",
    "\n",
    "# Meanings:\n",
    "# 1: Full correlation. If one variable increases, so does the other\n",
    "# 0: No correlation.\n",
    "# -1: Full negative correlation. If one variable increases, the other decreases.\n",
    "\n",
    "# Let's see the correlation between concerts attended and shoe size. Should we expect a value closer to -1, 0 or 1?\n",
    "\n",
    "sample_correlation_pd.corr()"
   ]
  },
  {
   "cell_type": "code",
   "execution_count": null,
   "id": "dc9a5b30",
   "metadata": {},
   "outputs": [],
   "source": [
    "sample_correlation = { 'subject id': ['0111', '9203', '2313', '4503'],\n",
    "    'class attendance (%)': [99, 65, 100, 45],\n",
    "    'GPA': [4.0, 3.2, 3.8, 2.9]}\n",
    "\n",
    "# Transform our raw data to pandas dataframe\n",
    "sample_correlation_pd = pd.DataFrame(sample_correlation, columns = ['subject id', 'class attendance (%)', 'GPA'])"
   ]
  },
  {
   "cell_type": "code",
   "execution_count": null,
   "id": "3ca02fc3",
   "metadata": {},
   "outputs": [],
   "source": [
    "sample_correlation_pd.corr()"
   ]
  },
  {
   "cell_type": "markdown",
   "id": "b88b2f34",
   "metadata": {},
   "source": [
    "# Range"
   ]
  },
  {
   "cell_type": "code",
   "execution_count": null,
   "id": "5b1de9e8",
   "metadata": {},
   "outputs": [],
   "source": [
    "# To calculate range we have to make use of the minimum and maximum methods.\n",
    "\n",
    "# Let's store my_subjects_pd max and min\n",
    "\n",
    "subjects_max = my_subjects_pd['grades'].max()\n",
    "subjects_min = my_subjects_pd['grades'].min()\n",
    "\n",
    "# Let's print both values to get a better sense of what we're doing. Note that we cannot simply add a STRING\n",
    "# and an INTEGER. Thus, we have to transform both integers to string format by making use of the function str()\n",
    "print(\"The maximum achieved grade was: \" + str(subjects_max))\n",
    "print(\"The minimum achieved grade was: \" + str(subjects_min))\n",
    "\n",
    "# Now, we're going to store the subtraction and print the final result \n",
    "range = subjects_max - subjects_min\n",
    "print(\"Thus, grades' range is: \" + str(range))"
   ]
  },
  {
   "cell_type": "markdown",
   "id": "9be43d33",
   "metadata": {},
   "source": [
    "# Describing dataframes"
   ]
  },
  {
   "cell_type": "code",
   "execution_count": null,
   "id": "b81dcf45",
   "metadata": {},
   "outputs": [],
   "source": [
    "# In order to get an idea of our data more quickly we can make use of three different methods.\n",
    "\n",
    "# To look at the first few rows of a data frame we can do dataframe.head() , similarly to take a look at the\n",
    "# last few rows we can type dataframe.tail() . This will come handy when we are dealing with big dataframes"
   ]
  },
  {
   "cell_type": "code",
   "execution_count": null,
   "id": "9a8079f6",
   "metadata": {},
   "outputs": [],
   "source": [
    "# We can also display a data summary by typing my_subjects_pd.describe()\n",
    "# This will show counts, mean, std, min, 25%, 50%, 75%, and max.\n",
    "\n",
    "my_subjects_pd.describe()"
   ]
  },
  {
   "cell_type": "code",
   "execution_count": null,
   "id": "76bc923c",
   "metadata": {},
   "outputs": [],
   "source": [
    "# Sometime, we will encounter missing data in our dataframes. To get a sense of how many values are missing we can\n",
    "# type dataframe.isnull().sum()\n",
    "\n",
    "my_subjects_pd.isnull().sum()"
   ]
  },
  {
   "cell_type": "code",
   "execution_count": null,
   "id": "2072aae3",
   "metadata": {},
   "outputs": [],
   "source": [
    "my_subjects_pd"
   ]
  },
  {
   "cell_type": "markdown",
   "id": "5fd7157a",
   "metadata": {},
   "source": [
    "# Pandas plotting\n",
    "\n",
    "We can directly plot pandas data frames by using the plot( ) method. Inside the parenthesis we can include a wide variety of parameters, but we will be mainly using the following:\n",
    "\n",
    "* **kind** : (String) Used to indicate the type of graph. Line, hist, box, density, scatter, etc.\n",
    "* **x** : (String)/ Name of the column to be used.\n",
    "* **y** : (String) Name of the coumn to be used.\n",
    "* **figsize** = (Tuple) Used to indicate the size (width, height).\n",
    "* **title** = (String) Defines the graph's title.\n",
    "* **color** = (String) Indicates the graph's color.\n",
    "* **xlabel** = (String) Indicates the x axis' title.\n",
    "* **ylabel** = (String) Indicates the y axis' title.\n"
   ]
  },
  {
   "cell_type": "code",
   "execution_count": 79,
   "id": "3b8304f9",
   "metadata": {},
   "outputs": [
    {
     "data": {
      "text/html": [
       "<div>\n",
       "<style scoped>\n",
       "    .dataframe tbody tr th:only-of-type {\n",
       "        vertical-align: middle;\n",
       "    }\n",
       "\n",
       "    .dataframe tbody tr th {\n",
       "        vertical-align: top;\n",
       "    }\n",
       "\n",
       "    .dataframe thead th {\n",
       "        text-align: right;\n",
       "    }\n",
       "</style>\n",
       "<table border=\"1\" class=\"dataframe\">\n",
       "  <thead>\n",
       "    <tr style=\"text-align: right;\">\n",
       "      <th></th>\n",
       "      <th>month</th>\n",
       "      <th>temperature (celsius)</th>\n",
       "      <th>rain probability (%)</th>\n",
       "    </tr>\n",
       "  </thead>\n",
       "  <tbody>\n",
       "    <tr>\n",
       "      <th>0</th>\n",
       "      <td>jun</td>\n",
       "      <td>29</td>\n",
       "      <td>31</td>\n",
       "    </tr>\n",
       "    <tr>\n",
       "      <th>1</th>\n",
       "      <td>jul</td>\n",
       "      <td>30</td>\n",
       "      <td>40</td>\n",
       "    </tr>\n",
       "    <tr>\n",
       "      <th>2</th>\n",
       "      <td>aug</td>\n",
       "      <td>27</td>\n",
       "      <td>33</td>\n",
       "    </tr>\n",
       "    <tr>\n",
       "      <th>3</th>\n",
       "      <td>sept</td>\n",
       "      <td>26</td>\n",
       "      <td>15</td>\n",
       "    </tr>\n",
       "    <tr>\n",
       "      <th>4</th>\n",
       "      <td>oct</td>\n",
       "      <td>22</td>\n",
       "      <td>19</td>\n",
       "    </tr>\n",
       "  </tbody>\n",
       "</table>\n",
       "</div>"
      ],
      "text/plain": [
       "  month  temperature (celsius)  rain probability (%)\n",
       "0   jun                     29                    31\n",
       "1   jul                     30                    40\n",
       "2   aug                     27                    33\n",
       "3  sept                     26                    15\n",
       "4   oct                     22                    19"
      ]
     },
     "execution_count": 79,
     "metadata": {},
     "output_type": "execute_result"
    }
   ],
   "source": [
    "# Let's create a new dataframe\n",
    "\n",
    "sample_monthly_stats = { 'month': ['jun', 'jul', 'aug', 'sept', 'oct'],\n",
    "    'temperature (celsius)': [29, 30, 27, 26, 22],\n",
    "    'rain probability (%)': [31, 40, 33, 15, 19]}\n",
    "\n",
    "sample_monthly_stats_pd = pd.DataFrame(sample_monthly_stats, columns = ['month', 'temperature (celsius)', 'rain probability (%)'])\n",
    "\n",
    "sample_monthly_stats_pd"
   ]
  },
  {
   "cell_type": "markdown",
   "id": "c01d6ace",
   "metadata": {},
   "source": [
    "### Line plot"
   ]
  },
  {
   "cell_type": "code",
   "execution_count": 81,
   "id": "d7afb450",
   "metadata": {},
   "outputs": [
    {
     "data": {
      "image/png": "[encoded data removed]",
      "text/plain": [
       "<Figure size 432x288 with 1 Axes>"
      ]
     },
     "metadata": {
      "needs_background": "light"
     },
     "output_type": "display_data"
    }
   ],
   "source": [
    "import matplotlib.pyplot as plt\n",
    "\n",
    "# Let's add our parameters inside plot(). Note that the order does not matter.\n",
    "sample_monthly_stats_pd.plot(title = 'Average temperature per month', kind = 'line', x = 'month',\n",
    "                             y = 'temperature (celsius)', color = 'green', xlabel = 'Month',\n",
    "                             ylabel = 'Temperature (Celsius)')\n",
    "\n",
    "# As a good practice, we will continue making use of matplotlib.pyplot's function show() to display our graph.\n",
    "# However, due to Jupyter being interactive, just by making use of plot() we will be able to see our graph. \n",
    "\n",
    "plt.show()\n",
    "\n"
   ]
  },
  {
   "cell_type": "markdown",
   "id": "f72424e8",
   "metadata": {},
   "source": [
    "### Scatter Plot"
   ]
  },
  {
   "cell_type": "code",
   "execution_count": 57,
   "id": "f873bcd2",
   "metadata": {},
   "outputs": [
    {
     "data": {
      "text/html": [
       "<div>\n",
       "<style scoped>\n",
       "    .dataframe tbody tr th:only-of-type {\n",
       "        vertical-align: middle;\n",
       "    }\n",
       "\n",
       "    .dataframe tbody tr th {\n",
       "        vertical-align: top;\n",
       "    }\n",
       "\n",
       "    .dataframe thead th {\n",
       "        text-align: right;\n",
       "    }\n",
       "</style>\n",
       "<table border=\"1\" class=\"dataframe\">\n",
       "  <thead>\n",
       "    <tr style=\"text-align: right;\">\n",
       "      <th></th>\n",
       "      <th>Country</th>\n",
       "      <th>CountryID</th>\n",
       "      <th>Continent</th>\n",
       "      <th>Adolescent fertility rate (%)</th>\n",
       "      <th>Adult literacy rate (%)</th>\n",
       "      <th>Gross national income per capita (PPP international $)</th>\n",
       "      <th>Net primary school enrolment ratio female (%)</th>\n",
       "      <th>Net primary school enrolment ratio male (%)</th>\n",
       "      <th>Population (in thousands) total</th>\n",
       "    </tr>\n",
       "  </thead>\n",
       "  <tbody>\n",
       "    <tr>\n",
       "      <th>0</th>\n",
       "      <td>Afghanistan</td>\n",
       "      <td>1</td>\n",
       "      <td>1</td>\n",
       "      <td>151.0</td>\n",
       "      <td>28.0</td>\n",
       "      <td>NaN</td>\n",
       "      <td>NaN</td>\n",
       "      <td>NaN</td>\n",
       "      <td>26088.0</td>\n",
       "    </tr>\n",
       "    <tr>\n",
       "      <th>1</th>\n",
       "      <td>Albania</td>\n",
       "      <td>2</td>\n",
       "      <td>2</td>\n",
       "      <td>27.0</td>\n",
       "      <td>98.7</td>\n",
       "      <td>6000.0</td>\n",
       "      <td>93.0</td>\n",
       "      <td>94.0</td>\n",
       "      <td>3172.0</td>\n",
       "    </tr>\n",
       "    <tr>\n",
       "      <th>2</th>\n",
       "      <td>Algeria</td>\n",
       "      <td>3</td>\n",
       "      <td>3</td>\n",
       "      <td>6.0</td>\n",
       "      <td>69.9</td>\n",
       "      <td>5940.0</td>\n",
       "      <td>94.0</td>\n",
       "      <td>96.0</td>\n",
       "      <td>33351.0</td>\n",
       "    </tr>\n",
       "    <tr>\n",
       "      <th>3</th>\n",
       "      <td>Andorra</td>\n",
       "      <td>4</td>\n",
       "      <td>2</td>\n",
       "      <td>NaN</td>\n",
       "      <td>NaN</td>\n",
       "      <td>NaN</td>\n",
       "      <td>83.0</td>\n",
       "      <td>83.0</td>\n",
       "      <td>74.0</td>\n",
       "    </tr>\n",
       "    <tr>\n",
       "      <th>4</th>\n",
       "      <td>Angola</td>\n",
       "      <td>5</td>\n",
       "      <td>3</td>\n",
       "      <td>146.0</td>\n",
       "      <td>67.4</td>\n",
       "      <td>3890.0</td>\n",
       "      <td>49.0</td>\n",
       "      <td>51.0</td>\n",
       "      <td>16557.0</td>\n",
       "    </tr>\n",
       "  </tbody>\n",
       "</table>\n",
       "</div>"
      ],
      "text/plain": [
       "       Country  CountryID  Continent  Adolescent fertility rate (%)  \\\n",
       "0  Afghanistan          1          1                          151.0   \n",
       "1      Albania          2          2                           27.0   \n",
       "2      Algeria          3          3                            6.0   \n",
       "3      Andorra          4          2                            NaN   \n",
       "4       Angola          5          3                          146.0   \n",
       "\n",
       "   Adult literacy rate (%)  \\\n",
       "0                     28.0   \n",
       "1                     98.7   \n",
       "2                     69.9   \n",
       "3                      NaN   \n",
       "4                     67.4   \n",
       "\n",
       "   Gross national income per capita (PPP international $)  \\\n",
       "0                                                NaN        \n",
       "1                                             6000.0        \n",
       "2                                             5940.0        \n",
       "3                                                NaN        \n",
       "4                                             3890.0        \n",
       "\n",
       "   Net primary school enrolment ratio female (%)  \\\n",
       "0                                            NaN   \n",
       "1                                           93.0   \n",
       "2                                           94.0   \n",
       "3                                           83.0   \n",
       "4                                           49.0   \n",
       "\n",
       "   Net primary school enrolment ratio male (%)  \\\n",
       "0                                          NaN   \n",
       "1                                         94.0   \n",
       "2                                         96.0   \n",
       "3                                         83.0   \n",
       "4                                         51.0   \n",
       "\n",
       "   Population (in thousands) total  \n",
       "0                          26088.0  \n",
       "1                           3172.0  \n",
       "2                          33351.0  \n",
       "3                             74.0  \n",
       "4                          16557.0  "
      ]
     },
     "execution_count": 57,
     "metadata": {},
     "output_type": "execute_result"
    }
   ],
   "source": [
    "# Let's import a csv file to continue doing some plotting. To do so, we are going to use pandas' function read_csv().\n",
    "import pandas as pd \n",
    "who_data = pd.read_csv(\"WHO_first9cols.csv\")\n",
    "\n",
    "# We can look at the first 5 rows by using head()\n",
    "who_data.head()"
   ]
  },
  {
   "cell_type": "code",
   "execution_count": 75,
   "id": "01a935bc",
   "metadata": {},
   "outputs": [
    {
     "data": {
      "image/png": "[encoded data removed]",
      "text/plain": [
       "<Figure size 432x288 with 1 Axes>"
      ]
     },
     "metadata": {
      "needs_background": "light"
     },
     "output_type": "display_data"
    }
   ],
   "source": [
    "# We will use plot() again, and change the desired parameters\n",
    "who_data.plot(kind = 'scatter', x = 'Adult literacy rate (%)', y = 'Adolescent fertility rate (%)')\n",
    "plt.show()"
   ]
  },
  {
   "cell_type": "markdown",
   "id": "28ffd49e",
   "metadata": {},
   "source": [
    "### Density"
   ]
  },
  {
   "cell_type": "code",
   "execution_count": 82,
   "id": "4a32705d",
   "metadata": {},
   "outputs": [
    {
     "data": {
      "text/plain": [
       "<AxesSubplot:ylabel='Density'>"
      ]
     },
     "execution_count": 82,
     "metadata": {},
     "output_type": "execute_result"
    },
    {
     "data": {
      "image/png": "[encoded data removed]",
      "text/plain": [
       "<Figure size 432x288 with 1 Axes>"
      ]
     },
     "metadata": {
      "needs_background": "light"
     },
     "output_type": "display_data"
    }
   ],
   "source": [
    "# Let's change kind to make a density plot.\n",
    "\n",
    "who_data.plot(kind = 'density', y = 'Adolescent fertility rate (%)')\n",
    "plt.show()"
   ]
  },
  {
   "cell_type": "code",
   "execution_count": 84,
   "id": "2337f7ba",
   "metadata": {},
   "outputs": [
    {
     "data": {
      "text/plain": [
       "46.0"
      ]
     },
     "execution_count": 84,
     "metadata": {},
     "output_type": "execute_result"
    }
   ],
   "source": [
    "# We can verify that the mean of the Adolescent fertility rate (%) is near 50 by using what we learned before.\n",
    "who_data['Adolescent fertility rate (%)'].median()"
   ]
  },
  {
   "cell_type": "markdown",
   "id": "5cfa2c7c",
   "metadata": {},
   "source": [
    "###  Box plot"
   ]
  },
  {
   "cell_type": "code",
   "execution_count": 90,
   "id": "a91567b2",
   "metadata": {},
   "outputs": [
    {
     "data": {
      "text/plain": [
       "<AxesSubplot:>"
      ]
     },
     "execution_count": 90,
     "metadata": {},
     "output_type": "execute_result"
    },
    {
     "data": {
      "image/png": "[encoded data removed]",
      "text/plain": [
       "<Figure size 432x288 with 1 Axes>"
      ]
     },
     "metadata": {
      "needs_background": "light"
     },
     "output_type": "display_data"
    }
   ],
   "source": [
    "# Let's change kind to make a box plot.\n",
    "who_data.plot(kind = 'box', y = 'Adolescent fertility rate (%)')"
   ]
  },
  {
   "cell_type": "code",
   "execution_count": 92,
   "id": "c4914ddf",
   "metadata": {},
   "outputs": [
    {
     "data": {
      "text/plain": [
       "count    177.000000\n",
       "mean      59.457627\n",
       "std       49.105286\n",
       "min        0.000000\n",
       "25%       19.000000\n",
       "50%       46.000000\n",
       "75%       91.000000\n",
       "max      199.000000\n",
       "Name: Adolescent fertility rate (%), dtype: float64"
      ]
     },
     "execution_count": 92,
     "metadata": {},
     "output_type": "execute_result"
    }
   ],
   "source": [
    "# We can verify our graph by using describe(). Does the plot make sense?\n",
    "who_data['Adolescent fertility rate (%)'].describe()"
   ]
  },
  {
   "cell_type": "markdown",
   "id": "f2ebb945",
   "metadata": {},
   "source": [
    "### Histogram"
   ]
  },
  {
   "cell_type": "code",
   "execution_count": 99,
   "id": "e5c75f8a",
   "metadata": {},
   "outputs": [
    {
     "data": {
      "text/plain": [
       "<AxesSubplot:ylabel='Frequency'>"
      ]
     },
     "execution_count": 99,
     "metadata": {},
     "output_type": "execute_result"
    },
    {
     "data": {
      "image/png": "[encoded data removed]",
      "text/plain": [
       "<Figure size 432x288 with 1 Axes>"
      ]
     },
     "metadata": {
      "needs_background": "light"
     },
     "output_type": "display_data"
    }
   ],
   "source": [
    "# For histograms, we can specify a column right after the dataframe by doing dataframe[columnName]\n",
    "\n",
    "# Note that pandas will do automatically choose our bins if not specified.\n",
    "who_data['Adolescent fertility rate (%)'].plot(kind = 'hist')\n",
    "plt.show()"
   ]
  },
  {
   "cell_type": "code",
   "execution_count": 100,
   "id": "683204ce",
   "metadata": {},
   "outputs": [
    {
     "data": {
      "text/plain": [
       "<AxesSubplot:ylabel='Frequency'>"
      ]
     },
     "execution_count": 100,
     "metadata": {},
     "output_type": "execute_result"
    },
    {
     "data": {
      "image/png": "[encoded data removed]",
      "text/plain": [
       "<Figure size 432x288 with 1 Axes>"
      ]
     },
     "metadata": {
      "needs_background": "light"
     },
     "output_type": "display_data"
    }
   ],
   "source": [
    "# Let's change the number of bins by adding the bins parameter\n",
    "who_data['Adolescent fertility rate (%)'].plot(kind = 'hist', bins = [0, 50, 100, 150, 200])"
   ]
  },
  {
   "cell_type": "code",
   "execution_count": null,
   "id": "0bb3ca1d",
   "metadata": {},
   "outputs": [],
   "source": []
  }
 ],
 "metadata": {
  "kernelspec": {
   "display_name": "Python 3 (ipykernel)",
   "language": "python",
   "name": "python3"
  },
  "language_info": {
   "codemirror_mode": {
    "name": "ipython",
    "version": 3
   },
   "file_extension": ".py",
   "mimetype": "text/x-python",
   "name": "python",
   "nbconvert_exporter": "python",
   "pygments_lexer": "ipython3",
   "version": "3.9.12"
  }
 },
 "nbformat": 4,
 "nbformat_minor": 5
}
