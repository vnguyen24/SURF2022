{
 "cells": [
  {
   "cell_type": "markdown",
   "id": "bb1bd81c",
   "metadata": {},
   "source": [
    "# Univariate Data Exploration\n",
    "\n",
    "Although there are multiple ways to calculate these statistics, we will specifically use pandas for the following reasons:\n",
    "1. Pandas by itself can calculate all the statistics in a univariate data exploration process. For other packages, we would have to mix and match\n",
    "2. Pandas is data-centric, taking dataframes as inputs. In other words, pandas treats a dataframe as the main object. This is very similar to R!"
   ]
  },
  {
   "cell_type": "markdown",
   "id": "a65fd759",
   "metadata": {},
   "source": [
    "## Mean"
   ]
  },
  {
   "cell_type": "code",
   "execution_count": 14,
   "id": "96fca7fd",
   "metadata": {},
   "outputs": [
    {
     "data": {
      "text/html": [
       "<div>\n",
       "<style scoped>\n",
       "    .dataframe tbody tr th:only-of-type {\n",
       "        vertical-align: middle;\n",
       "    }\n",
       "\n",
       "    .dataframe tbody tr th {\n",
       "        vertical-align: top;\n",
       "    }\n",
       "\n",
       "    .dataframe thead th {\n",
       "        text-align: right;\n",
       "    }\n",
       "</style>\n",
       "<table border=\"1\" class=\"dataframe\">\n",
       "  <thead>\n",
       "    <tr style=\"text-align: right;\">\n",
       "      <th></th>\n",
       "      <th>name</th>\n",
       "      <th>gender</th>\n",
       "      <th>age</th>\n",
       "      <th>gpa</th>\n",
       "    </tr>\n",
       "  </thead>\n",
       "  <tbody>\n",
       "    <tr>\n",
       "      <th>0</th>\n",
       "      <td>A</td>\n",
       "      <td>M</td>\n",
       "      <td>18</td>\n",
       "      <td>3.9</td>\n",
       "    </tr>\n",
       "    <tr>\n",
       "      <th>1</th>\n",
       "      <td>B</td>\n",
       "      <td>F</td>\n",
       "      <td>20</td>\n",
       "      <td>3.7</td>\n",
       "    </tr>\n",
       "    <tr>\n",
       "      <th>2</th>\n",
       "      <td>C</td>\n",
       "      <td>F</td>\n",
       "      <td>19</td>\n",
       "      <td>3.0</td>\n",
       "    </tr>\n",
       "    <tr>\n",
       "      <th>3</th>\n",
       "      <td>D</td>\n",
       "      <td>M</td>\n",
       "      <td>22</td>\n",
       "      <td>4.0</td>\n",
       "    </tr>\n",
       "    <tr>\n",
       "      <th>4</th>\n",
       "      <td>E</td>\n",
       "      <td>F</td>\n",
       "      <td>17</td>\n",
       "      <td>3.3</td>\n",
       "    </tr>\n",
       "    <tr>\n",
       "      <th>5</th>\n",
       "      <td>G</td>\n",
       "      <td>F</td>\n",
       "      <td>19</td>\n",
       "      <td>3.7</td>\n",
       "    </tr>\n",
       "  </tbody>\n",
       "</table>\n",
       "</div>"
      ],
      "text/plain": [
       "  name gender  age  gpa\n",
       "0    A      M   18  3.9\n",
       "1    B      F   20  3.7\n",
       "2    C      F   19  3.0\n",
       "3    D      M   22  4.0\n",
       "4    E      F   17  3.3\n",
       "5    G      F   19  3.7"
      ]
     },
     "execution_count": 14,
     "metadata": {},
     "output_type": "execute_result"
    }
   ],
   "source": [
    "# Example of calculating mean\n",
    "\n",
    "# Import pandas library\n",
    "import pandas as pd #Note that you can name the library however you want. \"pd\" is just a convention that we follow\n",
    "\n",
    "# Create dataframe\n",
    "raw_data = {\"name\" : [\"A\", \"B\", \"C\", \"D\", \"E\", \"G\"],\n",
    "       \"gender\": [\"M\",\"F\", \"F\", \"M\", \"F\", \"F\"],\n",
    "       \"age\": [18, 20, 19, 22, 17, 19],\n",
    "       \"gpa\": [3.9, 3.7, 3.0, 4.0, 3.3, 3.7]}\n",
    "\n",
    "# To officially make it a pandas dataframe, we need this code\n",
    "data = pd.DataFrame(raw_data, columns = [\"name\", \"gender\", \"age\", \"gpa\"])\n",
    "\n",
    "# Look at the data\n",
    "data\n"
   ]
  },
  {
   "cell_type": "code",
   "execution_count": 28,
   "id": "94d06325",
   "metadata": {},
   "outputs": [
    {
     "name": "stdout",
     "output_type": "stream",
     "text": [
      "age    19.166667\n",
      "gpa     3.600000\n",
      "dtype: float64\n",
      "\n",
      "19.166666666666668\n"
     ]
    },
    {
     "name": "stderr",
     "output_type": "stream",
     "text": [
      "C:\\Users\\nguye\\AppData\\Local\\Temp\\ipykernel_10620\\2956090183.py:2: FutureWarning: Dropping of nuisance columns in DataFrame reductions (with 'numeric_only=None') is deprecated; in a future version this will raise TypeError.  Select only valid columns before calling the reduction.\n",
      "  mean_all = data.mean(axis = 0)\n"
     ]
    }
   ],
   "source": [
    "# Calculate mean across dataframe. axis = 0 is by column, axis = 1 is by row\n",
    "mean_all = data.mean(axis = 0)\n",
    "print(mean_all)\n",
    "print()\n",
    "\n",
    "# If you only need mean of one column, you can specify the column to calculate. Default setting is by column\n",
    "mean_age = data[\"age\"].mean()\n",
    "print(mean_age)\n",
    "\n",
    "# Q: The book says axis = 0 represents the mean ALONG THE ROWS, which I found a bit unclear"
   ]
  },
  {
   "cell_type": "markdown",
   "id": "fe92471e",
   "metadata": {},
   "source": [
    "## Median\n",
    "\n",
    "We will use the same dataframe for consistency"
   ]
  },
  {
   "cell_type": "code",
   "execution_count": 26,
   "id": "31651873",
   "metadata": {},
   "outputs": [
    {
     "name": "stdout",
     "output_type": "stream",
     "text": [
      "age    19.0\n",
      "gpa     3.7\n",
      "dtype: float64\n",
      "\n",
      "3.7\n"
     ]
    },
    {
     "name": "stderr",
     "output_type": "stream",
     "text": [
      "C:\\Users\\nguye\\AppData\\Local\\Temp\\ipykernel_10620\\1186917382.py:2: FutureWarning: Dropping of nuisance columns in DataFrame reductions (with 'numeric_only=None') is deprecated; in a future version this will raise TypeError.  Select only valid columns before calling the reduction.\n",
      "  median_all = data.median(axis = 0)\n"
     ]
    }
   ],
   "source": [
    "# Calculate median across dataframe\n",
    "median_all = data.median(axis = 0)\n",
    "print(median_all)\n",
    "print()\n",
    "\n",
    "# Calculate median of a single column\n",
    "median_gpa = data[\"gpa\"].median(axis = 0)\n",
    "print(median_gpa)"
   ]
  },
  {
   "cell_type": "markdown",
   "id": "c1484b14",
   "metadata": {},
   "source": [
    "## Mode\n",
    "We will use the same dataframe for consistency"
   ]
  },
  {
   "cell_type": "code",
   "execution_count": 25,
   "id": "ed833fa3",
   "metadata": {},
   "outputs": [
    {
     "name": "stdout",
     "output_type": "stream",
     "text": [
      "  name gender   age  gpa\n",
      "0    A      F  19.0  3.7\n",
      "1    B    NaN   NaN  NaN\n",
      "2    C    NaN   NaN  NaN\n",
      "3    D    NaN   NaN  NaN\n",
      "4    E    NaN   NaN  NaN\n",
      "5    G    NaN   NaN  NaN\n",
      "\n",
      "0    F\n",
      "Name: gender, dtype: object\n"
     ]
    }
   ],
   "source": [
    "# Calculate mode across dataframe --> Notice that it will list out of values with the same mode\n",
    "mode_all = data.mode()\n",
    "print(mode_all)\n",
    "print()\n",
    "\n",
    "# Calculate mode of a single column\n",
    "mode_gender = data[\"gender\"].mode()\n",
    "print(mode_gender)"
   ]
  },
  {
   "cell_type": "markdown",
   "id": "1c583522",
   "metadata": {},
   "source": [
    "## Max, Min, and Range\n",
    "\n",
    "We will use the same dataframe for consistency"
   ]
  },
  {
   "cell_type": "code",
   "execution_count": 31,
   "id": "f59ce423",
   "metadata": {},
   "outputs": [
    {
     "name": "stdout",
     "output_type": "stream",
     "text": [
      "5\n"
     ]
    }
   ],
   "source": [
    "# Calculate the max/min age\n",
    "max_age = data[\"age\"].max()\n",
    "min_age = data[\"age\"].min()\n",
    "\n",
    "# Calculate the age range\n",
    "range = max_age - min_age\n",
    "print(range)"
   ]
  },
  {
   "cell_type": "markdown",
   "id": "ebb257fe",
   "metadata": {},
   "source": [
    "## IQR: Inter Quartile Range\n",
    "\n",
    "We will use the same dataframe for consistency.\n",
    "\n",
    "Note that pandas doesn't have a function that calculates directly the IQR. pandas, however, provides a workaround: Calculate Q1 and Q3, then find IQR by subtracting Q1 from Q3."
   ]
  },
  {
   "cell_type": "code",
   "execution_count": 30,
   "id": "fb356d9d",
   "metadata": {},
   "outputs": [
    {
     "name": "stdout",
     "output_type": "stream",
     "text": [
      "0.4500000000000002\n"
     ]
    }
   ],
   "source": [
    "# Calculate the quantiles of gpa\n",
    "q1 = data[\"gpa\"].quantile(0.25)\n",
    "q3 = data[\"gpa\"].quantile(0.75)\n",
    "\n",
    "# Calculate the IQR of gpa\n",
    "iqr = q3 - q1\n",
    "print(iqr)"
   ]
  }
 ],
 "metadata": {
  "kernelspec": {
   "display_name": "Python 3 (ipykernel)",
   "language": "python",
   "name": "python3"
  },
  "language_info": {
   "codemirror_mode": {
    "name": "ipython",
    "version": 3
   },
   "file_extension": ".py",
   "mimetype": "text/x-python",
   "name": "python",
   "nbconvert_exporter": "python",
   "pygments_lexer": "ipython3",
   "version": "3.9.12"
  }
 },
 "nbformat": 4,
 "nbformat_minor": 5
}
