{
 "cells": [
  {
   "cell_type": "markdown",
   "id": "b0223080",
   "metadata": {},
   "source": [
    "# Exploratory Data Analysis in Python\n",
    "\n",
    "## Lesson Overview\n",
    "Welcome to lesson two! Today, we will dive into creating, describing, and visualizing dataframes by using the Matplotlib, Pandas, and Seaborn (All Python libraries).\n",
    "\n",
    "By the end of this lesson you will be able to:\n",
    "* Create your own dataframes\n",
    "* Load csv files as dataframes\n",
    "* Describe dataframes using Pandas\n",
    "* Visualize dataframes using Pandas, Seaborn and Matplotlib"
   ]
  },
  {
   "cell_type": "markdown",
   "id": "bb1bd81c",
   "metadata": {},
   "source": [
    "# Univariate Data Exploration\n",
    "\n",
    "Although there are multiple ways to calculate these statistics, we will specifically use pandas for the following reasons:\n",
    "1. Pandas by itself can calculate all the statistics in a univariate data exploration process. For other packages, we would have to mix and match\n",
    "2. Pandas is data-centric, taking dataframes as inputs. In other words, pandas treats a dataframe as the main object. This is very similar to R!"
   ]
  },
  {
   "cell_type": "markdown",
   "id": "d20ae41f",
   "metadata": {},
   "source": [
    "## Univariate Categorical non-graphical"
   ]
  },
  {
   "cell_type": "markdown",
   "id": "606a45c8",
   "metadata": {},
   "source": [
    "### Frequency Tables"
   ]
  },
  {
   "cell_type": "markdown",
   "id": "5daa413b",
   "metadata": {},
   "source": [
    "Let's create a new dataframe!"
   ]
  },
  {
   "cell_type": "code",
   "execution_count": 2,
   "id": "96fca7fd",
   "metadata": {},
   "outputs": [
    {
     "data": {
      "text/html": [
       "<div>\n",
       "<style scoped>\n",
       "    .dataframe tbody tr th:only-of-type {\n",
       "        vertical-align: middle;\n",
       "    }\n",
       "\n",
       "    .dataframe tbody tr th {\n",
       "        vertical-align: top;\n",
       "    }\n",
       "\n",
       "    .dataframe thead th {\n",
       "        text-align: right;\n",
       "    }\n",
       "</style>\n",
       "<table border=\"1\" class=\"dataframe\">\n",
       "  <thead>\n",
       "    <tr style=\"text-align: right;\">\n",
       "      <th></th>\n",
       "      <th>name</th>\n",
       "      <th>gender</th>\n",
       "      <th>state</th>\n",
       "      <th>gpa</th>\n",
       "    </tr>\n",
       "  </thead>\n",
       "  <tbody>\n",
       "    <tr>\n",
       "      <th>0</th>\n",
       "      <td>A</td>\n",
       "      <td>M</td>\n",
       "      <td>MA</td>\n",
       "      <td>3.9</td>\n",
       "    </tr>\n",
       "    <tr>\n",
       "      <th>1</th>\n",
       "      <td>B</td>\n",
       "      <td>F</td>\n",
       "      <td>NY</td>\n",
       "      <td>3.7</td>\n",
       "    </tr>\n",
       "    <tr>\n",
       "      <th>2</th>\n",
       "      <td>C</td>\n",
       "      <td>F</td>\n",
       "      <td>NH</td>\n",
       "      <td>3.0</td>\n",
       "    </tr>\n",
       "    <tr>\n",
       "      <th>3</th>\n",
       "      <td>D</td>\n",
       "      <td>M</td>\n",
       "      <td>MA</td>\n",
       "      <td>4.0</td>\n",
       "    </tr>\n",
       "    <tr>\n",
       "      <th>4</th>\n",
       "      <td>E</td>\n",
       "      <td>F</td>\n",
       "      <td>NY</td>\n",
       "      <td>3.3</td>\n",
       "    </tr>\n",
       "    <tr>\n",
       "      <th>5</th>\n",
       "      <td>G</td>\n",
       "      <td>F</td>\n",
       "      <td>LA</td>\n",
       "      <td>3.7</td>\n",
       "    </tr>\n",
       "  </tbody>\n",
       "</table>\n",
       "</div>"
      ],
      "text/plain": [
       "  name gender state  gpa\n",
       "0    A      M    MA  3.9\n",
       "1    B      F    NY  3.7\n",
       "2    C      F    NH  3.0\n",
       "3    D      M    MA  4.0\n",
       "4    E      F    NY  3.3\n",
       "5    G      F    LA  3.7"
      ]
     },
     "execution_count": 2,
     "metadata": {},
     "output_type": "execute_result"
    }
   ],
   "source": [
    "# Import pandas library\n",
    "# Note that you can name the library however you want. \"pd\" is just a convention that we follow\n",
    "import pandas as pd\n",
    "\n",
    "# Firstly, we're going to play around with our own dataframe\n",
    "students_raw = {\"name\" : [\"A\", \"B\", \"C\", \"D\", \"E\", \"G\"],\n",
    "       \"gender\": [\"M\",\"F\", \"F\", \"M\", \"F\", \"F\"],\n",
    "       \"state\": [\"MA\", \"NY\", \"NH\", \"MA\", \"NY\", \"LA\"],\n",
    "       \"gpa\": [3.9, 3.7, 3.0, 4.0, 3.3, 3.7]}\n",
    "\n",
    "# To officially make it a pandas dataframe, we need this code\n",
    "students_pd = pd.DataFrame(students_raw, columns = [\"name\", \"gender\", \"state\", \"gpa\"])\n",
    "\n",
    "# Look at the data\n",
    "students_pd\n"
   ]
  },
  {
   "cell_type": "code",
   "execution_count": 3,
   "id": "fcf0f499",
   "metadata": {},
   "outputs": [
    {
     "name": "stdout",
     "output_type": "stream",
     "text": [
      "MA    2\n",
      "NY    2\n",
      "NH    1\n",
      "LA    1\n",
      "Name: state, dtype: int64\n"
     ]
    }
   ],
   "source": [
    "# Let's say that we want to create a frequency table of states. \n",
    "# To do so, we type dataframe[columnName].value_counts()\n",
    "freq_one = students_pd[\"state\"].value_counts()\n",
    "print(freq_one)"
   ]
  },
  {
   "cell_type": "markdown",
   "id": "8f7a31db",
   "metadata": {},
   "source": [
    "Realistically speaking, though, we would generally work with bigger dataframes!"
   ]
  },
  {
   "cell_type": "markdown",
   "id": "a9218fd7",
   "metadata": {},
   "source": [
    "### Importing a dataframe from a csv file\n",
    "\n",
    "We can import a csv file to work with external data. In order to do so, we are going to use pd.read_csv(\"nameOfFile.csv).\n",
    "\n",
    "**Note** : your file must be stored in the same folder as this jupyter notebook."
   ]
  },
  {
   "cell_type": "code",
   "execution_count": 5,
   "id": "deccc2aa",
   "metadata": {},
   "outputs": [],
   "source": [
    "penguins = pd.read_csv(\"penguins_lter.csv\")"
   ]
  },
  {
   "cell_type": "markdown",
   "id": "b6959464",
   "metadata": {},
   "source": [
    "Now, we can look at the first few rows by typing dataframe.head(), or the last few rows by typing dataframe.tail()"
   ]
  },
  {
   "cell_type": "code",
   "execution_count": 37,
   "id": "40483077",
   "metadata": {},
   "outputs": [
    {
     "data": {
      "text/html": [
       "<div>\n",
       "<style scoped>\n",
       "    .dataframe tbody tr th:only-of-type {\n",
       "        vertical-align: middle;\n",
       "    }\n",
       "\n",
       "    .dataframe tbody tr th {\n",
       "        vertical-align: top;\n",
       "    }\n",
       "\n",
       "    .dataframe thead th {\n",
       "        text-align: right;\n",
       "    }\n",
       "</style>\n",
       "<table border=\"1\" class=\"dataframe\">\n",
       "  <thead>\n",
       "    <tr style=\"text-align: right;\">\n",
       "      <th></th>\n",
       "      <th>studyName</th>\n",
       "      <th>Sample Number</th>\n",
       "      <th>Species</th>\n",
       "      <th>Region</th>\n",
       "      <th>Island</th>\n",
       "      <th>Stage</th>\n",
       "      <th>Individual ID</th>\n",
       "      <th>Clutch Completion</th>\n",
       "      <th>Date Egg</th>\n",
       "      <th>Culmen Length (mm)</th>\n",
       "      <th>Culmen Depth (mm)</th>\n",
       "      <th>Flipper Length (mm)</th>\n",
       "      <th>Body Mass (g)</th>\n",
       "      <th>Sex</th>\n",
       "      <th>Delta 15 N (o/oo)</th>\n",
       "      <th>Delta 13 C (o/oo)</th>\n",
       "      <th>Comments</th>\n",
       "    </tr>\n",
       "  </thead>\n",
       "  <tbody>\n",
       "    <tr>\n",
       "      <th>0</th>\n",
       "      <td>PAL0708</td>\n",
       "      <td>1</td>\n",
       "      <td>Adelie Penguin (Pygoscelis adeliae)</td>\n",
       "      <td>Anvers</td>\n",
       "      <td>Torgersen</td>\n",
       "      <td>Adult, 1 Egg Stage</td>\n",
       "      <td>N1A1</td>\n",
       "      <td>Yes</td>\n",
       "      <td>11/11/07</td>\n",
       "      <td>39.1</td>\n",
       "      <td>18.7</td>\n",
       "      <td>181.0</td>\n",
       "      <td>3750.0</td>\n",
       "      <td>MALE</td>\n",
       "      <td>NaN</td>\n",
       "      <td>NaN</td>\n",
       "      <td>Not enough blood for isotopes.</td>\n",
       "    </tr>\n",
       "    <tr>\n",
       "      <th>1</th>\n",
       "      <td>PAL0708</td>\n",
       "      <td>2</td>\n",
       "      <td>Adelie Penguin (Pygoscelis adeliae)</td>\n",
       "      <td>Anvers</td>\n",
       "      <td>Torgersen</td>\n",
       "      <td>Adult, 1 Egg Stage</td>\n",
       "      <td>N1A2</td>\n",
       "      <td>Yes</td>\n",
       "      <td>11/11/07</td>\n",
       "      <td>39.5</td>\n",
       "      <td>17.4</td>\n",
       "      <td>186.0</td>\n",
       "      <td>3800.0</td>\n",
       "      <td>FEMALE</td>\n",
       "      <td>8.94956</td>\n",
       "      <td>-24.69454</td>\n",
       "      <td>NaN</td>\n",
       "    </tr>\n",
       "    <tr>\n",
       "      <th>2</th>\n",
       "      <td>PAL0708</td>\n",
       "      <td>3</td>\n",
       "      <td>Adelie Penguin (Pygoscelis adeliae)</td>\n",
       "      <td>Anvers</td>\n",
       "      <td>Torgersen</td>\n",
       "      <td>Adult, 1 Egg Stage</td>\n",
       "      <td>N2A1</td>\n",
       "      <td>Yes</td>\n",
       "      <td>11/16/07</td>\n",
       "      <td>40.3</td>\n",
       "      <td>18.0</td>\n",
       "      <td>195.0</td>\n",
       "      <td>3250.0</td>\n",
       "      <td>FEMALE</td>\n",
       "      <td>8.36821</td>\n",
       "      <td>-25.33302</td>\n",
       "      <td>NaN</td>\n",
       "    </tr>\n",
       "    <tr>\n",
       "      <th>3</th>\n",
       "      <td>PAL0708</td>\n",
       "      <td>4</td>\n",
       "      <td>Adelie Penguin (Pygoscelis adeliae)</td>\n",
       "      <td>Anvers</td>\n",
       "      <td>Torgersen</td>\n",
       "      <td>Adult, 1 Egg Stage</td>\n",
       "      <td>N2A2</td>\n",
       "      <td>Yes</td>\n",
       "      <td>11/16/07</td>\n",
       "      <td>NaN</td>\n",
       "      <td>NaN</td>\n",
       "      <td>NaN</td>\n",
       "      <td>NaN</td>\n",
       "      <td>NaN</td>\n",
       "      <td>NaN</td>\n",
       "      <td>NaN</td>\n",
       "      <td>Adult not sampled.</td>\n",
       "    </tr>\n",
       "    <tr>\n",
       "      <th>4</th>\n",
       "      <td>PAL0708</td>\n",
       "      <td>5</td>\n",
       "      <td>Adelie Penguin (Pygoscelis adeliae)</td>\n",
       "      <td>Anvers</td>\n",
       "      <td>Torgersen</td>\n",
       "      <td>Adult, 1 Egg Stage</td>\n",
       "      <td>N3A1</td>\n",
       "      <td>Yes</td>\n",
       "      <td>11/16/07</td>\n",
       "      <td>36.7</td>\n",
       "      <td>19.3</td>\n",
       "      <td>193.0</td>\n",
       "      <td>3450.0</td>\n",
       "      <td>FEMALE</td>\n",
       "      <td>8.76651</td>\n",
       "      <td>-25.32426</td>\n",
       "      <td>NaN</td>\n",
       "    </tr>\n",
       "  </tbody>\n",
       "</table>\n",
       "</div>"
      ],
      "text/plain": [
       "  studyName  Sample Number                              Species  Region  \\\n",
       "0   PAL0708              1  Adelie Penguin (Pygoscelis adeliae)  Anvers   \n",
       "1   PAL0708              2  Adelie Penguin (Pygoscelis adeliae)  Anvers   \n",
       "2   PAL0708              3  Adelie Penguin (Pygoscelis adeliae)  Anvers   \n",
       "3   PAL0708              4  Adelie Penguin (Pygoscelis adeliae)  Anvers   \n",
       "4   PAL0708              5  Adelie Penguin (Pygoscelis adeliae)  Anvers   \n",
       "\n",
       "      Island               Stage Individual ID Clutch Completion  Date Egg  \\\n",
       "0  Torgersen  Adult, 1 Egg Stage          N1A1               Yes  11/11/07   \n",
       "1  Torgersen  Adult, 1 Egg Stage          N1A2               Yes  11/11/07   \n",
       "2  Torgersen  Adult, 1 Egg Stage          N2A1               Yes  11/16/07   \n",
       "3  Torgersen  Adult, 1 Egg Stage          N2A2               Yes  11/16/07   \n",
       "4  Torgersen  Adult, 1 Egg Stage          N3A1               Yes  11/16/07   \n",
       "\n",
       "   Culmen Length (mm)  Culmen Depth (mm)  Flipper Length (mm)  Body Mass (g)  \\\n",
       "0                39.1               18.7                181.0         3750.0   \n",
       "1                39.5               17.4                186.0         3800.0   \n",
       "2                40.3               18.0                195.0         3250.0   \n",
       "3                 NaN                NaN                  NaN            NaN   \n",
       "4                36.7               19.3                193.0         3450.0   \n",
       "\n",
       "      Sex  Delta 15 N (o/oo)  Delta 13 C (o/oo)  \\\n",
       "0    MALE                NaN                NaN   \n",
       "1  FEMALE            8.94956          -24.69454   \n",
       "2  FEMALE            8.36821          -25.33302   \n",
       "3     NaN                NaN                NaN   \n",
       "4  FEMALE            8.76651          -25.32426   \n",
       "\n",
       "                         Comments  \n",
       "0  Not enough blood for isotopes.  \n",
       "1                             NaN  \n",
       "2                             NaN  \n",
       "3              Adult not sampled.  \n",
       "4                             NaN  "
      ]
     },
     "execution_count": 37,
     "metadata": {},
     "output_type": "execute_result"
    }
   ],
   "source": [
    "penguins.head()"
   ]
  },
  {
   "cell_type": "code",
   "execution_count": 186,
   "id": "77df6a36",
   "metadata": {},
   "outputs": [
    {
     "name": "stdout",
     "output_type": "stream",
     "text": [
      "Adelie Penguin (Pygoscelis adeliae)          152\n",
      "Gentoo penguin (Pygoscelis papua)            124\n",
      "Chinstrap penguin (Pygoscelis antarctica)     68\n",
      "Name: Species, dtype: int64\n"
     ]
    }
   ],
   "source": [
    "# Let's say that we want to create a frequency table of species. \n",
    "# To do so, we type dataframe[columnName].value_counts()\n",
    "freq_one = penguins[\"Species\"].value_counts()\n",
    "print(freq_one)"
   ]
  },
  {
   "cell_type": "markdown",
   "id": "a962777d",
   "metadata": {},
   "source": [
    "### Relative Frequency Table"
   ]
  },
  {
   "cell_type": "code",
   "execution_count": 187,
   "id": "0a76565e",
   "metadata": {},
   "outputs": [
    {
     "name": "stdout",
     "output_type": "stream",
     "text": [
      "Adelie Penguin (Pygoscelis adeliae)          0.441860\n",
      "Gentoo penguin (Pygoscelis papua)            0.360465\n",
      "Chinstrap penguin (Pygoscelis antarctica)    0.197674\n",
      "Name: Species, dtype: float64\n"
     ]
    }
   ],
   "source": [
    "# Let's say that we want to create a frequency table of species. \n",
    "# To do so, we type dataframe[columnName].value_counts(normalize = True)\n",
    "freq_one = penguins[\"Species\"].value_counts(normalize = True)\n",
    "print(freq_one)"
   ]
  },
  {
   "cell_type": "markdown",
   "id": "cc14ec19",
   "metadata": {},
   "source": [
    "## Univariate Quantitative non-graphical"
   ]
  },
  {
   "cell_type": "markdown",
   "id": "3b7ae41c",
   "metadata": {},
   "source": [
    "### Descriptive statistics"
   ]
  },
  {
   "cell_type": "markdown",
   "id": "2bc3b470",
   "metadata": {},
   "source": [
    "For quantitative variables, we can calculate sample statistics: mean, variance, and standard deviation. All of these are calculated in the same way:\n",
    "* mean_all_columns = dataframe_name.mean(numeric_only = True)\n",
    "* median_all_columns = dataframe_name.median(numeric_only = True)\n",
    "* mode_all_columns = dataframe_name.mode(numeric_only = True)\n",
    "* mode_all_columns = dataframe_name.mode(numeric_only = True)\n",
    "* maximum_all_columns = dataframe_name.max(numeric_only = True)\n",
    "* min_all_columns = dataframe_name.min(numeric_only = True)\n",
    "* std_all_columns = dataframe_name.std(numeric_only = True)\n",
    "* var_all_columns = dataframe_name.var(numeric_only = True)"
   ]
  },
  {
   "cell_type": "markdown",
   "id": "a3dffdbb",
   "metadata": {},
   "source": [
    "**It is possible to skip numeric_only = True, however, this will show a warning message.**\n",
    "\n",
    "Keep in mind that pandas, by default, will calculate these values column by column. If we would like to do row by row we would have to type axis = 0 inside the parentheses.\n",
    "\n",
    "The above code will calculate the sample statistics for ALL quantitative variables in our dataframe. If we would only like to display one column, we can use the following pattern:"
   ]
  },
  {
   "cell_type": "markdown",
   "id": "8d9ed0ea",
   "metadata": {},
   "source": [
    "* mean_column = dataframe_name[\"columnName\"].mean()\n",
    "\n",
    "* median_column = dataframe_name[\"columnName\"].median()\n",
    "\n",
    "* mode_column = dataframe_name[\"columnName\"].mode()\n",
    "\n",
    "* maximum_column = dataframe_name[\"columnName\"].max()\n",
    "\n",
    "* min_column = dataframe_name[\"columnName\"].min()\n",
    "\n",
    "* std_column = dataframe_name[\"columnName\"].std()\n",
    "\n",
    "* var_column = dataframe_name[\"columnName\"].var()"
   ]
  },
  {
   "cell_type": "markdown",
   "id": "97518c71",
   "metadata": {},
   "source": [
    "Now, let's create our own dataframe to play around with these new functions!"
   ]
  },
  {
   "cell_type": "code",
   "execution_count": 182,
   "id": "94d06325",
   "metadata": {
    "scrolled": true
   },
   "outputs": [
    {
     "name": "stdout",
     "output_type": "stream",
     "text": [
      "age    19.166667\n",
      "gpa     3.600000\n",
      "dtype: float64\n",
      "The mean for age:  19.166666666666668\n"
     ]
    }
   ],
   "source": [
    "# Calculate mean across dataframe\n",
    "mean_all = students_pd.mean(numeric_only = True)\n",
    "print(mean_all)\n",
    "\n",
    "# Let's calculate the mean for age\n",
    "mean_age = students_pd[\"age\"].mean()\n",
    "print(\"The mean for age: \", mean_age)"
   ]
  },
  {
   "cell_type": "code",
   "execution_count": 183,
   "id": "822062e6",
   "metadata": {},
   "outputs": [
    {
     "name": "stdout",
     "output_type": "stream",
     "text": [
      "Penguin's mean culmen length is equal to:  43.92192982456142\n"
     ]
    }
   ],
   "source": [
    "mean_culmen_length = penguins[\"Culmen Length (mm)\"].mean()\n",
    "print(\"Penguins' mean culmen length is equal to: \", mean_culmen_length)"
   ]
  },
  {
   "cell_type": "markdown",
   "id": "1c583522",
   "metadata": {},
   "source": [
    "### Range\n",
    "To calculate range we will use two of the functions we previously learned: max() and min()"
   ]
  },
  {
   "cell_type": "code",
   "execution_count": 41,
   "id": "f59ce423",
   "metadata": {},
   "outputs": [
    {
     "name": "stdout",
     "output_type": "stream",
     "text": [
      "27.5\n"
     ]
    }
   ],
   "source": [
    "# Calculate the max/min culmen length\n",
    "max_cul_length = penguins[\"Culmen Length (mm)\"].max()\n",
    "min_cul_length = penguins[\"Culmen Length (mm)\"].min()\n",
    "\n",
    "# Calculate the age range by subtracting max_age and min_age\n",
    "cul_length_range = max_cul_length - min_cul_length\n",
    "print(\"Culmen length range: \", cul_length_range)"
   ]
  },
  {
   "cell_type": "markdown",
   "id": "a48eb2a4",
   "metadata": {},
   "source": [
    "### Quantiles and Inter Quartile Range (IQR)"
   ]
  },
  {
   "cell_type": "markdown",
   "id": "1ffc384e",
   "metadata": {},
   "source": [
    "To calculate quantiles we will use the same format as before: dataframe[\"columnName\"].quantile()\n",
    "\n",
    "Inside quantile parentheses we have to indicate which quantile we are calculating"
   ]
  },
  {
   "cell_type": "markdown",
   "id": "13ba78c5",
   "metadata": {},
   "source": [
    "* q1 = dataframe[\"columnName\"].quantile(0.25)\n",
    "* q2 = dataframe[\"columnName\"].quantile(0.50)\n",
    "* q3 = dataframe[\"columnName\"].quantile(0.75)"
   ]
  },
  {
   "cell_type": "markdown",
   "id": "ebb257fe",
   "metadata": {},
   "source": [
    "Note that pandas doesn't have a function that calculates directly the IQR. pandas, however, provides a workaround: Calculate Q1 and Q3, then find IQR by subtracting Q1 from Q3."
   ]
  },
  {
   "cell_type": "code",
   "execution_count": 184,
   "id": "06fcfa5e",
   "metadata": {},
   "outputs": [
    {
     "name": "stdout",
     "output_type": "stream",
     "text": [
      "Penguins' IQR:  1200.0\n"
     ]
    }
   ],
   "source": [
    "# Calculate the quantiles of gpa\n",
    "q1 = penguins[\"Body Mass (g)\"].quantile(0.25)\n",
    "q3 = penguins[\"Body Mass (g)\"].quantile(0.75)\n",
    "\n",
    "# Calculate the IQR of gpa\n",
    "iqr_penguins = q3 - q1\n",
    "print(\"Penguins BM's IQR: \", iqr_penguins)"
   ]
  },
  {
   "cell_type": "markdown",
   "id": "9be43d33",
   "metadata": {},
   "source": [
    "# Describing dataframes"
   ]
  },
  {
   "cell_type": "markdown",
   "id": "68d246df",
   "metadata": {},
   "source": [
    "We already know how to calculate sample statistics one by one, however, if we want to have a table that summarizes these values for *quantitative* variables we can use describe()"
   ]
  },
  {
   "cell_type": "code",
   "execution_count": 50,
   "id": "9a8079f6",
   "metadata": {},
   "outputs": [
    {
     "data": {
      "text/html": [
       "<div>\n",
       "<style scoped>\n",
       "    .dataframe tbody tr th:only-of-type {\n",
       "        vertical-align: middle;\n",
       "    }\n",
       "\n",
       "    .dataframe tbody tr th {\n",
       "        vertical-align: top;\n",
       "    }\n",
       "\n",
       "    .dataframe thead th {\n",
       "        text-align: right;\n",
       "    }\n",
       "</style>\n",
       "<table border=\"1\" class=\"dataframe\">\n",
       "  <thead>\n",
       "    <tr style=\"text-align: right;\">\n",
       "      <th></th>\n",
       "      <th>Sample Number</th>\n",
       "      <th>Culmen Length (mm)</th>\n",
       "      <th>Culmen Depth (mm)</th>\n",
       "      <th>Flipper Length (mm)</th>\n",
       "      <th>Body Mass (g)</th>\n",
       "      <th>Delta 15 N (o/oo)</th>\n",
       "      <th>Delta 13 C (o/oo)</th>\n",
       "    </tr>\n",
       "  </thead>\n",
       "  <tbody>\n",
       "    <tr>\n",
       "      <th>count</th>\n",
       "      <td>344.000000</td>\n",
       "      <td>342.000000</td>\n",
       "      <td>342.000000</td>\n",
       "      <td>342.000000</td>\n",
       "      <td>342.000000</td>\n",
       "      <td>330.000000</td>\n",
       "      <td>331.000000</td>\n",
       "    </tr>\n",
       "    <tr>\n",
       "      <th>mean</th>\n",
       "      <td>63.151163</td>\n",
       "      <td>43.921930</td>\n",
       "      <td>17.151170</td>\n",
       "      <td>200.915205</td>\n",
       "      <td>4201.754386</td>\n",
       "      <td>8.733382</td>\n",
       "      <td>-25.686292</td>\n",
       "    </tr>\n",
       "    <tr>\n",
       "      <th>std</th>\n",
       "      <td>40.430199</td>\n",
       "      <td>5.459584</td>\n",
       "      <td>1.974793</td>\n",
       "      <td>14.061714</td>\n",
       "      <td>801.954536</td>\n",
       "      <td>0.551770</td>\n",
       "      <td>0.793961</td>\n",
       "    </tr>\n",
       "    <tr>\n",
       "      <th>min</th>\n",
       "      <td>1.000000</td>\n",
       "      <td>32.100000</td>\n",
       "      <td>13.100000</td>\n",
       "      <td>172.000000</td>\n",
       "      <td>2700.000000</td>\n",
       "      <td>7.632200</td>\n",
       "      <td>-27.018540</td>\n",
       "    </tr>\n",
       "    <tr>\n",
       "      <th>25%</th>\n",
       "      <td>29.000000</td>\n",
       "      <td>39.225000</td>\n",
       "      <td>15.600000</td>\n",
       "      <td>190.000000</td>\n",
       "      <td>3550.000000</td>\n",
       "      <td>8.299890</td>\n",
       "      <td>-26.320305</td>\n",
       "    </tr>\n",
       "    <tr>\n",
       "      <th>50%</th>\n",
       "      <td>58.000000</td>\n",
       "      <td>44.450000</td>\n",
       "      <td>17.300000</td>\n",
       "      <td>197.000000</td>\n",
       "      <td>4050.000000</td>\n",
       "      <td>8.652405</td>\n",
       "      <td>-25.833520</td>\n",
       "    </tr>\n",
       "    <tr>\n",
       "      <th>75%</th>\n",
       "      <td>95.250000</td>\n",
       "      <td>48.500000</td>\n",
       "      <td>18.700000</td>\n",
       "      <td>213.000000</td>\n",
       "      <td>4750.000000</td>\n",
       "      <td>9.172123</td>\n",
       "      <td>-25.062050</td>\n",
       "    </tr>\n",
       "    <tr>\n",
       "      <th>max</th>\n",
       "      <td>152.000000</td>\n",
       "      <td>59.600000</td>\n",
       "      <td>21.500000</td>\n",
       "      <td>231.000000</td>\n",
       "      <td>6300.000000</td>\n",
       "      <td>10.025440</td>\n",
       "      <td>-23.787670</td>\n",
       "    </tr>\n",
       "  </tbody>\n",
       "</table>\n",
       "</div>"
      ],
      "text/plain": [
       "       Sample Number  Culmen Length (mm)  Culmen Depth (mm)  \\\n",
       "count     344.000000          342.000000         342.000000   \n",
       "mean       63.151163           43.921930          17.151170   \n",
       "std        40.430199            5.459584           1.974793   \n",
       "min         1.000000           32.100000          13.100000   \n",
       "25%        29.000000           39.225000          15.600000   \n",
       "50%        58.000000           44.450000          17.300000   \n",
       "75%        95.250000           48.500000          18.700000   \n",
       "max       152.000000           59.600000          21.500000   \n",
       "\n",
       "       Flipper Length (mm)  Body Mass (g)  Delta 15 N (o/oo)  \\\n",
       "count           342.000000     342.000000         330.000000   \n",
       "mean            200.915205    4201.754386           8.733382   \n",
       "std              14.061714     801.954536           0.551770   \n",
       "min             172.000000    2700.000000           7.632200   \n",
       "25%             190.000000    3550.000000           8.299890   \n",
       "50%             197.000000    4050.000000           8.652405   \n",
       "75%             213.000000    4750.000000           9.172123   \n",
       "max             231.000000    6300.000000          10.025440   \n",
       "\n",
       "       Delta 13 C (o/oo)  \n",
       "count         331.000000  \n",
       "mean          -25.686292  \n",
       "std             0.793961  \n",
       "min           -27.018540  \n",
       "25%           -26.320305  \n",
       "50%           -25.833520  \n",
       "75%           -25.062050  \n",
       "max           -23.787670  "
      ]
     },
     "execution_count": 50,
     "metadata": {},
     "output_type": "execute_result"
    }
   ],
   "source": [
    "# We can display a data summary by typing my_subjects_pd.describe()\n",
    "# This will show counts, mean, std, min, 25%, 50%, 75%, and max.\n",
    "penguins.describe()"
   ]
  },
  {
   "cell_type": "code",
   "execution_count": 51,
   "id": "76bc923c",
   "metadata": {},
   "outputs": [
    {
     "data": {
      "text/plain": [
       "studyName                0\n",
       "Sample Number            0\n",
       "Species                  0\n",
       "Region                   0\n",
       "Island                   0\n",
       "Stage                    0\n",
       "Individual ID            0\n",
       "Clutch Completion        0\n",
       "Date Egg                 0\n",
       "Culmen Length (mm)       2\n",
       "Culmen Depth (mm)        2\n",
       "Flipper Length (mm)      2\n",
       "Body Mass (g)            2\n",
       "Sex                     10\n",
       "Delta 15 N (o/oo)       14\n",
       "Delta 13 C (o/oo)       13\n",
       "Comments               318\n",
       "dtype: int64"
      ]
     },
     "execution_count": 51,
     "metadata": {},
     "output_type": "execute_result"
    }
   ],
   "source": [
    "# Sometimes, we will encounter missing data in our dataframes. To get a sense of how many values are missing we can\n",
    "# type dataframe.isnull().sum()\n",
    "\n",
    "penguins.isnull().sum()"
   ]
  },
  {
   "cell_type": "markdown",
   "id": "d8e4b58d",
   "metadata": {},
   "source": [
    "# Data Visualization\n",
    "Now that we have grasped how to summarize our data, let's try plotting it! In this section, we will introduce you to how to create graphs using the python libraries Matplotlib, pandas, and Seaborn. When building data visualizations, our first step is always to import the necessary libraries. Although you only need to load a library once per Jupyter notebook, throughout this handout we will always load libraries before every plot just so we can get into the practice of doing so. \n",
    "\n",
    "After loading our libraries, we will need to either gather our data or create our data. In this handout, we will teach how to import data from a .csv file and how to create lists of data for our plots. Finally, we will learn how and what functions to use to create our graph of choice, and how to label and color our plots."
   ]
  },
  {
   "cell_type": "markdown",
   "id": "994bcf13",
   "metadata": {},
   "source": [
    "## Matplotlib\n",
    "### Line Graph\n",
    "\n",
    "Let's begin by making a single line plot!"
   ]
  },
  {
   "cell_type": "code",
   "execution_count": 16,
   "id": "c7362cb2",
   "metadata": {},
   "outputs": [
    {
     "data": {
      "image/png": "[encoded data removed]",
      "text/plain": [
       "<Figure size 432x288 with 1 Axes>"
      ]
     },
     "metadata": {
      "needs_background": "light"
     },
     "output_type": "display_data"
    }
   ],
   "source": [
    "# Load libraries\n",
    "import matplotlib.pyplot as plt\n",
    "\n",
    "# Create data\n",
    "x = [1,3,5, 7, 9, 11]\n",
    "y = [10, 25, 35, 33, 38, 59]\n",
    "\n",
    "# Plot data\n",
    "plt.plot(x, y)\n",
    "\n",
    "# Display plot\n",
    "plt.show()"
   ]
  },
  {
   "cell_type": "markdown",
   "id": "ae7f2f81",
   "metadata": {},
   "source": [
    "Great job! Now let us continue to add more details to our graph. In the matplotlib module, we can add a title to our graph by writing plt.title() and add labels using plt.xlabel for the x-axis and plt.ylabel for the y-axis. Additionally, we can color our line by assigning color within our plt.plot() function."
   ]
  },
  {
   "cell_type": "code",
   "execution_count": 10,
   "id": "f6c15731",
   "metadata": {},
   "outputs": [
    {
     "data": {
      "image/png": "[encoded data removed]",
      "text/plain": [
       "<Figure size 432x288 with 1 Axes>"
      ]
     },
     "metadata": {
      "needs_background": "light"
     },
     "output_type": "display_data"
    }
   ],
   "source": [
    "# Load libraries\n",
    "import matplotlib.pyplot as plt\n",
    "\n",
    "# Create data\n",
    "x = [1,3,5, 7, 9, 11]\n",
    "y = [10, 25, 35, 33, 38, 59]\n",
    "\n",
    "# Plot data and add color\n",
    "plt.plot(x, y, color = 'blue')\n",
    "\n",
    "# Add label for the x-axis\n",
    "plt.xlabel(\"X-label\")\n",
    "\n",
    "# Add label for the y-axis\n",
    "plt.ylabel(\"Y-label\")\n",
    "\n",
    "# Add a title to the graph\n",
    "plt.title(\"Line Plot\")\n",
    "\n",
    "# Display plot\n",
    "plt.show()"
   ]
  },
  {
   "cell_type": "markdown",
   "id": "fc41b670",
   "metadata": {},
   "source": [
    "What if we wanted to add another line to make a multiple line graph? We complete roughly the same process, and add an additional set of data and one more plot command to see another line appear on this graph. Let's try it out!"
   ]
  },
  {
   "cell_type": "code",
   "execution_count": 17,
   "id": "c962b5bc",
   "metadata": {},
   "outputs": [
    {
     "data": {
      "image/png": "[encoded data removed]",
      "text/plain": [
       "<Figure size 432x288 with 1 Axes>"
      ]
     },
     "metadata": {
      "needs_background": "light"
     },
     "output_type": "display_data"
    }
   ],
   "source": [
    "# Load libraries\n",
    "import matplotlib.pyplot as plt\n",
    "\n",
    "# Create the first set of data\n",
    "x = [1,3,5, 7, 9, 11]\n",
    "y = [10, 25, 35, 33, 38, 59]\n",
    "\n",
    "# Plot first set and color it\n",
    "plt.plot(x, y, color = 'blue')\n",
    "\n",
    "# Create the second set of data\n",
    "x = [2,4,6,8,10,12]\n",
    "y = [15, 29, 32, 33, 38,55]\n",
    "\n",
    "# Plot second set and color it\n",
    "plt.plot(x, y, color = 'red')\n",
    "\n",
    "# Add label for the x-axis\n",
    "plt.xlabel(\"X-label\")\n",
    "\n",
    "# Add label for the y-axis\n",
    "plt.ylabel(\"Y-label\")\n",
    "\n",
    "# Add a title to the graph\n",
    "plt.title(\"Multiple Python Line Graph\")\n",
    "\n",
    "# Display the graph\n",
    "plt.show()"
   ]
  },
  {
   "cell_type": "markdown",
   "id": "3ac00a78",
   "metadata": {},
   "source": [
    "Given that we now have multiple lines on our line graph, it would be helpful to have a legend that distinguishes between the two lines. Luckily, we can use legend() and add some code to our plotting functions to create the legend labels."
   ]
  },
  {
   "cell_type": "code",
   "execution_count": 18,
   "id": "98690cd8",
   "metadata": {},
   "outputs": [
    {
     "data": {
      "image/png": "[encoded data removed]",
      "text/plain": [
       "<Figure size 432x288 with 1 Axes>"
      ]
     },
     "metadata": {
      "needs_background": "light"
     },
     "output_type": "display_data"
    }
   ],
   "source": [
    "# Load libraries\n",
    "import matplotlib.pyplot as plt\n",
    "\n",
    "# Create the first set of data\n",
    "x = [1,3,5, 7, 9, 11]\n",
    "y = [10, 25, 35, 33, 38, 59]\n",
    "\n",
    "# Plot first set and color it\n",
    "plt.plot(x, y, label = 'Series-1', color = 'blue')\n",
    "\n",
    "# Create the second set of data\n",
    "x = [2,4,6,8,10,12]\n",
    "y = [15, 29, 32, 33, 38,55]\n",
    "\n",
    "# Plot second set and color it\n",
    "plt.plot(x, y, label = 'Series-2', color = 'red')\n",
    "\n",
    "# Add label for the x-axis\n",
    "plt.xlabel(\"X-label\")\n",
    "\n",
    "# Add label for the y-axis\n",
    "plt.ylabel(\"Y-label\")\n",
    "\n",
    "# Add a title to the graph\n",
    "plt.title(\"Multiple Python Line Graph\")\n",
    "\n",
    "# Add a legend to the graph\n",
    "plt.legend()\n",
    "\n",
    "# Display the graph\n",
    "plt.show()"
   ]
  },
  {
   "cell_type": "markdown",
   "id": "117ade2e",
   "metadata": {},
   "source": [
    "### Bar plot\n",
    "Bar plots are another helpful data visualization that statisticians use to compare the values of various groups. Bar plots can be both vertical and horizontal, and they offer a relationship between a categorical and a continuous variable. Let's practice making them both ways!"
   ]
  },
  {
   "cell_type": "code",
   "execution_count": 35,
   "id": "76d14257",
   "metadata": {},
   "outputs": [
    {
     "data": {
      "image/png": "[encoded data removed]",
      "text/plain": [
       "<Figure size 432x288 with 1 Axes>"
      ]
     },
     "metadata": {
      "needs_background": "light"
     },
     "output_type": "display_data"
    }
   ],
   "source": [
    "# Add libraries\n",
    "import matplotlib.pyplot as plt\n",
    "\n",
    "# Create data\n",
    "movie_ratings = [1,2,3,4,5]\n",
    "rating_counts = [21,45,72,89,42]\n",
    "\n",
    "# Plot the data\n",
    "# The bar function requires at least an x value and a y value\n",
    "plt.bar(movie_ratings, rating_counts, color = 'purple')\n",
    "\n",
    "# Add axis labels\n",
    "plt.xlabel(\"Movie Ratings\")\n",
    "plt.ylabel(\"Rating Frequency\")\n",
    "\n",
    "# Add a title\n",
    "plt.title(\"Movie Rating Distribution\")\n",
    "\n",
    "# Display the plot\n",
    "plt.show()"
   ]
  },
  {
   "cell_type": "code",
   "execution_count": 36,
   "id": "c9316171",
   "metadata": {},
   "outputs": [
    {
     "data": {
      "image/png": "[encoded data removed]",
      "text/plain": [
       "<Figure size 432x288 with 1 Axes>"
      ]
     },
     "metadata": {
      "needs_background": "light"
     },
     "output_type": "display_data"
    }
   ],
   "source": [
    "# Add libraries\n",
    "import matplotlib.pyplot as plt\n",
    "\n",
    "# Create data\n",
    "movie_ratings = [1,2,3,4,5]\n",
    "rating_counts = [21,45,72,89,42]\n",
    "\n",
    "# Plot the data\n",
    "# The barh function requires at least an x value and a y value\n",
    "plt.barh(movie_ratings, rating_counts, color = 'purple')\n",
    "\n",
    "# Add axis labels\n",
    "plt.xlabel(\"Rating Frequency\")\n",
    "plt.ylabel(\"Movie Ratings\")\n",
    "\n",
    "# Add a title\n",
    "plt.title(\"Movie Rating Distribution\")\n",
    "\n",
    "# Display the plot\n",
    "plt.show()"
   ]
  },
  {
   "cell_type": "code",
   "execution_count": null,
   "id": "c244a37e",
   "metadata": {},
   "outputs": [],
   "source": []
  },
  {
   "cell_type": "markdown",
   "id": "36a31775",
   "metadata": {},
   "source": [
    "### Pie plot\n",
    "\n",
    "We can follow a similar process to create pie plots which are great for visualizing proportions of a whole. The method pie() will help us create these graphs."
   ]
  },
  {
   "cell_type": "code",
   "execution_count": 26,
   "id": "4cdd5b91",
   "metadata": {},
   "outputs": [
    {
     "data": {
      "text/html": [
       "<div>\n",
       "<style scoped>\n",
       "    .dataframe tbody tr th:only-of-type {\n",
       "        vertical-align: middle;\n",
       "    }\n",
       "\n",
       "    .dataframe tbody tr th {\n",
       "        vertical-align: top;\n",
       "    }\n",
       "\n",
       "    .dataframe thead th {\n",
       "        text-align: right;\n",
       "    }\n",
       "</style>\n",
       "<table border=\"1\" class=\"dataframe\">\n",
       "  <thead>\n",
       "    <tr style=\"text-align: right;\">\n",
       "      <th></th>\n",
       "      <th>studyName</th>\n",
       "      <th>Sample Number</th>\n",
       "      <th>Species</th>\n",
       "      <th>Region</th>\n",
       "      <th>Island</th>\n",
       "      <th>Stage</th>\n",
       "      <th>Individual ID</th>\n",
       "      <th>Clutch Completion</th>\n",
       "      <th>Date Egg</th>\n",
       "      <th>Culmen Length (mm)</th>\n",
       "      <th>Culmen Depth (mm)</th>\n",
       "      <th>Flipper Length (mm)</th>\n",
       "      <th>Body Mass (g)</th>\n",
       "      <th>Sex</th>\n",
       "      <th>Delta 15 N (o/oo)</th>\n",
       "      <th>Delta 13 C (o/oo)</th>\n",
       "      <th>Comments</th>\n",
       "    </tr>\n",
       "  </thead>\n",
       "  <tbody>\n",
       "    <tr>\n",
       "      <th>0</th>\n",
       "      <td>PAL0708</td>\n",
       "      <td>1</td>\n",
       "      <td>Adelie Penguin (Pygoscelis adeliae)</td>\n",
       "      <td>Anvers</td>\n",
       "      <td>Torgersen</td>\n",
       "      <td>Adult, 1 Egg Stage</td>\n",
       "      <td>N1A1</td>\n",
       "      <td>Yes</td>\n",
       "      <td>11/11/07</td>\n",
       "      <td>39.1</td>\n",
       "      <td>18.7</td>\n",
       "      <td>181.0</td>\n",
       "      <td>3750.0</td>\n",
       "      <td>MALE</td>\n",
       "      <td>NaN</td>\n",
       "      <td>NaN</td>\n",
       "      <td>Not enough blood for isotopes.</td>\n",
       "    </tr>\n",
       "    <tr>\n",
       "      <th>1</th>\n",
       "      <td>PAL0708</td>\n",
       "      <td>2</td>\n",
       "      <td>Adelie Penguin (Pygoscelis adeliae)</td>\n",
       "      <td>Anvers</td>\n",
       "      <td>Torgersen</td>\n",
       "      <td>Adult, 1 Egg Stage</td>\n",
       "      <td>N1A2</td>\n",
       "      <td>Yes</td>\n",
       "      <td>11/11/07</td>\n",
       "      <td>39.5</td>\n",
       "      <td>17.4</td>\n",
       "      <td>186.0</td>\n",
       "      <td>3800.0</td>\n",
       "      <td>FEMALE</td>\n",
       "      <td>8.94956</td>\n",
       "      <td>-24.69454</td>\n",
       "      <td>NaN</td>\n",
       "    </tr>\n",
       "    <tr>\n",
       "      <th>2</th>\n",
       "      <td>PAL0708</td>\n",
       "      <td>3</td>\n",
       "      <td>Adelie Penguin (Pygoscelis adeliae)</td>\n",
       "      <td>Anvers</td>\n",
       "      <td>Torgersen</td>\n",
       "      <td>Adult, 1 Egg Stage</td>\n",
       "      <td>N2A1</td>\n",
       "      <td>Yes</td>\n",
       "      <td>11/16/07</td>\n",
       "      <td>40.3</td>\n",
       "      <td>18.0</td>\n",
       "      <td>195.0</td>\n",
       "      <td>3250.0</td>\n",
       "      <td>FEMALE</td>\n",
       "      <td>8.36821</td>\n",
       "      <td>-25.33302</td>\n",
       "      <td>NaN</td>\n",
       "    </tr>\n",
       "    <tr>\n",
       "      <th>3</th>\n",
       "      <td>PAL0708</td>\n",
       "      <td>4</td>\n",
       "      <td>Adelie Penguin (Pygoscelis adeliae)</td>\n",
       "      <td>Anvers</td>\n",
       "      <td>Torgersen</td>\n",
       "      <td>Adult, 1 Egg Stage</td>\n",
       "      <td>N2A2</td>\n",
       "      <td>Yes</td>\n",
       "      <td>11/16/07</td>\n",
       "      <td>NaN</td>\n",
       "      <td>NaN</td>\n",
       "      <td>NaN</td>\n",
       "      <td>NaN</td>\n",
       "      <td>NaN</td>\n",
       "      <td>NaN</td>\n",
       "      <td>NaN</td>\n",
       "      <td>Adult not sampled.</td>\n",
       "    </tr>\n",
       "    <tr>\n",
       "      <th>4</th>\n",
       "      <td>PAL0708</td>\n",
       "      <td>5</td>\n",
       "      <td>Adelie Penguin (Pygoscelis adeliae)</td>\n",
       "      <td>Anvers</td>\n",
       "      <td>Torgersen</td>\n",
       "      <td>Adult, 1 Egg Stage</td>\n",
       "      <td>N3A1</td>\n",
       "      <td>Yes</td>\n",
       "      <td>11/16/07</td>\n",
       "      <td>36.7</td>\n",
       "      <td>19.3</td>\n",
       "      <td>193.0</td>\n",
       "      <td>3450.0</td>\n",
       "      <td>FEMALE</td>\n",
       "      <td>8.76651</td>\n",
       "      <td>-25.32426</td>\n",
       "      <td>NaN</td>\n",
       "    </tr>\n",
       "  </tbody>\n",
       "</table>\n",
       "</div>"
      ],
      "text/plain": [
       "  studyName  Sample Number                              Species  Region  \\\n",
       "0   PAL0708              1  Adelie Penguin (Pygoscelis adeliae)  Anvers   \n",
       "1   PAL0708              2  Adelie Penguin (Pygoscelis adeliae)  Anvers   \n",
       "2   PAL0708              3  Adelie Penguin (Pygoscelis adeliae)  Anvers   \n",
       "3   PAL0708              4  Adelie Penguin (Pygoscelis adeliae)  Anvers   \n",
       "4   PAL0708              5  Adelie Penguin (Pygoscelis adeliae)  Anvers   \n",
       "\n",
       "      Island               Stage Individual ID Clutch Completion  Date Egg  \\\n",
       "0  Torgersen  Adult, 1 Egg Stage          N1A1               Yes  11/11/07   \n",
       "1  Torgersen  Adult, 1 Egg Stage          N1A2               Yes  11/11/07   \n",
       "2  Torgersen  Adult, 1 Egg Stage          N2A1               Yes  11/16/07   \n",
       "3  Torgersen  Adult, 1 Egg Stage          N2A2               Yes  11/16/07   \n",
       "4  Torgersen  Adult, 1 Egg Stage          N3A1               Yes  11/16/07   \n",
       "\n",
       "   Culmen Length (mm)  Culmen Depth (mm)  Flipper Length (mm)  Body Mass (g)  \\\n",
       "0                39.1               18.7                181.0         3750.0   \n",
       "1                39.5               17.4                186.0         3800.0   \n",
       "2                40.3               18.0                195.0         3250.0   \n",
       "3                 NaN                NaN                  NaN            NaN   \n",
       "4                36.7               19.3                193.0         3450.0   \n",
       "\n",
       "      Sex  Delta 15 N (o/oo)  Delta 13 C (o/oo)  \\\n",
       "0    MALE                NaN                NaN   \n",
       "1  FEMALE            8.94956          -24.69454   \n",
       "2  FEMALE            8.36821          -25.33302   \n",
       "3     NaN                NaN                NaN   \n",
       "4  FEMALE            8.76651          -25.32426   \n",
       "\n",
       "                         Comments  \n",
       "0  Not enough blood for isotopes.  \n",
       "1                             NaN  \n",
       "2                             NaN  \n",
       "3              Adult not sampled.  \n",
       "4                             NaN  "
      ]
     },
     "execution_count": 26,
     "metadata": {},
     "output_type": "execute_result"
    }
   ],
   "source": [
    "penguins.head()"
   ]
  },
  {
   "cell_type": "code",
   "execution_count": 86,
   "id": "8d70ec7c",
   "metadata": {},
   "outputs": [
    {
     "name": "stdout",
     "output_type": "stream",
     "text": [
      "                                     Species  Count\n",
      "0        Adelie Penguin (Pygoscelis adeliae)    152\n",
      "1  Chinstrap penguin (Pygoscelis antarctica)     68\n",
      "2          Gentoo penguin (Pygoscelis papua)    124\n"
     ]
    },
    {
     "data": {
      "image/png": "[encoded data removed]",
      "text/plain": [
       "<Figure size 432x288 with 1 Axes>"
      ]
     },
     "metadata": {},
     "output_type": "display_data"
    }
   ],
   "source": [
    "# Add libraries\n",
    "import matplotlib.pyplot as plt\n",
    "\n",
    "species_counts = penguins.groupby('Species').size().reset_index(name='Count')\n",
    "    \n",
    "print(species_counts)\n",
    "\n",
    "# Create data\n",
    "# Plot the data\n",
    "plt.pie(df[\"Count\"], \n",
    "        labels = df[\"Species\"],\n",
    "        autopct='%1.1f%%', \n",
    "        shadow=True, \n",
    "        startangle=140)\n",
    "\n",
    "# Add title\n",
    "plt.title(\"Species\")\n",
    "\n",
    "# Display the chart\n",
    "plt.show()"
   ]
  },
  {
   "cell_type": "markdown",
   "id": "eba1aadd",
   "metadata": {},
   "source": [
    "### Histogram plot\n",
    "\n",
    "Histograms are a common way to visualize the distribution of a single numeric variable. Furthermore, it shows the probability distribution of a continuous variable, so we will certainly need to use these in our statistical analysis. Let's see how to make histograms using the hist( ) method.\n",
    "\n",
    "Here we will need to specify the data, bins, and density.\n",
    "\n",
    "* bins = \"auto\" will choose the best bin edges\n",
    "* density = True will set the area within the histogram to 1.0"
   ]
  },
  {
   "cell_type": "code",
   "execution_count": 85,
   "id": "b9857323",
   "metadata": {
    "scrolled": true
   },
   "outputs": [
    {
     "data": {
      "image/png": "[encoded data removed]",
      "text/plain": [
       "<Figure size 432x288 with 1 Axes>"
      ]
     },
     "metadata": {
      "needs_background": "light"
     },
     "output_type": "display_data"
    }
   ],
   "source": [
    "# Add libraries\n",
    "import matplotlib.pyplot as plt\n",
    "import seaborn as sns\n",
    "\n",
    "# Plot the histogram\n",
    "plt.hist(penguins[\"Culmen Length (mm)\"], bins = 'auto', density=True)\n",
    "\n",
    "# Label axis\n",
    "plt.xlabel(\"Culmen Length (mm)\")\n",
    "plt.ylabel(\"Frequency\")\n",
    "\n",
    "# Add title\n",
    "plt.title(\"Culmen Length Distribution\")\n",
    "\n",
    "# Display the graph\n",
    "plt.show()"
   ]
  },
  {
   "cell_type": "markdown",
   "id": "a657929c",
   "metadata": {},
   "source": [
    "## Seaborn\n",
    "The Seaborn library can help us to make more advanced statistical plots. Seaborn is an open source Python library and uses Matplotlib as a baselibrary to produce interactive and attractive data visualizations."
   ]
  },
  {
   "cell_type": "markdown",
   "id": "5d660158",
   "metadata": {},
   "source": [
    "### Distribution plot\n",
    "To plot a univariate distribution of variables, we can make distribution (or density) plots with Seaborn. These figures combine a histogram with a default bin size and a Kernel Density Estimation (KDE) plot. Using a dataset of HR Analytics made available in the code repository for Python Data Analysis - Third Edition, published by Packt let's try to make a distribution plot! The quantitative variable we will investigate is satisfaction_level, which is the employee's satisfaction level in a company."
   ]
  },
  {
   "cell_type": "code",
   "execution_count": 102,
   "id": "1327c123",
   "metadata": {},
   "outputs": [
    {
     "data": {
      "image/png": "[encoded data removed]",
      "text/plain": [
       "<Figure size 432x288 with 1 Axes>"
      ]
     },
     "metadata": {
      "needs_background": "light"
     },
     "output_type": "display_data"
    }
   ],
   "source": [
    "sns.kdeplot(penguins[\"Culmen Length (mm)\"])\n",
    "\n",
    "# Display the plot\n",
    "plt.show()"
   ]
  },
  {
   "cell_type": "markdown",
   "id": "0373ee41",
   "metadata": {},
   "source": [
    "# Summary\n",
    "\n",
    "In this section, you have learned how to calculate some basic summary statistics, as well as how to create common plots. They will serve you well as you explore data with Jupyter. To recap, here are the concepts that we covered:\n",
    "\n",
    "Summary statistics:\n",
    "- Mean\n",
    "- Median\n",
    "- Mode\n",
    "- Max, Min, and Range\n",
    "- IQR\n",
    "- Variance\n",
    "- Standard deviation\n",
    "- Correlation coefficient\n",
    "\n",
    "Plots:\n",
    "- Line\n",
    "- Scatter\n",
    "- Pie\n",
    "- Bar\n",
    "- Histogram\n",
    "- Density\n",
    "- Box\n",
    "- Distribution\n",
    "- Linear model"
   ]
  },
  {
   "cell_type": "markdown",
   "id": "f850283f",
   "metadata": {},
   "source": [
    "# Tips\n",
    "\n",
    "As you practice the skills learned in this section, please keep in mind the following suggestions:\n",
    "+ Summary functions, by default, will take the whole data frame and calculate by column.\n",
    "+ Always remember to load the necessary libraries.\n",
    "+ Name your variables, dataframes, and labels helpful and informative titles.\n",
    "+ If you get stuck, use the help documentation that you learned in our previous lecture to help you troubleshoot!\n",
    "+ If you want extra material on univariate exploratory data analysis, check out the extra material posted on our repo!"
   ]
  },
  {
   "cell_type": "markdown",
   "id": "ac666967",
   "metadata": {},
   "source": [
    "# References\n",
    "Main resources that we used to build this material:\n",
    "\n",
    "1. Navlani, Avinash, Armando Fandango, and Ivan Idris. 2021. Python Data Analysis. Third Edition. Birmingham: Packt Publishing.\n",
    "\n",
    "2. Python Data Analysis - Third Edition. (2019). Jupyter Notebook. Packt. https://github.com/PacktPublishing/Python-Data-Analysis-Third-Edition/blob/e1cd8029a1830fe5ecc86379ab361d215e71f036/Chapter05/HR_comma_sep.csv. Accessed July 7, 2022.\n",
    "\n",
    "3. Numpy documentation: https://numpy.org/doc/\n",
    "\n",
    "4. Pandas documentation: https://pandas.pydata.org/docs/\n",
    "\n",
    "5. Statistics documentation: https://docs.python.org/3/library/statistics.html\n",
    "\n",
    "Although the documentations are often very comprehensive, they are also quite difficult to navigate and find what you need. These websites are simpler, more user-friendly alternatives:\n",
    "\n",
    "6. GeeksforGeeks: https://www.geeksforgeeks.org/python-programming-language/\n",
    "\n",
    "7. W3schools: https://www.w3schools.com/python/"
   ]
  },
  {
   "cell_type": "code",
   "execution_count": null,
   "id": "67bb865a",
   "metadata": {},
   "outputs": [],
   "source": []
  }
 ],
 "metadata": {
  "kernelspec": {
   "display_name": "Python 3 (ipykernel)",
   "language": "python",
   "name": "python3"
  },
  "language_info": {
   "codemirror_mode": {
    "name": "ipython",
    "version": 3
   },
   "file_extension": ".py",
   "mimetype": "text/x-python",
   "name": "python",
   "nbconvert_exporter": "python",
   "pygments_lexer": "ipython3",
   "version": "3.9.12"
  }
 },
 "nbformat": 4,
 "nbformat_minor": 5
}
