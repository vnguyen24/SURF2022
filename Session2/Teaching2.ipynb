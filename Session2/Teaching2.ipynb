{
 "cells": [
  {
   "cell_type": "markdown",
   "id": "b0223080",
   "metadata": {},
   "source": [
    "# Exploratory Data Analysis in Python\n",
    "\n",
    "## Lesson Overview\n",
    "Welcome to lesson two! Today, we will dive into creating, describing, and visualizing dataframes by using the Matplotlib, Pandas, and Seaborn (All Python libraries).\n",
    "\n",
    "By the end of this lesson you will be able to:\n",
    "* Create your own dataframes\n",
    "* Load csv files as dataframes\n",
    "* Describe dataframes using Pandas\n",
    "* Visualize dataframes using Pandas, Seaborn and Matplotlib"
   ]
  },
  {
   "cell_type": "markdown",
   "id": "bb1bd81c",
   "metadata": {},
   "source": [
    "# Univariate Data Exploration\n",
    "\n",
    "Although there are multiple ways to calculate these statistics, we will specifically use pandas for the following reasons:\n",
    "1. Pandas by itself can calculate all the statistics in a univariate data exploration process. For other packages, we would have to mix and match\n",
    "2. Pandas is data-centric, taking dataframes as inputs. In other words, pandas treats a dataframe as the main object. This is very similar to R!"
   ]
  },
  {
   "cell_type": "markdown",
   "id": "7ac4297c",
   "metadata": {},
   "source": [
    "## Univariate Categorical non-graphical \n",
    "###  Frequency Table"
   ]
  },
  {
   "cell_type": "code",
   "execution_count": 104,
   "id": "96fca7fd",
   "metadata": {},
   "outputs": [
    {
     "data": {
      "text/html": [
       "<div>\n",
       "<style scoped>\n",
       "    .dataframe tbody tr th:only-of-type {\n",
       "        vertical-align: middle;\n",
       "    }\n",
       "\n",
       "    .dataframe tbody tr th {\n",
       "        vertical-align: top;\n",
       "    }\n",
       "\n",
       "    .dataframe thead th {\n",
       "        text-align: right;\n",
       "    }\n",
       "</style>\n",
       "<table border=\"1\" class=\"dataframe\">\n",
       "  <thead>\n",
       "    <tr style=\"text-align: right;\">\n",
       "      <th></th>\n",
       "      <th>name</th>\n",
       "      <th>gender</th>\n",
       "      <th>state</th>\n",
       "      <th>gpa</th>\n",
       "    </tr>\n",
       "  </thead>\n",
       "  <tbody>\n",
       "    <tr>\n",
       "      <th>0</th>\n",
       "      <td>A</td>\n",
       "      <td>M</td>\n",
       "      <td>NY</td>\n",
       "      <td>3.9</td>\n",
       "    </tr>\n",
       "    <tr>\n",
       "      <th>1</th>\n",
       "      <td>B</td>\n",
       "      <td>F</td>\n",
       "      <td>MA</td>\n",
       "      <td>3.7</td>\n",
       "    </tr>\n",
       "    <tr>\n",
       "      <th>2</th>\n",
       "      <td>C</td>\n",
       "      <td>F</td>\n",
       "      <td>MA</td>\n",
       "      <td>3.0</td>\n",
       "    </tr>\n",
       "    <tr>\n",
       "      <th>3</th>\n",
       "      <td>D</td>\n",
       "      <td>M</td>\n",
       "      <td>LA</td>\n",
       "      <td>4.0</td>\n",
       "    </tr>\n",
       "    <tr>\n",
       "      <th>4</th>\n",
       "      <td>E</td>\n",
       "      <td>F</td>\n",
       "      <td>NY</td>\n",
       "      <td>3.3</td>\n",
       "    </tr>\n",
       "    <tr>\n",
       "      <th>5</th>\n",
       "      <td>G</td>\n",
       "      <td>F</td>\n",
       "      <td>NH</td>\n",
       "      <td>3.7</td>\n",
       "    </tr>\n",
       "  </tbody>\n",
       "</table>\n",
       "</div>"
      ],
      "text/plain": [
       "  name gender state  gpa\n",
       "0    A      M    NY  3.9\n",
       "1    B      F    MA  3.7\n",
       "2    C      F    MA  3.0\n",
       "3    D      M    LA  4.0\n",
       "4    E      F    NY  3.3\n",
       "5    G      F    NH  3.7"
      ]
     },
     "execution_count": 104,
     "metadata": {},
     "output_type": "execute_result"
    }
   ],
   "source": [
    "# Import pandas library\n",
    "# Note that you can name the library however you want. \"pd\" is just a convention that we follow\n",
    "import pandas as pd\n",
    "\n",
    "# Firstly, we're going to play around with our own dataframe\n",
    "students_raw = {\"name\" : [\"A\", \"B\", \"C\", \"D\", \"E\", \"G\"],\n",
    "       \"gender\": [\"M\",\"F\", \"F\", \"M\", \"F\", \"F\"],\n",
    "       \"state\": [\"NY\", \"MA\", \"MA\", \"LA\", \"NY\", \"NH\"],\n",
    "       \"gpa\": [3.9, 3.7, 3.0, 4.0, 3.3, 3.7]}\n",
    "\n",
    "# To officially make it a pandas dataframe, we need this code\n",
    "students_pd = pd.DataFrame(students_raw, columns = [\"name\", \"gender\", \"state\", \"gpa\"])\n",
    "\n",
    "# Look at the data\n",
    "students_pd\n"
   ]
  },
  {
   "cell_type": "code",
   "execution_count": 113,
   "id": "0d1662eb",
   "metadata": {},
   "outputs": [
    {
     "data": {
      "text/plain": [
       "gender\n",
       "F    4\n",
       "M    2\n",
       "dtype: int64"
      ]
     },
     "execution_count": 113,
     "metadata": {},
     "output_type": "execute_result"
    }
   ],
   "source": [
    "# Let's say that we want to create a frequency table of species. \n",
    "# To do so, we type dataframe.value_counts()\n",
    "students_pd.value_counts(\"gender\")"
   ]
  },
  {
   "cell_type": "markdown",
   "id": "a82aad8b",
   "metadata": {},
   "source": [
    "Realistically speaking, though, we would usually work with bigger dataframes. So, let's learn how to import dataframes from csv files!"
   ]
  },
  {
   "cell_type": "markdown",
   "id": "6145d20b",
   "metadata": {},
   "source": [
    "### Importing a dataframe from a csv file\n",
    "\n",
    "We can also import a csv file to work with external data. In order to do so, we are going to use pd.read_csv(\"nameOfFile.csv\")\n",
    "\n",
    "**Note** : your file must be stored in the same folder as this jupyter notebook."
   ]
  },
  {
   "cell_type": "code",
   "execution_count": null,
   "id": "702c8747",
   "metadata": {},
   "outputs": [],
   "source": [
    "penguins = pd.read_csv(\"penguins_lter.csv\")"
   ]
  },
  {
   "cell_type": "markdown",
   "id": "c250906f",
   "metadata": {},
   "source": [
    "Now, we can look at the first few rows by typing dataframe.head(), or the last few rows by typing dataframe.tail()"
   ]
  },
  {
   "cell_type": "code",
   "execution_count": 114,
   "id": "82745938",
   "metadata": {},
   "outputs": [
    {
     "data": {
      "text/html": [
       "<div>\n",
       "<style scoped>\n",
       "    .dataframe tbody tr th:only-of-type {\n",
       "        vertical-align: middle;\n",
       "    }\n",
       "\n",
       "    .dataframe tbody tr th {\n",
       "        vertical-align: top;\n",
       "    }\n",
       "\n",
       "    .dataframe thead th {\n",
       "        text-align: right;\n",
       "    }\n",
       "</style>\n",
       "<table border=\"1\" class=\"dataframe\">\n",
       "  <thead>\n",
       "    <tr style=\"text-align: right;\">\n",
       "      <th></th>\n",
       "      <th>studyName</th>\n",
       "      <th>Sample Number</th>\n",
       "      <th>Species</th>\n",
       "      <th>Region</th>\n",
       "      <th>Island</th>\n",
       "      <th>Stage</th>\n",
       "      <th>Individual ID</th>\n",
       "      <th>Clutch Completion</th>\n",
       "      <th>Date Egg</th>\n",
       "      <th>Culmen Length (mm)</th>\n",
       "      <th>Culmen Depth (mm)</th>\n",
       "      <th>Flipper Length (mm)</th>\n",
       "      <th>Body Mass (g)</th>\n",
       "      <th>Sex</th>\n",
       "      <th>Delta 15 N (o/oo)</th>\n",
       "      <th>Delta 13 C (o/oo)</th>\n",
       "      <th>Comments</th>\n",
       "    </tr>\n",
       "  </thead>\n",
       "  <tbody>\n",
       "    <tr>\n",
       "      <th>0</th>\n",
       "      <td>PAL0708</td>\n",
       "      <td>1</td>\n",
       "      <td>Adelie Penguin (Pygoscelis adeliae)</td>\n",
       "      <td>Anvers</td>\n",
       "      <td>Torgersen</td>\n",
       "      <td>Adult, 1 Egg Stage</td>\n",
       "      <td>N1A1</td>\n",
       "      <td>Yes</td>\n",
       "      <td>11/11/07</td>\n",
       "      <td>39.1</td>\n",
       "      <td>18.7</td>\n",
       "      <td>181.0</td>\n",
       "      <td>3750.0</td>\n",
       "      <td>MALE</td>\n",
       "      <td>NaN</td>\n",
       "      <td>NaN</td>\n",
       "      <td>Not enough blood for isotopes.</td>\n",
       "    </tr>\n",
       "    <tr>\n",
       "      <th>1</th>\n",
       "      <td>PAL0708</td>\n",
       "      <td>2</td>\n",
       "      <td>Adelie Penguin (Pygoscelis adeliae)</td>\n",
       "      <td>Anvers</td>\n",
       "      <td>Torgersen</td>\n",
       "      <td>Adult, 1 Egg Stage</td>\n",
       "      <td>N1A2</td>\n",
       "      <td>Yes</td>\n",
       "      <td>11/11/07</td>\n",
       "      <td>39.5</td>\n",
       "      <td>17.4</td>\n",
       "      <td>186.0</td>\n",
       "      <td>3800.0</td>\n",
       "      <td>FEMALE</td>\n",
       "      <td>8.94956</td>\n",
       "      <td>-24.69454</td>\n",
       "      <td>NaN</td>\n",
       "    </tr>\n",
       "    <tr>\n",
       "      <th>2</th>\n",
       "      <td>PAL0708</td>\n",
       "      <td>3</td>\n",
       "      <td>Adelie Penguin (Pygoscelis adeliae)</td>\n",
       "      <td>Anvers</td>\n",
       "      <td>Torgersen</td>\n",
       "      <td>Adult, 1 Egg Stage</td>\n",
       "      <td>N2A1</td>\n",
       "      <td>Yes</td>\n",
       "      <td>11/16/07</td>\n",
       "      <td>40.3</td>\n",
       "      <td>18.0</td>\n",
       "      <td>195.0</td>\n",
       "      <td>3250.0</td>\n",
       "      <td>FEMALE</td>\n",
       "      <td>8.36821</td>\n",
       "      <td>-25.33302</td>\n",
       "      <td>NaN</td>\n",
       "    </tr>\n",
       "    <tr>\n",
       "      <th>3</th>\n",
       "      <td>PAL0708</td>\n",
       "      <td>4</td>\n",
       "      <td>Adelie Penguin (Pygoscelis adeliae)</td>\n",
       "      <td>Anvers</td>\n",
       "      <td>Torgersen</td>\n",
       "      <td>Adult, 1 Egg Stage</td>\n",
       "      <td>N2A2</td>\n",
       "      <td>Yes</td>\n",
       "      <td>11/16/07</td>\n",
       "      <td>NaN</td>\n",
       "      <td>NaN</td>\n",
       "      <td>NaN</td>\n",
       "      <td>NaN</td>\n",
       "      <td>NaN</td>\n",
       "      <td>NaN</td>\n",
       "      <td>NaN</td>\n",
       "      <td>Adult not sampled.</td>\n",
       "    </tr>\n",
       "    <tr>\n",
       "      <th>4</th>\n",
       "      <td>PAL0708</td>\n",
       "      <td>5</td>\n",
       "      <td>Adelie Penguin (Pygoscelis adeliae)</td>\n",
       "      <td>Anvers</td>\n",
       "      <td>Torgersen</td>\n",
       "      <td>Adult, 1 Egg Stage</td>\n",
       "      <td>N3A1</td>\n",
       "      <td>Yes</td>\n",
       "      <td>11/16/07</td>\n",
       "      <td>36.7</td>\n",
       "      <td>19.3</td>\n",
       "      <td>193.0</td>\n",
       "      <td>3450.0</td>\n",
       "      <td>FEMALE</td>\n",
       "      <td>8.76651</td>\n",
       "      <td>-25.32426</td>\n",
       "      <td>NaN</td>\n",
       "    </tr>\n",
       "  </tbody>\n",
       "</table>\n",
       "</div>"
      ],
      "text/plain": [
       "  studyName  Sample Number                              Species  Region  \\\n",
       "0   PAL0708              1  Adelie Penguin (Pygoscelis adeliae)  Anvers   \n",
       "1   PAL0708              2  Adelie Penguin (Pygoscelis adeliae)  Anvers   \n",
       "2   PAL0708              3  Adelie Penguin (Pygoscelis adeliae)  Anvers   \n",
       "3   PAL0708              4  Adelie Penguin (Pygoscelis adeliae)  Anvers   \n",
       "4   PAL0708              5  Adelie Penguin (Pygoscelis adeliae)  Anvers   \n",
       "\n",
       "      Island               Stage Individual ID Clutch Completion  Date Egg  \\\n",
       "0  Torgersen  Adult, 1 Egg Stage          N1A1               Yes  11/11/07   \n",
       "1  Torgersen  Adult, 1 Egg Stage          N1A2               Yes  11/11/07   \n",
       "2  Torgersen  Adult, 1 Egg Stage          N2A1               Yes  11/16/07   \n",
       "3  Torgersen  Adult, 1 Egg Stage          N2A2               Yes  11/16/07   \n",
       "4  Torgersen  Adult, 1 Egg Stage          N3A1               Yes  11/16/07   \n",
       "\n",
       "   Culmen Length (mm)  Culmen Depth (mm)  Flipper Length (mm)  Body Mass (g)  \\\n",
       "0                39.1               18.7                181.0         3750.0   \n",
       "1                39.5               17.4                186.0         3800.0   \n",
       "2                40.3               18.0                195.0         3250.0   \n",
       "3                 NaN                NaN                  NaN            NaN   \n",
       "4                36.7               19.3                193.0         3450.0   \n",
       "\n",
       "      Sex  Delta 15 N (o/oo)  Delta 13 C (o/oo)  \\\n",
       "0    MALE                NaN                NaN   \n",
       "1  FEMALE            8.94956          -24.69454   \n",
       "2  FEMALE            8.36821          -25.33302   \n",
       "3     NaN                NaN                NaN   \n",
       "4  FEMALE            8.76651          -25.32426   \n",
       "\n",
       "                         Comments  \n",
       "0  Not enough blood for isotopes.  \n",
       "1                             NaN  \n",
       "2                             NaN  \n",
       "3              Adult not sampled.  \n",
       "4                             NaN  "
      ]
     },
     "execution_count": 114,
     "metadata": {},
     "output_type": "execute_result"
    }
   ],
   "source": [
    "penguins.head()"
   ]
  },
  {
   "cell_type": "code",
   "execution_count": 118,
   "id": "ee68ad3c",
   "metadata": {},
   "outputs": [
    {
     "name": "stdout",
     "output_type": "stream",
     "text": [
      "Adelie Penguin (Pygoscelis adeliae)          152\n",
      "Gentoo penguin (Pygoscelis papua)            124\n",
      "Chinstrap penguin (Pygoscelis antarctica)     68\n",
      "Name: Species, dtype: int64\n"
     ]
    }
   ],
   "source": [
    "# Let's say that we want to create a frequency table of species. \n",
    "# To do so, we type dataframe[columnName].value_counts()\n",
    "\n",
    "freq_one = penguins[\"Species\"].value_counts()\n",
    "print(freq_one)"
   ]
  },
  {
   "cell_type": "markdown",
   "id": "54bbbea2",
   "metadata": {},
   "source": [
    "### Relative frequency table"
   ]
  },
  {
   "cell_type": "code",
   "execution_count": 121,
   "id": "13635cd4",
   "metadata": {},
   "outputs": [
    {
     "name": "stdout",
     "output_type": "stream",
     "text": [
      "Adelie Penguin (Pygoscelis adeliae)          0.441860\n",
      "Gentoo penguin (Pygoscelis papua)            0.360465\n",
      "Chinstrap penguin (Pygoscelis antarctica)    0.197674\n",
      "Name: Species, dtype: float64\n"
     ]
    }
   ],
   "source": [
    "# Let's say that we want to create a relative frequency table of species. \n",
    "# To do so, we type dataframe[columnName].value_counts()\n",
    "\n",
    "freq_one = penguins[\"Species\"].value_counts(normalize = True)\n",
    "print(freq_one)"
   ]
  },
  {
   "cell_type": "markdown",
   "id": "605f082d",
   "metadata": {},
   "source": [
    "## Univariate quantitative non-graphical "
   ]
  },
  {
   "cell_type": "markdown",
   "id": "e99f703c",
   "metadata": {},
   "source": [
    "### Descriptive statistics"
   ]
  },
  {
   "cell_type": "markdown",
   "id": "0fd826c3",
   "metadata": {},
   "source": [
    "For quantitative variables, we can calculate sample statistics: mean, variance, and standard deviation. All of these are calculated in the same way: \n",
    "\n",
    "* mean_all_columns = dataframe_name.mean(numeric_only = True)\n",
    "\n",
    "* median_all_columns = dataframe_name.median(numeric_only = True)\n",
    "\n",
    "* mode_all_columns = dataframe_name.mode(numeric_only = True)\n",
    "\n",
    "* maximum_all_columns = dataframe_name.max(numeric_only = True)\n",
    "\n",
    "* min_all_columns = dataframe_name.min(numeric_only = True)\n",
    "\n",
    "* std_all_columns = dataframe_name.std(numeric_only = True)\n",
    "\n",
    "* var_all_columns = dataframe_name.var(numeric_only = True)\n",
    "\n",
    "\n",
    "**It is possible to skip numeric_only = True, however, this will show a warning message.**\n",
    "\n",
    "Keep in mind that pandas, by default, will calculate these values column by column.\n",
    "If we would like to do row by row we would have to type axis = 0 inside the parentheses.\n",
    "\n",
    "\n",
    "The above code will calculate the sample statistics for ALL quantitative variables in our dataframe. If we would only like to display one column, we can use the following pattern:\n",
    "\n",
    "* mean_column = dataframe_name[\"columnName\"].mean()\n",
    "\n",
    "* median_column = dataframe_name[\"columnName\"].median()\n",
    "\n",
    "* mode_column = dataframe_name[\"columnName\"].mode()\n",
    "\n",
    "* maximum_column = dataframe_name[\"columnName\"].max()\n",
    "\n",
    "* min_column = dataframe_name[\"columnName\"].min()\n",
    "\n",
    "* std_column = dataframe_name[\"columnName\"].std()\n",
    "\n",
    "* var_column = dataframe_name[\"columnName\"].var()"
   ]
  },
  {
   "cell_type": "code",
   "execution_count": 122,
   "id": "4ac123e3",
   "metadata": {},
   "outputs": [
    {
     "name": "stdout",
     "output_type": "stream",
     "text": [
      "Penguin's mean culmen length is equal to:  43.92192982456142\n"
     ]
    }
   ],
   "source": [
    "mean_culmen_length = penguins[\"Culmen Length (mm)\"].mean()\n",
    "print(\"Penguin's mean culmen length is equal to: \", mean_culmen_length)"
   ]
  },
  {
   "cell_type": "markdown",
   "id": "1c583522",
   "metadata": {},
   "source": [
    "### Range\n",
    "To calculate range we will use two of the functions we previously learned: max() and min()"
   ]
  },
  {
   "cell_type": "code",
   "execution_count": 41,
   "id": "f59ce423",
   "metadata": {},
   "outputs": [
    {
     "name": "stdout",
     "output_type": "stream",
     "text": [
      "27.5\n"
     ]
    }
   ],
   "source": [
    "# Calculate the max/min culmen length\n",
    "max_cul_length = penguins[\"Culmen Length (mm)\"].max()\n",
    "min_cul_length = penguins[\"Culmen Length (mm)\"].min()\n",
    "\n",
    "# Calculate the age range by subtracting max_age and min_age\n",
    "cul_length_range = max_cul_length - min_cul_length\n",
    "print(cul_length_range)"
   ]
  },
  {
   "cell_type": "markdown",
   "id": "a48eb2a4",
   "metadata": {},
   "source": [
    "### Quantiles and Inter Quartile Range (IQR)"
   ]
  },
  {
   "cell_type": "markdown",
   "id": "1ffc384e",
   "metadata": {},
   "source": [
    "To calculate quantiles we will use the same format as before: dataframe[\"columnName\"].quantile()\n",
    "\n",
    "Inside quantile parentheses we have to indicate which quantile we are calculating"
   ]
  },
  {
   "cell_type": "markdown",
   "id": "13ba78c5",
   "metadata": {},
   "source": [
    "* q1 = dataframe[\"columnName\"].quantile(0.25)\n",
    "* q2 = dataframe[\"columnName\"].quantile(0.50)\n",
    "* q3 = dataframe[\"columnName\"].quantile(0.75)"
   ]
  },
  {
   "cell_type": "markdown",
   "id": "ebb257fe",
   "metadata": {},
   "source": [
    "Note that pandas doesn't have a function that calculates directly the IQR. pandas, however, provides a workaround: Calculate Q1 and Q3, then find IQR by subtracting Q1 from Q3."
   ]
  },
  {
   "cell_type": "code",
   "execution_count": 43,
   "id": "06fcfa5e",
   "metadata": {},
   "outputs": [
    {
     "name": "stdout",
     "output_type": "stream",
     "text": [
      "1200.0\n"
     ]
    }
   ],
   "source": [
    "# Calculate the quantiles of gpa\n",
    "q1 = penguins[\"Body Mass (g)\"].quantile(0.25)\n",
    "q3 = penguins[\"Body Mass (g)\"].quantile(0.75)\n",
    "\n",
    "# Calculate the IQR of gpa\n",
    "iqr = q3 - q1\n",
    "print(iqr)"
   ]
  },
  {
   "cell_type": "markdown",
   "id": "697b1429",
   "metadata": {},
   "source": [
    "### Correlation Coefficient "
   ]
  },
  {
   "cell_type": "markdown",
   "id": "4572599f",
   "metadata": {},
   "source": [
    "To calculate correlation we will make use of the corr() function. Again, we will follow the format dataframe.corr()\n",
    "\n",
    "**Meanings**:\n",
    "* 1: Full correlation. If one variable increases, so does the other\n",
    "* 0: No correlation.\n",
    "* -1: Full negative correlation. If one variable increases, the other decreases."
   ]
  },
  {
   "cell_type": "code",
   "execution_count": 49,
   "id": "af50d18e",
   "metadata": {},
   "outputs": [
    {
     "name": "stdout",
     "output_type": "stream",
     "text": [
      "                     Sample Number  Culmen Length (mm)  Culmen Depth (mm)  \\\n",
      "Sample Number             1.000000           -0.236356          -0.022352   \n",
      "Culmen Length (mm)       -0.236356            1.000000          -0.235053   \n",
      "Culmen Depth (mm)        -0.022352           -0.235053           1.000000   \n",
      "Flipper Length (mm)       0.040849            0.656181          -0.583851   \n",
      "Body Mass (g)            -0.007042            0.595110          -0.471916   \n",
      "Delta 15 N (o/oo)         0.006952           -0.059759           0.605874   \n",
      "Delta 13 C (o/oo)        -0.488690            0.189025           0.429933   \n",
      "\n",
      "                     Flipper Length (mm)  Body Mass (g)  Delta 15 N (o/oo)  \\\n",
      "Sample Number                   0.040849      -0.007042           0.006952   \n",
      "Culmen Length (mm)              0.656181       0.595110          -0.059759   \n",
      "Culmen Depth (mm)              -0.583851      -0.471916           0.605874   \n",
      "Flipper Length (mm)             1.000000       0.871202          -0.507787   \n",
      "Body Mass (g)                   0.871202       1.000000          -0.537888   \n",
      "Delta 15 N (o/oo)              -0.507787      -0.537888           1.000000   \n",
      "Delta 13 C (o/oo)              -0.376223      -0.374638           0.570615   \n",
      "\n",
      "                     Delta 13 C (o/oo)  \n",
      "Sample Number                -0.488690  \n",
      "Culmen Length (mm)            0.189025  \n",
      "Culmen Depth (mm)             0.429933  \n",
      "Flipper Length (mm)          -0.376223  \n",
      "Body Mass (g)                -0.374638  \n",
      "Delta 15 N (o/oo)             0.570615  \n",
      "Delta 13 C (o/oo)             1.000000  \n"
     ]
    }
   ],
   "source": [
    "# Let's see the correlation between concerts attended and shoe size. Should we expect a value closer to -1, 0 or 1?\n",
    "penguins_corr = penguins.corr()\n",
    "print(penguins_corr)"
   ]
  },
  {
   "cell_type": "markdown",
   "id": "39a8e9b6",
   "metadata": {},
   "source": [
    "This table is quite confusing to look at, since it is showing us the correlation coefficient between **ALL** variables. So, if we want to look at two specific variables, we can use the same correlation table and indicate our variables by typing: correlationTable.loc[\"columnName\", \"columnName\"]"
   ]
  },
  {
   "cell_type": "code",
   "execution_count": 48,
   "id": "3d07f879",
   "metadata": {},
   "outputs": [
    {
     "name": "stdout",
     "output_type": "stream",
     "text": [
      "-0.23505287035553338\n"
     ]
    }
   ],
   "source": [
    "# Let's check the correlation between Culmen Length and Culment Depth\n",
    "culmen_corr = penguins_corr.loc[\"Culmen Length (mm)\", \"Culmen Depth (mm)\"]\n",
    "print(culmen_corr)"
   ]
  },
  {
   "cell_type": "markdown",
   "id": "9be43d33",
   "metadata": {},
   "source": [
    "# Describing dataframes"
   ]
  },
  {
   "cell_type": "code",
   "execution_count": 50,
   "id": "9a8079f6",
   "metadata": {},
   "outputs": [
    {
     "data": {
      "text/html": [
       "<div>\n",
       "<style scoped>\n",
       "    .dataframe tbody tr th:only-of-type {\n",
       "        vertical-align: middle;\n",
       "    }\n",
       "\n",
       "    .dataframe tbody tr th {\n",
       "        vertical-align: top;\n",
       "    }\n",
       "\n",
       "    .dataframe thead th {\n",
       "        text-align: right;\n",
       "    }\n",
       "</style>\n",
       "<table border=\"1\" class=\"dataframe\">\n",
       "  <thead>\n",
       "    <tr style=\"text-align: right;\">\n",
       "      <th></th>\n",
       "      <th>Sample Number</th>\n",
       "      <th>Culmen Length (mm)</th>\n",
       "      <th>Culmen Depth (mm)</th>\n",
       "      <th>Flipper Length (mm)</th>\n",
       "      <th>Body Mass (g)</th>\n",
       "      <th>Delta 15 N (o/oo)</th>\n",
       "      <th>Delta 13 C (o/oo)</th>\n",
       "    </tr>\n",
       "  </thead>\n",
       "  <tbody>\n",
       "    <tr>\n",
       "      <th>count</th>\n",
       "      <td>344.000000</td>\n",
       "      <td>342.000000</td>\n",
       "      <td>342.000000</td>\n",
       "      <td>342.000000</td>\n",
       "      <td>342.000000</td>\n",
       "      <td>330.000000</td>\n",
       "      <td>331.000000</td>\n",
       "    </tr>\n",
       "    <tr>\n",
       "      <th>mean</th>\n",
       "      <td>63.151163</td>\n",
       "      <td>43.921930</td>\n",
       "      <td>17.151170</td>\n",
       "      <td>200.915205</td>\n",
       "      <td>4201.754386</td>\n",
       "      <td>8.733382</td>\n",
       "      <td>-25.686292</td>\n",
       "    </tr>\n",
       "    <tr>\n",
       "      <th>std</th>\n",
       "      <td>40.430199</td>\n",
       "      <td>5.459584</td>\n",
       "      <td>1.974793</td>\n",
       "      <td>14.061714</td>\n",
       "      <td>801.954536</td>\n",
       "      <td>0.551770</td>\n",
       "      <td>0.793961</td>\n",
       "    </tr>\n",
       "    <tr>\n",
       "      <th>min</th>\n",
       "      <td>1.000000</td>\n",
       "      <td>32.100000</td>\n",
       "      <td>13.100000</td>\n",
       "      <td>172.000000</td>\n",
       "      <td>2700.000000</td>\n",
       "      <td>7.632200</td>\n",
       "      <td>-27.018540</td>\n",
       "    </tr>\n",
       "    <tr>\n",
       "      <th>25%</th>\n",
       "      <td>29.000000</td>\n",
       "      <td>39.225000</td>\n",
       "      <td>15.600000</td>\n",
       "      <td>190.000000</td>\n",
       "      <td>3550.000000</td>\n",
       "      <td>8.299890</td>\n",
       "      <td>-26.320305</td>\n",
       "    </tr>\n",
       "    <tr>\n",
       "      <th>50%</th>\n",
       "      <td>58.000000</td>\n",
       "      <td>44.450000</td>\n",
       "      <td>17.300000</td>\n",
       "      <td>197.000000</td>\n",
       "      <td>4050.000000</td>\n",
       "      <td>8.652405</td>\n",
       "      <td>-25.833520</td>\n",
       "    </tr>\n",
       "    <tr>\n",
       "      <th>75%</th>\n",
       "      <td>95.250000</td>\n",
       "      <td>48.500000</td>\n",
       "      <td>18.700000</td>\n",
       "      <td>213.000000</td>\n",
       "      <td>4750.000000</td>\n",
       "      <td>9.172123</td>\n",
       "      <td>-25.062050</td>\n",
       "    </tr>\n",
       "    <tr>\n",
       "      <th>max</th>\n",
       "      <td>152.000000</td>\n",
       "      <td>59.600000</td>\n",
       "      <td>21.500000</td>\n",
       "      <td>231.000000</td>\n",
       "      <td>6300.000000</td>\n",
       "      <td>10.025440</td>\n",
       "      <td>-23.787670</td>\n",
       "    </tr>\n",
       "  </tbody>\n",
       "</table>\n",
       "</div>"
      ],
      "text/plain": [
       "       Sample Number  Culmen Length (mm)  Culmen Depth (mm)  \\\n",
       "count     344.000000          342.000000         342.000000   \n",
       "mean       63.151163           43.921930          17.151170   \n",
       "std        40.430199            5.459584           1.974793   \n",
       "min         1.000000           32.100000          13.100000   \n",
       "25%        29.000000           39.225000          15.600000   \n",
       "50%        58.000000           44.450000          17.300000   \n",
       "75%        95.250000           48.500000          18.700000   \n",
       "max       152.000000           59.600000          21.500000   \n",
       "\n",
       "       Flipper Length (mm)  Body Mass (g)  Delta 15 N (o/oo)  \\\n",
       "count           342.000000     342.000000         330.000000   \n",
       "mean            200.915205    4201.754386           8.733382   \n",
       "std              14.061714     801.954536           0.551770   \n",
       "min             172.000000    2700.000000           7.632200   \n",
       "25%             190.000000    3550.000000           8.299890   \n",
       "50%             197.000000    4050.000000           8.652405   \n",
       "75%             213.000000    4750.000000           9.172123   \n",
       "max             231.000000    6300.000000          10.025440   \n",
       "\n",
       "       Delta 13 C (o/oo)  \n",
       "count         331.000000  \n",
       "mean          -25.686292  \n",
       "std             0.793961  \n",
       "min           -27.018540  \n",
       "25%           -26.320305  \n",
       "50%           -25.833520  \n",
       "75%           -25.062050  \n",
       "max           -23.787670  "
      ]
     },
     "execution_count": 50,
     "metadata": {},
     "output_type": "execute_result"
    }
   ],
   "source": [
    "# We can display a data summary by typing my_subjects_pd.describe()\n",
    "# This will show counts, mean, std, min, 25%, 50%, 75%, and max.\n",
    "penguins.describe()"
   ]
  },
  {
   "cell_type": "markdown",
   "id": "7dbce773",
   "metadata": {},
   "source": [
    "As you can see, only quantitative variables are shown on the table. So, let's look at different ways to play around with qualitative variables"
   ]
  },
  {
   "cell_type": "markdown",
   "id": "cf24c94f",
   "metadata": {},
   "source": [
    "## Frequency tables"
   ]
  },
  {
   "cell_type": "code",
   "execution_count": 62,
   "id": "f724b6c8",
   "metadata": {},
   "outputs": [
    {
     "data": {
      "text/html": [
       "<div>\n",
       "<style scoped>\n",
       "    .dataframe tbody tr th:only-of-type {\n",
       "        vertical-align: middle;\n",
       "    }\n",
       "\n",
       "    .dataframe tbody tr th {\n",
       "        vertical-align: top;\n",
       "    }\n",
       "\n",
       "    .dataframe thead th {\n",
       "        text-align: right;\n",
       "    }\n",
       "</style>\n",
       "<table border=\"1\" class=\"dataframe\">\n",
       "  <thead>\n",
       "    <tr style=\"text-align: right;\">\n",
       "      <th></th>\n",
       "      <th>studyName</th>\n",
       "      <th>Sample Number</th>\n",
       "      <th>Species</th>\n",
       "      <th>Region</th>\n",
       "      <th>Island</th>\n",
       "      <th>Stage</th>\n",
       "      <th>Individual ID</th>\n",
       "      <th>Clutch Completion</th>\n",
       "      <th>Date Egg</th>\n",
       "      <th>Culmen Length (mm)</th>\n",
       "      <th>Culmen Depth (mm)</th>\n",
       "      <th>Flipper Length (mm)</th>\n",
       "      <th>Body Mass (g)</th>\n",
       "      <th>Sex</th>\n",
       "      <th>Delta 15 N (o/oo)</th>\n",
       "      <th>Delta 13 C (o/oo)</th>\n",
       "      <th>Comments</th>\n",
       "    </tr>\n",
       "  </thead>\n",
       "  <tbody>\n",
       "    <tr>\n",
       "      <th>339</th>\n",
       "      <td>PAL0910</td>\n",
       "      <td>120</td>\n",
       "      <td>Gentoo penguin (Pygoscelis papua)</td>\n",
       "      <td>Anvers</td>\n",
       "      <td>Biscoe</td>\n",
       "      <td>Adult, 1 Egg Stage</td>\n",
       "      <td>N38A2</td>\n",
       "      <td>No</td>\n",
       "      <td>12/1/09</td>\n",
       "      <td>NaN</td>\n",
       "      <td>NaN</td>\n",
       "      <td>NaN</td>\n",
       "      <td>NaN</td>\n",
       "      <td>NaN</td>\n",
       "      <td>NaN</td>\n",
       "      <td>NaN</td>\n",
       "      <td>NaN</td>\n",
       "    </tr>\n",
       "    <tr>\n",
       "      <th>340</th>\n",
       "      <td>PAL0910</td>\n",
       "      <td>121</td>\n",
       "      <td>Gentoo penguin (Pygoscelis papua)</td>\n",
       "      <td>Anvers</td>\n",
       "      <td>Biscoe</td>\n",
       "      <td>Adult, 1 Egg Stage</td>\n",
       "      <td>N39A1</td>\n",
       "      <td>Yes</td>\n",
       "      <td>11/22/09</td>\n",
       "      <td>46.8</td>\n",
       "      <td>14.3</td>\n",
       "      <td>215.0</td>\n",
       "      <td>4850.0</td>\n",
       "      <td>FEMALE</td>\n",
       "      <td>8.41151</td>\n",
       "      <td>-26.13832</td>\n",
       "      <td>NaN</td>\n",
       "    </tr>\n",
       "    <tr>\n",
       "      <th>341</th>\n",
       "      <td>PAL0910</td>\n",
       "      <td>122</td>\n",
       "      <td>Gentoo penguin (Pygoscelis papua)</td>\n",
       "      <td>Anvers</td>\n",
       "      <td>Biscoe</td>\n",
       "      <td>Adult, 1 Egg Stage</td>\n",
       "      <td>N39A2</td>\n",
       "      <td>Yes</td>\n",
       "      <td>11/22/09</td>\n",
       "      <td>50.4</td>\n",
       "      <td>15.7</td>\n",
       "      <td>222.0</td>\n",
       "      <td>5750.0</td>\n",
       "      <td>MALE</td>\n",
       "      <td>8.30166</td>\n",
       "      <td>-26.04117</td>\n",
       "      <td>NaN</td>\n",
       "    </tr>\n",
       "    <tr>\n",
       "      <th>342</th>\n",
       "      <td>PAL0910</td>\n",
       "      <td>123</td>\n",
       "      <td>Gentoo penguin (Pygoscelis papua)</td>\n",
       "      <td>Anvers</td>\n",
       "      <td>Biscoe</td>\n",
       "      <td>Adult, 1 Egg Stage</td>\n",
       "      <td>N43A1</td>\n",
       "      <td>Yes</td>\n",
       "      <td>11/22/09</td>\n",
       "      <td>45.2</td>\n",
       "      <td>14.8</td>\n",
       "      <td>212.0</td>\n",
       "      <td>5200.0</td>\n",
       "      <td>FEMALE</td>\n",
       "      <td>8.24246</td>\n",
       "      <td>-26.11969</td>\n",
       "      <td>NaN</td>\n",
       "    </tr>\n",
       "    <tr>\n",
       "      <th>343</th>\n",
       "      <td>PAL0910</td>\n",
       "      <td>124</td>\n",
       "      <td>Gentoo penguin (Pygoscelis papua)</td>\n",
       "      <td>Anvers</td>\n",
       "      <td>Biscoe</td>\n",
       "      <td>Adult, 1 Egg Stage</td>\n",
       "      <td>N43A2</td>\n",
       "      <td>Yes</td>\n",
       "      <td>11/22/09</td>\n",
       "      <td>49.9</td>\n",
       "      <td>16.1</td>\n",
       "      <td>213.0</td>\n",
       "      <td>5400.0</td>\n",
       "      <td>MALE</td>\n",
       "      <td>8.36390</td>\n",
       "      <td>-26.15531</td>\n",
       "      <td>NaN</td>\n",
       "    </tr>\n",
       "  </tbody>\n",
       "</table>\n",
       "</div>"
      ],
      "text/plain": [
       "    studyName  Sample Number                            Species  Region  \\\n",
       "339   PAL0910            120  Gentoo penguin (Pygoscelis papua)  Anvers   \n",
       "340   PAL0910            121  Gentoo penguin (Pygoscelis papua)  Anvers   \n",
       "341   PAL0910            122  Gentoo penguin (Pygoscelis papua)  Anvers   \n",
       "342   PAL0910            123  Gentoo penguin (Pygoscelis papua)  Anvers   \n",
       "343   PAL0910            124  Gentoo penguin (Pygoscelis papua)  Anvers   \n",
       "\n",
       "     Island               Stage Individual ID Clutch Completion  Date Egg  \\\n",
       "339  Biscoe  Adult, 1 Egg Stage         N38A2                No   12/1/09   \n",
       "340  Biscoe  Adult, 1 Egg Stage         N39A1               Yes  11/22/09   \n",
       "341  Biscoe  Adult, 1 Egg Stage         N39A2               Yes  11/22/09   \n",
       "342  Biscoe  Adult, 1 Egg Stage         N43A1               Yes  11/22/09   \n",
       "343  Biscoe  Adult, 1 Egg Stage         N43A2               Yes  11/22/09   \n",
       "\n",
       "     Culmen Length (mm)  Culmen Depth (mm)  Flipper Length (mm)  \\\n",
       "339                 NaN                NaN                  NaN   \n",
       "340                46.8               14.3                215.0   \n",
       "341                50.4               15.7                222.0   \n",
       "342                45.2               14.8                212.0   \n",
       "343                49.9               16.1                213.0   \n",
       "\n",
       "     Body Mass (g)     Sex  Delta 15 N (o/oo)  Delta 13 C (o/oo) Comments  \n",
       "339            NaN     NaN                NaN                NaN      NaN  \n",
       "340         4850.0  FEMALE            8.41151          -26.13832      NaN  \n",
       "341         5750.0    MALE            8.30166          -26.04117      NaN  \n",
       "342         5200.0  FEMALE            8.24246          -26.11969      NaN  \n",
       "343         5400.0    MALE            8.36390          -26.15531      NaN  "
      ]
     },
     "execution_count": 62,
     "metadata": {},
     "output_type": "execute_result"
    }
   ],
   "source": [
    "# Let's recall our dataframe by looking at the last five rows\n",
    "penguins.tail()"
   ]
  },
  {
   "cell_type": "code",
   "execution_count": 77,
   "id": "370b002c",
   "metadata": {},
   "outputs": [
    {
     "name": "stdout",
     "output_type": "stream",
     "text": [
      "Adelie Penguin (Pygoscelis adeliae)          152\n",
      "Gentoo penguin (Pygoscelis papua)            124\n",
      "Chinstrap penguin (Pygoscelis antarctica)     68\n",
      "Name: Species, dtype: int64\n"
     ]
    }
   ],
   "source": [
    "# Let's say that we want to create a frequency table of species. \n",
    "# To do so, we type dataframe[columnName].value_counts()\n",
    "freq_one = penguins[\"Species\"].value_counts()\n",
    "print(freq_one)"
   ]
  },
  {
   "cell_type": "code",
   "execution_count": 79,
   "id": "0703ef81",
   "metadata": {},
   "outputs": [
    {
     "name": "stdout",
     "output_type": "stream",
     "text": [
      "Species                                    Island   \n",
      "Gentoo penguin (Pygoscelis papua)          Biscoe       124\n",
      "Chinstrap penguin (Pygoscelis antarctica)  Dream         68\n",
      "Adelie Penguin (Pygoscelis adeliae)        Dream         56\n",
      "                                           Torgersen     52\n",
      "                                           Biscoe        44\n",
      "dtype: int64\n"
     ]
    }
   ],
   "source": [
    "# If we want to look at more than one categorical variable we have to add an extra square bracket and add a commma.\n",
    "# dataframe.[[\"columnName1\", \"columnName2\"]].value_counts()\n",
    "\n",
    "# Let's look at species per island\n",
    "freq_two = penguins[[\"Species\", \"Island\"]].value_counts()\n",
    "print(freq_two)"
   ]
  },
  {
   "cell_type": "markdown",
   "id": "d3b7bd7f",
   "metadata": {},
   "source": [
    "This table can be a bit confusing, so let's make it look nicer. We will add the function to_markdown() at the end to make our tables more organized."
   ]
  },
  {
   "cell_type": "code",
   "execution_count": 80,
   "id": "20c83a42",
   "metadata": {},
   "outputs": [
    {
     "name": "stdout",
     "output_type": "stream",
     "text": [
      "|                                                        |   0 |\n",
      "|:-------------------------------------------------------|----:|\n",
      "| ('Gentoo penguin (Pygoscelis papua)', 'Biscoe')        | 124 |\n",
      "| ('Chinstrap penguin (Pygoscelis antarctica)', 'Dream') |  68 |\n",
      "| ('Adelie Penguin (Pygoscelis adeliae)', 'Dream')       |  56 |\n",
      "| ('Adelie Penguin (Pygoscelis adeliae)', 'Torgersen')   |  52 |\n",
      "| ('Adelie Penguin (Pygoscelis adeliae)', 'Biscoe')      |  44 |\n"
     ]
    }
   ],
   "source": [
    "freq_two = freq_two.to_markdown()\n",
    "print(freq_two)"
   ]
  },
  {
   "cell_type": "markdown",
   "id": "cc7d9d8d",
   "metadata": {},
   "source": [
    "It looks much better, right? "
   ]
  },
  {
   "cell_type": "code",
   "execution_count": 103,
   "id": "3efbbe77",
   "metadata": {},
   "outputs": [
    {
     "name": "stdout",
     "output_type": "stream",
     "text": [
      "Island                                     Biscoe  Dream  Torgersen\n",
      "Species                                                            \n",
      "Adelie Penguin (Pygoscelis adeliae)            44     56         52\n",
      "Chinstrap penguin (Pygoscelis antarctica)       0     68          0\n",
      "Gentoo penguin (Pygoscelis papua)             124      0          0\n"
     ]
    }
   ],
   "source": [
    "# As you can see above, it doesn't show non-existent combinationts (for example, dream and gentoo penguin).\n",
    "# If we, however, would like to see those, we can type\n",
    "# pd.crosstab(dataframe[\"columnName1\"], dataframe[\"columnName2\"]) and to_markdown() for nicer visualization\n",
    "\n",
    "freq_three = pd.crosstab(penguins[\"Species\"], penguins[\"Island\"])to_markdown()\n",
    "print(freq_three)"
   ]
  },
  {
   "cell_type": "code",
   "execution_count": 98,
   "id": "fd6f429c",
   "metadata": {},
   "outputs": [
    {
     "name": "stdout",
     "output_type": "stream",
     "text": [
      "Island                                       Biscoe     Dream  Torgersen\n",
      "Species                                                                 \n",
      "Adelie Penguin (Pygoscelis adeliae)        0.127907  0.162791   0.151163\n",
      "Chinstrap penguin (Pygoscelis antarctica)  0.000000  0.197674   0.000000\n",
      "Gentoo penguin (Pygoscelis papua)          0.360465  0.000000   0.000000\n"
     ]
    }
   ],
   "source": [
    "# If we want to see a table of proportions, we have to type\n",
    "# pd.crosstab(dataframe[\"columnName1\"], dataframe[\"columnName2\"], normalize = True)\n",
    "\n",
    "prop_one = pd.crosstab(penguins[\"Species\"], penguins[\"Island\"], normalize = True)\n",
    "print(prop_one)"
   ]
  },
  {
   "cell_type": "code",
   "execution_count": 97,
   "id": "0b79fc95",
   "metadata": {},
   "outputs": [
    {
     "name": "stdout",
     "output_type": "stream",
     "text": [
      "1.0\n"
     ]
    }
   ],
   "source": [
    "# Verify that they add up to one\n",
    "\n",
    "print(0.13 + 0.16 + 0.15+ 0.2 + 0.36)"
   ]
  },
  {
   "cell_type": "code",
   "execution_count": 99,
   "id": "f5a5e3ac",
   "metadata": {},
   "outputs": [
    {
     "name": "stdout",
     "output_type": "stream",
     "text": [
      "| Species                                   |   Biscoe |    Dream |   Torgersen |\n",
      "|:------------------------------------------|---------:|---------:|------------:|\n",
      "| Adelie Penguin (Pygoscelis adeliae)       | 0.127907 | 0.162791 |    0.151163 |\n",
      "| Chinstrap penguin (Pygoscelis antarctica) | 0        | 0.197674 |    0        |\n",
      "| Gentoo penguin (Pygoscelis papua)         | 0.360465 | 0        |    0        |\n"
     ]
    }
   ],
   "source": [
    "# Again, just for visual purposes we can apply to_markdown() at the end\n",
    "prop_one = prop_one.to_markdown()\n",
    "print(prop_one)"
   ]
  },
  {
   "cell_type": "code",
   "execution_count": 51,
   "id": "76bc923c",
   "metadata": {},
   "outputs": [
    {
     "data": {
      "text/plain": [
       "studyName                0\n",
       "Sample Number            0\n",
       "Species                  0\n",
       "Region                   0\n",
       "Island                   0\n",
       "Stage                    0\n",
       "Individual ID            0\n",
       "Clutch Completion        0\n",
       "Date Egg                 0\n",
       "Culmen Length (mm)       2\n",
       "Culmen Depth (mm)        2\n",
       "Flipper Length (mm)      2\n",
       "Body Mass (g)            2\n",
       "Sex                     10\n",
       "Delta 15 N (o/oo)       14\n",
       "Delta 13 C (o/oo)       13\n",
       "Comments               318\n",
       "dtype: int64"
      ]
     },
     "execution_count": 51,
     "metadata": {},
     "output_type": "execute_result"
    }
   ],
   "source": [
    "# Sometimes, we will encounter missing data in our dataframes. To get a sense of how many values are missing we can\n",
    "# type dataframe.isnull().sum()\n",
    "\n",
    "penguins.isnull().sum()"
   ]
  },
  {
   "cell_type": "markdown",
   "id": "d8e4b58d",
   "metadata": {},
   "source": [
    "# Data Visualization\n",
    "Now that we have grasped how to summarize our data, let's try plotting it! In this section, we will introduce you to how to create graphs using the python libraries Matplotlib, pandas, and Seaborn. When building data visualizations, our first step is always to import the necessary libraries. Although you only need to load a library once per Jupyter notebook, throughout this handout we will always load libraries before every plot just so we can get into the practice of doing so. \n",
    "\n",
    "After loading our libraries, we will need to either gather our data or create our data. In this handout, we will teach how to import data from a .csv file and how to create lists of data for our plots. Finally, we will learn how and what functions to use to create our graph of choice, and how to label and color our plots."
   ]
  },
  {
   "cell_type": "markdown",
   "id": "994bcf13",
   "metadata": {},
   "source": [
    "## Matplotlib\n",
    "### Line Graph\n",
    "\n",
    "Let's begin by making a single line plot!"
   ]
  },
  {
   "cell_type": "code",
   "execution_count": 16,
   "id": "c7362cb2",
   "metadata": {},
   "outputs": [
    {
     "data": {
      "image/png": "[encoded data removed]",
      "text/plain": [
       "<Figure size 432x288 with 1 Axes>"
      ]
     },
     "metadata": {
      "needs_background": "light"
     },
     "output_type": "display_data"
    }
   ],
   "source": [
    "# Load libraries\n",
    "import matplotlib.pyplot as plt\n",
    "\n",
    "# Create data\n",
    "x = [1,3,5, 7, 9, 11]\n",
    "y = [10, 25, 35, 33, 38, 59]\n",
    "\n",
    "# Plot data\n",
    "plt.plot(x, y)\n",
    "\n",
    "# Display plot\n",
    "plt.show()"
   ]
  },
  {
   "cell_type": "markdown",
   "id": "ae7f2f81",
   "metadata": {},
   "source": [
    "Great job! Now let us continue to add more details to our graph. In the matplotlib module, we can add a title to our graph by writing plt.title() and add labels using plt.xlabel for the x-axis and plt.ylabel for the y-axis. Additionally, we can color our line by assigning color within our plt.plot() function."
   ]
  },
  {
   "cell_type": "code",
   "execution_count": 10,
   "id": "f6c15731",
   "metadata": {},
   "outputs": [
    {
     "data": {
      "image/png": "[encoded data removed]",
      "text/plain": [
       "<Figure size 432x288 with 1 Axes>"
      ]
     },
     "metadata": {
      "needs_background": "light"
     },
     "output_type": "display_data"
    }
   ],
   "source": [
    "# Load libraries\n",
    "import matplotlib.pyplot as plt\n",
    "\n",
    "# Create data\n",
    "x = [1,3,5, 7, 9, 11]\n",
    "y = [10, 25, 35, 33, 38, 59]\n",
    "\n",
    "# Plot data and add color\n",
    "plt.plot(x, y, color = 'blue')\n",
    "\n",
    "# Add label for the x-axis\n",
    "plt.xlabel(\"X-label\")\n",
    "\n",
    "# Add label for the y-axis\n",
    "plt.ylabel(\"Y-label\")\n",
    "\n",
    "# Add a title to the graph\n",
    "plt.title(\"Line Plot\")\n",
    "\n",
    "# Display plot\n",
    "plt.show()"
   ]
  },
  {
   "cell_type": "markdown",
   "id": "fc41b670",
   "metadata": {},
   "source": [
    "What if we wanted to add another line to make a multiple line graph? We complete roughly the same process, and add an additional set of data and one more plot command to see another line appear on this graph. Let's try it out!"
   ]
  },
  {
   "cell_type": "code",
   "execution_count": 17,
   "id": "c962b5bc",
   "metadata": {},
   "outputs": [
    {
     "data": {
      "image/png": "[encoded data removed]",
      "text/plain": [
       "<Figure size 432x288 with 1 Axes>"
      ]
     },
     "metadata": {
      "needs_background": "light"
     },
     "output_type": "display_data"
    }
   ],
   "source": [
    "# Load libraries\n",
    "import matplotlib.pyplot as plt\n",
    "\n",
    "# Create the first set of data\n",
    "x = [1,3,5, 7, 9, 11]\n",
    "y = [10, 25, 35, 33, 38, 59]\n",
    "\n",
    "# Plot first set and color it\n",
    "plt.plot(x, y, color = 'blue')\n",
    "\n",
    "# Create the second set of data\n",
    "x = [2,4,6,8,10,12]\n",
    "y = [15, 29, 32, 33, 38,55]\n",
    "\n",
    "# Plot second set and color it\n",
    "plt.plot(x, y, color = 'red')\n",
    "\n",
    "# Add label for the x-axis\n",
    "plt.xlabel(\"X-label\")\n",
    "\n",
    "# Add label for the y-axis\n",
    "plt.ylabel(\"Y-label\")\n",
    "\n",
    "# Add a title to the graph\n",
    "plt.title(\"Multiple Python Line Graph\")\n",
    "\n",
    "# Display the graph\n",
    "plt.show()"
   ]
  },
  {
   "cell_type": "markdown",
   "id": "3ac00a78",
   "metadata": {},
   "source": [
    "Given that we now have multiple lines on our line graph, it would be helpful to have a legend that distinguishes between the two lines. Luckily, we can use legend() and add some code to our plotting functions to create the legend labels."
   ]
  },
  {
   "cell_type": "code",
   "execution_count": 18,
   "id": "98690cd8",
   "metadata": {},
   "outputs": [
    {
     "data": {
      "image/png": "[encoded data removed]",
      "text/plain": [
       "<Figure size 432x288 with 1 Axes>"
      ]
     },
     "metadata": {
      "needs_background": "light"
     },
     "output_type": "display_data"
    }
   ],
   "source": [
    "# Load libraries\n",
    "import matplotlib.pyplot as plt\n",
    "\n",
    "# Create the first set of data\n",
    "x = [1,3,5, 7, 9, 11]\n",
    "y = [10, 25, 35, 33, 38, 59]\n",
    "\n",
    "# Plot first set and color it\n",
    "plt.plot(x, y, label = 'Series-1', color = 'blue')\n",
    "\n",
    "# Create the second set of data\n",
    "x = [2,4,6,8,10,12]\n",
    "y = [15, 29, 32, 33, 38,55]\n",
    "\n",
    "# Plot second set and color it\n",
    "plt.plot(x, y, label = 'Series-2', color = 'red')\n",
    "\n",
    "# Add label for the x-axis\n",
    "plt.xlabel(\"X-label\")\n",
    "\n",
    "# Add label for the y-axis\n",
    "plt.ylabel(\"Y-label\")\n",
    "\n",
    "# Add a title to the graph\n",
    "plt.title(\"Multiple Python Line Graph\")\n",
    "\n",
    "# Add a legend to the graph\n",
    "plt.legend()\n",
    "\n",
    "# Display the graph\n",
    "plt.show()"
   ]
  },
  {
   "cell_type": "markdown",
   "id": "36a31775",
   "metadata": {},
   "source": [
    "### Pie plot\n",
    "\n",
    "We can follow a similar process to create pie plots which are great for visualizing proportions of a whole. The method pie() will help us create these graphs."
   ]
  },
  {
   "cell_type": "code",
   "execution_count": 34,
   "id": "8d70ec7c",
   "metadata": {},
   "outputs": [
    {
     "data": {
      "image/png": "[encoded data removed]",
      "text/plain": [
       "<Figure size 432x288 with 1 Axes>"
      ]
     },
     "metadata": {},
     "output_type": "display_data"
    }
   ],
   "source": [
    "# Add libraries\n",
    "import matplotlib.pyplot as plt\n",
    "\n",
    "# Create data\n",
    "courses = [\"Intro Stats\", \"Theoretical Statistics\", \"Data Science\", \"Probability\"]\n",
    "scores = [78, 89, 100, 65]\n",
    "\n",
    "# Plot the data\n",
    "plt.pie(scores,\n",
    "       labels = courses,\n",
    "       colors = ['r', 'y', 'b', 'g'],\n",
    "       startangle = 90,\n",
    "       shadow = True,\n",
    "       explode = (0, 0.1, 0, 0),\n",
    "       autopct = '%1.1f%%')\n",
    "\n",
    "# Add title\n",
    "plt.title(\"Statistics Student Performance\")\n",
    "\n",
    "# Display the chart\n",
    "plt.show()"
   ]
  },
  {
   "cell_type": "markdown",
   "id": "eba1aadd",
   "metadata": {},
   "source": [
    "### Histogram plot\n",
    "\n",
    "Histograms are a common way to visualize the distribution of a single numeric variable. Furthermore, it shows the probability distribution of a continuous variable, so we will certainly need to use these in our statistical analysis. Let's see how to make histograms using the hist( ) method.\n",
    "\n",
    "Here we will need to specify the data, bins, and relative width within our histogram function. Our bins will go from 20 to 60 with a 10 years bin size. Additionally, we are using a relative bar width of 0.6, but it is up to you whether or not to haev a thicker and thinner width for the histogram bars."
   ]
  },
  {
   "cell_type": "code",
   "execution_count": 37,
   "id": "b9857323",
   "metadata": {},
   "outputs": [
    {
     "data": {
      "image/png": "[encoded data removed]",
      "text/plain": [
       "<Figure size 432x288 with 1 Axes>"
      ]
     },
     "metadata": {
      "needs_background": "light"
     },
     "output_type": "display_data"
    }
   ],
   "source": [
    "# Add libraries\n",
    "import matplotlib.pyplot as plt\n",
    "\n",
    "# Create data\n",
    "employee_age = [21,28,32,34,35,35,37,42,47,55]\n",
    "\n",
    "# Create bins for histogram\n",
    "bins = [20,30,40,50,60]\n",
    "\n",
    "# Plot the histogram\n",
    "plt.hist(employee_age, bins, rwidth = 0.6)\n",
    "\n",
    "# Label axis\n",
    "plt.xlabel(\"Employee Age\")\n",
    "plt.ylabel(\"Frequency\")\n",
    "\n",
    "# Add title\n",
    "plt.title(\"Employee Age Distribution\")\n",
    "\n",
    "# Display the graph\n",
    "plt.show()"
   ]
  },
  {
   "cell_type": "markdown",
   "id": "5fd7157a",
   "metadata": {},
   "source": [
    "# Pandas plotting\n",
    "\n",
    "We can directly plot pandas data frames by using the plot( ) method. Inside the parenthesis we can include a wide variety of parameters, but we will be mainly using the following:\n",
    "\n",
    "* **kind** : (String) Used to indicate the type of graph. Line, hist, box, density, scatter, etc.\n",
    "* **x** : (String)/ Name of the column to be used.\n",
    "* **y** : (String) Name of the coumn to be used.\n",
    "* **figsize** = (Tuple) Used to indicate the size (width, height).\n",
    "* **title** = (String) Defines the graph's title.\n",
    "* **color** = (String) Indicates the graph's color.\n",
    "* **xlabel** = (String) Indicates the x axis' title.\n",
    "* **ylabel** = (String) Indicates the y axis' title.\n"
   ]
  },
  {
   "cell_type": "code",
   "execution_count": 79,
   "id": "3b8304f9",
   "metadata": {},
   "outputs": [
    {
     "data": {
      "text/html": [
       "<div>\n",
       "<style scoped>\n",
       "    .dataframe tbody tr th:only-of-type {\n",
       "        vertical-align: middle;\n",
       "    }\n",
       "\n",
       "    .dataframe tbody tr th {\n",
       "        vertical-align: top;\n",
       "    }\n",
       "\n",
       "    .dataframe thead th {\n",
       "        text-align: right;\n",
       "    }\n",
       "</style>\n",
       "<table border=\"1\" class=\"dataframe\">\n",
       "  <thead>\n",
       "    <tr style=\"text-align: right;\">\n",
       "      <th></th>\n",
       "      <th>month</th>\n",
       "      <th>temperature (celsius)</th>\n",
       "      <th>rain probability (%)</th>\n",
       "    </tr>\n",
       "  </thead>\n",
       "  <tbody>\n",
       "    <tr>\n",
       "      <th>0</th>\n",
       "      <td>jun</td>\n",
       "      <td>29</td>\n",
       "      <td>31</td>\n",
       "    </tr>\n",
       "    <tr>\n",
       "      <th>1</th>\n",
       "      <td>jul</td>\n",
       "      <td>30</td>\n",
       "      <td>40</td>\n",
       "    </tr>\n",
       "    <tr>\n",
       "      <th>2</th>\n",
       "      <td>aug</td>\n",
       "      <td>27</td>\n",
       "      <td>33</td>\n",
       "    </tr>\n",
       "    <tr>\n",
       "      <th>3</th>\n",
       "      <td>sept</td>\n",
       "      <td>26</td>\n",
       "      <td>15</td>\n",
       "    </tr>\n",
       "    <tr>\n",
       "      <th>4</th>\n",
       "      <td>oct</td>\n",
       "      <td>22</td>\n",
       "      <td>19</td>\n",
       "    </tr>\n",
       "  </tbody>\n",
       "</table>\n",
       "</div>"
      ],
      "text/plain": [
       "  month  temperature (celsius)  rain probability (%)\n",
       "0   jun                     29                    31\n",
       "1   jul                     30                    40\n",
       "2   aug                     27                    33\n",
       "3  sept                     26                    15\n",
       "4   oct                     22                    19"
      ]
     },
     "execution_count": 79,
     "metadata": {},
     "output_type": "execute_result"
    }
   ],
   "source": [
    "# Let's create a new dataframe\n",
    "\n",
    "sample_monthly_stats = {'month': ['jun', 'jul', 'aug', 'sept', 'oct'],\n",
    "    'temperature (celsius)': [29, 30, 27, 26, 22],\n",
    "    'rain probability (%)': [31, 40, 33, 15, 19]}\n",
    "\n",
    "sample_monthly_stats_pd = pd.DataFrame(sample_monthly_stats, columns = ['month', 'temperature (celsius)', 'rain probability (%)'])\n",
    "\n",
    "sample_monthly_stats_pd"
   ]
  },
  {
   "cell_type": "markdown",
   "id": "c01d6ace",
   "metadata": {},
   "source": [
    "### Line plot"
   ]
  },
  {
   "cell_type": "code",
   "execution_count": 81,
   "id": "d7afb450",
   "metadata": {},
   "outputs": [
    {
     "data": {
      "image/png": "[encoded data removed]",
      "text/plain": [
       "<Figure size 432x288 with 1 Axes>"
      ]
     },
     "metadata": {
      "needs_background": "light"
     },
     "output_type": "display_data"
    }
   ],
   "source": [
    "import matplotlib.pyplot as plt\n",
    "\n",
    "# Let's add our parameters inside plot(). Note that the order does not matter.\n",
    "sample_monthly_stats_pd.plot(title = 'Average temperature per month', kind = 'line', x = 'month',\n",
    "                             y = 'temperature (celsius)', color = 'green', xlabel = 'Month',\n",
    "                             ylabel = 'Temperature (Celsius)')\n",
    "\n",
    "# As a good practice, we will continue making use of matplotlib.pyplot's function show() to display our graph.\n",
    "# However, due to Jupyter being interactive, just by making use of plot() we will be able to see our graph. \n",
    "\n",
    "plt.show()\n"
   ]
  },
  {
   "cell_type": "markdown",
   "id": "f72424e8",
   "metadata": {},
   "source": [
    "### Scatter Plot"
   ]
  },
  {
   "cell_type": "code",
   "execution_count": 57,
   "id": "f873bcd2",
   "metadata": {},
   "outputs": [
    {
     "data": {
      "text/html": [
       "<div>\n",
       "<style scoped>\n",
       "    .dataframe tbody tr th:only-of-type {\n",
       "        vertical-align: middle;\n",
       "    }\n",
       "\n",
       "    .dataframe tbody tr th {\n",
       "        vertical-align: top;\n",
       "    }\n",
       "\n",
       "    .dataframe thead th {\n",
       "        text-align: right;\n",
       "    }\n",
       "</style>\n",
       "<table border=\"1\" class=\"dataframe\">\n",
       "  <thead>\n",
       "    <tr style=\"text-align: right;\">\n",
       "      <th></th>\n",
       "      <th>Country</th>\n",
       "      <th>CountryID</th>\n",
       "      <th>Continent</th>\n",
       "      <th>Adolescent fertility rate (%)</th>\n",
       "      <th>Adult literacy rate (%)</th>\n",
       "      <th>Gross national income per capita (PPP international $)</th>\n",
       "      <th>Net primary school enrolment ratio female (%)</th>\n",
       "      <th>Net primary school enrolment ratio male (%)</th>\n",
       "      <th>Population (in thousands) total</th>\n",
       "    </tr>\n",
       "  </thead>\n",
       "  <tbody>\n",
       "    <tr>\n",
       "      <th>0</th>\n",
       "      <td>Afghanistan</td>\n",
       "      <td>1</td>\n",
       "      <td>1</td>\n",
       "      <td>151.0</td>\n",
       "      <td>28.0</td>\n",
       "      <td>NaN</td>\n",
       "      <td>NaN</td>\n",
       "      <td>NaN</td>\n",
       "      <td>26088.0</td>\n",
       "    </tr>\n",
       "    <tr>\n",
       "      <th>1</th>\n",
       "      <td>Albania</td>\n",
       "      <td>2</td>\n",
       "      <td>2</td>\n",
       "      <td>27.0</td>\n",
       "      <td>98.7</td>\n",
       "      <td>6000.0</td>\n",
       "      <td>93.0</td>\n",
       "      <td>94.0</td>\n",
       "      <td>3172.0</td>\n",
       "    </tr>\n",
       "    <tr>\n",
       "      <th>2</th>\n",
       "      <td>Algeria</td>\n",
       "      <td>3</td>\n",
       "      <td>3</td>\n",
       "      <td>6.0</td>\n",
       "      <td>69.9</td>\n",
       "      <td>5940.0</td>\n",
       "      <td>94.0</td>\n",
       "      <td>96.0</td>\n",
       "      <td>33351.0</td>\n",
       "    </tr>\n",
       "    <tr>\n",
       "      <th>3</th>\n",
       "      <td>Andorra</td>\n",
       "      <td>4</td>\n",
       "      <td>2</td>\n",
       "      <td>NaN</td>\n",
       "      <td>NaN</td>\n",
       "      <td>NaN</td>\n",
       "      <td>83.0</td>\n",
       "      <td>83.0</td>\n",
       "      <td>74.0</td>\n",
       "    </tr>\n",
       "    <tr>\n",
       "      <th>4</th>\n",
       "      <td>Angola</td>\n",
       "      <td>5</td>\n",
       "      <td>3</td>\n",
       "      <td>146.0</td>\n",
       "      <td>67.4</td>\n",
       "      <td>3890.0</td>\n",
       "      <td>49.0</td>\n",
       "      <td>51.0</td>\n",
       "      <td>16557.0</td>\n",
       "    </tr>\n",
       "  </tbody>\n",
       "</table>\n",
       "</div>"
      ],
      "text/plain": [
       "       Country  CountryID  Continent  Adolescent fertility rate (%)  \\\n",
       "0  Afghanistan          1          1                          151.0   \n",
       "1      Albania          2          2                           27.0   \n",
       "2      Algeria          3          3                            6.0   \n",
       "3      Andorra          4          2                            NaN   \n",
       "4       Angola          5          3                          146.0   \n",
       "\n",
       "   Adult literacy rate (%)  \\\n",
       "0                     28.0   \n",
       "1                     98.7   \n",
       "2                     69.9   \n",
       "3                      NaN   \n",
       "4                     67.4   \n",
       "\n",
       "   Gross national income per capita (PPP international $)  \\\n",
       "0                                                NaN        \n",
       "1                                             6000.0        \n",
       "2                                             5940.0        \n",
       "3                                                NaN        \n",
       "4                                             3890.0        \n",
       "\n",
       "   Net primary school enrolment ratio female (%)  \\\n",
       "0                                            NaN   \n",
       "1                                           93.0   \n",
       "2                                           94.0   \n",
       "3                                           83.0   \n",
       "4                                           49.0   \n",
       "\n",
       "   Net primary school enrolment ratio male (%)  \\\n",
       "0                                          NaN   \n",
       "1                                         94.0   \n",
       "2                                         96.0   \n",
       "3                                         83.0   \n",
       "4                                         51.0   \n",
       "\n",
       "   Population (in thousands) total  \n",
       "0                          26088.0  \n",
       "1                           3172.0  \n",
       "2                          33351.0  \n",
       "3                             74.0  \n",
       "4                          16557.0  "
      ]
     },
     "execution_count": 57,
     "metadata": {},
     "output_type": "execute_result"
    }
   ],
   "source": [
    "# Let's import a csv file to continue doing some plotting. To do so, we are going to use pandas' function read_csv().\n",
    "import pandas as pd \n",
    "who_data = pd.read_csv(\"WHO_first9cols.csv\")\n",
    "\n",
    "# We can look at the first 5 rows by using head()\n",
    "who_data.head()"
   ]
  },
  {
   "cell_type": "code",
   "execution_count": 75,
   "id": "01a935bc",
   "metadata": {},
   "outputs": [
    {
     "data": {
      "image/png": "[encoded data removed]",
      "text/plain": [
       "<Figure size 432x288 with 1 Axes>"
      ]
     },
     "metadata": {
      "needs_background": "light"
     },
     "output_type": "display_data"
    }
   ],
   "source": [
    "# We will use plot() again, and change the desired parameters\n",
    "who_data.plot(kind = 'scatter', x = 'Adult literacy rate (%)', y = 'Adolescent fertility rate (%)')\n",
    "plt.show()"
   ]
  },
  {
   "cell_type": "markdown",
   "id": "28ffd49e",
   "metadata": {},
   "source": [
    "### Density"
   ]
  },
  {
   "cell_type": "code",
   "execution_count": 82,
   "id": "4a32705d",
   "metadata": {},
   "outputs": [
    {
     "data": {
      "text/plain": [
       "<AxesSubplot:ylabel='Density'>"
      ]
     },
     "execution_count": 82,
     "metadata": {},
     "output_type": "execute_result"
    },
    {
     "data": {
      "image/png": "[encoded data removed]",
      "text/plain": [
       "<Figure size 432x288 with 1 Axes>"
      ]
     },
     "metadata": {
      "needs_background": "light"
     },
     "output_type": "display_data"
    }
   ],
   "source": [
    "# Let's change kind to make a density plot.\n",
    "\n",
    "who_data.plot(kind = 'density', y = 'Adolescent fertility rate (%)')\n",
    "plt.show()"
   ]
  },
  {
   "cell_type": "code",
   "execution_count": 84,
   "id": "2337f7ba",
   "metadata": {},
   "outputs": [
    {
     "data": {
      "text/plain": [
       "46.0"
      ]
     },
     "execution_count": 84,
     "metadata": {},
     "output_type": "execute_result"
    }
   ],
   "source": [
    "# We can verify that the mean of the Adolescent fertility rate (%) is near 50 by using what we learned before.\n",
    "who_data['Adolescent fertility rate (%)'].median()"
   ]
  },
  {
   "cell_type": "markdown",
   "id": "5cfa2c7c",
   "metadata": {},
   "source": [
    "###  Box plot"
   ]
  },
  {
   "cell_type": "code",
   "execution_count": 90,
   "id": "a91567b2",
   "metadata": {},
   "outputs": [
    {
     "data": {
      "text/plain": [
       "<AxesSubplot:>"
      ]
     },
     "execution_count": 90,
     "metadata": {},
     "output_type": "execute_result"
    },
    {
     "data": {
      "image/png": "[encoded data removed]",
      "text/plain": [
       "<Figure size 432x288 with 1 Axes>"
      ]
     },
     "metadata": {
      "needs_background": "light"
     },
     "output_type": "display_data"
    }
   ],
   "source": [
    "# Let's change kind to make a box plot.\n",
    "who_data.plot(kind = 'box', y = 'Adolescent fertility rate (%)')"
   ]
  },
  {
   "cell_type": "code",
   "execution_count": 92,
   "id": "c4914ddf",
   "metadata": {},
   "outputs": [
    {
     "data": {
      "text/plain": [
       "count    177.000000\n",
       "mean      59.457627\n",
       "std       49.105286\n",
       "min        0.000000\n",
       "25%       19.000000\n",
       "50%       46.000000\n",
       "75%       91.000000\n",
       "max      199.000000\n",
       "Name: Adolescent fertility rate (%), dtype: float64"
      ]
     },
     "execution_count": 92,
     "metadata": {},
     "output_type": "execute_result"
    }
   ],
   "source": [
    "# We can verify our graph by using describe(). Does the plot make sense?\n",
    "who_data['Adolescent fertility rate (%)'].describe()"
   ]
  },
  {
   "cell_type": "markdown",
   "id": "f2ebb945",
   "metadata": {},
   "source": [
    "### Histogram"
   ]
  },
  {
   "cell_type": "code",
   "execution_count": 99,
   "id": "e5c75f8a",
   "metadata": {},
   "outputs": [
    {
     "data": {
      "text/plain": [
       "<AxesSubplot:ylabel='Frequency'>"
      ]
     },
     "execution_count": 99,
     "metadata": {},
     "output_type": "execute_result"
    },
    {
     "data": {
      "image/png": "[encoded data removed]",
      "text/plain": [
       "<Figure size 432x288 with 1 Axes>"
      ]
     },
     "metadata": {
      "needs_background": "light"
     },
     "output_type": "display_data"
    }
   ],
   "source": [
    "# For histograms, we can specify a column right after the dataframe by doing dataframe[columnName]\n",
    "\n",
    "# Note that pandas will do automatically choose our bins if not specified.\n",
    "who_data['Adolescent fertility rate (%)'].plot(kind = 'hist')\n",
    "plt.show()"
   ]
  },
  {
   "cell_type": "code",
   "execution_count": 100,
   "id": "683204ce",
   "metadata": {
    "scrolled": true
   },
   "outputs": [
    {
     "data": {
      "text/plain": [
       "<AxesSubplot:ylabel='Frequency'>"
      ]
     },
     "execution_count": 100,
     "metadata": {},
     "output_type": "execute_result"
    },
    {
     "data": {
      "image/png": "[encoded data removed]",
      "text/plain": [
       "<Figure size 432x288 with 1 Axes>"
      ]
     },
     "metadata": {
      "needs_background": "light"
     },
     "output_type": "display_data"
    }
   ],
   "source": [
    "# Let's change the number of bins by adding the bins parameter\n",
    "who_data['Adolescent fertility rate (%)'].plot(kind = 'hist', bins = [0, 50, 100, 150, 200])\n",
    "plt.show()"
   ]
  },
  {
   "cell_type": "markdown",
   "id": "a657929c",
   "metadata": {},
   "source": [
    "## Seaborn\n",
    "The Seaborn library can help us to make more advanced statistical plots. Seaborn is an open source Python library and uses Matplotlib as a baselibrary to produce interactive and attractive data visualizations."
   ]
  },
  {
   "cell_type": "markdown",
   "id": "5d660158",
   "metadata": {},
   "source": [
    "### Density plots\n",
    "To plot a univariate distribution of variables, we can make distribution (or density) plots with Seaborn. These figures combine a histogram with a default bin size and a Kernel Density Estimation (KDE) plot. Using a dataset of HR Analytics made available in the code repository for Python Data Analysis - Third Edition, published by Packt let's try to make a distribution plot! The quantitative variable we will investigate is satisfaction_level, which is the employee's satisfaction level in a company."
   ]
  },
  {
   "cell_type": "code",
   "execution_count": 46,
   "id": "16eabc26",
   "metadata": {},
   "outputs": [
    {
     "name": "stderr",
     "output_type": "stream",
     "text": [
      "/Users/angelicasang/opt/anaconda3/lib/python3.9/site-packages/seaborn/distributions.py:2619: FutureWarning: `distplot` is a deprecated function and will be removed in a future version. Please adapt your code to use either `displot` (a figure-level function with similar flexibility) or `histplot` (an axes-level function for histograms).\n",
      "  warnings.warn(msg, FutureWarning)\n"
     ]
    },
    {
     "data": {
      "image/png": "[encoded data removed]",
      "text/plain": [
       "<Figure size 432x288 with 1 Axes>"
      ]
     },
     "metadata": {
      "needs_background": "light"
     },
     "output_type": "display_data"
    }
   ],
   "source": [
    "# Add libraries\n",
    "import pandas as pd\n",
    "import seaborn as sns\n",
    "import matplotlib.pyplot as plt\n",
    "\n",
    "# Create DataFrame using pandas\n",
    "df = pd.read_csv(\"HR_comma_sep.csv\")\n",
    "\n",
    "# Create a distribution plot\n",
    "sns.distplot(df.satisfaction_level)\n",
    "\n",
    "# Display the plot\n",
    "plt.show()\n",
    "\n",
    "# NOTE: A warning will appear because the function `distplot` will be removed in the future from seaborn.\n",
    "# Try on your own to see what happens when we change `distplot` to `histplot` or to `displot`."
   ]
  },
  {
   "cell_type": "markdown",
   "id": "0373ee41",
   "metadata": {},
   "source": [
    "# Summary\n",
    "\n",
    "In this section, you have learned how to calculate some basic summary statistics, as well as how to create common plots. They will serve you well as you explore data with Jupyter. To recap, here are the concepts that we covered:\n",
    "\n",
    "Summary statistics:\n",
    "- Mean\n",
    "- Median\n",
    "- Mode\n",
    "- Max, Min, and Range\n",
    "- IQR\n",
    "- Variance\n",
    "- Standard deviation\n",
    "- Correlation coefficient\n",
    "\n",
    "Plots:\n",
    "- Line\n",
    "- Scatter\n",
    "- Pie\n",
    "- Bar\n",
    "- Histogram\n",
    "- Density\n",
    "- Box\n",
    "- Distribution\n",
    "- Linear model"
   ]
  },
  {
   "cell_type": "markdown",
   "id": "f850283f",
   "metadata": {},
   "source": [
    "# Tips\n",
    "\n",
    "As you practice the skills learned in this section, please keep in mind the following suggestions:\n",
    "+ Summary functions, by default, will take the whole data frame and calculate by column.\n",
    "+ Always remember to load the necessary libraries.\n",
    "+ Name your variables, dataframes, and labels helpful and informative titles.\n",
    "+ If you get stuck, use the help documentation that you learned in our previous lecture to help you troubleshoot!\n",
    "+ If you want extra material on univariate exploratory data analysis, check out the extra material posted on our repo!"
   ]
  },
  {
   "cell_type": "markdown",
   "id": "ac666967",
   "metadata": {},
   "source": [
    "# References\n",
    "Main resources that we used to build this material:\n",
    "\n",
    "1. Navlani, Avinash, Armando Fandango, and Ivan Idris. 2021. Python Data Analysis. Third Edition. Birmingham: Packt Publishing.\n",
    "\n",
    "2. Python Data Analysis - Third Edition. (2019). Jupyter Notebook. Packt. https://github.com/PacktPublishing/Python-Data-Analysis-Third-Edition/blob/e1cd8029a1830fe5ecc86379ab361d215e71f036/Chapter05/HR_comma_sep.csv. Accessed July 7, 2022.\n",
    "\n",
    "3. Numpy documentation: https://numpy.org/doc/\n",
    "\n",
    "4. Pandas documentation: https://pandas.pydata.org/docs/\n",
    "\n",
    "5. Statistics documentation: https://docs.python.org/3/library/statistics.html\n",
    "\n",
    "Although the documentations are often very comprehensive, they are also quite difficult to navigate and find what you need. These websites are simpler, more user-friendly alternatives:\n",
    "\n",
    "6. GeeksforGeeks: https://www.geeksforgeeks.org/python-programming-language/\n",
    "\n",
    "7. W3schools: https://www.w3schools.com/python/"
   ]
  },
  {
   "cell_type": "code",
   "execution_count": null,
   "id": "67bb865a",
   "metadata": {},
   "outputs": [],
   "source": []
  }
 ],
 "metadata": {
  "kernelspec": {
   "display_name": "Python 3 (ipykernel)",
   "language": "python",
   "name": "python3"
  },
  "language_info": {
   "codemirror_mode": {
    "name": "ipython",
    "version": 3
   },
   "file_extension": ".py",
   "mimetype": "text/x-python",
   "name": "python",
   "nbconvert_exporter": "python",
   "pygments_lexer": "ipython3",
   "version": "3.9.12"
  }
 },
 "nbformat": 4,
 "nbformat_minor": 5
}
