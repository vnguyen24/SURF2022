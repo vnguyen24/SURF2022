{
 "cells": [
  {
   "cell_type": "markdown",
   "id": "b0223080",
   "metadata": {},
   "source": [
    "# Exploratory Data Analysis in Python\n",
    "\n",
    "## Lesson Overview\n",
    "Welcome to lesson two! Today,  we will dive into creating, describing, and visualizing dataframes by using Pandas, a Python library.  Then, we will explore two other libraries, Matplotlib and Seaborn to continue plotting our data.\n",
    "\n",
    "### Objectives:"
   ]
  },
  {
   "cell_type": "markdown",
   "id": "bb1bd81c",
   "metadata": {},
   "source": [
    "# Univariate Data Exploration\n",
    "\n",
    "Although there are multiple ways to calculate these statistics, we will specifically use pandas for the following reasons:\n",
    "1. Pandas by itself can calculate all the statistics in a univariate data exploration process. For other packages, we would have to mix and match\n",
    "2. Pandas is data-centric, taking dataframes as inputs. In other words, pandas treats a dataframe as the main object. This is very similar to R!"
   ]
  },
  {
   "cell_type": "markdown",
   "id": "a65fd759",
   "metadata": {},
   "source": [
    "## Mean"
   ]
  },
  {
   "cell_type": "code",
   "execution_count": 1,
   "id": "96fca7fd",
   "metadata": {},
   "outputs": [
    {
     "data": {
      "text/html": [
       "<div>\n",
       "<style scoped>\n",
       "    .dataframe tbody tr th:only-of-type {\n",
       "        vertical-align: middle;\n",
       "    }\n",
       "\n",
       "    .dataframe tbody tr th {\n",
       "        vertical-align: top;\n",
       "    }\n",
       "\n",
       "    .dataframe thead th {\n",
       "        text-align: right;\n",
       "    }\n",
       "</style>\n",
       "<table border=\"1\" class=\"dataframe\">\n",
       "  <thead>\n",
       "    <tr style=\"text-align: right;\">\n",
       "      <th></th>\n",
       "      <th>name</th>\n",
       "      <th>gender</th>\n",
       "      <th>age</th>\n",
       "      <th>gpa</th>\n",
       "    </tr>\n",
       "  </thead>\n",
       "  <tbody>\n",
       "    <tr>\n",
       "      <th>0</th>\n",
       "      <td>A</td>\n",
       "      <td>M</td>\n",
       "      <td>18</td>\n",
       "      <td>3.9</td>\n",
       "    </tr>\n",
       "    <tr>\n",
       "      <th>1</th>\n",
       "      <td>B</td>\n",
       "      <td>F</td>\n",
       "      <td>20</td>\n",
       "      <td>3.7</td>\n",
       "    </tr>\n",
       "    <tr>\n",
       "      <th>2</th>\n",
       "      <td>C</td>\n",
       "      <td>F</td>\n",
       "      <td>19</td>\n",
       "      <td>3.0</td>\n",
       "    </tr>\n",
       "    <tr>\n",
       "      <th>3</th>\n",
       "      <td>D</td>\n",
       "      <td>M</td>\n",
       "      <td>22</td>\n",
       "      <td>4.0</td>\n",
       "    </tr>\n",
       "    <tr>\n",
       "      <th>4</th>\n",
       "      <td>E</td>\n",
       "      <td>F</td>\n",
       "      <td>17</td>\n",
       "      <td>3.3</td>\n",
       "    </tr>\n",
       "    <tr>\n",
       "      <th>5</th>\n",
       "      <td>G</td>\n",
       "      <td>F</td>\n",
       "      <td>19</td>\n",
       "      <td>3.7</td>\n",
       "    </tr>\n",
       "  </tbody>\n",
       "</table>\n",
       "</div>"
      ],
      "text/plain": [
       "  name gender  age  gpa\n",
       "0    A      M   18  3.9\n",
       "1    B      F   20  3.7\n",
       "2    C      F   19  3.0\n",
       "3    D      M   22  4.0\n",
       "4    E      F   17  3.3\n",
       "5    G      F   19  3.7"
      ]
     },
     "execution_count": 1,
     "metadata": {},
     "output_type": "execute_result"
    }
   ],
   "source": [
    "# Example of calculating mean\n",
    "\n",
    "# Import pandas library\n",
    "# Note that you can name the library however you want. \"pd\" is just a convention that we follow\n",
    "import pandas as pd\n",
    "\n",
    "# Create dataframe\n",
    "raw_data = {\"name\" : [\"A\", \"B\", \"C\", \"D\", \"E\", \"G\"],\n",
    "       \"gender\": [\"M\",\"F\", \"F\", \"M\", \"F\", \"F\"],\n",
    "       \"age\": [18, 20, 19, 22, 17, 19],\n",
    "       \"gpa\": [3.9, 3.7, 3.0, 4.0, 3.3, 3.7]}\n",
    "\n",
    "# To officially make it a pandas dataframe, we need this code\n",
    "data = pd.DataFrame(raw_data, columns = [\"name\", \"gender\", \"age\", \"gpa\"])\n",
    "\n",
    "# Look at the data\n",
    "data\n"
   ]
  },
  {
   "cell_type": "code",
   "execution_count": 4,
   "id": "94d06325",
   "metadata": {
    "scrolled": true
   },
   "outputs": [
    {
     "name": "stdout",
     "output_type": "stream",
     "text": [
      "age    19.166667\n",
      "gpa     3.600000\n",
      "dtype: float64\n",
      "\n",
      "19.166666666666668\n",
      "\n",
      "age    19.166667\n",
      "gpa     3.600000\n",
      "dtype: float64\n"
     ]
    },
    {
     "name": "stderr",
     "output_type": "stream",
     "text": [
      "C:\\Users\\nguye\\AppData\\Local\\Temp\\ipykernel_9784\\3183473721.py:2: FutureWarning: Dropping of nuisance columns in DataFrame reductions (with 'numeric_only=None') is deprecated; in a future version this will raise TypeError.  Select only valid columns before calling the reduction.\n",
      "  mean_all = data.mean(axis = 0)\n"
     ]
    }
   ],
   "source": [
    "# Calculate mean across dataframe. axis = 0 is by column, axis = 1 is by row\n",
    "mean_all = data.mean(axis = 0)\n",
    "print(mean_all)\n",
    "print()\n",
    "\n",
    "# If you only need mean of one column, you can specify the column to calculate. Default setting is by column\n",
    "mean_age = data[\"age\"].mean()\n",
    "print(mean_age)\n",
    "print()\n",
    "\n",
    "# To remove the warning message:\n",
    "mean_all = data.mean(axis = 0, numeric_only = True)\n",
    "print(mean_all)"
   ]
  },
  {
   "cell_type": "markdown",
   "id": "d2ea02c4",
   "metadata": {},
   "source": [
    "### Warning message explained:\n",
    "\n",
    "We were asking Jupyter to calculate the mean of name and gender, which are categorical variables. Therefore, it raises a warning and skips through those 2 columns. To fix this, we simple tell the function mean() to only choose numeric columns in the first place."
   ]
  },
  {
   "cell_type": "markdown",
   "id": "fe92471e",
   "metadata": {},
   "source": [
    "## Median\n",
    "\n",
    "We will use the same dataframe for consistency"
   ]
  },
  {
   "cell_type": "code",
   "execution_count": 6,
   "id": "31651873",
   "metadata": {},
   "outputs": [
    {
     "name": "stdout",
     "output_type": "stream",
     "text": [
      "age    19.0\n",
      "gpa     3.7\n",
      "dtype: float64\n",
      "\n",
      "3.7\n"
     ]
    }
   ],
   "source": [
    "# Calculate median across dataframe\n",
    "median_all = data.median(axis = 0, numeric_only = True)\n",
    "print(median_all)\n",
    "print()\n",
    "\n",
    "# Calculate median of a single column\n",
    "median_gpa = data[\"gpa\"].median(axis = 0)\n",
    "print(median_gpa)"
   ]
  },
  {
   "cell_type": "markdown",
   "id": "c1484b14",
   "metadata": {},
   "source": [
    "## Mode\n",
    "We will use the same dataframe for consistency"
   ]
  },
  {
   "cell_type": "code",
   "execution_count": 25,
   "id": "ed833fa3",
   "metadata": {},
   "outputs": [
    {
     "name": "stdout",
     "output_type": "stream",
     "text": [
      "  name gender   age  gpa\n",
      "0    A      F  19.0  3.7\n",
      "1    B    NaN   NaN  NaN\n",
      "2    C    NaN   NaN  NaN\n",
      "3    D    NaN   NaN  NaN\n",
      "4    E    NaN   NaN  NaN\n",
      "5    G    NaN   NaN  NaN\n",
      "\n",
      "0    F\n",
      "Name: gender, dtype: object\n"
     ]
    }
   ],
   "source": [
    "# Calculate mode across dataframe --> Notice that it will list out of values with the same mode\n",
    "mode_all = data.mode()\n",
    "print(mode_all)\n",
    "print()\n",
    "\n",
    "# Calculate mode of a single column\n",
    "mode_gender = data[\"gender\"].mode()\n",
    "print(mode_gender)"
   ]
  },
  {
   "cell_type": "markdown",
   "id": "1c583522",
   "metadata": {},
   "source": [
    "## Max, Min, and Range\n",
    "\n",
    "We will use the same dataframe for consistency"
   ]
  },
  {
   "cell_type": "code",
   "execution_count": 31,
   "id": "f59ce423",
   "metadata": {},
   "outputs": [
    {
     "name": "stdout",
     "output_type": "stream",
     "text": [
      "5\n"
     ]
    }
   ],
   "source": [
    "# Calculate the max/min age\n",
    "max_age = data[\"age\"].max()\n",
    "min_age = data[\"age\"].min()\n",
    "\n",
    "# Calculate the age range\n",
    "range = max_age - min_age\n",
    "print(range)"
   ]
  },
  {
   "cell_type": "markdown",
   "id": "ebb257fe",
   "metadata": {},
   "source": [
    "## IQR: Inter Quartile Range\n",
    "\n",
    "We will use the same dataframe for consistency.\n",
    "\n",
    "Note that pandas doesn't have a function that calculates directly the IQR. pandas, however, provides a workaround: Calculate Q1 and Q3, then find IQR by subtracting Q1 from Q3."
   ]
  },
  {
   "cell_type": "code",
   "execution_count": null,
   "id": "06fcfa5e",
   "metadata": {},
   "outputs": [],
   "source": [
    "# Calculate the quantiles of gpa\n",
    "q1 = data[\"gpa\"].quantile(0.25)\n",
    "q3 = data[\"gpa\"].quantile(0.75)\n",
    "\n",
    "# Calculate the IQR of gpa\n",
    "iqr = q3 - q1\n",
    "print(iqr)"
   ]
  },
  {
   "cell_type": "markdown",
   "id": "ff85b6a1",
   "metadata": {},
   "source": [
    "# Variance "
   ]
  },
  {
   "cell_type": "code",
   "execution_count": 3,
   "id": "fc116b88",
   "metadata": {},
   "outputs": [
    {
     "data": {
      "text/html": [
       "<div>\n",
       "<style scoped>\n",
       "    .dataframe tbody tr th:only-of-type {\n",
       "        vertical-align: middle;\n",
       "    }\n",
       "\n",
       "    .dataframe tbody tr th {\n",
       "        vertical-align: top;\n",
       "    }\n",
       "\n",
       "    .dataframe thead th {\n",
       "        text-align: right;\n",
       "    }\n",
       "</style>\n",
       "<table border=\"1\" class=\"dataframe\">\n",
       "  <thead>\n",
       "    <tr style=\"text-align: right;\">\n",
       "      <th></th>\n",
       "      <th>subject</th>\n",
       "      <th>grades</th>\n",
       "      <th>attendance (%)</th>\n",
       "      <th>participation (%)</th>\n",
       "      <th>semester</th>\n",
       "    </tr>\n",
       "  </thead>\n",
       "  <tbody>\n",
       "    <tr>\n",
       "      <th>0</th>\n",
       "      <td>Calculus</td>\n",
       "      <td>4.0</td>\n",
       "      <td>90</td>\n",
       "      <td>100</td>\n",
       "      <td>fall</td>\n",
       "    </tr>\n",
       "    <tr>\n",
       "      <th>1</th>\n",
       "      <td>Intro to music</td>\n",
       "      <td>3.3</td>\n",
       "      <td>60</td>\n",
       "      <td>20</td>\n",
       "      <td>spring</td>\n",
       "    </tr>\n",
       "    <tr>\n",
       "      <th>2</th>\n",
       "      <td>Psychology</td>\n",
       "      <td>3.9</td>\n",
       "      <td>78</td>\n",
       "      <td>80</td>\n",
       "      <td>spring</td>\n",
       "    </tr>\n",
       "    <tr>\n",
       "      <th>3</th>\n",
       "      <td>Sociology</td>\n",
       "      <td>4.0</td>\n",
       "      <td>100</td>\n",
       "      <td>92</td>\n",
       "      <td>fall</td>\n",
       "    </tr>\n",
       "  </tbody>\n",
       "</table>\n",
       "</div>"
      ],
      "text/plain": [
       "          subject  grades  attendance (%)  participation (%) semester\n",
       "0        Calculus     4.0              90                100     fall\n",
       "1  Intro to music     3.3              60                 20   spring\n",
       "2      Psychology     3.9              78                 80   spring\n",
       "3       Sociology     4.0             100                 92     fall"
      ]
     },
     "execution_count": 3,
     "metadata": {},
     "output_type": "execute_result"
    }
   ],
   "source": [
    "import pandas as pd\n",
    "\n",
    "# Create our raw data\n",
    "my_subjects_raw = { 'subject': ['Calculus', 'Intro to music', 'Psychology', 'Sociology'],\n",
    "    'grades': [4.0, 3.3, 3.9, 4.0],\n",
    "    'attendance (%)': [90, 60, 78, 100],\n",
    "    'participation (%)':[100, 20, 80, 92],\n",
    "    'semester': ['fall', 'spring', 'spring', 'fall']}\n",
    "\n",
    "# Transform our raw data to pandas dataframe\n",
    "my_subjects_pd = pd.DataFrame(my_subjects_raw, columns = ['subject', 'grades', 'attendance (%)', 'participation (%)',\n",
    "                                                         'semester'])\n",
    "# Display data\n",
    "my_subjects_pd"
   ]
  },
  {
   "cell_type": "code",
   "execution_count": 4,
   "id": "e19dc8eb",
   "metadata": {},
   "outputs": [
    {
     "name": "stdout",
     "output_type": "stream",
     "text": [
      "grades                  0.113333\n",
      "attendance (%)        296.000000\n",
      "participation (%)    1316.000000\n",
      "dtype: float64\n",
      "0.1133333333333334\n"
     ]
    },
    {
     "name": "stderr",
     "output_type": "stream",
     "text": [
      "/var/folders/rm/31m9_p91783drqpmmys24h9h0000gn/T/ipykernel_48307/1782831178.py:3: FutureWarning: Dropping of nuisance columns in DataFrame reductions (with 'numeric_only=None') is deprecated; in a future version this will raise TypeError.  Select only valid columns before calling the reduction.\n",
      "  print(my_subjects_pd.var())\n"
     ]
    }
   ],
   "source": [
    "# The function var() will display a table with all the variance values for every column. To see the variance values\n",
    "# of every quantitative value we can type dataframe.var()\n",
    "print(my_subjects_pd.var())\n",
    "\n",
    "# to print the variance of only one column, we can do dataframe['nameOfColum'].var()\n",
    "print(my_subjects_pd['grades'].var())"
   ]
  },
  {
   "cell_type": "code",
   "execution_count": 5,
   "id": "fe5dafe4",
   "metadata": {},
   "outputs": [
    {
     "name": "stdout",
     "output_type": "stream",
     "text": [
      "grades                  0.113333\n",
      "attendance (%)        296.000000\n",
      "participation (%)    1316.000000\n",
      "dtype: float64\n"
     ]
    }
   ],
   "source": [
    "# Note that when we execute my_subjects_pd.var(), without specifying a column, we will be prompted to a message.\n",
    "# This is happening because we have a qualitative variable in our dataframe, which won't be considered in the table.\n",
    "# To avoid this message, we can type numeric_only = True inside the parenthesis \n",
    "\n",
    "print(my_subjects_pd.var(numeric_only = True))"
   ]
  },
  {
   "cell_type": "markdown",
   "id": "929bd674",
   "metadata": {},
   "source": [
    "# Standard Deviation"
   ]
  },
  {
   "cell_type": "code",
   "execution_count": 45,
   "id": "2ec9ad6b",
   "metadata": {},
   "outputs": [
    {
     "data": {
      "text/plain": [
       "grades                0.336650\n",
       "attendance (%)       17.204651\n",
       "participation (%)    36.276714\n",
       "dtype: float64"
      ]
     },
     "execution_count": 45,
     "metadata": {},
     "output_type": "execute_result"
    }
   ],
   "source": [
    "# dataframe.std() will display a table with all the standard deviations (quantitative variable columns)\n",
    "\n",
    "my_subjects_pd.std(numeric_only = True)"
   ]
  },
  {
   "cell_type": "code",
   "execution_count": null,
   "id": "bb3f85e6",
   "metadata": {},
   "outputs": [],
   "source": [
    "# if we want to check only one column, we can follow the same pattern we've been using:\n",
    "# dataframe.['columnName'].std()\n",
    "\n",
    "my_subjects['grades'].std()"
   ]
  },
  {
   "cell_type": "markdown",
   "id": "697b1429",
   "metadata": {},
   "source": [
    "# Correlation Coefficient "
   ]
  },
  {
   "cell_type": "code",
   "execution_count": null,
   "id": "fe525d14",
   "metadata": {},
   "outputs": [],
   "source": [
    "sample_correlation = { 'subject id': ['0111', '9203', '2313', '4503'],\n",
    "    'concerts attended': [3, 2, 10, 4],\n",
    "    'shoe size': [7, 7, 7, 7.5]}\n",
    "\n",
    "# Transform our raw data to pandas dataframe\n",
    "sample_correlation_pd = pd.DataFrame(sample_correlation, columns = ['subject id', 'concerts attended', 'shoe size'])\n"
   ]
  },
  {
   "cell_type": "code",
   "execution_count": null,
   "id": "af50d18e",
   "metadata": {},
   "outputs": [],
   "source": [
    "# To calculate correlation we will make use of the corr() function. Again, we will follow the format dataframe.corr()\n",
    "\n",
    "# Meanings:\n",
    "# 1: Full correlation. If one variable increases, so does the other\n",
    "# 0: No correlation.\n",
    "# -1: Full negative correlation. If one variable increases, the other decreases.\n",
    "\n",
    "# Let's see the correlation between concerts attended and shoe size. Should we expect a value closer to -1, 0 or 1?\n",
    "\n",
    "sample_correlation_pd.corr()"
   ]
  },
  {
   "cell_type": "code",
   "execution_count": null,
   "id": "dc9a5b30",
   "metadata": {},
   "outputs": [],
   "source": [
    "sample_correlation = { 'subject id': ['0111', '9203', '2313', '4503'],\n",
    "    'class attendance (%)': [99, 65, 100, 45],\n",
    "    'GPA': [4.0, 3.2, 3.8, 2.9]}\n",
    "\n",
    "# Transform our raw data to pandas dataframe\n",
    "sample_correlation_pd = pd.DataFrame(sample_correlation, columns = ['subject id', 'class attendance (%)', 'GPA'])"
   ]
  },
  {
   "cell_type": "code",
   "execution_count": null,
   "id": "3ca02fc3",
   "metadata": {},
   "outputs": [],
   "source": [
    "sample_correlation_pd.corr()"
   ]
  },
  {
   "cell_type": "markdown",
   "id": "b88b2f34",
   "metadata": {},
   "source": [
    "# Range"
   ]
  },
  {
   "cell_type": "code",
   "execution_count": null,
   "id": "5b1de9e8",
   "metadata": {},
   "outputs": [],
   "source": [
    "# To calculate range we have to make use of the minimum and maximum methods.\n",
    "\n",
    "# Let's store my_subjects_pd max and min\n",
    "\n",
    "subjects_max = my_subjects_pd['grades'].max()\n",
    "subjects_min = my_subjects_pd['grades'].min()\n",
    "\n",
    "# Let's print both values to get a better sense of what we're doing. Note that we cannot simply add a STRING\n",
    "# and an INTEGER. Thus, we have to transform both integers to string format by making use of the function str()\n",
    "print(\"The maximum achieved grade was: \" + str(subjects_max))\n",
    "print(\"The minimum achieved grade was: \" + str(subjects_min))\n",
    "\n",
    "# Now, we're going to store the subtraction and print the final result \n",
    "range = subjects_max - subjects_min\n",
    "print(\"Thus, grades' range is: \" + str(range))"
   ]
  },
  {
   "cell_type": "markdown",
   "id": "9be43d33",
   "metadata": {},
   "source": [
    "# Describing dataframes"
   ]
  },
  {
   "cell_type": "code",
   "execution_count": null,
   "id": "b81dcf45",
   "metadata": {},
   "outputs": [],
   "source": [
    "# In order to get an idea of our data more quickly we can make use of three different methods.\n",
    "\n",
    "# To look at the first few rows of a data frame we can do dataframe.head() , similarly to take a look at the\n",
    "# last few rows we can type dataframe.tail() . This will come handy when we are dealing with big dataframes"
   ]
  },
  {
   "cell_type": "code",
   "execution_count": null,
   "id": "9a8079f6",
   "metadata": {},
   "outputs": [],
   "source": [
    "# We can also display a data summary by typing my_subjects_pd.describe()\n",
    "# This will show counts, mean, std, min, 25%, 50%, 75%, and max.\n",
    "\n",
    "my_subjects_pd.describe()"
   ]
  },
  {
   "cell_type": "code",
   "execution_count": null,
   "id": "76bc923c",
   "metadata": {},
   "outputs": [],
   "source": [
    "# Sometime, we will encounter missing data in our dataframes. To get a sense of how many values are missing we can\n",
    "# type dataframe.isnull().sum()\n",
    "\n",
    "my_subjects_pd.isnull().sum()"
   ]
  },
  {
   "cell_type": "code",
   "execution_count": null,
   "id": "2072aae3",
   "metadata": {},
   "outputs": [],
   "source": [
    "my_subjects_pd"
   ]
  },
  {
   "cell_type": "markdown",
   "id": "5fd7157a",
   "metadata": {},
   "source": [
    "# Pandas plotting\n",
    "\n",
    "We can directly plot pandas data frames by using the plot( ) method. Inside the parenthesis we can include a wide variety of parameters, but we will be mainly using the following:\n",
    "\n",
    "* **kind** : (String) Used to indicate the type of graph. Line, hist, box, density, scatter, etc.\n",
    "* **x** : (String)/ Name of the column to be used.\n",
    "* **y** : (String) Name of the coumn to be used.\n",
    "* **figsize** = (Tuple) Used to indicate the size (width, height).\n",
    "* **title** = (String) Defines the graph's title.\n",
    "* **color** = (String) Indicates the graph's color.\n",
    "* **xlabel** = (String) Indicates the x axis' title.\n",
    "* **ylabel** = (String) Indicates the y axis' title.\n"
   ]
  },
  {
   "cell_type": "code",
   "execution_count": 79,
   "id": "3b8304f9",
   "metadata": {},
   "outputs": [
    {
     "data": {
      "text/html": [
       "<div>\n",
       "<style scoped>\n",
       "    .dataframe tbody tr th:only-of-type {\n",
       "        vertical-align: middle;\n",
       "    }\n",
       "\n",
       "    .dataframe tbody tr th {\n",
       "        vertical-align: top;\n",
       "    }\n",
       "\n",
       "    .dataframe thead th {\n",
       "        text-align: right;\n",
       "    }\n",
       "</style>\n",
       "<table border=\"1\" class=\"dataframe\">\n",
       "  <thead>\n",
       "    <tr style=\"text-align: right;\">\n",
       "      <th></th>\n",
       "      <th>month</th>\n",
       "      <th>temperature (celsius)</th>\n",
       "      <th>rain probability (%)</th>\n",
       "    </tr>\n",
       "  </thead>\n",
       "  <tbody>\n",
       "    <tr>\n",
       "      <th>0</th>\n",
       "      <td>jun</td>\n",
       "      <td>29</td>\n",
       "      <td>31</td>\n",
       "    </tr>\n",
       "    <tr>\n",
       "      <th>1</th>\n",
       "      <td>jul</td>\n",
       "      <td>30</td>\n",
       "      <td>40</td>\n",
       "    </tr>\n",
       "    <tr>\n",
       "      <th>2</th>\n",
       "      <td>aug</td>\n",
       "      <td>27</td>\n",
       "      <td>33</td>\n",
       "    </tr>\n",
       "    <tr>\n",
       "      <th>3</th>\n",
       "      <td>sept</td>\n",
       "      <td>26</td>\n",
       "      <td>15</td>\n",
       "    </tr>\n",
       "    <tr>\n",
       "      <th>4</th>\n",
       "      <td>oct</td>\n",
       "      <td>22</td>\n",
       "      <td>19</td>\n",
       "    </tr>\n",
       "  </tbody>\n",
       "</table>\n",
       "</div>"
      ],
      "text/plain": [
       "  month  temperature (celsius)  rain probability (%)\n",
       "0   jun                     29                    31\n",
       "1   jul                     30                    40\n",
       "2   aug                     27                    33\n",
       "3  sept                     26                    15\n",
       "4   oct                     22                    19"
      ]
     },
     "execution_count": 79,
     "metadata": {},
     "output_type": "execute_result"
    }
   ],
   "source": [
    "# Let's create a new dataframe\n",
    "\n",
    "sample_monthly_stats = { 'month': ['jun', 'jul', 'aug', 'sept', 'oct'],\n",
    "    'temperature (celsius)': [29, 30, 27, 26, 22],\n",
    "    'rain probability (%)': [31, 40, 33, 15, 19]}\n",
    "\n",
    "sample_monthly_stats_pd = pd.DataFrame(sample_monthly_stats, columns = ['month', 'temperature (celsius)', 'rain probability (%)'])\n",
    "\n",
    "sample_monthly_stats_pd"
   ]
  },
  {
   "cell_type": "markdown",
   "id": "c01d6ace",
   "metadata": {},
   "source": [
    "### Line plot"
   ]
  },
  {
   "cell_type": "code",
   "execution_count": 81,
   "id": "d7afb450",
   "metadata": {},
   "outputs": [
    {
     "data": {
      "image/png": "[encoded data removed]",
      "text/plain": [
       "<Figure size 432x288 with 1 Axes>"
      ]
     },
     "metadata": {
      "needs_background": "light"
     },
     "output_type": "display_data"
    }
   ],
   "source": [
    "import matplotlib.pyplot as plt\n",
    "\n",
    "# Let's add our parameters inside plot(). Note that the order does not matter.\n",
    "sample_monthly_stats_pd.plot(title = 'Average temperature per month', kind = 'line', x = 'month',\n",
    "                             y = 'temperature (celsius)', color = 'green', xlabel = 'Month',\n",
    "                             ylabel = 'Temperature (Celsius)')\n",
    "\n",
    "# As a good practice, we will continue making use of matplotlib.pyplot's function show() to display our graph.\n",
    "# However, due to Jupyter being interactive, just by making use of plot() we will be able to see our graph. \n",
    "\n",
    "plt.show()\n"
   ]
  },
  {
   "cell_type": "markdown",
   "id": "f72424e8",
   "metadata": {},
   "source": [
    "### Scatter Plot"
   ]
  },
  {
   "cell_type": "code",
   "execution_count": 57,
   "id": "f873bcd2",
   "metadata": {},
   "outputs": [
    {
     "data": {
      "text/html": [
       "<div>\n",
       "<style scoped>\n",
       "    .dataframe tbody tr th:only-of-type {\n",
       "        vertical-align: middle;\n",
       "    }\n",
       "\n",
       "    .dataframe tbody tr th {\n",
       "        vertical-align: top;\n",
       "    }\n",
       "\n",
       "    .dataframe thead th {\n",
       "        text-align: right;\n",
       "    }\n",
       "</style>\n",
       "<table border=\"1\" class=\"dataframe\">\n",
       "  <thead>\n",
       "    <tr style=\"text-align: right;\">\n",
       "      <th></th>\n",
       "      <th>Country</th>\n",
       "      <th>CountryID</th>\n",
       "      <th>Continent</th>\n",
       "      <th>Adolescent fertility rate (%)</th>\n",
       "      <th>Adult literacy rate (%)</th>\n",
       "      <th>Gross national income per capita (PPP international $)</th>\n",
       "      <th>Net primary school enrolment ratio female (%)</th>\n",
       "      <th>Net primary school enrolment ratio male (%)</th>\n",
       "      <th>Population (in thousands) total</th>\n",
       "    </tr>\n",
       "  </thead>\n",
       "  <tbody>\n",
       "    <tr>\n",
       "      <th>0</th>\n",
       "      <td>Afghanistan</td>\n",
       "      <td>1</td>\n",
       "      <td>1</td>\n",
       "      <td>151.0</td>\n",
       "      <td>28.0</td>\n",
       "      <td>NaN</td>\n",
       "      <td>NaN</td>\n",
       "      <td>NaN</td>\n",
       "      <td>26088.0</td>\n",
       "    </tr>\n",
       "    <tr>\n",
       "      <th>1</th>\n",
       "      <td>Albania</td>\n",
       "      <td>2</td>\n",
       "      <td>2</td>\n",
       "      <td>27.0</td>\n",
       "      <td>98.7</td>\n",
       "      <td>6000.0</td>\n",
       "      <td>93.0</td>\n",
       "      <td>94.0</td>\n",
       "      <td>3172.0</td>\n",
       "    </tr>\n",
       "    <tr>\n",
       "      <th>2</th>\n",
       "      <td>Algeria</td>\n",
       "      <td>3</td>\n",
       "      <td>3</td>\n",
       "      <td>6.0</td>\n",
       "      <td>69.9</td>\n",
       "      <td>5940.0</td>\n",
       "      <td>94.0</td>\n",
       "      <td>96.0</td>\n",
       "      <td>33351.0</td>\n",
       "    </tr>\n",
       "    <tr>\n",
       "      <th>3</th>\n",
       "      <td>Andorra</td>\n",
       "      <td>4</td>\n",
       "      <td>2</td>\n",
       "      <td>NaN</td>\n",
       "      <td>NaN</td>\n",
       "      <td>NaN</td>\n",
       "      <td>83.0</td>\n",
       "      <td>83.0</td>\n",
       "      <td>74.0</td>\n",
       "    </tr>\n",
       "    <tr>\n",
       "      <th>4</th>\n",
       "      <td>Angola</td>\n",
       "      <td>5</td>\n",
       "      <td>3</td>\n",
       "      <td>146.0</td>\n",
       "      <td>67.4</td>\n",
       "      <td>3890.0</td>\n",
       "      <td>49.0</td>\n",
       "      <td>51.0</td>\n",
       "      <td>16557.0</td>\n",
       "    </tr>\n",
       "  </tbody>\n",
       "</table>\n",
       "</div>"
      ],
      "text/plain": [
       "       Country  CountryID  Continent  Adolescent fertility rate (%)  \\\n",
       "0  Afghanistan          1          1                          151.0   \n",
       "1      Albania          2          2                           27.0   \n",
       "2      Algeria          3          3                            6.0   \n",
       "3      Andorra          4          2                            NaN   \n",
       "4       Angola          5          3                          146.0   \n",
       "\n",
       "   Adult literacy rate (%)  \\\n",
       "0                     28.0   \n",
       "1                     98.7   \n",
       "2                     69.9   \n",
       "3                      NaN   \n",
       "4                     67.4   \n",
       "\n",
       "   Gross national income per capita (PPP international $)  \\\n",
       "0                                                NaN        \n",
       "1                                             6000.0        \n",
       "2                                             5940.0        \n",
       "3                                                NaN        \n",
       "4                                             3890.0        \n",
       "\n",
       "   Net primary school enrolment ratio female (%)  \\\n",
       "0                                            NaN   \n",
       "1                                           93.0   \n",
       "2                                           94.0   \n",
       "3                                           83.0   \n",
       "4                                           49.0   \n",
       "\n",
       "   Net primary school enrolment ratio male (%)  \\\n",
       "0                                          NaN   \n",
       "1                                         94.0   \n",
       "2                                         96.0   \n",
       "3                                         83.0   \n",
       "4                                         51.0   \n",
       "\n",
       "   Population (in thousands) total  \n",
       "0                          26088.0  \n",
       "1                           3172.0  \n",
       "2                          33351.0  \n",
       "3                             74.0  \n",
       "4                          16557.0  "
      ]
     },
     "execution_count": 57,
     "metadata": {},
     "output_type": "execute_result"
    }
   ],
   "source": [
    "# Let's import a csv file to continue doing some plotting. To do so, we are going to use pandas' function read_csv().\n",
    "import pandas as pd \n",
    "who_data = pd.read_csv(\"WHO_first9cols.csv\")\n",
    "\n",
    "# We can look at the first 5 rows by using head()\n",
    "who_data.head()"
   ]
  },
  {
   "cell_type": "code",
   "execution_count": 75,
   "id": "01a935bc",
   "metadata": {},
   "outputs": [
    {
     "data": {
      "image/png": "[encoded data removed]",
      "text/plain": [
       "<Figure size 432x288 with 1 Axes>"
      ]
     },
     "metadata": {
      "needs_background": "light"
     },
     "output_type": "display_data"
    }
   ],
   "source": [
    "# We will use plot() again, and change the desired parameters\n",
    "who_data.plot(kind = 'scatter', x = 'Adult literacy rate (%)', y = 'Adolescent fertility rate (%)')\n",
    "plt.show()"
   ]
  },
  {
   "cell_type": "markdown",
   "id": "28ffd49e",
   "metadata": {},
   "source": [
    "### Density"
   ]
  },
  {
   "cell_type": "code",
   "execution_count": 82,
   "id": "4a32705d",
   "metadata": {},
   "outputs": [
    {
     "data": {
      "text/plain": [
       "<AxesSubplot:ylabel='Density'>"
      ]
     },
     "execution_count": 82,
     "metadata": {},
     "output_type": "execute_result"
    },
    {
     "data": {
      "image/png": "[encoded data removed]",
      "text/plain": [
       "<Figure size 432x288 with 1 Axes>"
      ]
     },
     "metadata": {
      "needs_background": "light"
     },
     "output_type": "display_data"
    }
   ],
   "source": [
    "# Let's change kind to make a density plot.\n",
    "\n",
    "who_data.plot(kind = 'density', y = 'Adolescent fertility rate (%)')\n",
    "plt.show()"
   ]
  },
  {
   "cell_type": "code",
   "execution_count": 84,
   "id": "2337f7ba",
   "metadata": {},
   "outputs": [
    {
     "data": {
      "text/plain": [
       "46.0"
      ]
     },
     "execution_count": 84,
     "metadata": {},
     "output_type": "execute_result"
    }
   ],
   "source": [
    "# We can verify that the mean of the Adolescent fertility rate (%) is near 50 by using what we learned before.\n",
    "who_data['Adolescent fertility rate (%)'].median()"
   ]
  },
  {
   "cell_type": "markdown",
   "id": "5cfa2c7c",
   "metadata": {},
   "source": [
    "###  Box plot"
   ]
  },
  {
   "cell_type": "code",
   "execution_count": 90,
   "id": "a91567b2",
   "metadata": {},
   "outputs": [
    {
     "data": {
      "text/plain": [
       "<AxesSubplot:>"
      ]
     },
     "execution_count": 90,
     "metadata": {},
     "output_type": "execute_result"
    },
    {
     "data": {
      "image/png": "[encoded data removed]",
      "text/plain": [
       "<Figure size 432x288 with 1 Axes>"
      ]
     },
     "metadata": {
      "needs_background": "light"
     },
     "output_type": "display_data"
    }
   ],
   "source": [
    "# Let's change kind to make a box plot.\n",
    "who_data.plot(kind = 'box', y = 'Adolescent fertility rate (%)')"
   ]
  },
  {
   "cell_type": "code",
   "execution_count": 92,
   "id": "c4914ddf",
   "metadata": {},
   "outputs": [
    {
     "data": {
      "text/plain": [
       "count    177.000000\n",
       "mean      59.457627\n",
       "std       49.105286\n",
       "min        0.000000\n",
       "25%       19.000000\n",
       "50%       46.000000\n",
       "75%       91.000000\n",
       "max      199.000000\n",
       "Name: Adolescent fertility rate (%), dtype: float64"
      ]
     },
     "execution_count": 92,
     "metadata": {},
     "output_type": "execute_result"
    }
   ],
   "source": [
    "# We can verify our graph by using describe(). Does the plot make sense?\n",
    "who_data['Adolescent fertility rate (%)'].describe()"
   ]
  },
  {
   "cell_type": "markdown",
   "id": "f2ebb945",
   "metadata": {},
   "source": [
    "### Histogram"
   ]
  },
  {
   "cell_type": "code",
   "execution_count": 99,
   "id": "e5c75f8a",
   "metadata": {},
   "outputs": [
    {
     "data": {
      "text/plain": [
       "<AxesSubplot:ylabel='Frequency'>"
      ]
     },
     "execution_count": 99,
     "metadata": {},
     "output_type": "execute_result"
    },
    {
     "data": {
      "image/png": "[encoded data removed]",
      "text/plain": [
       "<Figure size 432x288 with 1 Axes>"
      ]
     },
     "metadata": {
      "needs_background": "light"
     },
     "output_type": "display_data"
    }
   ],
   "source": [
    "# For histograms, we can specify a column right after the dataframe by doing dataframe[columnName]\n",
    "\n",
    "# Note that pandas will do automatically choose our bins if not specified.\n",
    "who_data['Adolescent fertility rate (%)'].plot(kind = 'hist')\n",
    "plt.show()"
   ]
  },
  {
   "cell_type": "code",
   "execution_count": 100,
   "id": "683204ce",
   "metadata": {},
   "outputs": [
    {
     "data": {
      "text/plain": [
       "<AxesSubplot:ylabel='Frequency'>"
      ]
     },
     "execution_count": 100,
     "metadata": {},
     "output_type": "execute_result"
    },
    {
     "data": {
      "image/png": "[encoded data removed]",
      "text/plain": [
       "<Figure size 432x288 with 1 Axes>"
      ]
     },
     "metadata": {
      "needs_background": "light"
     },
     "output_type": "display_data"
    }
   ],
   "source": [
    "# Let's change the number of bins by adding the bins parameter\n",
    "who_data['Adolescent fertility rate (%)'].plot(kind = 'hist', bins = [0, 50, 100, 150, 200])\n",
    "plt.show()"
   ]
  },
  {
   "cell_type": "code",
   "execution_count": null,
   "id": "0bb3ca1d",
   "metadata": {},
   "outputs": [],
   "source": []
  },
  {
   "cell_type": "code",
   "execution_count": null,
   "id": "b15d8002",
   "metadata": {},
   "outputs": [],
   "source": []
  },
  {
   "cell_type": "markdown",
   "id": "d8e4b58d",
   "metadata": {},
   "source": [
    "# Data Visualization\n",
    "Now that we have grasped how to summarize our data, let's try plotting it! In this section, we will introduce you to how to create graphs using the python libraries Matplotlib, pandas, and Seaborn. When building data visualizations, our first step is always to import the necessary libraries. Although you only need to load a library once per Jupyter notebook, throughout this handout we will always load libraries before every plot just so we can get into the practice of doing so. \n",
    "\n",
    "After loading our libraries, we will need to either gather our data or create our data. In this handout, we will teach how to import data from a .csv file and how to create lists of data for our plots. Finally, we will learn how and what functions to use to create our graph of choice, and how to label and color our plots."
   ]
  },
  {
   "cell_type": "markdown",
   "id": "994bcf13",
   "metadata": {},
   "source": [
    "## Matplotlib\n",
    "### Line Graph\n",
    "\n",
    "Let's begin by making a single line plot!"
   ]
  },
  {
   "cell_type": "code",
   "execution_count": 16,
   "id": "c7362cb2",
   "metadata": {},
   "outputs": [
    {
     "data": {
      "image/png": "[encoded data removed]",
      "text/plain": [
       "<Figure size 432x288 with 1 Axes>"
      ]
     },
     "metadata": {
      "needs_background": "light"
     },
     "output_type": "display_data"
    }
   ],
   "source": [
    "# Load libraries\n",
    "import matplotlib.pyplot as plt\n",
    "\n",
    "# Create data\n",
    "x = [1,3,5, 7, 9, 11]\n",
    "y = [10, 25, 35, 33, 38, 59]\n",
    "\n",
    "# Plot data\n",
    "plt.plot(x, y)\n",
    "\n",
    "# Display plot\n",
    "plt.show()"
   ]
  },
  {
   "cell_type": "markdown",
   "id": "ae7f2f81",
   "metadata": {},
   "source": [
    "Great job! Now let us continue to add more details to our graph. In the matplotlib module, we can add a title to our graph by writing plt.title() and add labels using plt.xlabel for the x-axis and plt.ylabel for the y-axis. Additionally, we can color our line by assigning color within our plt.plot() function."
   ]
  },
  {
   "cell_type": "code",
   "execution_count": 10,
   "id": "f6c15731",
   "metadata": {},
   "outputs": [
    {
     "data": {
      "image/png": "[encoded data removed]",
      "text/plain": [
       "<Figure size 432x288 with 1 Axes>"
      ]
     },
     "metadata": {
      "needs_background": "light"
     },
     "output_type": "display_data"
    }
   ],
   "source": [
    "# Load libraries\n",
    "import matplotlib.pyplot as plt\n",
    "\n",
    "# Create data\n",
    "x = [1,3,5, 7, 9, 11]\n",
    "y = [10, 25, 35, 33, 38, 59]\n",
    "\n",
    "# Plot data and add color\n",
    "plt.plot(x, y, color = 'blue')\n",
    "\n",
    "# Add label for the x-axis\n",
    "plt.xlabel(\"X-label\")\n",
    "\n",
    "# Add label for the y-axis\n",
    "plt.ylabel(\"Y-label\")\n",
    "\n",
    "# Add a title to the graph\n",
    "plt.title(\"Line Plot\")\n",
    "\n",
    "# Display plot\n",
    "plt.show()"
   ]
  },
  {
   "cell_type": "markdown",
   "id": "fc41b670",
   "metadata": {},
   "source": [
    "What if we wanted to add another line to make a multiple line graph? We complete roughly the same process, and add an additional set of data and one more plot command to see another line appear on this graph. Let's try it out!"
   ]
  },
  {
   "cell_type": "code",
   "execution_count": 17,
   "id": "c962b5bc",
   "metadata": {},
   "outputs": [
    {
     "data": {
      "image/png": "[encoded data removed]",
      "text/plain": [
       "<Figure size 432x288 with 1 Axes>"
      ]
     },
     "metadata": {
      "needs_background": "light"
     },
     "output_type": "display_data"
    }
   ],
   "source": [
    "# Load libraries\n",
    "import matplotlib.pyplot as plt\n",
    "\n",
    "# Create the first set of data\n",
    "x = [1,3,5, 7, 9, 11]\n",
    "y = [10, 25, 35, 33, 38, 59]\n",
    "\n",
    "# Plot first set and color it\n",
    "plt.plot(x, y, color = 'blue')\n",
    "\n",
    "# Create the second set of data\n",
    "x = [2,4,6,8,10,12]\n",
    "y = [15, 29, 32, 33, 38,55]\n",
    "\n",
    "# Plot second set and color it\n",
    "plt.plot(x, y, color = 'red')\n",
    "\n",
    "# Add label for the x-axis\n",
    "plt.xlabel(\"X-label\")\n",
    "\n",
    "# Add label for the y-axis\n",
    "plt.ylabel(\"Y-label\")\n",
    "\n",
    "# Add a title to the graph\n",
    "plt.title(\"Multiple Python Line Graph\")\n",
    "\n",
    "# Display the graph\n",
    "plt.show()"
   ]
  },
  {
   "cell_type": "markdown",
   "id": "3ac00a78",
   "metadata": {},
   "source": [
    "Given that we now have multiple lines on our line graph, it would be helpful to have a legend that distinguishes between the two lines. Luckily, we can use legend() and add some code to our plotting functions to create the legend labels."
   ]
  },
  {
   "cell_type": "code",
   "execution_count": 18,
   "id": "98690cd8",
   "metadata": {},
   "outputs": [
    {
     "data": {
      "image/png": "[encoded data removed]",
      "text/plain": [
       "<Figure size 432x288 with 1 Axes>"
      ]
     },
     "metadata": {
      "needs_background": "light"
     },
     "output_type": "display_data"
    }
   ],
   "source": [
    "# Load libraries\n",
    "import matplotlib.pyplot as plt\n",
    "\n",
    "# Create the first set of data\n",
    "x = [1,3,5, 7, 9, 11]\n",
    "y = [10, 25, 35, 33, 38, 59]\n",
    "\n",
    "# Plot first set and color it\n",
    "plt.plot(x, y, label = 'Series-1', color = 'blue')\n",
    "\n",
    "# Create the second set of data\n",
    "x = [2,4,6,8,10,12]\n",
    "y = [15, 29, 32, 33, 38,55]\n",
    "\n",
    "# Plot second set and color it\n",
    "plt.plot(x, y, label = 'Series-2', color = 'red')\n",
    "\n",
    "# Add label for the x-axis\n",
    "plt.xlabel(\"X-label\")\n",
    "\n",
    "# Add label for the y-axis\n",
    "plt.ylabel(\"Y-label\")\n",
    "\n",
    "# Add a title to the graph\n",
    "plt.title(\"Multiple Python Line Graph\")\n",
    "\n",
    "# Add a legend to the graph\n",
    "plt.legend()\n",
    "\n",
    "# Display the graph\n",
    "plt.show()"
   ]
  },
  {
   "cell_type": "markdown",
   "id": "609d0bfe",
   "metadata": {},
   "source": [
    "### Scatter plot\n",
    "\n",
    "Scatter plots are another helpful way to visualize data in statistics, and we can use most of the skills we just mastered to learn how to make them!"
   ]
  },
  {
   "cell_type": "code",
   "execution_count": 15,
   "id": "96739ee9",
   "metadata": {},
   "outputs": [
    {
     "data": {
      "image/png": "[encoded data removed]",
      "text/plain": [
       "<Figure size 432x288 with 1 Axes>"
      ]
     },
     "metadata": {
      "needs_background": "light"
     },
     "output_type": "display_data"
    }
   ],
   "source": [
    "# As always, load libraries\n",
    "import matplotlib.pyplot as plt\n",
    "\n",
    "# Create the data\n",
    "x = [1,3,5,7,9,11]\n",
    "y = [10,25,35,33,41,59]\n",
    "\n",
    "# Draw the scatter plot\n",
    "plt.scatter(x, y, c = 'blue', marker = '*', alpha = 0.5)\n",
    "\n",
    "# Add x-axis and y-axix labels\n",
    "plt.xlabel(\"X-label\")\n",
    "plt.ylabel(\"Y-label\")\n",
    "\n",
    "# Add a title\n",
    "plt.title(\"We love scatter plots!\")\n",
    "\n",
    "# Display the graph\n",
    "plt.show()"
   ]
  },
  {
   "cell_type": "markdown",
   "id": "36a31775",
   "metadata": {},
   "source": [
    "### Pie plot\n",
    "\n",
    "We can follow a similar process to create pie plots which are great for visualizing proportions of a whole. The method pie() will help us create these graphs."
   ]
  },
  {
   "cell_type": "code",
   "execution_count": 34,
   "id": "8d70ec7c",
   "metadata": {},
   "outputs": [
    {
     "data": {
      "image/png": "[encoded data removed]",
      "text/plain": [
       "<Figure size 432x288 with 1 Axes>"
      ]
     },
     "metadata": {},
     "output_type": "display_data"
    }
   ],
   "source": [
    "# Add libraries\n",
    "import matplotlib.pyplot as plt\n",
    "\n",
    "# Create data\n",
    "courses = [\"Intro Stats\", \"Theoretical Statistics\", \"Data Science\", \"Probability\"]\n",
    "scores = [78, 89, 100, 65]\n",
    "\n",
    "# Plot the data\n",
    "plt.pie(scores,\n",
    "       labels = courses,\n",
    "       colors = ['r', 'y', 'b', 'g'],\n",
    "       startangle = 90,\n",
    "       shadow = True,\n",
    "       explode = (0, 0.1, 0, 0),\n",
    "       autopct = '%1.1f%%')\n",
    "\n",
    "# Add title\n",
    "plt.title(\"Statistics Student Performance\")\n",
    "\n",
    "# Display the chart\n",
    "plt.show()"
   ]
  },
  {
   "cell_type": "markdown",
   "id": "117ade2e",
   "metadata": {},
   "source": [
    "### Bar plot\n",
    "Bar plots are another helpful data visualization that statisticians use to compare the values of various groups. Bar plots can be both vertical and horizonatal, so let's practice making them both ways!"
   ]
  },
  {
   "cell_type": "code",
   "execution_count": 35,
   "id": "76d14257",
   "metadata": {},
   "outputs": [
    {
     "data": {
      "image/png": "[encoded data removed]",
      "text/plain": [
       "<Figure size 432x288 with 1 Axes>"
      ]
     },
     "metadata": {
      "needs_background": "light"
     },
     "output_type": "display_data"
    }
   ],
   "source": [
    "# Add libraries\n",
    "import matplotlib.pyplot as plt\n",
    "\n",
    "# Create data\n",
    "movie_ratings = [1,2,3,4,5]\n",
    "rating_counts = [21,45,72,89,42]\n",
    "\n",
    "# Plot the data\n",
    "# The bar function requires at least an x value and a y value\n",
    "plt.bar(movie_ratings, rating_counts, color = 'purple')\n",
    "\n",
    "# Add axis labels\n",
    "plt.xlabel(\"Movie Ratings\")\n",
    "plt.ylabel(\"Rating Frequency\")\n",
    "\n",
    "# Add a title\n",
    "plt.title(\"Movie Rating Distribution\")\n",
    "\n",
    "# Display the plot\n",
    "plt.show()"
   ]
  },
  {
   "cell_type": "code",
   "execution_count": 36,
   "id": "c9316171",
   "metadata": {},
   "outputs": [
    {
     "data": {
      "image/png": "[encoded data removed]",
      "text/plain": [
       "<Figure size 432x288 with 1 Axes>"
      ]
     },
     "metadata": {
      "needs_background": "light"
     },
     "output_type": "display_data"
    }
   ],
   "source": [
    "# Add libraries\n",
    "import matplotlib.pyplot as plt\n",
    "\n",
    "# Create data\n",
    "movie_ratings = [1,2,3,4,5]\n",
    "rating_counts = [21,45,72,89,42]\n",
    "\n",
    "# Plot the data\n",
    "# The barh function requires at least an x value and a y value\n",
    "plt.barh(movie_ratings, rating_counts, color = 'purple')\n",
    "\n",
    "# Add axis labels\n",
    "plt.xlabel(\"Rating Frequency\")\n",
    "plt.ylabel(\"Movie Ratings\")\n",
    "\n",
    "# Add a title\n",
    "plt.title(\"Movie Rating Distribution\")\n",
    "\n",
    "# Display the plot\n",
    "plt.show()"
   ]
  },
  {
   "cell_type": "markdown",
   "id": "eba1aadd",
   "metadata": {},
   "source": [
    "### Histogram plot\n",
    "\n",
    "Histograms are a common way to visualize the distribution of a single numeric variable. Furthermore, it shows the probability distribution of a continuous variable, so we will certainly need to use these in our statistical analysis. Let's see how to make histograms using the hist( ) method.\n",
    "\n",
    "Here we will need to specify the data, bins, and relative width within our histogram function. Our bins will go from 20 to 60 with a 10 years bin size. Additionally, we are using a relative bar width of 0.6, but it is up to you whether or not to haev a thicker and thinner width for the histogram bars."
   ]
  },
  {
   "cell_type": "code",
   "execution_count": 37,
   "id": "b9857323",
   "metadata": {},
   "outputs": [
    {
     "data": {
      "image/png": "[encoded data removed]",
      "text/plain": [
       "<Figure size 432x288 with 1 Axes>"
      ]
     },
     "metadata": {
      "needs_background": "light"
     },
     "output_type": "display_data"
    }
   ],
   "source": [
    "# Add libraries\n",
    "import matplotlib.pyplot as plt\n",
    "\n",
    "# Create data\n",
    "employee_age = [21,28,32,34,35,35,37,42,47,55]\n",
    "\n",
    "# Create bins for histogram\n",
    "bins = [20,30,40,50,60]\n",
    "\n",
    "# Plot the histogram\n",
    "plt.hist(employee_age, bins, rwidth = 0.6)\n",
    "\n",
    "# Label axis\n",
    "plt.xlabel(\"Employee Age\")\n",
    "plt.ylabel(\"Frequency\")\n",
    "\n",
    "# Add title\n",
    "plt.title(\"Employee Age Distribution\")\n",
    "\n",
    "# Display the graph\n",
    "plt.show()"
   ]
  },
  {
   "cell_type": "markdown",
   "id": "a657929c",
   "metadata": {},
   "source": [
    "## Seaborn\n",
    "The Seaborn library can help us to make more advanced statistical plots. Seaborn is an open source Python library and uses Matplotlib as a baselibrary to produce interactive and attractive data visualizations.\n",
    "\n",
    "### lm plots\n",
    "The lm plot displays the scattered data and fits a regression model onto it. It is exactly the same as putting the line of best fit onto our graph, and this process helps to understand the relationship between two variables. The method lmplot( ) takes the input of two column names (x and y) as a string and a DataFrame variable, and by default, fits the regression line. Let's try it out!"
   ]
  },
  {
   "cell_type": "code",
   "execution_count": 38,
   "id": "7c41ee62",
   "metadata": {},
   "outputs": [
    {
     "data": {
      "image/png": "[encoded data removed]",
      "text/plain": [
       "<Figure size 360x360 with 1 Axes>"
      ]
     },
     "metadata": {
      "needs_background": "light"
     },
     "output_type": "display_data"
    }
   ],
   "source": [
    "# Add libraries\n",
    "import pandas as pd\n",
    "import seaborn as sns\n",
    "import matplotlib.pyplot as plt\n",
    "\n",
    "# Create DataFrame using pandas\n",
    "df = pd.DataFrame({'x':[1,3,5,7,9,11],\n",
    "                  'y':[10,25,35, 33,41,59]})\n",
    "# Create the plot\n",
    "sns.lmplot(x = 'x', y = 'y', data = df)\n",
    "\n",
    "# Display the plot\n",
    "plt.show()"
   ]
  },
  {
   "cell_type": "markdown",
   "id": "0e186dd4",
   "metadata": {},
   "source": [
    "If we wanted to remove the regression line, we can set the parameter fig_reg to False within the lmplot( ) method."
   ]
  },
  {
   "cell_type": "code",
   "execution_count": 39,
   "id": "d0914206",
   "metadata": {},
   "outputs": [
    {
     "data": {
      "image/png": "[encoded data removed]",
      "text/plain": [
       "<Figure size 360x360 with 1 Axes>"
      ]
     },
     "metadata": {
      "needs_background": "light"
     },
     "output_type": "display_data"
    }
   ],
   "source": [
    "# Add libraries\n",
    "import pandas as pd\n",
    "import seaborn as sns\n",
    "import matplotlib.pyplot as plt\n",
    "\n",
    "# Create DataFrame using pandas\n",
    "df = pd.DataFrame({'x':[1,3,5,7,9,11],\n",
    "                  'y':[10,25,35, 33,41,59]})\n",
    "# Create the plot\n",
    "sns.lmplot(x = 'x', y = 'y', data = df, fit_reg = False)\n",
    "\n",
    "# Display the plot\n",
    "plt.show()"
   ]
  },
  {
   "cell_type": "markdown",
   "id": "3fdee444",
   "metadata": {},
   "source": [
    "### Bar plots\n",
    "\n",
    "We can also use seaborn to make more bar plots with advanced details. The bar() function intakes two columns (x and y) and a DataFrame, and outputs a colorful bar plot by default. Let's see an example!"
   ]
  },
  {
   "cell_type": "code",
   "execution_count": 41,
   "id": "aac918c2",
   "metadata": {},
   "outputs": [
    {
     "data": {
      "image/png": "[encoded data removed]",
      "text/plain": [
       "<Figure size 432x288 with 1 Axes>"
      ]
     },
     "metadata": {
      "needs_background": "light"
     },
     "output_type": "display_data"
    }
   ],
   "source": [
    "# Add libraries\n",
    "import pandas as pd\n",
    "import seaborn as sns\n",
    "import matplotlib.pyplot as plt\n",
    "\n",
    "# Create DataFrame\n",
    "df = pd.DataFrame({'x': ['P','Q','R','S','T','U'],\n",
    "                  'y': [10,25,35,33,41,59]})\n",
    "\n",
    "# Create bar plot\n",
    "sns.barplot(x ='x', y  ='y', data = df)\n",
    "\n",
    "# Display the plot\n",
    "plt.show()"
   ]
  },
  {
   "cell_type": "markdown",
   "id": "5d660158",
   "metadata": {},
   "source": [
    "### Distribution plots\n",
    "To plot a univariate distribution of variables, we can make distribution plots with Seaborn. These figures combine a histogram with a default bin size and a Kernel Density Estimation (KDE) plot. Using a dataset of HR Analytics made available in the code repository for Python Data Analysis - Third Edition, published by Packt let's try to make a distribution plot! The quantitative variable we will investigate is satisfaction_level, which is the employee's satisfaction level in a company."
   ]
  },
  {
   "cell_type": "code",
   "execution_count": 46,
   "id": "16eabc26",
   "metadata": {},
   "outputs": [
    {
     "name": "stderr",
     "output_type": "stream",
     "text": [
      "/Users/angelicasang/opt/anaconda3/lib/python3.9/site-packages/seaborn/distributions.py:2619: FutureWarning: `distplot` is a deprecated function and will be removed in a future version. Please adapt your code to use either `displot` (a figure-level function with similar flexibility) or `histplot` (an axes-level function for histograms).\n",
      "  warnings.warn(msg, FutureWarning)\n"
     ]
    },
    {
     "data": {
      "image/png": "[encoded data removed]",
      "text/plain": [
       "<Figure size 432x288 with 1 Axes>"
      ]
     },
     "metadata": {
      "needs_background": "light"
     },
     "output_type": "display_data"
    }
   ],
   "source": [
    "# Add libraries\n",
    "import pandas as pd\n",
    "import seaborn as sns\n",
    "import matplotlib.pyplot as plt\n",
    "\n",
    "# Create DataFrame using pandas\n",
    "df = pd.read_csv(\"HR_comma_sep.csv\")\n",
    "\n",
    "# Create a distribution plot\n",
    "sns.distplot(df.satisfaction_level)\n",
    "\n",
    "# Display the plot\n",
    "plt.show()\n",
    "\n",
    "# NOTE: A warning will appear because the function `distplot` will be removed in the future from seaborn.\n",
    "# Try on your own to see what happens when we change `distplot` to `histplot` or to `displot`."
   ]
  },
  {
   "cell_type": "markdown",
   "id": "d7160329",
   "metadata": {},
   "source": [
    "### Box plot\n",
    "Box plots, or box-and-whisker plots, are another helpful visualization to understand the distribution of our data. Let's practice making a box plot in Seaborn using the same dataset from our previous example!"
   ]
  },
  {
   "cell_type": "code",
   "execution_count": 1,
   "id": "90d536ef",
   "metadata": {},
   "outputs": [
    {
     "data": {
      "image/png": "[encoded data removed]",
      "text/plain": [
       "<Figure size 432x288 with 1 Axes>"
      ]
     },
     "metadata": {
      "needs_background": "light"
     },
     "output_type": "display_data"
    }
   ],
   "source": [
    "# Add libraries\n",
    "import pandas as pd\n",
    "import seaborn as sns\n",
    "import matplotlib.pyplot as plt\n",
    "\n",
    "# Create DataFrame using pandas\n",
    "# We also do not need to create our dataframe more than once in a Jupyter notebook. \n",
    "# For the sake of practice, we'll do it again!\n",
    "df = pd.read_csv(\"HR_comma_sep.csv\")\n",
    "\n",
    "# Create a box plot for the variables 'satisfaction_level' and 'last_evaluation'\n",
    "sns.boxplot(data = df[['satisfaction_level', 'last_evaluation']])\n",
    "\n",
    "# Display the plot\n",
    "plt.show()"
   ]
  },
  {
   "cell_type": "markdown",
   "id": "0373ee41",
   "metadata": {},
   "source": [
    "# Summary\n",
    "\n",
    "In this section, you have learned "
   ]
  },
  {
   "cell_type": "markdown",
   "id": "f850283f",
   "metadata": {},
   "source": [
    "# Tips\n",
    "\n",
    "As you practice the skills learned in this section, please keep in mind the following suggestions:\n",
    "+ Always remember to load the necessary libraries.\n",
    "+ Name your variables, dataframes, and labels helpful and informative titles.\n",
    "+ If you get stuck, use the help documentation that you learned in our previous lecture to help you troubleshoot!"
   ]
  },
  {
   "cell_type": "markdown",
   "id": "ac666967",
   "metadata": {},
   "source": [
    "# References"
   ]
  },
  {
   "cell_type": "code",
   "execution_count": null,
   "id": "67bb865a",
   "metadata": {},
   "outputs": [],
   "source": []
  }
 ],
 "metadata": {
  "kernelspec": {
   "display_name": "Python 3 (ipykernel)",
   "language": "python",
   "name": "python3"
  },
  "language_info": {
   "codemirror_mode": {
    "name": "ipython",
    "version": 3
   },
   "file_extension": ".py",
   "mimetype": "text/x-python",
   "name": "python",
   "nbconvert_exporter": "python",
   "pygments_lexer": "ipython3",
   "version": "3.9.12"
  }
 },
 "nbformat": 4,
 "nbformat_minor": 5
}
