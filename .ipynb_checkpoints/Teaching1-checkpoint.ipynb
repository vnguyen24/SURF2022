{
 "cells": [
  {
   "cell_type": "markdown",
   "id": "84b55686",
   "metadata": {},
   "source": [
    "# Lesson 1 - Getting Started"
   ]
  },
  {
   "cell_type": "markdown",
   "id": "ccb6b3c0",
   "metadata": {},
   "source": [
    "## Basic arithmetic"
   ]
  },
  {
   "cell_type": "markdown",
   "id": "1c5c0e6a",
   "metadata": {},
   "source": [
    "We can treat Python as a scientific calculator. Let's try some operations!"
   ]
  },
  {
   "cell_type": "code",
   "execution_count": 3,
   "id": "63a72ef6",
   "metadata": {},
   "outputs": [
    {
     "data": {
      "text/plain": [
       "11"
      ]
     },
     "execution_count": 3,
     "metadata": {},
     "output_type": "execute_result"
    }
   ],
   "source": [
    "# Addition (+) | Run this cell to see the result\n",
    "\n",
    "5 + 6"
   ]
  },
  {
   "cell_type": "code",
   "execution_count": 4,
   "id": "11cfe8de",
   "metadata": {},
   "outputs": [
    {
     "data": {
      "text/plain": [
       "5"
      ]
     },
     "execution_count": 4,
     "metadata": {},
     "output_type": "execute_result"
    }
   ],
   "source": [
    "# Subtraction (-) | Run this cell to see the result\n",
    "\n",
    "10 - 5"
   ]
  },
  {
   "cell_type": "code",
   "execution_count": 5,
   "id": "d1bbc0e2",
   "metadata": {},
   "outputs": [
    {
     "data": {
      "text/plain": [
       "1.0"
      ]
     },
     "execution_count": 5,
     "metadata": {},
     "output_type": "execute_result"
    }
   ],
   "source": [
    "# Division (/) | Run this cell to see the result\n",
    "\n",
    "5 / 5\n"
   ]
  },
  {
   "cell_type": "code",
   "execution_count": 6,
   "id": "7b059f01",
   "metadata": {},
   "outputs": [
    {
     "data": {
      "text/plain": [
       "20"
      ]
     },
     "execution_count": 6,
     "metadata": {},
     "output_type": "execute_result"
    }
   ],
   "source": [
    "# Multiplication (*) | Run this cell to see the result\n",
    "\n",
    "10 * 2"
   ]
  },
  {
   "cell_type": "code",
   "execution_count": 7,
   "id": "841acbbe",
   "metadata": {},
   "outputs": [
    {
     "data": {
      "text/plain": [
       "25"
      ]
     },
     "execution_count": 7,
     "metadata": {},
     "output_type": "execute_result"
    }
   ],
   "source": [
    "# Exponentiation (**) | Run this cell to see the results\n",
    "\n",
    "5 ** 2"
   ]
  },
  {
   "cell_type": "markdown",
   "id": "e5061ecb",
   "metadata": {},
   "source": [
    "## Variables and data types "
   ]
  },
  {
   "cell_type": "markdown",
   "id": "b7db5473",
   "metadata": {},
   "source": [
    "In Python we can assign values to different variables. This is useful when we want to do multiple things with a certain value. \n",
    "The way we assign variables is by using the equal sign =\n",
    "Let's see some examples!"
   ]
  },
  {
   "cell_type": "code",
   "execution_count": 13,
   "id": "785e2722",
   "metadata": {},
   "outputs": [],
   "source": [
    "# Let's say we want to store 5 and 10 as my_first_integer and my_second_integer\n",
    "my_first_integer = 5\n",
    "my_second_integer = 10"
   ]
  },
  {
   "cell_type": "code",
   "execution_count": 14,
   "id": "f5a49e69",
   "metadata": {},
   "outputs": [
    {
     "data": {
      "text/plain": [
       "15"
      ]
     },
     "execution_count": 14,
     "metadata": {},
     "output_type": "execute_result"
    }
   ],
   "source": [
    "# Now let's make use of addition to see the result of adding my_first_integer and my_second_integer\n",
    "my_first_integer + my_second_integer"
   ]
  },
  {
   "cell_type": "markdown",
   "id": "f1f4e8a2",
   "metadata": {},
   "source": [
    "Now that we know how to assign variables let's discover the different types of variables we can use in Python."
   ]
  },
  {
   "cell_type": "code",
   "execution_count": 10,
   "id": "280cdad0",
   "metadata": {},
   "outputs": [],
   "source": [
    "# Strings (‘’ or \" \") | What we want to treat as text \n",
    "my_first_string = \"This is a string\""
   ]
  },
  {
   "cell_type": "code",
   "execution_count": 11,
   "id": "8bdacde2",
   "metadata": {},
   "outputs": [
    {
     "name": "stdout",
     "output_type": "stream",
     "text": [
      "This is a string\n"
     ]
    }
   ],
   "source": [
    "# We can see what is stored inside of our variable by using the print function\n",
    "print(my_first_string)"
   ]
  },
  {
   "cell_type": "code",
   "execution_count": 12,
   "id": "5008eede",
   "metadata": {},
   "outputs": [
    {
     "ename": "NameError",
     "evalue": "name 'my_second_int' is not defined",
     "output_type": "error",
     "traceback": [
      "\u001b[0;31m---------------------------------------------------------------------------\u001b[0m",
      "\u001b[0;31mNameError\u001b[0m                                 Traceback (most recent call last)",
      "Input \u001b[0;32mIn [12]\u001b[0m, in \u001b[0;36m<cell line: 3>\u001b[0;34m()\u001b[0m\n\u001b[1;32m      1\u001b[0m \u001b[38;5;66;03m# Integers | Numbers, already seen in the first example. Note that we can change the value of a variable.\u001b[39;00m\n\u001b[1;32m      2\u001b[0m my_first_int \u001b[38;5;241m=\u001b[39m \u001b[38;5;241m10\u001b[39m\n\u001b[0;32m----> 3\u001b[0m \u001b[38;5;28mprint\u001b[39m(my_first_int \u001b[38;5;241m+\u001b[39m \u001b[43mmy_second_int\u001b[49m)\n",
      "\u001b[0;31mNameError\u001b[0m: name 'my_second_int' is not defined"
     ]
    }
   ],
   "source": [
    "# Integers | Numbers, already seen in the first example. Note that we can change the value of a variable.\n",
    "my_first_int = 10\n",
    "print(my_first_int + my_second_int)\n",
    "\n",
    "# Run it and see how we changed the previously defined version of integer a"
   ]
  },
  {
   "cell_type": "code",
   "execution_count": null,
   "id": "63011999",
   "metadata": {},
   "outputs": [],
   "source": [
    "# Boolean (True or False) | They are mostly used for logical operations. Let's play around with two integers\n",
    "# to see how they work\n",
    "\n",
    "a = 20\n",
    "b = 10\n",
    "my_first_boolean = 20 > 10 #This boolean will tell us whether 20 is greater than 10 or not. \n",
    "my_second_boolean = 20 < 10 #This boolean will tell us whether 20 is less than 10 or not.\n",
    "\n",
    "print(my_first_boolean)\n",
    "print(my_second_boolean)"
   ]
  },
  {
   "cell_type": "markdown",
   "id": "13c6ed5b",
   "metadata": {},
   "source": [
    "## Data Structures"
   ]
  },
  {
   "cell_type": "markdown",
   "id": "b53f8f48",
   "metadata": {},
   "source": [
    "Now that we know the different data types that we can come across in Python, it is important to understand how Python can organize this data for us. There are five different configurations of data that you will likely come across in Python: lists, tuples, sets, dictionaries, and arrays. To define a data structure we will continue using the equal sign =, let's try it!"
   ]
  },
  {
   "cell_type": "code",
   "execution_count": 16,
   "id": "dc2e91be",
   "metadata": {},
   "outputs": [
    {
     "name": "stdout",
     "output_type": "stream",
     "text": [
      "[5, 10]\n"
     ]
    }
   ],
   "source": [
    "# A LIST groups objects of the same type.  \n",
    "# Using the variables \"my_first_integer\" and \"my_second_integer\" that we made earlier, let's practice making a list!\n",
    "\n",
    "integers = [my_first_integer, my_second_integer]\n",
    "print(integers)"
   ]
  },
  {
   "cell_type": "code",
   "execution_count": null,
   "id": "dc7a0a3d",
   "metadata": {},
   "outputs": [],
   "source": [
    "# A TUPLE groups objects of different types.\n",
    "# Using the variables \"my_first_integer\" and \"my_first_string\" that we made earlier, let's practice making a tuple!\n",
    "\n"
   ]
  },
  {
   "cell_type": "code",
   "execution_count": null,
   "id": "aa71736e",
   "metadata": {},
   "outputs": [],
   "source": []
  }
 ],
 "metadata": {
  "kernelspec": {
   "display_name": "Python 3 (ipykernel)",
   "language": "python",
   "name": "python3"
  },
  "language_info": {
   "codemirror_mode": {
    "name": "ipython",
    "version": 3
   },
   "file_extension": ".py",
   "mimetype": "text/x-python",
   "name": "python",
   "nbconvert_exporter": "python",
   "pygments_lexer": "ipython3",
   "version": "3.9.12"
  }
 },
 "nbformat": 4,
 "nbformat_minor": 5
}
