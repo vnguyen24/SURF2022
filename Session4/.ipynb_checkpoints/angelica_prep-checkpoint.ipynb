{
 "cells": [
  {
   "cell_type": "code",
   "execution_count": 10,
   "id": "f796ee44",
   "metadata": {},
   "outputs": [
    {
     "data": {
      "text/html": [
       "<div>\n",
       "<style scoped>\n",
       "    .dataframe tbody tr th:only-of-type {\n",
       "        vertical-align: middle;\n",
       "    }\n",
       "\n",
       "    .dataframe tbody tr th {\n",
       "        vertical-align: top;\n",
       "    }\n",
       "\n",
       "    .dataframe thead th {\n",
       "        text-align: right;\n",
       "    }\n",
       "</style>\n",
       "<table border=\"1\" class=\"dataframe\">\n",
       "  <thead>\n",
       "    <tr style=\"text-align: right;\">\n",
       "      <th></th>\n",
       "      <th>year</th>\n",
       "      <th>imdb</th>\n",
       "      <th>title</th>\n",
       "      <th>test</th>\n",
       "      <th>clean_test</th>\n",
       "      <th>binary</th>\n",
       "      <th>budget</th>\n",
       "      <th>domgross</th>\n",
       "      <th>intgross</th>\n",
       "      <th>code</th>\n",
       "      <th>budget_2013$</th>\n",
       "      <th>domgross_2013$</th>\n",
       "      <th>intgross_2013$</th>\n",
       "      <th>period code</th>\n",
       "      <th>decade code</th>\n",
       "    </tr>\n",
       "  </thead>\n",
       "  <tbody>\n",
       "    <tr>\n",
       "      <th>1789</th>\n",
       "      <td>1971</td>\n",
       "      <td>tt0067741</td>\n",
       "      <td>Shaft</td>\n",
       "      <td>notalk</td>\n",
       "      <td>notalk</td>\n",
       "      <td>FAIL</td>\n",
       "      <td>53012938</td>\n",
       "      <td>70327868.0</td>\n",
       "      <td>107190108.0</td>\n",
       "      <td>1971FAIL</td>\n",
       "      <td>305063707</td>\n",
       "      <td>404702718.0</td>\n",
       "      <td>616827003.0</td>\n",
       "      <td>NaN</td>\n",
       "      <td>NaN</td>\n",
       "    </tr>\n",
       "    <tr>\n",
       "      <th>1790</th>\n",
       "      <td>1971</td>\n",
       "      <td>tt0067800</td>\n",
       "      <td>Straw Dogs</td>\n",
       "      <td>notalk</td>\n",
       "      <td>notalk</td>\n",
       "      <td>FAIL</td>\n",
       "      <td>25000000</td>\n",
       "      <td>10324441.0</td>\n",
       "      <td>11253821.0</td>\n",
       "      <td>1971FAIL</td>\n",
       "      <td>143862856</td>\n",
       "      <td>59412143.0</td>\n",
       "      <td>64760273.0</td>\n",
       "      <td>NaN</td>\n",
       "      <td>NaN</td>\n",
       "    </tr>\n",
       "    <tr>\n",
       "      <th>1791</th>\n",
       "      <td>1971</td>\n",
       "      <td>tt0067116</td>\n",
       "      <td>The French Connection</td>\n",
       "      <td>notalk</td>\n",
       "      <td>notalk</td>\n",
       "      <td>FAIL</td>\n",
       "      <td>2200000</td>\n",
       "      <td>41158757.0</td>\n",
       "      <td>41158757.0</td>\n",
       "      <td>1971FAIL</td>\n",
       "      <td>12659931</td>\n",
       "      <td>236848653.0</td>\n",
       "      <td>236848653.0</td>\n",
       "      <td>NaN</td>\n",
       "      <td>NaN</td>\n",
       "    </tr>\n",
       "    <tr>\n",
       "      <th>1792</th>\n",
       "      <td>1971</td>\n",
       "      <td>tt0067992</td>\n",
       "      <td>Willy Wonka &amp;amp; the Chocolate Factory</td>\n",
       "      <td>men-disagree</td>\n",
       "      <td>men</td>\n",
       "      <td>FAIL</td>\n",
       "      <td>3000000</td>\n",
       "      <td>4000000.0</td>\n",
       "      <td>4000000.0</td>\n",
       "      <td>1971FAIL</td>\n",
       "      <td>17263543</td>\n",
       "      <td>23018057.0</td>\n",
       "      <td>23018057.0</td>\n",
       "      <td>NaN</td>\n",
       "      <td>NaN</td>\n",
       "    </tr>\n",
       "    <tr>\n",
       "      <th>1793</th>\n",
       "      <td>1970</td>\n",
       "      <td>tt0065466</td>\n",
       "      <td>Beyond the Valley of the Dolls</td>\n",
       "      <td>ok</td>\n",
       "      <td>ok</td>\n",
       "      <td>PASS</td>\n",
       "      <td>1000000</td>\n",
       "      <td>9000000.0</td>\n",
       "      <td>9000000.0</td>\n",
       "      <td>1970PASS</td>\n",
       "      <td>5997631</td>\n",
       "      <td>53978683.0</td>\n",
       "      <td>53978683.0</td>\n",
       "      <td>NaN</td>\n",
       "      <td>NaN</td>\n",
       "    </tr>\n",
       "  </tbody>\n",
       "</table>\n",
       "</div>"
      ],
      "text/plain": [
       "      year       imdb                                    title          test  \\\n",
       "1789  1971  tt0067741                                    Shaft        notalk   \n",
       "1790  1971  tt0067800                               Straw Dogs        notalk   \n",
       "1791  1971  tt0067116                    The French Connection        notalk   \n",
       "1792  1971  tt0067992  Willy Wonka &amp; the Chocolate Factory  men-disagree   \n",
       "1793  1970  tt0065466           Beyond the Valley of the Dolls            ok   \n",
       "\n",
       "     clean_test binary    budget    domgross     intgross      code  \\\n",
       "1789     notalk   FAIL  53012938  70327868.0  107190108.0  1971FAIL   \n",
       "1790     notalk   FAIL  25000000  10324441.0   11253821.0  1971FAIL   \n",
       "1791     notalk   FAIL   2200000  41158757.0   41158757.0  1971FAIL   \n",
       "1792        men   FAIL   3000000   4000000.0    4000000.0  1971FAIL   \n",
       "1793         ok   PASS   1000000   9000000.0    9000000.0  1970PASS   \n",
       "\n",
       "      budget_2013$  domgross_2013$  intgross_2013$  period code  decade code  \n",
       "1789     305063707     404702718.0     616827003.0          NaN          NaN  \n",
       "1790     143862856      59412143.0      64760273.0          NaN          NaN  \n",
       "1791      12659931     236848653.0     236848653.0          NaN          NaN  \n",
       "1792      17263543      23018057.0      23018057.0          NaN          NaN  \n",
       "1793       5997631      53978683.0      53978683.0          NaN          NaN  "
      ]
     },
     "execution_count": 10,
     "metadata": {},
     "output_type": "execute_result"
    }
   ],
   "source": [
    "# Import data \n",
    "Movies = pd.read_csv('movies.csv')\n",
    "\n",
    "# Glimpse data\n",
    "Movies.tail()"
   ]
  },
  {
   "cell_type": "code",
   "execution_count": 14,
   "id": "52835761",
   "metadata": {},
   "outputs": [
    {
     "name": "stdout",
     "output_type": "stream",
     "text": [
      "Mean: 69132048.27912211\n"
     ]
    }
   ],
   "source": [
    "# Libraries\n",
    "import numpy as np\n",
    "import pandas as pd\n",
    "from scipy.stats import ttest_1samp\n",
    "\n",
    "# Find mean\n",
    "mean_value = np.mean(Movies['domgross'])\n",
    "\n",
    "print(\"Mean:\", mean_value)"
   ]
  },
  {
   "cell_type": "code",
   "execution_count": 21,
   "id": "1f4587eb",
   "metadata": {},
   "outputs": [
    {
     "name": "stdout",
     "output_type": "stream",
     "text": [
      "P Value: nan\n",
      "t-test Value: nan\n",
      "Hypothesis Accepted\n"
     ]
    }
   ],
   "source": [
    "# T-TEST\n",
    "\n",
    "t_test_value, p_value = ttest_1samp(Movies['domgross'], 7000000)\n",
    "\n",
    "print(\"P Value:\", p_value)\n",
    "print(\"t-test Value:\", t_test_value)\n",
    "\n",
    "# 0.05 or 5% is significance value of alpha.\n",
    "if p_value < 0.05:\n",
    "    \n",
    "    print(\"Hypothesis Rejected\")\n",
    "    \n",
    "else:\n",
    "    print(\"Hypothesis Accepted\")"
   ]
  },
  {
   "cell_type": "code",
   "execution_count": 22,
   "id": "7ad61ca8",
   "metadata": {},
   "outputs": [
    {
     "name": "stdout",
     "output_type": "stream",
     "text": [
      "Mean: 70.5\n"
     ]
    }
   ],
   "source": [
    "# Create data \n",
    "data = np.array([63, 75, 84, 58, 52, 96, 63, 55, 76, 83])\n",
    "\n",
    "# Find mean\n",
    "mean_value = np.mean(data)\n",
    "\n",
    "print(\"Mean:\", mean_value)"
   ]
  },
  {
   "cell_type": "code",
   "execution_count": 23,
   "id": "4791cd6d",
   "metadata": {},
   "outputs": [
    {
     "name": "stdout",
     "output_type": "stream",
     "text": [
      "P Value: 0.5986851106160134\n",
      "t-test Value: 0.5454725779039431\n",
      "Hypothesis Accepted\n"
     ]
    }
   ],
   "source": [
    "# T-TEST\n",
    "\n",
    "t_test_value, p_value = ttest_1samp(data, 68)\n",
    "\n",
    "print(\"P Value:\", p_value)\n",
    "print(\"t-test Value:\", t_test_value)\n",
    "\n",
    "# 0.05 or 5% is significance value of alpha.\n",
    "if p_value < 0.05:\n",
    "    \n",
    "    print(\"Hypothesis Rejected\")\n",
    "    \n",
    "else:\n",
    "    print(\"Hypothesis Accepted\")"
   ]
  },
  {
   "cell_type": "code",
   "execution_count": 24,
   "id": "c459b100",
   "metadata": {},
   "outputs": [
    {
     "name": "stdout",
     "output_type": "stream",
     "text": [
      "p-values: 0.015170931362451255\n",
      "t-test: 2.6835879913819185\n"
     ]
    }
   ],
   "source": [
    "# Two-sample t-test\n",
    "from scipy.stats import ttest_ind\n",
    "\n",
    "# Create numpy arrays\n",
    "# Do we need to now explain arrays?\n",
    "data1 = np.array([63, 75, 84, 58, 52, 96, 63, 55, 76, 83])\n",
    "data2 = np.array([53, 43, 31, 113, 33, 57, 27, 23, 24, 43])\n",
    "\n",
    "# Compare samples\n",
    "stat, p = ttest_ind(data1, data2)\n",
    "\n",
    "print(\"p-values:\", p)\n",
    "print(\"t-test:\", stat)"
   ]
  },
  {
   "cell_type": "code",
   "execution_count": null,
   "id": "d8c29db7",
   "metadata": {},
   "outputs": [],
   "source": []
  }
 ],
 "metadata": {
  "kernelspec": {
   "display_name": "Python 3 (ipykernel)",
   "language": "python",
   "name": "python3"
  },
  "language_info": {
   "codemirror_mode": {
    "name": "ipython",
    "version": 3
   },
   "file_extension": ".py",
   "mimetype": "text/x-python",
   "name": "python",
   "nbconvert_exporter": "python",
   "pygments_lexer": "ipython3",
   "version": "3.9.12"
  }
 },
 "nbformat": 4,
 "nbformat_minor": 5
}
