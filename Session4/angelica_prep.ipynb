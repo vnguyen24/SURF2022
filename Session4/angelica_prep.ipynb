{
 "cells": [
  {
   "cell_type": "markdown",
   "id": "638fda9d",
   "metadata": {},
   "source": [
    "To practice performing statistical inference in Python, we begin by importing a 2015 dataset that contains information on rollercoasters in international amusement parks. Take a glimpse at the data using the *head( )* , *tail( )*, or *describe( )* functions to familiarize yourself with the variables."
   ]
  },
  {
   "cell_type": "code",
   "execution_count": 1,
   "id": "f796ee44",
   "metadata": {
    "scrolled": true
   },
   "outputs": [
    {
     "data": {
      "text/html": [
       "<div>\n",
       "<style scoped>\n",
       "    .dataframe tbody tr th:only-of-type {\n",
       "        vertical-align: middle;\n",
       "    }\n",
       "\n",
       "    .dataframe tbody tr th {\n",
       "        vertical-align: top;\n",
       "    }\n",
       "\n",
       "    .dataframe thead th {\n",
       "        text-align: right;\n",
       "    }\n",
       "</style>\n",
       "<table border=\"1\" class=\"dataframe\">\n",
       "  <thead>\n",
       "    <tr style=\"text-align: right;\">\n",
       "      <th></th>\n",
       "      <th>Name</th>\n",
       "      <th>Park</th>\n",
       "      <th>Track</th>\n",
       "      <th>Speed</th>\n",
       "      <th>Height</th>\n",
       "      <th>Drop</th>\n",
       "      <th>Length</th>\n",
       "      <th>Duration</th>\n",
       "      <th>Inversions</th>\n",
       "    </tr>\n",
       "  </thead>\n",
       "  <tbody>\n",
       "    <tr>\n",
       "      <th>236</th>\n",
       "      <td>Thunderbird</td>\n",
       "      <td>Holiday World</td>\n",
       "      <td>Steel</td>\n",
       "      <td>60.0</td>\n",
       "      <td>140.0</td>\n",
       "      <td>NaN</td>\n",
       "      <td>3035.0</td>\n",
       "      <td>78.0</td>\n",
       "      <td>1</td>\n",
       "    </tr>\n",
       "    <tr>\n",
       "      <th>237</th>\n",
       "      <td>Twisted Colossus</td>\n",
       "      <td>Six Flags Magic Mountain</td>\n",
       "      <td>Steel</td>\n",
       "      <td>57.0</td>\n",
       "      <td>121.0</td>\n",
       "      <td>128.0</td>\n",
       "      <td>4990.0</td>\n",
       "      <td>220.0</td>\n",
       "      <td>1</td>\n",
       "    </tr>\n",
       "    <tr>\n",
       "      <th>238</th>\n",
       "      <td>Velikoluksky Miasokombinat</td>\n",
       "      <td>Wonder Island</td>\n",
       "      <td>Steel</td>\n",
       "      <td>62.1</td>\n",
       "      <td>124.7</td>\n",
       "      <td>NaN</td>\n",
       "      <td>3464.6</td>\n",
       "      <td>150.0</td>\n",
       "      <td>1</td>\n",
       "    </tr>\n",
       "    <tr>\n",
       "      <th>239</th>\n",
       "      <td>Wicked Cyclone</td>\n",
       "      <td>Six Flags New England</td>\n",
       "      <td>Steel</td>\n",
       "      <td>55.0</td>\n",
       "      <td>109.0</td>\n",
       "      <td>NaN</td>\n",
       "      <td>3320.0</td>\n",
       "      <td>NaN</td>\n",
       "      <td>1</td>\n",
       "    </tr>\n",
       "    <tr>\n",
       "      <th>240</th>\n",
       "      <td>Zombie Ride</td>\n",
       "      <td>Bosque M‡gico</td>\n",
       "      <td>Steel</td>\n",
       "      <td>62.0</td>\n",
       "      <td>150.0</td>\n",
       "      <td>NaN</td>\n",
       "      <td>863.0</td>\n",
       "      <td>NaN</td>\n",
       "      <td>1</td>\n",
       "    </tr>\n",
       "  </tbody>\n",
       "</table>\n",
       "</div>"
      ],
      "text/plain": [
       "                           Name                      Park  Track  Speed  \\\n",
       "236                 Thunderbird             Holiday World  Steel   60.0   \n",
       "237            Twisted Colossus  Six Flags Magic Mountain  Steel   57.0   \n",
       "238  Velikoluksky Miasokombinat             Wonder Island  Steel   62.1   \n",
       "239              Wicked Cyclone     Six Flags New England  Steel   55.0   \n",
       "240                 Zombie Ride             Bosque M‡gico  Steel   62.0   \n",
       "\n",
       "     Height   Drop  Length  Duration  Inversions  \n",
       "236   140.0    NaN  3035.0      78.0           1  \n",
       "237   121.0  128.0  4990.0     220.0           1  \n",
       "238   124.7    NaN  3464.6     150.0           1  \n",
       "239   109.0    NaN  3320.0       NaN           1  \n",
       "240   150.0    NaN   863.0       NaN           1  "
      ]
     },
     "execution_count": 1,
     "metadata": {},
     "output_type": "execute_result"
    }
   ],
   "source": [
    "# Add libraries\n",
    "import pandas as pd\n",
    "\n",
    "# Import data \n",
    "Coasters = pd.read_csv(Coasters_2015.csv)\n",
    "\n",
    "# Glimpse data\n",
    "Coasters.tail()"
   ]
  },
  {
   "cell_type": "markdown",
   "id": "e5f91007",
   "metadata": {},
   "source": [
    "## One-sample t-test\n",
    "\n",
    "We will begin by performing a one-sample t-test. Recall that the purpose of this parametric test is to determine if there is a significant difference between a sample mean and the hypothesized population mean.\n",
    "\n",
    "Lets say we were interested in learning the true average speed of roller coasters in this dataset. Lets begin by finding the mean!"
   ]
  },
  {
   "cell_type": "code",
   "execution_count": 3,
   "id": "70540ab0",
   "metadata": {},
   "outputs": [
    {
     "name": "stdout",
     "output_type": "stream",
     "text": [
      "Mean: 55.350622406639026\n"
     ]
    }
   ],
   "source": [
    "# Add Libraries\n",
    "import numpy as np\n",
    "import pandas as pd\n",
    "from scipy.stats import ttest_1samp\n",
    "\n",
    "# Find mean\n",
    "mean_value = np.mean(Coasters[Speed])\n",
    "\n",
    "print(\"Mean:\", mean_value)"
   ]
  },
  {
   "cell_type": "markdown",
   "id": "49be5122",
   "metadata": {},
   "source": [
    "Roller coaster expert, Biddy Martin, previously stated that roller coasters actually travel at an average speed of 52 mph. Lets put her word to the test and perform a one-sample t-test to determine if this is likely to be true based on our sample."
   ]
  },
  {
   "cell_type": "code",
   "execution_count": 17,
   "id": "f689383f",
   "metadata": {
    "scrolled": true
   },
   "outputs": [
    {
     "name": "stdout",
     "output_type": "stream",
     "text": [
      "P Value: 0.005748417140227706\n",
      "t-test Value: 2.7868265618258343\n"
     ]
    }
   ],
   "source": [
    "# Perform a one-sample t-test using ttest_1samp\n",
    "\n",
    "# Assign the results of our test to two variables\n",
    "t_test_value, p_value = ttest_1samp(Coasters[Speed], 52)\n",
    "\n",
    "# View the results\n",
    "print(\"P Value:\", p_value)\n",
    "print(\"t-test Value:\", t_test_value)"
   ]
  },
  {
   "cell_type": "markdown",
   "id": "20cc1c6e",
   "metadata": {},
   "source": [
    "Great work! We have just performed our first one-sample t-test. Now lets instruct Python to determine for us whether or not the P Value for our t-test is small enough to reject the null hypothesis that the average speed is 52 mph."
   ]
  },
  {
   "cell_type": "code",
   "execution_count": 20,
   "id": "138e61b7",
   "metadata": {},
   "outputs": [
    {
     "name": "stdout",
     "output_type": "stream",
     "text": [
      "Reject the null hypothesis\n"
     ]
    }
   ],
   "source": [
    "# Let's use 0.05 or 5% as the significance level of alpha.\n",
    "if p_value < 0.05:\n",
    "    \n",
    "    print(\"Reject the null hypothesis\")\n",
    "    \n",
    "else:\n",
    "    print(\"Fail to reject the null hypothesis\")"
   ]
  },
  {
   "cell_type": "markdown",
   "id": "0a9bef90",
   "metadata": {},
   "source": [
    "Unfortunately, it appears that Biddy may have been wrong, as we have to reject the null hypothesis that the average speed of a roller coaster is 52 mph at a significant level of 0.05. What a shocker! Biddy usually gets this stuff right. "
   ]
  },
  {
   "cell_type": "code",
   "execution_count": 19,
   "id": "be3c15dc",
   "metadata": {},
   "outputs": [
    {
     "data": {
      "text/plain": [
       "Ttest_1sampResult(statistic=2.7868265618258343, pvalue=0.005748417140227706)"
      ]
     },
     "execution_count": 19,
     "metadata": {},
     "output_type": "execute_result"
    }
   ],
   "source": [
    "# Note: We do not need to assign the output of the function ttest_1samp to two values.\n",
    "# Python automatically outputs our t-test value and p-value.\n",
    "# However, it is good practice to assign these values so we can reuse them later.\n",
    "\n",
    "ttest_1samp(Coasters[Speed], 52)"
   ]
  },
  {
   "cell_type": "markdown",
   "id": "380316a7",
   "metadata": {},
   "source": [
    "## Two-sample t-test\n",
    "\n",
    "Recall that a two-sample t-test is used to determine if there is a significant difference between the sample means of two independent groups. This statistical inference method is also know as the independent samples t-test. Using the same dataset as before, lets see if the mean speed is the same for roller coasters made of wood and steel.\n",
    "\n",
    "As usual, we will start off by adding the libraries and functions we will need to use. Then, we will need to create two new dataframes from our original dataset. This is so *ttest_ind* will be able to easily tell if there is a difference in the mean speed of our two groups: wooden rollercoasters and steel rollercoasters."
   ]
  },
  {
   "cell_type": "code",
   "execution_count": 27,
   "id": "bcc4af53",
   "metadata": {
    "scrolled": true
   },
   "outputs": [
    {
     "data": {
      "text/html": [
       "<div>\n",
       "<style scoped>\n",
       "    .dataframe tbody tr th:only-of-type {\n",
       "        vertical-align: middle;\n",
       "    }\n",
       "\n",
       "    .dataframe tbody tr th {\n",
       "        vertical-align: top;\n",
       "    }\n",
       "\n",
       "    .dataframe thead th {\n",
       "        text-align: right;\n",
       "    }\n",
       "</style>\n",
       "<table border=\"1\" class=\"dataframe\">\n",
       "  <thead>\n",
       "    <tr style=\"text-align: right;\">\n",
       "      <th></th>\n",
       "      <th>Name</th>\n",
       "      <th>Park</th>\n",
       "      <th>Track</th>\n",
       "      <th>Speed</th>\n",
       "      <th>Height</th>\n",
       "      <th>Drop</th>\n",
       "      <th>Length</th>\n",
       "      <th>Duration</th>\n",
       "      <th>Inversions</th>\n",
       "    </tr>\n",
       "  </thead>\n",
       "  <tbody>\n",
       "    <tr>\n",
       "      <th>11</th>\n",
       "      <td>Son Of Beast</td>\n",
       "      <td>Paramount's Kings Island</td>\n",
       "      <td>Wood</td>\n",
       "      <td>78.4</td>\n",
       "      <td>218.0</td>\n",
       "      <td>214.0</td>\n",
       "      <td>7032.0</td>\n",
       "      <td>NaN</td>\n",
       "      <td>1</td>\n",
       "    </tr>\n",
       "    <tr>\n",
       "      <th>19</th>\n",
       "      <td>Rattler</td>\n",
       "      <td>Six Flags Fiesta Texas</td>\n",
       "      <td>Wood</td>\n",
       "      <td>73.0</td>\n",
       "      <td>179.5</td>\n",
       "      <td>166.5</td>\n",
       "      <td>5080.0</td>\n",
       "      <td>146.0</td>\n",
       "      <td>0</td>\n",
       "    </tr>\n",
       "    <tr>\n",
       "      <th>28</th>\n",
       "      <td>Boss</td>\n",
       "      <td>Six Flags St. Louis</td>\n",
       "      <td>Wood</td>\n",
       "      <td>66.3</td>\n",
       "      <td>122.0</td>\n",
       "      <td>150.0</td>\n",
       "      <td>5051.0</td>\n",
       "      <td>NaN</td>\n",
       "      <td>0</td>\n",
       "    </tr>\n",
       "    <tr>\n",
       "      <th>29</th>\n",
       "      <td>American Eagle</td>\n",
       "      <td>Six Flags Great America</td>\n",
       "      <td>Wood</td>\n",
       "      <td>66.0</td>\n",
       "      <td>127.0</td>\n",
       "      <td>147.0</td>\n",
       "      <td>4650.0</td>\n",
       "      <td>143.0</td>\n",
       "      <td>0</td>\n",
       "    </tr>\n",
       "    <tr>\n",
       "      <th>33</th>\n",
       "      <td>Hercules</td>\n",
       "      <td>Dorney Park</td>\n",
       "      <td>Wood</td>\n",
       "      <td>65.0</td>\n",
       "      <td>95.0</td>\n",
       "      <td>151.0</td>\n",
       "      <td>4000.0</td>\n",
       "      <td>135.0</td>\n",
       "      <td>0</td>\n",
       "    </tr>\n",
       "  </tbody>\n",
       "</table>\n",
       "</div>"
      ],
      "text/plain": [
       "              Name                      Park Track  Speed  Height   Drop  \\\n",
       "11    Son Of Beast  Paramount's Kings Island  Wood   78.4   218.0  214.0   \n",
       "19         Rattler    Six Flags Fiesta Texas  Wood   73.0   179.5  166.5   \n",
       "28            Boss       Six Flags St. Louis  Wood   66.3   122.0  150.0   \n",
       "29  American Eagle   Six Flags Great America  Wood   66.0   127.0  147.0   \n",
       "33        Hercules               Dorney Park  Wood   65.0    95.0  151.0   \n",
       "\n",
       "    Length  Duration  Inversions  \n",
       "11  7032.0       NaN           1  \n",
       "19  5080.0     146.0           0  \n",
       "28  5051.0       NaN           0  \n",
       "29  4650.0     143.0           0  \n",
       "33  4000.0     135.0           0  "
      ]
     },
     "execution_count": 27,
     "metadata": {},
     "output_type": "execute_result"
    }
   ],
   "source": [
    "# Add libraries and functions\n",
    "from scipy.stats import ttest_ind\n",
    "\n",
    "# Separates the data into two new dataframes, where one is only Steel rollercoasters and the other is only Wood\n",
    "steel = Coasters[Coasters.Track == \"Steel\"]\n",
    "wood = Coasters[Coasters.Track == \"Wood\"]\n",
    "\n",
    "# Confirm this for yourself by looking at the first few rows of each dataframe\n",
    "steel.head()\n",
    "wood.head()"
   ]
  },
  {
   "cell_type": "markdown",
   "id": "b06cf16d",
   "metadata": {},
   "source": [
    "Now that we have completed our set-up, let's put our data to the test and find out if there is a significant difference between the two track types of roller coasters."
   ]
  },
  {
   "cell_type": "code",
   "execution_count": 29,
   "id": "636e4e41",
   "metadata": {
    "scrolled": true
   },
   "outputs": [
    {
     "name": "stdout",
     "output_type": "stream",
     "text": [
      "p-values: 0.42908098032852415\n",
      "t-test: -0.7921118189812297\n"
     ]
    }
   ],
   "source": [
    "# Perform two-sample t-test\n",
    "\n",
    "# Assign the results of our test to two variables\n",
    "# IMPORTANT, \"ttest_ind\" requires you to specify a variable within your dataset\n",
    "stat, p = ttest_ind(steel[\"Speed\"], wood[\"Speed\"])\n",
    "\n",
    "# Display the results\n",
    "print(\"p-values:\", p)\n",
    "print(\"t-test:\", stat)"
   ]
  },
  {
   "cell_type": "code",
   "execution_count": 30,
   "id": "2f43a0f8",
   "metadata": {},
   "outputs": [
    {
     "name": "stdout",
     "output_type": "stream",
     "text": [
      "Fail to reject the null hypothesis\n"
     ]
    }
   ],
   "source": [
    "# Let's use 0.05 or 5% as the significance level of alpha.\n",
    "if p < 0.05:\n",
    "    \n",
    "    print(\"Reject the null hypothesis\")\n",
    "    \n",
    "else:\n",
    "    print(\"Fail to reject the null hypothesis\")"
   ]
  },
  {
   "cell_type": "markdown",
   "id": "5fce4b2e",
   "metadata": {},
   "source": [
    "At a significance level of 0.05, we fail to reject the null hypothesis that the speeds of the two different track types of roller coasters are the same. Let's take a look at the actual means of our data and see what we think."
   ]
  },
  {
   "cell_type": "code",
   "execution_count": 34,
   "id": "e8972aa4",
   "metadata": {
    "scrolled": true
   },
   "outputs": [
    {
     "name": "stdout",
     "output_type": "stream",
     "text": [
      "54.99811320754719\n"
     ]
    }
   ],
   "source": [
    "# Find the mean speed for steel tracks\n",
    "print(np.mean(steel[\"Speed\"]))"
   ]
  },
  {
   "cell_type": "code",
   "execution_count": 33,
   "id": "65b8ab43",
   "metadata": {},
   "outputs": [
    {
     "name": "stdout",
     "output_type": "stream",
     "text": [
      "57.92758620689655\n"
     ]
    }
   ],
   "source": [
    "# Find the mean speed for wooden tracks\n",
    "print(np.mean(wood[\"Speed\"]))"
   ]
  },
  {
   "cell_type": "markdown",
   "id": "e9d347d3",
   "metadata": {},
   "source": [
    "Some might argue that the difference between the mean speeds is substantial. However, according to our test, we lack sufficient evidence to reject the null hypothesis and state that speed changes depending on track type. Oh well. Maybe with a different sample dataset!"
   ]
  },
  {
   "cell_type": "markdown",
   "id": "138c0c1d",
   "metadata": {},
   "source": [
    "## Paired sample t-test\n",
    "Our next statistical inference task is to complete a paired sample t-test, or a dependent sample t-test, on our Coasters dataset. Remind yourselves that a paired sample t-test checks if the mean difference between two observations of the same group is 0. These tests are particularly useful to determine the impact of a treatment in an experiment.\n",
    "\n",
    "In this example, the data comes from Dr. Chico’s introductory statistics class. Students in the class take two tests over the course of the semester. Dr. Chico gives notoriously difficult exams with the intention of motivating her students to work hard in the class and thus learn as much as possible. Dr. Chico’s theory is that the first test will serve as a “wake up call” for her students, such that when they realize how difficult the class actually is they will be motivated to study harder and earn a higher grade on the second test than they got on the first test.\n",
    "\n",
    "To determine if Dr. Chico's \"wake up call\" truly works, let's perform a paired sample t-test to determine whether or not a student's performance on the second exam is significantly different from their performance on the first exam. \n",
    "\n",
    "https://brendanhcullen.github.io/psy611/labs/lab-9.html#data"
   ]
  },
  {
   "cell_type": "markdown",
   "id": "d0ab9ca9",
   "metadata": {},
   "source": [
    "Let's begin by importing the data and taking a look at its format."
   ]
  },
  {
   "cell_type": "code",
   "execution_count": 39,
   "id": "cbb24202",
   "metadata": {},
   "outputs": [
    {
     "data": {
      "text/html": [
       "<div>\n",
       "<style scoped>\n",
       "    .dataframe tbody tr th:only-of-type {\n",
       "        vertical-align: middle;\n",
       "    }\n",
       "\n",
       "    .dataframe tbody tr th {\n",
       "        vertical-align: top;\n",
       "    }\n",
       "\n",
       "    .dataframe thead th {\n",
       "        text-align: right;\n",
       "    }\n",
       "</style>\n",
       "<table border=\"1\" class=\"dataframe\">\n",
       "  <thead>\n",
       "    <tr style=\"text-align: right;\">\n",
       "      <th></th>\n",
       "      <th>id</th>\n",
       "      <th>grade_test1</th>\n",
       "      <th>grade_test2</th>\n",
       "    </tr>\n",
       "  </thead>\n",
       "  <tbody>\n",
       "    <tr>\n",
       "      <th>15</th>\n",
       "      <td>student16</td>\n",
       "      <td>58.7</td>\n",
       "      <td>60.1</td>\n",
       "    </tr>\n",
       "    <tr>\n",
       "      <th>16</th>\n",
       "      <td>student17</td>\n",
       "      <td>50.1</td>\n",
       "      <td>51.7</td>\n",
       "    </tr>\n",
       "    <tr>\n",
       "      <th>17</th>\n",
       "      <td>student18</td>\n",
       "      <td>64.2</td>\n",
       "      <td>65.6</td>\n",
       "    </tr>\n",
       "    <tr>\n",
       "      <th>18</th>\n",
       "      <td>student19</td>\n",
       "      <td>57.4</td>\n",
       "      <td>58.3</td>\n",
       "    </tr>\n",
       "    <tr>\n",
       "      <th>19</th>\n",
       "      <td>student20</td>\n",
       "      <td>57.1</td>\n",
       "      <td>60.1</td>\n",
       "    </tr>\n",
       "  </tbody>\n",
       "</table>\n",
       "</div>"
      ],
      "text/plain": [
       "           id  grade_test1  grade_test2\n",
       "15  student16         58.7         60.1\n",
       "16  student17         50.1         51.7\n",
       "17  student18         64.2         65.6\n",
       "18  student19         57.4         58.3\n",
       "19  student20         57.1         60.1"
      ]
     },
     "execution_count": 39,
     "metadata": {},
     "output_type": "execute_result"
    }
   ],
   "source": [
    "# Import data \n",
    "Chico = pd.read_csv(\"chico_wide.csv\")\n",
    "\n",
    "# Glimpse data\n",
    "Chico.tail()"
   ]
  },
  {
   "cell_type": "markdown",
   "id": "1ef34c96",
   "metadata": {},
   "source": [
    "Before we can begin our test, we will need to create two separate sets of data: one with the scores from the first exam and one with the scores from the second exam."
   ]
  },
  {
   "cell_type": "code",
   "execution_count": 44,
   "id": "b9f1aa20",
   "metadata": {},
   "outputs": [],
   "source": [
    "# Scores on the first exam\n",
    "exam1 = Chico['grade_test1']\n",
    "\n",
    "# Scores on the second exam\n",
    "exam2 = Chico['grade_test2']"
   ]
  },
  {
   "cell_type": "markdown",
   "id": "46b77dcf",
   "metadata": {},
   "source": [
    "Now that we have prepared our data, let's test our null hypothesis that Dr. Chico's theory produces no significant difference in students' performance."
   ]
  },
  {
   "cell_type": "code",
   "execution_count": 47,
   "id": "581e6041",
   "metadata": {},
   "outputs": [
    {
     "name": "stdout",
     "output_type": "stream",
     "text": [
      "p-values: 3.320670056126948e-06\n",
      "t-test: -6.475436088339379\n"
     ]
    }
   ],
   "source": [
    "# Add method for our paired test\n",
    "from scipy.stats import ttest_rel\n",
    "\n",
    "# Assign the results of our test to two variables\n",
    "stat, p = ttest_rel(exam1, exam2)\n",
    "\n",
    "# Display the results\n",
    "print(\"p-values:\", p)\n",
    "print(\"t-test:\", stat)"
   ]
  },
  {
   "cell_type": "code",
   "execution_count": 48,
   "id": "908526a4",
   "metadata": {},
   "outputs": [
    {
     "name": "stdout",
     "output_type": "stream",
     "text": [
      "Reject the null hypothesis\n"
     ]
    }
   ],
   "source": [
    "# Let's use 0.05 or 5% as the significance level of alpha.\n",
    "if p < 0.05:\n",
    "    \n",
    "    print(\"Reject the null hypothesis\")\n",
    "    \n",
    "else:\n",
    "    print(\"Fail to reject the null hypothesis\")"
   ]
  },
  {
   "cell_type": "markdown",
   "id": "869d9784",
   "metadata": {},
   "source": [
    "When alpha is equal to 0.05, we reject the null hypothesis that Dr. Chico's theory produces no significant difference in students' performance. Rather, it appears that students performed significantly better on the second exam, which may be a result of Dr. Chico making the first exam particularly challenging. "
   ]
  },
  {
   "cell_type": "markdown",
   "id": "45d7070d",
   "metadata": {},
   "source": [
    "## One-way ANOVA\n",
    "\n",
    "In the case where we have two or multiple groups that we would like to compare at the same time, we will want to use ANOVA as our statistical inference test. ANOVA checks for a signficant difference between and within multiple groups, and it can test multiple hypotheses at once. \n",
    "\n",
    "In our example, we will analyze the performance of different episode of the"
   ]
  },
  {
   "cell_type": "code",
   "execution_count": 54,
   "id": "794772a7",
   "metadata": {},
   "outputs": [
    {
     "data": {
      "text/html": [
       "<div>\n",
       "<style scoped>\n",
       "    .dataframe tbody tr th:only-of-type {\n",
       "        vertical-align: middle;\n",
       "    }\n",
       "\n",
       "    .dataframe tbody tr th {\n",
       "        vertical-align: top;\n",
       "    }\n",
       "\n",
       "    .dataframe thead th {\n",
       "        text-align: right;\n",
       "    }\n",
       "</style>\n",
       "<table border=\"1\" class=\"dataframe\">\n",
       "  <thead>\n",
       "    <tr style=\"text-align: right;\">\n",
       "      <th></th>\n",
       "      <th>index</th>\n",
       "      <th>series.name</th>\n",
       "      <th>network</th>\n",
       "      <th>season</th>\n",
       "      <th>title</th>\n",
       "      <th>imdb</th>\n",
       "      <th>engagement</th>\n",
       "      <th>date.aired</th>\n",
       "      <th>run.time</th>\n",
       "      <th>format</th>\n",
       "      <th>...</th>\n",
       "      <th>batman</th>\n",
       "      <th>scooby-dum</th>\n",
       "      <th>scrappy-doo</th>\n",
       "      <th>hex.girls</th>\n",
       "      <th>blue.falcon</th>\n",
       "      <th>fred.va</th>\n",
       "      <th>daphne.va</th>\n",
       "      <th>velma.va</th>\n",
       "      <th>shaggy.va</th>\n",
       "      <th>scooby.va</th>\n",
       "    </tr>\n",
       "  </thead>\n",
       "  <tbody>\n",
       "    <tr>\n",
       "      <th>0</th>\n",
       "      <td>1</td>\n",
       "      <td>Scooby Doo, Where Are You!</td>\n",
       "      <td>CBS</td>\n",
       "      <td>1</td>\n",
       "      <td>What a Night for a Knight</td>\n",
       "      <td>8.1</td>\n",
       "      <td>556.0</td>\n",
       "      <td>9/13/1969</td>\n",
       "      <td>21</td>\n",
       "      <td>TV Series</td>\n",
       "      <td>...</td>\n",
       "      <td>False</td>\n",
       "      <td>False</td>\n",
       "      <td>False</td>\n",
       "      <td>False</td>\n",
       "      <td>False</td>\n",
       "      <td>Frank Welker</td>\n",
       "      <td>Stefanianna Christopherson</td>\n",
       "      <td>Nicole Jaffe</td>\n",
       "      <td>Casey Kasem</td>\n",
       "      <td>Don Messick</td>\n",
       "    </tr>\n",
       "    <tr>\n",
       "      <th>1</th>\n",
       "      <td>2</td>\n",
       "      <td>Scooby Doo, Where Are You!</td>\n",
       "      <td>CBS</td>\n",
       "      <td>1</td>\n",
       "      <td>A Clue for Scooby Doo</td>\n",
       "      <td>8.1</td>\n",
       "      <td>479.0</td>\n",
       "      <td>9/20/1969</td>\n",
       "      <td>22</td>\n",
       "      <td>TV Series</td>\n",
       "      <td>...</td>\n",
       "      <td>False</td>\n",
       "      <td>False</td>\n",
       "      <td>False</td>\n",
       "      <td>False</td>\n",
       "      <td>False</td>\n",
       "      <td>Frank Welker</td>\n",
       "      <td>Stefanianna Christopherson</td>\n",
       "      <td>Nicole Jaffe</td>\n",
       "      <td>Casey Kasem</td>\n",
       "      <td>Don Messick</td>\n",
       "    </tr>\n",
       "    <tr>\n",
       "      <th>2</th>\n",
       "      <td>3</td>\n",
       "      <td>Scooby Doo, Where Are You!</td>\n",
       "      <td>CBS</td>\n",
       "      <td>1</td>\n",
       "      <td>Hassle in the Castle</td>\n",
       "      <td>8.0</td>\n",
       "      <td>455.0</td>\n",
       "      <td>9/27/1969</td>\n",
       "      <td>21</td>\n",
       "      <td>TV Series</td>\n",
       "      <td>...</td>\n",
       "      <td>False</td>\n",
       "      <td>False</td>\n",
       "      <td>False</td>\n",
       "      <td>False</td>\n",
       "      <td>False</td>\n",
       "      <td>Frank Welker</td>\n",
       "      <td>Stefanianna Christopherson</td>\n",
       "      <td>Nicole Jaffe</td>\n",
       "      <td>Casey Kasem</td>\n",
       "      <td>Don Messick</td>\n",
       "    </tr>\n",
       "    <tr>\n",
       "      <th>3</th>\n",
       "      <td>4</td>\n",
       "      <td>Scooby Doo, Where Are You!</td>\n",
       "      <td>CBS</td>\n",
       "      <td>1</td>\n",
       "      <td>Mine Your Own Business</td>\n",
       "      <td>7.8</td>\n",
       "      <td>426.0</td>\n",
       "      <td>10/4/1969</td>\n",
       "      <td>21</td>\n",
       "      <td>TV Series</td>\n",
       "      <td>...</td>\n",
       "      <td>False</td>\n",
       "      <td>False</td>\n",
       "      <td>False</td>\n",
       "      <td>False</td>\n",
       "      <td>False</td>\n",
       "      <td>Frank Welker</td>\n",
       "      <td>Stefanianna Christopherson</td>\n",
       "      <td>Nicole Jaffe</td>\n",
       "      <td>Casey Kasem</td>\n",
       "      <td>Don Messick</td>\n",
       "    </tr>\n",
       "    <tr>\n",
       "      <th>4</th>\n",
       "      <td>5</td>\n",
       "      <td>Scooby Doo, Where Are You!</td>\n",
       "      <td>CBS</td>\n",
       "      <td>1</td>\n",
       "      <td>Decoy for a Dognapper</td>\n",
       "      <td>7.5</td>\n",
       "      <td>391.0</td>\n",
       "      <td>10/11/1969</td>\n",
       "      <td>21</td>\n",
       "      <td>TV Series</td>\n",
       "      <td>...</td>\n",
       "      <td>False</td>\n",
       "      <td>False</td>\n",
       "      <td>False</td>\n",
       "      <td>False</td>\n",
       "      <td>False</td>\n",
       "      <td>Frank Welker</td>\n",
       "      <td>Stefanianna Christopherson</td>\n",
       "      <td>Nicole Jaffe</td>\n",
       "      <td>Casey Kasem</td>\n",
       "      <td>Don Messick</td>\n",
       "    </tr>\n",
       "  </tbody>\n",
       "</table>\n",
       "<p>5 rows × 75 columns</p>\n",
       "</div>"
      ],
      "text/plain": [
       "   index                 series.name network season  \\\n",
       "0      1  Scooby Doo, Where Are You!     CBS      1   \n",
       "1      2  Scooby Doo, Where Are You!     CBS      1   \n",
       "2      3  Scooby Doo, Where Are You!     CBS      1   \n",
       "3      4  Scooby Doo, Where Are You!     CBS      1   \n",
       "4      5  Scooby Doo, Where Are You!     CBS      1   \n",
       "\n",
       "                       title  imdb  engagement  date.aired  run.time  \\\n",
       "0  What a Night for a Knight   8.1       556.0   9/13/1969        21   \n",
       "1      A Clue for Scooby Doo   8.1       479.0   9/20/1969        22   \n",
       "2       Hassle in the Castle   8.0       455.0   9/27/1969        21   \n",
       "3     Mine Your Own Business   7.8       426.0   10/4/1969        21   \n",
       "4      Decoy for a Dognapper   7.5       391.0  10/11/1969        21   \n",
       "\n",
       "      format  ... batman scooby-dum scrappy-doo hex.girls blue.falcon  \\\n",
       "0  TV Series  ...  False      False       False     False       False   \n",
       "1  TV Series  ...  False      False       False     False       False   \n",
       "2  TV Series  ...  False      False       False     False       False   \n",
       "3  TV Series  ...  False      False       False     False       False   \n",
       "4  TV Series  ...  False      False       False     False       False   \n",
       "\n",
       "        fred.va                   daphne.va      velma.va    shaggy.va  \\\n",
       "0  Frank Welker  Stefanianna Christopherson  Nicole Jaffe  Casey Kasem   \n",
       "1  Frank Welker  Stefanianna Christopherson  Nicole Jaffe  Casey Kasem   \n",
       "2  Frank Welker  Stefanianna Christopherson  Nicole Jaffe  Casey Kasem   \n",
       "3  Frank Welker  Stefanianna Christopherson  Nicole Jaffe  Casey Kasem   \n",
       "4  Frank Welker  Stefanianna Christopherson  Nicole Jaffe  Casey Kasem   \n",
       "\n",
       "     scooby.va  \n",
       "0  Don Messick  \n",
       "1  Don Messick  \n",
       "2  Don Messick  \n",
       "3  Don Messick  \n",
       "4  Don Messick  \n",
       "\n",
       "[5 rows x 75 columns]"
      ]
     },
     "execution_count": 54,
     "metadata": {},
     "output_type": "execute_result"
    }
   ],
   "source": [
    "# Import data \n",
    "Scooby = pd.read_csv(\"scooby.csv\")\n",
    "\n",
    "# Glimpse data\n",
    "Scooby.head()"
   ]
  },
  {
   "cell_type": "code",
   "execution_count": 56,
   "id": "ba507a7e",
   "metadata": {},
   "outputs": [
    {
     "ename": "TypeError",
     "evalue": "cannot do slice indexing on RangeIndex with these indexers [[False  True False False False False False False False False False False\n False False False False False False False False False False False False\n False False False False False False False False False False False False\n False False False False False False False False False False False False\n False False False False False False False False False False False False\n False False False False False False False False False False False False\n False False False False False False False False False False False False\n False False False False False False False False False False False False\n False False False False False False False False False False False False\n False False False False False False False False False False False False\n False False False False False False False False False False False False\n False False False False False False False False False False False False\n False False False False False False False False False False False False\n False False False False False False False False False False False False\n False False False False False False False False False False False False\n False False False False False False False False False False False False\n False False False False False False False False False False False False\n False False False False False False False False False False False False\n False False False False False False False False False False False False\n False False False False False False False False False False False False\n False False False False False False False False False False False False\n False False False False False False False False False False False False\n False False False False False False False False False False False False\n False False False False False False False False False False False False\n False False False False False False False False False False False False\n False False False False False False False False False False False False\n False False False False False False False False False False False False\n False False False False False False False False False False False False\n False False False False False False False False False False False False\n False False False False False False False False False False False False\n False False False False False False False False False False False False\n False False False False False False False False False False False False\n False False False False False False False False False False False False\n False False False False False False False False False False False False\n False False False False False False False False False False False False\n False False False False False False False False False False False False\n False False False False False False False False False False False False\n False False False False False False False False False False False False\n False False False False False False False False False False False False\n False False False False False False False False False False False False\n False False False False False False False False False False False False\n False False False False False False False False False False False False\n False False False False False False False False False False False False\n False False False False False False False False False False False False\n False False False False False False False False False False False False\n False False False False False False False False False False False False\n False False False False False False False False False False False False\n False False False False False False False False False False False False\n False False False False False False False False False False False False\n False False False False False False False False False False False False\n False False False False False False False False False False False False\n False False False]] of type ndarray",
     "output_type": "error",
     "traceback": [
      "\u001b[0;31m---------------------------------------------------------------------------\u001b[0m",
      "\u001b[0;31mTypeError\u001b[0m                                 Traceback (most recent call last)",
      "Input \u001b[0;32mIn [56]\u001b[0m, in \u001b[0;36m<cell line: 3>\u001b[0;34m()\u001b[0m\n\u001b[1;32m      1\u001b[0m \u001b[38;5;28;01mfrom\u001b[39;00m \u001b[38;5;21;01mscipy\u001b[39;00m\u001b[38;5;21;01m.\u001b[39;00m\u001b[38;5;21;01mstats\u001b[39;00m \u001b[38;5;28;01mimport\u001b[39;00m f_oneway\n\u001b[1;32m      2\u001b[0m \u001b[38;5;66;03m# Save the engagement scores for the first 50 episodes\u001b[39;00m\n\u001b[0;32m----> 3\u001b[0m first50 \u001b[38;5;241m=\u001b[39m \u001b[43mScooby\u001b[49m\u001b[43m[\u001b[49m\u001b[43mScooby\u001b[49m\u001b[38;5;241;43m.\u001b[39;49m\u001b[43mindex\u001b[49m\u001b[43m \u001b[49m\u001b[38;5;241;43m==\u001b[39;49m\u001b[43m \u001b[49m\u001b[38;5;241;43m1\u001b[39;49m\u001b[43m:\u001b[49m\u001b[38;5;241;43m50\u001b[39;49m\u001b[43m]\u001b[49m\n",
      "File \u001b[0;32m~/opt/anaconda3/lib/python3.9/site-packages/pandas/core/frame.py:3477\u001b[0m, in \u001b[0;36mDataFrame.__getitem__\u001b[0;34m(self, key)\u001b[0m\n\u001b[1;32m   3474\u001b[0m         \u001b[38;5;28;01mreturn\u001b[39;00m \u001b[38;5;28mself\u001b[39m\u001b[38;5;241m.\u001b[39m_get_item_cache(key)\n\u001b[1;32m   3476\u001b[0m \u001b[38;5;66;03m# Do we have a slicer (on rows)?\u001b[39;00m\n\u001b[0;32m-> 3477\u001b[0m indexer \u001b[38;5;241m=\u001b[39m \u001b[43mconvert_to_index_sliceable\u001b[49m\u001b[43m(\u001b[49m\u001b[38;5;28;43mself\u001b[39;49m\u001b[43m,\u001b[49m\u001b[43m \u001b[49m\u001b[43mkey\u001b[49m\u001b[43m)\u001b[49m\n\u001b[1;32m   3478\u001b[0m \u001b[38;5;28;01mif\u001b[39;00m indexer \u001b[38;5;129;01mis\u001b[39;00m \u001b[38;5;129;01mnot\u001b[39;00m \u001b[38;5;28;01mNone\u001b[39;00m:\n\u001b[1;32m   3479\u001b[0m     \u001b[38;5;28;01mif\u001b[39;00m \u001b[38;5;28misinstance\u001b[39m(indexer, np\u001b[38;5;241m.\u001b[39mndarray):\n",
      "File \u001b[0;32m~/opt/anaconda3/lib/python3.9/site-packages/pandas/core/indexing.py:2324\u001b[0m, in \u001b[0;36mconvert_to_index_sliceable\u001b[0;34m(obj, key)\u001b[0m\n\u001b[1;32m   2322\u001b[0m idx \u001b[38;5;241m=\u001b[39m obj\u001b[38;5;241m.\u001b[39mindex\n\u001b[1;32m   2323\u001b[0m \u001b[38;5;28;01mif\u001b[39;00m \u001b[38;5;28misinstance\u001b[39m(key, \u001b[38;5;28mslice\u001b[39m):\n\u001b[0;32m-> 2324\u001b[0m     \u001b[38;5;28;01mreturn\u001b[39;00m \u001b[43midx\u001b[49m\u001b[38;5;241;43m.\u001b[39;49m\u001b[43m_convert_slice_indexer\u001b[49m\u001b[43m(\u001b[49m\u001b[43mkey\u001b[49m\u001b[43m,\u001b[49m\u001b[43m \u001b[49m\u001b[43mkind\u001b[49m\u001b[38;5;241;43m=\u001b[39;49m\u001b[38;5;124;43m\"\u001b[39;49m\u001b[38;5;124;43mgetitem\u001b[39;49m\u001b[38;5;124;43m\"\u001b[39;49m\u001b[43m)\u001b[49m\n\u001b[1;32m   2326\u001b[0m \u001b[38;5;28;01melif\u001b[39;00m \u001b[38;5;28misinstance\u001b[39m(key, \u001b[38;5;28mstr\u001b[39m):\n\u001b[1;32m   2327\u001b[0m \n\u001b[1;32m   2328\u001b[0m     \u001b[38;5;66;03m# we are an actual column\u001b[39;00m\n\u001b[1;32m   2329\u001b[0m     \u001b[38;5;28;01mif\u001b[39;00m key \u001b[38;5;129;01min\u001b[39;00m obj\u001b[38;5;241m.\u001b[39mcolumns:\n",
      "File \u001b[0;32m~/opt/anaconda3/lib/python3.9/site-packages/pandas/core/indexes/numeric.py:279\u001b[0m, in \u001b[0;36mNumericIndex._convert_slice_indexer\u001b[0;34m(self, key, kind)\u001b[0m\n\u001b[1;32m    275\u001b[0m     \u001b[38;5;66;03m# We always treat __getitem__ slicing as label-based\u001b[39;00m\n\u001b[1;32m    276\u001b[0m     \u001b[38;5;66;03m# translate to locations\u001b[39;00m\n\u001b[1;32m    277\u001b[0m     \u001b[38;5;28;01mreturn\u001b[39;00m \u001b[38;5;28mself\u001b[39m\u001b[38;5;241m.\u001b[39mslice_indexer(key\u001b[38;5;241m.\u001b[39mstart, key\u001b[38;5;241m.\u001b[39mstop, key\u001b[38;5;241m.\u001b[39mstep)\n\u001b[0;32m--> 279\u001b[0m \u001b[38;5;28;01mreturn\u001b[39;00m \u001b[38;5;28;43msuper\u001b[39;49m\u001b[43m(\u001b[49m\u001b[43m)\u001b[49m\u001b[38;5;241;43m.\u001b[39;49m\u001b[43m_convert_slice_indexer\u001b[49m\u001b[43m(\u001b[49m\u001b[43mkey\u001b[49m\u001b[43m,\u001b[49m\u001b[43m \u001b[49m\u001b[43mkind\u001b[49m\u001b[38;5;241;43m=\u001b[39;49m\u001b[43mkind\u001b[49m\u001b[43m)\u001b[49m\n",
      "File \u001b[0;32m~/opt/anaconda3/lib/python3.9/site-packages/pandas/core/indexes/base.py:4041\u001b[0m, in \u001b[0;36mIndex._convert_slice_indexer\u001b[0;34m(self, key, kind)\u001b[0m\n\u001b[1;32m   4036\u001b[0m \u001b[38;5;124;03m\"\"\"\u001b[39;00m\n\u001b[1;32m   4037\u001b[0m \u001b[38;5;124;03mcalled from the getitem slicers, validate that we are in fact\u001b[39;00m\n\u001b[1;32m   4038\u001b[0m \u001b[38;5;124;03mintegers\u001b[39;00m\n\u001b[1;32m   4039\u001b[0m \u001b[38;5;124;03m\"\"\"\u001b[39;00m\n\u001b[1;32m   4040\u001b[0m \u001b[38;5;28;01mif\u001b[39;00m \u001b[38;5;28mself\u001b[39m\u001b[38;5;241m.\u001b[39mis_integer() \u001b[38;5;129;01mor\u001b[39;00m is_index_slice:\n\u001b[0;32m-> 4041\u001b[0m     \u001b[38;5;28;43mself\u001b[39;49m\u001b[38;5;241;43m.\u001b[39;49m\u001b[43m_validate_indexer\u001b[49m\u001b[43m(\u001b[49m\u001b[38;5;124;43m\"\u001b[39;49m\u001b[38;5;124;43mslice\u001b[39;49m\u001b[38;5;124;43m\"\u001b[39;49m\u001b[43m,\u001b[49m\u001b[43m \u001b[49m\u001b[43mkey\u001b[49m\u001b[38;5;241;43m.\u001b[39;49m\u001b[43mstart\u001b[49m\u001b[43m,\u001b[49m\u001b[43m \u001b[49m\u001b[38;5;124;43m\"\u001b[39;49m\u001b[38;5;124;43mgetitem\u001b[39;49m\u001b[38;5;124;43m\"\u001b[39;49m\u001b[43m)\u001b[49m\n\u001b[1;32m   4042\u001b[0m     \u001b[38;5;28mself\u001b[39m\u001b[38;5;241m.\u001b[39m_validate_indexer(\u001b[38;5;124m\"\u001b[39m\u001b[38;5;124mslice\u001b[39m\u001b[38;5;124m\"\u001b[39m, key\u001b[38;5;241m.\u001b[39mstop, \u001b[38;5;124m\"\u001b[39m\u001b[38;5;124mgetitem\u001b[39m\u001b[38;5;124m\"\u001b[39m)\n\u001b[1;32m   4043\u001b[0m     \u001b[38;5;28mself\u001b[39m\u001b[38;5;241m.\u001b[39m_validate_indexer(\u001b[38;5;124m\"\u001b[39m\u001b[38;5;124mslice\u001b[39m\u001b[38;5;124m\"\u001b[39m, key\u001b[38;5;241m.\u001b[39mstep, \u001b[38;5;124m\"\u001b[39m\u001b[38;5;124mgetitem\u001b[39m\u001b[38;5;124m\"\u001b[39m)\n",
      "File \u001b[0;32m~/opt/anaconda3/lib/python3.9/site-packages/pandas/core/indexes/base.py:6308\u001b[0m, in \u001b[0;36mIndex._validate_indexer\u001b[0;34m(self, form, key, kind)\u001b[0m\n\u001b[1;32m   6305\u001b[0m \u001b[38;5;28;01massert\u001b[39;00m kind \u001b[38;5;129;01min\u001b[39;00m [\u001b[38;5;124m\"\u001b[39m\u001b[38;5;124mgetitem\u001b[39m\u001b[38;5;124m\"\u001b[39m, \u001b[38;5;124m\"\u001b[39m\u001b[38;5;124miloc\u001b[39m\u001b[38;5;124m\"\u001b[39m]\n\u001b[1;32m   6307\u001b[0m \u001b[38;5;28;01mif\u001b[39;00m key \u001b[38;5;129;01mis\u001b[39;00m \u001b[38;5;129;01mnot\u001b[39;00m \u001b[38;5;28;01mNone\u001b[39;00m \u001b[38;5;129;01mand\u001b[39;00m \u001b[38;5;129;01mnot\u001b[39;00m is_integer(key):\n\u001b[0;32m-> 6308\u001b[0m     \u001b[38;5;28;01mraise\u001b[39;00m \u001b[38;5;28mself\u001b[39m\u001b[38;5;241m.\u001b[39m_invalid_indexer(form, key)\n",
      "\u001b[0;31mTypeError\u001b[0m: cannot do slice indexing on RangeIndex with these indexers [[False  True False False False False False False False False False False\n False False False False False False False False False False False False\n False False False False False False False False False False False False\n False False False False False False False False False False False False\n False False False False False False False False False False False False\n False False False False False False False False False False False False\n False False False False False False False False False False False False\n False False False False False False False False False False False False\n False False False False False False False False False False False False\n False False False False False False False False False False False False\n False False False False False False False False False False False False\n False False False False False False False False False False False False\n False False False False False False False False False False False False\n False False False False False False False False False False False False\n False False False False False False False False False False False False\n False False False False False False False False False False False False\n False False False False False False False False False False False False\n False False False False False False False False False False False False\n False False False False False False False False False False False False\n False False False False False False False False False False False False\n False False False False False False False False False False False False\n False False False False False False False False False False False False\n False False False False False False False False False False False False\n False False False False False False False False False False False False\n False False False False False False False False False False False False\n False False False False False False False False False False False False\n False False False False False False False False False False False False\n False False False False False False False False False False False False\n False False False False False False False False False False False False\n False False False False False False False False False False False False\n False False False False False False False False False False False False\n False False False False False False False False False False False False\n False False False False False False False False False False False False\n False False False False False False False False False False False False\n False False False False False False False False False False False False\n False False False False False False False False False False False False\n False False False False False False False False False False False False\n False False False False False False False False False False False False\n False False False False False False False False False False False False\n False False False False False False False False False False False False\n False False False False False False False False False False False False\n False False False False False False False False False False False False\n False False False False False False False False False False False False\n False False False False False False False False False False False False\n False False False False False False False False False False False False\n False False False False False False False False False False False False\n False False False False False False False False False False False False\n False False False False False False False False False False False False\n False False False False False False False False False False False False\n False False False False False False False False False False False False\n False False False False False False False False False False False False\n False False False]] of type ndarray"
     ]
    }
   ],
   "source": [
    "from scipy.stats import f_oneway\n",
    "# Save the engagement scores for the first 50 episodes\n",
    "first50 = Scooby[Scooby.index 1:50]"
   ]
  },
  {
   "cell_type": "code",
   "execution_count": null,
   "id": "5600b1c8",
   "metadata": {},
   "outputs": [],
   "source": [
    "\n"
   ]
  }
 ],
 "metadata": {
  "kernelspec": {
   "display_name": "Python 3 (ipykernel)",
   "language": "python",
   "name": "python3"
  },
  "language_info": {
   "codemirror_mode": {
    "name": "ipython",
    "version": 3
   },
   "file_extension": ".py",
   "mimetype": "text/x-python",
   "name": "python",
   "nbconvert_exporter": "python",
   "pygments_lexer": "ipython3",
   "version": "3.9.12"
  }
 },
 "nbformat": 4,
 "nbformat_minor": 5
}
