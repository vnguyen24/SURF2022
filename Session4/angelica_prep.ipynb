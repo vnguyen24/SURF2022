{
 "cells": [
  {
   "cell_type": "markdown",
   "id": "638fda9d",
   "metadata": {},
   "source": [
    "To practice performing statistical inference in Python, we begin by importing a 2015 dataset that contains information on rollercoasters in international amusement parks. Take a glimpse at the data using the *head( )* , *tail( )*, or *describe( )* functions to familiarize yourself with the variables."
   ]
  },
  {
   "cell_type": "code",
   "execution_count": 8,
   "id": "f796ee44",
   "metadata": {
    "scrolled": true
   },
   "outputs": [
    {
     "data": {
      "text/html": [
       "<div>\n",
       "<style scoped>\n",
       "    .dataframe tbody tr th:only-of-type {\n",
       "        vertical-align: middle;\n",
       "    }\n",
       "\n",
       "    .dataframe tbody tr th {\n",
       "        vertical-align: top;\n",
       "    }\n",
       "\n",
       "    .dataframe thead th {\n",
       "        text-align: right;\n",
       "    }\n",
       "</style>\n",
       "<table border=\"1\" class=\"dataframe\">\n",
       "  <thead>\n",
       "    <tr style=\"text-align: right;\">\n",
       "      <th></th>\n",
       "      <th>Name</th>\n",
       "      <th>Park</th>\n",
       "      <th>Track</th>\n",
       "      <th>Speed</th>\n",
       "      <th>Height</th>\n",
       "      <th>Drop</th>\n",
       "      <th>Length</th>\n",
       "      <th>Duration</th>\n",
       "      <th>Inversions</th>\n",
       "    </tr>\n",
       "  </thead>\n",
       "  <tbody>\n",
       "    <tr>\n",
       "      <th>236</th>\n",
       "      <td>Thunderbird</td>\n",
       "      <td>Holiday World</td>\n",
       "      <td>Steel</td>\n",
       "      <td>60.0</td>\n",
       "      <td>140.0</td>\n",
       "      <td>NaN</td>\n",
       "      <td>3035.0</td>\n",
       "      <td>78.0</td>\n",
       "      <td>1</td>\n",
       "    </tr>\n",
       "    <tr>\n",
       "      <th>237</th>\n",
       "      <td>Twisted Colossus</td>\n",
       "      <td>Six Flags Magic Mountain</td>\n",
       "      <td>Steel</td>\n",
       "      <td>57.0</td>\n",
       "      <td>121.0</td>\n",
       "      <td>128.0</td>\n",
       "      <td>4990.0</td>\n",
       "      <td>220.0</td>\n",
       "      <td>1</td>\n",
       "    </tr>\n",
       "    <tr>\n",
       "      <th>238</th>\n",
       "      <td>Velikoluksky Miasokombinat</td>\n",
       "      <td>Wonder Island</td>\n",
       "      <td>Steel</td>\n",
       "      <td>62.1</td>\n",
       "      <td>124.7</td>\n",
       "      <td>NaN</td>\n",
       "      <td>3464.6</td>\n",
       "      <td>150.0</td>\n",
       "      <td>1</td>\n",
       "    </tr>\n",
       "    <tr>\n",
       "      <th>239</th>\n",
       "      <td>Wicked Cyclone</td>\n",
       "      <td>Six Flags New England</td>\n",
       "      <td>Steel</td>\n",
       "      <td>55.0</td>\n",
       "      <td>109.0</td>\n",
       "      <td>NaN</td>\n",
       "      <td>3320.0</td>\n",
       "      <td>NaN</td>\n",
       "      <td>1</td>\n",
       "    </tr>\n",
       "    <tr>\n",
       "      <th>240</th>\n",
       "      <td>Zombie Ride</td>\n",
       "      <td>Bosque M‡gico</td>\n",
       "      <td>Steel</td>\n",
       "      <td>62.0</td>\n",
       "      <td>150.0</td>\n",
       "      <td>NaN</td>\n",
       "      <td>863.0</td>\n",
       "      <td>NaN</td>\n",
       "      <td>1</td>\n",
       "    </tr>\n",
       "  </tbody>\n",
       "</table>\n",
       "</div>"
      ],
      "text/plain": [
       "                           Name                      Park  Track  Speed  \\\n",
       "236                 Thunderbird             Holiday World  Steel   60.0   \n",
       "237            Twisted Colossus  Six Flags Magic Mountain  Steel   57.0   \n",
       "238  Velikoluksky Miasokombinat             Wonder Island  Steel   62.1   \n",
       "239              Wicked Cyclone     Six Flags New England  Steel   55.0   \n",
       "240                 Zombie Ride             Bosque M‡gico  Steel   62.0   \n",
       "\n",
       "     Height   Drop  Length  Duration  Inversions  \n",
       "236   140.0    NaN  3035.0      78.0           1  \n",
       "237   121.0  128.0  4990.0     220.0           1  \n",
       "238   124.7    NaN  3464.6     150.0           1  \n",
       "239   109.0    NaN  3320.0       NaN           1  \n",
       "240   150.0    NaN   863.0       NaN           1  "
      ]
     },
     "execution_count": 8,
     "metadata": {},
     "output_type": "execute_result"
    }
   ],
   "source": [
    "# Add libraries\n",
    "import pandas as pd\n",
    "\n",
    "# Import data \n",
    "Coasters = pd.read_csv(\"Coasters_2015.csv\")\n",
    "\n",
    "# Glimpse data\n",
    "Coasters.tail()"
   ]
  },
  {
   "cell_type": "markdown",
   "id": "1511f983",
   "metadata": {},
   "source": [
    "## One-sample t-test\n",
    "\n",
    "We will begin by performing a one-sample t-test. Recall that the purpose of this parametric test is to determine if there is a significant difference between a sample mean and the hypothesized population mean.\n",
    "\n",
    "Lets say we were interested in learning the true average speed of roller coasters in this dataset. Lets begin by finding the mean!"
   ]
  },
  {
   "cell_type": "code",
   "execution_count": 11,
   "id": "70540ab0",
   "metadata": {},
   "outputs": [
    {
     "name": "stdout",
     "output_type": "stream",
     "text": [
      "Mean: 55.350622406639026\n"
     ]
    }
   ],
   "source": [
    "# Add Libraries\n",
    "import numpy as np\n",
    "import pandas as pd\n",
    "from scipy.stats import ttest_1samp\n",
    "\n",
    "# Find mean\n",
    "mean_value = np.mean(Coasters[\"Speed\"])\n",
    "\n",
    "# Print the result\n",
    "print(\"Mean:\", mean_value)"
   ]
  },
  {
   "cell_type": "markdown",
<<<<<<< HEAD
   "id": "ca309eb3",
=======
   "id": "0cb33ce1",
>>>>>>> parent of b7febff (changes made during run thru)
   "metadata": {},
   "source": [
    "Before we can put this mean to the test, let's follow our typical inference procedures and check the conditions. For a one-sample t-test we need to check the independence assumption and the normal population assumption. Our data satisifies the independence assumption because the data arises from a random sample of roller coasters. To\n",
    "\n",
    "To check the normal population assumption, we need to produce a histogram of the variable in question or a Normal probability plot. Since you have learned in previous lessons how to create a histogram, we will use this as an opportunity to teach you how to create a Normal probability plot, aka a Q-Q plot. The option 'plot' is what instructs this method to plot the quantiles within the method probplot( )."
   ]
  },
  {
   "cell_type": "code",
<<<<<<< HEAD
   "execution_count": null,
   "id": "04d78e5f",
   "metadata": {},
   "outputs": [],
   "source": [
    "import statsmodels.api as sm\n",
    "import statsmodels.formula.api as smf\n",
    "\n",
    "fitdc = smf.ols\n",
    "\n",
    "index = list(range(1, len(residuals) + 1))\n",
    "plt.scatter(index, residuals)"
   ]
  },
  {
   "cell_type": "code",
   "execution_count": 32,
   "id": "b016de89",
=======
   "execution_count": 32,
   "id": "d5046a33",
>>>>>>> parent of b7febff (changes made during run thru)
   "metadata": {
    "scrolled": true
   },
   "outputs": [
    {
     "data": {
      "image/png": "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\n",
      "text/plain": [
       "<Figure size 432x288 with 1 Axes>"
      ]
     },
     "metadata": {
      "needs_background": "light"
     },
     "output_type": "display_data"
    }
   ],
   "source": [
    "# Add libraries\n",
    "import matplotlib.pyplot as plt\n",
    "\n",
    "# Add our Q-Q funtion\n",
    "from scipy.stats import probplot\n",
    "from matplotlib import pyplot\n",
    "\n",
    "# Draw the Q-Q plot\n",
    "probplot(Coasters[\"Speed\"], plot = pyplot)\n",
    "\n",
    "# Display the plot\n",
    "plt.show()"
   ]
  },
  {
   "cell_type": "markdown",
   "id": "49be5122",
   "metadata": {},
   "source": [
    "In the Normal probability plot above, we observe some deviation from the best fit line in the upper tail. However, given that this is a rather large sample (n > 50), we are safe to use *t* methods since the data is not extremely skewed. We will, however, still proceed with caution.\n",
    "\n",
    "Roller coaster expert, Biddy Martin, previously stated that roller coasters actually travel at an average speed of 52 mph. Lets put her word to the test and perform a one-sample t-test to determine if this is likely to be true based on our sample."
   ]
  },
  {
   "cell_type": "code",
   "execution_count": 17,
   "id": "f689383f",
   "metadata": {
    "scrolled": true
   },
   "outputs": [
    {
     "name": "stdout",
     "output_type": "stream",
     "text": [
      "P Value: 0.005748417140227706\n",
      "t-test Value: 2.7868265618258343\n"
     ]
    }
   ],
   "source": [
    "# Perform a one-sample t-test using ttest_1samp\n",
    "\n",
    "# Assign the results of our test to two variables\n",
    "t_test_value, p_value = ttest_1samp(Coasters[Speed], 52)\n",
    "\n",
    "# View the results\n",
    "print(\"P Value:\", p_value)\n",
    "print(\"t-test Value:\", t_test_value)"
   ]
  },
  {
   "cell_type": "markdown",
   "id": "20cc1c6e",
   "metadata": {},
   "source": [
    "Great work! We have just performed our first one-sample t-test. Now lets instruct Python to determine for us whether or not the P Value for our t-test is small enough to reject the null hypothesis that the average speed is 52 mph."
   ]
  },
  {
   "cell_type": "code",
   "execution_count": 20,
   "id": "138e61b7",
   "metadata": {},
   "outputs": [
    {
     "name": "stdout",
     "output_type": "stream",
     "text": [
      "Reject the null hypothesis\n"
     ]
    }
   ],
   "source": [
    "# Let's use 0.05 or 5% as the significance level of alpha.\n",
    "if p_value < 0.05:\n",
    "    \n",
    "    print(\"Reject the null hypothesis\")\n",
    "    \n",
    "else:\n",
    "    print(\"Fail to reject the null hypothesis\")"
   ]
  },
  {
   "cell_type": "markdown",
   "id": "0a9bef90",
   "metadata": {},
   "source": [
    "Unfortunately, it appears that Biddy may have been wrong, as we have to reject the null hypothesis that the average speed of a roller coaster is 52 mph at a significant level of 0.05. What a shocker! Biddy usually gets this stuff right. "
   ]
  },
  {
   "cell_type": "code",
   "execution_count": 19,
   "id": "be3c15dc",
   "metadata": {},
   "outputs": [
    {
     "data": {
      "text/plain": [
       "Ttest_1sampResult(statistic=2.7868265618258343, pvalue=0.005748417140227706)"
      ]
     },
     "execution_count": 19,
     "metadata": {},
     "output_type": "execute_result"
    }
   ],
   "source": [
    "# Note: We do not need to assign the output of the function ttest_1samp to two values.\n",
    "# Python automatically outputs our t-test value and p-value.\n",
    "# However, it is good practice to assign these values so we can reuse them later.\n",
    "\n",
    "ttest_1samp(Coasters[Speed], 52)"
   ]
  },
  {
   "cell_type": "markdown",
   "id": "380316a7",
   "metadata": {},
   "source": [
    "## Two-sample t-test\n",
    "\n",
    "Recall that a two-sample t-test is used to determine if there is a significant difference between the sample means of two independent groups. This statistical inference method is also know as the independent samples t-test. Using the same dataset as before, lets see if the mean speed is the same for roller coasters made of wood and steel.\n",
    "\n",
    "As usual, we will start off by adding the libraries and functions we will need to use. Then, we will need to create two new dataframes from our original dataset. This is so *ttest_ind* will be able to easily tell if there is a difference in the mean speed of our two groups: wooden rollercoasters and steel rollercoasters."
   ]
  },
  {
   "cell_type": "code",
   "execution_count": 21,
   "id": "f419958c",
   "metadata": {
    "scrolled": true
   },
   "outputs": [
    {
     "data": {
      "text/html": [
       "<div>\n",
       "<style scoped>\n",
       "    .dataframe tbody tr th:only-of-type {\n",
       "        vertical-align: middle;\n",
       "    }\n",
       "\n",
       "    .dataframe tbody tr th {\n",
       "        vertical-align: top;\n",
       "    }\n",
       "\n",
       "    .dataframe thead th {\n",
       "        text-align: right;\n",
       "    }\n",
       "</style>\n",
       "<table border=\"1\" class=\"dataframe\">\n",
       "  <thead>\n",
       "    <tr style=\"text-align: right;\">\n",
       "      <th></th>\n",
       "      <th>Name</th>\n",
       "      <th>Park</th>\n",
       "      <th>Track</th>\n",
       "      <th>Speed</th>\n",
       "      <th>Height</th>\n",
       "      <th>Drop</th>\n",
       "      <th>Length</th>\n",
       "      <th>Duration</th>\n",
       "      <th>Inversions</th>\n",
       "    </tr>\n",
       "  </thead>\n",
       "  <tbody>\n",
       "    <tr>\n",
       "      <th>11</th>\n",
       "      <td>Son Of Beast</td>\n",
       "      <td>Paramount's Kings Island</td>\n",
       "      <td>Wood</td>\n",
       "      <td>78.4</td>\n",
       "      <td>218.0</td>\n",
       "      <td>214.0</td>\n",
       "      <td>7032.0</td>\n",
       "      <td>NaN</td>\n",
       "      <td>1</td>\n",
       "    </tr>\n",
       "    <tr>\n",
       "      <th>19</th>\n",
       "      <td>Rattler</td>\n",
       "      <td>Six Flags Fiesta Texas</td>\n",
       "      <td>Wood</td>\n",
       "      <td>73.0</td>\n",
       "      <td>179.5</td>\n",
       "      <td>166.5</td>\n",
       "      <td>5080.0</td>\n",
       "      <td>146.0</td>\n",
       "      <td>0</td>\n",
       "    </tr>\n",
       "    <tr>\n",
       "      <th>28</th>\n",
       "      <td>Boss</td>\n",
       "      <td>Six Flags St. Louis</td>\n",
       "      <td>Wood</td>\n",
       "      <td>66.3</td>\n",
       "      <td>122.0</td>\n",
       "      <td>150.0</td>\n",
       "      <td>5051.0</td>\n",
       "      <td>NaN</td>\n",
       "      <td>0</td>\n",
       "    </tr>\n",
       "    <tr>\n",
       "      <th>29</th>\n",
       "      <td>American Eagle</td>\n",
       "      <td>Six Flags Great America</td>\n",
       "      <td>Wood</td>\n",
       "      <td>66.0</td>\n",
       "      <td>127.0</td>\n",
       "      <td>147.0</td>\n",
       "      <td>4650.0</td>\n",
       "      <td>143.0</td>\n",
       "      <td>0</td>\n",
       "    </tr>\n",
       "    <tr>\n",
       "      <th>33</th>\n",
       "      <td>Hercules</td>\n",
       "      <td>Dorney Park</td>\n",
       "      <td>Wood</td>\n",
       "      <td>65.0</td>\n",
       "      <td>95.0</td>\n",
       "      <td>151.0</td>\n",
       "      <td>4000.0</td>\n",
       "      <td>135.0</td>\n",
       "      <td>0</td>\n",
       "    </tr>\n",
       "  </tbody>\n",
       "</table>\n",
       "</div>"
      ],
      "text/plain": [
       "              Name                      Park Track  Speed  Height   Drop  \\\n",
       "11    Son Of Beast  Paramount's Kings Island  Wood   78.4   218.0  214.0   \n",
       "19         Rattler    Six Flags Fiesta Texas  Wood   73.0   179.5  166.5   \n",
       "28            Boss       Six Flags St. Louis  Wood   66.3   122.0  150.0   \n",
       "29  American Eagle   Six Flags Great America  Wood   66.0   127.0  147.0   \n",
       "33        Hercules               Dorney Park  Wood   65.0    95.0  151.0   \n",
       "\n",
       "    Length  Duration  Inversions  \n",
       "11  7032.0       NaN           1  \n",
       "19  5080.0     146.0           0  \n",
       "28  5051.0       NaN           0  \n",
       "29  4650.0     143.0           0  \n",
       "33  4000.0     135.0           0  "
      ]
     },
     "execution_count": 21,
     "metadata": {},
     "output_type": "execute_result"
    }
   ],
   "source": [
    "# Add libraries and functions\n",
    "from scipy.stats import ttest_ind\n",
    "\n",
    "# Separates the data into two new dataframes, where one is only Steel rollercoasters and the other is only Wood\n",
    "steel = Coasters[Coasters.Track == \"Steel\"]\n",
    "wood = Coasters[Coasters.Track == \"Wood\"]\n",
    "\n",
    "# Confirm this for yourself by looking at the first few rows of each dataframe\n",
    "steel.head()\n",
    "wood.head()"
   ]
  },
  {
   "cell_type": "markdown",
   "id": "d3726349",
   "metadata": {},
   "source": [
    "Now that we have completed our set-up, let's check the conditions for inference. For a two-sample t-test, we need to check the randomization condition, independent groups condition, and the nearly normal condition. Again, since this is a random sample of roller coasters, we can satisfy the randomization assumption. Independence is satisified because one roller coaster being made of wood does not impact another roller coaster's likelihood to be made of steel. To test the normality condition, let's produce two Q-Q plots: one for each track type."
   ]
  },
  {
   "cell_type": "code",
   "execution_count": 36,
<<<<<<< HEAD
   "id": "cb548953",
=======
   "id": "f4d641d1",
>>>>>>> parent of b7febff (changes made during run thru)
   "metadata": {},
   "outputs": [
    {
     "data": {
      "image/png": "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\n",
      "text/plain": [
       "<Figure size 432x288 with 1 Axes>"
      ]
     },
     "metadata": {
      "needs_background": "light"
     },
     "output_type": "display_data"
    }
   ],
   "source": [
    "# Draw the Q-Q plot\n",
    "probplot(steel[\"Speed\"], plot = pyplot)\n",
    "\n",
    "# Display the plot\n",
    "plt.show()"
   ]
  },
  {
   "cell_type": "markdown",
<<<<<<< HEAD
   "id": "bb6aa3cd",
=======
   "id": "17aed913",
>>>>>>> parent of b7febff (changes made during run thru)
   "metadata": {},
   "source": [
    "After checking conditions, let's put our data to the test and find out if there is a significant difference between the two track types of roller coasters."
   ]
  },
  {
   "cell_type": "code",
   "execution_count": 29,
   "id": "c761c7e9",
   "metadata": {
    "scrolled": true
   },
   "outputs": [
    {
     "name": "stdout",
     "output_type": "stream",
     "text": [
      "p-values: 0.42908098032852415\n",
      "t-test: -0.7921118189812297\n"
     ]
    }
   ],
   "source": [
    "# Perform two-sample t-test\n",
    "\n",
    "# Assign the results of our test to two variables\n",
    "# IMPORTANT, \"ttest_ind\" requires you to specify a variable within your dataset\n",
    "stat, p = ttest_ind(steel[\"Speed\"], wood[\"Speed\"])\n",
    "\n",
    "# Display the results\n",
    "print(\"p-values:\", p)\n",
    "print(\"t-test:\", stat)"
   ]
  },
  {
   "cell_type": "code",
   "execution_count": 30,
   "id": "439d10ae",
   "metadata": {},
   "outputs": [
    {
     "name": "stdout",
     "output_type": "stream",
     "text": [
      "Fail to reject the null hypothesis\n"
     ]
    }
   ],
   "source": [
    "# Let's use 0.05 or 5% as the significance level of alpha.\n",
    "if p < 0.05:\n",
    "    \n",
    "    print(\"Reject the null hypothesis\")\n",
    "    \n",
    "else:\n",
    "    print(\"Fail to reject the null hypothesis\")"
   ]
  },
  {
   "cell_type": "markdown",
   "id": "487f6cb9",
   "metadata": {},
   "source": [
    "At a significance level of 0.05, we fail to reject the null hypothesis that the speeds of the two different track types of roller coasters are the same. Let's take a look at the actual means of our data and see what we think."
   ]
  },
  {
   "cell_type": "code",
   "execution_count": 34,
   "id": "f0560efd",
   "metadata": {
    "scrolled": true
   },
   "outputs": [
    {
     "name": "stdout",
     "output_type": "stream",
     "text": [
      "54.99811320754719\n"
     ]
    }
   ],
   "source": [
    "# Find the mean speed for steel tracks\n",
    "print(np.mean(steel[\"Speed\"]))"
   ]
  },
  {
   "cell_type": "code",
   "execution_count": 33,
   "id": "e8d89f60",
   "metadata": {},
   "outputs": [
    {
     "name": "stdout",
     "output_type": "stream",
     "text": [
      "57.92758620689655\n"
     ]
    }
   ],
   "source": [
    "# Find the mean speed for wooden tracks\n",
    "print(np.mean(wood[\"Speed\"]))"
   ]
  },
  {
   "cell_type": "markdown",
   "id": "d1a67c16",
   "metadata": {},
   "source": [
    "Some might argue that the difference between the mean speeds is substantial. However, according to our test, we lack sufficient evidence to reject the null hypothesis and state that speed changes depending on track type. Oh well. Maybe with a different sample dataset!"
   ]
  },
  {
   "cell_type": "markdown",
   "id": "d161b4f1",
   "metadata": {},
   "source": [
    "## Paired sample t-test\n",
    "Our next statistical inference task is to complete a paired sample t-test, or a dependent sample t-test, on our Coasters dataset. Remind yourselves that a paired sample t-test checks if the mean difference between two observations of the same group is 0. These tests are particularly useful to determine the impact of a treatment in an experiment.\n",
    "\n",
    "In this example, the data comes from Dr. Chico’s introductory statistics class. Students in the class take two tests over the course of the semester. Dr. Chico gives notoriously difficult exams with the intention of motivating her students to work hard in the class and thus learn as much as possible. Dr. Chico’s theory is that the first test will serve as a “wake up call” for her students, such that when they realize how difficult the class actually is they will be motivated to study harder and earn a higher grade on the second test than they got on the first test.\n",
    "\n",
    "To determine if Dr. Chico's \"wake up call\" truly works, let's perform a paired sample t-test to determine whether or not a student's performance on the second exam is significantly different from their performance on the first exam. \n",
    "\n",
    "https://brendanhcullen.github.io/psy611/labs/lab-9.html#data"
   ]
  },
  {
   "cell_type": "markdown",
   "id": "cd39ad46",
   "metadata": {},
   "source": [
    "Let's begin by importing the data and taking a look at its format."
   ]
  },
  {
   "cell_type": "code",
   "execution_count": 39,
   "id": "5c2663eb",
   "metadata": {},
   "outputs": [
    {
     "data": {
      "text/html": [
       "<div>\n",
       "<style scoped>\n",
       "    .dataframe tbody tr th:only-of-type {\n",
       "        vertical-align: middle;\n",
       "    }\n",
       "\n",
       "    .dataframe tbody tr th {\n",
       "        vertical-align: top;\n",
       "    }\n",
       "\n",
       "    .dataframe thead th {\n",
       "        text-align: right;\n",
       "    }\n",
       "</style>\n",
       "<table border=\"1\" class=\"dataframe\">\n",
       "  <thead>\n",
       "    <tr style=\"text-align: right;\">\n",
       "      <th></th>\n",
       "      <th>id</th>\n",
       "      <th>grade_test1</th>\n",
       "      <th>grade_test2</th>\n",
       "    </tr>\n",
       "  </thead>\n",
       "  <tbody>\n",
       "    <tr>\n",
       "      <th>15</th>\n",
       "      <td>student16</td>\n",
       "      <td>58.7</td>\n",
       "      <td>60.1</td>\n",
       "    </tr>\n",
       "    <tr>\n",
       "      <th>16</th>\n",
       "      <td>student17</td>\n",
       "      <td>50.1</td>\n",
       "      <td>51.7</td>\n",
       "    </tr>\n",
       "    <tr>\n",
       "      <th>17</th>\n",
       "      <td>student18</td>\n",
       "      <td>64.2</td>\n",
       "      <td>65.6</td>\n",
       "    </tr>\n",
       "    <tr>\n",
       "      <th>18</th>\n",
       "      <td>student19</td>\n",
       "      <td>57.4</td>\n",
       "      <td>58.3</td>\n",
       "    </tr>\n",
       "    <tr>\n",
       "      <th>19</th>\n",
       "      <td>student20</td>\n",
       "      <td>57.1</td>\n",
       "      <td>60.1</td>\n",
       "    </tr>\n",
       "  </tbody>\n",
       "</table>\n",
       "</div>"
      ],
      "text/plain": [
       "           id  grade_test1  grade_test2\n",
       "15  student16         58.7         60.1\n",
       "16  student17         50.1         51.7\n",
       "17  student18         64.2         65.6\n",
       "18  student19         57.4         58.3\n",
       "19  student20         57.1         60.1"
      ]
     },
     "execution_count": 39,
     "metadata": {},
     "output_type": "execute_result"
    }
   ],
   "source": [
    "# Import data \n",
    "Chico = pd.read_csv(\"chico_wide.csv\")\n",
    "\n",
    "# Glimpse data\n",
    "Chico.tail()"
   ]
  },
  {
   "cell_type": "markdown",
   "id": "e07e9982",
   "metadata": {},
   "source": [
    "Before we can begin our test, we will need to create two separate sets of data: one with the scores from the first exam and one with the scores from the second exam."
   ]
  },
  {
   "cell_type": "code",
   "execution_count": 44,
   "id": "0defa373",
   "metadata": {},
   "outputs": [],
   "source": [
    "# Scores on the first exam\n",
    "exam1 = Chico['grade_test1']\n",
    "\n",
    "# Scores on the second exam\n",
    "exam2 = Chico['grade_test2']"
   ]
  },
  {
   "cell_type": "markdown",
   "id": "b2fbf20e",
   "metadata": {},
   "source": [
    "Now that we have prepared our data, let's test our null hypothesis that Dr. Chico's theory produces no significant difference in students' performance."
   ]
  },
  {
   "cell_type": "code",
   "execution_count": 47,
   "id": "5329e86f",
   "metadata": {},
   "outputs": [
    {
     "name": "stdout",
     "output_type": "stream",
     "text": [
      "p-values: 3.320670056126948e-06\n",
      "t-test: -6.475436088339379\n"
     ]
    }
   ],
   "source": [
    "# Add method for our paired test\n",
    "from scipy.stats import ttest_rel\n",
    "\n",
    "# Assign the results of our test to two variables\n",
    "stat, p = ttest_rel(exam1, exam2)\n",
    "\n",
    "# Display the results\n",
    "print(\"p-values:\", p)\n",
    "print(\"t-test:\", stat)"
   ]
  },
  {
   "cell_type": "code",
   "execution_count": 48,
   "id": "f41acc80",
   "metadata": {},
   "outputs": [
    {
     "name": "stdout",
     "output_type": "stream",
     "text": [
      "Reject the null hypothesis\n"
     ]
    }
   ],
   "source": [
    "# Let's use 0.05 or 5% as the significance level of alpha.\n",
    "if p < 0.05:\n",
    "    \n",
    "    print(\"Reject the null hypothesis\")\n",
    "    \n",
    "else:\n",
    "    print(\"Fail to reject the null hypothesis\")"
   ]
  },
  {
   "cell_type": "markdown",
   "id": "50f76443",
   "metadata": {},
   "source": [
    "When alpha is equal to 0.05, we reject the null hypothesis that Dr. Chico's theory produces no significant difference in students' performance. Rather, it appears that students performed significantly better on the second exam, which may be a result of Dr. Chico making the first exam particularly challenging. "
   ]
  },
  {
   "cell_type": "markdown",
   "id": "85d94098",
   "metadata": {},
   "source": [
    "## One-way ANOVA\n",
    "\n",
    "In the case where we have two or multiple groups that we would like to compare at the same time, we will want to use ANOVA as our statistical inference test. ANOVA checks for a signficant difference between and within multiple groups, and it can test multiple hypotheses at once. \n",
    "\n",
    "In our example, we will analyze the backpack weight to body weight ratios of students in different years of their undergraduate studies. Our null hypothesis is that their is not a significant difference between these year groups. Let's begin by familiarizing ourselves with the data."
   ]
  },
  {
   "cell_type": "code",
   "execution_count": 98,
   "id": "17f04e18",
   "metadata": {},
   "outputs": [
    {
     "data": {
      "text/html": [
       "<div>\n",
       "<style scoped>\n",
       "    .dataframe tbody tr th:only-of-type {\n",
       "        vertical-align: middle;\n",
       "    }\n",
       "\n",
       "    .dataframe tbody tr th {\n",
       "        vertical-align: top;\n",
       "    }\n",
       "\n",
       "    .dataframe thead th {\n",
       "        text-align: right;\n",
       "    }\n",
       "</style>\n",
       "<table border=\"1\" class=\"dataframe\">\n",
       "  <thead>\n",
       "    <tr style=\"text-align: right;\">\n",
       "      <th></th>\n",
       "      <th>BackpackWeight</th>\n",
       "      <th>BodyWeight</th>\n",
       "      <th>Ratio</th>\n",
       "      <th>BackProblems</th>\n",
       "      <th>Major</th>\n",
       "      <th>Year</th>\n",
       "      <th>Sex</th>\n",
       "      <th>Status</th>\n",
       "      <th>Units</th>\n",
       "    </tr>\n",
       "  </thead>\n",
       "  <tbody>\n",
       "    <tr>\n",
       "      <th>0</th>\n",
       "      <td>9</td>\n",
       "      <td>125</td>\n",
       "      <td>0.072000</td>\n",
       "      <td>1</td>\n",
       "      <td>Bio</td>\n",
       "      <td>3</td>\n",
       "      <td>Female</td>\n",
       "      <td>U</td>\n",
       "      <td>13</td>\n",
       "    </tr>\n",
       "    <tr>\n",
       "      <th>1</th>\n",
       "      <td>8</td>\n",
       "      <td>195</td>\n",
       "      <td>0.041026</td>\n",
       "      <td>0</td>\n",
       "      <td>Philosophy</td>\n",
       "      <td>5</td>\n",
       "      <td>Male</td>\n",
       "      <td>U</td>\n",
       "      <td>12</td>\n",
       "    </tr>\n",
       "    <tr>\n",
       "      <th>2</th>\n",
       "      <td>10</td>\n",
       "      <td>120</td>\n",
       "      <td>0.083333</td>\n",
       "      <td>1</td>\n",
       "      <td>GRC</td>\n",
       "      <td>4</td>\n",
       "      <td>Female</td>\n",
       "      <td>U</td>\n",
       "      <td>14</td>\n",
       "    </tr>\n",
       "    <tr>\n",
       "      <th>3</th>\n",
       "      <td>6</td>\n",
       "      <td>155</td>\n",
       "      <td>0.038710</td>\n",
       "      <td>0</td>\n",
       "      <td>CSC</td>\n",
       "      <td>6</td>\n",
       "      <td>Male</td>\n",
       "      <td>G</td>\n",
       "      <td>0</td>\n",
       "    </tr>\n",
       "    <tr>\n",
       "      <th>4</th>\n",
       "      <td>8</td>\n",
       "      <td>180</td>\n",
       "      <td>0.044444</td>\n",
       "      <td>0</td>\n",
       "      <td>EE</td>\n",
       "      <td>2</td>\n",
       "      <td>Female</td>\n",
       "      <td>U</td>\n",
       "      <td>14</td>\n",
       "    </tr>\n",
       "  </tbody>\n",
       "</table>\n",
       "</div>"
      ],
      "text/plain": [
       "   BackpackWeight  BodyWeight     Ratio  BackProblems       Major  Year  \\\n",
       "0               9         125  0.072000             1         Bio     3   \n",
       "1               8         195  0.041026             0  Philosophy     5   \n",
       "2              10         120  0.083333             1         GRC     4   \n",
       "3               6         155  0.038710             0         CSC     6   \n",
       "4               8         180  0.044444             0          EE     2   \n",
       "\n",
       "      Sex Status  Units  \n",
       "0  Female      U     13  \n",
       "1    Male      U     12  \n",
       "2  Female      U     14  \n",
       "3    Male      G      0  \n",
       "4  Female      U     14  "
      ]
     },
     "execution_count": 98,
     "metadata": {},
     "output_type": "execute_result"
    }
   ],
   "source": [
    "# Import data \n",
    "bp = pd.read_csv(\"Backpack.csv\")\n",
    "\n",
    "# Glimpse data\n",
    "bp.head()"
   ]
  },
  {
   "cell_type": "markdown",
   "id": "aa8a8849",
   "metadata": {},
   "source": [
    "Now that we know what our data looks like, let's restructure it so that we can analyze the ratios of only first years, second years, and third years."
   ]
  },
  {
   "cell_type": "code",
   "execution_count": 95,
   "id": "1c9db722",
   "metadata": {},
   "outputs": [],
   "source": [
    "# Save the data for first years\n",
    "first = bp[bp.Year == 1].filter([\"Ratio\"])\n",
    "\n",
    "# Now for second years\n",
    "second = bp[bp.Year == 2].filter(['Ratio'])\n",
    "\n",
    "# And now for third years\n",
    "third = bp[bp.Year == 3].filter(['Ratio'])"
   ]
  },
  {
   "cell_type": "markdown",
   "id": "f2c5316c",
   "metadata": {},
   "source": [
    "Great work! Since our data is set-up, we can begin our one-way ANOVA test to see if backpack to bodyweight ratio changes depending on a student's year."
   ]
  },
  {
   "cell_type": "code",
   "execution_count": 96,
   "id": "664a45fc",
   "metadata": {},
   "outputs": [
    {
     "name": "stdout",
     "output_type": "stream",
     "text": [
      "p-values: [0.47088435]\n",
      "ANOVA: [0.76355072]\n"
     ]
    }
   ],
   "source": [
    "# Add methods\n",
    "from scipy.stats import f_oneway\n",
    "\n",
    "# Assign the results of our test to two variables\n",
    "stat, p = f_oneway(first, second, third)\n",
    "\n",
    "# Print the results\n",
    "print(\"p-values:\", p)\n",
    "print(\"ANOVA:\", stat)"
   ]
  },
  {
   "cell_type": "code",
   "execution_count": 97,
   "id": "f2f4a4d4",
   "metadata": {},
   "outputs": [
    {
     "name": "stdout",
     "output_type": "stream",
     "text": [
      "Fail to reject the null hypothesis\n"
     ]
    }
   ],
   "source": [
    "# Let's use 0.05 or 5% as the significance level of alpha.\n",
    "if p < 0.05:\n",
    "    \n",
    "    print(\"Reject the null hypothesis\")\n",
    "    \n",
    "else:\n",
    "    print(\"Fail to reject the null hypothesis\")"
   ]
  },
  {
   "cell_type": "markdown",
<<<<<<< HEAD
   "id": "40ac2a63",
=======
   "id": "b89edd68",
>>>>>>> parent of b7febff (changes made during run thru)
   "metadata": {},
   "source": [
    "Just now, we have tested the hypothesis that there is no difference between the mean backpack ratio for students of different years in their undergraduate studies. Our results show us that we fail to reject the null hypothesis at a significance level of 0.05. Meaning, there is no significant difference between the backpack to bodyweight ratios for students of different class years."
   ]
  },
  {
   "cell_type": "code",
   "execution_count": null,
<<<<<<< HEAD
   "id": "b33260c9",
=======
   "id": "4d8fcfa9",
>>>>>>> parent of b7febff (changes made during run thru)
   "metadata": {},
   "outputs": [],
   "source": []
  }
 ],
 "metadata": {
  "kernelspec": {
   "display_name": "Python 3 (ipykernel)",
   "language": "python",
   "name": "python3"
  },
  "language_info": {
   "codemirror_mode": {
    "name": "ipython",
    "version": 3
   },
   "file_extension": ".py",
   "mimetype": "text/x-python",
   "name": "python",
   "nbconvert_exporter": "python",
   "pygments_lexer": "ipython3",
   "version": "3.9.12"
  }
 },
 "nbformat": 4,
 "nbformat_minor": 5
}
