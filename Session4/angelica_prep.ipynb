{
 "cells": [
  {
   "cell_type": "markdown",
   "id": "638fda9d",
   "metadata": {},
   "source": [
    "To practice performing statistical inference in Python, we begin by importing a 2015 dataset that contains information on rollercoasters in international amusement parks. Take a glimpse at the data using the *head( )* , *tail( )*, or *describe( )* functions to familiarize yourself with the variables."
   ]
  },
  {
   "cell_type": "code",
   "execution_count": 16,
   "id": "f796ee44",
   "metadata": {},
   "outputs": [
    {
     "data": {
      "text/html": [
       "<div>\n",
       "<style scoped>\n",
       "    .dataframe tbody tr th:only-of-type {\n",
       "        vertical-align: middle;\n",
       "    }\n",
       "\n",
       "    .dataframe tbody tr th {\n",
       "        vertical-align: top;\n",
       "    }\n",
       "\n",
       "    .dataframe thead th {\n",
       "        text-align: right;\n",
       "    }\n",
       "</style>\n",
       "<table border=\"1\" class=\"dataframe\">\n",
       "  <thead>\n",
       "    <tr style=\"text-align: right;\">\n",
       "      <th></th>\n",
       "      <th>Speed</th>\n",
       "      <th>Height</th>\n",
       "      <th>Drop</th>\n",
       "      <th>Length</th>\n",
       "      <th>Duration</th>\n",
       "      <th>Inversions</th>\n",
       "    </tr>\n",
       "  </thead>\n",
       "  <tbody>\n",
       "    <tr>\n",
       "      <th>count</th>\n",
       "      <td>241.000000</td>\n",
       "      <td>241.000000</td>\n",
       "      <td>118.000000</td>\n",
       "      <td>241.000000</td>\n",
       "      <td>157.000000</td>\n",
       "      <td>241.000000</td>\n",
       "    </tr>\n",
       "    <tr>\n",
       "      <th>mean</th>\n",
       "      <td>55.350622</td>\n",
       "      <td>125.096598</td>\n",
       "      <td>148.613475</td>\n",
       "      <td>2570.072365</td>\n",
       "      <td>123.019108</td>\n",
       "      <td>0.556017</td>\n",
       "    </tr>\n",
       "    <tr>\n",
       "      <th>std</th>\n",
       "      <td>18.664831</td>\n",
       "      <td>70.264668</td>\n",
       "      <td>69.136487</td>\n",
       "      <td>1614.980056</td>\n",
       "      <td>45.087447</td>\n",
       "      <td>0.497886</td>\n",
       "    </tr>\n",
       "    <tr>\n",
       "      <th>min</th>\n",
       "      <td>4.500000</td>\n",
       "      <td>8.000000</td>\n",
       "      <td>47.000000</td>\n",
       "      <td>197.500000</td>\n",
       "      <td>28.000000</td>\n",
       "      <td>0.000000</td>\n",
       "    </tr>\n",
       "    <tr>\n",
       "      <th>25%</th>\n",
       "      <td>45.000000</td>\n",
       "      <td>75.000000</td>\n",
       "      <td>95.000000</td>\n",
       "      <td>1213.900000</td>\n",
       "      <td>90.000000</td>\n",
       "      <td>0.000000</td>\n",
       "    </tr>\n",
       "    <tr>\n",
       "      <th>50%</th>\n",
       "      <td>55.000000</td>\n",
       "      <td>115.000000</td>\n",
       "      <td>141.000000</td>\n",
       "      <td>2423.000000</td>\n",
       "      <td>120.000000</td>\n",
       "      <td>1.000000</td>\n",
       "    </tr>\n",
       "    <tr>\n",
       "      <th>75%</th>\n",
       "      <td>65.300000</td>\n",
       "      <td>155.000000</td>\n",
       "      <td>193.525000</td>\n",
       "      <td>3582.700000</td>\n",
       "      <td>150.000000</td>\n",
       "      <td>1.000000</td>\n",
       "    </tr>\n",
       "    <tr>\n",
       "      <th>max</th>\n",
       "      <td>149.100000</td>\n",
       "      <td>420.000000</td>\n",
       "      <td>400.000000</td>\n",
       "      <td>8133.100000</td>\n",
       "      <td>240.000000</td>\n",
       "      <td>1.000000</td>\n",
       "    </tr>\n",
       "  </tbody>\n",
       "</table>\n",
       "</div>"
      ],
      "text/plain": [
       "            Speed      Height        Drop       Length    Duration  Inversions\n",
       "count  241.000000  241.000000  118.000000   241.000000  157.000000  241.000000\n",
       "mean    55.350622  125.096598  148.613475  2570.072365  123.019108    0.556017\n",
       "std     18.664831   70.264668   69.136487  1614.980056   45.087447    0.497886\n",
       "min      4.500000    8.000000   47.000000   197.500000   28.000000    0.000000\n",
       "25%     45.000000   75.000000   95.000000  1213.900000   90.000000    0.000000\n",
       "50%     55.000000  115.000000  141.000000  2423.000000  120.000000    1.000000\n",
       "75%     65.300000  155.000000  193.525000  3582.700000  150.000000    1.000000\n",
       "max    149.100000  420.000000  400.000000  8133.100000  240.000000    1.000000"
      ]
     },
     "execution_count": 16,
     "metadata": {},
     "output_type": "execute_result"
    }
   ],
   "source": [
    "# Add libraries\n",
    "import pandas as pd\n",
    "\n",
    "# Import data \n",
    "Coasters = pd.read_csv('Coasters_2015.csv')\n",
    "\n",
    "# Glimpse data\n",
    "Coasters.describe()"
   ]
  },
  {
   "cell_type": "code",
   "execution_count": null,
   "id": "db706c1a",
   "metadata": {},
   "outputs": [],
   "source": []
  },
  {
   "cell_type": "markdown",
   "id": "1803d3df",
   "metadata": {},
   "source": [
    "## One-sample t-test\n",
    "\n",
    "We will begin by performing a one-sample t-test. Recall that the purpose of this parametric test is to determine if there is a significant difference between a sample mean and the hypothesized population mean.\n",
    "\n",
    "Let's say we were interested in learning the true average speed of roller coasters in this dataset. Let's begin by finding the mean!"
   ]
  },
  {
   "cell_type": "code",
   "execution_count": 3,
   "id": "70540ab0",
   "metadata": {},
   "outputs": [
    {
     "name": "stdout",
     "output_type": "stream",
     "text": [
      "Mean: 55.350622406639026\n"
     ]
    }
   ],
   "source": [
    "# Add Libraries\n",
    "import numpy as np\n",
    "import pandas as pd\n",
    "from scipy.stats import ttest_1samp\n",
    "\n",
    "# Find mean\n",
    "mean_value = np.mean(Coasters['Speed'])\n",
    "\n",
    "print(\"Mean:\", mean_value)"
   ]
  },
  {
   "cell_type": "markdown",
   "id": "49be5122",
   "metadata": {},
   "source": [
    "Roller coaster expert, Biddy Martin, previously stated that roller coasters actually travel at an average speed of 52 mph. Let's put her word to the test and perform a one-sample t-test to determine if this is likely to be true based on our sample."
   ]
  },
  {
   "cell_type": "code",
   "execution_count": 17,
   "id": "f689383f",
   "metadata": {
    "scrolled": true
   },
   "outputs": [
    {
     "name": "stdout",
     "output_type": "stream",
     "text": [
      "P Value: 0.005748417140227706\n",
      "t-test Value: 2.7868265618258343\n"
     ]
    }
   ],
   "source": [
    "# Perform a one-sample t-test using 'ttest_1samp'\n",
    "\n",
    "# Assign the results of our test to two variables\n",
    "t_test_value, p_value = ttest_1samp(Coasters['Speed'], 52)\n",
    "\n",
    "# View the results\n",
    "print(\"P Value:\", p_value)\n",
    "print(\"t-test Value:\", t_test_value)"
   ]
  },
  {
   "cell_type": "markdown",
   "id": "20cc1c6e",
   "metadata": {},
   "source": [
    "Great work! We have just performed our first one-sample t-test. Now let's instruct Python to determine for us whether or not the P Value for our t-test is small enough to reject the null hypothesis that the average speed is 52 mph."
   ]
  },
  {
   "cell_type": "code",
   "execution_count": 20,
   "id": "138e61b7",
   "metadata": {},
   "outputs": [
    {
     "name": "stdout",
     "output_type": "stream",
     "text": [
      "Reject the null hypothesis\n"
     ]
    }
   ],
   "source": [
    "# 0.05 or 5% is significance value of alpha.\n",
    "if p_value < 0.05:\n",
    "    \n",
    "    print(\"Reject the null hypothesis\")\n",
    "    \n",
    "else:\n",
    "    print(\"Fail to reject the null hypothesis\")"
   ]
  },
  {
   "cell_type": "markdown",
   "id": "0a9bef90",
   "metadata": {},
   "source": [
    "Unfortunately, it appears that Biddy may have been wrong, as we have to reject the null hypothesis that the average speed of a roller coaster is 52 mph. What a shocker! Biddy usually gets this stuff right. "
   ]
  },
  {
   "cell_type": "code",
   "execution_count": 19,
   "id": "be3c15dc",
   "metadata": {},
   "outputs": [
    {
     "data": {
      "text/plain": [
       "Ttest_1sampResult(statistic=2.7868265618258343, pvalue=0.005748417140227706)"
      ]
     },
     "execution_count": 19,
     "metadata": {},
     "output_type": "execute_result"
    }
   ],
   "source": [
    "# Note: We do not need to assign the output of the function 'ttest_1samp' to two values.\n",
    "# Python automatically outputs our t-test value and p-value.\n",
    "# However, it is good practice to assign these values so we can reuse them later.\n",
    "\n",
    "ttest_1samp(Coasters['Speed'], 52)"
   ]
  },
  {
   "cell_type": "markdown",
   "id": "380316a7",
   "metadata": {},
   "source": [
    "## Two-sample t-test\n",
    "\n",
    "Recall that a two-sample t-test is used to determine if there is a significant difference between the sample "
   ]
  }
 ],
 "metadata": {
  "kernelspec": {
   "display_name": "Python 3 (ipykernel)",
   "language": "python",
   "name": "python3"
  },
  "language_info": {
   "codemirror_mode": {
    "name": "ipython",
    "version": 3
   },
   "file_extension": ".py",
   "mimetype": "text/x-python",
   "name": "python",
   "nbconvert_exporter": "python",
   "pygments_lexer": "ipython3",
   "version": "3.9.12"
  }
 },
 "nbformat": 4,
 "nbformat_minor": 5
}
