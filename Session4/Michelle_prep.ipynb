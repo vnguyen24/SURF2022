{
 "cells": [
  {
   "cell_type": "markdown",
   "id": "4aafcedc",
   "metadata": {},
   "source": [
    "1.  Let's suppose that after n=100 flips, we get h=61 heads. We choose a significance level of 0.05: is the coin fair or not? Our null hypothesis is: the coin is fair (q=1/2). We set these variables:"
   ]
  },
  {
   "cell_type": "code",
   "execution_count": 2,
   "id": "e2764e85",
   "metadata": {},
   "outputs": [],
   "source": [
    "import numpy as np\n",
    "import scipy.stats as st\n",
    "import scipy.special as sp\n",
    "n = 100  # number of coin flips\n",
    "h = 61  # number of heads\n",
    "q = 0.5  # null-hypothesis of fair coin"
   ]
  },
  {
   "cell_type": "markdown",
   "id": "41596261",
   "metadata": {},
   "source": [
    "2. Let's compute the z-score, which is defined by the following formula (xbar is the estimated average of the distribution). We will explain this formula in the next section, How it works..."
   ]
  },
  {
   "cell_type": "code",
   "execution_count": 5,
   "id": "3e0c3852",
   "metadata": {},
   "outputs": [
    {
     "name": "stdout",
     "output_type": "stream",
     "text": [
      "2.1999999999999997\n"
     ]
    }
   ],
   "source": [
    "xbar = float(h) / n\n",
    "z = (xbar - q) * np.sqrt(n / (q * (1 - q)))\n",
    "# We don't want to display more than 4 decimals.\n",
    "print(z)"
   ]
  },
  {
   "cell_type": "markdown",
   "id": "7fc9aac9",
   "metadata": {},
   "source": [
    "3. Now, from the z-score, we can compute the p-value as follows:"
   ]
  },
  {
   "cell_type": "code",
   "execution_count": 4,
   "id": "20ce258c",
   "metadata": {},
   "outputs": [
    {
     "name": "stdout",
     "output_type": "stream",
     "text": [
      "0.02780689502699718\n"
     ]
    }
   ],
   "source": [
    "pval = 2 * (1 - st.norm.cdf(z))\n",
    "print(pval)"
   ]
  },
  {
   "cell_type": "markdown",
   "id": "3062799c",
   "metadata": {},
   "source": [
    "4. This p-value is less than 0.05, so we reject the null hypothesis and conclude that the coin is probably not fair."
   ]
  },
  {
   "cell_type": "code",
   "execution_count": 6,
   "id": "b3ceb693",
   "metadata": {},
   "outputs": [],
   "source": [
    "import scipy.stats as stats\n",
    "import pandas as pd\n"
   ]
  },
  {
   "cell_type": "code",
   "execution_count": 7,
   "id": "77e85855",
   "metadata": {},
   "outputs": [
    {
     "data": {
      "text/html": [
       "<div>\n",
       "<style scoped>\n",
       "    .dataframe tbody tr th:only-of-type {\n",
       "        vertical-align: middle;\n",
       "    }\n",
       "\n",
       "    .dataframe tbody tr th {\n",
       "        vertical-align: top;\n",
       "    }\n",
       "\n",
       "    .dataframe thead th {\n",
       "        text-align: right;\n",
       "    }\n",
       "</style>\n",
       "<table border=\"1\" class=\"dataframe\">\n",
       "  <thead>\n",
       "    <tr style=\"text-align: right;\">\n",
       "      <th></th>\n",
       "      <th>Unnamed: 0</th>\n",
       "      <th>studyName</th>\n",
       "      <th>Sample Number</th>\n",
       "      <th>Species</th>\n",
       "      <th>Region</th>\n",
       "      <th>Island</th>\n",
       "      <th>Stage</th>\n",
       "      <th>Individual ID</th>\n",
       "      <th>Clutch Completion</th>\n",
       "      <th>Date Egg</th>\n",
       "      <th>Culmen Length (mm)</th>\n",
       "      <th>Culmen Depth (mm)</th>\n",
       "      <th>Flipper Length (mm)</th>\n",
       "      <th>Body Mass (g)</th>\n",
       "      <th>Sex</th>\n",
       "      <th>Delta 15 N (o/oo)</th>\n",
       "      <th>Delta 13 C (o/oo)</th>\n",
       "      <th>Comments</th>\n",
       "    </tr>\n",
       "  </thead>\n",
       "  <tbody>\n",
       "    <tr>\n",
       "      <th>0</th>\n",
       "      <td>0</td>\n",
       "      <td>PAL0708</td>\n",
       "      <td>1</td>\n",
       "      <td>Adelie</td>\n",
       "      <td>Anvers</td>\n",
       "      <td>Torgersen</td>\n",
       "      <td>Adult, 1 Egg Stage</td>\n",
       "      <td>N1A1</td>\n",
       "      <td>Yes</td>\n",
       "      <td>11/11/07</td>\n",
       "      <td>39.1</td>\n",
       "      <td>18.7</td>\n",
       "      <td>181.0</td>\n",
       "      <td>3750.0</td>\n",
       "      <td>MALE</td>\n",
       "      <td>NaN</td>\n",
       "      <td>NaN</td>\n",
       "      <td>Not enough blood for isotopes.</td>\n",
       "    </tr>\n",
       "    <tr>\n",
       "      <th>1</th>\n",
       "      <td>1</td>\n",
       "      <td>PAL0708</td>\n",
       "      <td>2</td>\n",
       "      <td>Adelie</td>\n",
       "      <td>Anvers</td>\n",
       "      <td>Torgersen</td>\n",
       "      <td>Adult, 1 Egg Stage</td>\n",
       "      <td>N1A2</td>\n",
       "      <td>Yes</td>\n",
       "      <td>11/11/07</td>\n",
       "      <td>39.5</td>\n",
       "      <td>17.4</td>\n",
       "      <td>186.0</td>\n",
       "      <td>3800.0</td>\n",
       "      <td>FEMALE</td>\n",
       "      <td>8.94956</td>\n",
       "      <td>-24.69454</td>\n",
       "      <td>NaN</td>\n",
       "    </tr>\n",
       "    <tr>\n",
       "      <th>2</th>\n",
       "      <td>2</td>\n",
       "      <td>PAL0708</td>\n",
       "      <td>3</td>\n",
       "      <td>Adelie</td>\n",
       "      <td>Anvers</td>\n",
       "      <td>Torgersen</td>\n",
       "      <td>Adult, 1 Egg Stage</td>\n",
       "      <td>N2A1</td>\n",
       "      <td>Yes</td>\n",
       "      <td>11/16/07</td>\n",
       "      <td>40.3</td>\n",
       "      <td>18.0</td>\n",
       "      <td>195.0</td>\n",
       "      <td>3250.0</td>\n",
       "      <td>FEMALE</td>\n",
       "      <td>8.36821</td>\n",
       "      <td>-25.33302</td>\n",
       "      <td>NaN</td>\n",
       "    </tr>\n",
       "    <tr>\n",
       "      <th>3</th>\n",
       "      <td>4</td>\n",
       "      <td>PAL0708</td>\n",
       "      <td>5</td>\n",
       "      <td>Adelie</td>\n",
       "      <td>Anvers</td>\n",
       "      <td>Torgersen</td>\n",
       "      <td>Adult, 1 Egg Stage</td>\n",
       "      <td>N3A1</td>\n",
       "      <td>Yes</td>\n",
       "      <td>11/16/07</td>\n",
       "      <td>36.7</td>\n",
       "      <td>19.3</td>\n",
       "      <td>193.0</td>\n",
       "      <td>3450.0</td>\n",
       "      <td>FEMALE</td>\n",
       "      <td>8.76651</td>\n",
       "      <td>-25.32426</td>\n",
       "      <td>NaN</td>\n",
       "    </tr>\n",
       "    <tr>\n",
       "      <th>4</th>\n",
       "      <td>5</td>\n",
       "      <td>PAL0708</td>\n",
       "      <td>6</td>\n",
       "      <td>Adelie</td>\n",
       "      <td>Anvers</td>\n",
       "      <td>Torgersen</td>\n",
       "      <td>Adult, 1 Egg Stage</td>\n",
       "      <td>N3A2</td>\n",
       "      <td>Yes</td>\n",
       "      <td>11/16/07</td>\n",
       "      <td>39.3</td>\n",
       "      <td>20.6</td>\n",
       "      <td>190.0</td>\n",
       "      <td>3650.0</td>\n",
       "      <td>MALE</td>\n",
       "      <td>8.66496</td>\n",
       "      <td>-25.29805</td>\n",
       "      <td>NaN</td>\n",
       "    </tr>\n",
       "  </tbody>\n",
       "</table>\n",
       "</div>"
      ],
      "text/plain": [
       "   Unnamed: 0 studyName  Sample Number Species  Region     Island  \\\n",
       "0           0   PAL0708              1  Adelie  Anvers  Torgersen   \n",
       "1           1   PAL0708              2  Adelie  Anvers  Torgersen   \n",
       "2           2   PAL0708              3  Adelie  Anvers  Torgersen   \n",
       "3           4   PAL0708              5  Adelie  Anvers  Torgersen   \n",
       "4           5   PAL0708              6  Adelie  Anvers  Torgersen   \n",
       "\n",
       "                Stage Individual ID Clutch Completion  Date Egg  \\\n",
       "0  Adult, 1 Egg Stage          N1A1               Yes  11/11/07   \n",
       "1  Adult, 1 Egg Stage          N1A2               Yes  11/11/07   \n",
       "2  Adult, 1 Egg Stage          N2A1               Yes  11/16/07   \n",
       "3  Adult, 1 Egg Stage          N3A1               Yes  11/16/07   \n",
       "4  Adult, 1 Egg Stage          N3A2               Yes  11/16/07   \n",
       "\n",
       "   Culmen Length (mm)  Culmen Depth (mm)  Flipper Length (mm)  Body Mass (g)  \\\n",
       "0                39.1               18.7                181.0         3750.0   \n",
       "1                39.5               17.4                186.0         3800.0   \n",
       "2                40.3               18.0                195.0         3250.0   \n",
       "3                36.7               19.3                193.0         3450.0   \n",
       "4                39.3               20.6                190.0         3650.0   \n",
       "\n",
       "      Sex  Delta 15 N (o/oo)  Delta 13 C (o/oo)  \\\n",
       "0    MALE                NaN                NaN   \n",
       "1  FEMALE            8.94956          -24.69454   \n",
       "2  FEMALE            8.36821          -25.33302   \n",
       "3  FEMALE            8.76651          -25.32426   \n",
       "4    MALE            8.66496          -25.29805   \n",
       "\n",
       "                         Comments  \n",
       "0  Not enough blood for isotopes.  \n",
       "1                             NaN  \n",
       "2                             NaN  \n",
       "3                             NaN  \n",
       "4                             NaN  "
      ]
     },
     "execution_count": 7,
     "metadata": {},
     "output_type": "execute_result"
    }
   ],
   "source": [
    "penguins = pd.read_csv(\"penguins_wrangled.csv\")\n",
    "penguins.head()"
   ]
  },
  {
   "cell_type": "markdown",
   "id": "8758e8e8",
   "metadata": {},
   "source": [
    "* h0 : µ = 45 -> the mean culmen length is 45 mm\n",
    "* ha : µ ≠ 45 -> the mean culmen length is not 45 mm"
   ]
  },
  {
   "cell_type": "code",
   "execution_count": 18,
   "id": "8ba157c5",
   "metadata": {},
   "outputs": [],
   "source": [
    "t_test, p_value = stats.ttest_1samp(penguins[\"Culmen Length (mm)\"],45)"
   ]
  },
  {
   "cell_type": "code",
   "execution_count": 19,
   "id": "e5fbf19e",
   "metadata": {},
   "outputs": [
    {
     "name": "stdout",
     "output_type": "stream",
     "text": [
      "-3.3609291383431597\n"
     ]
    }
   ],
   "source": [
    "print(t_test)"
   ]
  },
  {
   "cell_type": "code",
   "execution_count": 20,
   "id": "0d2d1147",
   "metadata": {},
   "outputs": [
    {
     "name": "stdout",
     "output_type": "stream",
     "text": [
      "0.0008673540360749943\n"
     ]
    }
   ],
   "source": [
    "print(p_value)"
   ]
  },
  {
   "cell_type": "markdown",
   "id": "cf9e411f",
   "metadata": {},
   "source": [
    "as the pvalue is less than 0.05 we have enough evidence to reject the null hypothesis"
   ]
  },
  {
   "cell_type": "code",
   "execution_count": 9,
   "id": "77d9bd22",
   "metadata": {},
   "outputs": [
    {
     "name": "stdout",
     "output_type": "stream",
     "text": [
      "Unnamed: 0              172.303303\n",
      "Sample Number            63.645646\n",
      "Culmen Length (mm)       43.992793\n",
      "Culmen Depth (mm)        17.164865\n",
      "Flipper Length (mm)     200.966967\n",
      "Body Mass (g)          4207.057057\n",
      "Delta 15 N (o/oo)         8.739944\n",
      "Delta 13 C (o/oo)       -25.682842\n",
      "dtype: float64\n"
     ]
    }
   ],
   "source": [
    "print(penguins.mean(numeric_only = True))"
   ]
  },
  {
   "cell_type": "code",
   "execution_count": 24,
   "id": "3be1e7ab",
   "metadata": {},
   "outputs": [],
   "source": [
    "std_penguins =penguins[\"Culmen Length (mm)\"].std()"
   ]
  },
  {
   "cell_type": "code",
   "execution_count": 33,
   "id": "7851b979",
   "metadata": {},
   "outputs": [
    {
     "data": {
      "text/html": [
       "<div>\n",
       "<style scoped>\n",
       "    .dataframe tbody tr th:only-of-type {\n",
       "        vertical-align: middle;\n",
       "    }\n",
       "\n",
       "    .dataframe tbody tr th {\n",
       "        vertical-align: top;\n",
       "    }\n",
       "\n",
       "    .dataframe thead th {\n",
       "        text-align: right;\n",
       "    }\n",
       "</style>\n",
       "<table border=\"1\" class=\"dataframe\">\n",
       "  <thead>\n",
       "    <tr style=\"text-align: right;\">\n",
       "      <th></th>\n",
       "      <th>Unnamed: 0</th>\n",
       "      <th>Sample Number</th>\n",
       "      <th>Culmen Length (mm)</th>\n",
       "      <th>Culmen Depth (mm)</th>\n",
       "      <th>Flipper Length (mm)</th>\n",
       "      <th>Body Mass (g)</th>\n",
       "      <th>Delta 15 N (o/oo)</th>\n",
       "      <th>Delta 13 C (o/oo)</th>\n",
       "    </tr>\n",
       "  </thead>\n",
       "  <tbody>\n",
       "    <tr>\n",
       "      <th>count</th>\n",
       "      <td>333.000000</td>\n",
       "      <td>333.000000</td>\n",
       "      <td>333.000000</td>\n",
       "      <td>333.000000</td>\n",
       "      <td>333.000000</td>\n",
       "      <td>333.000000</td>\n",
       "      <td>324.000000</td>\n",
       "      <td>325.000000</td>\n",
       "    </tr>\n",
       "    <tr>\n",
       "      <th>mean</th>\n",
       "      <td>172.303303</td>\n",
       "      <td>63.645646</td>\n",
       "      <td>43.992793</td>\n",
       "      <td>17.164865</td>\n",
       "      <td>200.966967</td>\n",
       "      <td>4207.057057</td>\n",
       "      <td>8.739944</td>\n",
       "      <td>-25.682842</td>\n",
       "    </tr>\n",
       "    <tr>\n",
       "      <th>std</th>\n",
       "      <td>97.346548</td>\n",
       "      <td>40.201308</td>\n",
       "      <td>5.468668</td>\n",
       "      <td>1.969235</td>\n",
       "      <td>14.015765</td>\n",
       "      <td>805.215802</td>\n",
       "      <td>0.552073</td>\n",
       "      <td>0.796629</td>\n",
       "    </tr>\n",
       "    <tr>\n",
       "      <th>min</th>\n",
       "      <td>0.000000</td>\n",
       "      <td>1.000000</td>\n",
       "      <td>32.100000</td>\n",
       "      <td>13.100000</td>\n",
       "      <td>172.000000</td>\n",
       "      <td>2700.000000</td>\n",
       "      <td>7.632200</td>\n",
       "      <td>-27.018540</td>\n",
       "    </tr>\n",
       "    <tr>\n",
       "      <th>25%</th>\n",
       "      <td>89.000000</td>\n",
       "      <td>30.000000</td>\n",
       "      <td>39.500000</td>\n",
       "      <td>15.600000</td>\n",
       "      <td>190.000000</td>\n",
       "      <td>3550.000000</td>\n",
       "      <td>8.304440</td>\n",
       "      <td>-26.326010</td>\n",
       "    </tr>\n",
       "    <tr>\n",
       "      <th>50%</th>\n",
       "      <td>172.000000</td>\n",
       "      <td>58.000000</td>\n",
       "      <td>44.500000</td>\n",
       "      <td>17.300000</td>\n",
       "      <td>197.000000</td>\n",
       "      <td>4050.000000</td>\n",
       "      <td>8.658585</td>\n",
       "      <td>-25.833520</td>\n",
       "    </tr>\n",
       "    <tr>\n",
       "      <th>75%</th>\n",
       "      <td>256.000000</td>\n",
       "      <td>95.000000</td>\n",
       "      <td>48.600000</td>\n",
       "      <td>18.700000</td>\n",
       "      <td>213.000000</td>\n",
       "      <td>4775.000000</td>\n",
       "      <td>9.181477</td>\n",
       "      <td>-25.041690</td>\n",
       "    </tr>\n",
       "    <tr>\n",
       "      <th>max</th>\n",
       "      <td>343.000000</td>\n",
       "      <td>152.000000</td>\n",
       "      <td>59.600000</td>\n",
       "      <td>21.500000</td>\n",
       "      <td>231.000000</td>\n",
       "      <td>6300.000000</td>\n",
       "      <td>10.025440</td>\n",
       "      <td>-23.787670</td>\n",
       "    </tr>\n",
       "  </tbody>\n",
       "</table>\n",
       "</div>"
      ],
      "text/plain": [
       "       Unnamed: 0  Sample Number  Culmen Length (mm)  Culmen Depth (mm)  \\\n",
       "count  333.000000     333.000000          333.000000         333.000000   \n",
       "mean   172.303303      63.645646           43.992793          17.164865   \n",
       "std     97.346548      40.201308            5.468668           1.969235   \n",
       "min      0.000000       1.000000           32.100000          13.100000   \n",
       "25%     89.000000      30.000000           39.500000          15.600000   \n",
       "50%    172.000000      58.000000           44.500000          17.300000   \n",
       "75%    256.000000      95.000000           48.600000          18.700000   \n",
       "max    343.000000     152.000000           59.600000          21.500000   \n",
       "\n",
       "       Flipper Length (mm)  Body Mass (g)  Delta 15 N (o/oo)  \\\n",
       "count           333.000000     333.000000         324.000000   \n",
       "mean            200.966967    4207.057057           8.739944   \n",
       "std              14.015765     805.215802           0.552073   \n",
       "min             172.000000    2700.000000           7.632200   \n",
       "25%             190.000000    3550.000000           8.304440   \n",
       "50%             197.000000    4050.000000           8.658585   \n",
       "75%             213.000000    4775.000000           9.181477   \n",
       "max             231.000000    6300.000000          10.025440   \n",
       "\n",
       "       Delta 13 C (o/oo)  \n",
       "count         325.000000  \n",
       "mean          -25.682842  \n",
       "std             0.796629  \n",
       "min           -27.018540  \n",
       "25%           -26.326010  \n",
       "50%           -25.833520  \n",
       "75%           -25.041690  \n",
       "max           -23.787670  "
      ]
     },
     "execution_count": 33,
     "metadata": {},
     "output_type": "execute_result"
    }
   ],
   "source": [
    "penguins.describe()"
   ]
  },
  {
   "cell_type": "markdown",
   "id": "f8e3f56f",
   "metadata": {},
   "source": [
    "### Confidence Interval for Means"
   ]
  },
  {
   "cell_type": "code",
   "execution_count": 39,
   "id": "9cb550b7",
   "metadata": {},
   "outputs": [
    {
     "name": "stdout",
     "output_type": "stream",
     "text": [
      "(43.412635682027954, 44.587364317972046)\n"
     ]
    }
   ],
   "source": [
    "import numpy as np\n",
    "ci_one = stats.norm.interval(0.95, loc=44,scale=std_penguins/np.sqrt(333))\n",
    "print(ci_one)"
   ]
  },
  {
   "cell_type": "code",
   "execution_count": 38,
   "id": "965f6083",
   "metadata": {},
   "outputs": [
    {
     "name": "stdout",
     "output_type": "stream",
     "text": [
      "(33.28160700501643, 54.71839299498357)\n"
     ]
    }
   ],
   "source": [
    "# this is the one most ppl used\n",
    "ci_one = stats.norm.interval(0.95, loc=44,scale=std_penguins)\n",
    "print(ci_one)"
   ]
  },
  {
   "cell_type": "code",
   "execution_count": 41,
   "id": "1680f24e",
   "metadata": {},
   "outputs": [
    {
     "data": {
      "text/plain": [
       "(33.28160700501643, 54.71839299498357)"
      ]
     },
     "execution_count": 41,
     "metadata": {},
     "output_type": "execute_result"
    }
   ],
   "source": [
    "st.norm.interval(alpha=0.95, loc=44, scale=std_penguins)"
   ]
  },
  {
   "cell_type": "markdown",
   "id": "dd29b1d9",
   "metadata": {},
   "source": [
    "### The t distribution"
   ]
  },
  {
   "cell_type": "code",
   "execution_count": 46,
   "id": "176965dd",
   "metadata": {},
   "outputs": [],
   "source": [
    "df = np.array([10, 20, 30, 40])"
   ]
  },
  {
   "cell_type": "code",
   "execution_count": 47,
   "id": "35385261",
   "metadata": {},
   "outputs": [
    {
     "data": {
      "text/plain": [
       "array([2.22813885, 2.08596345, 2.04227246, 2.02107538])"
      ]
     },
     "execution_count": 47,
     "metadata": {},
     "output_type": "execute_result"
    }
   ],
   "source": [
    "# 0.975 quantiles for specified dataframe values\n",
    "stats.t.ppf(0.975, df)"
   ]
  },
  {
   "cell_type": "code",
   "execution_count": 49,
   "id": "5ab98a40",
   "metadata": {},
   "outputs": [
    {
     "name": "stdout",
     "output_type": "stream",
     "text": [
      "0.974999999443306\n"
     ]
    }
   ],
   "source": [
    "# cumulative probability at t = 2.02107538 when culmenlength = 40\n",
    "print(stats.t.cdf(2.02107538, 40))"
   ]
  },
  {
   "cell_type": "code",
   "execution_count": 64,
   "id": "82f59b3c",
   "metadata": {},
   "outputs": [],
   "source": [
    "coasters = pd.read_csv(\"Coasters_2015.csv\")"
   ]
  },
  {
   "cell_type": "markdown",
   "id": "49013ce9",
   "metadata": {},
   "source": [
    "### One-sample proportion z-test"
   ]
  },
  {
   "cell_type": "code",
   "execution_count": 65,
   "id": "47e8cdce",
   "metadata": {},
   "outputs": [
    {
     "data": {
      "text/html": [
       "<div>\n",
       "<style scoped>\n",
       "    .dataframe tbody tr th:only-of-type {\n",
       "        vertical-align: middle;\n",
       "    }\n",
       "\n",
       "    .dataframe tbody tr th {\n",
       "        vertical-align: top;\n",
       "    }\n",
       "\n",
       "    .dataframe thead th {\n",
       "        text-align: right;\n",
       "    }\n",
       "</style>\n",
       "<table border=\"1\" class=\"dataframe\">\n",
       "  <thead>\n",
       "    <tr style=\"text-align: right;\">\n",
       "      <th></th>\n",
       "      <th>Name</th>\n",
       "      <th>Park</th>\n",
       "      <th>Track</th>\n",
       "      <th>Speed</th>\n",
       "      <th>Height</th>\n",
       "      <th>Drop</th>\n",
       "      <th>Length</th>\n",
       "      <th>Duration</th>\n",
       "      <th>Inversions</th>\n",
       "    </tr>\n",
       "  </thead>\n",
       "  <tbody>\n",
       "    <tr>\n",
       "      <th>0</th>\n",
       "      <td>Top Thrill Dragster</td>\n",
       "      <td>Cedar Point</td>\n",
       "      <td>Steel</td>\n",
       "      <td>120.0</td>\n",
       "      <td>420.0</td>\n",
       "      <td>400.0</td>\n",
       "      <td>2800.0</td>\n",
       "      <td>NaN</td>\n",
       "      <td>0</td>\n",
       "    </tr>\n",
       "    <tr>\n",
       "      <th>1</th>\n",
       "      <td>Superman The Escap</td>\n",
       "      <td>Six Flags Magic Mountain</td>\n",
       "      <td>Steel</td>\n",
       "      <td>100.0</td>\n",
       "      <td>415.0</td>\n",
       "      <td>328.1</td>\n",
       "      <td>1235.0</td>\n",
       "      <td>NaN</td>\n",
       "      <td>0</td>\n",
       "    </tr>\n",
       "    <tr>\n",
       "      <th>2</th>\n",
       "      <td>Millennium Force</td>\n",
       "      <td>Cedar Point</td>\n",
       "      <td>Steel</td>\n",
       "      <td>93.0</td>\n",
       "      <td>310.0</td>\n",
       "      <td>300.0</td>\n",
       "      <td>6595.0</td>\n",
       "      <td>165.0</td>\n",
       "      <td>0</td>\n",
       "    </tr>\n",
       "    <tr>\n",
       "      <th>3</th>\n",
       "      <td>Goliath</td>\n",
       "      <td>Six Flags Magic Mountain</td>\n",
       "      <td>Steel</td>\n",
       "      <td>85.0</td>\n",
       "      <td>235.0</td>\n",
       "      <td>255.0</td>\n",
       "      <td>4500.0</td>\n",
       "      <td>180.0</td>\n",
       "      <td>0</td>\n",
       "    </tr>\n",
       "    <tr>\n",
       "      <th>4</th>\n",
       "      <td>Titan</td>\n",
       "      <td>Six Flags Over Texas</td>\n",
       "      <td>Steel</td>\n",
       "      <td>85.0</td>\n",
       "      <td>245.0</td>\n",
       "      <td>255.0</td>\n",
       "      <td>5312.0</td>\n",
       "      <td>210.0</td>\n",
       "      <td>0</td>\n",
       "    </tr>\n",
       "  </tbody>\n",
       "</table>\n",
       "</div>"
      ],
      "text/plain": [
       "                  Name                      Park  Track  Speed  Height   Drop  \\\n",
       "0  Top Thrill Dragster               Cedar Point  Steel  120.0   420.0  400.0   \n",
       "1   Superman The Escap  Six Flags Magic Mountain  Steel  100.0   415.0  328.1   \n",
       "2     Millennium Force               Cedar Point  Steel   93.0   310.0  300.0   \n",
       "3              Goliath  Six Flags Magic Mountain  Steel   85.0   235.0  255.0   \n",
       "4                Titan      Six Flags Over Texas  Steel   85.0   245.0  255.0   \n",
       "\n",
       "   Length  Duration  Inversions  \n",
       "0  2800.0       NaN           0  \n",
       "1  1235.0       NaN           0  \n",
       "2  6595.0     165.0           0  \n",
       "3  4500.0     180.0           0  \n",
       "4  5312.0     210.0           0  "
      ]
     },
     "execution_count": 65,
     "metadata": {},
     "output_type": "execute_result"
    }
   ],
   "source": [
    "coasters.head()"
   ]
  },
  {
   "cell_type": "code",
   "execution_count": 68,
   "id": "31d41194",
   "metadata": {},
   "outputs": [
    {
     "data": {
      "text/plain": [
       "Steel    212\n",
       "Wood      29\n",
       "Name: Track, dtype: int64"
      ]
     },
     "execution_count": 68,
     "metadata": {},
     "output_type": "execute_result"
    }
   ],
   "source": [
    "coasters[\"Track\"].value_counts()"
   ]
  },
  {
   "cell_type": "code",
   "execution_count": 83,
   "id": "9ebc96a1",
   "metadata": {},
   "outputs": [],
   "source": [
    "n_coasters = 212 + 29\n",
    "steel_p = 212 / n_coasters"
   ]
  },
  {
   "cell_type": "code",
   "execution_count": 85,
   "id": "ac5f8932",
   "metadata": {},
   "outputs": [
    {
     "name": "stdout",
     "output_type": "stream",
     "text": [
      "The proportion of steel coasters in 2015 is equal to:  0.8796680497925311\n"
     ]
    }
   ],
   "source": [
    "print(\"The proportion of steel coasters in 2015 is equal to: \", steel_p)"
   ]
  },
  {
   "cell_type": "markdown",
   "id": "51a6bfd3",
   "metadata": {},
   "source": [
    "A roller-coasters' expert suggests that during 2022 the proportion of steel coasters has changed. His studies shows that 320 out of 355 coasters are made of steel."
   ]
  },
  {
   "cell_type": "markdown",
   "id": "bea92c97",
   "metadata": {},
   "source": [
    "* h0 : p = steel_p -> the proportion of steel coasters in 2022 is 0.88\n",
    "* ha : p ≠ steel_p -> the proportion of steel coasters in 2022 is different from 0.88"
   ]
  },
  {
   "cell_type": "markdown",
   "id": "1aa77628",
   "metadata": {},
   "source": [
    "**Arguments**\n",
    "* count = # ; number of successes if Null Hypothesis is True. (P * nobs)\n",
    "* nobs = # ; number of trials or size of sample.\n",
    "* value = # ; Observed Proportion\n",
    "* alternative = \"nameOfAlternative\" ; Type of test(2-tailed or 1-tailed)"
   ]
  },
  {
   "cell_type": "code",
   "execution_count": 104,
   "id": "36c197e0",
   "metadata": {},
   "outputs": [],
   "source": [
    "suc = 0.88 * 355\n",
    "sample_size = 355\n",
    "obs_prop = 320/355"
   ]
  },
  {
   "cell_type": "code",
   "execution_count": 109,
   "id": "d64e5c68",
   "metadata": {},
   "outputs": [
    {
     "name": "stdout",
     "output_type": "stream",
     "text": [
      "The z test values is:  -1.220011473889561 . The p-value is:  0.22246052533158622\n"
     ]
    }
   ],
   "source": [
    "z_test , p_value = sm.proportions_ztest(count = 312 , nobs = 355, value = 0.9, alternative = \"two-sided\")\n",
    "print(\"The z test values is: \", z_test, \". The p-value is: \", p_value)"
   ]
  },
  {
   "cell_type": "markdown",
   "id": "c0d4371f",
   "metadata": {},
   "source": [
    "Since the p-value is greater than 0.05 we fail to reject the null hypothesis. We do not have enough evidence to say that the proportion of steel coasters in 2022 has changed sinced 2015."
   ]
  },
  {
   "cell_type": "markdown",
   "id": "a5b3188f",
   "metadata": {},
   "source": [
    "### Confidence Interval for proportions"
   ]
  },
  {
   "cell_type": "code",
   "execution_count": 111,
   "id": "c85475dd",
   "metadata": {},
   "outputs": [
    {
     "name": "stdout",
     "output_type": "stream",
     "text": [
      "(0.8385919257601463, 0.9207441738249159)\n"
     ]
    }
   ],
   "source": [
    "conf_prop = sm.proportion_confint(212, 241, alpha = 0.05)\n",
    "print(conf_prop)"
   ]
  },
  {
   "cell_type": "markdown",
   "id": "a0e84997",
   "metadata": {},
   "source": [
    "We are 95% confident that between "
   ]
  }
 ],
 "metadata": {
  "kernelspec": {
   "display_name": "Python 3 (ipykernel)",
   "language": "python",
   "name": "python3"
  },
  "language_info": {
   "codemirror_mode": {
    "name": "ipython",
    "version": 3
   },
   "file_extension": ".py",
   "mimetype": "text/x-python",
   "name": "python",
   "nbconvert_exporter": "python",
   "pygments_lexer": "ipython3",
   "version": "3.9.12"
  }
 },
 "nbformat": 4,
 "nbformat_minor": 5
}
