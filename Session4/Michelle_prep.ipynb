{
 "cells": [
  {
   "cell_type": "markdown",
   "id": "2bce3d78",
   "metadata": {},
   "source": [
    "### One-sample proportion z-test"
   ]
  },
  {
   "cell_type": "code",
   "execution_count": 65,
   "id": "deaa84a8",
   "metadata": {},
   "outputs": [
    {
     "data": {
      "text/html": [
       "<div>\n",
       "<style scoped>\n",
       "    .dataframe tbody tr th:only-of-type {\n",
       "        vertical-align: middle;\n",
       "    }\n",
       "\n",
       "    .dataframe tbody tr th {\n",
       "        vertical-align: top;\n",
       "    }\n",
       "\n",
       "    .dataframe thead th {\n",
       "        text-align: right;\n",
       "    }\n",
       "</style>\n",
       "<table border=\"1\" class=\"dataframe\">\n",
       "  <thead>\n",
       "    <tr style=\"text-align: right;\">\n",
       "      <th></th>\n",
       "      <th>Name</th>\n",
       "      <th>Park</th>\n",
       "      <th>Track</th>\n",
       "      <th>Speed</th>\n",
       "      <th>Height</th>\n",
       "      <th>Drop</th>\n",
       "      <th>Length</th>\n",
       "      <th>Duration</th>\n",
       "      <th>Inversions</th>\n",
       "    </tr>\n",
       "  </thead>\n",
       "  <tbody>\n",
       "    <tr>\n",
       "      <th>0</th>\n",
       "      <td>Top Thrill Dragster</td>\n",
       "      <td>Cedar Point</td>\n",
       "      <td>Steel</td>\n",
       "      <td>120.0</td>\n",
       "      <td>420.0</td>\n",
       "      <td>400.0</td>\n",
       "      <td>2800.0</td>\n",
       "      <td>NaN</td>\n",
       "      <td>0</td>\n",
       "    </tr>\n",
       "    <tr>\n",
       "      <th>1</th>\n",
       "      <td>Superman The Escap</td>\n",
       "      <td>Six Flags Magic Mountain</td>\n",
       "      <td>Steel</td>\n",
       "      <td>100.0</td>\n",
       "      <td>415.0</td>\n",
       "      <td>328.1</td>\n",
       "      <td>1235.0</td>\n",
       "      <td>NaN</td>\n",
       "      <td>0</td>\n",
       "    </tr>\n",
       "    <tr>\n",
       "      <th>2</th>\n",
       "      <td>Millennium Force</td>\n",
       "      <td>Cedar Point</td>\n",
       "      <td>Steel</td>\n",
       "      <td>93.0</td>\n",
       "      <td>310.0</td>\n",
       "      <td>300.0</td>\n",
       "      <td>6595.0</td>\n",
       "      <td>165.0</td>\n",
       "      <td>0</td>\n",
       "    </tr>\n",
       "    <tr>\n",
       "      <th>3</th>\n",
       "      <td>Goliath</td>\n",
       "      <td>Six Flags Magic Mountain</td>\n",
       "      <td>Steel</td>\n",
       "      <td>85.0</td>\n",
       "      <td>235.0</td>\n",
       "      <td>255.0</td>\n",
       "      <td>4500.0</td>\n",
       "      <td>180.0</td>\n",
       "      <td>0</td>\n",
       "    </tr>\n",
       "    <tr>\n",
       "      <th>4</th>\n",
       "      <td>Titan</td>\n",
       "      <td>Six Flags Over Texas</td>\n",
       "      <td>Steel</td>\n",
       "      <td>85.0</td>\n",
       "      <td>245.0</td>\n",
       "      <td>255.0</td>\n",
       "      <td>5312.0</td>\n",
       "      <td>210.0</td>\n",
       "      <td>0</td>\n",
       "    </tr>\n",
       "  </tbody>\n",
       "</table>\n",
       "</div>"
      ],
      "text/plain": [
       "                  Name                      Park  Track  Speed  Height   Drop  \\\n",
       "0  Top Thrill Dragster               Cedar Point  Steel  120.0   420.0  400.0   \n",
       "1   Superman The Escap  Six Flags Magic Mountain  Steel  100.0   415.0  328.1   \n",
       "2     Millennium Force               Cedar Point  Steel   93.0   310.0  300.0   \n",
       "3              Goliath  Six Flags Magic Mountain  Steel   85.0   235.0  255.0   \n",
       "4                Titan      Six Flags Over Texas  Steel   85.0   245.0  255.0   \n",
       "\n",
       "   Length  Duration  Inversions  \n",
       "0  2800.0       NaN           0  \n",
       "1  1235.0       NaN           0  \n",
       "2  6595.0     165.0           0  \n",
       "3  4500.0     180.0           0  \n",
       "4  5312.0     210.0           0  "
      ]
     },
     "execution_count": 65,
     "metadata": {},
     "output_type": "execute_result"
    }
   ],
   "source": [
    "coasters.head()"
   ]
  },
  {
   "cell_type": "code",
   "execution_count": 68,
   "id": "764e54af",
   "metadata": {},
   "outputs": [
    {
     "data": {
      "text/plain": [
       "Steel    212\n",
       "Wood      29\n",
       "Name: Track, dtype: int64"
      ]
     },
     "execution_count": 68,
     "metadata": {},
     "output_type": "execute_result"
    }
   ],
   "source": [
    "coasters[\"Track\"].value_counts()"
   ]
  },
  {
   "cell_type": "code",
   "execution_count": 83,
   "id": "bf207067",
   "metadata": {},
   "outputs": [],
   "source": [
    "n_coasters = 212 + 29\n",
    "steel_p = 212 / n_coasters"
   ]
  },
  {
   "cell_type": "code",
   "execution_count": 85,
   "id": "91302a16",
   "metadata": {},
   "outputs": [
    {
     "name": "stdout",
     "output_type": "stream",
     "text": [
      "The proportion of steel coasters in 2015 is equal to:  0.8796680497925311\n"
     ]
    }
   ],
   "source": [
    "print(\"The proportion of steel coasters in 2015 is equal to: \", steel_p)"
   ]
  },
  {
   "cell_type": "markdown",
   "id": "41464bf9",
   "metadata": {},
   "source": [
    "A roller-coasters' expert suggests that during 2022 the proportion of steel coasters has changed. His studies shows that 320 out of 355 coasters are made of steel."
   ]
  },
  {
   "cell_type": "markdown",
   "id": "99e69ac0",
   "metadata": {},
   "source": [
    "* h0 : p = steel_p -> the proportion of steel coasters in 2022 is 0.88\n",
    "* ha : p ≠ steel_p -> the proportion of steel coasters in 2022 is different from 0.88"
   ]
  },
  {
   "cell_type": "markdown",
   "id": "3c46b692",
   "metadata": {},
   "source": [
    "**Arguments**\n",
    "* count = # ; number of successes if Null Hypothesis is True. (P * nobs)\n",
    "* nobs = # ; number of trials or size of sample.\n",
    "* value = # ; Observed Proportion\n",
    "* alternative = \"nameOfAlternative\" ; Type of test(2-tailed or 1-tailed)"
   ]
  },
  {
   "cell_type": "code",
   "execution_count": 104,
   "id": "68a1b7b8",
   "metadata": {},
   "outputs": [],
   "source": [
    "suc = 0.88 * 355\n",
    "sample_size = 355\n",
    "obs_prop = 320/355"
   ]
  },
  {
   "cell_type": "code",
   "execution_count": 109,
   "id": "a11bea1e",
   "metadata": {},
   "outputs": [
    {
     "name": "stdout",
     "output_type": "stream",
     "text": [
      "The z test values is:  -1.220011473889561 . The p-value is:  0.22246052533158622\n"
     ]
    }
   ],
   "source": [
    "z_test , p_value = sm.proportions_ztest(count = 312 , nobs = 355, value = 0.9, alternative = \"two-sided\")\n",
    "print(\"The z test values is: \", z_test, \". The p-value is: \", p_value)"
   ]
  },
  {
   "cell_type": "markdown",
   "id": "7a735186",
   "metadata": {},
   "source": [
    "Since the p-value is greater than 0.05 we fail to reject the null hypothesis. We do not have enough evidence to say that the proportion of steel rollercoasters in 2022 has changed sinced 2015."
   ]
  },
  {
   "cell_type": "markdown",
   "id": "0ec73764",
   "metadata": {},
   "source": [
    "### Confidence Interval for proportions"
   ]
  },
  {
   "cell_type": "code",
   "execution_count": 111,
   "id": "a3a2706f",
   "metadata": {},
   "outputs": [
    {
     "name": "stdout",
     "output_type": "stream",
     "text": [
      "(0.8385919257601463, 0.9207441738249159)\n"
     ]
    }
   ],
   "source": [
    "conf_prop = sm.proportion_confint(212, 241, alpha = 0.05)\n",
    "print(conf_prop)"
   ]
  },
  {
   "cell_type": "markdown",
   "id": "7ea6c939",
   "metadata": {},
   "source": [
    "We are 95% confident that between 83% and 92% of the roller coasters in the world are made out of steel."
   ]
  },
  {
   "cell_type": "markdown",
   "id": "5128db07",
   "metadata": {},
   "source": [
    "### Confidence Interval for means"
   ]
  },
  {
   "cell_type": "code",
   "execution_count": 134,
   "id": "cbf1729f",
   "metadata": {},
   "outputs": [
    {
     "name": "stdout",
     "output_type": "stream",
     "text": [
      "18.664831279556996\n"
     ]
    }
   ],
   "source": [
    "sd_speed = coasters[\"Speed\"].std()\n",
    "print(se_speed)"
   ]
  },
  {
   "cell_type": "code",
   "execution_count": 135,
   "id": "7e0e4f55",
   "metadata": {},
   "outputs": [
    {
     "name": "stdout",
     "output_type": "stream",
     "text": [
      "1.2023074749380138\n"
     ]
    }
   ],
   "source": [
    "se_speed = sd_speed/math.sqrt(241)\n",
    "print(se_speed)"
   ]
  },
  {
   "cell_type": "code",
   "execution_count": 138,
   "id": "9a2cb700",
   "metadata": {},
   "outputs": [
    {
     "name": "stdout",
     "output_type": "stream",
     "text": [
      "The t-interval is:  (18.582815409951472, 92.11842940332659)\n"
     ]
    }
   ],
   "source": [
    "t_speed = st.t.interval(alpha = 0.95, df = 240, loc = mean_speed, scale = sd_speed)\n",
    "print(\"The t-interval is: \", t_speed)"
   ]
  },
  {
   "cell_type": "markdown",
   "id": "5a470cda",
   "metadata": {},
   "source": [
    "We are 95% confident that the average speed of rollercoasters in the world will be between 18 and 92 m/h"
   ]
  },
  {
   "cell_type": "markdown",
   "id": "e68d15bd",
   "metadata": {},
   "source": [
    "## Inference for Linear Regression using statsmodels.api\n",
    "Checking conditions and assumptions for linear regression inference"
   ]
  },
  {
   "cell_type": "markdown",
   "id": "a4f33361",
   "metadata": {},
   "source": [
    "### Linearity"
   ]
  },
  {
   "cell_type": "code",
   "execution_count": 147,
   "id": "9e5da9b9",
   "metadata": {},
   "outputs": [
    {
     "data": {
      "text/html": [
       "<div>\n",
       "<style scoped>\n",
       "    .dataframe tbody tr th:only-of-type {\n",
       "        vertical-align: middle;\n",
       "    }\n",
       "\n",
       "    .dataframe tbody tr th {\n",
       "        vertical-align: top;\n",
       "    }\n",
       "\n",
       "    .dataframe thead th {\n",
       "        text-align: right;\n",
       "    }\n",
       "</style>\n",
       "<table border=\"1\" class=\"dataframe\">\n",
       "  <thead>\n",
       "    <tr style=\"text-align: right;\">\n",
       "      <th></th>\n",
       "      <th>Name</th>\n",
       "      <th>Park</th>\n",
       "      <th>Track</th>\n",
       "      <th>Speed</th>\n",
       "      <th>Height</th>\n",
       "      <th>Drop</th>\n",
       "      <th>Length</th>\n",
       "      <th>Duration</th>\n",
       "      <th>Inversions</th>\n",
       "    </tr>\n",
       "  </thead>\n",
       "  <tbody>\n",
       "    <tr>\n",
       "      <th>0</th>\n",
       "      <td>Top Thrill Dragster</td>\n",
       "      <td>Cedar Point</td>\n",
       "      <td>Steel</td>\n",
       "      <td>120.0</td>\n",
       "      <td>420.0</td>\n",
       "      <td>400.0</td>\n",
       "      <td>2800.0</td>\n",
       "      <td>NaN</td>\n",
       "      <td>0</td>\n",
       "    </tr>\n",
       "    <tr>\n",
       "      <th>1</th>\n",
       "      <td>Superman The Escap</td>\n",
       "      <td>Six Flags Magic Mountain</td>\n",
       "      <td>Steel</td>\n",
       "      <td>100.0</td>\n",
       "      <td>415.0</td>\n",
       "      <td>328.1</td>\n",
       "      <td>1235.0</td>\n",
       "      <td>NaN</td>\n",
       "      <td>0</td>\n",
       "    </tr>\n",
       "    <tr>\n",
       "      <th>2</th>\n",
       "      <td>Millennium Force</td>\n",
       "      <td>Cedar Point</td>\n",
       "      <td>Steel</td>\n",
       "      <td>93.0</td>\n",
       "      <td>310.0</td>\n",
       "      <td>300.0</td>\n",
       "      <td>6595.0</td>\n",
       "      <td>165.0</td>\n",
       "      <td>0</td>\n",
       "    </tr>\n",
       "    <tr>\n",
       "      <th>3</th>\n",
       "      <td>Goliath</td>\n",
       "      <td>Six Flags Magic Mountain</td>\n",
       "      <td>Steel</td>\n",
       "      <td>85.0</td>\n",
       "      <td>235.0</td>\n",
       "      <td>255.0</td>\n",
       "      <td>4500.0</td>\n",
       "      <td>180.0</td>\n",
       "      <td>0</td>\n",
       "    </tr>\n",
       "    <tr>\n",
       "      <th>4</th>\n",
       "      <td>Titan</td>\n",
       "      <td>Six Flags Over Texas</td>\n",
       "      <td>Steel</td>\n",
       "      <td>85.0</td>\n",
       "      <td>245.0</td>\n",
       "      <td>255.0</td>\n",
       "      <td>5312.0</td>\n",
       "      <td>210.0</td>\n",
       "      <td>0</td>\n",
       "    </tr>\n",
       "  </tbody>\n",
       "</table>\n",
       "</div>"
      ],
      "text/plain": [
       "                  Name                      Park  Track  Speed  Height   Drop  \\\n",
       "0  Top Thrill Dragster               Cedar Point  Steel  120.0   420.0  400.0   \n",
       "1   Superman The Escap  Six Flags Magic Mountain  Steel  100.0   415.0  328.1   \n",
       "2     Millennium Force               Cedar Point  Steel   93.0   310.0  300.0   \n",
       "3              Goliath  Six Flags Magic Mountain  Steel   85.0   235.0  255.0   \n",
       "4                Titan      Six Flags Over Texas  Steel   85.0   245.0  255.0   \n",
       "\n",
       "   Length  Duration  Inversions  \n",
       "0  2800.0       NaN           0  \n",
       "1  1235.0       NaN           0  \n",
       "2  6595.0     165.0           0  \n",
       "3  4500.0     180.0           0  \n",
       "4  5312.0     210.0           0  "
      ]
     },
     "execution_count": 147,
     "metadata": {},
     "output_type": "execute_result"
    }
   ],
   "source": [
    "coasters.head()"
   ]
  },
  {
   "cell_type": "code",
   "execution_count": 153,
   "id": "845300cf",
   "metadata": {},
   "outputs": [
    {
     "data": {
      "text/plain": [
       "<seaborn.axisgrid.FacetGrid at 0x7fea59ed0d60>"
      ]
     },
     "execution_count": 153,
     "metadata": {},
     "output_type": "execute_result"
    },
    {
     "data": {
      "image/png": "[encoded data removed]",
      "text/plain": [
       "<Figure size 360x360 with 1 Axes>"
      ]
     },
     "metadata": {
      "needs_background": "light"
     },
     "output_type": "display_data"
    }
   ],
   "source": [
    "import seaborn as sns\n",
    "sns.lmplot(data = coasters, x = \"Drop\", y = \"Height\")"
   ]
  },
  {
   "cell_type": "markdown",
   "id": "38d8bf55",
   "metadata": {},
   "source": [
    "### Independence and Equal Variance"
   ]
  },
  {
   "cell_type": "code",
   "execution_count": 154,
   "id": "d77e5367",
   "metadata": {},
   "outputs": [
    {
     "data": {
      "text/plain": [
       "<AxesSubplot:xlabel='Drop', ylabel='Height'>"
      ]
     },
     "execution_count": 154,
     "metadata": {},
     "output_type": "execute_result"
    },
    {
     "data": {
      "image/png": "[encoded data removed]",
      "text/plain": [
       "<Figure size 432x288 with 1 Axes>"
      ]
     },
     "metadata": {
      "needs_background": "light"
     },
     "output_type": "display_data"
    }
   ],
   "source": [
    "sns.residplot(data = coasters, x = \"Drop\", y = \"Height\")"
   ]
  },
  {
   "cell_type": "markdown",
   "id": "4208e04b",
   "metadata": {},
   "source": [
    "### Normal Population"
   ]
  },
  {
   "cell_type": "code",
   "execution_count": 207,
   "id": "ee4ca42c",
   "metadata": {},
   "outputs": [],
   "source": [
    "import statsmodels.api as sma\n",
    "x = coasters[\"Height\"]\n",
    "y = coasters[\"Drop\"]\n",
    "x = sma.add_constant(x)"
   ]
  },
  {
   "cell_type": "code",
   "execution_count": 208,
   "id": "90312e69",
   "metadata": {},
   "outputs": [
    {
     "data": {
      "text/html": [
       "<div>\n",
       "<style scoped>\n",
       "    .dataframe tbody tr th:only-of-type {\n",
       "        vertical-align: middle;\n",
       "    }\n",
       "\n",
       "    .dataframe tbody tr th {\n",
       "        vertical-align: top;\n",
       "    }\n",
       "\n",
       "    .dataframe thead th {\n",
       "        text-align: right;\n",
       "    }\n",
       "</style>\n",
       "<table border=\"1\" class=\"dataframe\">\n",
       "  <thead>\n",
       "    <tr style=\"text-align: right;\">\n",
       "      <th></th>\n",
       "      <th>const</th>\n",
       "      <th>Height</th>\n",
       "    </tr>\n",
       "  </thead>\n",
       "  <tbody>\n",
       "    <tr>\n",
       "      <th>0</th>\n",
       "      <td>1.0</td>\n",
       "      <td>420.0</td>\n",
       "    </tr>\n",
       "    <tr>\n",
       "      <th>1</th>\n",
       "      <td>1.0</td>\n",
       "      <td>415.0</td>\n",
       "    </tr>\n",
       "    <tr>\n",
       "      <th>2</th>\n",
       "      <td>1.0</td>\n",
       "      <td>310.0</td>\n",
       "    </tr>\n",
       "    <tr>\n",
       "      <th>3</th>\n",
       "      <td>1.0</td>\n",
       "      <td>235.0</td>\n",
       "    </tr>\n",
       "    <tr>\n",
       "      <th>4</th>\n",
       "      <td>1.0</td>\n",
       "      <td>245.0</td>\n",
       "    </tr>\n",
       "  </tbody>\n",
       "</table>\n",
       "</div>"
      ],
      "text/plain": [
       "   const  Height\n",
       "0    1.0   420.0\n",
       "1    1.0   415.0\n",
       "2    1.0   310.0\n",
       "3    1.0   235.0\n",
       "4    1.0   245.0"
      ]
     },
     "execution_count": 208,
     "metadata": {},
     "output_type": "execute_result"
    }
   ],
   "source": [
    "x.head()"
   ]
  },
  {
   "cell_type": "code",
   "execution_count": 214,
   "id": "14035c0f",
   "metadata": {},
   "outputs": [
    {
     "data": {
      "text/html": [
       "<table class=\"simpletable\">\n",
       "<caption>OLS Regression Results</caption>\n",
       "<tr>\n",
       "  <th>Dep. Variable:</th>          <td>Drop</td>       <th>  R-squared:         </th> <td>   0.717</td>\n",
       "</tr>\n",
       "<tr>\n",
       "  <th>Model:</th>                   <td>OLS</td>       <th>  Adj. R-squared:    </th> <td>   0.715</td>\n",
       "</tr>\n",
       "<tr>\n",
       "  <th>Method:</th>             <td>Least Squares</td>  <th>  F-statistic:       </th> <td>   294.2</td>\n",
       "</tr>\n",
       "<tr>\n",
       "  <th>Date:</th>             <td>Wed, 20 Jul 2022</td> <th>  Prob (F-statistic):</th> <td>1.32e-33</td>\n",
       "</tr>\n",
       "<tr>\n",
       "  <th>Time:</th>                 <td>14:54:48</td>     <th>  Log-Likelihood:    </th> <td> -592.26</td>\n",
       "</tr>\n",
       "<tr>\n",
       "  <th>No. Observations:</th>      <td>   118</td>      <th>  AIC:               </th> <td>   1189.</td>\n",
       "</tr>\n",
       "<tr>\n",
       "  <th>Df Residuals:</th>          <td>   116</td>      <th>  BIC:               </th> <td>   1194.</td>\n",
       "</tr>\n",
       "<tr>\n",
       "  <th>Df Model:</th>              <td>     1</td>      <th>                     </th>     <td> </td>   \n",
       "</tr>\n",
       "<tr>\n",
       "  <th>Covariance Type:</th>      <td>nonrobust</td>    <th>                     </th>     <td> </td>   \n",
       "</tr>\n",
       "</table>\n",
       "<table class=\"simpletable\">\n",
       "<tr>\n",
       "     <td></td>       <th>coef</th>     <th>std err</th>      <th>t</th>      <th>P>|t|</th>  <th>[0.025</th>    <th>0.975]</th>  \n",
       "</tr>\n",
       "<tr>\n",
       "  <th>const</th>  <td>   26.9494</td> <td>    7.865</td> <td>    3.426</td> <td> 0.001</td> <td>   11.372</td> <td>   42.527</td>\n",
       "</tr>\n",
       "<tr>\n",
       "  <th>Height</th> <td>    0.7730</td> <td>    0.045</td> <td>   17.153</td> <td> 0.000</td> <td>    0.684</td> <td>    0.862</td>\n",
       "</tr>\n",
       "</table>\n",
       "<table class=\"simpletable\">\n",
       "<tr>\n",
       "  <th>Omnibus:</th>       <td>114.850</td> <th>  Durbin-Watson:     </th> <td>   1.692</td>\n",
       "</tr>\n",
       "<tr>\n",
       "  <th>Prob(Omnibus):</th> <td> 0.000</td>  <th>  Jarque-Bera (JB):  </th> <td>2867.218</td>\n",
       "</tr>\n",
       "<tr>\n",
       "  <th>Skew:</th>          <td>-3.004</td>  <th>  Prob(JB):          </th> <td>    0.00</td>\n",
       "</tr>\n",
       "<tr>\n",
       "  <th>Kurtosis:</th>      <td>26.390</td>  <th>  Cond. No.          </th> <td>    404.</td>\n",
       "</tr>\n",
       "</table><br/><br/>Notes:<br/>[1] Standard Errors assume that the covariance matrix of the errors is correctly specified."
      ],
      "text/plain": [
       "<class 'statsmodels.iolib.summary.Summary'>\n",
       "\"\"\"\n",
       "                            OLS Regression Results                            \n",
       "==============================================================================\n",
       "Dep. Variable:                   Drop   R-squared:                       0.717\n",
       "Model:                            OLS   Adj. R-squared:                  0.715\n",
       "Method:                 Least Squares   F-statistic:                     294.2\n",
       "Date:                Wed, 20 Jul 2022   Prob (F-statistic):           1.32e-33\n",
       "Time:                        14:54:48   Log-Likelihood:                -592.26\n",
       "No. Observations:                 118   AIC:                             1189.\n",
       "Df Residuals:                     116   BIC:                             1194.\n",
       "Df Model:                           1                                         \n",
       "Covariance Type:            nonrobust                                         \n",
       "==============================================================================\n",
       "                 coef    std err          t      P>|t|      [0.025      0.975]\n",
       "------------------------------------------------------------------------------\n",
       "const         26.9494      7.865      3.426      0.001      11.372      42.527\n",
       "Height         0.7730      0.045     17.153      0.000       0.684       0.862\n",
       "==============================================================================\n",
       "Omnibus:                      114.850   Durbin-Watson:                   1.692\n",
       "Prob(Omnibus):                  0.000   Jarque-Bera (JB):             2867.218\n",
       "Skew:                          -3.004   Prob(JB):                         0.00\n",
       "Kurtosis:                      26.390   Cond. No.                         404.\n",
       "==============================================================================\n",
       "\n",
       "Notes:\n",
       "[1] Standard Errors assume that the covariance matrix of the errors is correctly specified.\n",
       "\"\"\""
      ]
     },
     "execution_count": 214,
     "metadata": {},
     "output_type": "execute_result"
    }
   ],
   "source": [
    "model = sma.OLS(y, x, missing = \"drop\")\n",
    "model_result = model.fit()\n",
    "model_result.summary()"
   ]
  },
  {
   "cell_type": "code",
   "execution_count": 185,
   "id": "88e98ef7",
   "metadata": {},
   "outputs": [
    {
     "data": {
      "text/plain": [
       "<AxesSubplot:ylabel='Count'>"
      ]
     },
     "execution_count": 185,
     "metadata": {},
     "output_type": "execute_result"
    },
    {
     "data": {
      "image/png": "[encoded data removed]",
      "text/plain": [
       "<Figure size 432x288 with 1 Axes>"
      ]
     },
     "metadata": {
      "needs_background": "light"
     },
     "output_type": "display_data"
    }
   ],
   "source": [
    "sns.histplot(model_result.resid)"
   ]
  },
  {
   "cell_type": "code",
   "execution_count": 186,
   "id": "f55449f9",
   "metadata": {},
   "outputs": [
    {
     "data": {
      "image/png": "[encoded data removed]",
      "text/plain": [
       "<Figure size 432x288 with 1 Axes>"
      ]
     },
     "metadata": {
      "needs_background": "light"
     },
     "output_type": "display_data"
    }
   ],
   "source": [
    "sma.qqplot(model_result.resid, line='s');"
   ]
  },
  {
   "cell_type": "code",
   "execution_count": 187,
   "id": "41711e23",
   "metadata": {},
   "outputs": [
    {
     "data": {
      "image/png": "[encoded data removed]",
      "text/plain": [
       "<Figure size 432x288 with 1 Axes>"
      ]
     },
     "metadata": {
      "needs_background": "light"
     },
     "output_type": "display_data"
    }
   ],
   "source": [
    "sma.graphics.plot_fit(model_result,1, vlines=False);"
   ]
  },
  {
   "cell_type": "code",
   "execution_count": 218,
   "id": "20f8d516",
   "metadata": {},
   "outputs": [
    {
     "data": {
      "text/plain": [
       "<seaborn.axisgrid.FacetGrid at 0x7fea5ad9fcd0>"
      ]
     },
     "execution_count": 218,
     "metadata": {},
     "output_type": "execute_result"
    },
    {
     "data": {
      "image/png": "[encoded data removed]",
      "text/plain": [
       "<Figure size 360x360 with 1 Axes>"
      ]
     },
     "metadata": {
      "needs_background": "light"
     },
     "output_type": "display_data"
    }
   ],
   "source": [
    "sns.lmplot(data = coasters, x = \"Height\", y = \"Drop\")"
   ]
  },
  {
   "cell_type": "markdown",
   "id": "f6793ed3",
   "metadata": {},
   "source": [
    "## References\n",
    "* https://www.sfu.ca/~mjbrydon/tutorials/BAinPy/09_regression.html"
   ]
  },
  {
   "cell_type": "markdown",
   "id": "1d15cc67",
   "metadata": {},
   "source": [
    "Is there an association between Drop and Height after adjusting for relevant confounders?"
   ]
  },
  {
   "cell_type": "code",
   "execution_count": 283,
   "id": "2832269c",
   "metadata": {},
   "outputs": [
    {
     "name": "stderr",
     "output_type": "stream",
     "text": [
      "/var/folders/rm/31m9_p91783drqpmmys24h9h0000gn/T/ipykernel_13945/3863159553.py:2: FutureWarning: The error_bad_lines argument has been deprecated and will be removed in a future version. Use on_bad_lines in the future.\n",
      "\n",
      "\n",
      "  mov = pd.read_csv(url,error_bad_lines=False)\n"
     ]
    },
    {
     "ename": "UnicodeDecodeError",
     "evalue": "'utf-8' codec can't decode byte 0xe6 in position 5764: invalid continuation byte",
     "output_type": "error",
     "traceback": [
      "\u001b[0;31m---------------------------------------------------------------------------\u001b[0m",
      "\u001b[0;31mUnicodeDecodeError\u001b[0m                        Traceback (most recent call last)",
      "Input \u001b[0;32mIn [283]\u001b[0m, in \u001b[0;36m<cell line: 2>\u001b[0;34m()\u001b[0m\n\u001b[1;32m      1\u001b[0m url \u001b[38;5;241m=\u001b[39m \u001b[38;5;124m\"\u001b[39m\u001b[38;5;124mhttps://raw.githubusercontent.com/fivethirtyeight/data/master/avengers/avengers.csv\u001b[39m\u001b[38;5;124m\"\u001b[39m\n\u001b[0;32m----> 2\u001b[0m mov \u001b[38;5;241m=\u001b[39m \u001b[43mpd\u001b[49m\u001b[38;5;241;43m.\u001b[39;49m\u001b[43mread_csv\u001b[49m\u001b[43m(\u001b[49m\u001b[43murl\u001b[49m\u001b[43m,\u001b[49m\u001b[43merror_bad_lines\u001b[49m\u001b[38;5;241;43m=\u001b[39;49m\u001b[38;5;28;43;01mFalse\u001b[39;49;00m\u001b[43m)\u001b[49m\n",
      "File \u001b[0;32m~/opt/anaconda3/lib/python3.9/site-packages/pandas/util/_decorators.py:311\u001b[0m, in \u001b[0;36mdeprecate_nonkeyword_arguments.<locals>.decorate.<locals>.wrapper\u001b[0;34m(*args, **kwargs)\u001b[0m\n\u001b[1;32m    305\u001b[0m \u001b[38;5;28;01mif\u001b[39;00m \u001b[38;5;28mlen\u001b[39m(args) \u001b[38;5;241m>\u001b[39m num_allow_args:\n\u001b[1;32m    306\u001b[0m     warnings\u001b[38;5;241m.\u001b[39mwarn(\n\u001b[1;32m    307\u001b[0m         msg\u001b[38;5;241m.\u001b[39mformat(arguments\u001b[38;5;241m=\u001b[39marguments),\n\u001b[1;32m    308\u001b[0m         \u001b[38;5;167;01mFutureWarning\u001b[39;00m,\n\u001b[1;32m    309\u001b[0m         stacklevel\u001b[38;5;241m=\u001b[39mstacklevel,\n\u001b[1;32m    310\u001b[0m     )\n\u001b[0;32m--> 311\u001b[0m \u001b[38;5;28;01mreturn\u001b[39;00m \u001b[43mfunc\u001b[49m\u001b[43m(\u001b[49m\u001b[38;5;241;43m*\u001b[39;49m\u001b[43margs\u001b[49m\u001b[43m,\u001b[49m\u001b[43m \u001b[49m\u001b[38;5;241;43m*\u001b[39;49m\u001b[38;5;241;43m*\u001b[39;49m\u001b[43mkwargs\u001b[49m\u001b[43m)\u001b[49m\n",
      "File \u001b[0;32m~/opt/anaconda3/lib/python3.9/site-packages/pandas/io/parsers/readers.py:680\u001b[0m, in \u001b[0;36mread_csv\u001b[0;34m(filepath_or_buffer, sep, delimiter, header, names, index_col, usecols, squeeze, prefix, mangle_dupe_cols, dtype, engine, converters, true_values, false_values, skipinitialspace, skiprows, skipfooter, nrows, na_values, keep_default_na, na_filter, verbose, skip_blank_lines, parse_dates, infer_datetime_format, keep_date_col, date_parser, dayfirst, cache_dates, iterator, chunksize, compression, thousands, decimal, lineterminator, quotechar, quoting, doublequote, escapechar, comment, encoding, encoding_errors, dialect, error_bad_lines, warn_bad_lines, on_bad_lines, delim_whitespace, low_memory, memory_map, float_precision, storage_options)\u001b[0m\n\u001b[1;32m    665\u001b[0m kwds_defaults \u001b[38;5;241m=\u001b[39m _refine_defaults_read(\n\u001b[1;32m    666\u001b[0m     dialect,\n\u001b[1;32m    667\u001b[0m     delimiter,\n\u001b[0;32m   (...)\u001b[0m\n\u001b[1;32m    676\u001b[0m     defaults\u001b[38;5;241m=\u001b[39m{\u001b[38;5;124m\"\u001b[39m\u001b[38;5;124mdelimiter\u001b[39m\u001b[38;5;124m\"\u001b[39m: \u001b[38;5;124m\"\u001b[39m\u001b[38;5;124m,\u001b[39m\u001b[38;5;124m\"\u001b[39m},\n\u001b[1;32m    677\u001b[0m )\n\u001b[1;32m    678\u001b[0m kwds\u001b[38;5;241m.\u001b[39mupdate(kwds_defaults)\n\u001b[0;32m--> 680\u001b[0m \u001b[38;5;28;01mreturn\u001b[39;00m \u001b[43m_read\u001b[49m\u001b[43m(\u001b[49m\u001b[43mfilepath_or_buffer\u001b[49m\u001b[43m,\u001b[49m\u001b[43m \u001b[49m\u001b[43mkwds\u001b[49m\u001b[43m)\u001b[49m\n",
      "File \u001b[0;32m~/opt/anaconda3/lib/python3.9/site-packages/pandas/io/parsers/readers.py:575\u001b[0m, in \u001b[0;36m_read\u001b[0;34m(filepath_or_buffer, kwds)\u001b[0m\n\u001b[1;32m    572\u001b[0m _validate_names(kwds\u001b[38;5;241m.\u001b[39mget(\u001b[38;5;124m\"\u001b[39m\u001b[38;5;124mnames\u001b[39m\u001b[38;5;124m\"\u001b[39m, \u001b[38;5;28;01mNone\u001b[39;00m))\n\u001b[1;32m    574\u001b[0m \u001b[38;5;66;03m# Create the parser.\u001b[39;00m\n\u001b[0;32m--> 575\u001b[0m parser \u001b[38;5;241m=\u001b[39m \u001b[43mTextFileReader\u001b[49m\u001b[43m(\u001b[49m\u001b[43mfilepath_or_buffer\u001b[49m\u001b[43m,\u001b[49m\u001b[43m \u001b[49m\u001b[38;5;241;43m*\u001b[39;49m\u001b[38;5;241;43m*\u001b[39;49m\u001b[43mkwds\u001b[49m\u001b[43m)\u001b[49m\n\u001b[1;32m    577\u001b[0m \u001b[38;5;28;01mif\u001b[39;00m chunksize \u001b[38;5;129;01mor\u001b[39;00m iterator:\n\u001b[1;32m    578\u001b[0m     \u001b[38;5;28;01mreturn\u001b[39;00m parser\n",
      "File \u001b[0;32m~/opt/anaconda3/lib/python3.9/site-packages/pandas/io/parsers/readers.py:933\u001b[0m, in \u001b[0;36mTextFileReader.__init__\u001b[0;34m(self, f, engine, **kwds)\u001b[0m\n\u001b[1;32m    930\u001b[0m     \u001b[38;5;28mself\u001b[39m\u001b[38;5;241m.\u001b[39moptions[\u001b[38;5;124m\"\u001b[39m\u001b[38;5;124mhas_index_names\u001b[39m\u001b[38;5;124m\"\u001b[39m] \u001b[38;5;241m=\u001b[39m kwds[\u001b[38;5;124m\"\u001b[39m\u001b[38;5;124mhas_index_names\u001b[39m\u001b[38;5;124m\"\u001b[39m]\n\u001b[1;32m    932\u001b[0m \u001b[38;5;28mself\u001b[39m\u001b[38;5;241m.\u001b[39mhandles: IOHandles \u001b[38;5;241m|\u001b[39m \u001b[38;5;28;01mNone\u001b[39;00m \u001b[38;5;241m=\u001b[39m \u001b[38;5;28;01mNone\u001b[39;00m\n\u001b[0;32m--> 933\u001b[0m \u001b[38;5;28mself\u001b[39m\u001b[38;5;241m.\u001b[39m_engine \u001b[38;5;241m=\u001b[39m \u001b[38;5;28;43mself\u001b[39;49m\u001b[38;5;241;43m.\u001b[39;49m\u001b[43m_make_engine\u001b[49m\u001b[43m(\u001b[49m\u001b[43mf\u001b[49m\u001b[43m,\u001b[49m\u001b[43m \u001b[49m\u001b[38;5;28;43mself\u001b[39;49m\u001b[38;5;241;43m.\u001b[39;49m\u001b[43mengine\u001b[49m\u001b[43m)\u001b[49m\n",
      "File \u001b[0;32m~/opt/anaconda3/lib/python3.9/site-packages/pandas/io/parsers/readers.py:1235\u001b[0m, in \u001b[0;36mTextFileReader._make_engine\u001b[0;34m(self, f, engine)\u001b[0m\n\u001b[1;32m   1232\u001b[0m     \u001b[38;5;28;01mraise\u001b[39;00m \u001b[38;5;167;01mValueError\u001b[39;00m(msg)\n\u001b[1;32m   1234\u001b[0m \u001b[38;5;28;01mtry\u001b[39;00m:\n\u001b[0;32m-> 1235\u001b[0m     \u001b[38;5;28;01mreturn\u001b[39;00m \u001b[43mmapping\u001b[49m\u001b[43m[\u001b[49m\u001b[43mengine\u001b[49m\u001b[43m]\u001b[49m\u001b[43m(\u001b[49m\u001b[43mf\u001b[49m\u001b[43m,\u001b[49m\u001b[43m \u001b[49m\u001b[38;5;241;43m*\u001b[39;49m\u001b[38;5;241;43m*\u001b[39;49m\u001b[38;5;28;43mself\u001b[39;49m\u001b[38;5;241;43m.\u001b[39;49m\u001b[43moptions\u001b[49m\u001b[43m)\u001b[49m\n\u001b[1;32m   1236\u001b[0m \u001b[38;5;28;01mexcept\u001b[39;00m \u001b[38;5;167;01mException\u001b[39;00m:\n\u001b[1;32m   1237\u001b[0m     \u001b[38;5;28;01mif\u001b[39;00m \u001b[38;5;28mself\u001b[39m\u001b[38;5;241m.\u001b[39mhandles \u001b[38;5;129;01mis\u001b[39;00m \u001b[38;5;129;01mnot\u001b[39;00m \u001b[38;5;28;01mNone\u001b[39;00m:\n",
      "File \u001b[0;32m~/opt/anaconda3/lib/python3.9/site-packages/pandas/io/parsers/c_parser_wrapper.py:75\u001b[0m, in \u001b[0;36mCParserWrapper.__init__\u001b[0;34m(self, src, **kwds)\u001b[0m\n\u001b[1;32m     72\u001b[0m     kwds\u001b[38;5;241m.\u001b[39mpop(key, \u001b[38;5;28;01mNone\u001b[39;00m)\n\u001b[1;32m     74\u001b[0m kwds[\u001b[38;5;124m\"\u001b[39m\u001b[38;5;124mdtype\u001b[39m\u001b[38;5;124m\"\u001b[39m] \u001b[38;5;241m=\u001b[39m ensure_dtype_objs(kwds\u001b[38;5;241m.\u001b[39mget(\u001b[38;5;124m\"\u001b[39m\u001b[38;5;124mdtype\u001b[39m\u001b[38;5;124m\"\u001b[39m, \u001b[38;5;28;01mNone\u001b[39;00m))\n\u001b[0;32m---> 75\u001b[0m \u001b[38;5;28mself\u001b[39m\u001b[38;5;241m.\u001b[39m_reader \u001b[38;5;241m=\u001b[39m \u001b[43mparsers\u001b[49m\u001b[38;5;241;43m.\u001b[39;49m\u001b[43mTextReader\u001b[49m\u001b[43m(\u001b[49m\u001b[43msrc\u001b[49m\u001b[43m,\u001b[49m\u001b[43m \u001b[49m\u001b[38;5;241;43m*\u001b[39;49m\u001b[38;5;241;43m*\u001b[39;49m\u001b[43mkwds\u001b[49m\u001b[43m)\u001b[49m\n\u001b[1;32m     77\u001b[0m \u001b[38;5;28mself\u001b[39m\u001b[38;5;241m.\u001b[39munnamed_cols \u001b[38;5;241m=\u001b[39m \u001b[38;5;28mself\u001b[39m\u001b[38;5;241m.\u001b[39m_reader\u001b[38;5;241m.\u001b[39munnamed_cols\n\u001b[1;32m     79\u001b[0m \u001b[38;5;66;03m# error: Cannot determine type of 'names'\u001b[39;00m\n",
      "File \u001b[0;32m~/opt/anaconda3/lib/python3.9/site-packages/pandas/_libs/parsers.pyx:544\u001b[0m, in \u001b[0;36mpandas._libs.parsers.TextReader.__cinit__\u001b[0;34m()\u001b[0m\n",
      "File \u001b[0;32m~/opt/anaconda3/lib/python3.9/site-packages/pandas/_libs/parsers.pyx:633\u001b[0m, in \u001b[0;36mpandas._libs.parsers.TextReader._get_header\u001b[0;34m()\u001b[0m\n",
      "File \u001b[0;32m~/opt/anaconda3/lib/python3.9/site-packages/pandas/_libs/parsers.pyx:847\u001b[0m, in \u001b[0;36mpandas._libs.parsers.TextReader._tokenize_rows\u001b[0;34m()\u001b[0m\n",
      "File \u001b[0;32m~/opt/anaconda3/lib/python3.9/site-packages/pandas/_libs/parsers.pyx:1952\u001b[0m, in \u001b[0;36mpandas._libs.parsers.raise_parser_error\u001b[0;34m()\u001b[0m\n",
      "\u001b[0;31mUnicodeDecodeError\u001b[0m: 'utf-8' codec can't decode byte 0xe6 in position 5764: invalid continuation byte"
     ]
    }
   ],
   "source": [
    "url = \"https://raw.githubusercontent.com/fivethirtyeight/data/master/avengers/avengers.csv\"\n",
    "mov = pd.read_csv(url,error_bad_lines=False)"
   ]
  },
  {
   "cell_type": "code",
   "execution_count": 274,
   "id": "a47cdb1c",
   "metadata": {},
   "outputs": [
    {
     "data": {
      "text/html": [
       "<div>\n",
       "<style scoped>\n",
       "    .dataframe tbody tr th:only-of-type {\n",
       "        vertical-align: middle;\n",
       "    }\n",
       "\n",
       "    .dataframe tbody tr th {\n",
       "        vertical-align: top;\n",
       "    }\n",
       "\n",
       "    .dataframe thead th {\n",
       "        text-align: right;\n",
       "    }\n",
       "</style>\n",
       "<table border=\"1\" class=\"dataframe\">\n",
       "  <thead>\n",
       "    <tr style=\"text-align: right;\">\n",
       "      <th></th>\n",
       "      <th>year</th>\n",
       "      <th>imdb</th>\n",
       "      <th>title</th>\n",
       "      <th>test</th>\n",
       "      <th>clean_test</th>\n",
       "      <th>binary</th>\n",
       "      <th>budget</th>\n",
       "      <th>domgross</th>\n",
       "      <th>intgross</th>\n",
       "      <th>code</th>\n",
       "      <th>budget_2013$</th>\n",
       "      <th>domgross_2013$</th>\n",
       "      <th>intgross_2013$</th>\n",
       "      <th>period code</th>\n",
       "      <th>decade code</th>\n",
       "    </tr>\n",
       "  </thead>\n",
       "  <tbody>\n",
       "    <tr>\n",
       "      <th>0</th>\n",
       "      <td>2013</td>\n",
       "      <td>tt1711425</td>\n",
       "      <td>21 &amp;amp; Over</td>\n",
       "      <td>notalk</td>\n",
       "      <td>notalk</td>\n",
       "      <td>FAIL</td>\n",
       "      <td>13000000</td>\n",
       "      <td>25682380.0</td>\n",
       "      <td>42195766.0</td>\n",
       "      <td>2013FAIL</td>\n",
       "      <td>13000000</td>\n",
       "      <td>25682380.0</td>\n",
       "      <td>42195766.0</td>\n",
       "      <td>1.0</td>\n",
       "      <td>1.0</td>\n",
       "    </tr>\n",
       "    <tr>\n",
       "      <th>1</th>\n",
       "      <td>2012</td>\n",
       "      <td>tt1343727</td>\n",
       "      <td>Dredd 3D</td>\n",
       "      <td>ok-disagree</td>\n",
       "      <td>ok</td>\n",
       "      <td>PASS</td>\n",
       "      <td>45000000</td>\n",
       "      <td>13414714.0</td>\n",
       "      <td>40868994.0</td>\n",
       "      <td>2012PASS</td>\n",
       "      <td>45658735</td>\n",
       "      <td>13611086.0</td>\n",
       "      <td>41467257.0</td>\n",
       "      <td>1.0</td>\n",
       "      <td>1.0</td>\n",
       "    </tr>\n",
       "    <tr>\n",
       "      <th>2</th>\n",
       "      <td>2013</td>\n",
       "      <td>tt2024544</td>\n",
       "      <td>12 Years a Slave</td>\n",
       "      <td>notalk-disagree</td>\n",
       "      <td>notalk</td>\n",
       "      <td>FAIL</td>\n",
       "      <td>20000000</td>\n",
       "      <td>53107035.0</td>\n",
       "      <td>158607035.0</td>\n",
       "      <td>2013FAIL</td>\n",
       "      <td>20000000</td>\n",
       "      <td>53107035.0</td>\n",
       "      <td>158607035.0</td>\n",
       "      <td>1.0</td>\n",
       "      <td>1.0</td>\n",
       "    </tr>\n",
       "    <tr>\n",
       "      <th>3</th>\n",
       "      <td>2013</td>\n",
       "      <td>tt1272878</td>\n",
       "      <td>2 Guns</td>\n",
       "      <td>notalk</td>\n",
       "      <td>notalk</td>\n",
       "      <td>FAIL</td>\n",
       "      <td>61000000</td>\n",
       "      <td>75612460.0</td>\n",
       "      <td>132493015.0</td>\n",
       "      <td>2013FAIL</td>\n",
       "      <td>61000000</td>\n",
       "      <td>75612460.0</td>\n",
       "      <td>132493015.0</td>\n",
       "      <td>1.0</td>\n",
       "      <td>1.0</td>\n",
       "    </tr>\n",
       "    <tr>\n",
       "      <th>4</th>\n",
       "      <td>2013</td>\n",
       "      <td>tt0453562</td>\n",
       "      <td>42</td>\n",
       "      <td>men</td>\n",
       "      <td>men</td>\n",
       "      <td>FAIL</td>\n",
       "      <td>40000000</td>\n",
       "      <td>95020213.0</td>\n",
       "      <td>95020213.0</td>\n",
       "      <td>2013FAIL</td>\n",
       "      <td>40000000</td>\n",
       "      <td>95020213.0</td>\n",
       "      <td>95020213.0</td>\n",
       "      <td>1.0</td>\n",
       "      <td>1.0</td>\n",
       "    </tr>\n",
       "  </tbody>\n",
       "</table>\n",
       "</div>"
      ],
      "text/plain": [
       "   year       imdb             title             test clean_test binary  \\\n",
       "0  2013  tt1711425     21 &amp; Over           notalk     notalk   FAIL   \n",
       "1  2012  tt1343727          Dredd 3D      ok-disagree         ok   PASS   \n",
       "2  2013  tt2024544  12 Years a Slave  notalk-disagree     notalk   FAIL   \n",
       "3  2013  tt1272878            2 Guns           notalk     notalk   FAIL   \n",
       "4  2013  tt0453562                42              men        men   FAIL   \n",
       "\n",
       "     budget    domgross     intgross      code  budget_2013$  domgross_2013$  \\\n",
       "0  13000000  25682380.0   42195766.0  2013FAIL      13000000      25682380.0   \n",
       "1  45000000  13414714.0   40868994.0  2012PASS      45658735      13611086.0   \n",
       "2  20000000  53107035.0  158607035.0  2013FAIL      20000000      53107035.0   \n",
       "3  61000000  75612460.0  132493015.0  2013FAIL      61000000      75612460.0   \n",
       "4  40000000  95020213.0   95020213.0  2013FAIL      40000000      95020213.0   \n",
       "\n",
       "   intgross_2013$  period code  decade code  \n",
       "0      42195766.0          1.0          1.0  \n",
       "1      41467257.0          1.0          1.0  \n",
       "2     158607035.0          1.0          1.0  \n",
       "3     132493015.0          1.0          1.0  \n",
       "4      95020213.0          1.0          1.0  "
      ]
     },
     "execution_count": 274,
     "metadata": {},
     "output_type": "execute_result"
    }
   ],
   "source": [
    "mov.head()"
   ]
  },
  {
   "cell_type": "code",
   "execution_count": 270,
   "id": "f4ccc7b6",
   "metadata": {},
   "outputs": [
    {
     "name": "stdout",
     "output_type": "stream",
     "text": [
      "                            OLS Regression Results                            \n",
      "==============================================================================\n",
      "Dep. Variable:                 budget   R-squared:                       0.497\n",
      "Model:                            OLS   Adj. R-squared:                  0.497\n",
      "Method:                 Least Squares   F-statistic:                     1759.\n",
      "Date:                Wed, 20 Jul 2022   Prob (F-statistic):          5.22e-268\n",
      "Time:                        16:47:55   Log-Likelihood:                -33462.\n",
      "No. Observations:                1783   AIC:                         6.693e+04\n",
      "Df Residuals:                    1781   BIC:                         6.694e+04\n",
      "Df Model:                           1                                         \n",
      "Covariance Type:            nonrobust                                         \n",
      "==============================================================================\n",
      "                 coef    std err          t      P>|t|      [0.025      0.975]\n",
      "------------------------------------------------------------------------------\n",
      "Intercept   2.073e+07   9.97e+05     20.799      0.000    1.88e+07    2.27e+07\n",
      "intgross       0.1617      0.004     41.945      0.000       0.154       0.169\n",
      "==============================================================================\n",
      "Omnibus:                      450.894   Durbin-Watson:                   1.848\n",
      "Prob(Omnibus):                  0.000   Jarque-Bera (JB):             2040.042\n",
      "Skew:                           1.134   Prob(JB):                         0.00\n",
      "Kurtosis:                       7.724   Cond. No.                     3.18e+08\n",
      "==============================================================================\n",
      "\n",
      "Notes:\n",
      "[1] Standard Errors assume that the covariance matrix of the errors is correctly specified.\n",
      "[2] The condition number is large, 3.18e+08. This might indicate that there are\n",
      "strong multicollinearity or other numerical problems.\n"
     ]
    }
   ],
   "source": [
    "import statsmodels.formula.api as smf\n",
    "model1 = smf.ols(data =  mov, formula = \"budget ~ intgross\").fit()\n",
    "print(model1.summary())"
   ]
  },
  {
   "cell_type": "code",
   "execution_count": 271,
   "id": "e5be134f",
   "metadata": {},
   "outputs": [
    {
     "data": {
      "text/plain": [
       "<seaborn.axisgrid.FacetGrid at 0x7fea6eedd670>"
      ]
     },
     "execution_count": 271,
     "metadata": {},
     "output_type": "execute_result"
    },
    {
     "data": {
      "image/png": "[encoded data removed]",
      "text/plain": [
       "<Figure size 360x360 with 1 Axes>"
      ]
     },
     "metadata": {
      "needs_background": "light"
     },
     "output_type": "display_data"
    }
   ],
   "source": [
    "sns.lmplot(data = mov, x = \"budget\", y = \"intgross\")"
   ]
  },
  {
   "cell_type": "code",
   "execution_count": 272,
   "id": "e8a35e96",
   "metadata": {},
   "outputs": [
    {
     "data": {
      "text/plain": [
       "<AxesSubplot:xlabel='budget', ylabel='intgross'>"
      ]
     },
     "execution_count": 272,
     "metadata": {},
     "output_type": "execute_result"
    },
    {
     "data": {
      "image/png": "[encoded data removed]",
      "text/plain": [
       "<Figure size 432x288 with 1 Axes>"
      ]
     },
     "metadata": {
      "needs_background": "light"
     },
     "output_type": "display_data"
    }
   ],
   "source": [
    "sns.residplot(data = mov, x = \"budget\", y = \"intgross\")"
   ]
  },
  {
   "cell_type": "code",
   "execution_count": null,
   "id": "56701311",
   "metadata": {},
   "outputs": [],
   "source": []
  }
 ],
 "metadata": {
  "kernelspec": {
   "display_name": "Python 3 (ipykernel)",
   "language": "python",
   "name": "python3"
  },
  "language_info": {
   "codemirror_mode": {
    "name": "ipython",
    "version": 3
   },
   "file_extension": ".py",
   "mimetype": "text/x-python",
   "name": "python",
   "nbconvert_exporter": "python",
   "pygments_lexer": "ipython3",
   "version": "3.9.12"
  }
 },
 "nbformat": 4,
 "nbformat_minor": 5
}
