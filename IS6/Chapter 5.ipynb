{
 "cells": [
  {
   "cell_type": "markdown",
   "id": "2be431ae",
   "metadata": {},
   "source": [
    "## IS6 in Python: The Standard Deviation as a Ruler and the Normal Moded (Chapter 5)\n",
    "\n",
    "### Introduction and background\n",
    "\n",
    "This document is intended to assist students in undertaking examples shown in the Sixth Edition of Intro Stats (2022) by De Veaux, Velleman, and Bock. This pdf file as well as the associated ipynb reproducible analysis source file used to create it can be found at (INSERT WEBSITE LINK HERE)."
   ]
  },
  {
   "cell_type": "markdown",
   "id": "195e7f7c",
   "metadata": {},
   "source": [
    "#### Chapter 5: The Standard Deviation as a Ruler and the Normal Model"
   ]
  },
  {
   "cell_type": "code",
   "execution_count": 2,
   "id": "2a53c3a9",
   "metadata": {},
   "outputs": [],
   "source": [
    "#Read libraries\n",
    "import numpy as np\n",
    "import pandas as pd\n",
    "import matplotlib.pyplot as plt\n",
    "import seaborn as sns"
   ]
  },
  {
   "cell_type": "code",
   "execution_count": 3,
   "id": "3923cced",
   "metadata": {
    "scrolled": true
   },
   "outputs": [
    {
     "data": {
      "text/html": [
       "<div>\n",
       "<style scoped>\n",
       "    .dataframe tbody tr th:only-of-type {\n",
       "        vertical-align: middle;\n",
       "    }\n",
       "\n",
       "    .dataframe tbody tr th {\n",
       "        vertical-align: top;\n",
       "    }\n",
       "\n",
       "    .dataframe thead th {\n",
       "        text-align: right;\n",
       "    }\n",
       "</style>\n",
       "<table border=\"1\" class=\"dataframe\">\n",
       "  <thead>\n",
       "    <tr style=\"text-align: right;\">\n",
       "      <th></th>\n",
       "      <th>First Name</th>\n",
       "      <th>Last Name</th>\n",
       "      <th>200m</th>\n",
       "      <th>LongJump</th>\n",
       "      <th>800m</th>\n",
       "      <th>HighJump</th>\n",
       "      <th>100m.hurdles</th>\n",
       "      <th>Javelin</th>\n",
       "      <th>ShotPut</th>\n",
       "    </tr>\n",
       "  </thead>\n",
       "  <tbody>\n",
       "    <tr>\n",
       "      <th>0</th>\n",
       "      <td>Evelis</td>\n",
       "      <td>Aguilar</td>\n",
       "      <td>24.12</td>\n",
       "      <td>6.23</td>\n",
       "      <td>134.32</td>\n",
       "      <td>1.74</td>\n",
       "      <td>13.84</td>\n",
       "      <td>46.90</td>\n",
       "      <td>13.60</td>\n",
       "    </tr>\n",
       "    <tr>\n",
       "      <th>1</th>\n",
       "      <td>Nadine</td>\n",
       "      <td>Broersen</td>\n",
       "      <td>24.94</td>\n",
       "      <td>6.15</td>\n",
       "      <td>137.55</td>\n",
       "      <td>1.77</td>\n",
       "      <td>13.56</td>\n",
       "      <td>50.80</td>\n",
       "      <td>14.04</td>\n",
       "    </tr>\n",
       "    <tr>\n",
       "      <th>2</th>\n",
       "      <td>Katerina</td>\n",
       "      <td>Cachova</td>\n",
       "      <td>24.32</td>\n",
       "      <td>5.91</td>\n",
       "      <td>138.95</td>\n",
       "      <td>1.77</td>\n",
       "      <td>13.19</td>\n",
       "      <td>37.77</td>\n",
       "      <td>12.38</td>\n",
       "    </tr>\n",
       "    <tr>\n",
       "      <th>3</th>\n",
       "      <td>Vanessa</td>\n",
       "      <td>Chefer</td>\n",
       "      <td>24.11</td>\n",
       "      <td>6.10</td>\n",
       "      <td>134.20</td>\n",
       "      <td>1.68</td>\n",
       "      <td>14.24</td>\n",
       "      <td>45.05</td>\n",
       "      <td>13.06</td>\n",
       "    </tr>\n",
       "    <tr>\n",
       "      <th>4</th>\n",
       "      <td>Ivona</td>\n",
       "      <td>Dadic</td>\n",
       "      <td>24.60</td>\n",
       "      <td>6.05</td>\n",
       "      <td>135.64</td>\n",
       "      <td>1.77</td>\n",
       "      <td>13.84</td>\n",
       "      <td>46.08</td>\n",
       "      <td>13.43</td>\n",
       "    </tr>\n",
       "    <tr>\n",
       "      <th>5</th>\n",
       "      <td>Jessica</td>\n",
       "      <td>Ennis-Hill</td>\n",
       "      <td>23.49</td>\n",
       "      <td>6.34</td>\n",
       "      <td>129.07</td>\n",
       "      <td>1.89</td>\n",
       "      <td>12.84</td>\n",
       "      <td>46.06</td>\n",
       "      <td>13.86</td>\n",
       "    </tr>\n",
       "    <tr>\n",
       "      <th>6</th>\n",
       "      <td>Alysbeth</td>\n",
       "      <td>Felix</td>\n",
       "      <td>24.74</td>\n",
       "      <td>6.22</td>\n",
       "      <td>135.32</td>\n",
       "      <td>1.68</td>\n",
       "      <td>14.07</td>\n",
       "      <td>40.17</td>\n",
       "      <td>11.36</td>\n",
       "    </tr>\n",
       "    <tr>\n",
       "      <th>7</th>\n",
       "      <td>Alina</td>\n",
       "      <td>Fodorova</td>\n",
       "      <td>25.44</td>\n",
       "      <td>6.00</td>\n",
       "      <td>NaN</td>\n",
       "      <td>1.80</td>\n",
       "      <td>14.10</td>\n",
       "      <td>35.44</td>\n",
       "      <td>14.38</td>\n",
       "    </tr>\n",
       "    <tr>\n",
       "      <th>8</th>\n",
       "      <td>Laura</td>\n",
       "      <td>Ikauniece-Admidina</td>\n",
       "      <td>23.76</td>\n",
       "      <td>6.12</td>\n",
       "      <td>129.43</td>\n",
       "      <td>1.77</td>\n",
       "      <td>13.33</td>\n",
       "      <td>55.93</td>\n",
       "      <td>13.52</td>\n",
       "    </tr>\n",
       "    <tr>\n",
       "      <th>9</th>\n",
       "      <td>Katarina</td>\n",
       "      <td>Johnson-Thompson</td>\n",
       "      <td>23.26</td>\n",
       "      <td>6.51</td>\n",
       "      <td>130.47</td>\n",
       "      <td>1.98</td>\n",
       "      <td>13.48</td>\n",
       "      <td>36.36</td>\n",
       "      <td>11.68</td>\n",
       "    </tr>\n",
       "    <tr>\n",
       "      <th>10</th>\n",
       "      <td>Akela</td>\n",
       "      <td>Jones</td>\n",
       "      <td>24.35</td>\n",
       "      <td>6.30</td>\n",
       "      <td>161.12</td>\n",
       "      <td>1.89</td>\n",
       "      <td>13.00</td>\n",
       "      <td>42.00</td>\n",
       "      <td>14.09</td>\n",
       "    </tr>\n",
       "    <tr>\n",
       "      <th>11</th>\n",
       "      <td>Hanna</td>\n",
       "      <td>Kasyanova</td>\n",
       "      <td>24.60</td>\n",
       "      <td>5.88</td>\n",
       "      <td>136.58</td>\n",
       "      <td>1.77</td>\n",
       "      <td>13.66</td>\n",
       "      <td>38.10</td>\n",
       "      <td>13.25</td>\n",
       "    </tr>\n",
       "    <tr>\n",
       "      <th>12</th>\n",
       "      <td>Eliska</td>\n",
       "      <td>Klucinova</td>\n",
       "      <td>25.37</td>\n",
       "      <td>6.08</td>\n",
       "      <td>142.81</td>\n",
       "      <td>1.80</td>\n",
       "      <td>14.07</td>\n",
       "      <td>46.73</td>\n",
       "      <td>14.41</td>\n",
       "    </tr>\n",
       "    <tr>\n",
       "      <th>13</th>\n",
       "      <td>Xenia</td>\n",
       "      <td>Krizsan</td>\n",
       "      <td>25.24</td>\n",
       "      <td>6.08</td>\n",
       "      <td>133.46</td>\n",
       "      <td>1.77</td>\n",
       "      <td>13.66</td>\n",
       "      <td>49.78</td>\n",
       "      <td>13.78</td>\n",
       "    </tr>\n",
       "    <tr>\n",
       "      <th>14</th>\n",
       "      <td>Heather</td>\n",
       "      <td>Miller-Koch</td>\n",
       "      <td>24.97</td>\n",
       "      <td>6.16</td>\n",
       "      <td>126.82</td>\n",
       "      <td>1.80</td>\n",
       "      <td>13.56</td>\n",
       "      <td>40.25</td>\n",
       "      <td>12.91</td>\n",
       "    </tr>\n",
       "    <tr>\n",
       "      <th>15</th>\n",
       "      <td>Antoinette</td>\n",
       "      <td>Nana Djimou Ida</td>\n",
       "      <td>25.07</td>\n",
       "      <td>6.43</td>\n",
       "      <td>140.36</td>\n",
       "      <td>1.77</td>\n",
       "      <td>13.37</td>\n",
       "      <td>48.76</td>\n",
       "      <td>14.88</td>\n",
       "    </tr>\n",
       "    <tr>\n",
       "      <th>16</th>\n",
       "      <td>Barbara</td>\n",
       "      <td>Nwaba</td>\n",
       "      <td>24.77</td>\n",
       "      <td>5.81</td>\n",
       "      <td>131.61</td>\n",
       "      <td>1.83</td>\n",
       "      <td>13.81</td>\n",
       "      <td>46.85</td>\n",
       "      <td>14.81</td>\n",
       "    </tr>\n",
       "    <tr>\n",
       "      <th>17</th>\n",
       "      <td>Jennifer</td>\n",
       "      <td>Oeser</td>\n",
       "      <td>24.99</td>\n",
       "      <td>6.19</td>\n",
       "      <td>133.82</td>\n",
       "      <td>1.86</td>\n",
       "      <td>13.69</td>\n",
       "      <td>47.22</td>\n",
       "      <td>14.28</td>\n",
       "    </tr>\n",
       "    <tr>\n",
       "      <th>18</th>\n",
       "      <td>Uhunoma</td>\n",
       "      <td>Osazuwa</td>\n",
       "      <td>24.67</td>\n",
       "      <td>5.72</td>\n",
       "      <td>NaN</td>\n",
       "      <td>1.77</td>\n",
       "      <td>13.75</td>\n",
       "      <td>33.42</td>\n",
       "      <td>13.15</td>\n",
       "    </tr>\n",
       "    <tr>\n",
       "      <th>19</th>\n",
       "      <td>Claudia</td>\n",
       "      <td>Rath</td>\n",
       "      <td>24.48</td>\n",
       "      <td>6.55</td>\n",
       "      <td>127.22</td>\n",
       "      <td>1.74</td>\n",
       "      <td>13.63</td>\n",
       "      <td>39.39</td>\n",
       "      <td>12.83</td>\n",
       "    </tr>\n",
       "    <tr>\n",
       "      <th>20</th>\n",
       "      <td>Yorgelis</td>\n",
       "      <td>Rodrguez</td>\n",
       "      <td>24.26</td>\n",
       "      <td>6.25</td>\n",
       "      <td>134.65</td>\n",
       "      <td>1.86</td>\n",
       "      <td>13.61</td>\n",
       "      <td>48.89</td>\n",
       "      <td>13.69</td>\n",
       "    </tr>\n",
       "    <tr>\n",
       "      <th>21</th>\n",
       "      <td>Grit</td>\n",
       "      <td>Sadeiko</td>\n",
       "      <td>NaN</td>\n",
       "      <td>NaN</td>\n",
       "      <td>NaN</td>\n",
       "      <td>NaN</td>\n",
       "      <td>NaN</td>\n",
       "      <td>NaN</td>\n",
       "      <td>NaN</td>\n",
       "    </tr>\n",
       "    <tr>\n",
       "      <th>22</th>\n",
       "      <td>Carolin</td>\n",
       "      <td>Schfer</td>\n",
       "      <td>23.99</td>\n",
       "      <td>6.20</td>\n",
       "      <td>136.52</td>\n",
       "      <td>1.83</td>\n",
       "      <td>13.12</td>\n",
       "      <td>47.99</td>\n",
       "      <td>14.57</td>\n",
       "    </tr>\n",
       "    <tr>\n",
       "      <th>23</th>\n",
       "      <td>Brianne</td>\n",
       "      <td>Theisen-Eaton</td>\n",
       "      <td>24.18</td>\n",
       "      <td>6.48</td>\n",
       "      <td>129.50</td>\n",
       "      <td>1.86</td>\n",
       "      <td>13.18</td>\n",
       "      <td>47.36</td>\n",
       "      <td>13.45</td>\n",
       "    </tr>\n",
       "    <tr>\n",
       "      <th>24</th>\n",
       "      <td>Nafissatou</td>\n",
       "      <td>Thiam</td>\n",
       "      <td>25.10</td>\n",
       "      <td>6.58</td>\n",
       "      <td>136.54</td>\n",
       "      <td>1.98</td>\n",
       "      <td>13.56</td>\n",
       "      <td>53.13</td>\n",
       "      <td>14.91</td>\n",
       "    </tr>\n",
       "    <tr>\n",
       "      <th>25</th>\n",
       "      <td>Anouk</td>\n",
       "      <td>Vetter</td>\n",
       "      <td>23.93</td>\n",
       "      <td>6.10</td>\n",
       "      <td>137.71</td>\n",
       "      <td>1.77</td>\n",
       "      <td>13.47</td>\n",
       "      <td>48.42</td>\n",
       "      <td>14.78</td>\n",
       "    </tr>\n",
       "    <tr>\n",
       "      <th>26</th>\n",
       "      <td>Nadine</td>\n",
       "      <td>Visser</td>\n",
       "      <td>24.34</td>\n",
       "      <td>6.35</td>\n",
       "      <td>134.47</td>\n",
       "      <td>1.68</td>\n",
       "      <td>13.02</td>\n",
       "      <td>42.48</td>\n",
       "      <td>12.84</td>\n",
       "    </tr>\n",
       "    <tr>\n",
       "      <th>27</th>\n",
       "      <td>Ekaterina</td>\n",
       "      <td>Voronina</td>\n",
       "      <td>NaN</td>\n",
       "      <td>NaN</td>\n",
       "      <td>NaN</td>\n",
       "      <td>1.65</td>\n",
       "      <td>15.21</td>\n",
       "      <td>NaN</td>\n",
       "      <td>NaN</td>\n",
       "    </tr>\n",
       "    <tr>\n",
       "      <th>28</th>\n",
       "      <td>Kendell</td>\n",
       "      <td>Williams</td>\n",
       "      <td>24.09</td>\n",
       "      <td>6.31</td>\n",
       "      <td>136.24</td>\n",
       "      <td>1.83</td>\n",
       "      <td>13.04</td>\n",
       "      <td>40.93</td>\n",
       "      <td>11.21</td>\n",
       "    </tr>\n",
       "    <tr>\n",
       "      <th>29</th>\n",
       "      <td>Sofia</td>\n",
       "      <td>Yfantidou</td>\n",
       "      <td>26.32</td>\n",
       "      <td>5.51</td>\n",
       "      <td>150.08</td>\n",
       "      <td>1.65</td>\n",
       "      <td>13.99</td>\n",
       "      <td>54.57</td>\n",
       "      <td>12.97</td>\n",
       "    </tr>\n",
       "    <tr>\n",
       "      <th>30</th>\n",
       "      <td>Gyorgyi</td>\n",
       "      <td>Zsivoczky-Farkas</td>\n",
       "      <td>25.38</td>\n",
       "      <td>6.31</td>\n",
       "      <td>131.76</td>\n",
       "      <td>1.86</td>\n",
       "      <td>13.79</td>\n",
       "      <td>48.07</td>\n",
       "      <td>14.39</td>\n",
       "    </tr>\n",
       "  </tbody>\n",
       "</table>\n",
       "</div>"
      ],
      "text/plain": [
       "    First Name           Last Name   200m  LongJump    800m  HighJump  \\\n",
       "0       Evelis             Aguilar  24.12      6.23  134.32      1.74   \n",
       "1       Nadine            Broersen  24.94      6.15  137.55      1.77   \n",
       "2     Katerina            Cachova  24.32      5.91  138.95      1.77   \n",
       "3      Vanessa              Chefer  24.11      6.10  134.20      1.68   \n",
       "4        Ivona               Dadic  24.60      6.05  135.64      1.77   \n",
       "5      Jessica          Ennis-Hill  23.49      6.34  129.07      1.89   \n",
       "6     Alysbeth               Felix  24.74      6.22  135.32      1.68   \n",
       "7        Alina            Fodorova  25.44      6.00     NaN      1.80   \n",
       "8        Laura  Ikauniece-Admidina  23.76      6.12  129.43      1.77   \n",
       "9     Katarina    Johnson-Thompson  23.26      6.51  130.47      1.98   \n",
       "10       Akela               Jones  24.35      6.30  161.12      1.89   \n",
       "11       Hanna           Kasyanova  24.60      5.88  136.58      1.77   \n",
       "12      Eliska           Klucinova  25.37      6.08  142.81      1.80   \n",
       "13      Xenia            Krizsan  25.24      6.08  133.46      1.77   \n",
       "14     Heather         Miller-Koch  24.97      6.16  126.82      1.80   \n",
       "15  Antoinette     Nana Djimou Ida  25.07      6.43  140.36      1.77   \n",
       "16     Barbara               Nwaba  24.77      5.81  131.61      1.83   \n",
       "17    Jennifer               Oeser  24.99      6.19  133.82      1.86   \n",
       "18     Uhunoma             Osazuwa  24.67      5.72     NaN      1.77   \n",
       "19     Claudia                Rath  24.48      6.55  127.22      1.74   \n",
       "20    Yorgelis           Rodrguez  24.26      6.25  134.65      1.86   \n",
       "21        Grit             Sadeiko    NaN       NaN     NaN       NaN   \n",
       "22     Carolin             Schfer  23.99      6.20  136.52      1.83   \n",
       "23     Brianne       Theisen-Eaton  24.18      6.48  129.50      1.86   \n",
       "24  Nafissatou               Thiam  25.10      6.58  136.54      1.98   \n",
       "25       Anouk              Vetter  23.93      6.10  137.71      1.77   \n",
       "26      Nadine              Visser  24.34      6.35  134.47      1.68   \n",
       "27   Ekaterina            Voronina    NaN       NaN     NaN      1.65   \n",
       "28     Kendell            Williams  24.09      6.31  136.24      1.83   \n",
       "29       Sofia           Yfantidou  26.32      5.51  150.08      1.65   \n",
       "30    Gyorgyi    Zsivoczky-Farkas  25.38      6.31  131.76      1.86   \n",
       "\n",
       "    100m.hurdles  Javelin  ShotPut  \n",
       "0          13.84    46.90    13.60  \n",
       "1          13.56    50.80    14.04  \n",
       "2          13.19    37.77    12.38  \n",
       "3          14.24    45.05    13.06  \n",
       "4          13.84    46.08    13.43  \n",
       "5          12.84    46.06    13.86  \n",
       "6          14.07    40.17    11.36  \n",
       "7          14.10    35.44    14.38  \n",
       "8          13.33    55.93    13.52  \n",
       "9          13.48    36.36    11.68  \n",
       "10         13.00    42.00    14.09  \n",
       "11         13.66    38.10    13.25  \n",
       "12         14.07    46.73    14.41  \n",
       "13         13.66    49.78    13.78  \n",
       "14         13.56    40.25    12.91  \n",
       "15         13.37    48.76    14.88  \n",
       "16         13.81    46.85    14.81  \n",
       "17         13.69    47.22    14.28  \n",
       "18         13.75    33.42    13.15  \n",
       "19         13.63    39.39    12.83  \n",
       "20         13.61    48.89    13.69  \n",
       "21           NaN      NaN      NaN  \n",
       "22         13.12    47.99    14.57  \n",
       "23         13.18    47.36    13.45  \n",
       "24         13.56    53.13    14.91  \n",
       "25         13.47    48.42    14.78  \n",
       "26         13.02    42.48    12.84  \n",
       "27         15.21      NaN      NaN  \n",
       "28         13.04    40.93    11.21  \n",
       "29         13.99    54.57    12.97  \n",
       "30         13.79    48.07    14.39  "
      ]
     },
     "execution_count": 3,
     "metadata": {},
     "output_type": "execute_result"
    }
   ],
   "source": [
    "womens = pd.read_csv(\"datasets/womens-heptathlon-2016.txt\", sep = \"\\t\")\n",
    "\n",
    "womens"
   ]
  },
  {
   "cell_type": "code",
   "execution_count": 4,
   "id": "07bba5f5",
   "metadata": {},
   "outputs": [
    {
     "name": "stdout",
     "output_type": "stream",
     "text": [
      "count    29.000000\n",
      "mean      6.169655\n",
      "std       0.247465\n",
      "min       5.510000\n",
      "25%       6.080000\n",
      "50%       6.190000\n",
      "75%       6.310000\n",
      "max       6.580000\n",
      "Name: LongJump, dtype: float64\n"
     ]
    }
   ],
   "source": [
    "#page 129\n",
    "print(womens[\"LongJump\"].describe())"
   ]
  },
  {
   "cell_type": "code",
   "execution_count": 5,
   "id": "2f2451a2",
   "metadata": {
    "scrolled": true
   },
   "outputs": [
    {
     "name": "stdout",
     "output_type": "stream",
     "text": [
      "count    29.000000\n",
      "mean     24.582069\n",
      "std       0.654498\n",
      "min      23.260000\n",
      "25%      24.120000\n",
      "50%      24.600000\n",
      "75%      24.990000\n",
      "max      26.320000\n",
      "Name: 200m, dtype: float64\n"
     ]
    }
   ],
   "source": [
    "print(womens[\"200m\"].describe())"
   ]
  },
  {
   "cell_type": "markdown",
   "id": "00dd8250",
   "metadata": {},
   "source": [
    "Question: I don't know how to make stem and leaf plots without calling another library"
   ]
  },
  {
   "cell_type": "markdown",
   "id": "e154f34a",
   "metadata": {},
   "source": [
    "#### Section 5.1: Using the Standard Deviation to Standardize Values"
   ]
  },
  {
   "cell_type": "code",
   "execution_count": 6,
   "id": "02063b76",
   "metadata": {},
   "outputs": [
    {
     "name": "stdout",
     "output_type": "stream",
     "text": [
      "    First Name Last Name  200m  LongJump    800m  HighJump  100m.hurdles  \\\n",
      "24  Nafissatou     Thiam  25.1      6.58  136.54      1.98         13.56   \n",
      "\n",
      "    Javelin  ShotPut  \n",
      "24    53.13    14.91  \n",
      "1.6599190283400815\n"
     ]
    }
   ],
   "source": [
    "#Page 129\n",
    "thiam = womens[womens[\"Last Name\"] == \"Thiam\"]\n",
    "\n",
    "print(thiam)\n",
    "\n",
    "#Calculate z-score with mean and sd from df_stats\n",
    "print((6.58 - 6.17)/ 0.247)"
   ]
  },
  {
   "cell_type": "code",
   "execution_count": 7,
   "id": "ef28821e",
   "metadata": {
    "scrolled": true
   },
   "outputs": [
    {
     "name": "stdout",
     "output_type": "stream",
     "text": [
      "  First Name         Last Name   200m  LongJump    800m  HighJump  \\\n",
      "9   Katarina  Johnson-Thompson  23.26      6.51  130.47      1.98   \n",
      "\n",
      "   100m.hurdles  Javelin  ShotPut  \n",
      "9         13.48    36.36    11.68  \n"
     ]
    }
   ],
   "source": [
    "#Page 129\n",
    "johnson = womens[womens[\"Last Name\"] == \"Johnson-Thompson\"]\n",
    "\n",
    "print(johnson)"
   ]
  },
  {
   "cell_type": "markdown",
   "id": "611e5961",
   "metadata": {},
   "source": [
    "#### Section 5.2: Shifting and Scaling\n",
    "#### Shifting to Adjust the Center"
   ]
  },
  {
   "cell_type": "code",
   "execution_count": 22,
   "id": "525f62e3",
   "metadata": {},
   "outputs": [
    {
     "data": {
      "image/png": "[encoded data removed]",
      "text/plain": [
       "<Figure size 432x288 with 1 Axes>"
      ]
     },
     "metadata": {
      "needs_background": "light"
     },
     "output_type": "display_data"
    }
   ],
   "source": [
    "#Figure 5.2, page 131\n",
    "weights = pd.read_csv(\"datasets/mens-weights.txt\", sep = \"\\t\")\n",
    "sns.histplot(data = weights, x = \"Weight in kg\")\n",
    "plt.ylabel(\"# of Men\")\n",
    "plt.show()"
   ]
  },
  {
   "cell_type": "code",
   "execution_count": 9,
   "id": "de94ed8e",
   "metadata": {
    "scrolled": true
   },
   "outputs": [
    {
     "data": {
      "image/png": "[encoded data removed]",
      "text/plain": [
       "<Figure size 432x288 with 1 Axes>"
      ]
     },
     "metadata": {
      "needs_background": "light"
     },
     "output_type": "display_data"
    }
   ],
   "source": [
    "sns.boxplot(data = weights, x = \"Weight in kg\")\n",
    "plt.show()"
   ]
  },
  {
   "cell_type": "code",
   "execution_count": 10,
   "id": "ed8074b8",
   "metadata": {},
   "outputs": [
    {
     "name": "stdout",
     "output_type": "stream",
     "text": [
      "count     80.000000\n",
      "mean      82.356250\n",
      "std       22.268806\n",
      "min       54.300000\n",
      "25%       67.350000\n",
      "50%       76.850000\n",
      "75%       91.650000\n",
      "max      161.500000\n",
      "Name: Weight in kg, dtype: float64\n"
     ]
    }
   ],
   "source": [
    "print(weights[\"Weight in kg\"].describe())"
   ]
  },
  {
   "cell_type": "code",
   "execution_count": 11,
   "id": "b011af66",
   "metadata": {},
   "outputs": [
    {
     "data": {
      "image/png": "[encoded data removed]",
      "text/plain": [
       "<Figure size 432x288 with 1 Axes>"
      ]
     },
     "metadata": {
      "needs_background": "light"
     },
     "output_type": "display_data"
    }
   ],
   "source": [
    "#Figure 5.3, page 132\n",
    "#Plot histogram\n",
    "sns.histplot(data = weights, x = weights[\"Weight in kg\"] - 74)\n",
    "plt.ylabel(\"# of Men\")\n",
    "plt.xlabel(\"Kg Above Recommended Weight\")\n",
    "plt.show()"
   ]
  },
  {
   "cell_type": "markdown",
   "id": "13f47da3",
   "metadata": {},
   "source": [
    "#### Rescaling to Adjust the Scale"
   ]
  },
  {
   "cell_type": "code",
   "execution_count": 12,
   "id": "82c9be5b",
   "metadata": {},
   "outputs": [
    {
     "name": "stdout",
     "output_type": "stream",
     "text": [
      "count     80.000000\n",
      "mean      82.356250\n",
      "std       22.268806\n",
      "min       54.300000\n",
      "25%       67.350000\n",
      "50%       76.850000\n",
      "75%       91.650000\n",
      "max      161.500000\n",
      "Name: Weight in kg, dtype: float64\n",
      "\n",
      "count     80.000000\n",
      "mean     181.183750\n",
      "std       48.991373\n",
      "min      119.460000\n",
      "25%      148.170000\n",
      "50%      169.070000\n",
      "75%      201.630000\n",
      "max      355.300000\n",
      "Name: Weight in pounds, dtype: float64\n"
     ]
    }
   ],
   "source": [
    "print(weights[\"Weight in kg\"].describe())\n",
    "print()\n",
    "print(weights[\"Weight in pounds\"].describe())"
   ]
  },
  {
   "cell_type": "code",
   "execution_count": 13,
   "id": "65b30b3f",
   "metadata": {},
   "outputs": [
    {
     "data": {
      "image/png": "[encoded data removed]",
      "text/plain": [
       "<Figure size 432x288 with 2 Axes>"
      ]
     },
     "metadata": {
      "needs_background": "light"
     },
     "output_type": "display_data"
    }
   ],
   "source": [
    "fig,ax = plt.subplots(1,2, sharey = True, squeeze = True)\n",
    "ax[0].boxplot(data = weights, x = \"Weight in kg\")\n",
    "ax[0].set_xlabel(\"Weight (kg)\")\n",
    "ax[1].boxplot(data = weights, x = \"Weight in pounds\")\n",
    "ax[1].set_xlabel(\"Weight (lb)\")\n",
    "\n",
    "plt.show()"
   ]
  },
  {
   "cell_type": "markdown",
   "id": "1fe9d20d",
   "metadata": {},
   "source": [
    "#### Shifting, Scaling, and the z-Scores\n",
    "#### Section 5.3: Normal Models\n",
    "#### The 68-95-99.7 Rule"
   ]
  },
  {
   "cell_type": "code",
   "execution_count": 14,
   "id": "423cceaf",
   "metadata": {},
   "outputs": [
    {
     "data": {
      "text/plain": [
       "<seaborn.axisgrid.FacetGrid at 0x28be66ec610>"
      ]
     },
     "execution_count": 14,
     "metadata": {},
     "output_type": "execute_result"
    },
    {
     "data": {
      "image/png": "[encoded data removed]",
      "text/plain": [
       "<Figure size 360x360 with 1 Axes>"
      ]
     },
     "metadata": {
      "needs_background": "light"
     },
     "output_type": "display_data"
    }
   ],
   "source": [
    "#display on page 135\n",
    "#make this example reproducible\n",
    "np.random.seed(0)\n",
    "\n",
    "#create data\n",
    "x = np.random.normal(size=1000)\n",
    "\n",
    "#create normal distribution curve\n",
    "sns.displot(x, kind = \"kde\")"
   ]
  },
  {
   "cell_type": "markdown",
   "id": "da3d1457",
   "metadata": {},
   "source": [
    "Question: This is not quite the model in the book. Any suggestions on alternatives?"
   ]
  },
  {
   "cell_type": "markdown",
   "id": "8b3cf5f2",
   "metadata": {},
   "source": [
    "#### Example 5.4: Using the 68 - 95- 99.7 Rule"
   ]
  },
  {
   "cell_type": "code",
   "execution_count": 15,
   "id": "98ae651a",
   "metadata": {
    "scrolled": true
   },
   "outputs": [
    {
     "data": {
      "image/png": "[encoded data removed]",
      "text/plain": [
       "<Figure size 432x288 with 1 Axes>"
      ]
     },
     "metadata": {
      "needs_background": "light"
     },
     "output_type": "display_data"
    }
   ],
   "source": [
    "fat = pd.read_csv(\"datasets/bodyfat.txt\", sep = \"\\t\")\n",
    "sns.histplot(data = fat, x = \"Wrist\")\n",
    "plt.show()"
   ]
  },
  {
   "cell_type": "markdown",
   "id": "146d0172",
   "metadata": {},
   "source": [
    "#### Random Matters"
   ]
  },
  {
   "cell_type": "code",
   "execution_count": 16,
   "id": "57d8eaff",
   "metadata": {},
   "outputs": [
    {
     "data": {
      "image/png": "[encoded data removed]",
      "text/plain": [
       "<Figure size 432x288 with 1 Axes>"
      ]
     },
     "metadata": {
      "needs_background": "light"
     },
     "output_type": "display_data"
    }
   ],
   "source": [
    "#Starts on page 139\n",
    "commute = pd.read_csv(\"datasets/population-commute-times.txt\", sep = \"\\t\")\n",
    "\n",
    "commute\n",
    "\n",
    "sns.histplot(data = commute, x = \"Commute.Time\", binwidth = 10)\n",
    "plt.show()"
   ]
  },
  {
   "cell_type": "code",
   "execution_count": 17,
   "id": "b12e6b0d",
   "metadata": {},
   "outputs": [],
   "source": [
    "#Sample 10000 times, each time samples 100 examples\n",
    "means = np.zeros(10000)\n",
    "\n",
    "for i in range(10000):\n",
    "    sample = commute.sample(n = 100)\n",
    "    mean = sample.mean()\n",
    "    means[i] = mean"
   ]
  },
  {
   "cell_type": "code",
   "execution_count": 18,
   "id": "9b9e5f18",
   "metadata": {},
   "outputs": [
    {
     "data": {
      "image/png": "[encoded data removed]",
      "text/plain": [
       "<Figure size 432x288 with 1 Axes>"
      ]
     },
     "metadata": {
      "needs_background": "light"
     },
     "output_type": "display_data"
    }
   ],
   "source": [
    "#Plot the sampling distribution\n",
    "sns.histplot(data = means)\n",
    "plt.xlabel(\"Means of Samples of Size 100\")\n",
    "plt.ylabel(\"$ of Samples\")\n",
    "plt.show()"
   ]
  },
  {
   "cell_type": "markdown",
   "id": "387ca8d1",
   "metadata": {},
   "source": [
    "#### Section 5.4: Working with Normal Percentiles"
   ]
  },
  {
   "cell_type": "markdown",
   "id": "4184bee4",
   "metadata": {},
   "source": [
    "Question: I need to import another library to work with normal models. What should I do?"
   ]
  },
  {
   "cell_type": "markdown",
   "id": "ccee84f9",
   "metadata": {},
   "source": [
    "#### Section 5.5: Normal Probability Plots"
   ]
  },
  {
   "cell_type": "code",
   "execution_count": 19,
   "id": "b137f0f9",
   "metadata": {},
   "outputs": [
    {
     "data": {
      "text/html": [
       "<div>\n",
       "<style scoped>\n",
       "    .dataframe tbody tr th:only-of-type {\n",
       "        vertical-align: middle;\n",
       "    }\n",
       "\n",
       "    .dataframe tbody tr th {\n",
       "        vertical-align: top;\n",
       "    }\n",
       "\n",
       "    .dataframe thead th {\n",
       "        text-align: right;\n",
       "    }\n",
       "</style>\n",
       "<table border=\"1\" class=\"dataframe\">\n",
       "  <thead>\n",
       "    <tr style=\"text-align: right;\">\n",
       "      <th></th>\n",
       "      <th>mpg</th>\n",
       "    </tr>\n",
       "  </thead>\n",
       "  <tbody>\n",
       "    <tr>\n",
       "      <th>0</th>\n",
       "      <td>21.964</td>\n",
       "    </tr>\n",
       "    <tr>\n",
       "      <th>1</th>\n",
       "      <td>23.694</td>\n",
       "    </tr>\n",
       "    <tr>\n",
       "      <th>2</th>\n",
       "      <td>18.824</td>\n",
       "    </tr>\n",
       "    <tr>\n",
       "      <th>3</th>\n",
       "      <td>20.851</td>\n",
       "    </tr>\n",
       "    <tr>\n",
       "      <th>4</th>\n",
       "      <td>26.370</td>\n",
       "    </tr>\n",
       "    <tr>\n",
       "      <th>...</th>\n",
       "      <td>...</td>\n",
       "    </tr>\n",
       "    <tr>\n",
       "      <th>95</th>\n",
       "      <td>24.514</td>\n",
       "    </tr>\n",
       "    <tr>\n",
       "      <th>96</th>\n",
       "      <td>24.500</td>\n",
       "    </tr>\n",
       "    <tr>\n",
       "      <th>97</th>\n",
       "      <td>22.344</td>\n",
       "    </tr>\n",
       "    <tr>\n",
       "      <th>98</th>\n",
       "      <td>22.847</td>\n",
       "    </tr>\n",
       "    <tr>\n",
       "      <th>99</th>\n",
       "      <td>19.551</td>\n",
       "    </tr>\n",
       "  </tbody>\n",
       "</table>\n",
       "<p>100 rows × 1 columns</p>\n",
       "</div>"
      ],
      "text/plain": [
       "       mpg\n",
       "0   21.964\n",
       "1   23.694\n",
       "2   18.824\n",
       "3   20.851\n",
       "4   26.370\n",
       "..     ...\n",
       "95  24.514\n",
       "96  24.500\n",
       "97  22.344\n",
       "98  22.847\n",
       "99  19.551\n",
       "\n",
       "[100 rows x 1 columns]"
      ]
     },
     "execution_count": 19,
     "metadata": {},
     "output_type": "execute_result"
    }
   ],
   "source": [
    "nissan = pd.read_csv(\"datasets/nissan.txt\", sep = \"\\t\")\n",
    "\n",
    "nissan"
   ]
  },
  {
   "cell_type": "code",
   "execution_count": 20,
   "id": "fbae1f28",
   "metadata": {},
   "outputs": [
    {
     "data": {
      "image/png": "[encoded data removed]",
      "text/plain": [
       "<Figure size 432x288 with 1 Axes>"
      ]
     },
     "metadata": {
      "needs_background": "light"
     },
     "output_type": "display_data"
    }
   ],
   "source": [
    "#Figure 5.8, page 148\n",
    "sns.histplot(data = nissan, x = \"mpg\")\n",
    "plt.show()"
   ]
  },
  {
   "cell_type": "markdown",
   "id": "52bf39a2",
   "metadata": {},
   "source": [
    "Question: I need to import another library to work with normal models (to plot the qqplot). What should I do?"
   ]
  },
  {
   "cell_type": "code",
   "execution_count": 21,
   "id": "ef0b7e66",
   "metadata": {},
   "outputs": [
    {
     "data": {
      "image/png": "[encoded data removed]",
      "text/plain": [
       "<Figure size 432x288 with 1 Axes>"
      ]
     },
     "metadata": {
      "needs_background": "light"
     },
     "output_type": "display_data"
    }
   ],
   "source": [
    "#Figure 5.9, page 148\n",
    "sns.histplot(data = weights, x = \"Weight in kg\")\n",
    "plt.show()"
   ]
  }
 ],
 "metadata": {
  "kernelspec": {
   "display_name": "Python 3 (ipykernel)",
   "language": "python",
   "name": "python3"
  },
  "language_info": {
   "codemirror_mode": {
    "name": "ipython",
    "version": 3
   },
   "file_extension": ".py",
   "mimetype": "text/x-python",
   "name": "python",
   "nbconvert_exporter": "python",
   "pygments_lexer": "ipython3",
   "version": "3.9.12"
  }
 },
 "nbformat": 4,
 "nbformat_minor": 5
}
