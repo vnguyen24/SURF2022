{
 "cells": [
  {
   "cell_type": "markdown",
   "id": "e7b991a8",
   "metadata": {},
   "source": [
    "## IS6 in Python: Paired Samples and Blocks (Chapter 18)\n",
    "\n",
    "### Introduction and background\n",
    "\n",
    "This document is intended to assist students in undertaking examples shown in the Sixth Edition of Intro Stats (2022) by De Veaux, Velleman, and Bock. This pdf file as well as the associated ipynb reproducible analysis source file used to create it can be found at (INSERT WEBSITE LINK HERE)."
   ]
  },
  {
   "cell_type": "markdown",
   "id": "f6a9f453",
   "metadata": {},
   "source": [
    "#### Chapter 18: Paired Sampels and Blocks"
   ]
  },
  {
   "cell_type": "code",
   "execution_count": 105,
   "id": "d46fd8bf",
   "metadata": {},
   "outputs": [],
   "source": [
    "#Load libraries\n",
    "import pandas as pd\n",
    "import matplotlib.pyplot as plt\n",
    "import seaborn as sns\n",
    "import numpy as np\n",
    "from scipy.stats import ttest_rel, t, sem"
   ]
  },
  {
   "cell_type": "code",
   "execution_count": 91,
   "id": "3b4d9725",
   "metadata": {},
   "outputs": [
    {
     "data": {
      "text/html": [
       "<div>\n",
       "<style scoped>\n",
       "    .dataframe tbody tr th:only-of-type {\n",
       "        vertical-align: middle;\n",
       "    }\n",
       "\n",
       "    .dataframe tbody tr th {\n",
       "        vertical-align: top;\n",
       "    }\n",
       "\n",
       "    .dataframe thead th {\n",
       "        text-align: right;\n",
       "    }\n",
       "</style>\n",
       "<table border=\"1\" class=\"dataframe\">\n",
       "  <thead>\n",
       "    <tr style=\"text-align: right;\">\n",
       "      <th></th>\n",
       "      <th>Age(months)</th>\n",
       "      <th>Dominant.1</th>\n",
       "      <th>Non-dominant</th>\n",
       "      <th>Gender</th>\n",
       "    </tr>\n",
       "  </thead>\n",
       "  <tbody>\n",
       "    <tr>\n",
       "      <th>0</th>\n",
       "      <td>117.0</td>\n",
       "      <td>0.353357</td>\n",
       "      <td>0.216245</td>\n",
       "      <td>male</td>\n",
       "    </tr>\n",
       "    <tr>\n",
       "      <th>1</th>\n",
       "      <td>101.0</td>\n",
       "      <td>0.257193</td>\n",
       "      <td>0.343495</td>\n",
       "      <td>male</td>\n",
       "    </tr>\n",
       "    <tr>\n",
       "      <th>2</th>\n",
       "      <td>135.0</td>\n",
       "      <td>0.536553</td>\n",
       "      <td>0.497358</td>\n",
       "      <td>male</td>\n",
       "    </tr>\n",
       "    <tr>\n",
       "      <th>3</th>\n",
       "      <td>119.0</td>\n",
       "      <td>0.443705</td>\n",
       "      <td>0.496124</td>\n",
       "      <td>male</td>\n",
       "    </tr>\n",
       "    <tr>\n",
       "      <th>4</th>\n",
       "      <td>124.0</td>\n",
       "      <td>0.482800</td>\n",
       "      <td>0.388067</td>\n",
       "      <td>female</td>\n",
       "    </tr>\n",
       "    <tr>\n",
       "      <th>5</th>\n",
       "      <td>127.0</td>\n",
       "      <td>0.523903</td>\n",
       "      <td>0.421718</td>\n",
       "      <td>female</td>\n",
       "    </tr>\n",
       "    <tr>\n",
       "      <th>6</th>\n",
       "      <td>101.0</td>\n",
       "      <td>0.455063</td>\n",
       "      <td>0.380862</td>\n",
       "      <td>male</td>\n",
       "    </tr>\n",
       "  </tbody>\n",
       "</table>\n",
       "</div>"
      ],
      "text/plain": [
       "   Age(months)  Dominant.1  Non-dominant  Gender\n",
       "0        117.0    0.353357      0.216245    male\n",
       "1        101.0    0.257193      0.343495    male\n",
       "2        135.0    0.536553      0.497358    male\n",
       "3        119.0    0.443705      0.496124    male\n",
       "4        124.0    0.482800      0.388067  female\n",
       "5        127.0    0.523903      0.421718  female\n",
       "6        101.0    0.455063      0.380862    male"
      ]
     },
     "execution_count": 91,
     "metadata": {},
     "output_type": "execute_result"
    }
   ],
   "source": [
    "#Dexterity table\n",
    "dex = pd.read_csv(\"datasets/dexterity.txt\", sep = \"\\t\")\n",
    "dex[[\"Age(months)\", \"Dominant.1\", \"Non-dominant\", \"Gender\"]].head(7)"
   ]
  },
  {
   "cell_type": "markdown",
   "id": "ad2d209d",
   "metadata": {},
   "source": [
    "#### Section 18.1: Paired Data"
   ]
  },
  {
   "cell_type": "code",
   "execution_count": 92,
   "id": "3895ea82",
   "metadata": {},
   "outputs": [
    {
     "data": {
      "image/png": "[encoded data removed]",
      "text/plain": [
       "<Figure size 432x288 with 1 Axes>"
      ]
     },
     "metadata": {
      "needs_background": "light"
     },
     "output_type": "display_data"
    }
   ],
   "source": [
    "#Figure 18.1\n",
    "sns.boxplot(data = dex[[\"Dominant.1\", \"Non-dominant\"]])\n",
    "plt.ylabel(\"Speed (cyl/sec)\")\n",
    "plt.show()"
   ]
  },
  {
   "cell_type": "markdown",
   "id": "702864b8",
   "metadata": {},
   "source": [
    "#### Example 18.1: Identifying Paired Data"
   ]
  },
  {
   "cell_type": "code",
   "execution_count": 93,
   "id": "5abf5275",
   "metadata": {},
   "outputs": [
    {
     "data": {
      "text/html": [
       "<div>\n",
       "<style scoped>\n",
       "    .dataframe tbody tr th:only-of-type {\n",
       "        vertical-align: middle;\n",
       "    }\n",
       "\n",
       "    .dataframe tbody tr th {\n",
       "        vertical-align: top;\n",
       "    }\n",
       "\n",
       "    .dataframe thead th {\n",
       "        text-align: right;\n",
       "    }\n",
       "</style>\n",
       "<table border=\"1\" class=\"dataframe\">\n",
       "  <thead>\n",
       "    <tr style=\"text-align: right;\">\n",
       "      <th></th>\n",
       "      <th>Name</th>\n",
       "      <th>5-Day Mileage</th>\n",
       "      <th>4-Day Mileage</th>\n",
       "    </tr>\n",
       "  </thead>\n",
       "  <tbody>\n",
       "    <tr>\n",
       "      <th>0</th>\n",
       "      <td>Jeff</td>\n",
       "      <td>2798</td>\n",
       "      <td>2914</td>\n",
       "    </tr>\n",
       "    <tr>\n",
       "      <th>1</th>\n",
       "      <td>Betty</td>\n",
       "      <td>7724</td>\n",
       "      <td>6112</td>\n",
       "    </tr>\n",
       "    <tr>\n",
       "      <th>2</th>\n",
       "      <td>Roger</td>\n",
       "      <td>7505</td>\n",
       "      <td>6177</td>\n",
       "    </tr>\n",
       "    <tr>\n",
       "      <th>3</th>\n",
       "      <td>Tom</td>\n",
       "      <td>838</td>\n",
       "      <td>1102</td>\n",
       "    </tr>\n",
       "    <tr>\n",
       "      <th>4</th>\n",
       "      <td>Aimee</td>\n",
       "      <td>4592</td>\n",
       "      <td>3281</td>\n",
       "    </tr>\n",
       "    <tr>\n",
       "      <th>5</th>\n",
       "      <td>Greg</td>\n",
       "      <td>8107</td>\n",
       "      <td>4997</td>\n",
       "    </tr>\n",
       "    <tr>\n",
       "      <th>6</th>\n",
       "      <td>Larry G.</td>\n",
       "      <td>1228</td>\n",
       "      <td>1695</td>\n",
       "    </tr>\n",
       "    <tr>\n",
       "      <th>7</th>\n",
       "      <td>Tad</td>\n",
       "      <td>8718</td>\n",
       "      <td>6606</td>\n",
       "    </tr>\n",
       "    <tr>\n",
       "      <th>8</th>\n",
       "      <td>Larry M.</td>\n",
       "      <td>1097</td>\n",
       "      <td>1063</td>\n",
       "    </tr>\n",
       "    <tr>\n",
       "      <th>9</th>\n",
       "      <td>Leslie</td>\n",
       "      <td>8089</td>\n",
       "      <td>6392</td>\n",
       "    </tr>\n",
       "    <tr>\n",
       "      <th>10</th>\n",
       "      <td>Lee</td>\n",
       "      <td>3807</td>\n",
       "      <td>3362</td>\n",
       "    </tr>\n",
       "  </tbody>\n",
       "</table>\n",
       "</div>"
      ],
      "text/plain": [
       "        Name  5-Day Mileage  4-Day Mileage\n",
       "0       Jeff           2798           2914\n",
       "1      Betty           7724           6112\n",
       "2      Roger           7505           6177\n",
       "3        Tom            838           1102\n",
       "4      Aimee           4592           3281\n",
       "5       Greg           8107           4997\n",
       "6   Larry G.           1228           1695\n",
       "7        Tad           8718           6606\n",
       "8   Larry M.           1097           1063\n",
       "9     Leslie           8089           6392\n",
       "10       Lee           3807           3362"
      ]
     },
     "execution_count": 93,
     "metadata": {},
     "output_type": "execute_result"
    }
   ],
   "source": [
    "#Make dataset\n",
    "work = pd.DataFrame({\"Name\" : [\"Jeff\", \"Betty\", \"Roger\", \"Tom\", \"Aimee\", \"Greg\", \"Larry G.\", \"Tad\", \"Larry M.\", \"Leslie\", \"Lee\"],\n",
    "                     \"5-Day Mileage\" : [2798, 7724, 7505, 838, 4592, 8107, 1228, 8718, 1097, 8089, 3807],\n",
    "                     \"4-Day Mileage\" : [2914, 6112, 6177, 1102, 3281, 4997, 1695, 6606, 1063, 6392, 3362]\n",
    "                    })\n",
    "work"
   ]
  },
  {
   "cell_type": "code",
   "execution_count": 94,
   "id": "193acca2",
   "metadata": {},
   "outputs": [
    {
     "data": {
      "text/html": [
       "<div>\n",
       "<style scoped>\n",
       "    .dataframe tbody tr th:only-of-type {\n",
       "        vertical-align: middle;\n",
       "    }\n",
       "\n",
       "    .dataframe tbody tr th {\n",
       "        vertical-align: top;\n",
       "    }\n",
       "\n",
       "    .dataframe thead th {\n",
       "        text-align: right;\n",
       "    }\n",
       "</style>\n",
       "<table border=\"1\" class=\"dataframe\">\n",
       "  <thead>\n",
       "    <tr style=\"text-align: right;\">\n",
       "      <th></th>\n",
       "      <th>Dominant.1</th>\n",
       "      <th>Non-dominant</th>\n",
       "      <th>difference</th>\n",
       "    </tr>\n",
       "  </thead>\n",
       "  <tbody>\n",
       "    <tr>\n",
       "      <th>0</th>\n",
       "      <td>0.353357</td>\n",
       "      <td>0.216245</td>\n",
       "      <td>0.137111</td>\n",
       "    </tr>\n",
       "    <tr>\n",
       "      <th>1</th>\n",
       "      <td>0.257193</td>\n",
       "      <td>0.343495</td>\n",
       "      <td>-0.086302</td>\n",
       "    </tr>\n",
       "    <tr>\n",
       "      <th>2</th>\n",
       "      <td>0.536553</td>\n",
       "      <td>0.497358</td>\n",
       "      <td>0.039195</td>\n",
       "    </tr>\n",
       "    <tr>\n",
       "      <th>3</th>\n",
       "      <td>0.443705</td>\n",
       "      <td>0.496124</td>\n",
       "      <td>-0.052419</td>\n",
       "    </tr>\n",
       "    <tr>\n",
       "      <th>4</th>\n",
       "      <td>0.482800</td>\n",
       "      <td>0.388067</td>\n",
       "      <td>0.094733</td>\n",
       "    </tr>\n",
       "    <tr>\n",
       "      <th>...</th>\n",
       "      <td>...</td>\n",
       "      <td>...</td>\n",
       "      <td>...</td>\n",
       "    </tr>\n",
       "    <tr>\n",
       "      <th>88</th>\n",
       "      <td>0.532623</td>\n",
       "      <td>0.499220</td>\n",
       "      <td>0.033403</td>\n",
       "    </tr>\n",
       "    <tr>\n",
       "      <th>89</th>\n",
       "      <td>0.551344</td>\n",
       "      <td>0.602183</td>\n",
       "      <td>-0.050839</td>\n",
       "    </tr>\n",
       "    <tr>\n",
       "      <th>90</th>\n",
       "      <td>0.457143</td>\n",
       "      <td>0.443582</td>\n",
       "      <td>0.013561</td>\n",
       "    </tr>\n",
       "    <tr>\n",
       "      <th>91</th>\n",
       "      <td>0.666112</td>\n",
       "      <td>0.592593</td>\n",
       "      <td>0.073519</td>\n",
       "    </tr>\n",
       "    <tr>\n",
       "      <th>92</th>\n",
       "      <td>0.500000</td>\n",
       "      <td>0.409731</td>\n",
       "      <td>0.090269</td>\n",
       "    </tr>\n",
       "  </tbody>\n",
       "</table>\n",
       "<p>93 rows × 3 columns</p>\n",
       "</div>"
      ],
      "text/plain": [
       "    Dominant.1  Non-dominant  difference\n",
       "0     0.353357      0.216245    0.137111\n",
       "1     0.257193      0.343495   -0.086302\n",
       "2     0.536553      0.497358    0.039195\n",
       "3     0.443705      0.496124   -0.052419\n",
       "4     0.482800      0.388067    0.094733\n",
       "..         ...           ...         ...\n",
       "88    0.532623      0.499220    0.033403\n",
       "89    0.551344      0.602183   -0.050839\n",
       "90    0.457143      0.443582    0.013561\n",
       "91    0.666112      0.592593    0.073519\n",
       "92    0.500000      0.409731    0.090269\n",
       "\n",
       "[93 rows x 3 columns]"
      ]
     },
     "execution_count": 94,
     "metadata": {},
     "output_type": "execute_result"
    }
   ],
   "source": [
    "#Looking at pairwise differences in Dexterity\n",
    "dex = dex.assign(difference = dex[\"Dominant.1\"] - dex[\"Non-dominant\"])\n",
    "\n",
    "dex[[\"Dominant.1\", \"Non-dominant\", \"difference\"]]"
   ]
  },
  {
   "cell_type": "markdown",
   "id": "4bfa97b2",
   "metadata": {},
   "source": [
    "#### Section 18.2: The Paired t-Test\n",
    "#### Example 18.2: Checking Assumptions and Conditions"
   ]
  },
  {
   "cell_type": "code",
   "execution_count": 95,
   "id": "7f2c6235",
   "metadata": {},
   "outputs": [
    {
     "data": {
      "text/html": [
       "<div>\n",
       "<style scoped>\n",
       "    .dataframe tbody tr th:only-of-type {\n",
       "        vertical-align: middle;\n",
       "    }\n",
       "\n",
       "    .dataframe tbody tr th {\n",
       "        vertical-align: top;\n",
       "    }\n",
       "\n",
       "    .dataframe thead th {\n",
       "        text-align: right;\n",
       "    }\n",
       "</style>\n",
       "<table border=\"1\" class=\"dataframe\">\n",
       "  <thead>\n",
       "    <tr style=\"text-align: right;\">\n",
       "      <th></th>\n",
       "      <th>Name</th>\n",
       "      <th>5-Day Mileage</th>\n",
       "      <th>4-Day Mileage</th>\n",
       "      <th>difference</th>\n",
       "    </tr>\n",
       "  </thead>\n",
       "  <tbody>\n",
       "    <tr>\n",
       "      <th>0</th>\n",
       "      <td>Jeff</td>\n",
       "      <td>2798</td>\n",
       "      <td>2914</td>\n",
       "      <td>-116</td>\n",
       "    </tr>\n",
       "    <tr>\n",
       "      <th>1</th>\n",
       "      <td>Betty</td>\n",
       "      <td>7724</td>\n",
       "      <td>6112</td>\n",
       "      <td>1612</td>\n",
       "    </tr>\n",
       "    <tr>\n",
       "      <th>2</th>\n",
       "      <td>Roger</td>\n",
       "      <td>7505</td>\n",
       "      <td>6177</td>\n",
       "      <td>1328</td>\n",
       "    </tr>\n",
       "    <tr>\n",
       "      <th>3</th>\n",
       "      <td>Tom</td>\n",
       "      <td>838</td>\n",
       "      <td>1102</td>\n",
       "      <td>-264</td>\n",
       "    </tr>\n",
       "    <tr>\n",
       "      <th>4</th>\n",
       "      <td>Aimee</td>\n",
       "      <td>4592</td>\n",
       "      <td>3281</td>\n",
       "      <td>1311</td>\n",
       "    </tr>\n",
       "    <tr>\n",
       "      <th>5</th>\n",
       "      <td>Greg</td>\n",
       "      <td>8107</td>\n",
       "      <td>4997</td>\n",
       "      <td>3110</td>\n",
       "    </tr>\n",
       "    <tr>\n",
       "      <th>6</th>\n",
       "      <td>Larry G.</td>\n",
       "      <td>1228</td>\n",
       "      <td>1695</td>\n",
       "      <td>-467</td>\n",
       "    </tr>\n",
       "    <tr>\n",
       "      <th>7</th>\n",
       "      <td>Tad</td>\n",
       "      <td>8718</td>\n",
       "      <td>6606</td>\n",
       "      <td>2112</td>\n",
       "    </tr>\n",
       "    <tr>\n",
       "      <th>8</th>\n",
       "      <td>Larry M.</td>\n",
       "      <td>1097</td>\n",
       "      <td>1063</td>\n",
       "      <td>34</td>\n",
       "    </tr>\n",
       "    <tr>\n",
       "      <th>9</th>\n",
       "      <td>Leslie</td>\n",
       "      <td>8089</td>\n",
       "      <td>6392</td>\n",
       "      <td>1697</td>\n",
       "    </tr>\n",
       "    <tr>\n",
       "      <th>10</th>\n",
       "      <td>Lee</td>\n",
       "      <td>3807</td>\n",
       "      <td>3362</td>\n",
       "      <td>445</td>\n",
       "    </tr>\n",
       "  </tbody>\n",
       "</table>\n",
       "</div>"
      ],
      "text/plain": [
       "        Name  5-Day Mileage  4-Day Mileage  difference\n",
       "0       Jeff           2798           2914        -116\n",
       "1      Betty           7724           6112        1612\n",
       "2      Roger           7505           6177        1328\n",
       "3        Tom            838           1102        -264\n",
       "4      Aimee           4592           3281        1311\n",
       "5       Greg           8107           4997        3110\n",
       "6   Larry G.           1228           1695        -467\n",
       "7        Tad           8718           6606        2112\n",
       "8   Larry M.           1097           1063          34\n",
       "9     Leslie           8089           6392        1697\n",
       "10       Lee           3807           3362         445"
      ]
     },
     "execution_count": 95,
     "metadata": {},
     "output_type": "execute_result"
    }
   ],
   "source": [
    "work = work.assign(difference = work[\"5-Day Mileage\"] - work[\"4-Day Mileage\"])\n",
    "work"
   ]
  },
  {
   "cell_type": "code",
   "execution_count": 96,
   "id": "371bcef6",
   "metadata": {
    "scrolled": true
   },
   "outputs": [
    {
     "data": {
      "image/png": "[encoded data removed]",
      "text/plain": [
       "<Figure size 432x288 with 1 Axes>"
      ]
     },
     "metadata": {
      "needs_background": "light"
     },
     "output_type": "display_data"
    }
   ],
   "source": [
    "sns.histplot(data = dex, x = \"difference\", bins = 3)\n",
    "plt.show()"
   ]
  },
  {
   "cell_type": "markdown",
   "id": "ea4bc4a0",
   "metadata": {},
   "source": [
    "#### Example 18.3: Doing a Paired t-Test"
   ]
  },
  {
   "cell_type": "code",
   "execution_count": 97,
   "id": "cd22237c",
   "metadata": {},
   "outputs": [
    {
     "name": "stdout",
     "output_type": "stream",
     "text": [
      "p-values: 0.017014128345518967\n",
      "t-test: 2.8580344256037042\n"
     ]
    },
    {
     "data": {
      "image/png": "[encoded data removed]",
      "text/plain": [
       "<Figure size 432x288 with 1 Axes>"
      ]
     },
     "metadata": {
      "needs_background": "light"
     },
     "output_type": "display_data"
    }
   ],
   "source": [
    "stat, p = ttest_rel(work[\"5-Day Mileage\"], work[\"4-Day Mileage\"])\n",
    "\n",
    "# Display the results\n",
    "print(\"p-values:\", p)\n",
    "print(\"t-test:\", stat)\n",
    "\n",
    "x_axis = np.arange(-250,2250,1)\n",
    "plt.plot(x_axis, t.pdf(x_axis, 10, loc  = 982, scale = 343.6))\n",
    "plt.show()"
   ]
  },
  {
   "cell_type": "markdown",
   "id": "af64aa3f",
   "metadata": {},
   "source": [
    "Question:\n",
    "- Needs to double check the pdf plot\n",
    "- is scale the standard deviation or the standard error?"
   ]
  },
  {
   "cell_type": "markdown",
   "id": "56046d13",
   "metadata": {},
   "source": [
    "#### Section 18.3: Confidence Intervals for Matched Pairs"
   ]
  },
  {
   "cell_type": "code",
   "execution_count": 98,
   "id": "31b9ee21",
   "metadata": {},
   "outputs": [
    {
     "data": {
      "text/html": [
       "<div>\n",
       "<style scoped>\n",
       "    .dataframe tbody tr th:only-of-type {\n",
       "        vertical-align: middle;\n",
       "    }\n",
       "\n",
       "    .dataframe tbody tr th {\n",
       "        vertical-align: top;\n",
       "    }\n",
       "\n",
       "    .dataframe thead th {\n",
       "        text-align: right;\n",
       "    }\n",
       "</style>\n",
       "<table border=\"1\" class=\"dataframe\">\n",
       "  <thead>\n",
       "    <tr style=\"text-align: right;\">\n",
       "      <th></th>\n",
       "      <th>Names</th>\n",
       "      <th>wAge</th>\n",
       "      <th>hAge</th>\n",
       "      <th>wHeight</th>\n",
       "      <th>hHeight</th>\n",
       "      <th>difference</th>\n",
       "    </tr>\n",
       "  </thead>\n",
       "  <tbody>\n",
       "    <tr>\n",
       "      <th>0</th>\n",
       "      <td>John and Judy</td>\n",
       "      <td>43</td>\n",
       "      <td>49.0</td>\n",
       "      <td>1590.0</td>\n",
       "      <td>1809.0</td>\n",
       "      <td>6.0</td>\n",
       "    </tr>\n",
       "    <tr>\n",
       "      <th>1</th>\n",
       "      <td>Carl and Kathryn</td>\n",
       "      <td>28</td>\n",
       "      <td>25.0</td>\n",
       "      <td>1560.0</td>\n",
       "      <td>1841.0</td>\n",
       "      <td>-3.0</td>\n",
       "    </tr>\n",
       "    <tr>\n",
       "      <th>2</th>\n",
       "      <td>Craig and Jackie</td>\n",
       "      <td>30</td>\n",
       "      <td>40.0</td>\n",
       "      <td>1620.0</td>\n",
       "      <td>1659.0</td>\n",
       "      <td>10.0</td>\n",
       "    </tr>\n",
       "    <tr>\n",
       "      <th>3</th>\n",
       "      <td>Larry and Susan</td>\n",
       "      <td>57</td>\n",
       "      <td>52.0</td>\n",
       "      <td>1540.0</td>\n",
       "      <td>1779.0</td>\n",
       "      <td>-5.0</td>\n",
       "    </tr>\n",
       "    <tr>\n",
       "      <th>4</th>\n",
       "      <td>Scott and Susan</td>\n",
       "      <td>52</td>\n",
       "      <td>58.0</td>\n",
       "      <td>1420.0</td>\n",
       "      <td>1616.0</td>\n",
       "      <td>6.0</td>\n",
       "    </tr>\n",
       "    <tr>\n",
       "      <th>5</th>\n",
       "      <td>John and Margaret</td>\n",
       "      <td>27</td>\n",
       "      <td>32.0</td>\n",
       "      <td>1660.0</td>\n",
       "      <td>1695.0</td>\n",
       "      <td>5.0</td>\n",
       "    </tr>\n",
       "    <tr>\n",
       "      <th>6</th>\n",
       "      <td>Stanley and Patricia</td>\n",
       "      <td>52</td>\n",
       "      <td>43.0</td>\n",
       "      <td>1610.0</td>\n",
       "      <td>1730.0</td>\n",
       "      <td>-9.0</td>\n",
       "    </tr>\n",
       "  </tbody>\n",
       "</table>\n",
       "</div>"
      ],
      "text/plain": [
       "                  Names  wAge  hAge  wHeight  hHeight  difference\n",
       "0         John and Judy    43  49.0   1590.0   1809.0         6.0\n",
       "1      Carl and Kathryn    28  25.0   1560.0   1841.0        -3.0\n",
       "2      Craig and Jackie    30  40.0   1620.0   1659.0        10.0\n",
       "3       Larry and Susan    57  52.0   1540.0   1779.0        -5.0\n",
       "4       Scott and Susan    52  58.0   1420.0   1616.0         6.0\n",
       "5     John and Margaret    27  32.0   1660.0   1695.0         5.0\n",
       "6  Stanley and Patricia    52  43.0   1610.0   1730.0        -9.0"
      ]
     },
     "execution_count": 98,
     "metadata": {},
     "output_type": "execute_result"
    }
   ],
   "source": [
    "couple = pd.read_csv(\"datasets/couples.txt\", sep = \"\\t\")\n",
    "couple = couple[couple[\"wAge\"] != \"*\"].dropna()\n",
    "couple[\"wAge\"] = couple[\"wAge\"].astype(\"int64\")\n",
    "couple = couple.assign(difference = couple[\"hAge\"] - couple[\"wAge\"])\n",
    "couple.head(7)"
   ]
  },
  {
   "cell_type": "markdown",
   "id": "1bf151a7",
   "metadata": {},
   "source": [
    "#### Step-By-Step Example: A Paired t-Interval"
   ]
  },
  {
   "cell_type": "code",
   "execution_count": 99,
   "id": "90ea035e",
   "metadata": {},
   "outputs": [
    {
     "data": {
      "image/png": "[encoded data removed]",
      "text/plain": [
       "<Figure size 432x288 with 1 Axes>"
      ]
     },
     "metadata": {
      "needs_background": "light"
     },
     "output_type": "display_data"
    }
   ],
   "source": [
    "sns.histplot(data = dex, x = \"difference\", binwidth = 0.05)\n",
    "plt.xlabel(\"Dominant - Non-dominant\")\n",
    "plt.ylabel(\"# of Subjects\")\n",
    "plt.show()"
   ]
  },
  {
   "cell_type": "code",
   "execution_count": 100,
   "id": "07032bc1",
   "metadata": {},
   "outputs": [
    {
     "name": "stdout",
     "output_type": "stream",
     "text": [
      "count    93.000000\n",
      "mean      0.054201\n",
      "std       0.131801\n",
      "min      -0.385965\n",
      "25%      -0.000849\n",
      "50%       0.053223\n",
      "75%       0.125380\n",
      "max       0.355010\n",
      "Name: difference, dtype: float64\n"
     ]
    }
   ],
   "source": [
    "print(dex[\"difference\"].describe())"
   ]
  },
  {
   "cell_type": "code",
   "execution_count": 106,
   "id": "1f9348fb",
   "metadata": {},
   "outputs": [
    {
     "name": "stdout",
     "output_type": "stream",
     "text": [
      "p-values: 0.00014458680421271496\n",
      "t-test: 3.9657878580824373\n",
      "(0.02705690524208383, 0.08134523927404524)\n"
     ]
    }
   ],
   "source": [
    "stat, p = ttest_rel(dex[\"Dominant.1\"], dex[\"Non-dominant\"])\n",
    "\n",
    "# Display the results\n",
    "print(\"p-values:\", p)\n",
    "print(\"t-test:\", stat)\n",
    "\n",
    "#Calculate confidence interval\n",
    "conf_int = t.interval(alpha = 0.95, loc = np.mean(dex[\"difference\"]), df = len(dex) - 1, scale = sem(dex[\"difference\"]))\n",
    "print(conf_int)"
   ]
  },
  {
   "cell_type": "markdown",
   "id": "960c434d",
   "metadata": {},
   "source": [
    "Note: To calculate the confidence interval of the difference between 2 dependent samples, we need the following:\n",
    "- alpha: confident percent\n",
    "- loc: The mean of the differences\n",
    "- df: number of observations - 1\n",
    "- scale: standard error. Use stats.sem() to calculate"
   ]
  },
  {
   "cell_type": "markdown",
   "id": "899c7684",
   "metadata": {},
   "source": [
    "#### Effect Size\n",
    "#### Example 18.4: Looking at Effect Size with a Paired t Confidence Interval"
   ]
  },
  {
   "cell_type": "code",
   "execution_count": 108,
   "id": "8c688802",
   "metadata": {},
   "outputs": [
    {
     "name": "stdout",
     "output_type": "stream",
     "text": [
      "(216.42757266039916, 1747.5724273396008)\n"
     ]
    }
   ],
   "source": [
    "#Calculate confidence interval\n",
    "conf_int = t.interval(alpha = 0.95, loc = np.mean(work[\"difference\"]), df = len(work) - 1, scale = sem(work[\"difference\"]))\n",
    "print(conf_int)"
   ]
  },
  {
   "cell_type": "markdown",
   "id": "03d0b0f5",
   "metadata": {},
   "source": [
    "#### Section 18.4: Blocking\n",
    "#### What's Independent?"
   ]
  },
  {
   "cell_type": "markdown",
   "id": "d2cdf359",
   "metadata": {},
   "source": [
    "Note: The Random Matters section has been removed from this version"
   ]
  }
 ],
 "metadata": {
  "kernelspec": {
   "display_name": "Python 3 (ipykernel)",
   "language": "python",
   "name": "python3"
  },
  "language_info": {
   "codemirror_mode": {
    "name": "ipython",
    "version": 3
   },
   "file_extension": ".py",
   "mimetype": "text/x-python",
   "name": "python",
   "nbconvert_exporter": "python",
   "pygments_lexer": "ipython3",
   "version": "3.9.12"
  }
 },
 "nbformat": 4,
 "nbformat_minor": 5
}
