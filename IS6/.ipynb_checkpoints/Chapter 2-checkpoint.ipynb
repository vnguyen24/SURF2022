{
 "cells": [
  {
   "cell_type": "markdown",
   "id": "197e6d12",
   "metadata": {},
   "source": [
    "## IS6 in Python: Displaying and Describing Data (Chapter 2)\n",
    "\n",
    "### Introduction and background\n",
    "\n",
    "This document is intended to assist students in undertaking examples shown in the Sixth Edition of Intro Stats (2022) by De Veaux, Velleman, and Bock. This pdf file as well as the associated ipynb reproducible analysis source file used to create it can be found at (INSERT WEBSITE LINK HERE)."
   ]
  },
  {
   "cell_type": "markdown",
   "id": "2e7ccaff",
   "metadata": {},
   "source": [
    "### Chapter 2: Displaying and Describing Data\n",
    "#### Section 2.1: Summarizing and Displaying a Categorical Variable"
   ]
  },
  {
   "cell_type": "code",
   "execution_count": 1,
   "id": "e85d61df",
   "metadata": {},
   "outputs": [],
   "source": [
    "#Read in libraries. These are all the libraries we need for this chapter\n",
    "import matplotlib.pyplot as plt\n",
    "import pandas as pd\n",
    "import seaborn as sns"
   ]
  },
  {
   "cell_type": "code",
   "execution_count": 2,
   "id": "3bc06e54",
   "metadata": {
    "scrolled": true
   },
   "outputs": [
    {
     "data": {
      "text/html": [
       "<div>\n",
       "<style scoped>\n",
       "    .dataframe tbody tr th:only-of-type {\n",
       "        vertical-align: middle;\n",
       "    }\n",
       "\n",
       "    .dataframe tbody tr th {\n",
       "        vertical-align: top;\n",
       "    }\n",
       "\n",
       "    .dataframe thead th {\n",
       "        text-align: right;\n",
       "    }\n",
       "</style>\n",
       "<table border=\"1\" class=\"dataframe\">\n",
       "  <thead>\n",
       "    <tr style=\"text-align: right;\">\n",
       "      <th></th>\n",
       "      <th>Name</th>\n",
       "      <th>Survived</th>\n",
       "      <th>Age</th>\n",
       "      <th>Gender</th>\n",
       "      <th>Price.Paid</th>\n",
       "      <th>Class</th>\n",
       "    </tr>\n",
       "  </thead>\n",
       "  <tbody>\n",
       "    <tr>\n",
       "      <th>0</th>\n",
       "      <td>ABBING, Mr Anthony</td>\n",
       "      <td>LOST</td>\n",
       "      <td>41.0</td>\n",
       "      <td>Male</td>\n",
       "      <td>7.55</td>\n",
       "      <td>3rd</td>\n",
       "    </tr>\n",
       "    <tr>\n",
       "      <th>1</th>\n",
       "      <td>ABBOTT, Mr Eugene Joseph</td>\n",
       "      <td>LOST</td>\n",
       "      <td>13.0</td>\n",
       "      <td>Male</td>\n",
       "      <td>20.25</td>\n",
       "      <td>3rd</td>\n",
       "    </tr>\n",
       "    <tr>\n",
       "      <th>2</th>\n",
       "      <td>ABBOTT, Mr Rossmore Edward</td>\n",
       "      <td>LOST</td>\n",
       "      <td>16.0</td>\n",
       "      <td>Male</td>\n",
       "      <td>20.25</td>\n",
       "      <td>3rd</td>\n",
       "    </tr>\n",
       "    <tr>\n",
       "      <th>3</th>\n",
       "      <td>ABBOTT, Mrs Rhoda Mary 'Rosa'</td>\n",
       "      <td>SAVED</td>\n",
       "      <td>39.0</td>\n",
       "      <td>Female</td>\n",
       "      <td>20.25</td>\n",
       "      <td>3rd</td>\n",
       "    </tr>\n",
       "    <tr>\n",
       "      <th>4</th>\n",
       "      <td>ABELSETH, Miss Kalle (Karen) Marie Kristiane</td>\n",
       "      <td>SAVED</td>\n",
       "      <td>16.0</td>\n",
       "      <td>Female</td>\n",
       "      <td>7.65</td>\n",
       "      <td>3rd</td>\n",
       "    </tr>\n",
       "    <tr>\n",
       "      <th>5</th>\n",
       "      <td>ABELSETH, Mr Olaus Jørgensen</td>\n",
       "      <td>SAVED</td>\n",
       "      <td>25.0</td>\n",
       "      <td>Male</td>\n",
       "      <td>7.65</td>\n",
       "      <td>3rd</td>\n",
       "    </tr>\n",
       "    <tr>\n",
       "      <th>6</th>\n",
       "      <td>ABELSON, Mr Samuel</td>\n",
       "      <td>LOST</td>\n",
       "      <td>30.0</td>\n",
       "      <td>Male</td>\n",
       "      <td>24.00</td>\n",
       "      <td>2nd</td>\n",
       "    </tr>\n",
       "    <tr>\n",
       "      <th>7</th>\n",
       "      <td>ABELSON, Mrs Anna</td>\n",
       "      <td>SAVED</td>\n",
       "      <td>28.0</td>\n",
       "      <td>Female</td>\n",
       "      <td>24.00</td>\n",
       "      <td>2nd</td>\n",
       "    </tr>\n",
       "    <tr>\n",
       "      <th>8</th>\n",
       "      <td>ABī SA'B, Mr Jirjis Yūsuf</td>\n",
       "      <td>LOST</td>\n",
       "      <td>45.0</td>\n",
       "      <td>Male</td>\n",
       "      <td>7.23</td>\n",
       "      <td>3rd</td>\n",
       "    </tr>\n",
       "    <tr>\n",
       "      <th>9</th>\n",
       "      <td>ABī SA'B, Mrs Sha'nīnah</td>\n",
       "      <td>SAVED</td>\n",
       "      <td>38.0</td>\n",
       "      <td>Female</td>\n",
       "      <td>7.23</td>\n",
       "      <td>3rd</td>\n",
       "    </tr>\n",
       "    <tr>\n",
       "      <th>10</th>\n",
       "      <td>ABī SHADīD, Mr Dāhir</td>\n",
       "      <td>LOST</td>\n",
       "      <td>19.0</td>\n",
       "      <td>Male</td>\n",
       "      <td>7.23</td>\n",
       "      <td>3rd</td>\n",
       "    </tr>\n",
       "  </tbody>\n",
       "</table>\n",
       "</div>"
      ],
      "text/plain": [
       "                                            Name Survived   Age  Gender  \\\n",
       "0                             ABBING, Mr Anthony     LOST  41.0    Male   \n",
       "1                       ABBOTT, Mr Eugene Joseph     LOST  13.0    Male   \n",
       "2                     ABBOTT, Mr Rossmore Edward     LOST  16.0    Male   \n",
       "3                  ABBOTT, Mrs Rhoda Mary 'Rosa'    SAVED  39.0  Female   \n",
       "4   ABELSETH, Miss Kalle (Karen) Marie Kristiane    SAVED  16.0  Female   \n",
       "5                   ABELSETH, Mr Olaus Jørgensen    SAVED  25.0    Male   \n",
       "6                             ABELSON, Mr Samuel     LOST  30.0    Male   \n",
       "7                              ABELSON, Mrs Anna    SAVED  28.0  Female   \n",
       "8                      ABī SA'B, Mr Jirjis Yūsuf     LOST  45.0    Male   \n",
       "9                        ABī SA'B, Mrs Sha'nīnah    SAVED  38.0  Female   \n",
       "10                          ABī SHADīD, Mr Dāhir     LOST  19.0    Male   \n",
       "\n",
       "    Price.Paid Class  \n",
       "0         7.55   3rd  \n",
       "1        20.25   3rd  \n",
       "2        20.25   3rd  \n",
       "3        20.25   3rd  \n",
       "4         7.65   3rd  \n",
       "5         7.65   3rd  \n",
       "6        24.00   2nd  \n",
       "7        24.00   2nd  \n",
       "8         7.23   3rd  \n",
       "9         7.23   3rd  \n",
       "10        7.23   3rd  "
      ]
     },
     "execution_count": 2,
     "metadata": {},
     "output_type": "execute_result"
    }
   ],
   "source": [
    "#Table 2.1, page 18\n",
    "\n",
    "#Read the txt file as csv\n",
    "#(NOTE: when we have our website, will change the file path)\n",
    "titanic_2020 = pd.read_csv(\"datasets/titanic_2020.txt\", sep = \"\\t\")\n",
    "#Select the list of columns we want, make another dataframe\n",
    "table_2_1 = titanic_2020[[\"Name\", \"Survived\", \"Age\", \"Gender\", \"Price.Paid\", \"Class\"]]\n",
    "#Show the first 11 people with 7 variables\n",
    "table_2_1.iloc[:11, :]"
   ]
  },
  {
   "cell_type": "code",
   "execution_count": 3,
   "id": "3ada7774",
   "metadata": {
    "scrolled": false
   },
   "outputs": [
    {
     "name": "stdout",
     "output_type": "stream",
     "text": [
      "  Class  Count\n",
      "0   1st    324\n",
      "1   2nd    284\n",
      "2   3rd    709\n",
      "3  Crew    891\n"
     ]
    }
   ],
   "source": [
    "#Table 2.2, page 20\n",
    "#Step 1: group passengers by class\n",
    "table_2_2 = titanic_2020.groupby(\"Class\")\n",
    "#Step 2: Select only the class column\n",
    "table_2_2 = table_2_2[\"Class\"]\n",
    "#Step 3: Count the number of passengers in each class using the count() function\n",
    "table_2_2 = table_2_2.count()\n",
    "#Step 4: \"Rename\" the count column for future reference (when plotting)\n",
    "table_2_2 = table_2_2.reset_index(name = \"Count\")\n",
    "\n",
    "#Once you are familiar with the process, you can collapse everything into one step, like this code below:\n",
    "#table_2_2 = titanic_2020.groupby(\"Class\")[\"Class\"].count().reset_index(name = \"Count\")\n",
    "\n",
    "print(table_2_2)"
   ]
  },
  {
   "cell_type": "markdown",
   "id": "0e395d63",
   "metadata": {},
   "source": [
    "Question:\n",
    "\n",
    "1.There is another way to \"rename\" the count column, but it is harder and more complex. Do we want to introduce that here?\n",
    "\n",
    "2.Do we want to advocate for using the print() function or relying on the output cell? "
   ]
  },
  {
   "cell_type": "code",
   "execution_count": 4,
   "id": "a826b64f",
   "metadata": {},
   "outputs": [
    {
     "name": "stdout",
     "output_type": "stream",
     "text": [
      "  Class  Percentage (%)\n",
      "0   1st       14.673913\n",
      "1   2nd       12.862319\n",
      "2   3rd       32.110507\n",
      "3  Crew       40.353261\n"
     ]
    }
   ],
   "source": [
    "#Table 2.3, see on page 20\n",
    "#To make a relative frequency table, there are 4 steps: \n",
    "#Step 1: Get the total number of passengers\n",
    "total_passengers = titanic_2020[\"Class\"].count()\n",
    "#Step 2: Create a frequecy table (similar to table 2.2)\n",
    "table_2_3 = titanic_2020.groupby(\"Class\")[\"Class\"].count()\n",
    "#Step 3: Rescale count to percentage\n",
    "table_2_3 = table_2_3/total_passengers * 100\n",
    "#Step 4: \"Rename\" the percentage column for future reference (when plotting)\n",
    "table_2_3 = table_2_3.reset_index(name = \"Percentage (%)\")\n",
    "\n",
    "#One-line code, formatted for readability:\n",
    "#table_2_3 = (\n",
    "#                titanic_2020.groupby(\"Class\")[\"Class\"].count() #Frequency table\n",
    "#                /\n",
    "#                titanic_2020[\"Class\"].count() * 100 #Scale to relative frequency table\n",
    "#            ).reset_index(name = \"Percentage (%)\") #Rename percentage column\n",
    "    \n",
    "print(table_2_3)"
   ]
  },
  {
   "cell_type": "code",
   "execution_count": 5,
   "id": "443106db",
   "metadata": {},
   "outputs": [
    {
     "data": {
      "image/png": "[encoded data removed]",
      "text/plain": [
       "<Figure size 432x288 with 1 Axes>"
      ]
     },
     "metadata": {
      "needs_background": "light"
     },
     "output_type": "display_data"
    }
   ],
   "source": [
    "#Figure 2.2, page 20\n",
    "#We will use matplotlib for this visualization\n",
    "\n",
    "#Plot a bar plot, color is optional, code still runs without color argument\n",
    "plt.bar(table_2_2[\"Class\"], table_2_2[\"Count\"], color = [\"green\", \"blue\", \"purple\", \"orange\"])\n",
    "\n",
    "#Add lables\n",
    "plt.xlabel(\"Ticket Class\")\n",
    "plt.ylabel(\"# of People\")\n",
    "\n",
    "#Display the plot\n",
    "plt.show()"
   ]
  },
  {
   "cell_type": "markdown",
   "id": "74afd3aa",
   "metadata": {},
   "source": [
    "#### Section 2.2: Displaying a Quantitative Variable\n",
    "#### Ages of Those Abroad the Titanic"
   ]
  },
  {
   "cell_type": "code",
   "execution_count": 6,
   "id": "c68fc3eb",
   "metadata": {
    "scrolled": true
   },
   "outputs": [
    {
     "data": {
      "image/png": "[encoded data removed]",
      "text/plain": [
       "<Figure size 432x288 with 1 Axes>"
      ]
     },
     "metadata": {
      "needs_background": "light"
     },
     "output_type": "display_data"
    }
   ],
   "source": [
    "#Figure 2.7, page 25\n",
    "#We will use matplotlib for this visualization\n",
    "table_2_7 = titanic_2020[\"Age\"].round(decimals = 0).dropna()\n",
    "\n",
    "plt.hist(table_2_7, bins = 15, color = \"orange\",  edgecolor = \"black\")\n",
    "plt.title(\"Ages of Those Abroad the Titanic\")\n",
    "plt.xlabel(\"Age\")\n",
    "plt.ylabel(\"# of People\")\n",
    "plt.show()"
   ]
  },
  {
   "cell_type": "markdown",
   "id": "d2ca44eb",
   "metadata": {},
   "source": [
    "#### Earthquakes and Tsunamis"
   ]
  },
  {
   "cell_type": "code",
   "execution_count": 7,
   "id": "805959c4",
   "metadata": {},
   "outputs": [
    {
     "data": {
      "image/png": "[encoded data removed]",
      "text/plain": [
       "<Figure size 432x288 with 1 Axes>"
      ]
     },
     "metadata": {
      "needs_background": "light"
     },
     "output_type": "display_data"
    }
   ],
   "source": [
    "#Example 2.3, page 26\n",
    "#We will use matplotlib for this visualization\n",
    "\n",
    "#Read in data\n",
    "tsunamis_2020 = pd.read_csv(\"datasets/tsunamis_2020.txt\", sep = \"\\t\")\n",
    "\n",
    "#Plot graph\n",
    "plt.hist(tsunamis_2020[\"Magnitude\"], bins = 30)\n",
    "plt.title(\"Earthquakes and Tsunamis\")\n",
    "plt.xlabel(\"Magnitude\")\n",
    "plt.ylabel(\"Earthquakes\")\n",
    "plt.show()"
   ]
  },
  {
   "cell_type": "markdown",
   "id": "e2405ef8",
   "metadata": {},
   "source": [
    "#### Stem-and-Leaf Displays"
   ]
  },
  {
   "cell_type": "code",
   "execution_count": 9,
   "id": "7f8afc84",
   "metadata": {
    "scrolled": true
   },
   "outputs": [
    {
     "data": {
      "image/png": "[encoded data removed]",
      "text/plain": [
       "<Figure size 432x288 with 1 Axes>"
      ]
     },
     "metadata": {
      "needs_background": "light"
     },
     "output_type": "display_data"
    }
   ],
   "source": [
    "#Figure 2.8, page 27\n",
    "#We will use matplotlib for this visualization\n",
    "pulse_rates = pd.read_csv(\"datasets/pulse-rates.txt\", sep = \"\\t\")\n",
    "plt.hist(pulse_rates[\"Pulse\"], bins = [55,60,65,70,75,80,85,90], color = \"yellow\", edgecolor = \"black\")\n",
    "plt.xlabel(\"Pulse Rate (beats per minute)\")\n",
    "plt.ylabel(\"# of Women\")\n",
    "\n",
    "plt.show()"
   ]
  },
  {
   "cell_type": "code",
   "execution_count": 10,
   "id": "d259a481",
   "metadata": {},
   "outputs": [
    {
     "data": {
      "image/png": "[encoded data removed]",
      "text/plain": [
       "<Figure size 432x288 with 1 Axes>"
      ]
     },
     "metadata": {
      "needs_background": "light"
     },
     "output_type": "display_data"
    }
   ],
   "source": [
    "#Stem-and-leaf plot\n",
    "#We will use matplotlib for this visualization\n",
    "pulse_rates = pd.read_csv(\"datasets/pulse-rates.txt\", sep = \"\\t\")\n",
    "\n",
    "plt.stem([5,6,7,8] * 13, pulse_rates[\"Pulse\"], orientation = \"horizontal\")\n",
    "plt.xlabel(\"Leaf\")\n",
    "plt.ylabel(\"Stem\")\n",
    "plt.show()"
   ]
  },
  {
   "cell_type": "markdown",
   "id": "a47feac9",
   "metadata": {},
   "source": [
    "Question: I don't know how to plot the \"numerical\" version of the stem-and-leaf plot. Also this plot is both uninformative and tricky to make (the function has things to do with broadcasting - arguments must match dimensions), so should we include this?"
   ]
  },
  {
   "cell_type": "markdown",
   "id": "d02b72e3",
   "metadata": {},
   "source": [
    "### Tips:\n",
    "- plt.hist() can do the aggregating for you, while plt.bar() can not. This means that it is ok to put the whole dataframe in hist() and let it count for you, but you will have to group and count observations first before using bar()."
   ]
  },
  {
   "cell_type": "markdown",
   "id": "4c99ee46",
   "metadata": {},
   "source": [
    "#### Dot plot"
   ]
  },
  {
   "cell_type": "code",
   "execution_count": 12,
   "id": "782b6fcb",
   "metadata": {},
   "outputs": [
    {
     "data": {
      "image/png": "[encoded data removed]",
      "text/plain": [
       "<Figure size 432x288 with 1 Axes>"
      ]
     },
     "metadata": {
      "needs_background": "light"
     },
     "output_type": "display_data"
    }
   ],
   "source": [
    "#Figure 2.9, page 28\n",
    "#No package available to make a dot plot\n",
    "derby = pd.read_csv(\"datasets/kentucky_derby_2020.txt\", sep = \"\\t\")\n",
    "\n",
    "plt.hist(derby[\"Time.in.Sec\"], bins = 50)\n",
    "plt.xlabel(\"Winning Time (sec)\")\n",
    "plt.ylabel(\"# of Racers\")\n",
    "plt.show()"
   ]
  },
  {
   "cell_type": "markdown",
   "id": "60ae12d2",
   "metadata": {},
   "source": [
    "Question: I don't know how to make a dot plot. It seems that both matplotlib and seaborn don't have a function for dot plot. What should I do?"
   ]
  },
  {
   "cell_type": "markdown",
   "id": "73b22a92",
   "metadata": {},
   "source": [
    "#### Density plots"
   ]
  },
  {
   "cell_type": "code",
   "execution_count": null,
   "id": "fd19c298",
   "metadata": {
    "scrolled": true
   },
   "outputs": [],
   "source": [
    "#Figure 2.10, page 28\n",
    "#We will use pandas for this visualization\n",
    "figure_2_10 = pd.read_csv(\"datasets/titanic_2020.txt\", sep = \"\\t\")\n",
    "\n",
    "figure_2_10.plot(kind = \"density\", y = \"Age\", xlabel = \"Age\", ylabel = \"Density\")"
   ]
  },
  {
   "cell_type": "markdown",
   "id": "661a76ef",
   "metadata": {},
   "source": [
    "Question: Is the a plt.show() equivalent for pandas plots? I wouldn't want to rely on the output cell, which might not be supported by other programs."
   ]
  },
  {
   "cell_type": "code",
   "execution_count": null,
   "id": "50b6f8a6",
   "metadata": {},
   "outputs": [],
   "source": [
    "#Density plot but shaded\n",
    "#We will use seaborn for this visualization. Unfortunately, pandas.plot does not support filling\n",
    "\n",
    "sns.kdeplot(data = figure_2_10, x = \"Age\", fill = True )"
   ]
  },
  {
   "cell_type": "markdown",
   "id": "ed2f25a6",
   "metadata": {},
   "source": [
    "#### Section 2.3: Shape\n",
    "Displays on pages 29 - 30\n",
    "#### Consumer Price Index"
   ]
  },
  {
   "cell_type": "code",
   "execution_count": 13,
   "id": "0fa64eac",
   "metadata": {},
   "outputs": [
    {
     "data": {
      "image/png": "[encoded data removed]",
      "text/plain": [
       "<Figure size 432x288 with 1 Axes>"
      ]
     },
     "metadata": {
      "needs_background": "light"
     },
     "output_type": "display_data"
    }
   ],
   "source": [
    "#We will use matplotlib for this visualization\n",
    "cpi = pd.read_csv(\"datasets/cpi-worldwide-2016.txt\", sep = \"\\t\")\n",
    "\n",
    "plt.hist(cpi[\"Consumer.Price.Index\"], bins = 25, color = \"orange\", edgecolor = \"black\")\n",
    "plt.xlabel(\"Average Monthly Expenditure ($)\")\n",
    "plt.ylabel(\"# of Customers\")\n",
    "\n",
    "plt.show()"
   ]
  },
  {
   "cell_type": "markdown",
   "id": "9abfb7c0",
   "metadata": {},
   "source": [
    "#### Credit Card Expenditures"
   ]
  },
  {
   "cell_type": "code",
   "execution_count": 14,
   "id": "f5ef731e",
   "metadata": {},
   "outputs": [
    {
     "data": {
      "image/png": "[encoded data removed]",
      "text/plain": [
       "<Figure size 432x288 with 1 Axes>"
      ]
     },
     "metadata": {
      "needs_background": "light"
     },
     "output_type": "display_data"
    }
   ],
   "source": [
    "#We will use matplotlib for this visualization\n",
    "credit = pd.read_csv(\"datasets/credit-card-charges.txt\", sep = \"\\t\")\n",
    "\n",
    "plt.hist(credit[\"Charges($)\"], bins = 22)\n",
    "plt.xlabel(\"Average Monthly Expenditure ($)\")\n",
    "plt.ylabel(\"# of Customers\")\n",
    "plt.show()"
   ]
  },
  {
   "cell_type": "markdown",
   "id": "4a741449",
   "metadata": {},
   "source": [
    "#### Section 2.4: Center\n",
    "#### Finding Median and Mean"
   ]
  },
  {
   "cell_type": "code",
   "execution_count": 15,
   "id": "160894ee",
   "metadata": {},
   "outputs": [
    {
     "data": {
      "image/png": "[encoded data removed]",
      "text/plain": [
       "<Figure size 432x288 with 1 Axes>"
      ]
     },
     "metadata": {
      "needs_background": "light"
     },
     "output_type": "display_data"
    }
   ],
   "source": [
    "#Figure 2.15, page 33\n",
    "#We will use matplotlib for this visualization\n",
    "titanic = pd.read_csv(\"datasets/titanic_2020.txt\", sep = \"\\t\")\n",
    "\n",
    "titanic_crew = titanic[titanic.Class == \"Crew\"]\n",
    "\n",
    "#plt.hist(titanic_crew[\"Age\"], bins = 10)\n",
    "plt.hist(titanic_crew[\"Age\"], range = [titanic_crew[\"Age\"].min(), titanic_crew[\"Age\"].median()], color = \"blue\", bins = 4, edgecolor = \"black\")\n",
    "plt.hist(titanic_crew[\"Age\"], range = [titanic_crew[\"Age\"].median(), titanic_crew[\"Age\"].max()], color = \"orange\", bins = 7, edgecolor = \"black\")\n",
    "plt.xlabel(\"Age\")\n",
    "plt.ylabel(\"# of Crew Members\")\n",
    "plt.show()"
   ]
  },
  {
   "cell_type": "markdown",
   "id": "59a9cedd",
   "metadata": {},
   "source": [
    "Question: This is not optimal. I can't find a way to plot 2 colors on the same histogram (separate by median). Could you help me with this?"
   ]
  },
  {
   "cell_type": "code",
   "execution_count": null,
   "id": "09fb26b3",
   "metadata": {},
   "outputs": [],
   "source": [
    "#Figure 2.16, page 34\n",
    "#We will use matplotlib for this visualizations\n",
    "plt.hist(titanic_crew[\"Age\"], color = \"green\", edgecolor = \"black\")\n",
    "plt.vlines(titanic_crew[\"Age\"].mean(), 0, 230, color = \"purple\")\n",
    "plt.xlabel(\"Age\")\n",
    "plt.ylabel(\"# of Crew Members\")\n",
    "plt.show()"
   ]
  },
  {
   "cell_type": "code",
   "execution_count": null,
   "id": "31c725de",
   "metadata": {},
   "outputs": [],
   "source": [
    "#Summary statistics of the age of Titanic crews\n",
    "titanic_crew[\"Age\"].describe().astype(int)"
   ]
  },
  {
   "cell_type": "markdown",
   "id": "c3295f39",
   "metadata": {},
   "source": [
    "#### Section 2.5: Spread\n",
    "We will be using the titanic_crew dataframe for the following examples\n",
    "#### The Range"
   ]
  },
  {
   "cell_type": "code",
   "execution_count": null,
   "id": "7178dad1",
   "metadata": {},
   "outputs": [],
   "source": [
    "min_age = titanic_crew[\"Age\"].min()\n",
    "max_age = titanic_crew[\"Age\"].max()\n",
    "range_age = min_age - max_age\n",
    "print(\"min age is:\", min_age)\n",
    "print(\"max age is:\", max_age)\n",
    "print(\"age range is:\", range_age)"
   ]
  },
  {
   "cell_type": "markdown",
   "id": "7faab02d",
   "metadata": {},
   "source": [
    "#### The Interquartile Range"
   ]
  },
  {
   "cell_type": "code",
   "execution_count": null,
   "id": "2428ed32",
   "metadata": {},
   "outputs": [],
   "source": [
    "q1 = titanic_crew[\"Age\"].quantile(0.25)\n",
    "q3 = titanic_crew[\"Age\"].quantile(0.75)\n",
    "iqr = q3 - q1\n",
    "print(\"First quantile is:\", q1)\n",
    "print(\"Third quantile is:\", q3)\n",
    "print(\"Interquartile range is:\", iqr)"
   ]
  },
  {
   "cell_type": "markdown",
   "id": "5c3f870f",
   "metadata": {},
   "source": [
    "#### Standard Deviation"
   ]
  },
  {
   "cell_type": "code",
   "execution_count": null,
   "id": "31decf2e",
   "metadata": {},
   "outputs": [],
   "source": [
    "std = titanic_crew[\"Age\"].std()\n",
    "var = titanic_crew[\"Age\"].var()\n",
    "print(\"The standard deviation is:\", std)\n",
    "print(\"The variance is:\", var)"
   ]
  },
  {
   "cell_type": "markdown",
   "id": "dc4d08b4",
   "metadata": {},
   "source": [
    "#### Summarizing a Distribution"
   ]
  },
  {
   "cell_type": "code",
   "execution_count": 16,
   "id": "ed9707b1",
   "metadata": {},
   "outputs": [
    {
     "data": {
      "image/png": "[encoded data removed]",
      "text/plain": [
       "<Figure size 432x288 with 1 Axes>"
      ]
     },
     "metadata": {
      "needs_background": "light"
     },
     "output_type": "display_data"
    },
    {
     "name": "stdout",
     "output_type": "stream",
     "text": [
      "              mpg\n",
      "count  100.000000\n",
      "mean    22.411990\n",
      "std      2.447137\n",
      "min     14.684000\n",
      "25%     20.842000\n",
      "50%     22.051000\n",
      "75%     23.984250\n",
      "max     28.175000\n"
     ]
    }
   ],
   "source": [
    "#Step-by-Step Example, page 40 \n",
    "#We will use matplotlib for this visualization\n",
    "nissan = pd.read_csv(\"datasets/nissan.txt\", sep = \"\\t\")\n",
    "\n",
    "plt.hist(nissan[\"mpg\"], color = \"orange\", edgecolor = \"black\")\n",
    "plt.xlabel(\"Fuel Efficiency (mpg)\")\n",
    "plt.ylabel(\"# of Fill-ups\")\n",
    "plt.show()\n",
    "\n",
    "summary = nissan.describe()\n",
    "print(summary)"
   ]
  },
  {
   "cell_type": "markdown",
   "id": "348b30bd",
   "metadata": {},
   "source": [
    "#### Random Matters"
   ]
  },
  {
   "cell_type": "code",
   "execution_count": 18,
   "id": "61de8576",
   "metadata": {},
   "outputs": [
    {
     "data": {
      "image/png": "[encoded data removed]",
      "text/plain": [
       "<Figure size 432x288 with 1 Axes>"
      ]
     },
     "metadata": {
      "needs_background": "light"
     },
     "output_type": "display_data"
    }
   ],
   "source": [
    "#Figure 2.19, page 43\n",
    "#We will use matplotlib for this visualization\n",
    "commute = pd.read_csv(\"datasets/population-commute-times.txt\", sep = \"\\t\")\n",
    "\n",
    "plt.hist(commute[\"Commute.Time\"], bins = 30, color = \"red\", edgecolor = \"black\")\n",
    "plt.xlabel(\"Commute Time (min)\")\n",
    "plt.ylabel(\"# of Employees\")\n",
    "\n",
    "plt.show()"
   ]
  }
 ],
 "metadata": {
  "kernelspec": {
   "display_name": "Python 3 (ipykernel)",
   "language": "python",
   "name": "python3"
  },
  "language_info": {
   "codemirror_mode": {
    "name": "ipython",
    "version": 3
   },
   "file_extension": ".py",
   "mimetype": "text/x-python",
   "name": "python",
   "nbconvert_exporter": "python",
   "pygments_lexer": "ipython3",
   "version": "3.9.12"
  }
 },
 "nbformat": 4,
 "nbformat_minor": 5
}
