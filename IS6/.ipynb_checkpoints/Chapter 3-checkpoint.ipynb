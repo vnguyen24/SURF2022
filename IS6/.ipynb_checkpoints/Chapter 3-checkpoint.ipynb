{
 "cells": [
  {
   "cell_type": "markdown",
   "id": "2be431ae",
   "metadata": {},
   "source": [
    "## IS6 in Python:  Relationships Between Categorical Variables–Contingency Tables (Chapter 3)\n",
    "\n",
    "### Introduction and background\n",
    "\n",
    "This document is intended to assist students in undertaking examples shown in the Sixth Edition of Intro Stats (2022) by De Veaux, Velleman, and Bock. This pdf file as well as the associated ipynb reproducible analysis source file used to create it can be found at (INSERT WEBSITE LINK HERE)."
   ]
  },
  {
   "cell_type": "markdown",
   "id": "708db93b",
   "metadata": {},
   "source": [
    "### Chapter 3: Relationships Between Categorical Variables–Contingency Tables\n",
    "#### Section 3.1: Contingency Tables"
   ]
  },
  {
   "cell_type": "code",
   "execution_count": 133,
   "id": "872f5ca8",
   "metadata": {},
   "outputs": [],
   "source": [
    "#Read in libraries. These are all the libraries we need for this chapter\n",
    "import pandas as pd\n",
    "import matplotlib.pyplot as plt\n",
    "import seaborn as sns"
   ]
  },
  {
   "cell_type": "code",
   "execution_count": 134,
   "id": "84326f12",
   "metadata": {},
   "outputs": [
    {
     "data": {
      "text/html": [
       "<div>\n",
       "<style scoped>\n",
       "    .dataframe tbody tr th:only-of-type {\n",
       "        vertical-align: middle;\n",
       "    }\n",
       "\n",
       "    .dataframe tbody tr th {\n",
       "        vertical-align: top;\n",
       "    }\n",
       "\n",
       "    .dataframe thead th {\n",
       "        text-align: right;\n",
       "    }\n",
       "</style>\n",
       "<table border=\"1\" class=\"dataframe\">\n",
       "  <thead>\n",
       "    <tr style=\"text-align: right;\">\n",
       "      <th>Gender</th>\n",
       "      <th>F</th>\n",
       "      <th>M</th>\n",
       "      <th>Total</th>\n",
       "    </tr>\n",
       "    <tr>\n",
       "      <th>CatsDogsBoth</th>\n",
       "      <th></th>\n",
       "      <th></th>\n",
       "      <th></th>\n",
       "    </tr>\n",
       "  </thead>\n",
       "  <tbody>\n",
       "    <tr>\n",
       "      <th>Has Both</th>\n",
       "      <td>897</td>\n",
       "      <td>577</td>\n",
       "      <td>1474</td>\n",
       "    </tr>\n",
       "    <tr>\n",
       "      <th>Has cats</th>\n",
       "      <td>3412</td>\n",
       "      <td>2388</td>\n",
       "      <td>5800</td>\n",
       "    </tr>\n",
       "    <tr>\n",
       "      <th>Has dogs</th>\n",
       "      <td>3431</td>\n",
       "      <td>3587</td>\n",
       "      <td>7018</td>\n",
       "    </tr>\n",
       "    <tr>\n",
       "      <th>Total</th>\n",
       "      <td>7740</td>\n",
       "      <td>6552</td>\n",
       "      <td>14292</td>\n",
       "    </tr>\n",
       "  </tbody>\n",
       "</table>\n",
       "</div>"
      ],
      "text/plain": [
       "Gender           F     M  Total\n",
       "CatsDogsBoth                   \n",
       "Has Both       897   577   1474\n",
       "Has cats      3412  2388   5800\n",
       "Has dogs      3431  3587   7018\n",
       "Total         7740  6552  14292"
      ]
     },
     "execution_count": 134,
     "metadata": {},
     "output_type": "execute_result"
    }
   ],
   "source": [
    "#Table 3.1, page 68\n",
    "\n",
    "okcupid = pd.read_csv(\"datasets/okcupid-catsdogs.txt\", sep = \"\\t\")\n",
    "\n",
    "#Make contingency table\n",
    "table = pd.crosstab(index = okcupid[\"CatsDogsBoth\"], columns = okcupid[\"Gender\"], margins = True, margins_name = \"Total\")\n",
    "table"
   ]
  },
  {
   "cell_type": "markdown",
   "id": "c66eece2",
   "metadata": {},
   "source": [
    "#### New functions explained:\n",
    "Note that in this example, pandas is called pd\n",
    "1. pandas.read_csv(filepath, header = {int, list of int, None}). \"header\" argument is new, which lets us pick the row number(s) to use as the column names, and the start of the data.\n",
    "\n",
    "2. pandas.crosstab(index = [series], columns = [series], margins = True/False, margins_name = \"string\"): Compute a contingency table, where \"index\" specifies values to group by rows, \"columns\" specifies values to group by columns, \"margins\" specifies whether to add row/column margins (subtotals) or not, and \"margins_name\" lets us rename the margin label."
   ]
  },
  {
   "cell_type": "code",
   "execution_count": 135,
   "id": "d591291f",
   "metadata": {},
   "outputs": [
    {
     "data": {
      "text/html": [
       "<div>\n",
       "<style scoped>\n",
       "    .dataframe tbody tr th:only-of-type {\n",
       "        vertical-align: middle;\n",
       "    }\n",
       "\n",
       "    .dataframe tbody tr th {\n",
       "        vertical-align: top;\n",
       "    }\n",
       "\n",
       "    .dataframe thead th {\n",
       "        text-align: right;\n",
       "    }\n",
       "</style>\n",
       "<table border=\"1\" class=\"dataframe\">\n",
       "  <thead>\n",
       "    <tr style=\"text-align: right;\">\n",
       "      <th>Gender</th>\n",
       "      <th>F</th>\n",
       "      <th>M</th>\n",
       "      <th>Total</th>\n",
       "    </tr>\n",
       "    <tr>\n",
       "      <th>CatsDogsBoth</th>\n",
       "      <th></th>\n",
       "      <th></th>\n",
       "      <th></th>\n",
       "    </tr>\n",
       "  </thead>\n",
       "  <tbody>\n",
       "    <tr>\n",
       "      <th>Has Both</th>\n",
       "      <td>0.115891</td>\n",
       "      <td>0.088065</td>\n",
       "      <td>0.103135</td>\n",
       "    </tr>\n",
       "    <tr>\n",
       "      <th>Has cats</th>\n",
       "      <td>0.440827</td>\n",
       "      <td>0.364469</td>\n",
       "      <td>0.405821</td>\n",
       "    </tr>\n",
       "    <tr>\n",
       "      <th>Has dogs</th>\n",
       "      <td>0.443282</td>\n",
       "      <td>0.547466</td>\n",
       "      <td>0.491044</td>\n",
       "    </tr>\n",
       "  </tbody>\n",
       "</table>\n",
       "</div>"
      ],
      "text/plain": [
       "Gender               F         M     Total\n",
       "CatsDogsBoth                              \n",
       "Has Both      0.115891  0.088065  0.103135\n",
       "Has cats      0.440827  0.364469  0.405821\n",
       "Has dogs      0.443282  0.547466  0.491044"
      ]
     },
     "execution_count": 135,
     "metadata": {},
     "output_type": "execute_result"
    }
   ],
   "source": [
    "#Table 3.2, page 69\n",
    "\n",
    "okcupid = pd.read_csv(\"datasets/okcupid-catsdogs.txt\", sep = \"\\t\")\n",
    "#Make contingency table, colunmn percent format\n",
    "table = pd.crosstab(index = okcupid[\"CatsDogsBoth\"], columns = okcupid[\"Gender\"], margins = True, margins_name = \"Total\",\n",
    "                    normalize = \"columns\")\n",
    "table"
   ]
  },
  {
   "cell_type": "markdown",
   "id": "52b89f21",
   "metadata": {},
   "source": [
    "#### Same crosstab() function, new argument:\n",
    "\n",
    "To make a contingency table, formatted as column percents, we still use the same crosstab() function. Very convenient!\n",
    "Note that in this example, pandas is called pd\n",
    "\n",
    "pandas.crosstab(..., normalize = {True, False} or {\"all\", \"index\", \"columns\"} or {0,1}): Everything in is the same as the crosstab() function introduced above, with the addition of normalize. Normalize allows us to divide all values by the sum of values.\n",
    "- If passed ‘all’ or True, will normalize over all values.\n",
    "- If passed ‘index’ will normalize over each row.\n",
    "- If passed ‘columns’ will normalize over each column.\n",
    "- If margins is True, will also normalize margin values.\n",
    "\n",
    "We can multiply the dataframe by 100 to get values on the percent scale"
   ]
  },
  {
   "cell_type": "code",
   "execution_count": 136,
   "id": "cd3bb6ef",
   "metadata": {},
   "outputs": [
    {
     "data": {
      "text/html": [
       "<div>\n",
       "<style scoped>\n",
       "    .dataframe tbody tr th:only-of-type {\n",
       "        vertical-align: middle;\n",
       "    }\n",
       "\n",
       "    .dataframe tbody tr th {\n",
       "        vertical-align: top;\n",
       "    }\n",
       "\n",
       "    .dataframe thead th {\n",
       "        text-align: right;\n",
       "    }\n",
       "</style>\n",
       "<table border=\"1\" class=\"dataframe\">\n",
       "  <thead>\n",
       "    <tr style=\"text-align: right;\">\n",
       "      <th>Gender</th>\n",
       "      <th>F</th>\n",
       "      <th>M</th>\n",
       "    </tr>\n",
       "    <tr>\n",
       "      <th>CatsDogsBoth</th>\n",
       "      <th></th>\n",
       "      <th></th>\n",
       "    </tr>\n",
       "  </thead>\n",
       "  <tbody>\n",
       "    <tr>\n",
       "      <th>Has Both</th>\n",
       "      <td>0.608548</td>\n",
       "      <td>0.391452</td>\n",
       "    </tr>\n",
       "    <tr>\n",
       "      <th>Has cats</th>\n",
       "      <td>0.588276</td>\n",
       "      <td>0.411724</td>\n",
       "    </tr>\n",
       "    <tr>\n",
       "      <th>Has dogs</th>\n",
       "      <td>0.488886</td>\n",
       "      <td>0.511114</td>\n",
       "    </tr>\n",
       "    <tr>\n",
       "      <th>Total</th>\n",
       "      <td>0.541562</td>\n",
       "      <td>0.458438</td>\n",
       "    </tr>\n",
       "  </tbody>\n",
       "</table>\n",
       "</div>"
      ],
      "text/plain": [
       "Gender               F         M\n",
       "CatsDogsBoth                    \n",
       "Has Both      0.608548  0.391452\n",
       "Has cats      0.588276  0.411724\n",
       "Has dogs      0.488886  0.511114\n",
       "Total         0.541562  0.458438"
      ]
     },
     "execution_count": 136,
     "metadata": {},
     "output_type": "execute_result"
    }
   ],
   "source": [
    "#Table 3.3, page 69\n",
    "\n",
    "okcupid = pd.read_csv(\"datasets/okcupid-catsdogs.txt\", sep = \"\\t\")\n",
    "\n",
    "#Make contingency table, row percent format\n",
    "table = pd.crosstab(index = okcupid[\"CatsDogsBoth\"], columns = okcupid[\"Gender\"], margins = True, margins_name = \"Total\",\n",
    "                    normalize = \"index\")\n",
    "table"
   ]
  },
  {
   "cell_type": "code",
   "execution_count": 137,
   "id": "d291817c",
   "metadata": {},
   "outputs": [
    {
     "data": {
      "text/html": [
       "<div>\n",
       "<style scoped>\n",
       "    .dataframe tbody tr th:only-of-type {\n",
       "        vertical-align: middle;\n",
       "    }\n",
       "\n",
       "    .dataframe tbody tr th {\n",
       "        vertical-align: top;\n",
       "    }\n",
       "\n",
       "    .dataframe thead th {\n",
       "        text-align: right;\n",
       "    }\n",
       "</style>\n",
       "<table border=\"1\" class=\"dataframe\">\n",
       "  <thead>\n",
       "    <tr style=\"text-align: right;\">\n",
       "      <th>Gender</th>\n",
       "      <th>F</th>\n",
       "      <th>M</th>\n",
       "      <th>Total</th>\n",
       "    </tr>\n",
       "    <tr>\n",
       "      <th>CatsDogsBoth</th>\n",
       "      <th></th>\n",
       "      <th></th>\n",
       "      <th></th>\n",
       "    </tr>\n",
       "  </thead>\n",
       "  <tbody>\n",
       "    <tr>\n",
       "      <th>Has Both</th>\n",
       "      <td>0.062762</td>\n",
       "      <td>0.040372</td>\n",
       "      <td>0.103135</td>\n",
       "    </tr>\n",
       "    <tr>\n",
       "      <th>Has cats</th>\n",
       "      <td>0.238735</td>\n",
       "      <td>0.167086</td>\n",
       "      <td>0.405821</td>\n",
       "    </tr>\n",
       "    <tr>\n",
       "      <th>Has dogs</th>\n",
       "      <td>0.240064</td>\n",
       "      <td>0.250980</td>\n",
       "      <td>0.491044</td>\n",
       "    </tr>\n",
       "    <tr>\n",
       "      <th>Total</th>\n",
       "      <td>0.541562</td>\n",
       "      <td>0.458438</td>\n",
       "      <td>1.000000</td>\n",
       "    </tr>\n",
       "  </tbody>\n",
       "</table>\n",
       "</div>"
      ],
      "text/plain": [
       "Gender               F         M     Total\n",
       "CatsDogsBoth                              \n",
       "Has Both      0.062762  0.040372  0.103135\n",
       "Has cats      0.238735  0.167086  0.405821\n",
       "Has dogs      0.240064  0.250980  0.491044\n",
       "Total         0.541562  0.458438  1.000000"
      ]
     },
     "execution_count": 137,
     "metadata": {},
     "output_type": "execute_result"
    }
   ],
   "source": [
    "#Table 3.3, page 69\n",
    "\n",
    "okcupid = pd.read_csv(\"datasets/okcupid-catsdogs.txt\", sep = \"\\t\")\n",
    "\n",
    "#Make contingency table, table percent format\n",
    "table = pd.crosstab(index = okcupid[\"CatsDogsBoth\"], columns = okcupid[\"Gender\"], margins = True, margins_name = \"Total\",\n",
    "                    normalize = \"all\")\n",
    "table"
   ]
  },
  {
   "cell_type": "markdown",
   "id": "1696e472",
   "metadata": {},
   "source": [
    "#### Example 3.1: Exploring Marginal Distributions\n"
   ]
  },
  {
   "cell_type": "code",
   "execution_count": 138,
   "id": "e44c96ab",
   "metadata": {},
   "outputs": [
    {
     "data": {
      "text/html": [
       "<div>\n",
       "<style scoped>\n",
       "    .dataframe tbody tr th:only-of-type {\n",
       "        vertical-align: middle;\n",
       "    }\n",
       "\n",
       "    .dataframe tbody tr th {\n",
       "        vertical-align: top;\n",
       "    }\n",
       "\n",
       "    .dataframe thead th {\n",
       "        text-align: right;\n",
       "    }\n",
       "</style>\n",
       "<table border=\"1\" class=\"dataframe\">\n",
       "  <thead>\n",
       "    <tr style=\"text-align: right;\">\n",
       "      <th>Sex</th>\n",
       "      <th>Female</th>\n",
       "      <th>Male</th>\n",
       "    </tr>\n",
       "    <tr>\n",
       "      <th>Plan</th>\n",
       "      <th></th>\n",
       "      <th></th>\n",
       "    </tr>\n",
       "  </thead>\n",
       "  <tbody>\n",
       "    <tr>\n",
       "      <th>Commercials</th>\n",
       "      <td>156</td>\n",
       "      <td>81</td>\n",
       "    </tr>\n",
       "    <tr>\n",
       "      <th>Game</th>\n",
       "      <td>200</td>\n",
       "      <td>279</td>\n",
       "    </tr>\n",
       "    <tr>\n",
       "      <th>Wont Watch</th>\n",
       "      <td>160</td>\n",
       "      <td>132</td>\n",
       "    </tr>\n",
       "  </tbody>\n",
       "</table>\n",
       "</div>"
      ],
      "text/plain": [
       "Sex          Female  Male\n",
       "Plan                     \n",
       "Commercials     156    81\n",
       "Game            200   279\n",
       "Wont Watch      160   132"
      ]
     },
     "execution_count": 138,
     "metadata": {},
     "output_type": "execute_result"
    }
   ],
   "source": [
    "#Example 3.1, page 69\n",
    "superbowl = pd.read_csv(\"datasets/watch-the-super-bowl.txt\", sep = \"\\t\")\n",
    "\n",
    "table = pd.crosstab(index = superbowl[\"Plan\"], columns = superbowl[\"Sex\"])\n",
    "table"
   ]
  },
  {
   "cell_type": "code",
   "execution_count": 139,
   "id": "ef74794e",
   "metadata": {},
   "outputs": [
    {
     "data": {
      "text/html": [
       "<div>\n",
       "<style scoped>\n",
       "    .dataframe tbody tr th:only-of-type {\n",
       "        vertical-align: middle;\n",
       "    }\n",
       "\n",
       "    .dataframe tbody tr th {\n",
       "        vertical-align: top;\n",
       "    }\n",
       "\n",
       "    .dataframe thead th {\n",
       "        text-align: right;\n",
       "    }\n",
       "</style>\n",
       "<table border=\"1\" class=\"dataframe\">\n",
       "  <thead>\n",
       "    <tr style=\"text-align: right;\">\n",
       "      <th>Survived</th>\n",
       "      <th>LOST</th>\n",
       "      <th>SAVED</th>\n",
       "      <th>All</th>\n",
       "    </tr>\n",
       "    <tr>\n",
       "      <th>Class</th>\n",
       "      <th></th>\n",
       "      <th></th>\n",
       "      <th></th>\n",
       "    </tr>\n",
       "  </thead>\n",
       "  <tbody>\n",
       "    <tr>\n",
       "      <th>1st</th>\n",
       "      <td>0.055707</td>\n",
       "      <td>0.091033</td>\n",
       "      <td>0.146739</td>\n",
       "    </tr>\n",
       "    <tr>\n",
       "      <th>2nd</th>\n",
       "      <td>0.075181</td>\n",
       "      <td>0.053442</td>\n",
       "      <td>0.128623</td>\n",
       "    </tr>\n",
       "    <tr>\n",
       "      <th>3rd</th>\n",
       "      <td>0.239130</td>\n",
       "      <td>0.081975</td>\n",
       "      <td>0.321105</td>\n",
       "    </tr>\n",
       "    <tr>\n",
       "      <th>Crew</th>\n",
       "      <td>0.307518</td>\n",
       "      <td>0.096014</td>\n",
       "      <td>0.403533</td>\n",
       "    </tr>\n",
       "    <tr>\n",
       "      <th>All</th>\n",
       "      <td>0.677536</td>\n",
       "      <td>0.322464</td>\n",
       "      <td>1.000000</td>\n",
       "    </tr>\n",
       "  </tbody>\n",
       "</table>\n",
       "</div>"
      ],
      "text/plain": [
       "Survived      LOST     SAVED       All\n",
       "Class                                 \n",
       "1st       0.055707  0.091033  0.146739\n",
       "2nd       0.075181  0.053442  0.128623\n",
       "3rd       0.239130  0.081975  0.321105\n",
       "Crew      0.307518  0.096014  0.403533\n",
       "All       0.677536  0.322464  1.000000"
      ]
     },
     "execution_count": 139,
     "metadata": {},
     "output_type": "execute_result"
    }
   ],
   "source": [
    "#### Example 3.2: Exploring Percentages: Children and First-Class Ticket Holders First?\n",
    "\n",
    "titanic = pd.read_csv(\"datasets/titanic_2020.txt\", sep = \"\\t\")\n",
    "table = pd.crosstab(index = titanic[\"Class\"], columns = titanic[\"Survived\"], margins = True, normalize = \"all\")\n",
    "table"
   ]
  },
  {
   "cell_type": "code",
   "execution_count": 140,
   "id": "479ed19a",
   "metadata": {},
   "outputs": [
    {
     "data": {
      "text/html": [
       "<div>\n",
       "<style scoped>\n",
       "    .dataframe tbody tr th:only-of-type {\n",
       "        vertical-align: middle;\n",
       "    }\n",
       "\n",
       "    .dataframe tbody tr th {\n",
       "        vertical-align: top;\n",
       "    }\n",
       "\n",
       "    .dataframe thead th {\n",
       "        text-align: right;\n",
       "    }\n",
       "</style>\n",
       "<table border=\"1\" class=\"dataframe\">\n",
       "  <thead>\n",
       "    <tr style=\"text-align: right;\">\n",
       "      <th>Survived</th>\n",
       "      <th>LOST</th>\n",
       "      <th>SAVED</th>\n",
       "    </tr>\n",
       "    <tr>\n",
       "      <th>Class</th>\n",
       "      <th></th>\n",
       "      <th></th>\n",
       "    </tr>\n",
       "  </thead>\n",
       "  <tbody>\n",
       "    <tr>\n",
       "      <th>1st</th>\n",
       "      <td>0.379630</td>\n",
       "      <td>0.620370</td>\n",
       "    </tr>\n",
       "    <tr>\n",
       "      <th>2nd</th>\n",
       "      <td>0.584507</td>\n",
       "      <td>0.415493</td>\n",
       "    </tr>\n",
       "    <tr>\n",
       "      <th>3rd</th>\n",
       "      <td>0.744711</td>\n",
       "      <td>0.255289</td>\n",
       "    </tr>\n",
       "    <tr>\n",
       "      <th>Crew</th>\n",
       "      <td>0.762065</td>\n",
       "      <td>0.237935</td>\n",
       "    </tr>\n",
       "    <tr>\n",
       "      <th>All</th>\n",
       "      <td>0.677536</td>\n",
       "      <td>0.322464</td>\n",
       "    </tr>\n",
       "  </tbody>\n",
       "</table>\n",
       "</div>"
      ],
      "text/plain": [
       "Survived      LOST     SAVED\n",
       "Class                       \n",
       "1st       0.379630  0.620370\n",
       "2nd       0.584507  0.415493\n",
       "3rd       0.744711  0.255289\n",
       "Crew      0.762065  0.237935\n",
       "All       0.677536  0.322464"
      ]
     },
     "execution_count": 140,
     "metadata": {},
     "output_type": "execute_result"
    }
   ],
   "source": [
    "table = pd.crosstab(index = titanic[\"Class\"], columns = titanic[\"Survived\"], margins = True, normalize = \"index\")\n",
    "table"
   ]
  },
  {
   "cell_type": "code",
   "execution_count": 141,
   "id": "cb4691e2",
   "metadata": {},
   "outputs": [
    {
     "data": {
      "text/html": [
       "<div>\n",
       "<style scoped>\n",
       "    .dataframe tbody tr th:only-of-type {\n",
       "        vertical-align: middle;\n",
       "    }\n",
       "\n",
       "    .dataframe tbody tr th {\n",
       "        vertical-align: top;\n",
       "    }\n",
       "\n",
       "    .dataframe thead th {\n",
       "        text-align: right;\n",
       "    }\n",
       "</style>\n",
       "<table border=\"1\" class=\"dataframe\">\n",
       "  <thead>\n",
       "    <tr style=\"text-align: right;\">\n",
       "      <th>Survived</th>\n",
       "      <th>LOST</th>\n",
       "      <th>SAVED</th>\n",
       "      <th>All</th>\n",
       "    </tr>\n",
       "    <tr>\n",
       "      <th>Class</th>\n",
       "      <th></th>\n",
       "      <th></th>\n",
       "      <th></th>\n",
       "    </tr>\n",
       "  </thead>\n",
       "  <tbody>\n",
       "    <tr>\n",
       "      <th>1st</th>\n",
       "      <td>0.082219</td>\n",
       "      <td>0.282303</td>\n",
       "      <td>0.146739</td>\n",
       "    </tr>\n",
       "    <tr>\n",
       "      <th>2nd</th>\n",
       "      <td>0.110963</td>\n",
       "      <td>0.165730</td>\n",
       "      <td>0.128623</td>\n",
       "    </tr>\n",
       "    <tr>\n",
       "      <th>3rd</th>\n",
       "      <td>0.352941</td>\n",
       "      <td>0.254213</td>\n",
       "      <td>0.321105</td>\n",
       "    </tr>\n",
       "    <tr>\n",
       "      <th>Crew</th>\n",
       "      <td>0.453877</td>\n",
       "      <td>0.297753</td>\n",
       "      <td>0.403533</td>\n",
       "    </tr>\n",
       "  </tbody>\n",
       "</table>\n",
       "</div>"
      ],
      "text/plain": [
       "Survived      LOST     SAVED       All\n",
       "Class                                 \n",
       "1st       0.082219  0.282303  0.146739\n",
       "2nd       0.110963  0.165730  0.128623\n",
       "3rd       0.352941  0.254213  0.321105\n",
       "Crew      0.453877  0.297753  0.403533"
      ]
     },
     "execution_count": 141,
     "metadata": {},
     "output_type": "execute_result"
    }
   ],
   "source": [
    "table = pd.crosstab(index = titanic[\"Class\"], columns = titanic[\"Survived\"], margins = True, normalize = \"columns\")\n",
    "table"
   ]
  },
  {
   "cell_type": "markdown",
   "id": "8f57de90",
   "metadata": {},
   "source": [
    "#### Section 3.2: Conditional Distributions\n",
    "\n",
    "See displays on page 71 - 72"
   ]
  },
  {
   "cell_type": "code",
   "execution_count": 142,
   "id": "8af77443",
   "metadata": {},
   "outputs": [
    {
     "name": "stdout",
     "output_type": "stream",
     "text": [
      "Gender  CatsDogsBoth\n",
      "F       Has Both         897\n",
      "        Has cats        3412\n",
      "        Has dogs        3431\n",
      "M       Has Both         577\n",
      "        Has cats        2388\n",
      "        Has dogs        3587\n",
      "Name: CatsDogsBoth, dtype: int64\n"
     ]
    },
    {
     "data": {
      "image/png": "[encoded data removed]",
      "text/plain": [
       "<Figure size 1080x360 with 2 Axes>"
      ]
     },
     "metadata": {},
     "output_type": "display_data"
    }
   ],
   "source": [
    "#Figure 3.1, page 71\n",
    "okcupid = pd.read_csv(\"datasets/okcupid-catsdogs.txt\", sep = \"\\t\")\n",
    "\n",
    "count = okcupid.groupby([\"Gender\", \"CatsDogsBoth\"])[\"CatsDogsBoth\"].count()\n",
    "print(count)\n",
    "\n",
    "fig,ax = plt.subplots(1, 2, figsize = (15, 5))\n",
    "ax[0].pie(x = count[\"F\"], labels = count[\"F\"].index)\n",
    "ax[0].set_title(\"Women\")\n",
    "\n",
    "ax[1].pie(x = count[\"M\"], labels = count[\"M\"].index)\n",
    "ax[1].set_title(\"Men\")\n",
    "handles, labels = ax[1].get_legend_handles_labels()\n",
    "fig.legend(handles, labels, loc='lower center')\n",
    "\n",
    "\n",
    "plt.show()"
   ]
  },
  {
   "cell_type": "markdown",
   "id": "ca8ec22c",
   "metadata": {},
   "source": [
    "Question: This takes me a lot of time to figure out. Although the plot looks beautiful, it is also quite challenging. What do you think?"
   ]
  },
  {
   "cell_type": "code",
   "execution_count": 143,
   "id": "6a1e9ba2",
   "metadata": {},
   "outputs": [
    {
     "name": "stdout",
     "output_type": "stream",
     "text": [
      "      CatsDogsBoth Gender\n",
      "2         Has cats      M\n",
      "13        Has dogs      F\n",
      "14        Has cats      F\n",
      "15        Has cats      F\n",
      "25        Has dogs      M\n",
      "...            ...    ...\n",
      "59926     Has dogs      M\n",
      "59929     Has Both      M\n",
      "59931     Has Both      F\n",
      "59936     Has cats      M\n",
      "59938     Has dogs      F\n",
      "\n",
      "[14292 rows x 2 columns]\n"
     ]
    },
    {
     "data": {
      "image/png": "[encoded data removed]",
      "text/plain": [
       "<Figure size 1080x360 with 2 Axes>"
      ]
     },
     "metadata": {
      "needs_background": "light"
     },
     "output_type": "display_data"
    }
   ],
   "source": [
    "#Figure 3.2, page 71\n",
    "okcupid = pd.read_csv(\"datasets/okcupid-catsdogs.txt\", sep = \"\\t\")\n",
    "\n",
    "okcupid = okcupid[[\"CatsDogsBoth\", \"Gender\"]].dropna()\n",
    "print(okcupid)\n",
    "\n",
    "fig,ax = plt.subplots(1, 2, figsize = (15, 5))\n",
    "ax[0].hist(okcupid[okcupid.Gender == \"M\"][\"CatsDogsBoth\"])\n",
    "ax[1].hist(okcupid[okcupid.Gender == \"F\"][\"CatsDogsBoth\"])\n",
    "plt.show()"
   ]
  },
  {
   "cell_type": "markdown",
   "id": "9b03de0b",
   "metadata": {},
   "source": [
    "#### Example 3.3: Finding Conditional Distributions: Watching the Super Bowl"
   ]
  },
  {
   "cell_type": "code",
   "execution_count": 144,
   "id": "f6b3c712",
   "metadata": {},
   "outputs": [
    {
     "data": {
      "text/html": [
       "<div>\n",
       "<style scoped>\n",
       "    .dataframe tbody tr th:only-of-type {\n",
       "        vertical-align: middle;\n",
       "    }\n",
       "\n",
       "    .dataframe tbody tr th {\n",
       "        vertical-align: top;\n",
       "    }\n",
       "\n",
       "    .dataframe thead th {\n",
       "        text-align: right;\n",
       "    }\n",
       "</style>\n",
       "<table border=\"1\" class=\"dataframe\">\n",
       "  <thead>\n",
       "    <tr style=\"text-align: right;\">\n",
       "      <th>Sex</th>\n",
       "      <th>Female</th>\n",
       "      <th>Male</th>\n",
       "      <th>All</th>\n",
       "    </tr>\n",
       "    <tr>\n",
       "      <th>Plan</th>\n",
       "      <th></th>\n",
       "      <th></th>\n",
       "      <th></th>\n",
       "    </tr>\n",
       "  </thead>\n",
       "  <tbody>\n",
       "    <tr>\n",
       "      <th>Commercials</th>\n",
       "      <td>156</td>\n",
       "      <td>81</td>\n",
       "      <td>237</td>\n",
       "    </tr>\n",
       "    <tr>\n",
       "      <th>Game</th>\n",
       "      <td>200</td>\n",
       "      <td>279</td>\n",
       "      <td>479</td>\n",
       "    </tr>\n",
       "    <tr>\n",
       "      <th>Wont Watch</th>\n",
       "      <td>160</td>\n",
       "      <td>132</td>\n",
       "      <td>292</td>\n",
       "    </tr>\n",
       "    <tr>\n",
       "      <th>All</th>\n",
       "      <td>516</td>\n",
       "      <td>492</td>\n",
       "      <td>1008</td>\n",
       "    </tr>\n",
       "  </tbody>\n",
       "</table>\n",
       "</div>"
      ],
      "text/plain": [
       "Sex          Female  Male   All\n",
       "Plan                           \n",
       "Commercials     156    81   237\n",
       "Game            200   279   479\n",
       "Wont Watch      160   132   292\n",
       "All             516   492  1008"
      ]
     },
     "execution_count": 144,
     "metadata": {},
     "output_type": "execute_result"
    }
   ],
   "source": [
    "#Example 3.3, page 72\n",
    "\n",
    "superbowl = pd.read_csv(\"datasets/watch-the-super-bowl.txt\", sep = \"\\t\")\n",
    "\n",
    "table = pd.crosstab(index = superbowl[\"Plan\"], columns = superbowl[\"Sex\"], margins = True)\n",
    "table"
   ]
  },
  {
   "cell_type": "code",
   "execution_count": 145,
   "id": "00f18bae",
   "metadata": {},
   "outputs": [
    {
     "data": {
      "text/html": [
       "<div>\n",
       "<style scoped>\n",
       "    .dataframe tbody tr th:only-of-type {\n",
       "        vertical-align: middle;\n",
       "    }\n",
       "\n",
       "    .dataframe tbody tr th {\n",
       "        vertical-align: top;\n",
       "    }\n",
       "\n",
       "    .dataframe thead th {\n",
       "        text-align: right;\n",
       "    }\n",
       "</style>\n",
       "<table border=\"1\" class=\"dataframe\">\n",
       "  <thead>\n",
       "    <tr style=\"text-align: right;\">\n",
       "      <th>Sex</th>\n",
       "      <th>Female</th>\n",
       "      <th>Male</th>\n",
       "      <th>All</th>\n",
       "    </tr>\n",
       "    <tr>\n",
       "      <th>Plan</th>\n",
       "      <th></th>\n",
       "      <th></th>\n",
       "      <th></th>\n",
       "    </tr>\n",
       "  </thead>\n",
       "  <tbody>\n",
       "    <tr>\n",
       "      <th>Commercials</th>\n",
       "      <td>0.302326</td>\n",
       "      <td>0.164634</td>\n",
       "      <td>0.235119</td>\n",
       "    </tr>\n",
       "    <tr>\n",
       "      <th>Game</th>\n",
       "      <td>0.387597</td>\n",
       "      <td>0.567073</td>\n",
       "      <td>0.475198</td>\n",
       "    </tr>\n",
       "    <tr>\n",
       "      <th>Wont Watch</th>\n",
       "      <td>0.310078</td>\n",
       "      <td>0.268293</td>\n",
       "      <td>0.289683</td>\n",
       "    </tr>\n",
       "  </tbody>\n",
       "</table>\n",
       "</div>"
      ],
      "text/plain": [
       "Sex            Female      Male       All\n",
       "Plan                                     \n",
       "Commercials  0.302326  0.164634  0.235119\n",
       "Game         0.387597  0.567073  0.475198\n",
       "Wont Watch   0.310078  0.268293  0.289683"
      ]
     },
     "execution_count": 145,
     "metadata": {},
     "output_type": "execute_result"
    }
   ],
   "source": [
    "superbowl = pd.read_csv(\"datasets/watch-the-super-bowl.txt\", sep = \"\\t\")\n",
    "\n",
    "table = pd.crosstab(index = superbowl[\"Plan\"], columns = superbowl[\"Sex\"], margins = True, normalize = \"columns\")\n",
    "table"
   ]
  },
  {
   "cell_type": "markdown",
   "id": "4890d190",
   "metadata": {},
   "source": [
    "#### Example 3.4: Looking for Associations Between Variables: Still Watching the Super Bowl"
   ]
  },
  {
   "cell_type": "code",
   "execution_count": 146,
   "id": "b91b4481",
   "metadata": {},
   "outputs": [
    {
     "data": {
      "image/png": "[encoded data removed]",
      "text/plain": [
       "<Figure size 432x288 with 1 Axes>"
      ]
     },
     "metadata": {
      "needs_background": "light"
     },
     "output_type": "display_data"
    }
   ],
   "source": [
    "#Bar plot, page 73\n",
    "superbowl = pd.read_csv(\"datasets/watch-the-super-bowl.txt\", sep = \"\\t\")\n",
    "\n",
    "table = pd.crosstab(index = superbowl[\"Plan\"], columns = superbowl[\"Sex\"], margins = True, normalize = \"columns\")\n",
    "\n",
    "sns.countplot(x = \"Plan\", data = superbowl, hue = \"Sex\")\n",
    "plt.show()"
   ]
  },
  {
   "cell_type": "markdown",
   "id": "21f621b8",
   "metadata": {},
   "source": [
    "#### Countplot explained:\n",
    "countplot() is a special type of bar plot. The reason we introduced this new function here is because we need to plot our data by Sex, and plt.bar() does not provide this functionality. Here is a quick breakdown of the code used to generate this bar plot:\n",
    "\n",
    "Code: sns.countplot(x = variable_name, data = data_frame, hue = variable_name)\n",
    "- sns: sns is the conventional alias we use to name seaborn package\n",
    "- countplot(): tell seaborn to plot a bar plot, with conditionals\n",
    "- x: specifies the values for x-axis\n",
    "- data: specifies the data_frame. Note that when we specify the data_frame, we can directly call its variable names without having to do something like data_frame[variable_name]\n",
    "- hue: specifies which variable to use as the hue or color shade. This argument helps us \"divide\" our data"
   ]
  },
  {
   "cell_type": "markdown",
   "id": "f369bed7",
   "metadata": {},
   "source": [
    "#### Examining Contingecy Tables\n",
    "See displays on page 74"
   ]
  },
  {
   "cell_type": "code",
   "execution_count": 147,
   "id": "df100a2a",
   "metadata": {},
   "outputs": [
    {
     "data": {
      "text/html": [
       "<div>\n",
       "<style scoped>\n",
       "    .dataframe tbody tr th:only-of-type {\n",
       "        vertical-align: middle;\n",
       "    }\n",
       "\n",
       "    .dataframe tbody tr th {\n",
       "        vertical-align: top;\n",
       "    }\n",
       "\n",
       "    .dataframe thead th {\n",
       "        text-align: right;\n",
       "    }\n",
       "</style>\n",
       "<table border=\"1\" class=\"dataframe\">\n",
       "  <thead>\n",
       "    <tr style=\"text-align: right;\">\n",
       "      <th>Cancer:Counts</th>\n",
       "      <th>No</th>\n",
       "      <th>Yes</th>\n",
       "      <th>Total</th>\n",
       "    </tr>\n",
       "    <tr>\n",
       "      <th>Diet:Counts</th>\n",
       "      <th></th>\n",
       "      <th></th>\n",
       "      <th></th>\n",
       "    </tr>\n",
       "  </thead>\n",
       "  <tbody>\n",
       "    <tr>\n",
       "      <th>Large</th>\n",
       "      <td>507</td>\n",
       "      <td>42</td>\n",
       "      <td>549</td>\n",
       "    </tr>\n",
       "    <tr>\n",
       "      <th>Moderate</th>\n",
       "      <td>2769</td>\n",
       "      <td>209</td>\n",
       "      <td>2978</td>\n",
       "    </tr>\n",
       "    <tr>\n",
       "      <th>Never</th>\n",
       "      <td>110</td>\n",
       "      <td>14</td>\n",
       "      <td>124</td>\n",
       "    </tr>\n",
       "    <tr>\n",
       "      <th>Small</th>\n",
       "      <td>2420</td>\n",
       "      <td>201</td>\n",
       "      <td>2621</td>\n",
       "    </tr>\n",
       "    <tr>\n",
       "      <th>Total</th>\n",
       "      <td>5806</td>\n",
       "      <td>466</td>\n",
       "      <td>6272</td>\n",
       "    </tr>\n",
       "  </tbody>\n",
       "</table>\n",
       "</div>"
      ],
      "text/plain": [
       "Cancer:Counts    No  Yes  Total\n",
       "Diet:Counts                    \n",
       "Large           507   42    549\n",
       "Moderate       2769  209   2978\n",
       "Never           110   14    124\n",
       "Small          2420  201   2621\n",
       "Total          5806  466   6272"
      ]
     },
     "execution_count": 147,
     "metadata": {},
     "output_type": "execute_result"
    }
   ],
   "source": [
    "fish_diet = pd.read_csv(\"datasets/fish-diet.txt\", sep = \"\\t\")\n",
    "\n",
    "table = pd.crosstab(index = fish_diet[\"Diet:Counts\"], columns = fish_diet[\"Cancer:Counts\"], margins = True, margins_name = \"Total\")\n",
    "table"
   ]
  },
  {
   "cell_type": "markdown",
   "id": "aac006f3",
   "metadata": {},
   "source": [
    "#### Random Matters\n",
    "See displays on page 76"
   ]
  },
  {
   "cell_type": "code",
   "execution_count": 148,
   "id": "a41036ae",
   "metadata": {},
   "outputs": [
    {
     "name": "stdout",
     "output_type": "stream",
     "text": [
      "Side          L   R  Total\n",
      "Dream                     \n",
      "Nightmare     9   6     15\n",
      "SweetDreams  13  35     48\n",
      "Total        22  41     63\n"
     ]
    }
   ],
   "source": [
    "nightmares = pd.read_csv(\"datasets/nightmares.txt\", sep = \"\\t\")\n",
    "\n",
    "table = pd.crosstab(index = nightmares[\"Dream\"], columns = nightmares[\"Side\"], margins = True, margins_name = \"Total\")\n",
    "#Question: This line is only for aesthetics, do I need to explain it?\n",
    "table = table.rename(index = {\"N\" : \"Nightmare\", \"n\" : \"SweetDreams\"})\n",
    "print(table)"
   ]
  },
  {
   "cell_type": "markdown",
   "id": "0850e4bd",
   "metadata": {},
   "source": [
    "#### Section 3.3: Displaying Contingency Tables"
   ]
  },
  {
   "cell_type": "code",
   "execution_count": 149,
   "id": "e31e66fa",
   "metadata": {},
   "outputs": [
    {
     "data": {
      "text/html": [
       "<div>\n",
       "<style scoped>\n",
       "    .dataframe tbody tr th:only-of-type {\n",
       "        vertical-align: middle;\n",
       "    }\n",
       "\n",
       "    .dataframe tbody tr th {\n",
       "        vertical-align: top;\n",
       "    }\n",
       "\n",
       "    .dataframe thead th {\n",
       "        text-align: right;\n",
       "    }\n",
       "</style>\n",
       "<table border=\"1\" class=\"dataframe\">\n",
       "  <thead>\n",
       "    <tr style=\"text-align: right;\">\n",
       "      <th>Survived</th>\n",
       "      <th>LOST</th>\n",
       "      <th>SAVED</th>\n",
       "    </tr>\n",
       "    <tr>\n",
       "      <th>Class</th>\n",
       "      <th></th>\n",
       "      <th></th>\n",
       "    </tr>\n",
       "  </thead>\n",
       "  <tbody>\n",
       "    <tr>\n",
       "      <th>1st</th>\n",
       "      <td>123</td>\n",
       "      <td>201</td>\n",
       "    </tr>\n",
       "    <tr>\n",
       "      <th>2nd</th>\n",
       "      <td>166</td>\n",
       "      <td>118</td>\n",
       "    </tr>\n",
       "    <tr>\n",
       "      <th>3rd</th>\n",
       "      <td>528</td>\n",
       "      <td>181</td>\n",
       "    </tr>\n",
       "    <tr>\n",
       "      <th>Crew</th>\n",
       "      <td>679</td>\n",
       "      <td>212</td>\n",
       "    </tr>\n",
       "  </tbody>\n",
       "</table>\n",
       "</div>"
      ],
      "text/plain": [
       "Survived  LOST  SAVED\n",
       "Class                \n",
       "1st        123    201\n",
       "2nd        166    118\n",
       "3rd        528    181\n",
       "Crew       679    212"
      ]
     },
     "execution_count": 149,
     "metadata": {},
     "output_type": "execute_result"
    }
   ],
   "source": [
    "#Table 3.5, page 78\n",
    "titanic = pd.read_csv(\"datasets/titanic_2020.txt\", sep = \"\\t\")\n",
    "\n",
    "table = pd.crosstab(index = titanic[\"Class\"], columns = titanic[\"Survived\"])\n",
    "table"
   ]
  },
  {
   "cell_type": "code",
   "execution_count": 150,
   "id": "b7c46a33",
   "metadata": {},
   "outputs": [
    {
     "data": {
      "text/html": [
       "<div>\n",
       "<style scoped>\n",
       "    .dataframe tbody tr th:only-of-type {\n",
       "        vertical-align: middle;\n",
       "    }\n",
       "\n",
       "    .dataframe tbody tr th {\n",
       "        vertical-align: top;\n",
       "    }\n",
       "\n",
       "    .dataframe thead th {\n",
       "        text-align: right;\n",
       "    }\n",
       "</style>\n",
       "<table border=\"1\" class=\"dataframe\">\n",
       "  <thead>\n",
       "    <tr style=\"text-align: right;\">\n",
       "      <th>Survived</th>\n",
       "      <th>LOST</th>\n",
       "      <th>SAVED</th>\n",
       "    </tr>\n",
       "    <tr>\n",
       "      <th>Class</th>\n",
       "      <th></th>\n",
       "      <th></th>\n",
       "    </tr>\n",
       "  </thead>\n",
       "  <tbody>\n",
       "    <tr>\n",
       "      <th>1st</th>\n",
       "      <td>0.055707</td>\n",
       "      <td>0.091033</td>\n",
       "    </tr>\n",
       "    <tr>\n",
       "      <th>2nd</th>\n",
       "      <td>0.075181</td>\n",
       "      <td>0.053442</td>\n",
       "    </tr>\n",
       "    <tr>\n",
       "      <th>3rd</th>\n",
       "      <td>0.239130</td>\n",
       "      <td>0.081975</td>\n",
       "    </tr>\n",
       "    <tr>\n",
       "      <th>Crew</th>\n",
       "      <td>0.307518</td>\n",
       "      <td>0.096014</td>\n",
       "    </tr>\n",
       "  </tbody>\n",
       "</table>\n",
       "</div>"
      ],
      "text/plain": [
       "Survived      LOST     SAVED\n",
       "Class                       \n",
       "1st       0.055707  0.091033\n",
       "2nd       0.075181  0.053442\n",
       "3rd       0.239130  0.081975\n",
       "Crew      0.307518  0.096014"
      ]
     },
     "execution_count": 150,
     "metadata": {},
     "output_type": "execute_result"
    }
   ],
   "source": [
    "table = pd.crosstab(index = titanic[\"Class\"], columns = titanic[\"Survived\"], normalize = True)\n",
    "table"
   ]
  },
  {
   "cell_type": "markdown",
   "id": "ccd5809a",
   "metadata": {},
   "source": [
    "Question: There is no way I can replicate the table 3.5 in the book. Prof. Horton also sectioned it into 2 tables. Is this ok?"
   ]
  },
  {
   "cell_type": "code",
   "execution_count": 151,
   "id": "07d3154b",
   "metadata": {},
   "outputs": [
    {
     "data": {
      "image/png": "[encoded data removed]",
      "text/plain": [
       "<Figure size 432x288 with 1 Axes>"
      ]
     },
     "metadata": {
      "needs_background": "light"
     },
     "output_type": "display_data"
    }
   ],
   "source": [
    "#Figure 3.4, page 78\n",
    "titanic = pd.read_csv(\"datasets/titanic_2020.txt\", sep = \"\\t\")\n",
    "\n",
    "sns.countplot(x = \"Class\", data = titanic, hue = \"Survived\", order = [\"1st\", \"2nd\", \"3rd\", \"Crew\"], hue_order = [\"SAVED\", \"LOST\"])\n",
    "plt.show()"
   ]
  },
  {
   "cell_type": "markdown",
   "id": "c046a88c",
   "metadata": {},
   "source": [
    "Question: The book displays in percentages. I don't know how to do that here. Or rather, I do know how to do that, but it gets a bit too complicated."
   ]
  },
  {
   "cell_type": "code",
   "execution_count": 152,
   "id": "191cbb9e",
   "metadata": {},
   "outputs": [
    {
     "data": {
      "image/png": "[encoded data removed]",
      "text/plain": [
       "<Figure size 864x720 with 1 Axes>"
      ]
     },
     "metadata": {
      "needs_background": "light"
     },
     "output_type": "display_data"
    }
   ],
   "source": [
    "#Figure 3.5, page 79\n",
    "titanic = pd.read_csv(\"datasets/titanic_2020.txt\", sep = \"\\t\")\n",
    "table = pd.crosstab(index = titanic[\"Class\"], columns = titanic[\"Survived\"], normalize = \"columns\") * 100\n",
    "\n",
    "fig,ax = plt.subplots(1,1, figsize = (12,10))\n",
    "\n",
    "ax.bar(x = table.columns, height = table.loc[\"Crew\"], color = \"orange\", label = \"Crew\")\n",
    "ax.bar(x = table.columns, height = table.loc[\"3rd\"], bottom = table.loc[\"Crew\"], color = \"blue\", label = \"3rd\")\n",
    "ax.bar(x = table.columns, height = table.loc[\"2nd\"], bottom = table.loc[\"Crew\"] + table.loc[\"3rd\"], color = \"purple\", label = \"2nd\")\n",
    "ax.bar(x = table.columns, height = table.loc[\"1st\"], bottom = table.loc[\"Crew\"] + table.loc[\"3rd\"] + table.loc[\"2nd\"], color = \"green\", label = \"1st\")\n",
    "ax.set_ylabel(\"Percent\")\n",
    "ax.legend(loc = \"upper center\")\n",
    "plt.show()"
   ]
  },
  {
   "cell_type": "markdown",
   "id": "0158ca88",
   "metadata": {},
   "source": [
    "#### Section 3.4: Three Categorical Variables"
   ]
  },
  {
   "cell_type": "code",
   "execution_count": 153,
   "id": "c557688c",
   "metadata": {},
   "outputs": [
    {
     "data": {
      "text/html": [
       "<div>\n",
       "<style scoped>\n",
       "    .dataframe tbody tr th:only-of-type {\n",
       "        vertical-align: middle;\n",
       "    }\n",
       "\n",
       "    .dataframe tbody tr th {\n",
       "        vertical-align: top;\n",
       "    }\n",
       "\n",
       "    .dataframe thead th {\n",
       "        text-align: right;\n",
       "    }\n",
       "</style>\n",
       "<table border=\"1\" class=\"dataframe\">\n",
       "  <thead>\n",
       "    <tr style=\"text-align: right;\">\n",
       "      <th></th>\n",
       "      <th>Gender</th>\n",
       "      <th>F</th>\n",
       "      <th>M</th>\n",
       "      <th>All</th>\n",
       "    </tr>\n",
       "    <tr>\n",
       "      <th>CatsDogsBoth</th>\n",
       "      <th>drugsY/N</th>\n",
       "      <th></th>\n",
       "      <th></th>\n",
       "      <th></th>\n",
       "    </tr>\n",
       "  </thead>\n",
       "  <tbody>\n",
       "    <tr>\n",
       "      <th rowspan=\"2\" valign=\"top\">Has Both</th>\n",
       "      <th>No</th>\n",
       "      <td>0.101237</td>\n",
       "      <td>0.070409</td>\n",
       "      <td>0.087242</td>\n",
       "    </tr>\n",
       "    <tr>\n",
       "      <th>Yes</th>\n",
       "      <td>0.020610</td>\n",
       "      <td>0.022610</td>\n",
       "      <td>0.021518</td>\n",
       "    </tr>\n",
       "    <tr>\n",
       "      <th rowspan=\"2\" valign=\"top\">Has cats</th>\n",
       "      <th>No</th>\n",
       "      <td>0.338005</td>\n",
       "      <td>0.247521</td>\n",
       "      <td>0.296930</td>\n",
       "    </tr>\n",
       "    <tr>\n",
       "      <th>Yes</th>\n",
       "      <td>0.088376</td>\n",
       "      <td>0.102935</td>\n",
       "      <td>0.094985</td>\n",
       "    </tr>\n",
       "    <tr>\n",
       "      <th rowspan=\"2\" valign=\"top\">Has dogs</th>\n",
       "      <th>No</th>\n",
       "      <td>0.389777</td>\n",
       "      <td>0.449028</td>\n",
       "      <td>0.416674</td>\n",
       "    </tr>\n",
       "    <tr>\n",
       "      <th>Yes</th>\n",
       "      <td>0.061995</td>\n",
       "      <td>0.107497</td>\n",
       "      <td>0.082651</td>\n",
       "    </tr>\n",
       "  </tbody>\n",
       "</table>\n",
       "</div>"
      ],
      "text/plain": [
       "Gender                        F         M       All\n",
       "CatsDogsBoth drugsY/N                              \n",
       "Has Both     No        0.101237  0.070409  0.087242\n",
       "             Yes       0.020610  0.022610  0.021518\n",
       "Has cats     No        0.338005  0.247521  0.296930\n",
       "             Yes       0.088376  0.102935  0.094985\n",
       "Has dogs     No        0.389777  0.449028  0.416674\n",
       "             Yes       0.061995  0.107497  0.082651"
      ]
     },
     "execution_count": 153,
     "metadata": {},
     "output_type": "execute_result"
    }
   ],
   "source": [
    "# Table 3.6, page 81\n",
    "okcupid = pd.read_csv(\"datasets/okcupid-catsdogs.txt\", sep = \"\\t\")\n",
    "\n",
    "table = pd.crosstab(index = [okcupid[\"CatsDogsBoth\"], okcupid[\"drugsY/N\"]], columns = okcupid[\"Gender\"], margins = True, normalize = \"columns\")\n",
    "table"
   ]
  },
  {
   "cell_type": "markdown",
   "id": "25b1c5bc",
   "metadata": {},
   "source": [
    "#### Example 3.8: Simpson’s Paradox: Gender Discrimination?\n",
    "\n",
    "Question: No data readily available for this example. Can I skip this?"
   ]
  }
 ],
 "metadata": {
  "kernelspec": {
   "display_name": "Python 3 (ipykernel)",
   "language": "python",
   "name": "python3"
  },
  "language_info": {
   "codemirror_mode": {
    "name": "ipython",
    "version": 3
   },
   "file_extension": ".py",
   "mimetype": "text/x-python",
   "name": "python",
   "nbconvert_exporter": "python",
   "pygments_lexer": "ipython3",
   "version": "3.9.12"
  }
 },
 "nbformat": 4,
 "nbformat_minor": 5
}
