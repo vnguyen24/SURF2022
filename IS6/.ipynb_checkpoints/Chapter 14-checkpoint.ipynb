{
 "cells": [
  {
   "cell_type": "markdown",
   "id": "2be431ae",
   "metadata": {},
   "source": [
    "## IS6 in Python: Confidence Intervals for means (Chapter 14)\n",
    "\n",
    "### Introduction and background\n",
    "\n",
    "This document is intended to assist students in undertaking examples shown in the Sixth Edition of Intro Stats (2022) by De Veaux, Velleman, and Bock. This pdf file as well as the associated ipynb reproducible analysis source file used to create it can be found at (INSERT WEBSITE LINK HERE)."
   ]
  },
  {
   "cell_type": "markdown",
   "id": "6d28f623",
   "metadata": {},
   "source": [
    "#### Chapter 14: Confidence Intervals for Means"
   ]
  },
  {
   "cell_type": "code",
   "execution_count": 57,
   "id": "17df6f8a",
   "metadata": {},
   "outputs": [],
   "source": [
    "#Load in libraries\n",
    "import pandas as pd\n",
    "import matplotlib.pyplot as plt\n",
    "import seaborn as sns\n",
    "import numpy as np\n",
    "import statsmodels.api as sm\n",
    "import statsmodels.formula.api as smf\n",
    "from statsmodels.api import qqplot\n",
    "from statsmodels.stats.proportion import proportions_ztest, proportion_confint"
   ]
  },
  {
   "cell_type": "code",
   "execution_count": 58,
   "id": "979ea65f",
   "metadata": {},
   "outputs": [
    {
     "data": {
      "text/html": [
       "<div>\n",
       "<style scoped>\n",
       "    .dataframe tbody tr th:only-of-type {\n",
       "        vertical-align: middle;\n",
       "    }\n",
       "\n",
       "    .dataframe tbody tr th {\n",
       "        vertical-align: top;\n",
       "    }\n",
       "\n",
       "    .dataframe thead th {\n",
       "        text-align: right;\n",
       "    }\n",
       "</style>\n",
       "<table border=\"1\" class=\"dataframe\">\n",
       "  <thead>\n",
       "    <tr style=\"text-align: right;\">\n",
       "      <th></th>\n",
       "      <th>MomAge</th>\n",
       "      <th>DadAge</th>\n",
       "      <th>MomEduc</th>\n",
       "      <th>MomMarital</th>\n",
       "      <th>numlive</th>\n",
       "      <th>dobmm</th>\n",
       "      <th>gestation</th>\n",
       "      <th>sex</th>\n",
       "      <th>weight</th>\n",
       "      <th>prenatalstart</th>\n",
       "      <th>orig.id</th>\n",
       "      <th>preemie</th>\n",
       "    </tr>\n",
       "  </thead>\n",
       "  <tbody>\n",
       "    <tr>\n",
       "      <th>0</th>\n",
       "      <td>35</td>\n",
       "      <td>35.0</td>\n",
       "      <td>17.0</td>\n",
       "      <td>1</td>\n",
       "      <td>2</td>\n",
       "      <td>2</td>\n",
       "      <td>39</td>\n",
       "      <td>F</td>\n",
       "      <td>3175</td>\n",
       "      <td>1.0</td>\n",
       "      <td>1047483</td>\n",
       "      <td>False</td>\n",
       "    </tr>\n",
       "    <tr>\n",
       "      <th>1</th>\n",
       "      <td>22</td>\n",
       "      <td>21.0</td>\n",
       "      <td>12.0</td>\n",
       "      <td>1</td>\n",
       "      <td>1</td>\n",
       "      <td>3</td>\n",
       "      <td>42</td>\n",
       "      <td>F</td>\n",
       "      <td>3884</td>\n",
       "      <td>2.0</td>\n",
       "      <td>1468100</td>\n",
       "      <td>False</td>\n",
       "    </tr>\n",
       "    <tr>\n",
       "      <th>2</th>\n",
       "      <td>35</td>\n",
       "      <td>42.0</td>\n",
       "      <td>15.0</td>\n",
       "      <td>1</td>\n",
       "      <td>0</td>\n",
       "      <td>6</td>\n",
       "      <td>39</td>\n",
       "      <td>F</td>\n",
       "      <td>3030</td>\n",
       "      <td>2.0</td>\n",
       "      <td>2260016</td>\n",
       "      <td>False</td>\n",
       "    </tr>\n",
       "    <tr>\n",
       "      <th>3</th>\n",
       "      <td>23</td>\n",
       "      <td>NaN</td>\n",
       "      <td>6.0</td>\n",
       "      <td>1</td>\n",
       "      <td>2</td>\n",
       "      <td>8</td>\n",
       "      <td>40</td>\n",
       "      <td>F</td>\n",
       "      <td>3629</td>\n",
       "      <td>1.0</td>\n",
       "      <td>3583052</td>\n",
       "      <td>False</td>\n",
       "    </tr>\n",
       "    <tr>\n",
       "      <th>4</th>\n",
       "      <td>23</td>\n",
       "      <td>28.0</td>\n",
       "      <td>13.0</td>\n",
       "      <td>1</td>\n",
       "      <td>0</td>\n",
       "      <td>9</td>\n",
       "      <td>42</td>\n",
       "      <td>F</td>\n",
       "      <td>3481</td>\n",
       "      <td>2.0</td>\n",
       "      <td>795674</td>\n",
       "      <td>False</td>\n",
       "    </tr>\n",
       "    <tr>\n",
       "      <th>...</th>\n",
       "      <td>...</td>\n",
       "      <td>...</td>\n",
       "      <td>...</td>\n",
       "      <td>...</td>\n",
       "      <td>...</td>\n",
       "      <td>...</td>\n",
       "      <td>...</td>\n",
       "      <td>...</td>\n",
       "      <td>...</td>\n",
       "      <td>...</td>\n",
       "      <td>...</td>\n",
       "      <td>...</td>\n",
       "    </tr>\n",
       "    <tr>\n",
       "      <th>195</th>\n",
       "      <td>25</td>\n",
       "      <td>NaN</td>\n",
       "      <td>12.0</td>\n",
       "      <td>2</td>\n",
       "      <td>2</td>\n",
       "      <td>5</td>\n",
       "      <td>40</td>\n",
       "      <td>F</td>\n",
       "      <td>2858</td>\n",
       "      <td>2.0</td>\n",
       "      <td>2329810</td>\n",
       "      <td>False</td>\n",
       "    </tr>\n",
       "    <tr>\n",
       "      <th>196</th>\n",
       "      <td>34</td>\n",
       "      <td>35.0</td>\n",
       "      <td>11.0</td>\n",
       "      <td>1</td>\n",
       "      <td>1</td>\n",
       "      <td>6</td>\n",
       "      <td>40</td>\n",
       "      <td>M</td>\n",
       "      <td>2530</td>\n",
       "      <td>2.0</td>\n",
       "      <td>435373</td>\n",
       "      <td>False</td>\n",
       "    </tr>\n",
       "    <tr>\n",
       "      <th>197</th>\n",
       "      <td>36</td>\n",
       "      <td>37.0</td>\n",
       "      <td>16.0</td>\n",
       "      <td>1</td>\n",
       "      <td>0</td>\n",
       "      <td>2</td>\n",
       "      <td>37</td>\n",
       "      <td>M</td>\n",
       "      <td>3204</td>\n",
       "      <td>1.0</td>\n",
       "      <td>3315797</td>\n",
       "      <td>False</td>\n",
       "    </tr>\n",
       "    <tr>\n",
       "      <th>198</th>\n",
       "      <td>23</td>\n",
       "      <td>26.0</td>\n",
       "      <td>11.0</td>\n",
       "      <td>1</td>\n",
       "      <td>1</td>\n",
       "      <td>8</td>\n",
       "      <td>39</td>\n",
       "      <td>M</td>\n",
       "      <td>3572</td>\n",
       "      <td>2.0</td>\n",
       "      <td>1254365</td>\n",
       "      <td>False</td>\n",
       "    </tr>\n",
       "    <tr>\n",
       "      <th>199</th>\n",
       "      <td>34</td>\n",
       "      <td>35.0</td>\n",
       "      <td>12.0</td>\n",
       "      <td>1</td>\n",
       "      <td>3</td>\n",
       "      <td>9</td>\n",
       "      <td>36</td>\n",
       "      <td>M</td>\n",
       "      <td>2552</td>\n",
       "      <td>2.0</td>\n",
       "      <td>3088344</td>\n",
       "      <td>True</td>\n",
       "    </tr>\n",
       "  </tbody>\n",
       "</table>\n",
       "<p>200 rows × 12 columns</p>\n",
       "</div>"
      ],
      "text/plain": [
       "     MomAge  DadAge  MomEduc  MomMarital  numlive  dobmm  gestation sex  \\\n",
       "0        35    35.0     17.0           1        2      2         39   F   \n",
       "1        22    21.0     12.0           1        1      3         42   F   \n",
       "2        35    42.0     15.0           1        0      6         39   F   \n",
       "3        23     NaN      6.0           1        2      8         40   F   \n",
       "4        23    28.0     13.0           1        0      9         42   F   \n",
       "..      ...     ...      ...         ...      ...    ...        ...  ..   \n",
       "195      25     NaN     12.0           2        2      5         40   F   \n",
       "196      34    35.0     11.0           1        1      6         40   M   \n",
       "197      36    37.0     16.0           1        0      2         37   M   \n",
       "198      23    26.0     11.0           1        1      8         39   M   \n",
       "199      34    35.0     12.0           1        3      9         36   M   \n",
       "\n",
       "     weight  prenatalstart  orig.id  preemie  \n",
       "0      3175            1.0  1047483    False  \n",
       "1      3884            2.0  1468100    False  \n",
       "2      3030            2.0  2260016    False  \n",
       "3      3629            1.0  3583052    False  \n",
       "4      3481            2.0   795674    False  \n",
       "..      ...            ...      ...      ...  \n",
       "195    2858            2.0  2329810    False  \n",
       "196    2530            2.0   435373    False  \n",
       "197    3204            1.0  3315797    False  \n",
       "198    3572            2.0  1254365    False  \n",
       "199    2552            2.0  3088344     True  \n",
       "\n",
       "[200 rows x 12 columns]"
      ]
     },
     "execution_count": 58,
     "metadata": {},
     "output_type": "execute_result"
    }
   ],
   "source": [
    "baby = pd.read_csv(\"datasets/babysamp-98.txt\", sep = \"\\t\")\n",
    "baby"
   ]
  },
  {
   "cell_type": "code",
   "execution_count": 59,
   "id": "234ca771",
   "metadata": {},
   "outputs": [
    {
     "data": {
      "image/png": "[encoded data removed]",
      "text/plain": [
       "<Figure size 432x288 with 1 Axes>"
      ]
     },
     "metadata": {
      "needs_background": "light"
     },
     "output_type": "display_data"
    }
   ],
   "source": [
    "sns.histplot(data = baby, x = \"weight\", binwidth = 125)\n",
    "plt.xlabel(\"Birthweight (g)\")\n",
    "plt.ylabel(\"# of Babies\")\n",
    "plt.show()"
   ]
  },
  {
   "cell_type": "code",
   "execution_count": 60,
   "id": "cf2a5961",
   "metadata": {},
   "outputs": [
    {
     "name": "stdout",
     "output_type": "stream",
     "text": [
      "3216.51\n"
     ]
    }
   ],
   "source": [
    "#Mean of a random sample of 100\n",
    "print(baby.sample(100, random_state = 1)[\"weight\"].mean())"
   ]
  },
  {
   "cell_type": "code",
   "execution_count": 61,
   "id": "6664503a",
   "metadata": {},
   "outputs": [
    {
     "name": "stdout",
     "output_type": "stream",
     "text": [
      "3290.67\n"
     ]
    }
   ],
   "source": [
    "#Mean of another random sample of 100\n",
    "print(baby.sample(100, random_state = 13)[\"weight\"].mean())"
   ]
  },
  {
   "cell_type": "code",
   "execution_count": 62,
   "id": "b8c80fa0",
   "metadata": {},
   "outputs": [
    {
     "data": {
      "image/png": "[encoded data removed]",
      "text/plain": [
       "<Figure size 432x288 with 1 Axes>"
      ]
     },
     "metadata": {
      "needs_background": "light"
     },
     "output_type": "display_data"
    }
   ],
   "source": [
    "#Sample 10000 times\n",
    "means = np.zeros(10000)\n",
    "for i in range(10000):\n",
    "    means[i] = baby.sample(100, random_state = i)[\"weight\"].mean()\n",
    "    \n",
    "#Plot\n",
    "sns.histplot(data = means, binwidth = 10)\n",
    "plt.show()"
   ]
  },
  {
   "cell_type": "code",
   "execution_count": 63,
   "id": "51266481",
   "metadata": {},
   "outputs": [
    {
     "name": "stdout",
     "output_type": "stream",
     "text": [
      "                  0\n",
      "count  10000.000000\n",
      "mean    3282.675136\n",
      "std       40.412948\n",
      "min     3132.960000\n",
      "25%     3255.070000\n",
      "50%     3282.850000\n",
      "75%     3309.795000\n",
      "max     3451.460000\n"
     ]
    }
   ],
   "source": [
    "means = pd.DataFrame(means)\n",
    "print(means.describe())"
   ]
  },
  {
   "cell_type": "markdown",
   "id": "624d8a11",
   "metadata": {},
   "source": [
    "#### Section 14.1: The Central Limit Theorem"
   ]
  },
  {
   "cell_type": "code",
   "execution_count": 64,
   "id": "2cdd0909",
   "metadata": {},
   "outputs": [
    {
     "data": {
      "text/html": [
       "<div>\n",
       "<style scoped>\n",
       "    .dataframe tbody tr th:only-of-type {\n",
       "        vertical-align: middle;\n",
       "    }\n",
       "\n",
       "    .dataframe tbody tr th {\n",
       "        vertical-align: top;\n",
       "    }\n",
       "\n",
       "    .dataframe thead th {\n",
       "        text-align: right;\n",
       "    }\n",
       "</style>\n",
       "<table border=\"1\" class=\"dataframe\">\n",
       "  <thead>\n",
       "    <tr style=\"text-align: right;\">\n",
       "      <th></th>\n",
       "      <th>TIcker</th>\n",
       "      <th>Company</th>\n",
       "      <th>CEO</th>\n",
       "      <th>Compensation</th>\n",
       "      <th>Compensation (M)</th>\n",
       "      <th>Median Worker Pay</th>\n",
       "      <th>Ratio</th>\n",
       "    </tr>\n",
       "  </thead>\n",
       "  <tbody>\n",
       "    <tr>\n",
       "      <th>0</th>\n",
       "      <td>DISCA</td>\n",
       "      <td>Discovery, Inc.</td>\n",
       "      <td>David Zaslav</td>\n",
       "      <td>129499005</td>\n",
       "      <td>129.499010</td>\n",
       "      <td>85704.0</td>\n",
       "      <td>1511.0</td>\n",
       "    </tr>\n",
       "    <tr>\n",
       "      <th>1</th>\n",
       "      <td>TMUS</td>\n",
       "      <td>T-Mobile US, Inc.</td>\n",
       "      <td>John Legere</td>\n",
       "      <td>66538206</td>\n",
       "      <td>66.538206</td>\n",
       "      <td>59653.0</td>\n",
       "      <td>1115.0</td>\n",
       "    </tr>\n",
       "    <tr>\n",
       "      <th>2</th>\n",
       "      <td>LIN</td>\n",
       "      <td>Linde Plc</td>\n",
       "      <td>Stephen Angel</td>\n",
       "      <td>66149325</td>\n",
       "      <td>66.149325</td>\n",
       "      <td>40601.0</td>\n",
       "      <td>1629.0</td>\n",
       "    </tr>\n",
       "    <tr>\n",
       "      <th>3</th>\n",
       "      <td>DIS</td>\n",
       "      <td>The Walt Disney Co.</td>\n",
       "      <td>Robert Iger</td>\n",
       "      <td>65645214</td>\n",
       "      <td>65.645214</td>\n",
       "      <td>46127.0</td>\n",
       "      <td>1423.0</td>\n",
       "    </tr>\n",
       "    <tr>\n",
       "      <th>4</th>\n",
       "      <td>CBS</td>\n",
       "      <td>CBS Corporation</td>\n",
       "      <td>Leslie Moonves</td>\n",
       "      <td>47061688</td>\n",
       "      <td>47.061688</td>\n",
       "      <td>NaN</td>\n",
       "      <td>NaN</td>\n",
       "    </tr>\n",
       "  </tbody>\n",
       "</table>\n",
       "</div>"
      ],
      "text/plain": [
       "  TIcker              Company             CEO  Compensation  Compensation (M)  \\\n",
       "0  DISCA      Discovery, Inc.    David Zaslav     129499005        129.499010   \n",
       "1   TMUS    T-Mobile US, Inc.     John Legere      66538206         66.538206   \n",
       "2    LIN            Linde Plc   Stephen Angel      66149325         66.149325   \n",
       "3    DIS  The Walt Disney Co.     Robert Iger      65645214         65.645214   \n",
       "4    CBS      CBS Corporation  Leslie Moonves      47061688         47.061688   \n",
       "\n",
       "   Median Worker Pay   Ratio  \n",
       "0            85704.0  1511.0  \n",
       "1            59653.0  1115.0  \n",
       "2            40601.0  1629.0  \n",
       "3            46127.0  1423.0  \n",
       "4                NaN     NaN  "
      ]
     },
     "execution_count": 64,
     "metadata": {},
     "output_type": "execute_result"
    }
   ],
   "source": [
    "ceo = pd.read_csv(\"datasets/ceo-compensation-2018.txt\", sep = \"\\t\")\n",
    "ceo.head()"
   ]
  },
  {
   "cell_type": "code",
   "execution_count": 65,
   "id": "b00a64f2",
   "metadata": {},
   "outputs": [
    {
     "data": {
      "image/png": "[encoded data removed]",
      "text/plain": [
       "<Figure size 432x288 with 1 Axes>"
      ]
     },
     "metadata": {
      "needs_background": "light"
     },
     "output_type": "display_data"
    }
   ],
   "source": [
    "#Figure 14.3, page 466\n",
    "sns.histplot(data = ceo, x = \"Compensation (M)\", binwidth = 10)\n",
    "plt.xlabel(\"CEO Compensation in $1,000,000\")\n",
    "plt.ylabel(\"Frequency\")\n",
    "plt.show()"
   ]
  },
  {
   "cell_type": "code",
   "execution_count": 66,
   "id": "d7053e9f",
   "metadata": {},
   "outputs": [
    {
     "data": {
      "image/png": "[encoded data removed]",
      "text/plain": [
       "<Figure size 432x288 with 1 Axes>"
      ]
     },
     "metadata": {
      "needs_background": "light"
     },
     "output_type": "display_data"
    }
   ],
   "source": [
    "#Figure 14.4, page 466\n",
    "#Sample 1000 times\n",
    "means10 = np.zeros(1000)\n",
    "for i in range(1000):\n",
    "    means10[i] = ceo.sample(10, random_state = i)[\"Compensation (M)\"].mean()\n",
    "    \n",
    "#Plot\n",
    "sns.histplot(data = means10)\n",
    "plt.xlabel(\"Sampling Distribution of Mean Compensation (in millions), n = 10\")\n",
    "plt.ylabel(\"Frequency\")\n",
    "plt.show()"
   ]
  },
  {
   "cell_type": "code",
   "execution_count": 67,
   "id": "90d8f6f3",
   "metadata": {},
   "outputs": [
    {
     "data": {
      "image/png": "[encoded data removed]",
      "text/plain": [
       "<Figure size 432x288 with 1 Axes>"
      ]
     },
     "metadata": {
      "needs_background": "light"
     },
     "output_type": "display_data"
    }
   ],
   "source": [
    "#Figure 14.5\n",
    "#Sample 1000 times\n",
    "means50 = np.zeros(1000)\n",
    "for i in range(1000):\n",
    "    means50[i] = ceo.sample(50, random_state = i)[\"Compensation (M)\"].mean()\n",
    "    \n",
    "#Plot\n",
    "sns.histplot(data = means50)\n",
    "plt.xlabel(\"Sampling Distribution of Mean Compensation (in millions), n = 50\")\n",
    "plt.ylabel(\"Frequency\")\n",
    "plt.show()"
   ]
  },
  {
   "cell_type": "code",
   "execution_count": 68,
   "id": "c4f7d289",
   "metadata": {},
   "outputs": [
    {
     "data": {
      "image/png": "[encoded data removed]",
      "text/plain": [
       "<Figure size 432x288 with 1 Axes>"
      ]
     },
     "metadata": {
      "needs_background": "light"
     },
     "output_type": "display_data"
    }
   ],
   "source": [
    "#figure 14.7\n",
    "#Sample 1000 times\n",
    "means200 = np.zeros(1000)\n",
    "for i in range(1000):\n",
    "    means200[i] = ceo.sample(200, random_state = i)[\"Compensation (M)\"].mean()\n",
    "    \n",
    "#Plot\n",
    "sns.histplot(data = means200)\n",
    "plt.xlabel(\"Sampling Distribution of Mean Compensation (in millions), n = 200\")\n",
    "plt.ylabel(\"Frequency\")\n",
    "plt.show()"
   ]
  },
  {
   "cell_type": "code",
   "execution_count": 69,
   "id": "f812e775",
   "metadata": {},
   "outputs": [
    {
     "data": {
      "image/png": "[encoded data removed]",
      "text/plain": [
       "<Figure size 360x360 with 1 Axes>"
      ]
     },
     "metadata": {
      "needs_background": "light"
     },
     "output_type": "display_data"
    }
   ],
   "source": [
    "sns.displot(data = means10, kind = \"kde\")\n",
    "plt.show()"
   ]
  },
  {
   "cell_type": "code",
   "execution_count": 73,
   "id": "459a0099",
   "metadata": {},
   "outputs": [
    {
     "data": {
      "text/html": [
       "<div>\n",
       "<style scoped>\n",
       "    .dataframe tbody tr th:only-of-type {\n",
       "        vertical-align: middle;\n",
       "    }\n",
       "\n",
       "    .dataframe tbody tr th {\n",
       "        vertical-align: top;\n",
       "    }\n",
       "\n",
       "    .dataframe thead th {\n",
       "        text-align: right;\n",
       "    }\n",
       "</style>\n",
       "<table border=\"1\" class=\"dataframe\">\n",
       "  <thead>\n",
       "    <tr style=\"text-align: right;\">\n",
       "      <th></th>\n",
       "      <th>means10</th>\n",
       "      <th>means50</th>\n",
       "      <th>means200</th>\n",
       "    </tr>\n",
       "  </thead>\n",
       "  <tbody>\n",
       "    <tr>\n",
       "      <th>0</th>\n",
       "      <td>16.548741</td>\n",
       "      <td>14.105569</td>\n",
       "      <td>14.197191</td>\n",
       "    </tr>\n",
       "    <tr>\n",
       "      <th>1</th>\n",
       "      <td>13.410214</td>\n",
       "      <td>13.649756</td>\n",
       "      <td>13.287595</td>\n",
       "    </tr>\n",
       "    <tr>\n",
       "      <th>2</th>\n",
       "      <td>10.350133</td>\n",
       "      <td>12.641901</td>\n",
       "      <td>13.891747</td>\n",
       "    </tr>\n",
       "    <tr>\n",
       "      <th>3</th>\n",
       "      <td>14.505094</td>\n",
       "      <td>13.559351</td>\n",
       "      <td>13.971897</td>\n",
       "    </tr>\n",
       "    <tr>\n",
       "      <th>4</th>\n",
       "      <td>16.757225</td>\n",
       "      <td>14.262437</td>\n",
       "      <td>13.589530</td>\n",
       "    </tr>\n",
       "  </tbody>\n",
       "</table>\n",
       "</div>"
      ],
      "text/plain": [
       "     means10    means50   means200\n",
       "0  16.548741  14.105569  14.197191\n",
       "1  13.410214  13.649756  13.287595\n",
       "2  10.350133  12.641901  13.891747\n",
       "3  14.505094  13.559351  13.971897\n",
       "4  16.757225  14.262437  13.589530"
      ]
     },
     "execution_count": 73,
     "metadata": {},
     "output_type": "execute_result"
    }
   ],
   "source": [
    "#Wrangle data\n",
    "means10 = pd.DataFrame(means10, columns = [\"means10\"])\n",
    "means50 = pd.DataFrame(means50, columns = [\"means50\"])\n",
    "means200 = pd.DataFrame(means200, columns = [\"means200\"])\n",
    "\n",
    "data = pd.concat([means10, means50, means200], axis = 1)\n",
    "data.head()"
   ]
  },
  {
   "cell_type": "code",
   "execution_count": null,
   "id": "d8217926",
   "metadata": {},
   "outputs": [],
   "source": [
    "#Plot\n",
    "sns.displot(data = data, kind = \"kde\", fill = True)\n",
    "plt.show()"
   ]
  }
 ],
 "metadata": {
  "kernelspec": {
   "display_name": "Python 3 (ipykernel)",
   "language": "python",
   "name": "python3"
  },
  "language_info": {
   "codemirror_mode": {
    "name": "ipython",
    "version": 3
   },
   "file_extension": ".py",
   "mimetype": "text/x-python",
   "name": "python",
   "nbconvert_exporter": "python",
   "pygments_lexer": "ipython3",
   "version": "3.9.12"
  }
 },
 "nbformat": 4,
 "nbformat_minor": 5
}
