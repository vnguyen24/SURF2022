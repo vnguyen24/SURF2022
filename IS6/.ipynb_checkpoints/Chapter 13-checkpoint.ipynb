{
 "cells": [
  {
   "cell_type": "markdown",
   "id": "2be431ae",
   "metadata": {},
   "source": [
    "## IS6 in Python: Sampling Distribution and Confidence Intervals for Proportions (Chapter 13)\n",
    "\n",
    "### Introduction and background\n",
    "\n",
    "This document is intended to assist students in undertaking examples shown in the Sixth Edition of Intro Stats (2022) by De Veaux, Velleman, and Bock. This pdf file as well as the associated ipynb reproducible analysis source file used to create it can be found at (INSERT WEBSITE LINK HERE)."
   ]
  },
  {
   "cell_type": "markdown",
   "id": "70566fc4",
   "metadata": {},
   "source": [
    "#### Chapter 13: Sampling distribution models and confidence intervals for proportions"
   ]
  },
  {
   "cell_type": "code",
   "execution_count": 82,
   "id": "17df6f8a",
   "metadata": {},
   "outputs": [],
   "source": [
    "#Load in libraries\n",
    "import pandas as pd\n",
    "import matplotlib.pyplot as plt\n",
    "import seaborn as sns\n",
    "import numpy as np\n",
    "import statsmodels.api as sm\n",
    "import statsmodels.formula.api as smf\n",
    "from statsmodels.api import qqplot\n",
    "from statsmodels.stats.proportion import proportions_ztest, proportion_confint"
   ]
  },
  {
   "cell_type": "code",
   "execution_count": 15,
   "id": "a45b10f8",
   "metadata": {},
   "outputs": [
    {
     "data": {
      "text/html": [
       "<div>\n",
       "<style scoped>\n",
       "    .dataframe tbody tr th:only-of-type {\n",
       "        vertical-align: middle;\n",
       "    }\n",
       "\n",
       "    .dataframe tbody tr th {\n",
       "        vertical-align: top;\n",
       "    }\n",
       "\n",
       "    .dataframe thead th {\n",
       "        text-align: right;\n",
       "    }\n",
       "</style>\n",
       "<table border=\"1\" class=\"dataframe\">\n",
       "  <thead>\n",
       "    <tr style=\"text-align: right;\">\n",
       "      <th></th>\n",
       "      <th>MomAge</th>\n",
       "      <th>DadAge</th>\n",
       "      <th>MomEduc</th>\n",
       "      <th>MomMarital</th>\n",
       "      <th>numlive</th>\n",
       "      <th>dobmm</th>\n",
       "      <th>gestation</th>\n",
       "      <th>sex</th>\n",
       "      <th>weight</th>\n",
       "      <th>prenatalstart</th>\n",
       "      <th>orig.id</th>\n",
       "      <th>preemie</th>\n",
       "      <th>state</th>\n",
       "    </tr>\n",
       "  </thead>\n",
       "  <tbody>\n",
       "    <tr>\n",
       "      <th>0</th>\n",
       "      <td>35</td>\n",
       "      <td>35.0</td>\n",
       "      <td>17.0</td>\n",
       "      <td>1</td>\n",
       "      <td>2</td>\n",
       "      <td>2</td>\n",
       "      <td>39</td>\n",
       "      <td>F</td>\n",
       "      <td>3175</td>\n",
       "      <td>1.0</td>\n",
       "      <td>1047483</td>\n",
       "      <td>False</td>\n",
       "      <td>Normal</td>\n",
       "    </tr>\n",
       "    <tr>\n",
       "      <th>1</th>\n",
       "      <td>22</td>\n",
       "      <td>21.0</td>\n",
       "      <td>12.0</td>\n",
       "      <td>1</td>\n",
       "      <td>1</td>\n",
       "      <td>3</td>\n",
       "      <td>42</td>\n",
       "      <td>F</td>\n",
       "      <td>3884</td>\n",
       "      <td>2.0</td>\n",
       "      <td>1468100</td>\n",
       "      <td>False</td>\n",
       "      <td>Normal</td>\n",
       "    </tr>\n",
       "    <tr>\n",
       "      <th>2</th>\n",
       "      <td>35</td>\n",
       "      <td>42.0</td>\n",
       "      <td>15.0</td>\n",
       "      <td>1</td>\n",
       "      <td>0</td>\n",
       "      <td>6</td>\n",
       "      <td>39</td>\n",
       "      <td>F</td>\n",
       "      <td>3030</td>\n",
       "      <td>2.0</td>\n",
       "      <td>2260016</td>\n",
       "      <td>False</td>\n",
       "      <td>Normal</td>\n",
       "    </tr>\n",
       "    <tr>\n",
       "      <th>3</th>\n",
       "      <td>23</td>\n",
       "      <td>NaN</td>\n",
       "      <td>6.0</td>\n",
       "      <td>1</td>\n",
       "      <td>2</td>\n",
       "      <td>8</td>\n",
       "      <td>40</td>\n",
       "      <td>F</td>\n",
       "      <td>3629</td>\n",
       "      <td>1.0</td>\n",
       "      <td>3583052</td>\n",
       "      <td>False</td>\n",
       "      <td>Normal</td>\n",
       "    </tr>\n",
       "    <tr>\n",
       "      <th>4</th>\n",
       "      <td>23</td>\n",
       "      <td>28.0</td>\n",
       "      <td>13.0</td>\n",
       "      <td>1</td>\n",
       "      <td>0</td>\n",
       "      <td>9</td>\n",
       "      <td>42</td>\n",
       "      <td>F</td>\n",
       "      <td>3481</td>\n",
       "      <td>2.0</td>\n",
       "      <td>795674</td>\n",
       "      <td>False</td>\n",
       "      <td>Normal</td>\n",
       "    </tr>\n",
       "  </tbody>\n",
       "</table>\n",
       "</div>"
      ],
      "text/plain": [
       "   MomAge  DadAge  MomEduc  MomMarital  numlive  dobmm  gestation sex  weight  \\\n",
       "0      35    35.0     17.0           1        2      2         39   F    3175   \n",
       "1      22    21.0     12.0           1        1      3         42   F    3884   \n",
       "2      35    42.0     15.0           1        0      6         39   F    3030   \n",
       "3      23     NaN      6.0           1        2      8         40   F    3629   \n",
       "4      23    28.0     13.0           1        0      9         42   F    3481   \n",
       "\n",
       "   prenatalstart  orig.id  preemie   state  \n",
       "0            1.0  1047483    False  Normal  \n",
       "1            2.0  1468100    False  Normal  \n",
       "2            2.0  2260016    False  Normal  \n",
       "3            1.0  3583052    False  Normal  \n",
       "4            2.0   795674    False  Normal  "
      ]
     },
     "execution_count": 15,
     "metadata": {},
     "output_type": "execute_result"
    }
   ],
   "source": [
    "#Figure 13.1, page 432\n",
    "baby = pd.read_csv(\"datasets/babysamp-98.txt\", sep = \"\\t\")\n",
    "baby.head()\n",
    "#Wrangle data, not mandatory\n",
    "baby = baby.assign(state = lambda baby: baby[\"preemie\"].map(lambda preemie: \"Normal\" if preemie == False else \"Premature\"))\n",
    "baby.head()"
   ]
  },
  {
   "cell_type": "code",
   "execution_count": 19,
   "id": "35837f00",
   "metadata": {},
   "outputs": [
    {
     "data": {
      "image/png": "[encoded data removed]",
      "text/plain": [
       "<Figure size 432x288 with 1 Axes>"
      ]
     },
     "metadata": {
      "needs_background": "light"
     },
     "output_type": "display_data"
    }
   ],
   "source": [
    "sns.histplot(data = baby, x = \"gestation\", hue = \"state\", binwidth = 1)\n",
    "plt.xlabel(\"Gestation Time (weeks)\")\n",
    "plt.ylabel(\"Births\")\n",
    "plt.show()"
   ]
  },
  {
   "cell_type": "markdown",
   "id": "d496785f",
   "metadata": {},
   "source": [
    "#### Section 13.1: The Sampling Distribution Model for a Proportion\n",
    "#### The Normal Model\n",
    "#### Section 13.2: When does the Normal Model work? Assumptions and Conditions\n",
    "#### Random Matters: Does the Normal Model Always Work? Sampling Distributions for Other Statistics"
   ]
  },
  {
   "cell_type": "code",
   "execution_count": 20,
   "id": "380bbe5e",
   "metadata": {},
   "outputs": [
    {
     "data": {
      "text/html": [
       "<div>\n",
       "<style scoped>\n",
       "    .dataframe tbody tr th:only-of-type {\n",
       "        vertical-align: middle;\n",
       "    }\n",
       "\n",
       "    .dataframe tbody tr th {\n",
       "        vertical-align: top;\n",
       "    }\n",
       "\n",
       "    .dataframe thead th {\n",
       "        text-align: right;\n",
       "    }\n",
       "</style>\n",
       "<table border=\"1\" class=\"dataframe\">\n",
       "  <thead>\n",
       "    <tr style=\"text-align: right;\">\n",
       "      <th></th>\n",
       "      <th>Density</th>\n",
       "      <th>Pct.BF</th>\n",
       "      <th>Age</th>\n",
       "      <th>Weight</th>\n",
       "      <th>Height</th>\n",
       "      <th>Neck</th>\n",
       "      <th>Chest</th>\n",
       "      <th>Abdomen</th>\n",
       "      <th>Waist</th>\n",
       "      <th>Hip</th>\n",
       "      <th>Thigh</th>\n",
       "      <th>Knee</th>\n",
       "      <th>Ankle</th>\n",
       "      <th>Bicep</th>\n",
       "      <th>Forearm</th>\n",
       "      <th>Wrist</th>\n",
       "    </tr>\n",
       "  </thead>\n",
       "  <tbody>\n",
       "    <tr>\n",
       "      <th>0</th>\n",
       "      <td>1.0708</td>\n",
       "      <td>12.3</td>\n",
       "      <td>23</td>\n",
       "      <td>154.25</td>\n",
       "      <td>67.75</td>\n",
       "      <td>36.2</td>\n",
       "      <td>93.1</td>\n",
       "      <td>85.2</td>\n",
       "      <td>33.543307</td>\n",
       "      <td>94.5</td>\n",
       "      <td>59.0</td>\n",
       "      <td>37.3</td>\n",
       "      <td>21.9</td>\n",
       "      <td>32.0</td>\n",
       "      <td>27.4</td>\n",
       "      <td>17.1</td>\n",
       "    </tr>\n",
       "    <tr>\n",
       "      <th>1</th>\n",
       "      <td>1.0853</td>\n",
       "      <td>6.1</td>\n",
       "      <td>22</td>\n",
       "      <td>173.25</td>\n",
       "      <td>72.25</td>\n",
       "      <td>38.5</td>\n",
       "      <td>93.6</td>\n",
       "      <td>83.0</td>\n",
       "      <td>32.677165</td>\n",
       "      <td>98.7</td>\n",
       "      <td>58.7</td>\n",
       "      <td>37.3</td>\n",
       "      <td>23.4</td>\n",
       "      <td>30.5</td>\n",
       "      <td>28.9</td>\n",
       "      <td>18.2</td>\n",
       "    </tr>\n",
       "    <tr>\n",
       "      <th>2</th>\n",
       "      <td>1.0414</td>\n",
       "      <td>25.3</td>\n",
       "      <td>22</td>\n",
       "      <td>154.00</td>\n",
       "      <td>66.25</td>\n",
       "      <td>34.0</td>\n",
       "      <td>95.8</td>\n",
       "      <td>87.9</td>\n",
       "      <td>34.606299</td>\n",
       "      <td>99.2</td>\n",
       "      <td>59.6</td>\n",
       "      <td>38.9</td>\n",
       "      <td>24.0</td>\n",
       "      <td>28.8</td>\n",
       "      <td>25.2</td>\n",
       "      <td>16.6</td>\n",
       "    </tr>\n",
       "    <tr>\n",
       "      <th>3</th>\n",
       "      <td>1.0751</td>\n",
       "      <td>10.4</td>\n",
       "      <td>26</td>\n",
       "      <td>184.75</td>\n",
       "      <td>72.25</td>\n",
       "      <td>37.4</td>\n",
       "      <td>101.8</td>\n",
       "      <td>86.4</td>\n",
       "      <td>34.015748</td>\n",
       "      <td>101.2</td>\n",
       "      <td>60.1</td>\n",
       "      <td>37.3</td>\n",
       "      <td>22.8</td>\n",
       "      <td>32.4</td>\n",
       "      <td>29.4</td>\n",
       "      <td>18.2</td>\n",
       "    </tr>\n",
       "    <tr>\n",
       "      <th>4</th>\n",
       "      <td>1.0340</td>\n",
       "      <td>28.7</td>\n",
       "      <td>24</td>\n",
       "      <td>184.25</td>\n",
       "      <td>71.25</td>\n",
       "      <td>34.4</td>\n",
       "      <td>97.3</td>\n",
       "      <td>100.0</td>\n",
       "      <td>39.370079</td>\n",
       "      <td>101.9</td>\n",
       "      <td>63.2</td>\n",
       "      <td>42.2</td>\n",
       "      <td>24.0</td>\n",
       "      <td>32.2</td>\n",
       "      <td>27.7</td>\n",
       "      <td>17.7</td>\n",
       "    </tr>\n",
       "  </tbody>\n",
       "</table>\n",
       "</div>"
      ],
      "text/plain": [
       "   Density  Pct.BF  Age  Weight  Height  Neck  Chest  Abdomen      Waist  \\\n",
       "0   1.0708    12.3   23  154.25   67.75  36.2   93.1     85.2  33.543307   \n",
       "1   1.0853     6.1   22  173.25   72.25  38.5   93.6     83.0  32.677165   \n",
       "2   1.0414    25.3   22  154.00   66.25  34.0   95.8     87.9  34.606299   \n",
       "3   1.0751    10.4   26  184.75   72.25  37.4  101.8     86.4  34.015748   \n",
       "4   1.0340    28.7   24  184.25   71.25  34.4   97.3    100.0  39.370079   \n",
       "\n",
       "     Hip  Thigh  Knee  Ankle  Bicep  Forearm  Wrist  \n",
       "0   94.5   59.0  37.3   21.9   32.0     27.4   17.1  \n",
       "1   98.7   58.7  37.3   23.4   30.5     28.9   18.2  \n",
       "2   99.2   59.6  38.9   24.0   28.8     25.2   16.6  \n",
       "3  101.2   60.1  37.3   22.8   32.4     29.4   18.2  \n",
       "4  101.9   63.2  42.2   24.0   32.2     27.7   17.7  "
      ]
     },
     "execution_count": 20,
     "metadata": {},
     "output_type": "execute_result"
    }
   ],
   "source": [
    "#Page 439\n",
    "fat = pd.read_csv(\"datasets/bodyfat.txt\", sep = \"\\t\")\n",
    "fat.head()"
   ]
  },
  {
   "cell_type": "code",
   "execution_count": 31,
   "id": "d6da05b6",
   "metadata": {},
   "outputs": [
    {
     "data": {
      "text/plain": [
       "count     10.000000\n",
       "mean     177.925000\n",
       "std       25.297961\n",
       "min      140.000000\n",
       "25%      159.937500\n",
       "50%      179.875000\n",
       "75%      192.250000\n",
       "max      216.000000\n",
       "Name: Weight, dtype: float64"
      ]
     },
     "execution_count": 31,
     "metadata": {},
     "output_type": "execute_result"
    }
   ],
   "source": [
    "#df stats of one sample\n",
    "data = fat.sample(10, random_state = 1)\n",
    "data[\"Weight\"].describe()"
   ]
  },
  {
   "cell_type": "code",
   "execution_count": 63,
   "id": "046ecc6c",
   "metadata": {
    "scrolled": true
   },
   "outputs": [
    {
     "name": "stdout",
     "output_type": "stream",
     "text": [
      "count     10.000000\n",
      "mean     176.175000\n",
      "std       23.925245\n",
      "min      146.000000\n",
      "25%      155.687500\n",
      "50%      168.125000\n",
      "75%      199.437500\n",
      "max      210.500000\n",
      "Name: Weight, dtype: float64\n"
     ]
    }
   ],
   "source": [
    "#df stats of another sample\n",
    "data = fat[\"Weight\"].sample(10, random_state = 13)\n",
    "df_stats = data.describe()\n",
    "print(df_stats)"
   ]
  },
  {
   "cell_type": "code",
   "execution_count": 62,
   "id": "e3934767",
   "metadata": {},
   "outputs": [
    {
     "name": "stdout",
     "output_type": "stream",
     "text": [
      "<class 'pandas.core.series.Series'>\n",
      "168.125\n"
     ]
    }
   ],
   "source": [
    "print(type(df_stats))\n",
    "print(df_stats.iloc[5])"
   ]
  },
  {
   "cell_type": "code",
   "execution_count": 74,
   "id": "0abf8892",
   "metadata": {},
   "outputs": [],
   "source": [
    "#Sample 1000 times\n",
    "num_sim = 1000\n",
    "medians = np.zeros(num_sim)\n",
    "variances = np.zeros(num_sim)\n",
    "minimums = np.zeros(num_sim)\n",
    "for i in range(num_sim):\n",
    "    data = fat[\"Weight\"].sample(10, random_state = i)\n",
    "    df_stats = data.describe()\n",
    "    medians[i] = df_stats[5]\n",
    "    variances[i] = data.var()\n",
    "    minimums[i] = df_stats[3]"
   ]
  },
  {
   "cell_type": "code",
   "execution_count": 78,
   "id": "f7c91f78",
   "metadata": {},
   "outputs": [
    {
     "data": {
      "image/png": "[encoded data removed]",
      "text/plain": [
       "<Figure size 432x288 with 1 Axes>"
      ]
     },
     "metadata": {
      "needs_background": "light"
     },
     "output_type": "display_data"
    }
   ],
   "source": [
    "sns.histplot(data = medians, binwidth = 3)\n",
    "plt.xlabel(\"Medians\")\n",
    "plt.ylabel(\"# of Samples\")\n",
    "plt.show()"
   ]
  },
  {
   "cell_type": "code",
   "execution_count": 79,
   "id": "825414db",
   "metadata": {
    "scrolled": true
   },
   "outputs": [
    {
     "data": {
      "image/png": "[encoded data removed]",
      "text/plain": [
       "<Figure size 432x288 with 1 Axes>"
      ]
     },
     "metadata": {
      "needs_background": "light"
     },
     "output_type": "display_data"
    }
   ],
   "source": [
    "sns.histplot(data = variances)\n",
    "plt.xlabel(\"Variance\")\n",
    "plt.ylabel(\"# of Samples\")\n",
    "plt.show()"
   ]
  },
  {
   "cell_type": "code",
   "execution_count": 80,
   "id": "1cd14c30",
   "metadata": {},
   "outputs": [
    {
     "data": {
      "image/png": "[encoded data removed]",
      "text/plain": [
       "<Figure size 432x288 with 1 Axes>"
      ]
     },
     "metadata": {
      "needs_background": "light"
     },
     "output_type": "display_data"
    }
   ],
   "source": [
    "sns.histplot(data = minimums)\n",
    "plt.xlabel(\"Minimums\")\n",
    "plt.ylabel(\"# of Samples\")\n",
    "plt.show()"
   ]
  },
  {
   "cell_type": "markdown",
   "id": "47501e97",
   "metadata": {},
   "source": [
    "#### Section 13.3: A Confidence Interval for a Proportion\n",
    "#### Section 13.4: Interpreting Confidence Intervals: What Does 95% Confidence Really Mean?\n",
    "First we can replicate the example on pages 443 - 445"
   ]
  },
  {
   "cell_type": "code",
   "execution_count": 94,
   "id": "110d7777",
   "metadata": {},
   "outputs": [
    {
     "name": "stdout",
     "output_type": "stream",
     "text": [
      "phat: 0.6802631578947368\n",
      "sephat: 0.011962254064617532\n",
      "interval: [0.6563386497655017, 0.7041876660239719]\n"
     ]
    }
   ],
   "source": [
    "#Steps shown in previous IS5 for R\n",
    "y = 1034\n",
    "n = 1520\n",
    "phat = y / n\n",
    "print(f\"phat: {phat}\")\n",
    "sephat = np.sqrt(phat * (1 - phat) / n)\n",
    "print(f\"sephat: {sephat}\")\n",
    "interval = pd.Interval(phat - 2*sephat, phat + 2*sephat, closed = \"both\")\n",
    "print(f\"interval: {interval}\")"
   ]
  },
  {
   "cell_type": "code",
   "execution_count": 110,
   "id": "6fcda538",
   "metadata": {},
   "outputs": [
    {
     "name": "stdout",
     "output_type": "stream",
     "text": [
      "The z test values is:  15.069330321943829 . The p-value is:  2.5771198966468344e-51\n"
     ]
    }
   ],
   "source": [
    "z_test , p_value = proportions_ztest(count = 1034 , nobs = 1520, value = 0.5, alternative = \"two-sided\")\n",
    "\n",
    "# Print results\n",
    "print(\"The z test values is: \", z_test, \". The p-value is: \", p_value)"
   ]
  },
  {
   "cell_type": "markdown",
   "id": "9e11637b",
   "metadata": {},
   "source": [
    "Question: I don't quite unerstand what the arguent \"value\" is for"
   ]
  },
  {
   "cell_type": "code",
   "execution_count": 113,
   "id": "69fbf00e",
   "metadata": {
    "scrolled": false
   },
   "outputs": [
    {
     "name": "stdout",
     "output_type": "stream",
     "text": [
      "(0.6568175707541686, 0.703708745035305)\n"
     ]
    }
   ],
   "source": [
    "# Calculate confidence interval and store in conf_prop\n",
    "conf_prop = proportion_confint(count = 1034, nobs = 1520, alpha = 0.05)\n",
    "print(conf_prop)"
   ]
  },
  {
   "cell_type": "markdown",
   "id": "eb225d0f",
   "metadata": {},
   "source": [
    "Question: I don't know how to make the Confidence Intervals plot (Random Matters - page 444)"
   ]
  },
  {
   "cell_type": "markdown",
   "id": "c7377e71",
   "metadata": {},
   "source": [
    "#### Section 13.5: Margin of Error: Certainty vs Precision\n",
    "#### Section 13.6: Choosing the Sample Size"
   ]
  }
 ],
 "metadata": {
  "kernelspec": {
   "display_name": "Python 3 (ipykernel)",
   "language": "python",
   "name": "python3"
  },
  "language_info": {
   "codemirror_mode": {
    "name": "ipython",
    "version": 3
   },
   "file_extension": ".py",
   "mimetype": "text/x-python",
   "name": "python",
   "nbconvert_exporter": "python",
   "pygments_lexer": "ipython3",
   "version": "3.9.12"
  }
 },
 "nbformat": 4,
 "nbformat_minor": 5
}
