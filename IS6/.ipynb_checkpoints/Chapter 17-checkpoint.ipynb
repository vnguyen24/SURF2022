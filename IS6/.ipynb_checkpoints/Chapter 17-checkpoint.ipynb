{
 "cells": [
  {
   "cell_type": "markdown",
   "id": "2be431ae",
   "metadata": {},
   "source": [
    "## IS6 in Python: Comparing Groups (Chapter 17)\n",
    "\n",
    "### Introduction and background\n",
    "\n",
    "This document is intended to assist students in undertaking examples shown in the Sixth Edition of Intro Stats (2022) by De Veaux, Velleman, and Bock. This pdf file as well as the associated ipynb reproducible analysis source file used to create it can be found at (INSERT WEBSITE LINK HERE)."
   ]
  },
  {
   "cell_type": "markdown",
   "id": "27364881",
   "metadata": {},
   "source": [
    "#### Chapter 17: Comparing Groups"
   ]
  },
  {
   "cell_type": "code",
   "execution_count": 76,
   "id": "d5dc471b",
   "metadata": {},
   "outputs": [],
   "source": [
    "# Read in libraries\n",
    "import pandas as pd\n",
    "import numpy as np\n",
    "from scipy.stats import norm, t\n",
    "import matplotlib.pyplot as plt\n",
    "import seaborn as sns\n",
    "from scipy.stats import ttest_ind\n",
    "from statsmodels.stats.proportion import proportions_ztest"
   ]
  },
  {
   "cell_type": "markdown",
   "id": "6e7c00ad",
   "metadata": {},
   "source": [
    "#### Section 17.1: A Confidence Interval for the Difference Between Two Proportions"
   ]
  },
  {
   "cell_type": "markdown",
   "id": "86efae54",
   "metadata": {},
   "source": [
    "Question: \n",
    "- What is the diffmean() equivalent in Python?\n",
    "- What is the resample() equivalent in Python? Note, the dataframe.resample() can only work with time series"
   ]
  },
  {
   "cell_type": "markdown",
   "id": "b807ecf9",
   "metadata": {},
   "source": [
    "#### Example 17.1:  Finding the Standard Error of a Difference in Proportions"
   ]
  },
  {
   "cell_type": "code",
   "execution_count": 56,
   "id": "99a1bf07",
   "metadata": {
    "scrolled": true
   },
   "outputs": [
    {
     "name": "stdout",
     "output_type": "stream",
     "text": [
      "standard error, college: 0.008101926666870337\n",
      "standard error, no college: 0.0148701274256535\n",
      "standard error, difference in proportions: 0.016934045747266573\n"
     ]
    }
   ],
   "source": [
    "# Set up\n",
    "p_c = 0.23\n",
    "p_nc = 0.19\n",
    "se_c = ((p_c * (1-p_c)) / 2698) ** 0.5\n",
    "print(f\"standard error, college: {se_c}\")\n",
    "se_nc = ((p_nc * (1 - p_nc)) / 696) ** 0.5\n",
    "print(f\"standard error, no college: {se_nc}\")\n",
    "se_diff = ((se_c ** 2) + (se_nc ** 2)) ** 0.5\n",
    "print(f\"standard error, difference in proportions: {se_diff}\")"
   ]
  },
  {
   "cell_type": "markdown",
   "id": "b3138bae",
   "metadata": {},
   "source": [
    "#### Example 17.2: Finding a Two-Proportion z-Interval"
   ]
  },
  {
   "cell_type": "code",
   "execution_count": 57,
   "id": "33a0eb40",
   "metadata": {},
   "outputs": [
    {
     "name": "stdout",
     "output_type": "stream",
     "text": [
      "(0.006809270335357526, 0.07319072966464249]\n"
     ]
    }
   ],
   "source": [
    "# A 95% confidence interval for p_c - p_nc is:\n",
    "left = (p_c - p_nc) - 1.96 * se_diff\n",
    "right = (p_c - p_nc) + 1.96 * se_diff\n",
    "conf_int = pd.Interval(left, right)\n",
    "print(conf_int)"
   ]
  },
  {
   "cell_type": "markdown",
   "id": "d434359f",
   "metadata": {},
   "source": [
    "Question: What is the prop.test() equivalent in Python?"
   ]
  },
  {
   "cell_type": "markdown",
   "id": "fb232a31",
   "metadata": {},
   "source": [
    "#### Section 17.2: Assumptions and Conditions for Comparing Proportions\n",
    "#### Step-by-step Example: A Two-Proportion z-Interval "
   ]
  },
  {
   "cell_type": "code",
   "execution_count": 58,
   "id": "d0a1d805",
   "metadata": {},
   "outputs": [
    {
     "data": {
      "text/html": [
       "<div>\n",
       "<style scoped>\n",
       "    .dataframe tbody tr th:only-of-type {\n",
       "        vertical-align: middle;\n",
       "    }\n",
       "\n",
       "    .dataframe tbody tr th {\n",
       "        vertical-align: top;\n",
       "    }\n",
       "\n",
       "    .dataframe thead th {\n",
       "        text-align: right;\n",
       "    }\n",
       "</style>\n",
       "<table border=\"1\" class=\"dataframe\">\n",
       "  <thead>\n",
       "    <tr style=\"text-align: right;\">\n",
       "      <th></th>\n",
       "      <th>passenger</th>\n",
       "      <th>belted</th>\n",
       "    </tr>\n",
       "  </thead>\n",
       "  <tbody>\n",
       "    <tr>\n",
       "      <th>0</th>\n",
       "      <td>F</td>\n",
       "      <td>True</td>\n",
       "    </tr>\n",
       "    <tr>\n",
       "      <th>1</th>\n",
       "      <td>F</td>\n",
       "      <td>True</td>\n",
       "    </tr>\n",
       "    <tr>\n",
       "      <th>2</th>\n",
       "      <td>F</td>\n",
       "      <td>True</td>\n",
       "    </tr>\n",
       "    <tr>\n",
       "      <th>3</th>\n",
       "      <td>F</td>\n",
       "      <td>True</td>\n",
       "    </tr>\n",
       "    <tr>\n",
       "      <th>4</th>\n",
       "      <td>F</td>\n",
       "      <td>True</td>\n",
       "    </tr>\n",
       "  </tbody>\n",
       "</table>\n",
       "</div>"
      ],
      "text/plain": [
       "  passenger belted\n",
       "0         F   True\n",
       "1         F   True\n",
       "2         F   True\n",
       "3         F   True\n",
       "4         F   True"
      ]
     },
     "execution_count": 58,
     "metadata": {},
     "output_type": "execute_result"
    }
   ],
   "source": [
    "#Create dataframe for seatbelts\n",
    "seatbelts = np.array([\"F\", True] * 2777 + [\"F\", False] * (4208 - 2777) + [\"M\", True] * 1363 + [\"M\", False] * (2763 - 1363)).reshape(-1,2)\n",
    "seatbelts = pd.DataFrame(seatbelts, columns = [\"passenger\", \"belted\"])\n",
    "seatbelts.head()"
   ]
  },
  {
   "cell_type": "code",
   "execution_count": 59,
   "id": "33b0c2d4",
   "metadata": {},
   "outputs": [
    {
     "name": "stdout",
     "output_type": "stream",
     "text": [
      "standard error of difference: 0.01199154662477283\n",
      "95% confidence interval: (0.1431256493936262, 0.1901325121627357]\n"
     ]
    }
   ],
   "source": [
    "#Mechanics\n",
    "n_f = 4208\n",
    "n_m = 2763\n",
    "p_f = 2777/4208\n",
    "p_m = 1363/2763\n",
    "se_diff = np.sqrt((p_f * (1 - p_f)) / n_f + (p_m * (1 - p_m)) / n_m)\n",
    "print(f\"standard error of difference: {se_diff}\")\n",
    "me = 1.96 * se_diff\n",
    "conf_int = pd.Interval(p_f - p_m - me, p_f - p_m + me)\n",
    "print(f\"95% confidence interval: {conf_int}\")"
   ]
  },
  {
   "cell_type": "markdown",
   "id": "2479e0f3",
   "metadata": {},
   "source": [
    "#### Section 17.3: The Two-Sample z-Test: Testing for the Difference Between Proportions\n",
    "#### Step-By-Step Example: A Two-Proportion z-Test"
   ]
  },
  {
   "cell_type": "code",
   "execution_count": 60,
   "id": "ec4cd6a8",
   "metadata": {},
   "outputs": [
    {
     "data": {
      "text/html": [
       "<div>\n",
       "<style scoped>\n",
       "    .dataframe tbody tr th:only-of-type {\n",
       "        vertical-align: middle;\n",
       "    }\n",
       "\n",
       "    .dataframe tbody tr th {\n",
       "        vertical-align: top;\n",
       "    }\n",
       "\n",
       "    .dataframe thead th {\n",
       "        text-align: right;\n",
       "    }\n",
       "</style>\n",
       "<table border=\"1\" class=\"dataframe\">\n",
       "  <thead>\n",
       "    <tr style=\"text-align: right;\">\n",
       "      <th></th>\n",
       "      <th>gen</th>\n",
       "      <th>internet</th>\n",
       "    </tr>\n",
       "  </thead>\n",
       "  <tbody>\n",
       "    <tr>\n",
       "      <th>0</th>\n",
       "      <td>GenY</td>\n",
       "      <td>True</td>\n",
       "    </tr>\n",
       "    <tr>\n",
       "      <th>1</th>\n",
       "      <td>GenY</td>\n",
       "      <td>True</td>\n",
       "    </tr>\n",
       "    <tr>\n",
       "      <th>2</th>\n",
       "      <td>GenY</td>\n",
       "      <td>True</td>\n",
       "    </tr>\n",
       "    <tr>\n",
       "      <th>3</th>\n",
       "      <td>GenY</td>\n",
       "      <td>True</td>\n",
       "    </tr>\n",
       "    <tr>\n",
       "      <th>4</th>\n",
       "      <td>GenY</td>\n",
       "      <td>True</td>\n",
       "    </tr>\n",
       "  </tbody>\n",
       "</table>\n",
       "</div>"
      ],
      "text/plain": [
       "    gen internet\n",
       "0  GenY     True\n",
       "1  GenY     True\n",
       "2  GenY     True\n",
       "3  GenY     True\n",
       "4  GenY     True"
      ]
     },
     "execution_count": 60,
     "metadata": {},
     "output_type": "execute_result"
    }
   ],
   "source": [
    "#Create dataframe for sleep habits\n",
    "sleep = np.array([\"GenY\", True] * 205 + [\"GenY\", False] * (293 - 205) + [\"GenX\", True] * 235 + [\"GenX\", False] * (469 - 235)).reshape(-1,2)\n",
    "sleep = pd.DataFrame(sleep, columns = [\"gen\", \"internet\"])\n",
    "sleep.head()"
   ]
  },
  {
   "cell_type": "code",
   "execution_count": 61,
   "id": "1202bf0d",
   "metadata": {},
   "outputs": [
    {
     "name": "stdout",
     "output_type": "stream",
     "text": [
      "293\n"
     ]
    }
   ],
   "source": [
    "#Mechanics\n",
    "#n for GenY\n",
    "n_y = sleep[sleep[\"gen\"] == \"GenY\"].count()[0]\n",
    "print(n_y)"
   ]
  },
  {
   "cell_type": "code",
   "execution_count": 62,
   "id": "86f16178",
   "metadata": {},
   "outputs": [
    {
     "name": "stdout",
     "output_type": "stream",
     "text": [
      "205\n"
     ]
    }
   ],
   "source": [
    "#y for GenY\n",
    "y_y = sleep[(sleep[\"gen\"] == \"GenY\") & (sleep[\"internet\"] == \"True\")].count()[0]\n",
    "print(y_y)"
   ]
  },
  {
   "cell_type": "code",
   "execution_count": 63,
   "id": "2ffe1f47",
   "metadata": {},
   "outputs": [
    {
     "name": "stdout",
     "output_type": "stream",
     "text": [
      "0.6996587030716723\n"
     ]
    }
   ],
   "source": [
    "#proportion for GenY\n",
    "p_y = y_y / n_y\n",
    "print(p_y)"
   ]
  },
  {
   "cell_type": "code",
   "execution_count": 64,
   "id": "be91842e",
   "metadata": {},
   "outputs": [
    {
     "name": "stdout",
     "output_type": "stream",
     "text": [
      "469\n"
     ]
    }
   ],
   "source": [
    "#n for GenX\n",
    "n_x = sleep[sleep[\"gen\"] == \"GenX\"].count()[0]\n",
    "print(n_x)"
   ]
  },
  {
   "cell_type": "code",
   "execution_count": 65,
   "id": "6679d92f",
   "metadata": {},
   "outputs": [
    {
     "name": "stdout",
     "output_type": "stream",
     "text": [
      "235\n"
     ]
    }
   ],
   "source": [
    "#y for GenX\n",
    "y_x = sleep[(sleep[\"gen\"] == \"GenX\") & (sleep[\"internet\"] == \"True\")].count()[0]\n",
    "print(y_x)"
   ]
  },
  {
   "cell_type": "code",
   "execution_count": 66,
   "id": "400f628e",
   "metadata": {},
   "outputs": [
    {
     "name": "stdout",
     "output_type": "stream",
     "text": [
      "0.5010660980810234\n"
     ]
    }
   ],
   "source": [
    "#proportion for GenX\n",
    "p_x = y_x / n_x\n",
    "print(p_x)"
   ]
  },
  {
   "cell_type": "code",
   "execution_count": 67,
   "id": "aaa9fee8",
   "metadata": {},
   "outputs": [
    {
     "name": "stdout",
     "output_type": "stream",
     "text": [
      "0.03535867225219601\n"
     ]
    }
   ],
   "source": [
    "#overall SE\n",
    "sepgen = ((p_y * (1 - p_y)) / n_y + (p_x * (1 - p_x)) / n_x) ** 0.5\n",
    "print(sepgen)"
   ]
  },
  {
   "cell_type": "code",
   "execution_count": 68,
   "id": "4b151782",
   "metadata": {},
   "outputs": [
    {
     "name": "stdout",
     "output_type": "stream",
     "text": [
      "0.1985926049906489\n"
     ]
    }
   ],
   "source": [
    "#Difference between proportions\n",
    "pdiff = p_y - p_x\n",
    "print(pdiff)"
   ]
  },
  {
   "cell_type": "code",
   "execution_count": 69,
   "id": "01558b01",
   "metadata": {},
   "outputs": [
    {
     "name": "stdout",
     "output_type": "stream",
     "text": [
      "5.616517599252188\n"
     ]
    }
   ],
   "source": [
    "z = (pdiff - 0) / sepgen\n",
    "print(z)"
   ]
  },
  {
   "cell_type": "code",
   "execution_count": 70,
   "id": "f4096501",
   "metadata": {},
   "outputs": [
    {
     "name": "stdout",
     "output_type": "stream",
     "text": [
      "1.9484441249264696e-08\n"
     ]
    }
   ],
   "source": [
    "print(2 * norm.sf(x = z))"
   ]
  },
  {
   "cell_type": "code",
   "execution_count": 71,
   "id": "5058ee19",
   "metadata": {},
   "outputs": [
    {
     "name": "stdout",
     "output_type": "stream",
     "text": [
      "p-value: 6.704500816465756e-08\n",
      "z score: 5.398915319236189\n"
     ]
    }
   ],
   "source": [
    "#Using function to calculate z-test\n",
    "count = np.array([205, 235])\n",
    "nobs = np.array([293, 469])\n",
    "stat, pval = proportions_ztest(count, nobs)\n",
    "print(f\"p-value: {pval}\")\n",
    "print(f\"z score: {stat}\")"
   ]
  },
  {
   "cell_type": "markdown",
   "id": "4fb4d5bf",
   "metadata": {},
   "source": [
    "Question: The numbers are slightly different"
   ]
  },
  {
   "cell_type": "markdown",
   "id": "96e83a17",
   "metadata": {},
   "source": [
    "#### Section 17.4: A Confidence Interval for the Difference Between Two Means\n",
    "#### Example 17.7: Finding a Confidence Interval for the Difference in Sample Means\n",
    "We can calculate the confidence interval using summary statistics."
   ]
  },
  {
   "cell_type": "code",
   "execution_count": 85,
   "id": "098b2409",
   "metadata": {},
   "outputs": [
    {
     "name": "stdout",
     "output_type": "stream",
     "text": [
      "(2838.8954767433183, 10794.704523256687)\n"
     ]
    }
   ],
   "source": [
    "# page 585\n",
    "n_f = 465\n",
    "n_m = 1310\n",
    "\n",
    "mean_f = 39667.2\n",
    "mean_m = 46484\n",
    "\n",
    "std_f = 37125.9\n",
    "std_m = 38699.8\n",
    "\n",
    "mean_diff = mean_m - mean_f\n",
    "\n",
    "df = 846\n",
    "\n",
    "t_star = 3.364\n",
    "\n",
    "se_diff = np.sqrt((std_m ** 2 / n_m) + (std_f ** 2 / n_f))\n",
    "\n",
    "print(t.interval(0.95, df = df, loc = mean_diff, scale = se_diff))"
   ]
  },
  {
   "cell_type": "markdown",
   "id": "8b81287d",
   "metadata": {},
   "source": [
    "#### Section 17.5: The Two-Sample t-Test: Testing for the Difference Between Two Means\n",
    "#### Step-By-Step Example: A Two-Sample t-Test for the Difference Between Two Means"
   ]
  },
  {
   "cell_type": "code",
   "execution_count": null,
   "id": "2c866325",
   "metadata": {},
   "outputs": [],
   "source": [
    "# Page 587\n",
    "buy = pd.read_csv(\"datasets/buy-from-a-friend.txt\", sep = \"\\t\")\n",
    "buy.head()"
   ]
  },
  {
   "cell_type": "code",
   "execution_count": null,
   "id": "5d6a6126",
   "metadata": {},
   "outputs": [],
   "source": [
    "sns.boxplot(data = buy)\n",
    "plt.xlabel(\"Buying from\")\n",
    "plt.ylabel(\"Amount Offered ($)\")\n",
    "plt.show()"
   ]
  },
  {
   "cell_type": "code",
   "execution_count": null,
   "id": "032a1561",
   "metadata": {},
   "outputs": [],
   "source": [
    "sns.histplot(data = buy[\"Friend\"], bins = 3)\n",
    "plt.xlabel(\"Buy from friend\")\n",
    "plt.show()"
   ]
  },
  {
   "cell_type": "code",
   "execution_count": null,
   "id": "ec12ebca",
   "metadata": {},
   "outputs": [],
   "source": [
    "sns.histplot(data = buy[\"Stranger\"], bins = 4)\n",
    "plt.xlabel(\"Buy from stranger\")\n",
    "plt.show()"
   ]
  },
  {
   "cell_type": "markdown",
   "id": "b8f70bd6",
   "metadata": {},
   "source": [
    "We can replicate the analyses on pages 588 - 589"
   ]
  },
  {
   "cell_type": "code",
   "execution_count": null,
   "id": "7d030b9a",
   "metadata": {},
   "outputs": [],
   "source": [
    "print(buy.describe())"
   ]
  },
  {
   "cell_type": "code",
   "execution_count": null,
   "id": "220bb332",
   "metadata": {},
   "outputs": [],
   "source": [
    "buy = buy.dropna()\n",
    "# To perform Welch’s t-test, which does not assume equal population variance, use argument equal_var = False\n",
    "stat, p = ttest_ind(buy[\"Friend\"], buy[\"Stranger\"], equal_var = False)\n",
    "\n",
    "# Display the results\n",
    "print(\"p-values:\", p)\n",
    "print(\"t-test:\", stat)"
   ]
  },
  {
   "cell_type": "markdown",
   "id": "130a8b4e",
   "metadata": {},
   "source": [
    "Question: I need to double check the code above. I used the teaching code but did not get the same result shown in the book. One possible explanation is that my dataset is missing 1 example"
   ]
  },
  {
   "cell_type": "markdown",
   "id": "20b06bbb",
   "metadata": {},
   "source": [
    "#### Random Matters: Randomization Tests for The Difference Between Two Means"
   ]
  },
  {
   "cell_type": "code",
   "execution_count": null,
   "id": "e2cad8b6",
   "metadata": {},
   "outputs": [],
   "source": [
    "#Page 591 - 592\n",
    "car = pd.read_csv(\"datasets/car-speeds.txt\", sep = \"\\t\")\n",
    "car.head()"
   ]
  },
  {
   "cell_type": "code",
   "execution_count": null,
   "id": "bdec493c",
   "metadata": {},
   "outputs": [],
   "source": [
    "print(car.groupby(\"direction\").describe())"
   ]
  },
  {
   "cell_type": "markdown",
   "id": "49800dea",
   "metadata": {},
   "source": [
    "Question: (same as above)\n",
    "- What is the diffmean() equivalent in Python?\n",
    "- What is the resample() equivalent in Python?\n",
    "- What is the qdata() equivalent in Python?\n",
    "\n",
    "Note: I think I know how how to shuffle() in Python, the only thing I need now is diffmean()"
   ]
  },
  {
   "cell_type": "markdown",
   "id": "dc03fa48",
   "metadata": {},
   "source": [
    "#### Section 17.6: Pooling"
   ]
  },
  {
   "cell_type": "code",
   "execution_count": null,
   "id": "14f114aa",
   "metadata": {
    "scrolled": true
   },
   "outputs": [],
   "source": [
    "buy = pd.read_csv(\"datasets/buy-from-a-friend.txt\", sep = \"\\t\")\n",
    "buy = buy.dropna()\n",
    "# The pooled variance ttest can be generated by using the option equal_var = True (which is by default)\n",
    "stat, p = ttest_ind(buy[\"Friend\"], buy[\"Stranger\"], equal_var = True)\n",
    "\n",
    "# Display the results\n",
    "print(\"p-values:\", p)\n",
    "print(\"t-test:\", stat)"
   ]
  },
  {
   "cell_type": "markdown",
   "id": "e3740e41",
   "metadata": {},
   "source": [
    "Question: Same as above, need to double check the code above. I used the teaching code but did not get the same result shown in the book. One possible explanation is that my dataset is missing 1 example. Also, I don't see this example in the new version"
   ]
  },
  {
   "cell_type": "markdown",
   "id": "a61a8e54",
   "metadata": {},
   "source": [
    "#### Section 17.7: The Standard Deviation of a Difference"
   ]
  }
 ],
 "metadata": {
  "kernelspec": {
   "display_name": "Python 3 (ipykernel)",
   "language": "python",
   "name": "python3"
  },
  "language_info": {
   "codemirror_mode": {
    "name": "ipython",
    "version": 3
   },
   "file_extension": ".py",
   "mimetype": "text/x-python",
   "name": "python",
   "nbconvert_exporter": "python",
   "pygments_lexer": "ipython3",
   "version": "3.9.12"
  }
 },
 "nbformat": 4,
 "nbformat_minor": 5
}
