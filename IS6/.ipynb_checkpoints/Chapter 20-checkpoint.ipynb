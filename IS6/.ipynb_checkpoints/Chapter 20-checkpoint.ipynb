{
 "cells": [
  {
   "cell_type": "markdown",
   "id": "e7b991a8",
   "metadata": {},
   "source": [
    "## IS6 in Python: Inferences for Regression (Chapter 20)\n",
    "\n",
    "### Introduction and background\n",
    "\n",
    "This document is intended to assist students in undertaking examples shown in the Sixth Edition of Intro Stats (2022) by De Veaux, Velleman, and Bock. This pdf file as well as the associated ipynb reproducible analysis source file used to create it can be found at (INSERT WEBSITE LINK HERE)."
   ]
  },
  {
   "cell_type": "markdown",
   "id": "91cfc7bd",
   "metadata": {},
   "source": [
    "#### Chapter 20: Inferences for Regression"
   ]
  },
  {
   "cell_type": "code",
   "execution_count": 38,
   "id": "f34a9582",
   "metadata": {},
   "outputs": [],
   "source": [
    "#Load libraries\n",
    "import pandas as pd\n",
    "import matplotlib.pyplot as plt\n",
    "import seaborn as sns\n",
    "import numpy as np\n",
    "import statsmodels.api as sm\n",
    "import statsmodels.formula.api as smf\n",
    "from statsmodels.api import qqplot\n",
    "from scipy.stats import t\n",
    "#from scipy import signal"
   ]
  },
  {
   "cell_type": "code",
   "execution_count": 12,
   "id": "68f6fe26",
   "metadata": {},
   "outputs": [
    {
     "data": {
      "text/html": [
       "<div>\n",
       "<style scoped>\n",
       "    .dataframe tbody tr th:only-of-type {\n",
       "        vertical-align: middle;\n",
       "    }\n",
       "\n",
       "    .dataframe tbody tr th {\n",
       "        vertical-align: top;\n",
       "    }\n",
       "\n",
       "    .dataframe thead th {\n",
       "        text-align: right;\n",
       "    }\n",
       "</style>\n",
       "<table border=\"1\" class=\"dataframe\">\n",
       "  <thead>\n",
       "    <tr style=\"text-align: right;\">\n",
       "      <th></th>\n",
       "      <th>Density</th>\n",
       "      <th>Pct.BF</th>\n",
       "      <th>Age</th>\n",
       "      <th>Weight</th>\n",
       "      <th>Height</th>\n",
       "      <th>Neck</th>\n",
       "      <th>Chest</th>\n",
       "      <th>Abdomen</th>\n",
       "      <th>Waist</th>\n",
       "      <th>Hip</th>\n",
       "      <th>Thigh</th>\n",
       "      <th>Knee</th>\n",
       "      <th>Ankle</th>\n",
       "      <th>Bicep</th>\n",
       "      <th>Forearm</th>\n",
       "      <th>Wrist</th>\n",
       "    </tr>\n",
       "  </thead>\n",
       "  <tbody>\n",
       "    <tr>\n",
       "      <th>0</th>\n",
       "      <td>1.0708</td>\n",
       "      <td>12.3</td>\n",
       "      <td>23</td>\n",
       "      <td>154.25</td>\n",
       "      <td>67.75</td>\n",
       "      <td>36.2</td>\n",
       "      <td>93.1</td>\n",
       "      <td>85.2</td>\n",
       "      <td>33.543307</td>\n",
       "      <td>94.5</td>\n",
       "      <td>59.0</td>\n",
       "      <td>37.3</td>\n",
       "      <td>21.9</td>\n",
       "      <td>32.0</td>\n",
       "      <td>27.4</td>\n",
       "      <td>17.1</td>\n",
       "    </tr>\n",
       "    <tr>\n",
       "      <th>1</th>\n",
       "      <td>1.0853</td>\n",
       "      <td>6.1</td>\n",
       "      <td>22</td>\n",
       "      <td>173.25</td>\n",
       "      <td>72.25</td>\n",
       "      <td>38.5</td>\n",
       "      <td>93.6</td>\n",
       "      <td>83.0</td>\n",
       "      <td>32.677165</td>\n",
       "      <td>98.7</td>\n",
       "      <td>58.7</td>\n",
       "      <td>37.3</td>\n",
       "      <td>23.4</td>\n",
       "      <td>30.5</td>\n",
       "      <td>28.9</td>\n",
       "      <td>18.2</td>\n",
       "    </tr>\n",
       "    <tr>\n",
       "      <th>2</th>\n",
       "      <td>1.0414</td>\n",
       "      <td>25.3</td>\n",
       "      <td>22</td>\n",
       "      <td>154.00</td>\n",
       "      <td>66.25</td>\n",
       "      <td>34.0</td>\n",
       "      <td>95.8</td>\n",
       "      <td>87.9</td>\n",
       "      <td>34.606299</td>\n",
       "      <td>99.2</td>\n",
       "      <td>59.6</td>\n",
       "      <td>38.9</td>\n",
       "      <td>24.0</td>\n",
       "      <td>28.8</td>\n",
       "      <td>25.2</td>\n",
       "      <td>16.6</td>\n",
       "    </tr>\n",
       "    <tr>\n",
       "      <th>3</th>\n",
       "      <td>1.0751</td>\n",
       "      <td>10.4</td>\n",
       "      <td>26</td>\n",
       "      <td>184.75</td>\n",
       "      <td>72.25</td>\n",
       "      <td>37.4</td>\n",
       "      <td>101.8</td>\n",
       "      <td>86.4</td>\n",
       "      <td>34.015748</td>\n",
       "      <td>101.2</td>\n",
       "      <td>60.1</td>\n",
       "      <td>37.3</td>\n",
       "      <td>22.8</td>\n",
       "      <td>32.4</td>\n",
       "      <td>29.4</td>\n",
       "      <td>18.2</td>\n",
       "    </tr>\n",
       "    <tr>\n",
       "      <th>4</th>\n",
       "      <td>1.0340</td>\n",
       "      <td>28.7</td>\n",
       "      <td>24</td>\n",
       "      <td>184.25</td>\n",
       "      <td>71.25</td>\n",
       "      <td>34.4</td>\n",
       "      <td>97.3</td>\n",
       "      <td>100.0</td>\n",
       "      <td>39.370079</td>\n",
       "      <td>101.9</td>\n",
       "      <td>63.2</td>\n",
       "      <td>42.2</td>\n",
       "      <td>24.0</td>\n",
       "      <td>32.2</td>\n",
       "      <td>27.7</td>\n",
       "      <td>17.7</td>\n",
       "    </tr>\n",
       "  </tbody>\n",
       "</table>\n",
       "</div>"
      ],
      "text/plain": [
       "   Density  Pct.BF  Age  Weight  Height  Neck  Chest  Abdomen      Waist  \\\n",
       "0   1.0708    12.3   23  154.25   67.75  36.2   93.1     85.2  33.543307   \n",
       "1   1.0853     6.1   22  173.25   72.25  38.5   93.6     83.0  32.677165   \n",
       "2   1.0414    25.3   22  154.00   66.25  34.0   95.8     87.9  34.606299   \n",
       "3   1.0751    10.4   26  184.75   72.25  37.4  101.8     86.4  34.015748   \n",
       "4   1.0340    28.7   24  184.25   71.25  34.4   97.3    100.0  39.370079   \n",
       "\n",
       "     Hip  Thigh  Knee  Ankle  Bicep  Forearm  Wrist  \n",
       "0   94.5   59.0  37.3   21.9   32.0     27.4   17.1  \n",
       "1   98.7   58.7  37.3   23.4   30.5     28.9   18.2  \n",
       "2   99.2   59.6  38.9   24.0   28.8     25.2   16.6  \n",
       "3  101.2   60.1  37.3   22.8   32.4     29.4   18.2  \n",
       "4  101.9   63.2  42.2   24.0   32.2     27.7   17.7  "
      ]
     },
     "execution_count": 12,
     "metadata": {},
     "output_type": "execute_result"
    }
   ],
   "source": [
    "fat = pd.read_csv(\"datasets/bodyfat.txt\", sep = \"\\t\")\n",
    "fat.head()"
   ]
  },
  {
   "cell_type": "code",
   "execution_count": 13,
   "id": "61e3fe7c",
   "metadata": {},
   "outputs": [
    {
     "data": {
      "image/png": "[encoded data removed]",
      "text/plain": [
       "<Figure size 360x360 with 1 Axes>"
      ]
     },
     "metadata": {
      "needs_background": "light"
     },
     "output_type": "display_data"
    }
   ],
   "source": [
    "#Figure 20.1, page 675\n",
    "sns.lmplot(data = fat, x = \"Waist\", y = \"Pct.BF\", lowess = True, ci = None)\n",
    "plt.show()"
   ]
  },
  {
   "cell_type": "markdown",
   "id": "aae1dd72",
   "metadata": {},
   "source": [
    "#### Section 20.1: The Regression Model"
   ]
  },
  {
   "cell_type": "code",
   "execution_count": 14,
   "id": "1e477b47",
   "metadata": {},
   "outputs": [
    {
     "name": "stdout",
     "output_type": "stream",
     "text": [
      "                            OLS Regression Results                            \n",
      "==============================================================================\n",
      "Dep. Variable:                 Pct.BF   R-squared:                       0.678\n",
      "Model:                            OLS   Adj. R-squared:                  0.677\n",
      "Method:                 Least Squares   F-statistic:                     523.3\n",
      "Date:                Fri, 29 Jul 2022   Prob (F-statistic):           4.85e-63\n",
      "Time:                        10:57:15   Log-Likelihood:                -741.29\n",
      "No. Observations:                 250   AIC:                             1487.\n",
      "Df Residuals:                     248   BIC:                             1494.\n",
      "Df Model:                           1                                         \n",
      "Covariance Type:            nonrobust                                         \n",
      "==============================================================================\n",
      "                 coef    std err          t      P>|t|      [0.025      0.975]\n",
      "------------------------------------------------------------------------------\n",
      "const        -42.7341      2.717    -15.731      0.000     -48.084     -37.384\n",
      "Waist          1.7000      0.074     22.875      0.000       1.554       1.846\n",
      "==============================================================================\n",
      "Omnibus:                        4.921   Durbin-Watson:                   1.747\n",
      "Prob(Omnibus):                  0.085   Jarque-Bera (JB):                3.148\n",
      "Skew:                           0.071   Prob(JB):                        0.207\n",
      "Kurtosis:                       2.469   Cond. No.                         333.\n",
      "==============================================================================\n",
      "\n",
      "Notes:\n",
      "[1] Standard Errors assume that the covariance matrix of the errors is correctly specified.\n"
     ]
    }
   ],
   "source": [
    "# Note: Pct.FB has a special character, so using statsmodels.formula.api smf will not work unless we rename the variable\n",
    "# Hence, we use statsmodels.api here for simplicity\n",
    "#Table 9.1, page 293\n",
    "x = sm.add_constant(fat[\"Waist\"])\n",
    "y = fat[\"Pct.BF\"]\n",
    "model_fat = sm.OLS(y,x).fit()\n",
    "print(model_fat.summary())"
   ]
  },
  {
   "cell_type": "code",
   "execution_count": 15,
   "id": "c49b3211",
   "metadata": {},
   "outputs": [
    {
     "data": {
      "image/png": "[encoded data removed]",
      "text/plain": [
       "<Figure size 432x288 with 1 Axes>"
      ]
     },
     "metadata": {
      "needs_background": "light"
     },
     "output_type": "display_data"
    }
   ],
   "source": [
    "#Figure 20.2, page 676\n",
    "sns.histplot(data = fat, x = \"Pct.BF\", binwidth = 2.5)\n",
    "plt.show()"
   ]
  },
  {
   "cell_type": "code",
   "execution_count": 16,
   "id": "605d0ff9",
   "metadata": {},
   "outputs": [],
   "source": [
    "#Figure 20.3\n",
    "#Unable to replicate this plot"
   ]
  },
  {
   "cell_type": "markdown",
   "id": "c875cc13",
   "metadata": {},
   "source": [
    "#### Section 20.2: Assumptions and Conditions"
   ]
  },
  {
   "cell_type": "code",
   "execution_count": 17,
   "id": "fa795f39",
   "metadata": {},
   "outputs": [
    {
     "data": {
      "image/png": "[encoded data removed]",
      "text/plain": [
       "<Figure size 432x288 with 1 Axes>"
      ]
     },
     "metadata": {
      "needs_background": "light"
     },
     "output_type": "display_data"
    }
   ],
   "source": [
    "#Figure 20.6, page 679\n",
    "sns.scatterplot(x = model_fat.fittedvalues, y = model_fat.resid)\n",
    "plt.xlabel(\"Predicted\")\n",
    "plt.ylabel(\"Residuals\")\n",
    "plt.show()"
   ]
  },
  {
   "cell_type": "code",
   "execution_count": 18,
   "id": "3ccdc7cb",
   "metadata": {},
   "outputs": [
    {
     "data": {
      "text/html": [
       "<div>\n",
       "<style scoped>\n",
       "    .dataframe tbody tr th:only-of-type {\n",
       "        vertical-align: middle;\n",
       "    }\n",
       "\n",
       "    .dataframe tbody tr th {\n",
       "        vertical-align: top;\n",
       "    }\n",
       "\n",
       "    .dataframe thead th {\n",
       "        text-align: right;\n",
       "    }\n",
       "</style>\n",
       "<table border=\"1\" class=\"dataframe\">\n",
       "  <thead>\n",
       "    <tr style=\"text-align: right;\">\n",
       "      <th></th>\n",
       "      <th>Price</th>\n",
       "      <th>Carat Size</th>\n",
       "      <th>Color</th>\n",
       "      <th>Clarity</th>\n",
       "      <th>Cut</th>\n",
       "    </tr>\n",
       "  </thead>\n",
       "  <tbody>\n",
       "    <tr>\n",
       "      <th>0</th>\n",
       "      <td>1000</td>\n",
       "      <td>0.30</td>\n",
       "      <td>E</td>\n",
       "      <td>VVS1</td>\n",
       "      <td>Excellent</td>\n",
       "    </tr>\n",
       "    <tr>\n",
       "      <th>1</th>\n",
       "      <td>1000</td>\n",
       "      <td>0.44</td>\n",
       "      <td>E</td>\n",
       "      <td>VS2</td>\n",
       "      <td>Excellent</td>\n",
       "    </tr>\n",
       "    <tr>\n",
       "      <th>2</th>\n",
       "      <td>1000</td>\n",
       "      <td>0.31</td>\n",
       "      <td>E</td>\n",
       "      <td>VVS1</td>\n",
       "      <td>Excellent</td>\n",
       "    </tr>\n",
       "    <tr>\n",
       "      <th>12</th>\n",
       "      <td>1001</td>\n",
       "      <td>0.30</td>\n",
       "      <td>E</td>\n",
       "      <td>VVS1</td>\n",
       "      <td>Good</td>\n",
       "    </tr>\n",
       "    <tr>\n",
       "      <th>14</th>\n",
       "      <td>1001</td>\n",
       "      <td>0.41</td>\n",
       "      <td>E</td>\n",
       "      <td>VS2</td>\n",
       "      <td>Excellent</td>\n",
       "    </tr>\n",
       "  </tbody>\n",
       "</table>\n",
       "</div>"
      ],
      "text/plain": [
       "    Price  Carat Size Color Clarity        Cut\n",
       "0    1000        0.30     E    VVS1  Excellent\n",
       "1    1000        0.44     E     VS2  Excellent\n",
       "2    1000        0.31     E    VVS1  Excellent\n",
       "12   1001        0.30     E    VVS1       Good\n",
       "14   1001        0.41     E     VS2  Excellent"
      ]
     },
     "execution_count": 18,
     "metadata": {},
     "output_type": "execute_result"
    }
   ],
   "source": [
    "diamond = pd.read_csv(\"datasets/diamonds.txt\", sep = \"\\t\")\n",
    "diamond = diamond[diamond[\"Color\"] == \"E\"]\n",
    "diamond.head()"
   ]
  },
  {
   "cell_type": "code",
   "execution_count": 19,
   "id": "db41a54b",
   "metadata": {},
   "outputs": [
    {
     "data": {
      "image/png": "[encoded data removed]",
      "text/plain": [
       "<Figure size 432x288 with 1 Axes>"
      ]
     },
     "metadata": {
      "needs_background": "light"
     },
     "output_type": "display_data"
    }
   ],
   "source": [
    "#Fit\n",
    "x = sm.add_constant(diamond[\"Carat Size\"])\n",
    "y = diamond[\"Price\"]\n",
    "model_diamond = sm.OLS(y,x).fit()\n",
    "\n",
    "#Figure 20.7, page 679\n",
    "sns.scatterplot(x = model_diamond.fittedvalues, y = model_diamond.resid)\n",
    "plt.xlabel(\"Predicted\")\n",
    "plt.ylabel(\"Residuals\")\n",
    "plt.show()"
   ]
  },
  {
   "cell_type": "code",
   "execution_count": 20,
   "id": "8a9f3c20",
   "metadata": {},
   "outputs": [
    {
     "data": {
      "image/png": "[encoded data removed]",
      "text/plain": [
       "<Figure size 432x288 with 1 Axes>"
      ]
     },
     "metadata": {
      "needs_background": "light"
     },
     "output_type": "display_data"
    }
   ],
   "source": [
    "#Figure 20.9, page 680\n",
    "sns.histplot(x = model_fat.resid, binwidth = 2)\n",
    "plt.xlabel(\"Residuals\")\n",
    "plt.ylabel(\"Count\")\n",
    "plt.show()"
   ]
  },
  {
   "cell_type": "markdown",
   "id": "e4321ffa",
   "metadata": {},
   "source": [
    "#### Example 20.1: Checking Assumptions and Conditions"
   ]
  },
  {
   "cell_type": "code",
   "execution_count": 22,
   "id": "5768278d",
   "metadata": {},
   "outputs": [
    {
     "data": {
      "text/html": [
       "<div>\n",
       "<style scoped>\n",
       "    .dataframe tbody tr th:only-of-type {\n",
       "        vertical-align: middle;\n",
       "    }\n",
       "\n",
       "    .dataframe tbody tr th {\n",
       "        vertical-align: top;\n",
       "    }\n",
       "\n",
       "    .dataframe thead th {\n",
       "        text-align: right;\n",
       "    }\n",
       "</style>\n",
       "<table border=\"1\" class=\"dataframe\">\n",
       "  <thead>\n",
       "    <tr style=\"text-align: right;\">\n",
       "      <th></th>\n",
       "      <th>Name</th>\n",
       "      <th>Location</th>\n",
       "      <th>Diam(km)</th>\n",
       "      <th>age(Ma)</th>\n",
       "      <th>N/S</th>\n",
       "      <th>Lat</th>\n",
       "      <th>Long</th>\n",
       "      <th>LogDiam()</th>\n",
       "      <th>LogAge()</th>\n",
       "      <th>Buried</th>\n",
       "      <th>Drilled</th>\n",
       "    </tr>\n",
       "  </thead>\n",
       "  <tbody>\n",
       "    <tr>\n",
       "      <th>0</th>\n",
       "      <td>Haviland</td>\n",
       "      <td>Kansas, U.S.A.</td>\n",
       "      <td>0.015</td>\n",
       "      <td>0.001000</td>\n",
       "      <td>N</td>\n",
       "      <td>37.583333</td>\n",
       "      <td>-99.166667</td>\n",
       "      <td>-1.823909</td>\n",
       "      <td>-3.000000</td>\n",
       "      <td>N</td>\n",
       "      <td>N</td>\n",
       "    </tr>\n",
       "    <tr>\n",
       "      <th>1</th>\n",
       "      <td>Dalgaranga</td>\n",
       "      <td>Western Australia, Australia</td>\n",
       "      <td>0.024</td>\n",
       "      <td>0.270000</td>\n",
       "      <td>S</td>\n",
       "      <td>-27.633333</td>\n",
       "      <td>117.283330</td>\n",
       "      <td>-1.619789</td>\n",
       "      <td>-0.568636</td>\n",
       "      <td>N</td>\n",
       "      <td>N</td>\n",
       "    </tr>\n",
       "    <tr>\n",
       "      <th>2</th>\n",
       "      <td>Sikhote Alin</td>\n",
       "      <td>Russia</td>\n",
       "      <td>0.027</td>\n",
       "      <td>0.000055</td>\n",
       "      <td>N</td>\n",
       "      <td>46.116667</td>\n",
       "      <td>134.666670</td>\n",
       "      <td>-1.568636</td>\n",
       "      <td>-4.259637</td>\n",
       "      <td>N</td>\n",
       "      <td>N</td>\n",
       "    </tr>\n",
       "    <tr>\n",
       "      <th>3</th>\n",
       "      <td>Campo Del Cielo</td>\n",
       "      <td>Argentina</td>\n",
       "      <td>0.050</td>\n",
       "      <td>0.004000</td>\n",
       "      <td>S</td>\n",
       "      <td>-27.633333</td>\n",
       "      <td>-61.700000</td>\n",
       "      <td>-1.301030</td>\n",
       "      <td>-2.397940</td>\n",
       "      <td>N</td>\n",
       "      <td>Y</td>\n",
       "    </tr>\n",
       "    <tr>\n",
       "      <th>4</th>\n",
       "      <td>Sobolev</td>\n",
       "      <td>Russia</td>\n",
       "      <td>0.053</td>\n",
       "      <td>0.001000</td>\n",
       "      <td>N</td>\n",
       "      <td>46.300000</td>\n",
       "      <td>137.866670</td>\n",
       "      <td>-1.275724</td>\n",
       "      <td>-3.000000</td>\n",
       "      <td>N</td>\n",
       "      <td>Y</td>\n",
       "    </tr>\n",
       "  </tbody>\n",
       "</table>\n",
       "</div>"
      ],
      "text/plain": [
       "              Name                      Location  Diam(km)   age(Ma) N/S  \\\n",
       "0         Haviland                Kansas, U.S.A.     0.015  0.001000   N   \n",
       "1       Dalgaranga  Western Australia, Australia     0.024  0.270000   S   \n",
       "2     Sikhote Alin                        Russia     0.027  0.000055   N   \n",
       "3  Campo Del Cielo                     Argentina     0.050  0.004000   S   \n",
       "4          Sobolev                        Russia     0.053  0.001000   N   \n",
       "\n",
       "         Lat        Long  LogDiam()  LogAge() Buried Drilled  \n",
       "0  37.583333  -99.166667  -1.823909 -3.000000      N       N  \n",
       "1 -27.633333  117.283330  -1.619789 -0.568636      N       N  \n",
       "2  46.116667  134.666670  -1.568636 -4.259637      N       N  \n",
       "3 -27.633333  -61.700000  -1.301030 -2.397940      N       Y  \n",
       "4  46.300000  137.866670  -1.275724 -3.000000      N       Y  "
      ]
     },
     "execution_count": 22,
     "metadata": {},
     "output_type": "execute_result"
    }
   ],
   "source": [
    "crater = pd.read_csv(\"datasets/craters.txt\", sep = \"\\t\")\n",
    "crater = crater[crater[\"LogAge()\"] <= 1.5]\n",
    "crater.head()"
   ]
  },
  {
   "cell_type": "code",
   "execution_count": 24,
   "id": "a09f3629",
   "metadata": {},
   "outputs": [
    {
     "data": {
      "image/png": "[encoded data removed]",
      "text/plain": [
       "<Figure size 360x360 with 1 Axes>"
      ]
     },
     "metadata": {
      "needs_background": "light"
     },
     "output_type": "display_data"
    }
   ],
   "source": [
    "sns.lmplot(data = crater, x = \"LogAge()\", y = \"LogDiam()\", ci = None)\n",
    "plt.show()"
   ]
  },
  {
   "cell_type": "code",
   "execution_count": 31,
   "id": "a879b13a",
   "metadata": {},
   "outputs": [
    {
     "data": {
      "image/png": "[encoded data removed]",
      "text/plain": [
       "<Figure size 432x288 with 1 Axes>"
      ]
     },
     "metadata": {
      "needs_background": "light"
     },
     "output_type": "display_data"
    }
   ],
   "source": [
    "x = sm.add_constant(crater[\"LogAge()\"])\n",
    "y = crater[\"LogDiam()\"]\n",
    "model_crater = sm.OLS(y,x).fit()\n",
    "\n",
    "sns.scatterplot(x = model_crater.fittedvalues, y = model_crater.resid)\n",
    "plt.hlines(y = 0, xmin = -2, xmax = 1.1)\n",
    "plt.xlabel(\"Predicted\")\n",
    "plt.ylabel(\"Residuals\")\n",
    "plt.show()"
   ]
  },
  {
   "cell_type": "code",
   "execution_count": 34,
   "id": "dc90005e",
   "metadata": {},
   "outputs": [
    {
     "data": {
      "image/png": "[encoded data removed]",
      "text/plain": [
       "<Figure size 432x288 with 1 Axes>"
      ]
     },
     "metadata": {
      "needs_background": "light"
     },
     "output_type": "display_data"
    }
   ],
   "source": [
    "# Plot the qqplot\n",
    "qqplot(data = model_crater.resid, line = \"s\")\n",
    "plt.xlabel(\"Nscores\")\n",
    "plt.ylabel(\"Residuals\")\n",
    "\n",
    "# Show plot\n",
    "plt.show()"
   ]
  },
  {
   "cell_type": "code",
   "execution_count": 35,
   "id": "6de7e08d",
   "metadata": {},
   "outputs": [
    {
     "data": {
      "image/png": "[encoded data removed]",
      "text/plain": [
       "<Figure size 432x288 with 1 Axes>"
      ]
     },
     "metadata": {
      "needs_background": "light"
     },
     "output_type": "display_data"
    }
   ],
   "source": [
    "sns.histplot(x = model_crater.resid, binwidth = 0.5)\n",
    "plt.xlabel(\"Residuals\")\n",
    "plt.ylabel(\"# of Years\")\n",
    "plt.show()"
   ]
  },
  {
   "cell_type": "markdown",
   "id": "72d5a029",
   "metadata": {},
   "source": [
    "#### Step-By-Step Example: Regression Inference"
   ]
  },
  {
   "cell_type": "code",
   "execution_count": 36,
   "id": "4804ab65",
   "metadata": {},
   "outputs": [
    {
     "data": {
      "image/png": "[encoded data removed]",
      "text/plain": [
       "<Figure size 432x288 with 1 Axes>"
      ]
     },
     "metadata": {
      "needs_background": "light"
     },
     "output_type": "display_data"
    }
   ],
   "source": [
    "# Plot the qqplot\n",
    "qqplot(data = model_fat.resid, line = \"s\")\n",
    "plt.xlabel(\"Normal Scores\")\n",
    "plt.ylabel(\"Residuals (% body fat)\")\n",
    "\n",
    "# Show plot\n",
    "plt.show()"
   ]
  },
  {
   "cell_type": "code",
   "execution_count": 37,
   "id": "ebb7fa4e",
   "metadata": {},
   "outputs": [
    {
     "name": "stdout",
     "output_type": "stream",
     "text": [
      "                            OLS Regression Results                            \n",
      "==============================================================================\n",
      "Dep. Variable:                 Pct.BF   R-squared:                       0.678\n",
      "Model:                            OLS   Adj. R-squared:                  0.677\n",
      "Method:                 Least Squares   F-statistic:                     523.3\n",
      "Date:                Fri, 29 Jul 2022   Prob (F-statistic):           4.85e-63\n",
      "Time:                        11:12:18   Log-Likelihood:                -741.29\n",
      "No. Observations:                 250   AIC:                             1487.\n",
      "Df Residuals:                     248   BIC:                             1494.\n",
      "Df Model:                           1                                         \n",
      "Covariance Type:            nonrobust                                         \n",
      "==============================================================================\n",
      "                 coef    std err          t      P>|t|      [0.025      0.975]\n",
      "------------------------------------------------------------------------------\n",
      "const        -42.7341      2.717    -15.731      0.000     -48.084     -37.384\n",
      "Waist          1.7000      0.074     22.875      0.000       1.554       1.846\n",
      "==============================================================================\n",
      "Omnibus:                        4.921   Durbin-Watson:                   1.747\n",
      "Prob(Omnibus):                  0.085   Jarque-Bera (JB):                3.148\n",
      "Skew:                           0.071   Prob(JB):                        0.207\n",
      "Kurtosis:                       2.469   Cond. No.                         333.\n",
      "==============================================================================\n",
      "\n",
      "Notes:\n",
      "[1] Standard Errors assume that the covariance matrix of the errors is correctly specified.\n"
     ]
    }
   ],
   "source": [
    "print(model_fat.summary())"
   ]
  },
  {
   "cell_type": "markdown",
   "id": "a3904585",
   "metadata": {},
   "source": [
    "#### Section 20.3: Regression Inference and Intuition\n",
    "See the displays on page 684 and 685\n",
    "#### Example 20.2: Confidence Interval and Hypothesis Test for a Slope"
   ]
  },
  {
   "cell_type": "code",
   "execution_count": 42,
   "id": "2d50632f",
   "metadata": {},
   "outputs": [
    {
     "data": {
      "text/plain": [
       "(1.554251401631727, 1.8457485983682729)"
      ]
     },
     "execution_count": 42,
     "metadata": {},
     "output_type": "execute_result"
    }
   ],
   "source": [
    "#Number inputs from book\n",
    "t.interval(alpha = 0.95, df = 248, loc = 1.7, scale = 0.074)"
   ]
  },
  {
   "cell_type": "markdown",
   "id": "05551fe8",
   "metadata": {},
   "source": [
    "#### Section 20.4: The Regression Table"
   ]
  },
  {
   "cell_type": "code",
   "execution_count": 43,
   "id": "0ee7f518",
   "metadata": {},
   "outputs": [
    {
     "name": "stdout",
     "output_type": "stream",
     "text": [
      "                            OLS Regression Results                            \n",
      "==============================================================================\n",
      "Dep. Variable:                 Pct.BF   R-squared:                       0.678\n",
      "Model:                            OLS   Adj. R-squared:                  0.677\n",
      "Method:                 Least Squares   F-statistic:                     523.3\n",
      "Date:                Fri, 29 Jul 2022   Prob (F-statistic):           4.85e-63\n",
      "Time:                        11:27:02   Log-Likelihood:                -741.29\n",
      "No. Observations:                 250   AIC:                             1487.\n",
      "Df Residuals:                     248   BIC:                             1494.\n",
      "Df Model:                           1                                         \n",
      "Covariance Type:            nonrobust                                         \n",
      "==============================================================================\n",
      "                 coef    std err          t      P>|t|      [0.025      0.975]\n",
      "------------------------------------------------------------------------------\n",
      "const        -42.7341      2.717    -15.731      0.000     -48.084     -37.384\n",
      "Waist          1.7000      0.074     22.875      0.000       1.554       1.846\n",
      "==============================================================================\n",
      "Omnibus:                        4.921   Durbin-Watson:                   1.747\n",
      "Prob(Omnibus):                  0.085   Jarque-Bera (JB):                3.148\n",
      "Skew:                           0.071   Prob(JB):                        0.207\n",
      "Kurtosis:                       2.469   Cond. No.                         333.\n",
      "==============================================================================\n",
      "\n",
      "Notes:\n",
      "[1] Standard Errors assume that the covariance matrix of the errors is correctly specified.\n"
     ]
    }
   ],
   "source": [
    "print(model_fat.summary())"
   ]
  },
  {
   "cell_type": "markdown",
   "id": "6d7716bd",
   "metadata": {},
   "source": [
    "#### Section 20.5: Multiple Regression Inference"
   ]
  },
  {
   "cell_type": "code",
   "execution_count": 45,
   "id": "939bf977",
   "metadata": {},
   "outputs": [
    {
     "name": "stdout",
     "output_type": "stream",
     "text": [
      "                            OLS Regression Results                            \n",
      "==============================================================================\n",
      "Dep. Variable:                 Pct.BF   R-squared:                       0.713\n",
      "Model:                            OLS   Adj. R-squared:                  0.711\n",
      "Method:                 Least Squares   F-statistic:                     307.1\n",
      "Date:                Fri, 29 Jul 2022   Prob (F-statistic):           1.02e-67\n",
      "Time:                        11:30:25   Log-Likelihood:                -726.99\n",
      "No. Observations:                 250   AIC:                             1460.\n",
      "Df Residuals:                     247   BIC:                             1471.\n",
      "Df Model:                           2                                         \n",
      "Covariance Type:            nonrobust                                         \n",
      "==============================================================================\n",
      "                 coef    std err          t      P>|t|      [0.025      0.975]\n",
      "------------------------------------------------------------------------------\n",
      "const         -3.1009      7.686     -0.403      0.687     -18.240      12.038\n",
      "Waist          1.7731      0.072     24.770      0.000       1.632       1.914\n",
      "Height        -0.6015      0.110     -5.472      0.000      -0.818      -0.385\n",
      "==============================================================================\n",
      "Omnibus:                        6.766   Durbin-Watson:                   1.742\n",
      "Prob(Omnibus):                  0.034   Jarque-Bera (JB):                3.839\n",
      "Skew:                           0.065   Prob(JB):                        0.147\n",
      "Kurtosis:                       2.407   Cond. No.                     2.16e+03\n",
      "==============================================================================\n",
      "\n",
      "Notes:\n",
      "[1] Standard Errors assume that the covariance matrix of the errors is correctly specified.\n",
      "[2] The condition number is large, 2.16e+03. This might indicate that there are\n",
      "strong multicollinearity or other numerical problems.\n"
     ]
    }
   ],
   "source": [
    "x = sm.add_constant(fat[[\"Waist\", \"Height\"]])\n",
    "y = fat[\"Pct.BF\"]\n",
    "model_fat_multiple = sm.OLS(y,x).fit()\n",
    "print(model_fat_multiple.summary())"
   ]
  },
  {
   "cell_type": "markdown",
   "id": "9058ae2d",
   "metadata": {},
   "source": [
    "#### Just Checking"
   ]
  },
  {
   "cell_type": "code",
   "execution_count": 46,
   "id": "efb91759",
   "metadata": {},
   "outputs": [
    {
     "data": {
      "text/html": [
       "<div>\n",
       "<style scoped>\n",
       "    .dataframe tbody tr th:only-of-type {\n",
       "        vertical-align: middle;\n",
       "    }\n",
       "\n",
       "    .dataframe tbody tr th {\n",
       "        vertical-align: top;\n",
       "    }\n",
       "\n",
       "    .dataframe thead th {\n",
       "        text-align: right;\n",
       "    }\n",
       "</style>\n",
       "<table border=\"1\" class=\"dataframe\">\n",
       "  <thead>\n",
       "    <tr style=\"text-align: right;\">\n",
       "      <th></th>\n",
       "      <th>Mouth_Volume</th>\n",
       "      <th>Age</th>\n",
       "      <th>Sex</th>\n",
       "      <th>Height</th>\n",
       "      <th>Weight</th>\n",
       "    </tr>\n",
       "  </thead>\n",
       "  <tbody>\n",
       "    <tr>\n",
       "      <th>0</th>\n",
       "      <td>56.659</td>\n",
       "      <td>29</td>\n",
       "      <td>1</td>\n",
       "      <td>1.730</td>\n",
       "      <td>70.455</td>\n",
       "    </tr>\n",
       "    <tr>\n",
       "      <th>1</th>\n",
       "      <td>47.938</td>\n",
       "      <td>24</td>\n",
       "      <td>0</td>\n",
       "      <td>1.632</td>\n",
       "      <td>60.000</td>\n",
       "    </tr>\n",
       "    <tr>\n",
       "      <th>2</th>\n",
       "      <td>60.995</td>\n",
       "      <td>45</td>\n",
       "      <td>0</td>\n",
       "      <td>1.727</td>\n",
       "      <td>102.273</td>\n",
       "    </tr>\n",
       "    <tr>\n",
       "      <th>3</th>\n",
       "      <td>68.917</td>\n",
       "      <td>23</td>\n",
       "      <td>0</td>\n",
       "      <td>1.641</td>\n",
       "      <td>78.636</td>\n",
       "    </tr>\n",
       "    <tr>\n",
       "      <th>4</th>\n",
       "      <td>60.956</td>\n",
       "      <td>27</td>\n",
       "      <td>0</td>\n",
       "      <td>1.600</td>\n",
       "      <td>57.273</td>\n",
       "    </tr>\n",
       "  </tbody>\n",
       "</table>\n",
       "</div>"
      ],
      "text/plain": [
       "   Mouth_Volume  Age  Sex  Height   Weight\n",
       "0        56.659   29    1   1.730   70.455\n",
       "1        47.938   24    0   1.632   60.000\n",
       "2        60.995   45    0   1.727  102.273\n",
       "3        68.917   23    0   1.641   78.636\n",
       "4        60.956   27    0   1.600   57.273"
      ]
     },
     "execution_count": 46,
     "metadata": {},
     "output_type": "execute_result"
    }
   ],
   "source": [
    "mouth = pd.read_csv(\"datasets/mouth-volume.txt\", sep = \"\\t\")\n",
    "mouth.head()"
   ]
  },
  {
   "cell_type": "code",
   "execution_count": 50,
   "id": "0c663bca",
   "metadata": {},
   "outputs": [],
   "source": [
    "#Simple linear model\n",
    "x = sm.add_constant(mouth[\"Height\"])\n",
    "y = mouth[\"Mouth_Volume\"]\n",
    "model_mouth = sm.OLS(y,x).fit()"
   ]
  },
  {
   "cell_type": "code",
   "execution_count": 48,
   "id": "9f7088f6",
   "metadata": {},
   "outputs": [
    {
     "name": "stdout",
     "output_type": "stream",
     "text": [
      "count     61.000000\n",
      "mean      60.270377\n",
      "std       16.877700\n",
      "min       35.839000\n",
      "25%       47.647000\n",
      "50%       57.310000\n",
      "75%       69.665000\n",
      "max      111.181000\n",
      "Name: Mouth_Volume, dtype: float64\n"
     ]
    }
   ],
   "source": [
    "print(mouth[\"Mouth_Volume\"].describe())"
   ]
  },
  {
   "cell_type": "code",
   "execution_count": 49,
   "id": "deafb39c",
   "metadata": {},
   "outputs": [
    {
     "name": "stdout",
     "output_type": "stream",
     "text": [
      "                            OLS Regression Results                            \n",
      "==============================================================================\n",
      "Dep. Variable:           Mouth_Volume   R-squared:                       0.153\n",
      "Model:                            OLS   Adj. R-squared:                  0.139\n",
      "Method:                 Least Squares   F-statistic:                     10.70\n",
      "Date:                Fri, 29 Jul 2022   Prob (F-statistic):            0.00179\n",
      "Time:                        11:37:00   Log-Likelihood:                -253.35\n",
      "No. Observations:                  61   AIC:                             510.7\n",
      "Df Residuals:                      59   BIC:                             514.9\n",
      "Df Model:                           1                                         \n",
      "Covariance Type:            nonrobust                                         \n",
      "==============================================================================\n",
      "                 coef    std err          t      P>|t|      [0.025      0.975]\n",
      "------------------------------------------------------------------------------\n",
      "const        -44.7113     32.159     -1.390      0.170    -109.062      19.640\n",
      "Height        61.3787     18.766      3.271      0.002      23.828      98.929\n",
      "==============================================================================\n",
      "Omnibus:                        8.842   Durbin-Watson:                   1.948\n",
      "Prob(Omnibus):                  0.012   Jarque-Bera (JB):                8.237\n",
      "Skew:                           0.823   Prob(JB):                       0.0163\n",
      "Kurtosis:                       3.728   Cond. No.                         36.8\n",
      "==============================================================================\n",
      "\n",
      "Notes:\n",
      "[1] Standard Errors assume that the covariance matrix of the errors is correctly specified.\n"
     ]
    }
   ],
   "source": [
    "print(model_mouth.summary())"
   ]
  },
  {
   "cell_type": "code",
   "execution_count": 54,
   "id": "5f4a73b9",
   "metadata": {},
   "outputs": [
    {
     "name": "stdout",
     "output_type": "stream",
     "text": [
      "                            OLS Regression Results                            \n",
      "==============================================================================\n",
      "Dep. Variable:           Mouth_Volume   R-squared:                       0.193\n",
      "Model:                            OLS   Adj. R-squared:                  0.165\n",
      "Method:                 Least Squares   F-statistic:                     6.945\n",
      "Date:                Fri, 29 Jul 2022   Prob (F-statistic):            0.00198\n",
      "Time:                        11:39:58   Log-Likelihood:                -251.89\n",
      "No. Observations:                  61   AIC:                             509.8\n",
      "Df Residuals:                      58   BIC:                             516.1\n",
      "Df Model:                           2                                         \n",
      "Covariance Type:            nonrobust                                         \n",
      "==============================================================================\n",
      "                 coef    std err          t      P>|t|      [0.025      0.975]\n",
      "------------------------------------------------------------------------------\n",
      "const        -51.0122     31.884     -1.600      0.115    -114.836      12.811\n",
      "Height        58.1009     18.579      3.127      0.003      20.911      95.291\n",
      "Age            0.4373      0.259      1.690      0.096      -0.081       0.955\n",
      "==============================================================================\n",
      "Omnibus:                       10.443   Durbin-Watson:                   2.090\n",
      "Prob(Omnibus):                  0.005   Jarque-Bera (JB):               10.233\n",
      "Skew:                           0.930   Prob(JB):                      0.00600\n",
      "Kurtosis:                       3.754   Cond. No.                         527.\n",
      "==============================================================================\n",
      "\n",
      "Notes:\n",
      "[1] Standard Errors assume that the covariance matrix of the errors is correctly specified.\n"
     ]
    }
   ],
   "source": [
    "#Multiple linear model\n",
    "x = sm.add_constant(mouth[[\"Height\", \"Age\"]])\n",
    "y = mouth[\"Mouth_Volume\"]\n",
    "model_mouth_multiple = sm.OLS(y,x).fit()\n",
    "\n",
    "print(model_mouth_multiple.summary())"
   ]
  },
  {
   "cell_type": "markdown",
   "id": "a95b5e0d",
   "metadata": {},
   "source": [
    "#### Collinearity"
   ]
  },
  {
   "cell_type": "code",
   "execution_count": 86,
   "id": "9d1fb493",
   "metadata": {},
   "outputs": [
    {
     "data": {
      "text/html": [
       "<div>\n",
       "<style scoped>\n",
       "    .dataframe tbody tr th:only-of-type {\n",
       "        vertical-align: middle;\n",
       "    }\n",
       "\n",
       "    .dataframe tbody tr th {\n",
       "        vertical-align: top;\n",
       "    }\n",
       "\n",
       "    .dataframe thead th {\n",
       "        text-align: right;\n",
       "    }\n",
       "</style>\n",
       "<table border=\"1\" class=\"dataframe\">\n",
       "  <thead>\n",
       "    <tr style=\"text-align: right;\">\n",
       "      <th></th>\n",
       "      <th>Name</th>\n",
       "      <th>Park</th>\n",
       "      <th>Track</th>\n",
       "      <th>Speed</th>\n",
       "      <th>Height</th>\n",
       "      <th>Drop</th>\n",
       "      <th>Length</th>\n",
       "      <th>Duration</th>\n",
       "      <th>Inversions</th>\n",
       "    </tr>\n",
       "  </thead>\n",
       "  <tbody>\n",
       "    <tr>\n",
       "      <th>2</th>\n",
       "      <td>Millennium Force</td>\n",
       "      <td>Cedar Point</td>\n",
       "      <td>Steel</td>\n",
       "      <td>93.0</td>\n",
       "      <td>310.0</td>\n",
       "      <td>300.0</td>\n",
       "      <td>6595.0</td>\n",
       "      <td>165.0</td>\n",
       "      <td>0</td>\n",
       "    </tr>\n",
       "    <tr>\n",
       "      <th>3</th>\n",
       "      <td>Goliath</td>\n",
       "      <td>Six Flags Magic Mountain</td>\n",
       "      <td>Steel</td>\n",
       "      <td>85.0</td>\n",
       "      <td>235.0</td>\n",
       "      <td>255.0</td>\n",
       "      <td>4500.0</td>\n",
       "      <td>180.0</td>\n",
       "      <td>0</td>\n",
       "    </tr>\n",
       "    <tr>\n",
       "      <th>4</th>\n",
       "      <td>Titan</td>\n",
       "      <td>Six Flags Over Texas</td>\n",
       "      <td>Steel</td>\n",
       "      <td>85.0</td>\n",
       "      <td>245.0</td>\n",
       "      <td>255.0</td>\n",
       "      <td>5312.0</td>\n",
       "      <td>210.0</td>\n",
       "      <td>0</td>\n",
       "    </tr>\n",
       "    <tr>\n",
       "      <th>7</th>\n",
       "      <td>Desperado</td>\n",
       "      <td>Buffalo Bill's Resort &amp; Casino</td>\n",
       "      <td>Steel</td>\n",
       "      <td>80.0</td>\n",
       "      <td>209.0</td>\n",
       "      <td>225.0</td>\n",
       "      <td>5843.0</td>\n",
       "      <td>163.0</td>\n",
       "      <td>0</td>\n",
       "    </tr>\n",
       "    <tr>\n",
       "      <th>9</th>\n",
       "      <td>Nitro</td>\n",
       "      <td>Six Flags Great Adventure</td>\n",
       "      <td>Steel</td>\n",
       "      <td>80.0</td>\n",
       "      <td>230.0</td>\n",
       "      <td>215.0</td>\n",
       "      <td>5394.0</td>\n",
       "      <td>240.0</td>\n",
       "      <td>0</td>\n",
       "    </tr>\n",
       "    <tr>\n",
       "      <th>...</th>\n",
       "      <td>...</td>\n",
       "      <td>...</td>\n",
       "      <td>...</td>\n",
       "      <td>...</td>\n",
       "      <td>...</td>\n",
       "      <td>...</td>\n",
       "      <td>...</td>\n",
       "      <td>...</td>\n",
       "      <td>...</td>\n",
       "    </tr>\n",
       "    <tr>\n",
       "      <th>189</th>\n",
       "      <td>Banshee</td>\n",
       "      <td>Kings Island</td>\n",
       "      <td>Steel</td>\n",
       "      <td>68.0</td>\n",
       "      <td>167.0</td>\n",
       "      <td>150.0</td>\n",
       "      <td>4124.0</td>\n",
       "      <td>160.0</td>\n",
       "      <td>1</td>\n",
       "    </tr>\n",
       "    <tr>\n",
       "      <th>206</th>\n",
       "      <td>C Chulainn</td>\n",
       "      <td>Tayto Park</td>\n",
       "      <td>Wood</td>\n",
       "      <td>55.9</td>\n",
       "      <td>105.0</td>\n",
       "      <td>105.7</td>\n",
       "      <td>3582.7</td>\n",
       "      <td>165.0</td>\n",
       "      <td>0</td>\n",
       "    </tr>\n",
       "    <tr>\n",
       "      <th>212</th>\n",
       "      <td>Flash</td>\n",
       "      <td>Lewa Adventure</td>\n",
       "      <td>Steel</td>\n",
       "      <td>71.5</td>\n",
       "      <td>200.2</td>\n",
       "      <td>190.3</td>\n",
       "      <td>4176.5</td>\n",
       "      <td>128.0</td>\n",
       "      <td>1</td>\n",
       "    </tr>\n",
       "    <tr>\n",
       "      <th>213</th>\n",
       "      <td>Freestyle</td>\n",
       "      <td>Cavallino Matto</td>\n",
       "      <td>Steel</td>\n",
       "      <td>51.0</td>\n",
       "      <td>88.0</td>\n",
       "      <td>84.0</td>\n",
       "      <td>2210.0</td>\n",
       "      <td>92.0</td>\n",
       "      <td>1</td>\n",
       "    </tr>\n",
       "    <tr>\n",
       "      <th>237</th>\n",
       "      <td>Twisted Colossus</td>\n",
       "      <td>Six Flags Magic Mountain</td>\n",
       "      <td>Steel</td>\n",
       "      <td>57.0</td>\n",
       "      <td>121.0</td>\n",
       "      <td>128.0</td>\n",
       "      <td>4990.0</td>\n",
       "      <td>220.0</td>\n",
       "      <td>1</td>\n",
       "    </tr>\n",
       "  </tbody>\n",
       "</table>\n",
       "<p>89 rows × 9 columns</p>\n",
       "</div>"
      ],
      "text/plain": [
       "                 Name                            Park  Track  Speed  Height  \\\n",
       "2    Millennium Force                     Cedar Point  Steel   93.0   310.0   \n",
       "3             Goliath        Six Flags Magic Mountain  Steel   85.0   235.0   \n",
       "4               Titan            Six Flags Over Texas  Steel   85.0   245.0   \n",
       "7           Desperado  Buffalo Bill's Resort & Casino  Steel   80.0   209.0   \n",
       "9               Nitro       Six Flags Great Adventure  Steel   80.0   230.0   \n",
       "..                ...                             ...    ...    ...     ...   \n",
       "189           Banshee                    Kings Island  Steel   68.0   167.0   \n",
       "206       C Chulainn                      Tayto Park   Wood   55.9   105.0   \n",
       "212             Flash                  Lewa Adventure  Steel   71.5   200.2   \n",
       "213         Freestyle                 Cavallino Matto  Steel   51.0    88.0   \n",
       "237  Twisted Colossus        Six Flags Magic Mountain  Steel   57.0   121.0   \n",
       "\n",
       "      Drop  Length  Duration  Inversions  \n",
       "2    300.0  6595.0     165.0           0  \n",
       "3    255.0  4500.0     180.0           0  \n",
       "4    255.0  5312.0     210.0           0  \n",
       "7    225.0  5843.0     163.0           0  \n",
       "9    215.0  5394.0     240.0           0  \n",
       "..     ...     ...       ...         ...  \n",
       "189  150.0  4124.0     160.0           1  \n",
       "206  105.7  3582.7     165.0           0  \n",
       "212  190.3  4176.5     128.0           1  \n",
       "213   84.0  2210.0      92.0           1  \n",
       "237  128.0  4990.0     220.0           1  \n",
       "\n",
       "[89 rows x 9 columns]"
      ]
     },
     "execution_count": 86,
     "metadata": {},
     "output_type": "execute_result"
    }
   ],
   "source": [
    "#Data wrangling\n",
    "coaster = pd.read_csv(\"datasets/coasters-2015.txt\", sep = \"\\t\")\n",
    "coaster = coaster.dropna()\n",
    "coaster = coaster[(coaster[\"Name\"] != \"Tower of Terror\") & (coaster[\"Name\"] != \"Xcelerator\")]\n",
    "coaster"
   ]
  },
  {
   "cell_type": "code",
   "execution_count": 88,
   "id": "9f69a091",
   "metadata": {},
   "outputs": [
    {
     "name": "stdout",
     "output_type": "stream",
     "text": [
      "                            OLS Regression Results                            \n",
      "==============================================================================\n",
      "Dep. Variable:               Duration   R-squared:                       0.303\n",
      "Model:                            OLS   Adj. R-squared:                  0.295\n",
      "Method:                 Least Squares   F-statistic:                     37.86\n",
      "Date:                Fri, 29 Jul 2022   Prob (F-statistic):           2.26e-08\n",
      "Time:                        11:51:46   Log-Likelihood:                -437.18\n",
      "No. Observations:                  89   AIC:                             878.4\n",
      "Df Residuals:                      87   BIC:                             883.3\n",
      "Df Model:                           1                                         \n",
      "Covariance Type:            nonrobust                                         \n",
      "==============================================================================\n",
      "                 coef    std err          t      P>|t|      [0.025      0.975]\n",
      "------------------------------------------------------------------------------\n",
      "const         88.4869      9.524      9.291      0.000      69.557     107.417\n",
      "Drop           0.3863      0.063      6.153      0.000       0.262       0.511\n",
      "==============================================================================\n",
      "Omnibus:                        0.228   Durbin-Watson:                   1.765\n",
      "Prob(Omnibus):                  0.892   Jarque-Bera (JB):                0.196\n",
      "Skew:                           0.108   Prob(JB):                        0.907\n",
      "Kurtosis:                       2.923   Cond. No.                         410.\n",
      "==============================================================================\n",
      "\n",
      "Notes:\n",
      "[1] Standard Errors assume that the covariance matrix of the errors is correctly specified.\n"
     ]
    }
   ],
   "source": [
    "#Simple linear model\n",
    "x = sm.add_constant(coaster[\"Drop\"])\n",
    "y = coaster[\"Duration\"]\n",
    "model_coaster = sm.OLS(y,x).fit()\n",
    "print(model_coaster.summary())"
   ]
  },
  {
   "cell_type": "code",
   "execution_count": 89,
   "id": "865005d8",
   "metadata": {},
   "outputs": [
    {
     "name": "stdout",
     "output_type": "stream",
     "text": [
      "                            OLS Regression Results                            \n",
      "==============================================================================\n",
      "Dep. Variable:               Duration   R-squared:                       0.365\n",
      "Model:                            OLS   Adj. R-squared:                  0.350\n",
      "Method:                 Least Squares   F-statistic:                     24.71\n",
      "Date:                Fri, 29 Jul 2022   Prob (F-statistic):           3.31e-09\n",
      "Time:                        11:52:58   Log-Likelihood:                -433.05\n",
      "No. Observations:                  89   AIC:                             872.1\n",
      "Df Residuals:                      86   BIC:                             879.6\n",
      "Df Model:                           2                                         \n",
      "Covariance Type:            nonrobust                                         \n",
      "==============================================================================\n",
      "                 coef    std err          t      P>|t|      [0.025      0.975]\n",
      "------------------------------------------------------------------------------\n",
      "const         -6.3932     34.057     -0.188      0.852     -74.096      61.309\n",
      "Drop          -0.1399      0.192     -0.730      0.468      -0.521       0.241\n",
      "Speed          2.7030      0.935      2.892      0.005       0.845       4.561\n",
      "==============================================================================\n",
      "Omnibus:                        1.762   Durbin-Watson:                   1.827\n",
      "Prob(Omnibus):                  0.414   Jarque-Bera (JB):                1.458\n",
      "Skew:                           0.313   Prob(JB):                        0.482\n",
      "Kurtosis:                       3.027   Cond. No.                     1.65e+03\n",
      "==============================================================================\n",
      "\n",
      "Notes:\n",
      "[1] Standard Errors assume that the covariance matrix of the errors is correctly specified.\n",
      "[2] The condition number is large, 1.65e+03. This might indicate that there are\n",
      "strong multicollinearity or other numerical problems.\n"
     ]
    }
   ],
   "source": [
    "#Multiple linear regression model\n",
    "x = sm.add_constant(coaster[[\"Drop\", \"Speed\"]])\n",
    "y = coaster[\"Duration\"]\n",
    "model_coaster = sm.OLS(y,x).fit()\n",
    "print(model_coaster.summary())"
   ]
  },
  {
   "cell_type": "code",
   "execution_count": 90,
   "id": "01ae56aa",
   "metadata": {},
   "outputs": [
    {
     "data": {
      "image/png": "[encoded data removed]",
      "text/plain": [
       "<Figure size 360x360 with 1 Axes>"
      ]
     },
     "metadata": {
      "needs_background": "light"
     },
     "output_type": "display_data"
    }
   ],
   "source": [
    "sns.lmplot(data = coaster, x = \"Drop\", y = \"Speed\", ci = None)\n",
    "plt.show()"
   ]
  },
  {
   "cell_type": "markdown",
   "id": "b5a4b92d",
   "metadata": {},
   "source": [
    "#### Section 20.6: Confidence and Prediction Intervals"
   ]
  },
  {
   "cell_type": "code",
   "execution_count": 95,
   "id": "bc538998",
   "metadata": {},
   "outputs": [
    {
     "data": {
      "image/png": "[encoded data removed]",
      "text/plain": [
       "<Figure size 360x360 with 1 Axes>"
      ]
     },
     "metadata": {
      "needs_background": "light"
     },
     "output_type": "display_data"
    }
   ],
   "source": [
    "#Figure 20.16, page 694\n",
    "sns.lmplot(data = fat, x = \"Waist\", y = \"Pct.BF\")\n",
    "plt.xlabel(\"Waist (in.)\")\n",
    "plt.ylabel(\"% of Body Fat\")\n",
    "plt.show()"
   ]
  },
  {
   "cell_type": "markdown",
   "id": "417256f2",
   "metadata": {},
   "source": [
    "#### Section 20.7: Logistic Regression"
   ]
  },
  {
   "cell_type": "code",
   "execution_count": 100,
   "id": "c0f511c2",
   "metadata": {},
   "outputs": [
    {
     "data": {
      "text/html": [
       "<div>\n",
       "<style scoped>\n",
       "    .dataframe tbody tr th:only-of-type {\n",
       "        vertical-align: middle;\n",
       "    }\n",
       "\n",
       "    .dataframe tbody tr th {\n",
       "        vertical-align: top;\n",
       "    }\n",
       "\n",
       "    .dataframe thead th {\n",
       "        text-align: right;\n",
       "    }\n",
       "</style>\n",
       "<table border=\"1\" class=\"dataframe\">\n",
       "  <thead>\n",
       "    <tr style=\"text-align: right;\">\n",
       "      <th></th>\n",
       "      <th>Diabetes</th>\n",
       "      <th>BMI</th>\n",
       "      <th>Age</th>\n",
       "      <th>status</th>\n",
       "    </tr>\n",
       "  </thead>\n",
       "  <tbody>\n",
       "    <tr>\n",
       "      <th>0</th>\n",
       "      <td>1</td>\n",
       "      <td>33.6</td>\n",
       "      <td>50</td>\n",
       "      <td>Diabetic</td>\n",
       "    </tr>\n",
       "    <tr>\n",
       "      <th>1</th>\n",
       "      <td>0</td>\n",
       "      <td>26.6</td>\n",
       "      <td>31</td>\n",
       "      <td>Not Diabetic</td>\n",
       "    </tr>\n",
       "    <tr>\n",
       "      <th>2</th>\n",
       "      <td>1</td>\n",
       "      <td>23.3</td>\n",
       "      <td>32</td>\n",
       "      <td>Diabetic</td>\n",
       "    </tr>\n",
       "    <tr>\n",
       "      <th>3</th>\n",
       "      <td>0</td>\n",
       "      <td>28.1</td>\n",
       "      <td>21</td>\n",
       "      <td>Not Diabetic</td>\n",
       "    </tr>\n",
       "    <tr>\n",
       "      <th>4</th>\n",
       "      <td>1</td>\n",
       "      <td>43.1</td>\n",
       "      <td>33</td>\n",
       "      <td>Diabetic</td>\n",
       "    </tr>\n",
       "    <tr>\n",
       "      <th>...</th>\n",
       "      <td>...</td>\n",
       "      <td>...</td>\n",
       "      <td>...</td>\n",
       "      <td>...</td>\n",
       "    </tr>\n",
       "    <tr>\n",
       "      <th>752</th>\n",
       "      <td>0</td>\n",
       "      <td>32.9</td>\n",
       "      <td>63</td>\n",
       "      <td>Not Diabetic</td>\n",
       "    </tr>\n",
       "    <tr>\n",
       "      <th>753</th>\n",
       "      <td>0</td>\n",
       "      <td>36.8</td>\n",
       "      <td>27</td>\n",
       "      <td>Not Diabetic</td>\n",
       "    </tr>\n",
       "    <tr>\n",
       "      <th>754</th>\n",
       "      <td>0</td>\n",
       "      <td>26.2</td>\n",
       "      <td>30</td>\n",
       "      <td>Not Diabetic</td>\n",
       "    </tr>\n",
       "    <tr>\n",
       "      <th>755</th>\n",
       "      <td>1</td>\n",
       "      <td>30.1</td>\n",
       "      <td>47</td>\n",
       "      <td>Diabetic</td>\n",
       "    </tr>\n",
       "    <tr>\n",
       "      <th>756</th>\n",
       "      <td>0</td>\n",
       "      <td>30.4</td>\n",
       "      <td>23</td>\n",
       "      <td>Not Diabetic</td>\n",
       "    </tr>\n",
       "  </tbody>\n",
       "</table>\n",
       "<p>757 rows × 4 columns</p>\n",
       "</div>"
      ],
      "text/plain": [
       "     Diabetes   BMI  Age        status\n",
       "0           1  33.6   50      Diabetic\n",
       "1           0  26.6   31  Not Diabetic\n",
       "2           1  23.3   32      Diabetic\n",
       "3           0  28.1   21  Not Diabetic\n",
       "4           1  43.1   33      Diabetic\n",
       "..        ...   ...  ...           ...\n",
       "752         0  32.9   63  Not Diabetic\n",
       "753         0  36.8   27  Not Diabetic\n",
       "754         0  26.2   30  Not Diabetic\n",
       "755         1  30.1   47      Diabetic\n",
       "756         0  30.4   23  Not Diabetic\n",
       "\n",
       "[757 rows x 4 columns]"
      ]
     },
     "execution_count": 100,
     "metadata": {},
     "output_type": "execute_result"
    }
   ],
   "source": [
    "pima = pd.read_csv(\"datasets/pima.txt\", sep = \"\\t\")\n",
    "pima = pima[pima[\"BMI\"] != 0]\n",
    "#pima = pima.assign(status = lambda pima: pima[\"Diabetes\"].map(lambda Diabetes: \"Diabetic\" if Diabetes == 1 else \"Not Diabetic\"))\n",
    "pima"
   ]
  },
  {
   "cell_type": "code",
   "execution_count": 105,
   "id": "6e2c491b",
   "metadata": {},
   "outputs": [
    {
     "data": {
      "image/png": "[encoded data removed]",
      "text/plain": [
       "<Figure size 432x288 with 1 Axes>"
      ]
     },
     "metadata": {
      "needs_background": "light"
     },
     "output_type": "display_data"
    }
   ],
   "source": [
    "#Figure 20.17, page 696\n",
    "sns.boxplot(data = pima, x = \"Diabetes\", y = \"BMI\")\n",
    "plt.xlabel(\"Diabetes (1 = yes)\")\n",
    "plt.show()"
   ]
  },
  {
   "cell_type": "code",
   "execution_count": 110,
   "id": "fbc7f538",
   "metadata": {},
   "outputs": [
    {
     "data": {
      "image/png": "[encoded data removed]",
      "text/plain": [
       "<Figure size 360x360 with 1 Axes>"
      ]
     },
     "metadata": {
      "needs_background": "light"
     },
     "output_type": "display_data"
    }
   ],
   "source": [
    "#Figure 20.18, page 697\n",
    "sns.lmplot(data = pima, x = \"BMI\", y = \"Diabetes\", logistic = True, ci = None)\n",
    "plt.ylabel(\"Diabetes (1 = yes)\")\n",
    "plt.show()"
   ]
  },
  {
   "cell_type": "markdown",
   "id": "beb783ac",
   "metadata": {},
   "source": [
    "#### Section 20.8: More about Regression"
   ]
  }
 ],
 "metadata": {
  "kernelspec": {
   "display_name": "Python 3 (ipykernel)",
   "language": "python",
   "name": "python3"
  },
  "language_info": {
   "codemirror_mode": {
    "name": "ipython",
    "version": 3
   },
   "file_extension": ".py",
   "mimetype": "text/x-python",
   "name": "python",
   "nbconvert_exporter": "python",
   "pygments_lexer": "ipython3",
   "version": "3.9.12"
  }
 },
 "nbformat": 4,
 "nbformat_minor": 5
}
