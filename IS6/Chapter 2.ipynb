{
 "cells": [
  {
   "cell_type": "markdown",
   "id": "197e6d12",
   "metadata": {},
   "source": [
    "## IS6 in Python: Displaying and Describing Data (Chapter 1)\n",
    "### Shu-min Liao (sliao@amherst.edu)\n",
    "*Question*: Who should be the author?\n",
    "### July 11, 2022\n",
    "### Introduction and background\n",
    "\n",
    "This document is intended to assist students in undertaking examples shown in the Sixth Edition of Intro Stats (2022) by De Veaux, Velleman, and Bock. This pdf file as well as the associated ipynb reproducible analysis source file used to create it can be found at (INSERT WEBSITE LINK HERE)."
   ]
  },
  {
   "cell_type": "markdown",
   "id": "2e7ccaff",
   "metadata": {},
   "source": [
    "### Chapter 2: Displaying and Describing Data\n",
    "#### Section 2.1: Summarizing and Displaying a Categorical Variable"
   ]
  },
  {
   "cell_type": "code",
   "execution_count": 335,
   "id": "e85d61df",
   "metadata": {},
   "outputs": [],
   "source": [
    "#Read in libraries\n",
    "import matplotlib.pyplot as plt\n",
    "import pandas as pd\n",
    "import seaborn as sns"
   ]
  },
  {
   "cell_type": "code",
   "execution_count": 134,
   "id": "3bc06e54",
   "metadata": {
    "scrolled": true
   },
   "outputs": [
    {
     "data": {
      "text/html": [
       "<div>\n",
       "<style scoped>\n",
       "    .dataframe tbody tr th:only-of-type {\n",
       "        vertical-align: middle;\n",
       "    }\n",
       "\n",
       "    .dataframe tbody tr th {\n",
       "        vertical-align: top;\n",
       "    }\n",
       "\n",
       "    .dataframe thead th {\n",
       "        text-align: right;\n",
       "    }\n",
       "</style>\n",
       "<table border=\"1\" class=\"dataframe\">\n",
       "  <thead>\n",
       "    <tr style=\"text-align: right;\">\n",
       "      <th></th>\n",
       "      <th>Name</th>\n",
       "      <th>Survived</th>\n",
       "      <th>Age</th>\n",
       "      <th>Gender</th>\n",
       "      <th>Price.Paid</th>\n",
       "      <th>Class</th>\n",
       "    </tr>\n",
       "  </thead>\n",
       "  <tbody>\n",
       "    <tr>\n",
       "      <th>0</th>\n",
       "      <td>ABBING, Mr Anthony</td>\n",
       "      <td>LOST</td>\n",
       "      <td>41.0</td>\n",
       "      <td>Male</td>\n",
       "      <td>7.55</td>\n",
       "      <td>3rd</td>\n",
       "    </tr>\n",
       "    <tr>\n",
       "      <th>1</th>\n",
       "      <td>ABBOTT, Mr Eugene Joseph</td>\n",
       "      <td>LOST</td>\n",
       "      <td>13.0</td>\n",
       "      <td>Male</td>\n",
       "      <td>20.25</td>\n",
       "      <td>3rd</td>\n",
       "    </tr>\n",
       "    <tr>\n",
       "      <th>2</th>\n",
       "      <td>ABBOTT, Mr Rossmore Edward</td>\n",
       "      <td>LOST</td>\n",
       "      <td>16.0</td>\n",
       "      <td>Male</td>\n",
       "      <td>20.25</td>\n",
       "      <td>3rd</td>\n",
       "    </tr>\n",
       "    <tr>\n",
       "      <th>3</th>\n",
       "      <td>ABBOTT, Mrs Rhoda Mary 'Rosa'</td>\n",
       "      <td>SAVED</td>\n",
       "      <td>39.0</td>\n",
       "      <td>Female</td>\n",
       "      <td>20.25</td>\n",
       "      <td>3rd</td>\n",
       "    </tr>\n",
       "    <tr>\n",
       "      <th>4</th>\n",
       "      <td>ABELSETH, Miss Kalle (Karen) Marie Kristiane</td>\n",
       "      <td>SAVED</td>\n",
       "      <td>16.0</td>\n",
       "      <td>Female</td>\n",
       "      <td>7.65</td>\n",
       "      <td>3rd</td>\n",
       "    </tr>\n",
       "    <tr>\n",
       "      <th>5</th>\n",
       "      <td>ABELSETH, Mr Olaus Jørgensen</td>\n",
       "      <td>SAVED</td>\n",
       "      <td>25.0</td>\n",
       "      <td>Male</td>\n",
       "      <td>7.65</td>\n",
       "      <td>3rd</td>\n",
       "    </tr>\n",
       "    <tr>\n",
       "      <th>6</th>\n",
       "      <td>ABELSON, Mr Samuel</td>\n",
       "      <td>LOST</td>\n",
       "      <td>30.0</td>\n",
       "      <td>Male</td>\n",
       "      <td>24.00</td>\n",
       "      <td>2nd</td>\n",
       "    </tr>\n",
       "    <tr>\n",
       "      <th>7</th>\n",
       "      <td>ABELSON, Mrs Anna</td>\n",
       "      <td>SAVED</td>\n",
       "      <td>28.0</td>\n",
       "      <td>Female</td>\n",
       "      <td>24.00</td>\n",
       "      <td>2nd</td>\n",
       "    </tr>\n",
       "    <tr>\n",
       "      <th>8</th>\n",
       "      <td>ABī SA'B, Mr Jirjis Yūsuf</td>\n",
       "      <td>LOST</td>\n",
       "      <td>45.0</td>\n",
       "      <td>Male</td>\n",
       "      <td>7.23</td>\n",
       "      <td>3rd</td>\n",
       "    </tr>\n",
       "    <tr>\n",
       "      <th>9</th>\n",
       "      <td>ABī SA'B, Mrs Sha'nīnah</td>\n",
       "      <td>SAVED</td>\n",
       "      <td>38.0</td>\n",
       "      <td>Female</td>\n",
       "      <td>7.23</td>\n",
       "      <td>3rd</td>\n",
       "    </tr>\n",
       "    <tr>\n",
       "      <th>10</th>\n",
       "      <td>ABī SHADīD, Mr Dāhir</td>\n",
       "      <td>LOST</td>\n",
       "      <td>19.0</td>\n",
       "      <td>Male</td>\n",
       "      <td>7.23</td>\n",
       "      <td>3rd</td>\n",
       "    </tr>\n",
       "  </tbody>\n",
       "</table>\n",
       "</div>"
      ],
      "text/plain": [
       "                                            Name Survived   Age  Gender  \\\n",
       "0                             ABBING, Mr Anthony     LOST  41.0    Male   \n",
       "1                       ABBOTT, Mr Eugene Joseph     LOST  13.0    Male   \n",
       "2                     ABBOTT, Mr Rossmore Edward     LOST  16.0    Male   \n",
       "3                  ABBOTT, Mrs Rhoda Mary 'Rosa'    SAVED  39.0  Female   \n",
       "4   ABELSETH, Miss Kalle (Karen) Marie Kristiane    SAVED  16.0  Female   \n",
       "5                   ABELSETH, Mr Olaus Jørgensen    SAVED  25.0    Male   \n",
       "6                             ABELSON, Mr Samuel     LOST  30.0    Male   \n",
       "7                              ABELSON, Mrs Anna    SAVED  28.0  Female   \n",
       "8                      ABī SA'B, Mr Jirjis Yūsuf     LOST  45.0    Male   \n",
       "9                        ABī SA'B, Mrs Sha'nīnah    SAVED  38.0  Female   \n",
       "10                          ABī SHADīD, Mr Dāhir     LOST  19.0    Male   \n",
       "\n",
       "    Price.Paid Class  \n",
       "0         7.55   3rd  \n",
       "1        20.25   3rd  \n",
       "2        20.25   3rd  \n",
       "3        20.25   3rd  \n",
       "4         7.65   3rd  \n",
       "5         7.65   3rd  \n",
       "6        24.00   2nd  \n",
       "7        24.00   2nd  \n",
       "8         7.23   3rd  \n",
       "9         7.23   3rd  \n",
       "10        7.23   3rd  "
      ]
     },
     "execution_count": 134,
     "metadata": {},
     "output_type": "execute_result"
    }
   ],
   "source": [
    "#Table 2.1, see on page 18\n",
    "#(NOTE: DIFFERENT PAGE NUMBER, DIFFERENT DATASET, DATASET IS FAULTY, HAD TO MANUALLY FIX)\n",
    "\n",
    "#Read the txt file as csv\n",
    "#(NOTE: when we have our website, will change the file path)\n",
    "titanic_2020 = pd.read_csv(\"datasets/titanic_2020.txt\", sep = \"\\t\")\n",
    "\n",
    "#Look at the first few rows of dataset, with the exact same column variables\n",
    "#Select the list of columns we want, make another dataframe\n",
    "table_2_1 = titanic_2020[[\"Name\", \"Survived\", \"Age\", \"Gender\", \"Price.Paid\", \"Class\"]]\n",
    "#Show the first 11 people with 7 variables\n",
    "table_2_1.iloc[:11, :]"
   ]
  },
  {
   "cell_type": "code",
   "execution_count": 211,
   "id": "3ada7774",
   "metadata": {
    "scrolled": false
   },
   "outputs": [
    {
     "name": "stdout",
     "output_type": "stream",
     "text": [
      "  Class  Count\n",
      "0   1st    324\n",
      "1   2nd    284\n",
      "2   3rd    709\n",
      "3  Crew    891\n"
     ]
    }
   ],
   "source": [
    "#Table 2.2, see on page 20\n",
    "#To make a frequency table, there are 4 steps:\n",
    "#Step 1: group passengers by class\n",
    "table_2_2 = titanic_2020.groupby(\"Class\")\n",
    "#Step 2: Select only the class column to show\n",
    "table_2_2 = table_2_2[\"Class\"]\n",
    "#Step 3: Count the number of passengers in each class using the count() function\n",
    "table_2_2 = table_2_2.count()\n",
    "#Step 4: \"Rename\" the count column for future reference (when plotting)\n",
    "table_2_2 = table_2_2.reset_index(name = \"Count\")\n",
    "\n",
    "#Of course, once you are familiar with the process, you can collapse everything into one step, like this code below:\n",
    "#table_2_2 = titanic_2020.groupby(\"Class\")[\"Class\"].count().reset_index(name = \"Count\")\n",
    "\n",
    "print(table_2_2)"
   ]
  },
  {
   "cell_type": "markdown",
   "id": "0e395d63",
   "metadata": {},
   "source": [
    "Question:\n",
    "\n",
    "1.There is another way to \"rename\" the count column, but it is harder and more complex. Do we want to introduce that here?\n",
    "\n",
    "2.Do we want to advocate for using the print() function or relying on the output cell? "
   ]
  },
  {
   "cell_type": "code",
   "execution_count": 212,
   "id": "a826b64f",
   "metadata": {},
   "outputs": [
    {
     "data": {
      "text/html": [
       "<div>\n",
       "<style scoped>\n",
       "    .dataframe tbody tr th:only-of-type {\n",
       "        vertical-align: middle;\n",
       "    }\n",
       "\n",
       "    .dataframe tbody tr th {\n",
       "        vertical-align: top;\n",
       "    }\n",
       "\n",
       "    .dataframe thead th {\n",
       "        text-align: right;\n",
       "    }\n",
       "</style>\n",
       "<table border=\"1\" class=\"dataframe\">\n",
       "  <thead>\n",
       "    <tr style=\"text-align: right;\">\n",
       "      <th></th>\n",
       "      <th>Class</th>\n",
       "      <th>Percentage (%)</th>\n",
       "    </tr>\n",
       "  </thead>\n",
       "  <tbody>\n",
       "    <tr>\n",
       "      <th>0</th>\n",
       "      <td>1st</td>\n",
       "      <td>14.673913</td>\n",
       "    </tr>\n",
       "    <tr>\n",
       "      <th>1</th>\n",
       "      <td>2nd</td>\n",
       "      <td>12.862319</td>\n",
       "    </tr>\n",
       "    <tr>\n",
       "      <th>2</th>\n",
       "      <td>3rd</td>\n",
       "      <td>32.110507</td>\n",
       "    </tr>\n",
       "    <tr>\n",
       "      <th>3</th>\n",
       "      <td>Crew</td>\n",
       "      <td>40.353261</td>\n",
       "    </tr>\n",
       "  </tbody>\n",
       "</table>\n",
       "</div>"
      ],
      "text/plain": [
       "  Class  Percentage (%)\n",
       "0   1st       14.673913\n",
       "1   2nd       12.862319\n",
       "2   3rd       32.110507\n",
       "3  Crew       40.353261"
      ]
     },
     "execution_count": 212,
     "metadata": {},
     "output_type": "execute_result"
    }
   ],
   "source": [
    "#Table 2.3, see on page 20\n",
    "#To make a relative frequency table, there are 4 steps: \n",
    "#Step 1: Get the total number of passengers\n",
    "total_passengers = titanic_2020[\"Class\"].count()\n",
    "#Step 2: Create a frequecy table (similar to table 2.2)\n",
    "table_2_3 = titanic_2020.groupby(\"Class\")[\"Class\"].count()\n",
    "#Step 3: Rescale count to percentage\n",
    "table_2_3 = table_2_3/total_passengers * 100\n",
    "#Step 4: \"Rename\" the percentage column for future reference (when plotting)\n",
    "table_2_3 = table_2_3.reset_index(name = \"Percentage (%)\")\n",
    "\n",
    "#One-line code, formatted for readability:\n",
    "#table_2_3 = (\n",
    "#                titanic_2020.groupby(\"Class\")[\"Class\"].count() #Frequency table\n",
    "#                /\n",
    "#                titanic_2020[\"Class\"].count() * 100 #Scale to relative frequency table\n",
    "#            ).reset_index(name = \"Percentage (%)\") #Rename percentage column\n",
    "    \n",
    "table_2_3"
   ]
  },
  {
   "cell_type": "code",
   "execution_count": 218,
   "id": "443106db",
   "metadata": {},
   "outputs": [
    {
     "data": {
      "image/png": "[encoded data removed]",
      "text/plain": [
       "<Figure size 432x288 with 1 Axes>"
      ]
     },
     "metadata": {
      "needs_background": "light"
     },
     "output_type": "display_data"
    }
   ],
   "source": [
    "#Figure 2.2, page 20\n",
    "#We will be using matplotlib for this visualization\n",
    "\n",
    "#Plot a bar plot, color is optional, code still runs without this argument\n",
    "plt.bar(table_2_2[\"Class\"], table_2_2[\"Count\"], color = [\"green\", \"blue\", \"purple\", \"orange\"])\n",
    "\n",
    "#Add lables\n",
    "plt.xlabel(\"Ticket Class\")\n",
    "plt.ylabel(\"# of People\")\n",
    "\n",
    "#Display the plot\n",
    "plt.show()"
   ]
  },
  {
   "cell_type": "markdown",
   "id": "74afd3aa",
   "metadata": {},
   "source": [
    "#### Section 2.2: Displaying a Quantitative Variable\n",
    "#### Ages of Those Abroad the Titanic"
   ]
  },
  {
   "cell_type": "code",
   "execution_count": 206,
   "id": "4364a1f6",
   "metadata": {},
   "outputs": [
    {
     "name": "stdout",
     "output_type": "stream",
     "text": [
      "    Age  Count\n",
      "0     0      3\n",
      "1     1     17\n",
      "2     2     14\n",
      "3     3      8\n",
      "4     4     12\n",
      "..  ...    ...\n",
      "67   67      1\n",
      "68   69      1\n",
      "69   70      1\n",
      "70   71      4\n",
      "71   74      1\n",
      "\n",
      "[72 rows x 2 columns]\n"
     ]
    },
    {
     "data": {
      "image/png": "[encoded data removed]",
      "text/plain": [
       "<Figure size 432x288 with 1 Axes>"
      ]
     },
     "metadata": {
      "needs_background": "light"
     },
     "output_type": "display_data"
    }
   ],
   "source": [
    "#Figure 2.7, page 25\n",
    "#We will be using matplotlib for this visualization\n",
    "\n",
    "#Make a dataframe counting passengers by age\n",
    "#Round the age to the nearest integer\n",
    "table_2_7 = titanic_2020.round(decimals = 0)\n",
    "#Group passengers by age and count them\n",
    "table_2_7 = table_2_7.groupby(\"Age\")[\"Age\"].count()\n",
    "#Rename count column for future reference (when plotting)\n",
    "table_2_7 = table_2_7.reset_index(name = \"Count\")\n",
    "#Convert age from float to int\n",
    "table_2_7[\"Age\"] = table_2_7[\"Age\"].astype(int)\n",
    "print(table_2_7)\n",
    "\n",
    "#After acquiring the dataframe, plot the bar graph\n",
    "plt.bar(table_2_7[\"Age\"], table_2_7[\"Count\"], color = \"orange\")\n",
    "\n",
    "plt.title(\"Ages of Those Abroad the Titanic\")\n",
    "plt.xlabel(\"Age\")\n",
    "plt.ylabel(\"# of People\")\n",
    "\n",
    "plt.show()\n"
   ]
  },
  {
   "cell_type": "code",
   "execution_count": 229,
   "id": "c68fc3eb",
   "metadata": {},
   "outputs": [
    {
     "data": {
      "text/plain": [
       "(array([ 54.,  38.,  32., 208., 416., 380., 332., 272., 178., 142.,  63.,\n",
       "         45.,  32.,   7.,   6.]),\n",
       " array([ 0.        ,  4.93333333,  9.86666667, 14.8       , 19.73333333,\n",
       "        24.66666667, 29.6       , 34.53333333, 39.46666667, 44.4       ,\n",
       "        49.33333333, 54.26666667, 59.2       , 64.13333333, 69.06666667,\n",
       "        74.        ]),\n",
       " <BarContainer object of 15 artists>)"
      ]
     },
     "execution_count": 229,
     "metadata": {},
     "output_type": "execute_result"
    },
    {
     "data": {
      "image/png": "[encoded data removed]",
      "text/plain": [
       "<Figure size 432x288 with 1 Axes>"
      ]
     },
     "metadata": {
      "needs_background": "light"
     },
     "output_type": "display_data"
    }
   ],
   "source": [
    "#Simpler version (I found this out after the lengthy process above!)\n",
    "#We will be using matplotlib for this visualization\n",
    "table_2_7 = titanic_2020[\"Age\"].round(decimals = 0).dropna()\n",
    "\n",
    "plt.hist(table_2_7, bins = 15, color = \"orange\",  edgecolor = \"black\")"
   ]
  },
  {
   "cell_type": "markdown",
   "id": "b7511809",
   "metadata": {},
   "source": [
    "Question:\n",
    "\n",
    "1.I do know how to group passengers every 5 years, but when I plot the bar graph x-axis will also be scaled down by 5 (0 - 14 instead of 0 - 70). What do you think? (Might ask Dhyey for solution)\n",
    "\n",
    "2.Plotting using plt.hist() gives me an error. Do you think using plt.bar() would do? (Of course one would need to arrange dataframe before plotting to ensure the order of x-axis)"
   ]
  },
  {
   "cell_type": "markdown",
   "id": "d2ca44eb",
   "metadata": {},
   "source": [
    "#### Earthquakes and Tsunamis"
   ]
  },
  {
   "cell_type": "code",
   "execution_count": 222,
   "id": "7b3d454a",
   "metadata": {
    "scrolled": true
   },
   "outputs": [
    {
     "data": {
      "image/png": "[encoded data removed]",
      "text/plain": [
       "<Figure size 432x288 with 1 Axes>"
      ]
     },
     "metadata": {
      "needs_background": "light"
     },
     "output_type": "display_data"
    }
   ],
   "source": [
    "#Example 2.3, page 26\n",
    "#We will be using matplotlib for this visualization\n",
    "\n",
    "#(NOTE: DIFFERENT PAGE NUMBER, DIFFERENT DATASET)\n",
    "#Make dataframe\n",
    "#Read in data\n",
    "tsunamis_2020 = pd.read_csv(\"datasets/tsunamis_2020.txt\", sep = \"\\t\")\n",
    "#Group by magnitude, count, and rename count column\n",
    "tsunamis_2020 = tsunamis_2020.groupby(\"Magnitude\")[\"Magnitude\"].count().reset_index(name = \"Count\")\n",
    "\n",
    "#Plot graph\n",
    "plt.bar(tsunamis_2020[\"Magnitude\"], tsunamis_2020[\"Count\"], width = 0.1)\n",
    "plt.title(\"Earthquakes and Tsunamis\")\n",
    "plt.xlabel(\"Magnitude\")\n",
    "plt.ylabel(\"Earthquakes\")\n",
    "plt.show()"
   ]
  },
  {
   "cell_type": "code",
   "execution_count": 257,
   "id": "805959c4",
   "metadata": {},
   "outputs": [
    {
     "data": {
      "image/png": "[encoded data removed]",
      "text/plain": [
       "<Figure size 432x288 with 1 Axes>"
      ]
     },
     "metadata": {
      "needs_background": "light"
     },
     "output_type": "display_data"
    }
   ],
   "source": [
    "# Simpler version\n",
    "#We will be using matplotlib for this visualization\n",
    "\n",
    "#Read in data\n",
    "tsunamis_2020 = pd.read_csv(\"datasets/tsunamis_2020.txt\", sep = \"\\t\")\n",
    "\n",
    "#Plot graph\n",
    "plt.hist(tsunamis_2020[\"Magnitude\"], bins = 30)\n",
    "plt.title(\"Earthquakes and Tsunamis\")\n",
    "plt.xlabel(\"Magnitude\")\n",
    "plt.ylabel(\"Earthquakes\")\n",
    "plt.show()"
   ]
  },
  {
   "cell_type": "markdown",
   "id": "e2405ef8",
   "metadata": {},
   "source": [
    "#### Stem-and-Leaf Displays"
   ]
  },
  {
   "cell_type": "code",
   "execution_count": 231,
   "id": "43cd9420",
   "metadata": {},
   "outputs": [
    {
     "data": {
      "image/png": "[encoded data removed]",
      "text/plain": [
       "<Figure size 432x288 with 1 Axes>"
      ]
     },
     "metadata": {
      "needs_background": "light"
     },
     "output_type": "display_data"
    }
   ],
   "source": [
    "#Figure 2.8, page 27\n",
    "#We will be using matplotlib for this visualization\n",
    "\n",
    "#(Note: The datasets some to be the same, so I will be using Prof. Horton's)\n",
    "#Question: The problem is, though, we want you to get the credit, not him. What do you think?\n",
    "pulse_rates = pd.read_csv(\"http://nhorton.people.amherst.edu/is5/data/Pulse_rates.csv\")\n",
    "\n",
    "pulse_rates = pulse_rates.groupby(pulse_rates.Pulse)[\"Pulse\"].count().reset_index(name = \"Count\")\n",
    "\n",
    "plt.bar(pulse_rates[\"Pulse\"], pulse_rates[\"Count\"], edgecolor = \"black\", color = \"yellow\")\n",
    "plt.xlabel(\"Pulse Rate (beats per minute)\")\n",
    "plt.ylabel(\"# of Women\")\n",
    "\n",
    "plt.show()"
   ]
  },
  {
   "cell_type": "code",
   "execution_count": 269,
   "id": "7f8afc84",
   "metadata": {},
   "outputs": [
    {
     "data": {
      "image/png": "[encoded data removed]",
      "text/plain": [
       "<Figure size 432x288 with 1 Axes>"
      ]
     },
     "metadata": {
      "needs_background": "light"
     },
     "output_type": "display_data"
    }
   ],
   "source": [
    "#Simpler version\n",
    "#We will be using matplotlib for this visualization\n",
    "pulse_rates = pd.read_csv(\"http://nhorton.people.amherst.edu/is5/data/Pulse_rates.csv\")\n",
    "\n",
    "plt.hist(pulse_rates[\"Pulse\"], bins = [55,60,65,70,75,80,85,90], color = \"yellow\", edgecolor = \"black\")\n",
    "plt.xlabel(\"Pulse Rate (beats per minute)\")\n",
    "plt.ylabel(\"# of Women\")\n",
    "\n",
    "plt.show()"
   ]
  },
  {
   "cell_type": "code",
   "execution_count": 289,
   "id": "d259a481",
   "metadata": {},
   "outputs": [
    {
     "data": {
      "image/png": "[encoded data removed]",
      "text/plain": [
       "<Figure size 432x288 with 1 Axes>"
      ]
     },
     "metadata": {
      "needs_background": "light"
     },
     "output_type": "display_data"
    }
   ],
   "source": [
    "#Stem-and-leaf plot\n",
    "#We will be using matplotlib for this visualization\n",
    "plt.stem([5,6,7,8] * 13, pulse_rates[\"Pulse\"], orientation = \"horizontal\")\n",
    "\n",
    "plt.show()"
   ]
  },
  {
   "cell_type": "markdown",
   "id": "a47feac9",
   "metadata": {},
   "source": [
    "Question: I don't know how to plot the \"numerical\" version of the stem-and-leaf plot. Also this plot is both uninformative and tricky to make (the function has things to do with broadcasting - arguments must match dimensions), so should we include this?"
   ]
  },
  {
   "cell_type": "markdown",
   "id": "d02b72e3",
   "metadata": {},
   "source": [
    "### Tips:\n",
    "- plt.hist() can do the aggregating for you, while plt.bar() can not. This means that it is ok to put the whole dataframe in hist() and let it count for you, but you will have to group and count observations first before using bar()."
   ]
  },
  {
   "cell_type": "markdown",
   "id": "4c99ee46",
   "metadata": {},
   "source": [
    "#### Dot plot"
   ]
  },
  {
   "cell_type": "code",
   "execution_count": 324,
   "id": "782b6fcb",
   "metadata": {},
   "outputs": [
    {
     "data": {
      "image/png": "[encoded data removed]",
      "text/plain": [
       "<Figure size 432x288 with 1 Axes>"
      ]
     },
     "metadata": {
      "needs_background": "light"
     },
     "output_type": "display_data"
    }
   ],
   "source": [
    "#Figure 2.9, page 28\n",
    "#No package available to make a dot plot\n",
    "derby = pd.read_csv(\"http://nhorton.people.amherst.edu/is5/data/Kentucky_Derby_2016.csv\")\n",
    "\n",
    "plt.hist(derby[\"Time_Sec\"], bins = 50)\n",
    "\n",
    "plt.show()"
   ]
  },
  {
   "cell_type": "markdown",
   "id": "60ae12d2",
   "metadata": {},
   "source": [
    "Question: I don't know how to make a dot plot. It seems that both matplotlib and seaborn don't have a function for dot plot. What should I do?"
   ]
  },
  {
   "cell_type": "markdown",
   "id": "73b22a92",
   "metadata": {},
   "source": [
    "#### Density plots"
   ]
  },
  {
   "cell_type": "code",
   "execution_count": 332,
   "id": "fd19c298",
   "metadata": {},
   "outputs": [
    {
     "data": {
      "text/plain": [
       "<AxesSubplot:ylabel='Density'>"
      ]
     },
     "execution_count": 332,
     "metadata": {},
     "output_type": "execute_result"
    },
    {
     "data": {
      "image/png": "[encoded data removed]",
      "text/plain": [
       "<Figure size 432x288 with 1 Axes>"
      ]
     },
     "metadata": {
      "needs_background": "light"
     },
     "output_type": "display_data"
    }
   ],
   "source": [
    "#Figure 2.10, page 28\n",
    "#We will be using pandas to plot the density plot\n",
    "figure_2_10 = pd.read_csv(\"datasets/titanic_2020.txt\", sep = \"\\t\")\n",
    "\n",
    "figure_2_10.plot(kind = \"density\", y = \"Age\", xlabel = \"Age\", ylabel = \"Density\")"
   ]
  },
  {
   "cell_type": "code",
   "execution_count": 338,
   "id": "50b6f8a6",
   "metadata": {},
   "outputs": [
    {
     "data": {
      "text/plain": [
       "<AxesSubplot:xlabel='Age', ylabel='Density'>"
      ]
     },
     "execution_count": 338,
     "metadata": {},
     "output_type": "execute_result"
    },
    {
     "data": {
      "image/png": "[encoded data removed]",
      "text/plain": [
       "<Figure size 432x288 with 1 Axes>"
      ]
     },
     "metadata": {
      "needs_background": "light"
     },
     "output_type": "display_data"
    }
   ],
   "source": [
    "#Density plot but shaded\n",
    "#We will be using seaborn for this visualization. Unfortunately, pandas.plot does not support filling\n",
    "\n",
    "sns.kdeplot(data = figure_2_10, x = \"Age\", fill = True )"
   ]
  },
  {
   "cell_type": "markdown",
   "id": "ed2f25a6",
   "metadata": {},
   "source": [
    "#### Section 2.3: Shape"
   ]
  },
  {
   "cell_type": "code",
   "execution_count": null,
   "id": "6dcea194",
   "metadata": {},
   "outputs": [],
   "source": [
    "#Displays "
   ]
  }
 ],
 "metadata": {
  "kernelspec": {
   "display_name": "Python 3 (ipykernel)",
   "language": "python",
   "name": "python3"
  },
  "language_info": {
   "codemirror_mode": {
    "name": "ipython",
    "version": 3
   },
   "file_extension": ".py",
   "mimetype": "text/x-python",
   "name": "python",
   "nbconvert_exporter": "python",
   "pygments_lexer": "ipython3",
   "version": "3.9.12"
  }
 },
 "nbformat": 4,
 "nbformat_minor": 5
}
