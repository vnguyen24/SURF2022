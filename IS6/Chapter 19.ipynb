{
 "cells": [
  {
   "cell_type": "markdown",
   "id": "e7b991a8",
   "metadata": {},
   "source": [
    "## IS6 in Python: Comparing Counts (Chapter 19)\n",
    "\n",
    "### Introduction and background\n",
    "\n",
    "This document is intended to assist students in undertaking examples shown in the Sixth Edition of Intro Stats (2022) by De Veaux, Velleman, and Bock. This pdf file as well as the associated ipynb reproducible analysis source file used to create it can be found at (INSERT WEBSITE LINK HERE)."
   ]
  },
  {
   "cell_type": "markdown",
   "id": "4904195c",
   "metadata": {},
   "source": [
    "#### Chapter 19: Comparing Counts"
   ]
  },
  {
   "cell_type": "code",
   "execution_count": 1,
   "id": "0032e83f",
   "metadata": {},
   "outputs": [],
   "source": [
    "#Load libraries\n",
    "import pandas as pd\n",
    "from scipy.stats import chi2\n",
    "import matplotlib.pyplot as plt\n",
    "import seaborn as sns\n",
    "import numpy as np"
   ]
  },
  {
   "cell_type": "code",
   "execution_count": 2,
   "id": "1fcfa567",
   "metadata": {},
   "outputs": [
    {
     "data": {
      "text/html": [
       "<div>\n",
       "<style scoped>\n",
       "    .dataframe tbody tr th:only-of-type {\n",
       "        vertical-align: middle;\n",
       "    }\n",
       "\n",
       "    .dataframe tbody tr th {\n",
       "        vertical-align: top;\n",
       "    }\n",
       "\n",
       "    .dataframe thead th {\n",
       "        text-align: right;\n",
       "    }\n",
       "</style>\n",
       "<table border=\"1\" class=\"dataframe\">\n",
       "  <thead>\n",
       "    <tr style=\"text-align: right;\">\n",
       "      <th></th>\n",
       "      <th>Sign</th>\n",
       "      <th>Births</th>\n",
       "    </tr>\n",
       "  </thead>\n",
       "  <tbody>\n",
       "    <tr>\n",
       "      <th>0</th>\n",
       "      <td>Pisces</td>\n",
       "      <td>29</td>\n",
       "    </tr>\n",
       "    <tr>\n",
       "      <th>1</th>\n",
       "      <td>Aquarius</td>\n",
       "      <td>24</td>\n",
       "    </tr>\n",
       "    <tr>\n",
       "      <th>2</th>\n",
       "      <td>Aries</td>\n",
       "      <td>23</td>\n",
       "    </tr>\n",
       "    <tr>\n",
       "      <th>3</th>\n",
       "      <td>Cancer</td>\n",
       "      <td>23</td>\n",
       "    </tr>\n",
       "    <tr>\n",
       "      <th>4</th>\n",
       "      <td>Capricorn</td>\n",
       "      <td>22</td>\n",
       "    </tr>\n",
       "    <tr>\n",
       "      <th>5</th>\n",
       "      <td>Scorpio</td>\n",
       "      <td>21</td>\n",
       "    </tr>\n",
       "    <tr>\n",
       "      <th>6</th>\n",
       "      <td>Taurus</td>\n",
       "      <td>20</td>\n",
       "    </tr>\n",
       "    <tr>\n",
       "      <th>7</th>\n",
       "      <td>Leo</td>\n",
       "      <td>20</td>\n",
       "    </tr>\n",
       "    <tr>\n",
       "      <th>8</th>\n",
       "      <td>Saggitarius</td>\n",
       "      <td>19</td>\n",
       "    </tr>\n",
       "    <tr>\n",
       "      <th>9</th>\n",
       "      <td>Virgo</td>\n",
       "      <td>19</td>\n",
       "    </tr>\n",
       "    <tr>\n",
       "      <th>10</th>\n",
       "      <td>Libra</td>\n",
       "      <td>18</td>\n",
       "    </tr>\n",
       "    <tr>\n",
       "      <th>11</th>\n",
       "      <td>Gemini</td>\n",
       "      <td>18</td>\n",
       "    </tr>\n",
       "  </tbody>\n",
       "</table>\n",
       "</div>"
      ],
      "text/plain": [
       "           Sign  Births\n",
       "0        Pisces      29\n",
       "1      Aquarius      24\n",
       "2         Aries      23\n",
       "3        Cancer      23\n",
       "4     Capricorn      22\n",
       "5       Scorpio      21\n",
       "6        Taurus      20\n",
       "7           Leo      20\n",
       "8   Saggitarius      19\n",
       "9         Virgo      19\n",
       "10        Libra      18\n",
       "11       Gemini      18"
      ]
     },
     "execution_count": 2,
     "metadata": {},
     "output_type": "execute_result"
    }
   ],
   "source": [
    "zodiac = pd.read_csv(\"datasets/zodiac.txt\", sep = \"\\t\")\n",
    "zodiac[[\"Sign\", \"Births\"]]"
   ]
  },
  {
   "cell_type": "markdown",
   "id": "be775d8a",
   "metadata": {},
   "source": [
    "#### Section 19.1: Goodness-of-Fit Tests\n",
    "#### Example 19.1: Finding Expected Counts"
   ]
  },
  {
   "cell_type": "code",
   "execution_count": 3,
   "id": "051a10d3",
   "metadata": {},
   "outputs": [
    {
     "data": {
      "text/html": [
       "<div>\n",
       "<style scoped>\n",
       "    .dataframe tbody tr th:only-of-type {\n",
       "        vertical-align: middle;\n",
       "    }\n",
       "\n",
       "    .dataframe tbody tr th {\n",
       "        vertical-align: top;\n",
       "    }\n",
       "\n",
       "    .dataframe thead th {\n",
       "        text-align: right;\n",
       "    }\n",
       "</style>\n",
       "<table border=\"1\" class=\"dataframe\">\n",
       "  <thead>\n",
       "    <tr style=\"text-align: right;\">\n",
       "      <th></th>\n",
       "      <th>Ballplayer Count</th>\n",
       "      <th>Month</th>\n",
       "      <th>natbirth</th>\n",
       "    </tr>\n",
       "  </thead>\n",
       "  <tbody>\n",
       "    <tr>\n",
       "      <th>0</th>\n",
       "      <td>137</td>\n",
       "      <td>1</td>\n",
       "      <td>0.08</td>\n",
       "    </tr>\n",
       "    <tr>\n",
       "      <th>1</th>\n",
       "      <td>121</td>\n",
       "      <td>2</td>\n",
       "      <td>0.07</td>\n",
       "    </tr>\n",
       "    <tr>\n",
       "      <th>2</th>\n",
       "      <td>116</td>\n",
       "      <td>3</td>\n",
       "      <td>0.08</td>\n",
       "    </tr>\n",
       "    <tr>\n",
       "      <th>3</th>\n",
       "      <td>121</td>\n",
       "      <td>4</td>\n",
       "      <td>0.08</td>\n",
       "    </tr>\n",
       "    <tr>\n",
       "      <th>4</th>\n",
       "      <td>126</td>\n",
       "      <td>5</td>\n",
       "      <td>0.08</td>\n",
       "    </tr>\n",
       "  </tbody>\n",
       "</table>\n",
       "</div>"
      ],
      "text/plain": [
       "   Ballplayer Count  Month  natbirth\n",
       "0               137      1      0.08\n",
       "1               121      2      0.07\n",
       "2               116      3      0.08\n",
       "3               121      4      0.08\n",
       "4               126      5      0.08"
      ]
     },
     "execution_count": 3,
     "metadata": {},
     "output_type": "execute_result"
    }
   ],
   "source": [
    "birth = pd.read_csv(\"datasets/ballplayer-births.txt\", sep = \"\\t\")\n",
    "natbirth = [.08,.07,.08,.08,.08,.08,.09,.09,.09,.09,.08,.09]\n",
    "birth[\"natbirth\"] = natbirth\n",
    "birth.head()"
   ]
  },
  {
   "cell_type": "code",
   "execution_count": 4,
   "id": "320c691e",
   "metadata": {},
   "outputs": [
    {
     "data": {
      "text/html": [
       "<div>\n",
       "<style scoped>\n",
       "    .dataframe tbody tr th:only-of-type {\n",
       "        vertical-align: middle;\n",
       "    }\n",
       "\n",
       "    .dataframe tbody tr th {\n",
       "        vertical-align: top;\n",
       "    }\n",
       "\n",
       "    .dataframe thead th {\n",
       "        text-align: right;\n",
       "    }\n",
       "</style>\n",
       "<table border=\"1\" class=\"dataframe\">\n",
       "  <thead>\n",
       "    <tr style=\"text-align: right;\">\n",
       "      <th></th>\n",
       "      <th>Ballplayer Count</th>\n",
       "      <th>Month</th>\n",
       "      <th>natbirth</th>\n",
       "      <th>expected</th>\n",
       "    </tr>\n",
       "  </thead>\n",
       "  <tbody>\n",
       "    <tr>\n",
       "      <th>0</th>\n",
       "      <td>137</td>\n",
       "      <td>1</td>\n",
       "      <td>0.08</td>\n",
       "      <td>118.24</td>\n",
       "    </tr>\n",
       "    <tr>\n",
       "      <th>1</th>\n",
       "      <td>121</td>\n",
       "      <td>2</td>\n",
       "      <td>0.07</td>\n",
       "      <td>103.46</td>\n",
       "    </tr>\n",
       "    <tr>\n",
       "      <th>2</th>\n",
       "      <td>116</td>\n",
       "      <td>3</td>\n",
       "      <td>0.08</td>\n",
       "      <td>118.24</td>\n",
       "    </tr>\n",
       "    <tr>\n",
       "      <th>3</th>\n",
       "      <td>121</td>\n",
       "      <td>4</td>\n",
       "      <td>0.08</td>\n",
       "      <td>118.24</td>\n",
       "    </tr>\n",
       "    <tr>\n",
       "      <th>4</th>\n",
       "      <td>126</td>\n",
       "      <td>5</td>\n",
       "      <td>0.08</td>\n",
       "      <td>118.24</td>\n",
       "    </tr>\n",
       "    <tr>\n",
       "      <th>5</th>\n",
       "      <td>114</td>\n",
       "      <td>6</td>\n",
       "      <td>0.08</td>\n",
       "      <td>118.24</td>\n",
       "    </tr>\n",
       "    <tr>\n",
       "      <th>6</th>\n",
       "      <td>102</td>\n",
       "      <td>7</td>\n",
       "      <td>0.09</td>\n",
       "      <td>133.02</td>\n",
       "    </tr>\n",
       "    <tr>\n",
       "      <th>7</th>\n",
       "      <td>165</td>\n",
       "      <td>8</td>\n",
       "      <td>0.09</td>\n",
       "      <td>133.02</td>\n",
       "    </tr>\n",
       "    <tr>\n",
       "      <th>8</th>\n",
       "      <td>134</td>\n",
       "      <td>9</td>\n",
       "      <td>0.09</td>\n",
       "      <td>133.02</td>\n",
       "    </tr>\n",
       "    <tr>\n",
       "      <th>9</th>\n",
       "      <td>115</td>\n",
       "      <td>10</td>\n",
       "      <td>0.09</td>\n",
       "      <td>133.02</td>\n",
       "    </tr>\n",
       "    <tr>\n",
       "      <th>10</th>\n",
       "      <td>105</td>\n",
       "      <td>11</td>\n",
       "      <td>0.08</td>\n",
       "      <td>118.24</td>\n",
       "    </tr>\n",
       "    <tr>\n",
       "      <th>11</th>\n",
       "      <td>122</td>\n",
       "      <td>12</td>\n",
       "      <td>0.09</td>\n",
       "      <td>133.02</td>\n",
       "    </tr>\n",
       "  </tbody>\n",
       "</table>\n",
       "</div>"
      ],
      "text/plain": [
       "    Ballplayer Count  Month  natbirth  expected\n",
       "0                137      1      0.08    118.24\n",
       "1                121      2      0.07    103.46\n",
       "2                116      3      0.08    118.24\n",
       "3                121      4      0.08    118.24\n",
       "4                126      5      0.08    118.24\n",
       "5                114      6      0.08    118.24\n",
       "6                102      7      0.09    133.02\n",
       "7                165      8      0.09    133.02\n",
       "8                134      9      0.09    133.02\n",
       "9                115     10      0.09    133.02\n",
       "10               105     11      0.08    118.24\n",
       "11               122     12      0.09    133.02"
      ]
     },
     "execution_count": 4,
     "metadata": {},
     "output_type": "execute_result"
    }
   ],
   "source": [
    "#Find expected counts\n",
    "birth = birth.assign(expected = birth[\"Ballplayer Count\"].sum() * birth[\"natbirth\"])\n",
    "birth"
   ]
  },
  {
   "cell_type": "markdown",
   "id": "b817d6d4",
   "metadata": {},
   "source": [
    "#### Assumptions and Conditions\n",
    "#### Calcuations\n",
    "#### Chi-Square P-Values"
   ]
  },
  {
   "cell_type": "code",
   "execution_count": 5,
   "id": "fe9db39a",
   "metadata": {},
   "outputs": [
    {
     "data": {
      "image/png": "[encoded data removed]",
      "text/plain": [
       "<Figure size 432x288 with 1 Axes>"
      ]
     },
     "metadata": {
      "needs_background": "light"
     },
     "output_type": "display_data"
    },
    {
     "name": "stdout",
     "output_type": "stream",
     "text": [
      "4.605170185988092\n",
      "18.307038053275146\n"
     ]
    }
   ],
   "source": [
    "#Examples of chisq p-values\n",
    "x_axis = np.arange(0, 20, 0.01)\n",
    "plt.plot(x_axis, chi2.pdf(x_axis, df = 7))\n",
    "plt.show()\n",
    "\n",
    "#Use ppf() to find chisq value, given q and df\n",
    "print(chi2.ppf(q = 0.9, df = 2))\n",
    "print(chi2.ppf(q = 0.95, df = 10))"
   ]
  },
  {
   "cell_type": "markdown",
   "id": "403ed734",
   "metadata": {},
   "source": [
    "Note: qchisq() vs chi.ppf()\n",
    "- qchisq() in R takes 2 main arguments, p and df\n",
    "- chi.ppf() in Python takes 2 main arguments q and df\n",
    "\n",
    "Note the p and q. They are different, but interconnected. We can calculate q from p using the equation q = 1 - p, or p = 1 - q. This is the only subtle difference between the two functions"
   ]
  },
  {
   "cell_type": "markdown",
   "id": "41ab93c4",
   "metadata": {},
   "source": [
    "#### Example 19.3: Doing a Goodness-of-Fit Test"
   ]
  },
  {
   "cell_type": "code",
   "execution_count": 6,
   "id": "d4d9e83e",
   "metadata": {},
   "outputs": [
    {
     "data": {
      "image/png": "[encoded data removed]",
      "text/plain": [
       "<Figure size 432x288 with 1 Axes>"
      ]
     },
     "metadata": {
      "needs_background": "light"
     },
     "output_type": "display_data"
    },
    {
     "name": "stdout",
     "output_type": "stream",
     "text": [
      "expected count : 21.333\n"
     ]
    }
   ],
   "source": [
    "#Page 646\n",
    "x_axis = np.arange(0, 30, 0.01)\n",
    "plt.plot(x_axis, chi2.pdf(x_axis, df = 11))\n",
    "expected = zodiac['Expected'][0]\n",
    "plt.vlines(x = expected, ymin = 0, ymax = 0.08)\n",
    "plt.show()\n",
    "\n",
    "#Expected\n",
    "print(f\"expected count : {expected}\")"
   ]
  },
  {
   "cell_type": "code",
   "execution_count": 7,
   "id": "9a971bf2",
   "metadata": {},
   "outputs": [
    {
     "data": {
      "text/html": [
       "<div>\n",
       "<style scoped>\n",
       "    .dataframe tbody tr th:only-of-type {\n",
       "        vertical-align: middle;\n",
       "    }\n",
       "\n",
       "    .dataframe tbody tr th {\n",
       "        vertical-align: top;\n",
       "    }\n",
       "\n",
       "    .dataframe thead th {\n",
       "        text-align: right;\n",
       "    }\n",
       "</style>\n",
       "<table border=\"1\" class=\"dataframe\">\n",
       "  <thead>\n",
       "    <tr style=\"text-align: right;\">\n",
       "      <th></th>\n",
       "      <th>Sign</th>\n",
       "      <th>Births</th>\n",
       "      <th>Expected</th>\n",
       "      <th>Residual</th>\n",
       "    </tr>\n",
       "  </thead>\n",
       "  <tbody>\n",
       "    <tr>\n",
       "      <th>0</th>\n",
       "      <td>Pisces</td>\n",
       "      <td>29</td>\n",
       "      <td>21.333</td>\n",
       "      <td>7.667</td>\n",
       "    </tr>\n",
       "    <tr>\n",
       "      <th>1</th>\n",
       "      <td>Aquarius</td>\n",
       "      <td>24</td>\n",
       "      <td>21.333</td>\n",
       "      <td>2.667</td>\n",
       "    </tr>\n",
       "    <tr>\n",
       "      <th>2</th>\n",
       "      <td>Aries</td>\n",
       "      <td>23</td>\n",
       "      <td>21.333</td>\n",
       "      <td>1.667</td>\n",
       "    </tr>\n",
       "    <tr>\n",
       "      <th>3</th>\n",
       "      <td>Cancer</td>\n",
       "      <td>23</td>\n",
       "      <td>21.333</td>\n",
       "      <td>1.667</td>\n",
       "    </tr>\n",
       "    <tr>\n",
       "      <th>4</th>\n",
       "      <td>Capricorn</td>\n",
       "      <td>22</td>\n",
       "      <td>21.333</td>\n",
       "      <td>0.667</td>\n",
       "    </tr>\n",
       "  </tbody>\n",
       "</table>\n",
       "</div>"
      ],
      "text/plain": [
       "        Sign  Births  Expected  Residual\n",
       "0     Pisces      29    21.333     7.667\n",
       "1   Aquarius      24    21.333     2.667\n",
       "2      Aries      23    21.333     1.667\n",
       "3     Cancer      23    21.333     1.667\n",
       "4  Capricorn      22    21.333     0.667"
      ]
     },
     "execution_count": 7,
     "metadata": {},
     "output_type": "execute_result"
    }
   ],
   "source": [
    "zodiac.head()"
   ]
  },
  {
   "cell_type": "code",
   "execution_count": 8,
   "id": "b68a9ac3",
   "metadata": {},
   "outputs": [
    {
     "data": {
      "image/png": "[encoded data removed]",
      "text/plain": [
       "<Figure size 432x288 with 1 Axes>"
      ]
     },
     "metadata": {
      "needs_background": "light"
     },
     "output_type": "display_data"
    }
   ],
   "source": [
    "sns.barplot(data = zodiac, x = \"Sign\", y = \"Births\", color = \"grey\")\n",
    "plt.hlines(xmin = 0, xmax = 11.5, y = expected)\n",
    "plt.xlabel(\"Count\")\n",
    "plt.show()"
   ]
  },
  {
   "cell_type": "code",
   "execution_count": 9,
   "id": "6a56b9d3",
   "metadata": {},
   "outputs": [
    {
     "data": {
      "image/png": "[encoded data removed]",
      "text/plain": [
       "<Figure size 432x288 with 1 Axes>"
      ]
     },
     "metadata": {
      "needs_background": "light"
     },
     "output_type": "display_data"
    },
    {
     "name": "stdout",
     "output_type": "stream",
     "text": [
      "p-value given chisq of 5.094 and df of 11: 0.9265288305884755\n",
      "Note how the two chisq values are very close to each other: 5.093999999999999 and 5.094\n"
     ]
    }
   ],
   "source": [
    "#Expected value for all 12 signs, provided by the book\n",
    "x2 = 5.094\n",
    "\n",
    "x_axis = np.arange(0, 30, 0.01)\n",
    "plt.plot(x_axis, chi2.pdf(x_axis, df = 11))\n",
    "plt.vlines(x = x2, ymin = 0, ymax = 0.08)\n",
    "plt.show()\n",
    "\n",
    "#Calculate p-value\n",
    "p_value = chi2.sf(x = 5.094, df = 11)\n",
    "print(f\"p-value given chisq of 5.094 and df of 11: {p_value}\")\n",
    "\n",
    "#Double check chisq value using ppf, given that p = 0.926 from textbook\n",
    "print(f\"Note how the two chisq values are very close to each other: {chi2.ppf(q = 1 - p_value, df = 11)} and {x2}\")"
   ]
  },
  {
   "cell_type": "markdown",
   "id": "11cab977",
   "metadata": {},
   "source": [
    "Note: xpchisq() in R == chi.sf() in Python\n",
    "- chi2.sf() is called the survival function (also defined as 1 - cdf, but sf is sometimes more accurate). Use this function when you have the chisq value and degrees of freedom to calculate the p-value\n",
    "- It has the same effect as xpchisq() in R!"
   ]
  },
  {
   "cell_type": "markdown",
   "id": "5bdc2682",
   "metadata": {},
   "source": [
    "#### The Chi-Square Calculation"
   ]
  },
  {
   "cell_type": "code",
   "execution_count": 10,
   "id": "514fa2c2",
   "metadata": {},
   "outputs": [
    {
     "data": {
      "text/html": [
       "<div>\n",
       "<style scoped>\n",
       "    .dataframe tbody tr th:only-of-type {\n",
       "        vertical-align: middle;\n",
       "    }\n",
       "\n",
       "    .dataframe tbody tr th {\n",
       "        vertical-align: top;\n",
       "    }\n",
       "\n",
       "    .dataframe thead th {\n",
       "        text-align: right;\n",
       "    }\n",
       "</style>\n",
       "<table border=\"1\" class=\"dataframe\">\n",
       "  <thead>\n",
       "    <tr style=\"text-align: right;\">\n",
       "      <th></th>\n",
       "      <th>Sign</th>\n",
       "      <th>Births</th>\n",
       "      <th>Expected</th>\n",
       "      <th>Residual</th>\n",
       "    </tr>\n",
       "  </thead>\n",
       "  <tbody>\n",
       "    <tr>\n",
       "      <th>0</th>\n",
       "      <td>Pisces</td>\n",
       "      <td>29</td>\n",
       "      <td>21.333</td>\n",
       "      <td>7.667</td>\n",
       "    </tr>\n",
       "    <tr>\n",
       "      <th>1</th>\n",
       "      <td>Aquarius</td>\n",
       "      <td>24</td>\n",
       "      <td>21.333</td>\n",
       "      <td>2.667</td>\n",
       "    </tr>\n",
       "    <tr>\n",
       "      <th>2</th>\n",
       "      <td>Aries</td>\n",
       "      <td>23</td>\n",
       "      <td>21.333</td>\n",
       "      <td>1.667</td>\n",
       "    </tr>\n",
       "    <tr>\n",
       "      <th>3</th>\n",
       "      <td>Cancer</td>\n",
       "      <td>23</td>\n",
       "      <td>21.333</td>\n",
       "      <td>1.667</td>\n",
       "    </tr>\n",
       "    <tr>\n",
       "      <th>4</th>\n",
       "      <td>Capricorn</td>\n",
       "      <td>22</td>\n",
       "      <td>21.333</td>\n",
       "      <td>0.667</td>\n",
       "    </tr>\n",
       "  </tbody>\n",
       "</table>\n",
       "</div>"
      ],
      "text/plain": [
       "        Sign  Births  Expected  Residual\n",
       "0     Pisces      29    21.333     7.667\n",
       "1   Aquarius      24    21.333     2.667\n",
       "2      Aries      23    21.333     1.667\n",
       "3     Cancer      23    21.333     1.667\n",
       "4  Capricorn      22    21.333     0.667"
      ]
     },
     "execution_count": 10,
     "metadata": {},
     "output_type": "execute_result"
    }
   ],
   "source": [
    "zodiac.head()"
   ]
  },
  {
   "cell_type": "code",
   "execution_count": 22,
   "id": "17482d70",
   "metadata": {},
   "outputs": [
    {
     "data": {
      "text/html": [
       "<div>\n",
       "<style scoped>\n",
       "    .dataframe tbody tr th:only-of-type {\n",
       "        vertical-align: middle;\n",
       "    }\n",
       "\n",
       "    .dataframe tbody tr th {\n",
       "        vertical-align: top;\n",
       "    }\n",
       "\n",
       "    .dataframe thead th {\n",
       "        text-align: right;\n",
       "    }\n",
       "</style>\n",
       "<table border=\"1\" class=\"dataframe\">\n",
       "  <thead>\n",
       "    <tr style=\"text-align: right;\">\n",
       "      <th></th>\n",
       "      <th>Sign</th>\n",
       "      <th>Births</th>\n",
       "      <th>Expected</th>\n",
       "      <th>Residual</th>\n",
       "      <th>residsq</th>\n",
       "      <th>component</th>\n",
       "    </tr>\n",
       "  </thead>\n",
       "  <tbody>\n",
       "    <tr>\n",
       "      <th>0</th>\n",
       "      <td>Pisces</td>\n",
       "      <td>29</td>\n",
       "      <td>21.333</td>\n",
       "      <td>7.667</td>\n",
       "      <td>58.782889</td>\n",
       "      <td>2.755491</td>\n",
       "    </tr>\n",
       "    <tr>\n",
       "      <th>1</th>\n",
       "      <td>Aquarius</td>\n",
       "      <td>24</td>\n",
       "      <td>21.333</td>\n",
       "      <td>2.667</td>\n",
       "      <td>7.112889</td>\n",
       "      <td>0.333422</td>\n",
       "    </tr>\n",
       "    <tr>\n",
       "      <th>2</th>\n",
       "      <td>Aries</td>\n",
       "      <td>23</td>\n",
       "      <td>21.333</td>\n",
       "      <td>1.667</td>\n",
       "      <td>2.778889</td>\n",
       "      <td>0.130262</td>\n",
       "    </tr>\n",
       "    <tr>\n",
       "      <th>3</th>\n",
       "      <td>Cancer</td>\n",
       "      <td>23</td>\n",
       "      <td>21.333</td>\n",
       "      <td>1.667</td>\n",
       "      <td>2.778889</td>\n",
       "      <td>0.130262</td>\n",
       "    </tr>\n",
       "    <tr>\n",
       "      <th>4</th>\n",
       "      <td>Capricorn</td>\n",
       "      <td>22</td>\n",
       "      <td>21.333</td>\n",
       "      <td>0.667</td>\n",
       "      <td>0.444889</td>\n",
       "      <td>0.020854</td>\n",
       "    </tr>\n",
       "    <tr>\n",
       "      <th>5</th>\n",
       "      <td>Scorpio</td>\n",
       "      <td>21</td>\n",
       "      <td>21.333</td>\n",
       "      <td>-0.333</td>\n",
       "      <td>0.110889</td>\n",
       "      <td>0.005198</td>\n",
       "    </tr>\n",
       "    <tr>\n",
       "      <th>6</th>\n",
       "      <td>Taurus</td>\n",
       "      <td>20</td>\n",
       "      <td>21.333</td>\n",
       "      <td>-1.333</td>\n",
       "      <td>1.776889</td>\n",
       "      <td>0.083293</td>\n",
       "    </tr>\n",
       "    <tr>\n",
       "      <th>7</th>\n",
       "      <td>Leo</td>\n",
       "      <td>20</td>\n",
       "      <td>21.333</td>\n",
       "      <td>-1.333</td>\n",
       "      <td>1.776889</td>\n",
       "      <td>0.083293</td>\n",
       "    </tr>\n",
       "    <tr>\n",
       "      <th>8</th>\n",
       "      <td>Saggitarius</td>\n",
       "      <td>19</td>\n",
       "      <td>21.333</td>\n",
       "      <td>-2.333</td>\n",
       "      <td>5.442889</td>\n",
       "      <td>0.255139</td>\n",
       "    </tr>\n",
       "    <tr>\n",
       "      <th>9</th>\n",
       "      <td>Virgo</td>\n",
       "      <td>19</td>\n",
       "      <td>21.333</td>\n",
       "      <td>-2.333</td>\n",
       "      <td>5.442889</td>\n",
       "      <td>0.255139</td>\n",
       "    </tr>\n",
       "    <tr>\n",
       "      <th>10</th>\n",
       "      <td>Libra</td>\n",
       "      <td>18</td>\n",
       "      <td>21.333</td>\n",
       "      <td>-3.333</td>\n",
       "      <td>11.108889</td>\n",
       "      <td>0.520737</td>\n",
       "    </tr>\n",
       "    <tr>\n",
       "      <th>11</th>\n",
       "      <td>Gemini</td>\n",
       "      <td>18</td>\n",
       "      <td>21.333</td>\n",
       "      <td>-3.333</td>\n",
       "      <td>11.108889</td>\n",
       "      <td>0.520737</td>\n",
       "    </tr>\n",
       "  </tbody>\n",
       "</table>\n",
       "</div>"
      ],
      "text/plain": [
       "           Sign  Births  Expected  Residual    residsq  component\n",
       "0        Pisces      29    21.333     7.667  58.782889   2.755491\n",
       "1      Aquarius      24    21.333     2.667   7.112889   0.333422\n",
       "2         Aries      23    21.333     1.667   2.778889   0.130262\n",
       "3        Cancer      23    21.333     1.667   2.778889   0.130262\n",
       "4     Capricorn      22    21.333     0.667   0.444889   0.020854\n",
       "5       Scorpio      21    21.333    -0.333   0.110889   0.005198\n",
       "6        Taurus      20    21.333    -1.333   1.776889   0.083293\n",
       "7           Leo      20    21.333    -1.333   1.776889   0.083293\n",
       "8   Saggitarius      19    21.333    -2.333   5.442889   0.255139\n",
       "9         Virgo      19    21.333    -2.333   5.442889   0.255139\n",
       "10        Libra      18    21.333    -3.333  11.108889   0.520737\n",
       "11       Gemini      18    21.333    -3.333  11.108889   0.520737"
      ]
     },
     "execution_count": 22,
     "metadata": {},
     "output_type": "execute_result"
    }
   ],
   "source": [
    "zodiac = zodiac.assign(residsq = zodiac[\"Residual\"] ** 2)\n",
    "zodiac = zodiac.assign(component = zodiac[\"residsq\"] / zodiac[\"Expected\"])\n",
    "zodiac"
   ]
  },
  {
   "cell_type": "markdown",
   "id": "ea29aac6",
   "metadata": {},
   "source": [
    "#### The Trouble with Goodness-of-Fit Tests: What's the Alternative?\n",
    "#### Section 19.2: Chi-Square Test of Homogeneity"
   ]
  },
  {
   "cell_type": "code",
   "execution_count": 13,
   "id": "68515e6d",
   "metadata": {},
   "outputs": [
    {
     "data": {
      "text/html": [
       "<div>\n",
       "<style scoped>\n",
       "    .dataframe tbody tr th:only-of-type {\n",
       "        vertical-align: middle;\n",
       "    }\n",
       "\n",
       "    .dataframe tbody tr th {\n",
       "        vertical-align: top;\n",
       "    }\n",
       "\n",
       "    .dataframe thead th {\n",
       "        text-align: right;\n",
       "    }\n",
       "</style>\n",
       "<table border=\"1\" class=\"dataframe\">\n",
       "  <thead>\n",
       "    <tr style=\"text-align: right;\">\n",
       "      <th></th>\n",
       "      <th>activity</th>\n",
       "      <th>school</th>\n",
       "    </tr>\n",
       "  </thead>\n",
       "  <tbody>\n",
       "    <tr>\n",
       "      <th>0</th>\n",
       "      <td>Employed</td>\n",
       "      <td>Agriculture</td>\n",
       "    </tr>\n",
       "    <tr>\n",
       "      <th>1</th>\n",
       "      <td>Employed</td>\n",
       "      <td>Agriculture</td>\n",
       "    </tr>\n",
       "    <tr>\n",
       "      <th>2</th>\n",
       "      <td>Employed</td>\n",
       "      <td>Agriculture</td>\n",
       "    </tr>\n",
       "    <tr>\n",
       "      <th>3</th>\n",
       "      <td>Employed</td>\n",
       "      <td>Agriculture</td>\n",
       "    </tr>\n",
       "    <tr>\n",
       "      <th>4</th>\n",
       "      <td>Employed</td>\n",
       "      <td>Agriculture</td>\n",
       "    </tr>\n",
       "  </tbody>\n",
       "</table>\n",
       "</div>"
      ],
      "text/plain": [
       "   activity       school\n",
       "0  Employed  Agriculture\n",
       "1  Employed  Agriculture\n",
       "2  Employed  Agriculture\n",
       "3  Employed  Agriculture\n",
       "4  Employed  Agriculture"
      ]
     },
     "execution_count": 13,
     "metadata": {},
     "output_type": "execute_result"
    }
   ],
   "source": [
    "#Create dataframe\n",
    "data = np.array([\"Employed\", \"Agriculture\"] * 209 \n",
    "                     + [\"Employed\", \"Arts & Sciences\"] * 198\n",
    "                     + [\"Employed\", \"Engineering\"] * 177\n",
    "                     + [\"Employed\", \"ILR\"] * 101 \n",
    "                     + [\"Grad School\", \"Agriculture\"] * 104\n",
    "                     + [\"Grad School\", \"Arts & Sciences\"] * 171\n",
    "                     + [\"Grad School\", \"Engineering\"] * 158\n",
    "                     + [\"Grad School\", \"ILR\"] * 33 \n",
    "                     + [\"Other\", \"Agriculture\"] * 135\n",
    "                     + [\"Other\", \"Arts & Sciences\"] * 115\n",
    "                     + [\"Other\", \"Engineering\"] * 39\n",
    "                     + [\"Other\", \"ILR\"] * 16).reshape(-1,2)\n",
    "data = pd.DataFrame(data, columns = [\"activity\", \"school\"])\n",
    "data.head()"
   ]
  },
  {
   "cell_type": "code",
   "execution_count": 14,
   "id": "eda61522",
   "metadata": {},
   "outputs": [
    {
     "data": {
      "text/html": [
       "<div>\n",
       "<style scoped>\n",
       "    .dataframe tbody tr th:only-of-type {\n",
       "        vertical-align: middle;\n",
       "    }\n",
       "\n",
       "    .dataframe tbody tr th {\n",
       "        vertical-align: top;\n",
       "    }\n",
       "\n",
       "    .dataframe thead th {\n",
       "        text-align: right;\n",
       "    }\n",
       "</style>\n",
       "<table border=\"1\" class=\"dataframe\">\n",
       "  <thead>\n",
       "    <tr style=\"text-align: right;\">\n",
       "      <th>school</th>\n",
       "      <th>Agriculture</th>\n",
       "      <th>Arts &amp; Sciences</th>\n",
       "      <th>Engineering</th>\n",
       "      <th>ILR</th>\n",
       "      <th>Total</th>\n",
       "    </tr>\n",
       "    <tr>\n",
       "      <th>activity</th>\n",
       "      <th></th>\n",
       "      <th></th>\n",
       "      <th></th>\n",
       "      <th></th>\n",
       "      <th></th>\n",
       "    </tr>\n",
       "  </thead>\n",
       "  <tbody>\n",
       "    <tr>\n",
       "      <th>Employed</th>\n",
       "      <td>209</td>\n",
       "      <td>198</td>\n",
       "      <td>177</td>\n",
       "      <td>101</td>\n",
       "      <td>685</td>\n",
       "    </tr>\n",
       "    <tr>\n",
       "      <th>Grad School</th>\n",
       "      <td>104</td>\n",
       "      <td>171</td>\n",
       "      <td>158</td>\n",
       "      <td>33</td>\n",
       "      <td>466</td>\n",
       "    </tr>\n",
       "    <tr>\n",
       "      <th>Other</th>\n",
       "      <td>135</td>\n",
       "      <td>115</td>\n",
       "      <td>39</td>\n",
       "      <td>16</td>\n",
       "      <td>305</td>\n",
       "    </tr>\n",
       "    <tr>\n",
       "      <th>Total</th>\n",
       "      <td>448</td>\n",
       "      <td>484</td>\n",
       "      <td>374</td>\n",
       "      <td>150</td>\n",
       "      <td>1456</td>\n",
       "    </tr>\n",
       "  </tbody>\n",
       "</table>\n",
       "</div>"
      ],
      "text/plain": [
       "school       Agriculture  Arts & Sciences  Engineering  ILR  Total\n",
       "activity                                                          \n",
       "Employed             209              198          177  101    685\n",
       "Grad School          104              171          158   33    466\n",
       "Other                135              115           39   16    305\n",
       "Total                448              484          374  150   1456"
      ]
     },
     "execution_count": 14,
     "metadata": {},
     "output_type": "execute_result"
    }
   ],
   "source": [
    "#Table 19.1, page 650\n",
    "table = pd.crosstab(index = data[\"activity\"], columns = data[\"school\"], margins = True, margins_name = \"Total\")\n",
    "table"
   ]
  },
  {
   "cell_type": "code",
   "execution_count": 17,
   "id": "f9d5a00b",
   "metadata": {},
   "outputs": [
    {
     "data": {
      "text/html": [
       "<div>\n",
       "<style scoped>\n",
       "    .dataframe tbody tr th:only-of-type {\n",
       "        vertical-align: middle;\n",
       "    }\n",
       "\n",
       "    .dataframe tbody tr th {\n",
       "        vertical-align: top;\n",
       "    }\n",
       "\n",
       "    .dataframe thead th {\n",
       "        text-align: right;\n",
       "    }\n",
       "</style>\n",
       "<table border=\"1\" class=\"dataframe\">\n",
       "  <thead>\n",
       "    <tr style=\"text-align: right;\">\n",
       "      <th>school</th>\n",
       "      <th>Agriculture</th>\n",
       "      <th>Arts &amp; Sciences</th>\n",
       "      <th>Engineering</th>\n",
       "      <th>ILR</th>\n",
       "      <th>Total</th>\n",
       "    </tr>\n",
       "    <tr>\n",
       "      <th>activity</th>\n",
       "      <th></th>\n",
       "      <th></th>\n",
       "      <th></th>\n",
       "      <th></th>\n",
       "      <th></th>\n",
       "    </tr>\n",
       "  </thead>\n",
       "  <tbody>\n",
       "    <tr>\n",
       "      <th>Employed</th>\n",
       "      <td>0.466518</td>\n",
       "      <td>0.409091</td>\n",
       "      <td>0.473262</td>\n",
       "      <td>0.673333</td>\n",
       "      <td>0.470467</td>\n",
       "    </tr>\n",
       "    <tr>\n",
       "      <th>Grad School</th>\n",
       "      <td>0.232143</td>\n",
       "      <td>0.353306</td>\n",
       "      <td>0.422460</td>\n",
       "      <td>0.220000</td>\n",
       "      <td>0.320055</td>\n",
       "    </tr>\n",
       "    <tr>\n",
       "      <th>Other</th>\n",
       "      <td>0.301339</td>\n",
       "      <td>0.237603</td>\n",
       "      <td>0.104278</td>\n",
       "      <td>0.106667</td>\n",
       "      <td>0.209478</td>\n",
       "    </tr>\n",
       "  </tbody>\n",
       "</table>\n",
       "</div>"
      ],
      "text/plain": [
       "school       Agriculture  Arts & Sciences  Engineering       ILR     Total\n",
       "activity                                                                  \n",
       "Employed        0.466518         0.409091     0.473262  0.673333  0.470467\n",
       "Grad School     0.232143         0.353306     0.422460  0.220000  0.320055\n",
       "Other           0.301339         0.237603     0.104278  0.106667  0.209478"
      ]
     },
     "execution_count": 17,
     "metadata": {},
     "output_type": "execute_result"
    }
   ],
   "source": [
    "#Table 19.2, page 650\n",
    "table = pd.crosstab(index = data[\"activity\"], columns = data[\"school\"], margins = True, margins_name = \"Total\", normalize = \"columns\")\n",
    "table"
   ]
  },
  {
   "cell_type": "code",
   "execution_count": 18,
   "id": "79237906",
   "metadata": {},
   "outputs": [],
   "source": [
    "#Table 19.3"
   ]
  },
  {
   "cell_type": "markdown",
   "id": "f0b96cbf",
   "metadata": {},
   "source": [
    "Question: How to create this table in the most simple way? I can manually calculate each block and put them all together, but it's too labor intensive"
   ]
  },
  {
   "cell_type": "markdown",
   "id": "122a4d9c",
   "metadata": {},
   "source": [
    "#### Step-By-Step Example: A Chi-Square Test for Homogeneity"
   ]
  },
  {
   "cell_type": "code",
   "execution_count": 21,
   "id": "29ed8fda",
   "metadata": {},
   "outputs": [
    {
     "data": {
      "image/png": "[encoded data removed]",
      "text/plain": [
       "<Figure size 432x288 with 1 Axes>"
      ]
     },
     "metadata": {
      "needs_background": "light"
     },
     "output_type": "display_data"
    }
   ],
   "source": [
    "sns.countplot(data = data, x = \"school\", hue = \"activity\")\n",
    "plt.show()"
   ]
  },
  {
   "cell_type": "markdown",
   "id": "87c3114d",
   "metadata": {},
   "source": [
    "Question:\n",
    "- sns.countplot() doesn't have a normalize argument. What should I do?\n",
    "- How to replicate the table in the example?"
   ]
  },
  {
   "cell_type": "code",
   "execution_count": 25,
   "id": "6002be0a",
   "metadata": {},
   "outputs": [
    {
     "data": {
      "image/png": "[encoded data removed]",
      "text/plain": [
       "<Figure size 432x288 with 1 Axes>"
      ]
     },
     "metadata": {
      "needs_background": "light"
     },
     "output_type": "display_data"
    },
    {
     "name": "stdout",
     "output_type": "stream",
     "text": [
      "p-value given chisq of 93.66 and df of 6: 5.254724789357363e-18\n"
     ]
    }
   ],
   "source": [
    "#Mechanics\n",
    "#chi-squared value\n",
    "chisq = 93.66\n",
    "\n",
    "x_axis = np.arange(0, 20, 0.01)\n",
    "plt.plot(x_axis, chi2.pdf(x_axis, df = 6))\n",
    "plt.vlines(x = chisq, ymin = 0, ymax = 0.08)\n",
    "plt.show()\n",
    "\n",
    "#Calculate p-value\n",
    "p_value = chi2.sf(x = chisq, df = 6)\n",
    "print(f\"p-value given chisq of 93.66 and df of 6: {p_value}\")"
   ]
  },
  {
   "cell_type": "markdown",
   "id": "d3f9e361",
   "metadata": {},
   "source": [
    "#### Section 19.3: Examining the Residuals"
   ]
  },
  {
   "cell_type": "code",
   "execution_count": 26,
   "id": "6d0564e6",
   "metadata": {},
   "outputs": [],
   "source": [
    "#Table 19.4, page 654"
   ]
  },
  {
   "cell_type": "markdown",
   "id": "3104dec4",
   "metadata": {},
   "source": [
    "Note: I can't create table 19.4 without table 19.3"
   ]
  },
  {
   "cell_type": "markdown",
   "id": "9e96e07c",
   "metadata": {},
   "source": [
    "#### Example 19.4: Looking at $X^2$, Residuals"
   ]
  },
  {
   "cell_type": "code",
   "execution_count": 32,
   "id": "62932478",
   "metadata": {},
   "outputs": [
    {
     "data": {
      "text/html": [
       "<div>\n",
       "<style scoped>\n",
       "    .dataframe tbody tr th:only-of-type {\n",
       "        vertical-align: middle;\n",
       "    }\n",
       "\n",
       "    .dataframe tbody tr th {\n",
       "        vertical-align: top;\n",
       "    }\n",
       "\n",
       "    .dataframe thead th {\n",
       "        text-align: right;\n",
       "    }\n",
       "</style>\n",
       "<table border=\"1\" class=\"dataframe\">\n",
       "  <thead>\n",
       "    <tr style=\"text-align: right;\">\n",
       "      <th></th>\n",
       "      <th>Month</th>\n",
       "      <th>residuals</th>\n",
       "    </tr>\n",
       "  </thead>\n",
       "  <tbody>\n",
       "    <tr>\n",
       "      <th>0</th>\n",
       "      <td>1</td>\n",
       "      <td>1.725244</td>\n",
       "    </tr>\n",
       "    <tr>\n",
       "      <th>1</th>\n",
       "      <td>2</td>\n",
       "      <td>1.724421</td>\n",
       "    </tr>\n",
       "    <tr>\n",
       "      <th>2</th>\n",
       "      <td>3</td>\n",
       "      <td>-0.205999</td>\n",
       "    </tr>\n",
       "    <tr>\n",
       "      <th>3</th>\n",
       "      <td>4</td>\n",
       "      <td>0.253821</td>\n",
       "    </tr>\n",
       "    <tr>\n",
       "      <th>4</th>\n",
       "      <td>5</td>\n",
       "      <td>0.713641</td>\n",
       "    </tr>\n",
       "    <tr>\n",
       "      <th>5</th>\n",
       "      <td>6</td>\n",
       "      <td>-0.389927</td>\n",
       "    </tr>\n",
       "    <tr>\n",
       "      <th>6</th>\n",
       "      <td>7</td>\n",
       "      <td>-2.689573</td>\n",
       "    </tr>\n",
       "    <tr>\n",
       "      <th>7</th>\n",
       "      <td>8</td>\n",
       "      <td>2.772809</td>\n",
       "    </tr>\n",
       "    <tr>\n",
       "      <th>8</th>\n",
       "      <td>9</td>\n",
       "      <td>0.084970</td>\n",
       "    </tr>\n",
       "    <tr>\n",
       "      <th>9</th>\n",
       "      <td>10</td>\n",
       "      <td>-1.562415</td>\n",
       "    </tr>\n",
       "    <tr>\n",
       "      <th>10</th>\n",
       "      <td>11</td>\n",
       "      <td>-1.217603</td>\n",
       "    </tr>\n",
       "    <tr>\n",
       "      <th>11</th>\n",
       "      <td>12</td>\n",
       "      <td>-0.955483</td>\n",
       "    </tr>\n",
       "  </tbody>\n",
       "</table>\n",
       "</div>"
      ],
      "text/plain": [
       "    Month  residuals\n",
       "0       1   1.725244\n",
       "1       2   1.724421\n",
       "2       3  -0.205999\n",
       "3       4   0.253821\n",
       "4       5   0.713641\n",
       "5       6  -0.389927\n",
       "6       7  -2.689573\n",
       "7       8   2.772809\n",
       "8       9   0.084970\n",
       "9      10  -1.562415\n",
       "10     11  -1.217603\n",
       "11     12  -0.955483"
      ]
     },
     "execution_count": 32,
     "metadata": {},
     "output_type": "execute_result"
    }
   ],
   "source": [
    "birth = birth.assign(residuals = (birth[\"Ballplayer Count\"] - birth[\"expected\"]) / np.sqrt(birth[\"expected\"]))\n",
    "birth[[\"Month\", \"residuals\"]]"
   ]
  },
  {
   "cell_type": "markdown",
   "id": "a86e5946",
   "metadata": {},
   "source": [
    "#### Section 19.4: Chi-Square Test of Independence"
   ]
  },
  {
   "cell_type": "code",
   "execution_count": 33,
   "id": "73d069c6",
   "metadata": {},
   "outputs": [
    {
     "data": {
      "text/html": [
       "<div>\n",
       "<style scoped>\n",
       "    .dataframe tbody tr th:only-of-type {\n",
       "        vertical-align: middle;\n",
       "    }\n",
       "\n",
       "    .dataframe tbody tr th {\n",
       "        vertical-align: top;\n",
       "    }\n",
       "\n",
       "    .dataframe thead th {\n",
       "        text-align: right;\n",
       "    }\n",
       "</style>\n",
       "<table border=\"1\" class=\"dataframe\">\n",
       "  <thead>\n",
       "    <tr style=\"text-align: right;\">\n",
       "      <th></th>\n",
       "      <th>Location</th>\n",
       "      <th>Has hepatitis C</th>\n",
       "    </tr>\n",
       "  </thead>\n",
       "  <tbody>\n",
       "    <tr>\n",
       "      <th>0</th>\n",
       "      <td>Commercial Parlor</td>\n",
       "      <td>Yes</td>\n",
       "    </tr>\n",
       "    <tr>\n",
       "      <th>1</th>\n",
       "      <td>Commercial Parlor</td>\n",
       "      <td>Yes</td>\n",
       "    </tr>\n",
       "    <tr>\n",
       "      <th>2</th>\n",
       "      <td>Commercial Parlor</td>\n",
       "      <td>Yes</td>\n",
       "    </tr>\n",
       "    <tr>\n",
       "      <th>3</th>\n",
       "      <td>Commercial Parlor</td>\n",
       "      <td>Yes</td>\n",
       "    </tr>\n",
       "    <tr>\n",
       "      <th>4</th>\n",
       "      <td>Commercial Parlor</td>\n",
       "      <td>Yes</td>\n",
       "    </tr>\n",
       "  </tbody>\n",
       "</table>\n",
       "</div>"
      ],
      "text/plain": [
       "            Location Has hepatitis C\n",
       "0  Commercial Parlor             Yes\n",
       "1  Commercial Parlor             Yes\n",
       "2  Commercial Parlor             Yes\n",
       "3  Commercial Parlor             Yes\n",
       "4  Commercial Parlor             Yes"
      ]
     },
     "execution_count": 33,
     "metadata": {},
     "output_type": "execute_result"
    }
   ],
   "source": [
    "tattoo = pd.read_csv(\"datasets/tattoos.txt\", sep = \"\\t\")\n",
    "tattoo.head()"
   ]
  },
  {
   "cell_type": "code",
   "execution_count": 35,
   "id": "1308f1d3",
   "metadata": {},
   "outputs": [
    {
     "data": {
      "text/html": [
       "<div>\n",
       "<style scoped>\n",
       "    .dataframe tbody tr th:only-of-type {\n",
       "        vertical-align: middle;\n",
       "    }\n",
       "\n",
       "    .dataframe tbody tr th {\n",
       "        vertical-align: top;\n",
       "    }\n",
       "\n",
       "    .dataframe thead th {\n",
       "        text-align: right;\n",
       "    }\n",
       "</style>\n",
       "<table border=\"1\" class=\"dataframe\">\n",
       "  <thead>\n",
       "    <tr style=\"text-align: right;\">\n",
       "      <th>Has hepatitis C</th>\n",
       "      <th>No</th>\n",
       "      <th>Yes</th>\n",
       "      <th>All</th>\n",
       "    </tr>\n",
       "    <tr>\n",
       "      <th>Location</th>\n",
       "      <th></th>\n",
       "      <th></th>\n",
       "      <th></th>\n",
       "    </tr>\n",
       "  </thead>\n",
       "  <tbody>\n",
       "    <tr>\n",
       "      <th>Commercial Parlor</th>\n",
       "      <td>35</td>\n",
       "      <td>17</td>\n",
       "      <td>52</td>\n",
       "    </tr>\n",
       "    <tr>\n",
       "      <th>Elsewhere</th>\n",
       "      <td>53</td>\n",
       "      <td>8</td>\n",
       "      <td>61</td>\n",
       "    </tr>\n",
       "    <tr>\n",
       "      <th>No Tattoo</th>\n",
       "      <td>491</td>\n",
       "      <td>22</td>\n",
       "      <td>513</td>\n",
       "    </tr>\n",
       "    <tr>\n",
       "      <th>All</th>\n",
       "      <td>579</td>\n",
       "      <td>47</td>\n",
       "      <td>626</td>\n",
       "    </tr>\n",
       "  </tbody>\n",
       "</table>\n",
       "</div>"
      ],
      "text/plain": [
       "Has hepatitis C     No  Yes  All\n",
       "Location                        \n",
       "Commercial Parlor   35   17   52\n",
       "Elsewhere           53    8   61\n",
       "No Tattoo          491   22  513\n",
       "All                579   47  626"
      ]
     },
     "execution_count": 35,
     "metadata": {},
     "output_type": "execute_result"
    }
   ],
   "source": [
    "#Table 19.5, page 655\n",
    "table = pd.crosstab(index = tattoo[\"Location\"], columns = tattoo[\"Has hepatitis C\"], margins = True)\n",
    "table"
   ]
  },
  {
   "cell_type": "markdown",
   "id": "0b4de6d2",
   "metadata": {},
   "source": [
    "#### Assumptions and Conditions\n",
    "#### Step-By-Step Example: A Chi-Square Test for Independence"
   ]
  },
  {
   "cell_type": "markdown",
   "id": "3f6be89d",
   "metadata": {},
   "source": [
    "Question: Again, countplot() doesn't have a percentage format"
   ]
  },
  {
   "cell_type": "code",
   "execution_count": 43,
   "id": "76653c1c",
   "metadata": {},
   "outputs": [
    {
     "data": {
      "image/png": "[encoded data removed]",
      "text/plain": [
       "<Figure size 432x288 with 1 Axes>"
      ]
     },
     "metadata": {
      "needs_background": "light"
     },
     "output_type": "display_data"
    },
    {
     "name": "stdout",
     "output_type": "stream",
     "text": [
      "p-value given chisq of 57.91 and df of 2: 2.660745133449005e-13\n"
     ]
    }
   ],
   "source": [
    "#chi-squared value\n",
    "chisq = 57.91\n",
    "\n",
    "x_axis = np.arange(0, 8, 0.01)\n",
    "plt.plot(x_axis, chi2.pdf(x_axis, df = 2))\n",
    "plt.vlines(x = chisq, ymin = 0, ymax = 0.5)\n",
    "plt.show()\n",
    "\n",
    "#Calculate p-value\n",
    "p_value = chi2.sf(x = chisq, df = 2)\n",
    "print(f\"p-value given chisq of 57.91 and df of 2: {p_value}\")"
   ]
  },
  {
   "cell_type": "markdown",
   "id": "b0039cc1",
   "metadata": {},
   "source": [
    "#### Examine the Residuals"
   ]
  },
  {
   "cell_type": "code",
   "execution_count": 44,
   "id": "534a395d",
   "metadata": {},
   "outputs": [],
   "source": [
    "#Table 19.6, page 659"
   ]
  },
  {
   "cell_type": "code",
   "execution_count": 50,
   "id": "7ce905bf",
   "metadata": {},
   "outputs": [],
   "source": [
    "#Table 19.7, page 660\n",
    "#Wrangle data\n",
    "tattoo = pd.read_csv(\"datasets/tattoos.txt\", sep = \"\\t\")\n",
    "tattoo = tattoo.assign(status = lambda tattoo: tattoo[\"Location\"].map(lambda Location: \"None\" if Location == \"No Tattoo\" else \"Tattoo\"))"
   ]
  },
  {
   "cell_type": "code",
   "execution_count": 53,
   "id": "b42f8294",
   "metadata": {},
   "outputs": [
    {
     "data": {
      "text/html": [
       "<div>\n",
       "<style scoped>\n",
       "    .dataframe tbody tr th:only-of-type {\n",
       "        vertical-align: middle;\n",
       "    }\n",
       "\n",
       "    .dataframe tbody tr th {\n",
       "        vertical-align: top;\n",
       "    }\n",
       "\n",
       "    .dataframe thead th {\n",
       "        text-align: right;\n",
       "    }\n",
       "</style>\n",
       "<table border=\"1\" class=\"dataframe\">\n",
       "  <thead>\n",
       "    <tr style=\"text-align: right;\">\n",
       "      <th></th>\n",
       "      <th>Location</th>\n",
       "      <th>Has hepatitis C</th>\n",
       "      <th>status</th>\n",
       "    </tr>\n",
       "  </thead>\n",
       "  <tbody>\n",
       "    <tr>\n",
       "      <th>0</th>\n",
       "      <td>Commercial Parlor</td>\n",
       "      <td>Yes</td>\n",
       "      <td>Tattoo</td>\n",
       "    </tr>\n",
       "    <tr>\n",
       "      <th>1</th>\n",
       "      <td>Commercial Parlor</td>\n",
       "      <td>Yes</td>\n",
       "      <td>Tattoo</td>\n",
       "    </tr>\n",
       "    <tr>\n",
       "      <th>2</th>\n",
       "      <td>Commercial Parlor</td>\n",
       "      <td>Yes</td>\n",
       "      <td>Tattoo</td>\n",
       "    </tr>\n",
       "    <tr>\n",
       "      <th>3</th>\n",
       "      <td>Commercial Parlor</td>\n",
       "      <td>Yes</td>\n",
       "      <td>Tattoo</td>\n",
       "    </tr>\n",
       "    <tr>\n",
       "      <th>4</th>\n",
       "      <td>Commercial Parlor</td>\n",
       "      <td>Yes</td>\n",
       "      <td>Tattoo</td>\n",
       "    </tr>\n",
       "    <tr>\n",
       "      <th>...</th>\n",
       "      <td>...</td>\n",
       "      <td>...</td>\n",
       "      <td>...</td>\n",
       "    </tr>\n",
       "    <tr>\n",
       "      <th>621</th>\n",
       "      <td>No Tattoo</td>\n",
       "      <td>No</td>\n",
       "      <td>None</td>\n",
       "    </tr>\n",
       "    <tr>\n",
       "      <th>622</th>\n",
       "      <td>No Tattoo</td>\n",
       "      <td>No</td>\n",
       "      <td>None</td>\n",
       "    </tr>\n",
       "    <tr>\n",
       "      <th>623</th>\n",
       "      <td>No Tattoo</td>\n",
       "      <td>No</td>\n",
       "      <td>None</td>\n",
       "    </tr>\n",
       "    <tr>\n",
       "      <th>624</th>\n",
       "      <td>No Tattoo</td>\n",
       "      <td>No</td>\n",
       "      <td>None</td>\n",
       "    </tr>\n",
       "    <tr>\n",
       "      <th>625</th>\n",
       "      <td>No Tattoo</td>\n",
       "      <td>No</td>\n",
       "      <td>None</td>\n",
       "    </tr>\n",
       "  </tbody>\n",
       "</table>\n",
       "<p>626 rows × 3 columns</p>\n",
       "</div>"
      ],
      "text/plain": [
       "              Location Has hepatitis C  status\n",
       "0    Commercial Parlor             Yes  Tattoo\n",
       "1    Commercial Parlor             Yes  Tattoo\n",
       "2    Commercial Parlor             Yes  Tattoo\n",
       "3    Commercial Parlor             Yes  Tattoo\n",
       "4    Commercial Parlor             Yes  Tattoo\n",
       "..                 ...             ...     ...\n",
       "621          No Tattoo              No    None\n",
       "622          No Tattoo              No    None\n",
       "623          No Tattoo              No    None\n",
       "624          No Tattoo              No    None\n",
       "625          No Tattoo              No    None\n",
       "\n",
       "[626 rows x 3 columns]"
      ]
     },
     "execution_count": 53,
     "metadata": {},
     "output_type": "execute_result"
    }
   ],
   "source": [
    "tattoo"
   ]
  },
  {
   "cell_type": "code",
   "execution_count": 56,
   "id": "4b900d96",
   "metadata": {},
   "outputs": [
    {
     "data": {
      "text/html": [
       "<div>\n",
       "<style scoped>\n",
       "    .dataframe tbody tr th:only-of-type {\n",
       "        vertical-align: middle;\n",
       "    }\n",
       "\n",
       "    .dataframe tbody tr th {\n",
       "        vertical-align: top;\n",
       "    }\n",
       "\n",
       "    .dataframe thead th {\n",
       "        text-align: right;\n",
       "    }\n",
       "</style>\n",
       "<table border=\"1\" class=\"dataframe\">\n",
       "  <thead>\n",
       "    <tr style=\"text-align: right;\">\n",
       "      <th>Has hepatitis C</th>\n",
       "      <th>No</th>\n",
       "      <th>Yes</th>\n",
       "      <th>All</th>\n",
       "    </tr>\n",
       "    <tr>\n",
       "      <th>status</th>\n",
       "      <th></th>\n",
       "      <th></th>\n",
       "      <th></th>\n",
       "    </tr>\n",
       "  </thead>\n",
       "  <tbody>\n",
       "    <tr>\n",
       "      <th>None</th>\n",
       "      <td>491</td>\n",
       "      <td>22</td>\n",
       "      <td>513</td>\n",
       "    </tr>\n",
       "    <tr>\n",
       "      <th>Tattoo</th>\n",
       "      <td>88</td>\n",
       "      <td>25</td>\n",
       "      <td>113</td>\n",
       "    </tr>\n",
       "    <tr>\n",
       "      <th>All</th>\n",
       "      <td>579</td>\n",
       "      <td>47</td>\n",
       "      <td>626</td>\n",
       "    </tr>\n",
       "  </tbody>\n",
       "</table>\n",
       "</div>"
      ],
      "text/plain": [
       "Has hepatitis C   No  Yes  All\n",
       "status                        \n",
       "None             491   22  513\n",
       "Tattoo            88   25  113\n",
       "All              579   47  626"
      ]
     },
     "execution_count": 56,
     "metadata": {},
     "output_type": "execute_result"
    }
   ],
   "source": [
    "table = pd.crosstab(index = tattoo[\"status\"], columns = tattoo[\"Has hepatitis C\"], margins = True)\n",
    "table"
   ]
  },
  {
   "cell_type": "markdown",
   "id": "39154b86",
   "metadata": {},
   "source": [
    "#### Chi-Square and Causation"
   ]
  }
 ],
 "metadata": {
  "kernelspec": {
   "display_name": "Python 3 (ipykernel)",
   "language": "python",
   "name": "python3"
  },
  "language_info": {
   "codemirror_mode": {
    "name": "ipython",
    "version": 3
   },
   "file_extension": ".py",
   "mimetype": "text/x-python",
   "name": "python",
   "nbconvert_exporter": "python",
   "pygments_lexer": "ipython3",
   "version": "3.9.12"
  }
 },
 "nbformat": 4,
 "nbformat_minor": 5
}
