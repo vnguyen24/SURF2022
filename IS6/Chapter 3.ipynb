{
 "cells": [
  {
   "cell_type": "markdown",
   "id": "2be431ae",
   "metadata": {},
   "source": [
    "## IS6 in Python:  Relationships Between Categorical Variables–Contingency Tables (Chapter 3)\n",
    "\n",
    "### Introduction and background\n",
    "\n",
    "This document is intended to assist students in undertaking examples shown in the Sixth Edition of Intro Stats (2022) by De Veaux, Velleman, and Bock. This pdf file as well as the associated ipynb reproducible analysis source file used to create it can be found at (INSERT WEBSITE LINK HERE)."
   ]
  },
  {
   "cell_type": "markdown",
   "id": "708db93b",
   "metadata": {},
   "source": [
    "### Chapter 3: Relationships Between Categorical Variables–Contingency Tables\n",
    "#### Section 3.1: Contingency Tables"
   ]
  },
  {
   "cell_type": "code",
   "execution_count": 27,
   "id": "872f5ca8",
   "metadata": {},
   "outputs": [],
   "source": [
    "#Read in libraries. These are all the libraries we need for this chapter\n",
    "import pandas as pd\n",
    "import matplotlib.pyplot as plt"
   ]
  },
  {
   "cell_type": "code",
   "execution_count": 3,
   "id": "84326f12",
   "metadata": {},
   "outputs": [
    {
     "data": {
      "text/html": [
       "<div>\n",
       "<style scoped>\n",
       "    .dataframe tbody tr th:only-of-type {\n",
       "        vertical-align: middle;\n",
       "    }\n",
       "\n",
       "    .dataframe tbody tr th {\n",
       "        vertical-align: top;\n",
       "    }\n",
       "\n",
       "    .dataframe thead th {\n",
       "        text-align: right;\n",
       "    }\n",
       "</style>\n",
       "<table border=\"1\" class=\"dataframe\">\n",
       "  <thead>\n",
       "    <tr style=\"text-align: right;\">\n",
       "      <th>Gender</th>\n",
       "      <th>F</th>\n",
       "      <th>M</th>\n",
       "      <th>Total</th>\n",
       "    </tr>\n",
       "    <tr>\n",
       "      <th>CatsDogsBoth</th>\n",
       "      <th></th>\n",
       "      <th></th>\n",
       "      <th></th>\n",
       "    </tr>\n",
       "  </thead>\n",
       "  <tbody>\n",
       "    <tr>\n",
       "      <th>Has Both</th>\n",
       "      <td>897</td>\n",
       "      <td>577</td>\n",
       "      <td>1474</td>\n",
       "    </tr>\n",
       "    <tr>\n",
       "      <th>Has cats</th>\n",
       "      <td>3412</td>\n",
       "      <td>2388</td>\n",
       "      <td>5800</td>\n",
       "    </tr>\n",
       "    <tr>\n",
       "      <th>Has dogs</th>\n",
       "      <td>3431</td>\n",
       "      <td>3587</td>\n",
       "      <td>7018</td>\n",
       "    </tr>\n",
       "    <tr>\n",
       "      <th>Total</th>\n",
       "      <td>7740</td>\n",
       "      <td>6552</td>\n",
       "      <td>14292</td>\n",
       "    </tr>\n",
       "  </tbody>\n",
       "</table>\n",
       "</div>"
      ],
      "text/plain": [
       "Gender           F     M  Total\n",
       "CatsDogsBoth                   \n",
       "Has Both       897   577   1474\n",
       "Has cats      3412  2388   5800\n",
       "Has dogs      3431  3587   7018\n",
       "Total         7740  6552  14292"
      ]
     },
     "execution_count": 3,
     "metadata": {},
     "output_type": "execute_result"
    }
   ],
   "source": [
    "#Table 3.1, page 68\n",
    "\n",
    "okcupid = pd.read_csv(\"http://nhorton.people.amherst.edu/is5/data/OKCupid_CatsDogs.csv\", header = 1)\n",
    "\n",
    "#Make contingency table\n",
    "table = pd.crosstab(index = okcupid[\"CatsDogsBoth\"], columns = okcupid[\"Gender\"], margins = True, margins_name = \"Total\")\n",
    "table"
   ]
  },
  {
   "cell_type": "markdown",
   "id": "c66eece2",
   "metadata": {},
   "source": [
    "#### New functions explained:\n",
    "Note that in this example, pandas is called pd\n",
    "1. pandas.read_csv(filepath, header = {int, list of int, None}). \"header\" argument is new, which lets us pick the row number(s) to use as the column names, and the start of the data.\n",
    "\n",
    "2. pandas.crosstab(index = [series], columns = [series], margins = True/False, margins_name = \"string\"): Compute a contingency table, where \"index\" specifies values to group by rows, \"columns\" specifies values to group by columns, \"margins\" specifies whether to add row/column margins (subtotals) or not, and \"margins_name\" lets us rename the margin label."
   ]
  },
  {
   "cell_type": "code",
   "execution_count": 4,
   "id": "d591291f",
   "metadata": {},
   "outputs": [
    {
     "data": {
      "text/html": [
       "<div>\n",
       "<style scoped>\n",
       "    .dataframe tbody tr th:only-of-type {\n",
       "        vertical-align: middle;\n",
       "    }\n",
       "\n",
       "    .dataframe tbody tr th {\n",
       "        vertical-align: top;\n",
       "    }\n",
       "\n",
       "    .dataframe thead th {\n",
       "        text-align: right;\n",
       "    }\n",
       "</style>\n",
       "<table border=\"1\" class=\"dataframe\">\n",
       "  <thead>\n",
       "    <tr style=\"text-align: right;\">\n",
       "      <th>Gender</th>\n",
       "      <th>F</th>\n",
       "      <th>M</th>\n",
       "      <th>Total</th>\n",
       "    </tr>\n",
       "    <tr>\n",
       "      <th>CatsDogsBoth</th>\n",
       "      <th></th>\n",
       "      <th></th>\n",
       "      <th></th>\n",
       "    </tr>\n",
       "  </thead>\n",
       "  <tbody>\n",
       "    <tr>\n",
       "      <th>Has Both</th>\n",
       "      <td>0.115891</td>\n",
       "      <td>0.088065</td>\n",
       "      <td>0.103135</td>\n",
       "    </tr>\n",
       "    <tr>\n",
       "      <th>Has cats</th>\n",
       "      <td>0.440827</td>\n",
       "      <td>0.364469</td>\n",
       "      <td>0.405821</td>\n",
       "    </tr>\n",
       "    <tr>\n",
       "      <th>Has dogs</th>\n",
       "      <td>0.443282</td>\n",
       "      <td>0.547466</td>\n",
       "      <td>0.491044</td>\n",
       "    </tr>\n",
       "  </tbody>\n",
       "</table>\n",
       "</div>"
      ],
      "text/plain": [
       "Gender               F         M     Total\n",
       "CatsDogsBoth                              \n",
       "Has Both      0.115891  0.088065  0.103135\n",
       "Has cats      0.440827  0.364469  0.405821\n",
       "Has dogs      0.443282  0.547466  0.491044"
      ]
     },
     "execution_count": 4,
     "metadata": {},
     "output_type": "execute_result"
    }
   ],
   "source": [
    "#Table 3.2, page 69\n",
    "\n",
    "okcupid = pd.read_csv(\"http://nhorton.people.amherst.edu/is5/data/OKCupid_CatsDogs.csv\", header = 1)\n",
    "#Make contingency table, colunmn percent format\n",
    "table = pd.crosstab(index = okcupid[\"CatsDogsBoth\"], columns = okcupid[\"Gender\"], margins = True, margins_name = \"Total\",\n",
    "                    normalize = \"columns\")\n",
    "table"
   ]
  },
  {
   "cell_type": "markdown",
   "id": "52b89f21",
   "metadata": {},
   "source": [
    "#### Same crosstab() function, new argument:\n",
    "\n",
    "To make a contingency table, formatted as column percents, we still use the same crosstab() function. Very convenient!\n",
    "Note that in this example, pandas is called pd\n",
    "\n",
    "pandas.crosstab(..., normalize = {True, False} or {\"all\", \"index\", \"columns\"} or {0,1}): Everything in is the same as the crosstab() function introduced above, with the addition of normalize. Normalize allows us to divide all values by the sum of values.\n",
    "- If passed ‘all’ or True, will normalize over all values.\n",
    "- If passed ‘index’ will normalize over each row.\n",
    "- If passed ‘columns’ will normalize over each column.\n",
    "- If margins is True, will also normalize margin values.\n",
    "\n",
    "We can multiply the dataframe by 100 to get values on the percent scale"
   ]
  },
  {
   "cell_type": "code",
   "execution_count": 5,
   "id": "cd3bb6ef",
   "metadata": {},
   "outputs": [
    {
     "data": {
      "text/html": [
       "<div>\n",
       "<style scoped>\n",
       "    .dataframe tbody tr th:only-of-type {\n",
       "        vertical-align: middle;\n",
       "    }\n",
       "\n",
       "    .dataframe tbody tr th {\n",
       "        vertical-align: top;\n",
       "    }\n",
       "\n",
       "    .dataframe thead th {\n",
       "        text-align: right;\n",
       "    }\n",
       "</style>\n",
       "<table border=\"1\" class=\"dataframe\">\n",
       "  <thead>\n",
       "    <tr style=\"text-align: right;\">\n",
       "      <th>Gender</th>\n",
       "      <th>F</th>\n",
       "      <th>M</th>\n",
       "    </tr>\n",
       "    <tr>\n",
       "      <th>CatsDogsBoth</th>\n",
       "      <th></th>\n",
       "      <th></th>\n",
       "    </tr>\n",
       "  </thead>\n",
       "  <tbody>\n",
       "    <tr>\n",
       "      <th>Has Both</th>\n",
       "      <td>0.608548</td>\n",
       "      <td>0.391452</td>\n",
       "    </tr>\n",
       "    <tr>\n",
       "      <th>Has cats</th>\n",
       "      <td>0.588276</td>\n",
       "      <td>0.411724</td>\n",
       "    </tr>\n",
       "    <tr>\n",
       "      <th>Has dogs</th>\n",
       "      <td>0.488886</td>\n",
       "      <td>0.511114</td>\n",
       "    </tr>\n",
       "    <tr>\n",
       "      <th>Total</th>\n",
       "      <td>0.541562</td>\n",
       "      <td>0.458438</td>\n",
       "    </tr>\n",
       "  </tbody>\n",
       "</table>\n",
       "</div>"
      ],
      "text/plain": [
       "Gender               F         M\n",
       "CatsDogsBoth                    \n",
       "Has Both      0.608548  0.391452\n",
       "Has cats      0.588276  0.411724\n",
       "Has dogs      0.488886  0.511114\n",
       "Total         0.541562  0.458438"
      ]
     },
     "execution_count": 5,
     "metadata": {},
     "output_type": "execute_result"
    }
   ],
   "source": [
    "#Table 3.3, page 69\n",
    "\n",
    "okcupid = pd.read_csv(\"http://nhorton.people.amherst.edu/is5/data/OKCupid_CatsDogs.csv\", header = 1)\n",
    "\n",
    "#Make contingency table, row percent format\n",
    "table = pd.crosstab(index = okcupid[\"CatsDogsBoth\"], columns = okcupid[\"Gender\"], margins = True, margins_name = \"Total\",\n",
    "                    normalize = \"index\")\n",
    "table"
   ]
  },
  {
   "cell_type": "code",
   "execution_count": 6,
   "id": "d291817c",
   "metadata": {},
   "outputs": [
    {
     "data": {
      "text/html": [
       "<div>\n",
       "<style scoped>\n",
       "    .dataframe tbody tr th:only-of-type {\n",
       "        vertical-align: middle;\n",
       "    }\n",
       "\n",
       "    .dataframe tbody tr th {\n",
       "        vertical-align: top;\n",
       "    }\n",
       "\n",
       "    .dataframe thead th {\n",
       "        text-align: right;\n",
       "    }\n",
       "</style>\n",
       "<table border=\"1\" class=\"dataframe\">\n",
       "  <thead>\n",
       "    <tr style=\"text-align: right;\">\n",
       "      <th>Gender</th>\n",
       "      <th>F</th>\n",
       "      <th>M</th>\n",
       "      <th>Total</th>\n",
       "    </tr>\n",
       "    <tr>\n",
       "      <th>CatsDogsBoth</th>\n",
       "      <th></th>\n",
       "      <th></th>\n",
       "      <th></th>\n",
       "    </tr>\n",
       "  </thead>\n",
       "  <tbody>\n",
       "    <tr>\n",
       "      <th>Has Both</th>\n",
       "      <td>0.062762</td>\n",
       "      <td>0.040372</td>\n",
       "      <td>0.103135</td>\n",
       "    </tr>\n",
       "    <tr>\n",
       "      <th>Has cats</th>\n",
       "      <td>0.238735</td>\n",
       "      <td>0.167086</td>\n",
       "      <td>0.405821</td>\n",
       "    </tr>\n",
       "    <tr>\n",
       "      <th>Has dogs</th>\n",
       "      <td>0.240064</td>\n",
       "      <td>0.250980</td>\n",
       "      <td>0.491044</td>\n",
       "    </tr>\n",
       "    <tr>\n",
       "      <th>Total</th>\n",
       "      <td>0.541562</td>\n",
       "      <td>0.458438</td>\n",
       "      <td>1.000000</td>\n",
       "    </tr>\n",
       "  </tbody>\n",
       "</table>\n",
       "</div>"
      ],
      "text/plain": [
       "Gender               F         M     Total\n",
       "CatsDogsBoth                              \n",
       "Has Both      0.062762  0.040372  0.103135\n",
       "Has cats      0.238735  0.167086  0.405821\n",
       "Has dogs      0.240064  0.250980  0.491044\n",
       "Total         0.541562  0.458438  1.000000"
      ]
     },
     "execution_count": 6,
     "metadata": {},
     "output_type": "execute_result"
    }
   ],
   "source": [
    "#Table 3.3, page 69\n",
    "\n",
    "okcupid = pd.read_csv(\"http://nhorton.people.amherst.edu/is5/data/OKCupid_CatsDogs.csv\", header = 1)\n",
    "\n",
    "#Make contingency table, table percent format\n",
    "table = pd.crosstab(index = okcupid[\"CatsDogsBoth\"], columns = okcupid[\"Gender\"], margins = True, margins_name = \"Total\",\n",
    "                    normalize = \"all\")\n",
    "table"
   ]
  },
  {
   "cell_type": "markdown",
   "id": "1696e472",
   "metadata": {},
   "source": [
    "#### Example 3.1: Exploring Marginal Distributions\n"
   ]
  },
  {
   "cell_type": "code",
   "execution_count": 7,
   "id": "e44c96ab",
   "metadata": {},
   "outputs": [
    {
     "data": {
      "text/html": [
       "<div>\n",
       "<style scoped>\n",
       "    .dataframe tbody tr th:only-of-type {\n",
       "        vertical-align: middle;\n",
       "    }\n",
       "\n",
       "    .dataframe tbody tr th {\n",
       "        vertical-align: top;\n",
       "    }\n",
       "\n",
       "    .dataframe thead th {\n",
       "        text-align: right;\n",
       "    }\n",
       "</style>\n",
       "<table border=\"1\" class=\"dataframe\">\n",
       "  <thead>\n",
       "    <tr style=\"text-align: right;\">\n",
       "      <th>Sex</th>\n",
       "      <th>Female</th>\n",
       "      <th>Male</th>\n",
       "    </tr>\n",
       "    <tr>\n",
       "      <th>Plan</th>\n",
       "      <th></th>\n",
       "      <th></th>\n",
       "    </tr>\n",
       "  </thead>\n",
       "  <tbody>\n",
       "    <tr>\n",
       "      <th>Commercials</th>\n",
       "      <td>156</td>\n",
       "      <td>81</td>\n",
       "    </tr>\n",
       "    <tr>\n",
       "      <th>Game</th>\n",
       "      <td>200</td>\n",
       "      <td>279</td>\n",
       "    </tr>\n",
       "    <tr>\n",
       "      <th>Wont Watch</th>\n",
       "      <td>160</td>\n",
       "      <td>132</td>\n",
       "    </tr>\n",
       "  </tbody>\n",
       "</table>\n",
       "</div>"
      ],
      "text/plain": [
       "Sex          Female  Male\n",
       "Plan                     \n",
       "Commercials     156    81\n",
       "Game            200   279\n",
       "Wont Watch      160   132"
      ]
     },
     "execution_count": 7,
     "metadata": {},
     "output_type": "execute_result"
    }
   ],
   "source": [
    "#Example 3.1, page 69\n",
    "superbowl = pd.read_csv(\"http://nhorton.people.amherst.edu/is5/data/Watch_the_Super_bowl.csv\", header = 1)\n",
    "\n",
    "table = pd.crosstab(index = superbowl[\"Plan\"], columns = superbowl[\"Sex\"])\n",
    "table"
   ]
  },
  {
   "cell_type": "code",
   "execution_count": 16,
   "id": "ef74794e",
   "metadata": {},
   "outputs": [
    {
     "data": {
      "text/html": [
       "<div>\n",
       "<style scoped>\n",
       "    .dataframe tbody tr th:only-of-type {\n",
       "        vertical-align: middle;\n",
       "    }\n",
       "\n",
       "    .dataframe tbody tr th {\n",
       "        vertical-align: top;\n",
       "    }\n",
       "\n",
       "    .dataframe thead th {\n",
       "        text-align: right;\n",
       "    }\n",
       "</style>\n",
       "<table border=\"1\" class=\"dataframe\">\n",
       "  <thead>\n",
       "    <tr style=\"text-align: right;\">\n",
       "      <th>Survived</th>\n",
       "      <th>Alive</th>\n",
       "      <th>Dead</th>\n",
       "      <th>All</th>\n",
       "    </tr>\n",
       "    <tr>\n",
       "      <th>Class</th>\n",
       "      <th></th>\n",
       "      <th></th>\n",
       "      <th></th>\n",
       "    </tr>\n",
       "  </thead>\n",
       "  <tbody>\n",
       "    <tr>\n",
       "      <th>1</th>\n",
       "      <td>0.091033</td>\n",
       "      <td>0.055707</td>\n",
       "      <td>0.146739</td>\n",
       "    </tr>\n",
       "    <tr>\n",
       "      <th>2</th>\n",
       "      <td>0.053895</td>\n",
       "      <td>0.075181</td>\n",
       "      <td>0.129076</td>\n",
       "    </tr>\n",
       "    <tr>\n",
       "      <th>3</th>\n",
       "      <td>0.081522</td>\n",
       "      <td>0.240036</td>\n",
       "      <td>0.321558</td>\n",
       "    </tr>\n",
       "    <tr>\n",
       "      <th>Crew</th>\n",
       "      <td>0.096014</td>\n",
       "      <td>0.306612</td>\n",
       "      <td>0.402627</td>\n",
       "    </tr>\n",
       "    <tr>\n",
       "      <th>All</th>\n",
       "      <td>0.322464</td>\n",
       "      <td>0.677536</td>\n",
       "      <td>1.000000</td>\n",
       "    </tr>\n",
       "  </tbody>\n",
       "</table>\n",
       "</div>"
      ],
      "text/plain": [
       "Survived     Alive      Dead       All\n",
       "Class                                 \n",
       "1         0.091033  0.055707  0.146739\n",
       "2         0.053895  0.075181  0.129076\n",
       "3         0.081522  0.240036  0.321558\n",
       "Crew      0.096014  0.306612  0.402627\n",
       "All       0.322464  0.677536  1.000000"
      ]
     },
     "execution_count": 16,
     "metadata": {},
     "output_type": "execute_result"
    }
   ],
   "source": [
    "#### Example 3.2: Exploring Percentages: Children and First-Class Ticket Holders First?\n",
    "\n",
    "titanic = pd.read_csv(\"http://nhorton.people.amherst.edu/is5/data/Titanic.csv\")\n",
    "table = pd.crosstab(index = titanic[\"Class\"], columns = titanic[\"Survived\"], margins = True, normalize = \"all\")\n",
    "table"
   ]
  },
  {
   "cell_type": "code",
   "execution_count": 22,
   "id": "479ed19a",
   "metadata": {},
   "outputs": [
    {
     "data": {
      "text/html": [
       "<div>\n",
       "<style scoped>\n",
       "    .dataframe tbody tr th:only-of-type {\n",
       "        vertical-align: middle;\n",
       "    }\n",
       "\n",
       "    .dataframe tbody tr th {\n",
       "        vertical-align: top;\n",
       "    }\n",
       "\n",
       "    .dataframe thead th {\n",
       "        text-align: right;\n",
       "    }\n",
       "</style>\n",
       "<table border=\"1\" class=\"dataframe\">\n",
       "  <thead>\n",
       "    <tr style=\"text-align: right;\">\n",
       "      <th>Survived</th>\n",
       "      <th>Alive</th>\n",
       "      <th>Dead</th>\n",
       "    </tr>\n",
       "    <tr>\n",
       "      <th>Class</th>\n",
       "      <th></th>\n",
       "      <th></th>\n",
       "    </tr>\n",
       "  </thead>\n",
       "  <tbody>\n",
       "    <tr>\n",
       "      <th>1</th>\n",
       "      <td>0.620370</td>\n",
       "      <td>0.379630</td>\n",
       "    </tr>\n",
       "    <tr>\n",
       "      <th>2</th>\n",
       "      <td>0.417544</td>\n",
       "      <td>0.582456</td>\n",
       "    </tr>\n",
       "    <tr>\n",
       "      <th>3</th>\n",
       "      <td>0.253521</td>\n",
       "      <td>0.746479</td>\n",
       "    </tr>\n",
       "    <tr>\n",
       "      <th>Crew</th>\n",
       "      <td>0.238470</td>\n",
       "      <td>0.761530</td>\n",
       "    </tr>\n",
       "    <tr>\n",
       "      <th>All</th>\n",
       "      <td>0.322464</td>\n",
       "      <td>0.677536</td>\n",
       "    </tr>\n",
       "  </tbody>\n",
       "</table>\n",
       "</div>"
      ],
      "text/plain": [
       "Survived     Alive      Dead\n",
       "Class                       \n",
       "1         0.620370  0.379630\n",
       "2         0.417544  0.582456\n",
       "3         0.253521  0.746479\n",
       "Crew      0.238470  0.761530\n",
       "All       0.322464  0.677536"
      ]
     },
     "execution_count": 22,
     "metadata": {},
     "output_type": "execute_result"
    }
   ],
   "source": [
    "table = pd.crosstab(index = titanic[\"Class\"], columns = titanic[\"Survived\"], margins = True, normalize = \"index\")\n",
    "table"
   ]
  },
  {
   "cell_type": "code",
   "execution_count": 23,
   "id": "cb4691e2",
   "metadata": {},
   "outputs": [
    {
     "data": {
      "text/html": [
       "<div>\n",
       "<style scoped>\n",
       "    .dataframe tbody tr th:only-of-type {\n",
       "        vertical-align: middle;\n",
       "    }\n",
       "\n",
       "    .dataframe tbody tr th {\n",
       "        vertical-align: top;\n",
       "    }\n",
       "\n",
       "    .dataframe thead th {\n",
       "        text-align: right;\n",
       "    }\n",
       "</style>\n",
       "<table border=\"1\" class=\"dataframe\">\n",
       "  <thead>\n",
       "    <tr style=\"text-align: right;\">\n",
       "      <th>Survived</th>\n",
       "      <th>Alive</th>\n",
       "      <th>Dead</th>\n",
       "      <th>All</th>\n",
       "    </tr>\n",
       "    <tr>\n",
       "      <th>Class</th>\n",
       "      <th></th>\n",
       "      <th></th>\n",
       "      <th></th>\n",
       "    </tr>\n",
       "  </thead>\n",
       "  <tbody>\n",
       "    <tr>\n",
       "      <th>1</th>\n",
       "      <td>0.282303</td>\n",
       "      <td>0.082219</td>\n",
       "      <td>0.146739</td>\n",
       "    </tr>\n",
       "    <tr>\n",
       "      <th>2</th>\n",
       "      <td>0.167135</td>\n",
       "      <td>0.110963</td>\n",
       "      <td>0.129076</td>\n",
       "    </tr>\n",
       "    <tr>\n",
       "      <th>3</th>\n",
       "      <td>0.252809</td>\n",
       "      <td>0.354278</td>\n",
       "      <td>0.321558</td>\n",
       "    </tr>\n",
       "    <tr>\n",
       "      <th>Crew</th>\n",
       "      <td>0.297753</td>\n",
       "      <td>0.452540</td>\n",
       "      <td>0.402627</td>\n",
       "    </tr>\n",
       "  </tbody>\n",
       "</table>\n",
       "</div>"
      ],
      "text/plain": [
       "Survived     Alive      Dead       All\n",
       "Class                                 \n",
       "1         0.282303  0.082219  0.146739\n",
       "2         0.167135  0.110963  0.129076\n",
       "3         0.252809  0.354278  0.321558\n",
       "Crew      0.297753  0.452540  0.402627"
      ]
     },
     "execution_count": 23,
     "metadata": {},
     "output_type": "execute_result"
    }
   ],
   "source": [
    "table = pd.crosstab(index = titanic[\"Class\"], columns = titanic[\"Survived\"], margins = True, normalize = \"columns\")\n",
    "table"
   ]
  },
  {
   "cell_type": "markdown",
   "id": "8f57de90",
   "metadata": {},
   "source": [
    "#### Section 3.2: Conditional Distributions\n",
    "\n",
    "See displays on page 71 - 72"
   ]
  },
  {
   "cell_type": "code",
   "execution_count": 209,
   "id": "8af77443",
   "metadata": {},
   "outputs": [
    {
     "name": "stdout",
     "output_type": "stream",
     "text": [
      "Gender  CatsDogsBoth\n",
      "F       Has Both         897\n",
      "        Has cats        3412\n",
      "        Has dogs        3431\n",
      "M       Has Both         577\n",
      "        Has cats        2388\n",
      "        Has dogs        3587\n",
      "Name: CatsDogsBoth, dtype: int64\n"
     ]
    },
    {
     "data": {
      "image/png": "[encoded data removed]",
      "text/plain": [
       "<Figure size 1080x360 with 2 Axes>"
      ]
     },
     "metadata": {},
     "output_type": "display_data"
    }
   ],
   "source": [
    "#Figure 3.1, page 71\n",
    "okcupid = pd.read_csv(\"http://nhorton.people.amherst.edu/is5/data/OKCupid_CatsDogs.csv\", header = 1)\n",
    "\n",
    "count = okcupid.groupby([\"Gender\", \"CatsDogsBoth\"])[\"CatsDogsBoth\"].count()\n",
    "print(count)\n",
    "\n",
    "fig,ax = plt.subplots(1, 2, figsize = (15, 5))\n",
    "ax[0].pie(x = count[\"F\"], labels = count[\"F\"].index)\n",
    "ax[0].set_title(\"Women\")\n",
    "\n",
    "ax[1].pie(x = count[\"M\"], labels = count[\"M\"].index)\n",
    "ax[1].set_title(\"Men\")\n",
    "handles, labels = ax[1].get_legend_handles_labels()\n",
    "fig.legend(handles, labels, loc='lower center')\n",
    "\n",
    "\n",
    "plt.show()"
   ]
  },
  {
   "cell_type": "markdown",
   "id": "ca8ec22c",
   "metadata": {},
   "source": [
    "Question: This takes me a lot of time to figure out. Although the plot looks beautiful, it is also quite challenging. What do you think?"
   ]
  },
  {
   "cell_type": "code",
   "execution_count": 174,
   "id": "6a1e9ba2",
   "metadata": {},
   "outputs": [
    {
     "name": "stdout",
     "output_type": "stream",
     "text": [
      "      CatsDogsBoth Gender\n",
      "2         Has cats      M\n",
      "13        Has dogs      F\n",
      "14        Has cats      F\n",
      "15        Has cats      F\n",
      "25        Has dogs      M\n",
      "...            ...    ...\n",
      "59926     Has dogs      M\n",
      "59929     Has Both      M\n",
      "59931     Has Both      F\n",
      "59936     Has cats      M\n",
      "59938     Has dogs      F\n",
      "\n",
      "[14292 rows x 2 columns]\n"
     ]
    },
    {
     "data": {
      "image/png": "[encoded data removed]",
      "text/plain": [
       "<Figure size 1080x360 with 2 Axes>"
      ]
     },
     "metadata": {
      "needs_background": "light"
     },
     "output_type": "display_data"
    }
   ],
   "source": [
    "#Figure 3.2, page 71\n",
    "okcupid = pd.read_csv(\"http://nhorton.people.amherst.edu/is5/data/OKCupid_CatsDogs.csv\", header = 1)\n",
    "\n",
    "okcupid = okcupid[[\"CatsDogsBoth\", \"Gender\"]].dropna()\n",
    "print(okcupid)\n",
    "\n",
    "fig,ax = plt.subplots(1, 2, figsize = (15, 5))\n",
    "ax[0].hist(okcupid[okcupid.Gender == \"M\"][\"CatsDogsBoth\"])\n",
    "ax[1].hist(okcupid[okcupid.Gender == \"F\"][\"CatsDogsBoth\"])\n",
    "plt.show()"
   ]
  },
  {
   "cell_type": "markdown",
   "id": "9b03de0b",
   "metadata": {},
   "source": [
    "#### Example 3.3: Finding Conditional Distributions: Watching the Super Bowl"
   ]
  },
  {
   "cell_type": "code",
   "execution_count": 177,
   "id": "f6b3c712",
   "metadata": {},
   "outputs": [
    {
     "data": {
      "text/html": [
       "<div>\n",
       "<style scoped>\n",
       "    .dataframe tbody tr th:only-of-type {\n",
       "        vertical-align: middle;\n",
       "    }\n",
       "\n",
       "    .dataframe tbody tr th {\n",
       "        vertical-align: top;\n",
       "    }\n",
       "\n",
       "    .dataframe thead th {\n",
       "        text-align: right;\n",
       "    }\n",
       "</style>\n",
       "<table border=\"1\" class=\"dataframe\">\n",
       "  <thead>\n",
       "    <tr style=\"text-align: right;\">\n",
       "      <th>Sex</th>\n",
       "      <th>Female</th>\n",
       "      <th>Male</th>\n",
       "      <th>All</th>\n",
       "    </tr>\n",
       "    <tr>\n",
       "      <th>Plan</th>\n",
       "      <th></th>\n",
       "      <th></th>\n",
       "      <th></th>\n",
       "    </tr>\n",
       "  </thead>\n",
       "  <tbody>\n",
       "    <tr>\n",
       "      <th>Commercials</th>\n",
       "      <td>156</td>\n",
       "      <td>81</td>\n",
       "      <td>237</td>\n",
       "    </tr>\n",
       "    <tr>\n",
       "      <th>Game</th>\n",
       "      <td>200</td>\n",
       "      <td>279</td>\n",
       "      <td>479</td>\n",
       "    </tr>\n",
       "    <tr>\n",
       "      <th>Wont Watch</th>\n",
       "      <td>160</td>\n",
       "      <td>132</td>\n",
       "      <td>292</td>\n",
       "    </tr>\n",
       "    <tr>\n",
       "      <th>All</th>\n",
       "      <td>516</td>\n",
       "      <td>492</td>\n",
       "      <td>1008</td>\n",
       "    </tr>\n",
       "  </tbody>\n",
       "</table>\n",
       "</div>"
      ],
      "text/plain": [
       "Sex          Female  Male   All\n",
       "Plan                           \n",
       "Commercials     156    81   237\n",
       "Game            200   279   479\n",
       "Wont Watch      160   132   292\n",
       "All             516   492  1008"
      ]
     },
     "execution_count": 177,
     "metadata": {},
     "output_type": "execute_result"
    }
   ],
   "source": [
    "#Example 3.3, page 72\n",
    "\n",
    "superbowl = pd.read_csv(\"http://nhorton.people.amherst.edu/is5/data/Watch_the_Super_bowl.csv\", header = 1)\n",
    "\n",
    "table = pd.crosstab(index = superbowl[\"Plan\"], columns = superbowl[\"Sex\"], margins = True)\n",
    "table"
   ]
  },
  {
   "cell_type": "code",
   "execution_count": 178,
   "id": "00f18bae",
   "metadata": {},
   "outputs": [
    {
     "data": {
      "text/html": [
       "<div>\n",
       "<style scoped>\n",
       "    .dataframe tbody tr th:only-of-type {\n",
       "        vertical-align: middle;\n",
       "    }\n",
       "\n",
       "    .dataframe tbody tr th {\n",
       "        vertical-align: top;\n",
       "    }\n",
       "\n",
       "    .dataframe thead th {\n",
       "        text-align: right;\n",
       "    }\n",
       "</style>\n",
       "<table border=\"1\" class=\"dataframe\">\n",
       "  <thead>\n",
       "    <tr style=\"text-align: right;\">\n",
       "      <th>Sex</th>\n",
       "      <th>Female</th>\n",
       "      <th>Male</th>\n",
       "      <th>All</th>\n",
       "    </tr>\n",
       "    <tr>\n",
       "      <th>Plan</th>\n",
       "      <th></th>\n",
       "      <th></th>\n",
       "      <th></th>\n",
       "    </tr>\n",
       "  </thead>\n",
       "  <tbody>\n",
       "    <tr>\n",
       "      <th>Commercials</th>\n",
       "      <td>0.302326</td>\n",
       "      <td>0.164634</td>\n",
       "      <td>0.235119</td>\n",
       "    </tr>\n",
       "    <tr>\n",
       "      <th>Game</th>\n",
       "      <td>0.387597</td>\n",
       "      <td>0.567073</td>\n",
       "      <td>0.475198</td>\n",
       "    </tr>\n",
       "    <tr>\n",
       "      <th>Wont Watch</th>\n",
       "      <td>0.310078</td>\n",
       "      <td>0.268293</td>\n",
       "      <td>0.289683</td>\n",
       "    </tr>\n",
       "  </tbody>\n",
       "</table>\n",
       "</div>"
      ],
      "text/plain": [
       "Sex            Female      Male       All\n",
       "Plan                                     \n",
       "Commercials  0.302326  0.164634  0.235119\n",
       "Game         0.387597  0.567073  0.475198\n",
       "Wont Watch   0.310078  0.268293  0.289683"
      ]
     },
     "execution_count": 178,
     "metadata": {},
     "output_type": "execute_result"
    }
   ],
   "source": [
    "superbowl = pd.read_csv(\"http://nhorton.people.amherst.edu/is5/data/Watch_the_Super_bowl.csv\", header = 1)\n",
    "\n",
    "table = pd.crosstab(index = superbowl[\"Plan\"], columns = superbowl[\"Sex\"], margins = True, normalize = \"columns\")\n",
    "table"
   ]
  },
  {
   "cell_type": "markdown",
   "id": "4890d190",
   "metadata": {},
   "source": [
    "#### Example 3.4: Looking for Associations Between Variables: Still Watching the Super Bowl"
   ]
  },
  {
   "cell_type": "code",
   "execution_count": 252,
   "id": "da2de224",
   "metadata": {},
   "outputs": [
    {
     "data": {
      "image/png": "[encoded data removed]",
      "text/plain": [
       "<Figure size 864x360 with 2 Axes>"
      ]
     },
     "metadata": {
      "needs_background": "light"
     },
     "output_type": "display_data"
    }
   ],
   "source": [
    "superbowl = pd.read_csv(\"http://nhorton.people.amherst.edu/is5/data/Watch_the_Super_bowl.csv\", header = 1)\n",
    "\n",
    "table = pd.crosstab(index = superbowl[\"Plan\"], columns = superbowl[\"Sex\"], margins = True, normalize = \"columns\")\n",
    "\n",
    "fig,ax = plt.subplots(1, 2, figsize = (12, 5), sharey = True)\n",
    "ax[0].bar(x = table.index, height = table[\"Female\"], color = \"orange\")\n",
    "ax[0].set_title(\"Women\")\n",
    "ax[0].set_ylabel(\"Percent\")\n",
    "ax[1].bar(x = table.index, height = table[\"Male\"], color = \"blue\")\n",
    "ax[1].set_title(\"Men\")\n",
    "\n",
    "plt.show()"
   ]
  },
  {
   "cell_type": "markdown",
   "id": "4b6262a3",
   "metadata": {},
   "source": [
    "Question: I don't know how to replicate this plot in the book"
   ]
  }
 ],
 "metadata": {
  "kernelspec": {
   "display_name": "Python 3 (ipykernel)",
   "language": "python",
   "name": "python3"
  },
  "language_info": {
   "codemirror_mode": {
    "name": "ipython",
    "version": 3
   },
   "file_extension": ".py",
   "mimetype": "text/x-python",
   "name": "python",
   "nbconvert_exporter": "python",
   "pygments_lexer": "ipython3",
   "version": "3.9.12"
  }
 },
 "nbformat": 4,
 "nbformat_minor": 5
}
