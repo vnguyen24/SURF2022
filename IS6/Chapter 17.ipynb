{
 "cells": [
  {
   "cell_type": "markdown",
   "id": "2be431ae",
   "metadata": {},
   "source": [
    "## IS6 in Python: Comparing Groups (Chapter 17)\n",
    "\n",
    "### Introduction and background\n",
    "\n",
    "This document is intended to assist students in undertaking examples shown in the Sixth Edition of Intro Stats (2022) by De Veaux, Velleman, and Bock. This pdf file as well as the associated ipynb reproducible analysis source file used to create it can be found at (INSERT WEBSITE LINK HERE)."
   ]
  },
  {
   "cell_type": "markdown",
   "id": "27364881",
   "metadata": {},
   "source": [
    "#### Chapter 17: Comparing Groups"
   ]
  },
  {
   "cell_type": "code",
   "execution_count": 21,
   "id": "d5dc471b",
   "metadata": {},
   "outputs": [],
   "source": [
    "# Read in libraries\n",
    "import pandas as pd\n",
    "import numpy as np\n",
    "from scipy.stats import norm"
   ]
  },
  {
   "cell_type": "markdown",
   "id": "6e7c00ad",
   "metadata": {},
   "source": [
    "#### Section 17.1: A Confidence Interval for the Difference Between Two Proportions"
   ]
  },
  {
   "cell_type": "code",
   "execution_count": 22,
   "id": "81cfcff5",
   "metadata": {},
   "outputs": [
    {
     "data": {
      "text/html": [
       "<div>\n",
       "<style scoped>\n",
       "    .dataframe tbody tr th:only-of-type {\n",
       "        vertical-align: middle;\n",
       "    }\n",
       "\n",
       "    .dataframe tbody tr th {\n",
       "        vertical-align: top;\n",
       "    }\n",
       "\n",
       "    .dataframe thead th {\n",
       "        text-align: right;\n",
       "    }\n",
       "</style>\n",
       "<table border=\"1\" class=\"dataframe\">\n",
       "  <thead>\n",
       "    <tr style=\"text-align: right;\">\n",
       "      <th></th>\n",
       "      <th>passenger</th>\n",
       "      <th>belted</th>\n",
       "    </tr>\n",
       "  </thead>\n",
       "  <tbody>\n",
       "    <tr>\n",
       "      <th>0</th>\n",
       "      <td>F</td>\n",
       "      <td>True</td>\n",
       "    </tr>\n",
       "    <tr>\n",
       "      <th>1</th>\n",
       "      <td>F</td>\n",
       "      <td>True</td>\n",
       "    </tr>\n",
       "    <tr>\n",
       "      <th>2</th>\n",
       "      <td>F</td>\n",
       "      <td>True</td>\n",
       "    </tr>\n",
       "    <tr>\n",
       "      <th>3</th>\n",
       "      <td>F</td>\n",
       "      <td>True</td>\n",
       "    </tr>\n",
       "    <tr>\n",
       "      <th>4</th>\n",
       "      <td>F</td>\n",
       "      <td>True</td>\n",
       "    </tr>\n",
       "  </tbody>\n",
       "</table>\n",
       "</div>"
      ],
      "text/plain": [
       "  passenger belted\n",
       "0         F   True\n",
       "1         F   True\n",
       "2         F   True\n",
       "3         F   True\n",
       "4         F   True"
      ]
     },
     "execution_count": 22,
     "metadata": {},
     "output_type": "execute_result"
    }
   ],
   "source": [
    "#Create dataframe for seatbelts\n",
    "seatbelts = np.array([\"F\", True] * 2777 + [\"F\", False] * (4208 - 2777) + [\"M\", True] * 1363 + [\"M\", False] * (2763 - 1363)).reshape(-1,2)\n",
    "seatbelts = pd.DataFrame(seatbelts, columns = [\"passenger\", \"belted\"])\n",
    "seatbelts.head()"
   ]
  },
  {
   "cell_type": "markdown",
   "id": "86efae54",
   "metadata": {},
   "source": [
    "Question: \n",
    "- What is the diffmean() equivalent in Python?\n",
    "- What is the resample() equivalent in Python? Note, the dataframe.resample() can only work with time series"
   ]
  },
  {
   "cell_type": "markdown",
   "id": "b807ecf9",
   "metadata": {},
   "source": [
    "#### Example 17.1:  Finding the Standard Error of a Difference in Proportions"
   ]
  },
  {
   "cell_type": "code",
   "execution_count": 23,
   "id": "0a047104",
   "metadata": {},
   "outputs": [
    {
     "data": {
      "text/html": [
       "<div>\n",
       "<style scoped>\n",
       "    .dataframe tbody tr th:only-of-type {\n",
       "        vertical-align: middle;\n",
       "    }\n",
       "\n",
       "    .dataframe tbody tr th {\n",
       "        vertical-align: top;\n",
       "    }\n",
       "\n",
       "    .dataframe thead th {\n",
       "        text-align: right;\n",
       "    }\n",
       "</style>\n",
       "<table border=\"1\" class=\"dataframe\">\n",
       "  <thead>\n",
       "    <tr style=\"text-align: right;\">\n",
       "      <th></th>\n",
       "      <th>gender</th>\n",
       "      <th>profile</th>\n",
       "    </tr>\n",
       "  </thead>\n",
       "  <tbody>\n",
       "    <tr>\n",
       "      <th>0</th>\n",
       "      <td>M</td>\n",
       "      <td>True</td>\n",
       "    </tr>\n",
       "    <tr>\n",
       "      <th>1</th>\n",
       "      <td>M</td>\n",
       "      <td>True</td>\n",
       "    </tr>\n",
       "    <tr>\n",
       "      <th>2</th>\n",
       "      <td>M</td>\n",
       "      <td>True</td>\n",
       "    </tr>\n",
       "    <tr>\n",
       "      <th>3</th>\n",
       "      <td>M</td>\n",
       "      <td>True</td>\n",
       "    </tr>\n",
       "    <tr>\n",
       "      <th>4</th>\n",
       "      <td>M</td>\n",
       "      <td>True</td>\n",
       "    </tr>\n",
       "  </tbody>\n",
       "</table>\n",
       "</div>"
      ],
      "text/plain": [
       "  gender profile\n",
       "0      M    True\n",
       "1      M    True\n",
       "2      M    True\n",
       "3      M    True\n",
       "4      M    True"
      ]
     },
     "execution_count": 23,
     "metadata": {},
     "output_type": "execute_result"
    }
   ],
   "source": [
    "#Create dataframe for online profiles\n",
    "online = np.array([\"M\", True] * 141 + [\"M\", False] * 107 + [\"F\", True] * 179 + [\"F\", False] * 77).reshape(-1,2)\n",
    "online = pd.DataFrame(online, columns = [\"gender\", \"profile\"])\n",
    "online.head()"
   ]
  },
  {
   "cell_type": "code",
   "execution_count": 24,
   "id": "4b446a69",
   "metadata": {},
   "outputs": [
    {
     "name": "stdout",
     "output_type": "stream",
     "text": [
      "        profile\n",
      "gender         \n",
      "F           256\n",
      "M           248\n"
     ]
    }
   ],
   "source": [
    "print(online.groupby(\"gender\").count())"
   ]
  },
  {
   "cell_type": "code",
   "execution_count": 25,
   "id": "98f4874a",
   "metadata": {},
   "outputs": [
    {
     "name": "stdout",
     "output_type": "stream",
     "text": [
      "number of males: 248\n"
     ]
    }
   ],
   "source": [
    "male = online[online[\"gender\"] == \"M\"]\n",
    "num_male = male[\"gender\"].count()\n",
    "print(f\"number of males: {num_male}\")"
   ]
  },
  {
   "cell_type": "code",
   "execution_count": 26,
   "id": "a4cb5140",
   "metadata": {},
   "outputs": [
    {
     "name": "stdout",
     "output_type": "stream",
     "text": [
      "proportion of yes male profile: 0.5685483870967742\n"
     ]
    }
   ],
   "source": [
    "num_yes_m = male[male[\"profile\"] == \"True\"]\n",
    "num_yes_m = num_yes_m[\"profile\"].count()\n",
    "prop_yes_m = num_yes_m / 248\n",
    "print(f\"proportion of yes male profile: {prop_yes_m}\")"
   ]
  },
  {
   "cell_type": "code",
   "execution_count": 27,
   "id": "0295b471",
   "metadata": {},
   "outputs": [
    {
     "name": "stdout",
     "output_type": "stream",
     "text": [
      "standard error of male: 0.03145023710270326\n"
     ]
    }
   ],
   "source": [
    "se_male = ((prop_yes_m * (1 - prop_yes_m)) / num_male) ** 0.5\n",
    "print(f\"standard error of male: {se_male}\")"
   ]
  },
  {
   "cell_type": "code",
   "execution_count": 28,
   "id": "8bb69a03",
   "metadata": {},
   "outputs": [
    {
     "name": "stdout",
     "output_type": "stream",
     "text": [
      "number of females: 256\n"
     ]
    }
   ],
   "source": [
    "female = online[online[\"gender\"] == \"F\"]\n",
    "num_female = female[\"gender\"].count()\n",
    "print(f\"number of females: {num_female}\")"
   ]
  },
  {
   "cell_type": "code",
   "execution_count": 29,
   "id": "e00cb432",
   "metadata": {},
   "outputs": [
    {
     "name": "stdout",
     "output_type": "stream",
     "text": [
      "proportion of yes female profile: 0.69921875\n"
     ]
    }
   ],
   "source": [
    "num_yes_f = female[female[\"profile\"] == \"True\"]\n",
    "num_yes_f = num_yes_f[\"profile\"].count()\n",
    "prop_yes_f = num_yes_f / 256\n",
    "print(f\"proportion of yes female profile: {prop_yes_f}\")"
   ]
  },
  {
   "cell_type": "code",
   "execution_count": 30,
   "id": "10552242",
   "metadata": {},
   "outputs": [
    {
     "name": "stdout",
     "output_type": "stream",
     "text": [
      "standard error of female: 0.028662358921400885\n"
     ]
    }
   ],
   "source": [
    "se_female = ((prop_yes_f * (1 - prop_yes_f)) / num_female) ** 0.5\n",
    "print(f\"standard error of female: {se_female}\")"
   ]
  },
  {
   "cell_type": "code",
   "execution_count": 31,
   "id": "268aa976",
   "metadata": {},
   "outputs": [
    {
     "name": "stdout",
     "output_type": "stream",
     "text": [
      "overall SE: 0.04255171245385386\n"
     ]
    }
   ],
   "source": [
    "sep = (se_male ** 2 + se_female ** 2) ** 0.5\n",
    "print(f\"overall SE: {sep}\")"
   ]
  },
  {
   "cell_type": "markdown",
   "id": "d5999f4e",
   "metadata": {},
   "source": [
    "#### Example 17.2: Finding a Two-Proportion z-Interval "
   ]
  },
  {
   "cell_type": "code",
   "execution_count": 33,
   "id": "33a0eb40",
   "metadata": {},
   "outputs": [
    {
     "name": "stdout",
     "output_type": "stream",
     "text": [
      "[0.04727054 0.21407019]\n"
     ]
    }
   ],
   "source": [
    "zstats = norm.ppf([.025, .975])\n",
    "print((prop_yes_f - prop_yes_m) + zstats * sep)"
   ]
  },
  {
   "cell_type": "markdown",
   "id": "d434359f",
   "metadata": {},
   "source": [
    "Question: What is the prop.test() equivalent in Python?"
   ]
  },
  {
   "cell_type": "markdown",
   "id": "fb232a31",
   "metadata": {},
   "source": [
    "#### Section 17.2: Assumptions and Conditions for Comparing Proportions\n",
    "#### Section 17.3: The Two-Sample z-Test: Testing for the Difference Between Proportions\n",
    "#### Step-By-Step Example: A Two-Proportion z-Test"
   ]
  },
  {
   "cell_type": "code",
   "execution_count": null,
   "id": "ec4cd6a8",
   "metadata": {},
   "outputs": [],
   "source": []
  }
 ],
 "metadata": {
  "kernelspec": {
   "display_name": "Python 3 (ipykernel)",
   "language": "python",
   "name": "python3"
  },
  "language_info": {
   "codemirror_mode": {
    "name": "ipython",
    "version": 3
   },
   "file_extension": ".py",
   "mimetype": "text/x-python",
   "name": "python",
   "nbconvert_exporter": "python",
   "pygments_lexer": "ipython3",
   "version": "3.9.12"
  }
 },
 "nbformat": 4,
 "nbformat_minor": 5
}
