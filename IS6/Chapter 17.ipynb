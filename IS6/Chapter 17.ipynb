{
 "cells": [
  {
   "cell_type": "markdown",
   "id": "2be431ae",
   "metadata": {},
   "source": [
    "## IS6 in Python: Comparing Groups (Chapter 17)\n",
    "\n",
    "### Introduction and background\n",
    "\n",
    "This document is intended to assist students in undertaking examples shown in the Sixth Edition of Intro Stats (2022) by De Veaux, Velleman, and Bock. This pdf file as well as the associated ipynb reproducible analysis source file used to create it can be found at (INSERT WEBSITE LINK HERE)."
   ]
  },
  {
   "cell_type": "markdown",
   "id": "27364881",
   "metadata": {},
   "source": [
    "#### Chapter 17: Comparing Groups"
   ]
  },
  {
   "cell_type": "code",
   "execution_count": 88,
   "id": "d5dc471b",
   "metadata": {},
   "outputs": [],
   "source": [
    "# Read in libraries\n",
    "import pandas as pd\n",
    "import numpy as np\n",
    "from scipy.stats import norm, t\n",
    "import matplotlib.pyplot as plt\n",
    "import seaborn as sns\n",
    "from scipy.stats import ttest_ind"
   ]
  },
  {
   "cell_type": "markdown",
   "id": "6e7c00ad",
   "metadata": {},
   "source": [
    "#### Section 17.1: A Confidence Interval for the Difference Between Two Proportions"
   ]
  },
  {
   "cell_type": "code",
   "execution_count": 41,
   "id": "81cfcff5",
   "metadata": {},
   "outputs": [
    {
     "data": {
      "text/html": [
       "<div>\n",
       "<style scoped>\n",
       "    .dataframe tbody tr th:only-of-type {\n",
       "        vertical-align: middle;\n",
       "    }\n",
       "\n",
       "    .dataframe tbody tr th {\n",
       "        vertical-align: top;\n",
       "    }\n",
       "\n",
       "    .dataframe thead th {\n",
       "        text-align: right;\n",
       "    }\n",
       "</style>\n",
       "<table border=\"1\" class=\"dataframe\">\n",
       "  <thead>\n",
       "    <tr style=\"text-align: right;\">\n",
       "      <th></th>\n",
       "      <th>passenger</th>\n",
       "      <th>belted</th>\n",
       "    </tr>\n",
       "  </thead>\n",
       "  <tbody>\n",
       "    <tr>\n",
       "      <th>0</th>\n",
       "      <td>F</td>\n",
       "      <td>True</td>\n",
       "    </tr>\n",
       "    <tr>\n",
       "      <th>1</th>\n",
       "      <td>F</td>\n",
       "      <td>True</td>\n",
       "    </tr>\n",
       "    <tr>\n",
       "      <th>2</th>\n",
       "      <td>F</td>\n",
       "      <td>True</td>\n",
       "    </tr>\n",
       "    <tr>\n",
       "      <th>3</th>\n",
       "      <td>F</td>\n",
       "      <td>True</td>\n",
       "    </tr>\n",
       "    <tr>\n",
       "      <th>4</th>\n",
       "      <td>F</td>\n",
       "      <td>True</td>\n",
       "    </tr>\n",
       "  </tbody>\n",
       "</table>\n",
       "</div>"
      ],
      "text/plain": [
       "  passenger belted\n",
       "0         F   True\n",
       "1         F   True\n",
       "2         F   True\n",
       "3         F   True\n",
       "4         F   True"
      ]
     },
     "execution_count": 41,
     "metadata": {},
     "output_type": "execute_result"
    }
   ],
   "source": [
    "#Create dataframe for seatbelts\n",
    "seatbelts = np.array([\"F\", True] * 2777 + [\"F\", False] * (4208 - 2777) + [\"M\", True] * 1363 + [\"M\", False] * (2763 - 1363)).reshape(-1,2)\n",
    "seatbelts = pd.DataFrame(seatbelts, columns = [\"passenger\", \"belted\"])\n",
    "seatbelts.head()"
   ]
  },
  {
   "cell_type": "markdown",
   "id": "86efae54",
   "metadata": {},
   "source": [
    "Question: \n",
    "- What is the diffmean() equivalent in Python?\n",
    "- What is the resample() equivalent in Python? Note, the dataframe.resample() can only work with time series"
   ]
  },
  {
   "cell_type": "markdown",
   "id": "b807ecf9",
   "metadata": {},
   "source": [
    "#### Example 17.1:  Finding the Standard Error of a Difference in Proportions"
   ]
  },
  {
   "cell_type": "code",
   "execution_count": 42,
   "id": "0a047104",
   "metadata": {},
   "outputs": [
    {
     "data": {
      "text/html": [
       "<div>\n",
       "<style scoped>\n",
       "    .dataframe tbody tr th:only-of-type {\n",
       "        vertical-align: middle;\n",
       "    }\n",
       "\n",
       "    .dataframe tbody tr th {\n",
       "        vertical-align: top;\n",
       "    }\n",
       "\n",
       "    .dataframe thead th {\n",
       "        text-align: right;\n",
       "    }\n",
       "</style>\n",
       "<table border=\"1\" class=\"dataframe\">\n",
       "  <thead>\n",
       "    <tr style=\"text-align: right;\">\n",
       "      <th></th>\n",
       "      <th>gender</th>\n",
       "      <th>profile</th>\n",
       "    </tr>\n",
       "  </thead>\n",
       "  <tbody>\n",
       "    <tr>\n",
       "      <th>0</th>\n",
       "      <td>M</td>\n",
       "      <td>True</td>\n",
       "    </tr>\n",
       "    <tr>\n",
       "      <th>1</th>\n",
       "      <td>M</td>\n",
       "      <td>True</td>\n",
       "    </tr>\n",
       "    <tr>\n",
       "      <th>2</th>\n",
       "      <td>M</td>\n",
       "      <td>True</td>\n",
       "    </tr>\n",
       "    <tr>\n",
       "      <th>3</th>\n",
       "      <td>M</td>\n",
       "      <td>True</td>\n",
       "    </tr>\n",
       "    <tr>\n",
       "      <th>4</th>\n",
       "      <td>M</td>\n",
       "      <td>True</td>\n",
       "    </tr>\n",
       "  </tbody>\n",
       "</table>\n",
       "</div>"
      ],
      "text/plain": [
       "  gender profile\n",
       "0      M    True\n",
       "1      M    True\n",
       "2      M    True\n",
       "3      M    True\n",
       "4      M    True"
      ]
     },
     "execution_count": 42,
     "metadata": {},
     "output_type": "execute_result"
    }
   ],
   "source": [
    "#Create dataframe for online profiles\n",
    "online = np.array([\"M\", True] * 141 + [\"M\", False] * 107 + [\"F\", True] * 179 + [\"F\", False] * 77).reshape(-1,2)\n",
    "online = pd.DataFrame(online, columns = [\"gender\", \"profile\"])\n",
    "online.head()"
   ]
  },
  {
   "cell_type": "code",
   "execution_count": 43,
   "id": "4b446a69",
   "metadata": {},
   "outputs": [
    {
     "name": "stdout",
     "output_type": "stream",
     "text": [
      "        profile\n",
      "gender         \n",
      "F           256\n",
      "M           248\n"
     ]
    }
   ],
   "source": [
    "print(online.groupby(\"gender\").count())"
   ]
  },
  {
   "cell_type": "code",
   "execution_count": 44,
   "id": "98f4874a",
   "metadata": {},
   "outputs": [
    {
     "name": "stdout",
     "output_type": "stream",
     "text": [
      "number of males: 248\n"
     ]
    }
   ],
   "source": [
    "male = online[online[\"gender\"] == \"M\"]\n",
    "num_male = male[\"gender\"].count()\n",
    "print(f\"number of males: {num_male}\")"
   ]
  },
  {
   "cell_type": "code",
   "execution_count": 45,
   "id": "a4cb5140",
   "metadata": {},
   "outputs": [
    {
     "name": "stdout",
     "output_type": "stream",
     "text": [
      "proportion of yes male profile: 0.5685483870967742\n"
     ]
    }
   ],
   "source": [
    "num_yes_m = male[male[\"profile\"] == \"True\"]\n",
    "num_yes_m = num_yes_m[\"profile\"].count()\n",
    "prop_yes_m = num_yes_m / 248\n",
    "print(f\"proportion of yes male profile: {prop_yes_m}\")"
   ]
  },
  {
   "cell_type": "code",
   "execution_count": 46,
   "id": "0295b471",
   "metadata": {},
   "outputs": [
    {
     "name": "stdout",
     "output_type": "stream",
     "text": [
      "standard error of male: 0.03145023710270326\n"
     ]
    }
   ],
   "source": [
    "se_male = ((prop_yes_m * (1 - prop_yes_m)) / num_male) ** 0.5\n",
    "print(f\"standard error of male: {se_male}\")"
   ]
  },
  {
   "cell_type": "code",
   "execution_count": 47,
   "id": "8bb69a03",
   "metadata": {},
   "outputs": [
    {
     "name": "stdout",
     "output_type": "stream",
     "text": [
      "number of females: 256\n"
     ]
    }
   ],
   "source": [
    "female = online[online[\"gender\"] == \"F\"]\n",
    "num_female = female[\"gender\"].count()\n",
    "print(f\"number of females: {num_female}\")"
   ]
  },
  {
   "cell_type": "code",
   "execution_count": 48,
   "id": "e00cb432",
   "metadata": {},
   "outputs": [
    {
     "name": "stdout",
     "output_type": "stream",
     "text": [
      "proportion of yes female profile: 0.69921875\n"
     ]
    }
   ],
   "source": [
    "num_yes_f = female[female[\"profile\"] == \"True\"]\n",
    "num_yes_f = num_yes_f[\"profile\"].count()\n",
    "prop_yes_f = num_yes_f / 256\n",
    "print(f\"proportion of yes female profile: {prop_yes_f}\")"
   ]
  },
  {
   "cell_type": "code",
   "execution_count": 49,
   "id": "10552242",
   "metadata": {},
   "outputs": [
    {
     "name": "stdout",
     "output_type": "stream",
     "text": [
      "standard error of female: 0.028662358921400885\n"
     ]
    }
   ],
   "source": [
    "se_female = ((prop_yes_f * (1 - prop_yes_f)) / num_female) ** 0.5\n",
    "print(f\"standard error of female: {se_female}\")"
   ]
  },
  {
   "cell_type": "code",
   "execution_count": 50,
   "id": "268aa976",
   "metadata": {},
   "outputs": [
    {
     "name": "stdout",
     "output_type": "stream",
     "text": [
      "overall SE: 0.04255171245385386\n"
     ]
    }
   ],
   "source": [
    "sep = (se_male ** 2 + se_female ** 2) ** 0.5\n",
    "print(f\"overall SE: {sep}\")"
   ]
  },
  {
   "cell_type": "markdown",
   "id": "d5999f4e",
   "metadata": {},
   "source": [
    "#### Example 17.2: Finding a Two-Proportion z-Interval "
   ]
  },
  {
   "cell_type": "code",
   "execution_count": 51,
   "id": "33a0eb40",
   "metadata": {},
   "outputs": [
    {
     "name": "stdout",
     "output_type": "stream",
     "text": [
      "[0.04727054 0.21407019]\n"
     ]
    }
   ],
   "source": [
    "zstats = norm.ppf([.025, .975])\n",
    "print((prop_yes_f - prop_yes_m) + zstats * sep)"
   ]
  },
  {
   "cell_type": "markdown",
   "id": "d434359f",
   "metadata": {},
   "source": [
    "Question: What is the prop.test() equivalent in Python?"
   ]
  },
  {
   "cell_type": "markdown",
   "id": "fb232a31",
   "metadata": {},
   "source": [
    "#### Section 17.2: Assumptions and Conditions for Comparing Proportions\n",
    "#### Section 17.3: The Two-Sample z-Test: Testing for the Difference Between Proportions\n",
    "#### Step-By-Step Example: A Two-Proportion z-Test"
   ]
  },
  {
   "cell_type": "code",
   "execution_count": 52,
   "id": "ec4cd6a8",
   "metadata": {},
   "outputs": [
    {
     "data": {
      "text/html": [
       "<div>\n",
       "<style scoped>\n",
       "    .dataframe tbody tr th:only-of-type {\n",
       "        vertical-align: middle;\n",
       "    }\n",
       "\n",
       "    .dataframe tbody tr th {\n",
       "        vertical-align: top;\n",
       "    }\n",
       "\n",
       "    .dataframe thead th {\n",
       "        text-align: right;\n",
       "    }\n",
       "</style>\n",
       "<table border=\"1\" class=\"dataframe\">\n",
       "  <thead>\n",
       "    <tr style=\"text-align: right;\">\n",
       "      <th></th>\n",
       "      <th>gen</th>\n",
       "      <th>internet</th>\n",
       "    </tr>\n",
       "  </thead>\n",
       "  <tbody>\n",
       "    <tr>\n",
       "      <th>0</th>\n",
       "      <td>GenY</td>\n",
       "      <td>True</td>\n",
       "    </tr>\n",
       "    <tr>\n",
       "      <th>1</th>\n",
       "      <td>GenY</td>\n",
       "      <td>True</td>\n",
       "    </tr>\n",
       "    <tr>\n",
       "      <th>2</th>\n",
       "      <td>GenY</td>\n",
       "      <td>True</td>\n",
       "    </tr>\n",
       "    <tr>\n",
       "      <th>3</th>\n",
       "      <td>GenY</td>\n",
       "      <td>True</td>\n",
       "    </tr>\n",
       "    <tr>\n",
       "      <th>4</th>\n",
       "      <td>GenY</td>\n",
       "      <td>True</td>\n",
       "    </tr>\n",
       "  </tbody>\n",
       "</table>\n",
       "</div>"
      ],
      "text/plain": [
       "    gen internet\n",
       "0  GenY     True\n",
       "1  GenY     True\n",
       "2  GenY     True\n",
       "3  GenY     True\n",
       "4  GenY     True"
      ]
     },
     "execution_count": 52,
     "metadata": {},
     "output_type": "execute_result"
    }
   ],
   "source": [
    "#Create dataframe for sleep habits\n",
    "sleep = np.array([\"GenY\", True] * 205 + [\"GenY\", False] * (293 - 205) + [\"GenX\", True] * 235 + [\"GenX\", False] * (469 - 235)).reshape(-1,2)\n",
    "sleep = pd.DataFrame(sleep, columns = [\"gen\", \"internet\"])\n",
    "sleep.head()"
   ]
  },
  {
   "cell_type": "code",
   "execution_count": 53,
   "id": "1202bf0d",
   "metadata": {},
   "outputs": [
    {
     "name": "stdout",
     "output_type": "stream",
     "text": [
      "293\n"
     ]
    }
   ],
   "source": [
    "#Mechanics\n",
    "#n for GenY\n",
    "n_y = sleep[sleep[\"gen\"] == \"GenY\"].count()[0]\n",
    "print(n_y)"
   ]
  },
  {
   "cell_type": "code",
   "execution_count": 54,
   "id": "86f16178",
   "metadata": {},
   "outputs": [
    {
     "name": "stdout",
     "output_type": "stream",
     "text": [
      "205\n"
     ]
    }
   ],
   "source": [
    "#y for GenY\n",
    "y_y = sleep[(sleep[\"gen\"] == \"GenY\") & (sleep[\"internet\"] == \"True\")].count()[0]\n",
    "print(y_y)"
   ]
  },
  {
   "cell_type": "code",
   "execution_count": 55,
   "id": "2ffe1f47",
   "metadata": {},
   "outputs": [
    {
     "name": "stdout",
     "output_type": "stream",
     "text": [
      "0.6996587030716723\n"
     ]
    }
   ],
   "source": [
    "#proportion for GenY\n",
    "p_y = y_y / n_y\n",
    "print(p_y)"
   ]
  },
  {
   "cell_type": "code",
   "execution_count": 56,
   "id": "be91842e",
   "metadata": {},
   "outputs": [
    {
     "name": "stdout",
     "output_type": "stream",
     "text": [
      "469\n"
     ]
    }
   ],
   "source": [
    "#n for GenX\n",
    "n_x = sleep[sleep[\"gen\"] == \"GenX\"].count()[0]\n",
    "print(n_x)"
   ]
  },
  {
   "cell_type": "code",
   "execution_count": 57,
   "id": "6679d92f",
   "metadata": {},
   "outputs": [
    {
     "name": "stdout",
     "output_type": "stream",
     "text": [
      "235\n"
     ]
    }
   ],
   "source": [
    "#y for GenX\n",
    "y_x = sleep[(sleep[\"gen\"] == \"GenX\") & (sleep[\"internet\"] == \"True\")].count()[0]\n",
    "print(y_x)"
   ]
  },
  {
   "cell_type": "code",
   "execution_count": 58,
   "id": "400f628e",
   "metadata": {},
   "outputs": [
    {
     "name": "stdout",
     "output_type": "stream",
     "text": [
      "0.5010660980810234\n"
     ]
    }
   ],
   "source": [
    "#proportion for GenX\n",
    "p_x = y_x / n_x\n",
    "print(p_x)"
   ]
  },
  {
   "cell_type": "code",
   "execution_count": 59,
   "id": "aaa9fee8",
   "metadata": {},
   "outputs": [
    {
     "name": "stdout",
     "output_type": "stream",
     "text": [
      "0.03535867225219601\n"
     ]
    }
   ],
   "source": [
    "#overall SE\n",
    "sepgen = ((p_y * (1 - p_y)) / n_y + (p_x * (1 - p_x)) / n_x) ** 0.5\n",
    "print(sepgen)"
   ]
  },
  {
   "cell_type": "code",
   "execution_count": 60,
   "id": "4b151782",
   "metadata": {},
   "outputs": [
    {
     "name": "stdout",
     "output_type": "stream",
     "text": [
      "0.1985926049906489\n"
     ]
    }
   ],
   "source": [
    "#Difference between proportions\n",
    "pdiff = p_y - p_x\n",
    "print(pdiff)"
   ]
  },
  {
   "cell_type": "code",
   "execution_count": 61,
   "id": "01558b01",
   "metadata": {},
   "outputs": [
    {
     "name": "stdout",
     "output_type": "stream",
     "text": [
      "5.616517599252188\n"
     ]
    }
   ],
   "source": [
    "z = (pdiff - 0) / sepgen\n",
    "print(z)"
   ]
  },
  {
   "cell_type": "code",
   "execution_count": 65,
   "id": "f4096501",
   "metadata": {},
   "outputs": [
    {
     "name": "stdout",
     "output_type": "stream",
     "text": [
      "1.9484441249264696e-08\n"
     ]
    }
   ],
   "source": [
    "print(2 * norm.sf(x = z))"
   ]
  },
  {
   "cell_type": "markdown",
   "id": "96e83a17",
   "metadata": {},
   "source": [
    "#### Section 17.4: A Confidence Interval for the Difference Between Two Means\n",
    "#### Example 17.7: Finding a Confidence Interval for the Difference in Sample Means\n",
    "We can calculate the confidence interval using summary statistics."
   ]
  },
  {
   "cell_type": "code",
   "execution_count": 71,
   "id": "098b2409",
   "metadata": {},
   "outputs": [
    {
     "name": "stdout",
     "output_type": "stream",
     "text": [
      "[-2.01122593  2.01122593]\n"
     ]
    }
   ],
   "source": [
    "# page 585\n",
    "# n for ordinary bowls\n",
    "nord = 27 \n",
    "# n for refilling bowls\n",
    "nref = 27 \n",
    "# y for ordinary bowls\n",
    "yord = 8.5 \n",
    "# y for refilling bowls\n",
    "yref = 14.7 \n",
    "# standard deviation for ordinary bowls\n",
    "sord = 6.1 \n",
    "# standard deviation for refilling bowls\n",
    "sref = 8.4 \n",
    "# overall SE\n",
    "seys = 2.0 \n",
    "# difference between y's is 6.2\n",
    "diffy = yref - yord \n",
    "#t.ppf() is the inverse of cdf. In other words, ppf() is the inverse cumulative density function using a student-t distribution\n",
    "tstats = t.ppf(q = [.025, .975], df = 47.46)\n",
    "print(tstats)"
   ]
  },
  {
   "cell_type": "code",
   "execution_count": 72,
   "id": "085dd935",
   "metadata": {},
   "outputs": [
    {
     "name": "stdout",
     "output_type": "stream",
     "text": [
      "[-4.02245186  4.02245186]\n"
     ]
    }
   ],
   "source": [
    "# margin of error\n",
    "me = tstats * seys\n",
    "print(me)"
   ]
  },
  {
   "cell_type": "code",
   "execution_count": 73,
   "id": "6762020c",
   "metadata": {},
   "outputs": [
    {
     "name": "stdout",
     "output_type": "stream",
     "text": [
      "[ 2.17754814 10.22245186]\n"
     ]
    }
   ],
   "source": [
    "# confidence interval\n",
    "print(diffy + me)"
   ]
  },
  {
   "cell_type": "markdown",
   "id": "8b81287d",
   "metadata": {},
   "source": [
    "#### Section 17.5: The Two-Sample t-Test: Testing for the Difference Between Two Means\n",
    "#### Step-By-Step Example: A Two-Sample t-Test for the Difference Between Two Means"
   ]
  },
  {
   "cell_type": "code",
   "execution_count": 74,
   "id": "2c866325",
   "metadata": {},
   "outputs": [
    {
     "data": {
      "text/html": [
       "<div>\n",
       "<style scoped>\n",
       "    .dataframe tbody tr th:only-of-type {\n",
       "        vertical-align: middle;\n",
       "    }\n",
       "\n",
       "    .dataframe tbody tr th {\n",
       "        vertical-align: top;\n",
       "    }\n",
       "\n",
       "    .dataframe thead th {\n",
       "        text-align: right;\n",
       "    }\n",
       "</style>\n",
       "<table border=\"1\" class=\"dataframe\">\n",
       "  <thead>\n",
       "    <tr style=\"text-align: right;\">\n",
       "      <th></th>\n",
       "      <th>Friend</th>\n",
       "      <th>Stranger</th>\n",
       "    </tr>\n",
       "  </thead>\n",
       "  <tbody>\n",
       "    <tr>\n",
       "      <th>0</th>\n",
       "      <td>275</td>\n",
       "      <td>260.0</td>\n",
       "    </tr>\n",
       "    <tr>\n",
       "      <th>1</th>\n",
       "      <td>300</td>\n",
       "      <td>250.0</td>\n",
       "    </tr>\n",
       "    <tr>\n",
       "      <th>2</th>\n",
       "      <td>260</td>\n",
       "      <td>175.0</td>\n",
       "    </tr>\n",
       "    <tr>\n",
       "      <th>3</th>\n",
       "      <td>300</td>\n",
       "      <td>130.0</td>\n",
       "    </tr>\n",
       "    <tr>\n",
       "      <th>4</th>\n",
       "      <td>255</td>\n",
       "      <td>200.0</td>\n",
       "    </tr>\n",
       "  </tbody>\n",
       "</table>\n",
       "</div>"
      ],
      "text/plain": [
       "   Friend  Stranger\n",
       "0     275     260.0\n",
       "1     300     250.0\n",
       "2     260     175.0\n",
       "3     300     130.0\n",
       "4     255     200.0"
      ]
     },
     "execution_count": 74,
     "metadata": {},
     "output_type": "execute_result"
    }
   ],
   "source": [
    "# Page 587\n",
    "buy = pd.read_csv(\"datasets/buy-from-a-friend.txt\", sep = \"\\t\")\n",
    "buy.head()"
   ]
  },
  {
   "cell_type": "code",
   "execution_count": 78,
   "id": "5d6a6126",
   "metadata": {},
   "outputs": [
    {
     "data": {
      "image/png": "[encoded data removed]",
      "text/plain": [
       "<Figure size 432x288 with 1 Axes>"
      ]
     },
     "metadata": {
      "needs_background": "light"
     },
     "output_type": "display_data"
    }
   ],
   "source": [
    "sns.boxplot(data = buy)\n",
    "plt.xlabel(\"Buying from\")\n",
    "plt.ylabel(\"Amount Offered ($)\")\n",
    "plt.show()"
   ]
  },
  {
   "cell_type": "code",
   "execution_count": 85,
   "id": "032a1561",
   "metadata": {},
   "outputs": [
    {
     "data": {
      "image/png": "[encoded data removed]",
      "text/plain": [
       "<Figure size 432x288 with 1 Axes>"
      ]
     },
     "metadata": {
      "needs_background": "light"
     },
     "output_type": "display_data"
    }
   ],
   "source": [
    "sns.histplot(data = buy[\"Friend\"], bins = 3)\n",
    "plt.xlabel(\"Buy from friend\")\n",
    "plt.show()"
   ]
  },
  {
   "cell_type": "code",
   "execution_count": 86,
   "id": "ec12ebca",
   "metadata": {},
   "outputs": [
    {
     "data": {
      "image/png": "[encoded data removed]",
      "text/plain": [
       "<Figure size 432x288 with 1 Axes>"
      ]
     },
     "metadata": {
      "needs_background": "light"
     },
     "output_type": "display_data"
    }
   ],
   "source": [
    "sns.histplot(data = buy[\"Stranger\"], bins = 4)\n",
    "plt.xlabel(\"Buy from stranger\")\n",
    "plt.show()"
   ]
  },
  {
   "cell_type": "markdown",
   "id": "b8f70bd6",
   "metadata": {},
   "source": [
    "We can replicate the analyses on pages 588 - 589"
   ]
  },
  {
   "cell_type": "code",
   "execution_count": 87,
   "id": "7d030b9a",
   "metadata": {},
   "outputs": [
    {
     "name": "stdout",
     "output_type": "stream",
     "text": [
      "           Friend    Stranger\n",
      "count    8.000000    7.000000\n",
      "mean   281.875000  211.428571\n",
      "std     18.310321   46.432234\n",
      "min    255.000000  130.000000\n",
      "25%    271.250000  187.500000\n",
      "50%    282.500000  225.000000\n",
      "75%    300.000000  245.000000\n",
      "max    300.000000  260.000000\n"
     ]
    }
   ],
   "source": [
    "print(buy.describe())"
   ]
  },
  {
   "cell_type": "code",
   "execution_count": 103,
   "id": "220bb332",
   "metadata": {},
   "outputs": [
    {
     "name": "stdout",
     "output_type": "stream",
     "text": [
      "p-values: 0.007284631910567961\n",
      "t-test: 3.601828317074927\n"
     ]
    }
   ],
   "source": [
    "buy = buy.dropna()\n",
    "# To perform Welch’s t-test, which does not assume equal population variance, use argument equal_var = False\n",
    "stat, p = ttest_ind(buy[\"Friend\"], buy[\"Stranger\"], equal_var = False)\n",
    "\n",
    "# Display the results\n",
    "print(\"p-values:\", p)\n",
    "print(\"t-test:\", stat)"
   ]
  },
  {
   "cell_type": "markdown",
   "id": "130a8b4e",
   "metadata": {},
   "source": [
    "Question: I need to double check the code above. I used the teaching code but did not get the same result shown in the book. One possible explanation is that my dataset is missing 1 example"
   ]
  },
  {
   "cell_type": "markdown",
   "id": "20b06bbb",
   "metadata": {},
   "source": [
    "#### Random Matters: Randomization Tests for The Difference Between Two Means"
   ]
  },
  {
   "cell_type": "code",
   "execution_count": 97,
   "id": "e2cad8b6",
   "metadata": {},
   "outputs": [
    {
     "data": {
      "text/html": [
       "<div>\n",
       "<style scoped>\n",
       "    .dataframe tbody tr th:only-of-type {\n",
       "        vertical-align: middle;\n",
       "    }\n",
       "\n",
       "    .dataframe tbody tr th {\n",
       "        vertical-align: top;\n",
       "    }\n",
       "\n",
       "    .dataframe thead th {\n",
       "        text-align: right;\n",
       "    }\n",
       "</style>\n",
       "<table border=\"1\" class=\"dataframe\">\n",
       "  <thead>\n",
       "    <tr style=\"text-align: right;\">\n",
       "      <th></th>\n",
       "      <th>direction</th>\n",
       "      <th>speed</th>\n",
       "    </tr>\n",
       "  </thead>\n",
       "  <tbody>\n",
       "    <tr>\n",
       "      <th>0</th>\n",
       "      <td>Up</td>\n",
       "      <td>22.77</td>\n",
       "    </tr>\n",
       "    <tr>\n",
       "      <th>1</th>\n",
       "      <td>Up</td>\n",
       "      <td>28.19</td>\n",
       "    </tr>\n",
       "    <tr>\n",
       "      <th>2</th>\n",
       "      <td>Down</td>\n",
       "      <td>20.96</td>\n",
       "    </tr>\n",
       "    <tr>\n",
       "      <th>3</th>\n",
       "      <td>Down</td>\n",
       "      <td>19.97</td>\n",
       "    </tr>\n",
       "    <tr>\n",
       "      <th>4</th>\n",
       "      <td>Up</td>\n",
       "      <td>30.12</td>\n",
       "    </tr>\n",
       "  </tbody>\n",
       "</table>\n",
       "</div>"
      ],
      "text/plain": [
       "  direction  speed\n",
       "0        Up  22.77\n",
       "1        Up  28.19\n",
       "2      Down  20.96\n",
       "3      Down  19.97\n",
       "4        Up  30.12"
      ]
     },
     "execution_count": 97,
     "metadata": {},
     "output_type": "execute_result"
    }
   ],
   "source": [
    "#Page 591 - 592\n",
    "car = pd.read_csv(\"datasets/car-speeds.txt\", sep = \"\\t\")\n",
    "car.head()"
   ]
  },
  {
   "cell_type": "code",
   "execution_count": 96,
   "id": "bdec493c",
   "metadata": {},
   "outputs": [
    {
     "name": "stdout",
     "output_type": "stream",
     "text": [
      "           speed                                                            \n",
      "           count      mean       std    min      25%     50%      75%    max\n",
      "direction                                                                   \n",
      "Down       250.0  22.71708  3.622006  10.27  20.4675  22.885  25.3525  32.95\n",
      "Up         250.0  25.25172  3.856331  15.08  22.4975  25.155  28.1600  34.97\n"
     ]
    }
   ],
   "source": [
    "print(car.groupby(\"direction\").describe())"
   ]
  },
  {
   "cell_type": "markdown",
   "id": "49800dea",
   "metadata": {},
   "source": [
    "Question: (same as above)\n",
    "- What is the diffmean() equivalent in Python?\n",
    "- What is the resample() equivalent in Python?\n",
    "- What is the qdata() equivalent in Python?\n",
    "\n",
    "Note: I think I know how how to shuffle() in Python, the only thing I need now is diffmean()"
   ]
  },
  {
   "cell_type": "markdown",
   "id": "dc03fa48",
   "metadata": {},
   "source": [
    "#### Section 17.7: Pooling"
   ]
  },
  {
   "cell_type": "code",
   "execution_count": 102,
   "id": "14f114aa",
   "metadata": {
    "scrolled": true
   },
   "outputs": [
    {
     "name": "stdout",
     "output_type": "stream",
     "text": [
      "p-values: 0.003633696538991698\n",
      "t-test: 3.601828317074927\n"
     ]
    }
   ],
   "source": [
    "buy = pd.read_csv(\"datasets/buy-from-a-friend.txt\", sep = \"\\t\")\n",
    "buy = buy.dropna()\n",
    "# The pooled variance ttest can be generated by using the option equal_var = True (which is by default)\n",
    "stat, p = ttest_ind(buy[\"Friend\"], buy[\"Stranger\"], equal_var = True)\n",
    "\n",
    "# Display the results\n",
    "print(\"p-values:\", p)\n",
    "print(\"t-test:\", stat)"
   ]
  },
  {
   "cell_type": "markdown",
   "id": "e3740e41",
   "metadata": {},
   "source": [
    "Question: Same as above, need to double check the code above. I used the teaching code but did not get the same result shown in the book. One possible explanation is that my dataset is missing 1 example. Also, I don't see this example in the new version"
   ]
  },
  {
   "cell_type": "markdown",
   "id": "a61a8e54",
   "metadata": {},
   "source": [
    "#### Section 17.8: The Standard Deviation of a Difference"
   ]
  }
 ],
 "metadata": {
  "kernelspec": {
   "display_name": "Python 3 (ipykernel)",
   "language": "python",
   "name": "python3"
  },
  "language_info": {
   "codemirror_mode": {
    "name": "ipython",
    "version": 3
   },
   "file_extension": ".py",
   "mimetype": "text/x-python",
   "name": "python",
   "nbconvert_exporter": "python",
   "pygments_lexer": "ipython3",
   "version": "3.9.12"
  }
 },
 "nbformat": 4,
 "nbformat_minor": 5
}
