{
 "cells": [
  {
   "cell_type": "markdown",
   "id": "2be431ae",
   "metadata": {},
   "source": [
    "## IS6 in Python: Linear Regression (Chapter 7)\n",
    "\n",
    "### Introduction and background\n",
    "\n",
    "This document is intended to assist students in undertaking examples shown in the Sixth Edition of Intro Stats (2022) by De Veaux, Velleman, and Bock. This pdf file as well as the associated ipynb reproducible analysis source file used to create it can be found at (INSERT WEBSITE LINK HERE)."
   ]
  },
  {
   "cell_type": "markdown",
   "id": "a2daf9a2",
   "metadata": {},
   "source": [
    "#### Chapter 7: Linear Regression"
   ]
  },
  {
   "cell_type": "code",
   "execution_count": 48,
   "id": "a607ac81",
   "metadata": {},
   "outputs": [],
   "source": [
    "#Import libraries\n",
    "import pandas as pd\n",
    "import matplotlib.pyplot as plt\n",
    "import seaborn as sns\n",
    "import numpy as np\n",
    "from sklearn.linear_model import LinearRegression\n",
    "import statsmodels.api as sm"
   ]
  },
  {
   "cell_type": "code",
   "execution_count": 7,
   "id": "40a6b19a",
   "metadata": {
    "scrolled": true
   },
   "outputs": [
    {
     "data": {
      "image/png": "[encoded data removed]",
      "text/plain": [
       "<Figure size 360x360 with 1 Axes>"
      ]
     },
     "metadata": {
      "needs_background": "light"
     },
     "output_type": "display_data"
    }
   ],
   "source": [
    "#Figure 7.1\n",
    "burger = pd.read_csv(\"datasets/burger-king-items.txt\", sep = \"\\t\")\n",
    "burger\n",
    "\n",
    "sns.lmplot(data = burger, x = \"Protein(g)\", y = \"Fat(g)\", lowess = True)\n",
    "plt.show()"
   ]
  },
  {
   "cell_type": "markdown",
   "id": "d415b531",
   "metadata": {},
   "source": [
    "#### Section 7.1: Least squares: The Line of \"Best Fit\"\n",
    "See display on page 208"
   ]
  },
  {
   "cell_type": "code",
   "execution_count": 68,
   "id": "020f0746",
   "metadata": {},
   "outputs": [
    {
     "name": "stdout",
     "output_type": "stream",
     "text": [
      "model's prediction: [36.70931166]\n"
     ]
    }
   ],
   "source": [
    "X = burger[\"Protein(g)\"].to_numpy()\n",
    "X = X.reshape(-1,1)\n",
    "y = burger[\"Fat(g)\"]\n",
    "\n",
    "model = LinearRegression().fit(X, y)\n",
    "print(f\"model's prediction: {model.predict(np.array([[31]]))}\")"
   ]
  },
  {
   "cell_type": "markdown",
   "id": "f302ed2d",
   "metadata": {},
   "source": [
    "Question: I don't know how extract the linear model out of the plot, and use it to calculate residual."
   ]
  },
  {
   "cell_type": "markdown",
   "id": "e0da049c",
   "metadata": {},
   "source": [
    "#### Section 7.2: The Linear Model"
   ]
  },
  {
   "cell_type": "code",
   "execution_count": 74,
   "id": "7519b305",
   "metadata": {
    "scrolled": true
   },
   "outputs": [
    {
     "name": "stdout",
     "output_type": "stream",
     "text": [
      "model intercept: 8.402149367433001\n",
      "model coefficients: [0.91313427]\n",
      "model R-squared: 0.5742612717986757\n"
     ]
    }
   ],
   "source": [
    "# Using scikit learn\n",
    "print(f\"model intercept: {model.intercept_}\")\n",
    "print(f\"model coefficients: {model.coef_}\")\n",
    "print(f\"model R-squared:\", model.score(X,y))"
   ]
  },
  {
   "cell_type": "code",
   "execution_count": 71,
   "id": "e02513c4",
   "metadata": {},
   "outputs": [
    {
     "name": "stdout",
     "output_type": "stream",
     "text": [
      "                            OLS Regression Results                            \n",
      "==============================================================================\n",
      "Dep. Variable:                 Fat(g)   R-squared:                       0.574\n",
      "Model:                            OLS   Adj. R-squared:                  0.571\n",
      "Method:                 Least Squares   F-statistic:                     161.9\n",
      "Date:                Thu, 21 Jul 2022   Prob (F-statistic):           5.34e-24\n",
      "Time:                        14:21:55   Log-Likelihood:                -459.79\n",
      "No. Observations:                 122   AIC:                             923.6\n",
      "Df Residuals:                     120   BIC:                             929.2\n",
      "Df Model:                           1                                         \n",
      "Covariance Type:            nonrobust                                         \n",
      "==============================================================================\n",
      "                 coef    std err          t      P>|t|      [0.025      0.975]\n",
      "------------------------------------------------------------------------------\n",
      "const          8.4021      1.604      5.238      0.000       5.226      11.578\n",
      "x1             0.9131      0.072     12.723      0.000       0.771       1.055\n",
      "==============================================================================\n",
      "Omnibus:                        7.169   Durbin-Watson:                   1.379\n",
      "Prob(Omnibus):                  0.028   Jarque-Bera (JB):               12.951\n",
      "Skew:                          -0.069   Prob(JB):                      0.00154\n",
      "Kurtosis:                       4.590   Cond. No.                         37.5\n",
      "==============================================================================\n",
      "\n",
      "Notes:\n",
      "[1] Standard Errors assume that the covariance matrix of the errors is correctly specified.\n"
     ]
    }
   ],
   "source": [
    "# Using statsmodel\n",
    "x = sm.add_constant(X)\n",
    "mod = sm.OLS(y,x)\n",
    "res = mod.fit()\n",
    "print(res.summary())"
   ]
  },
  {
   "cell_type": "markdown",
   "id": "986395cb",
   "metadata": {},
   "source": [
    "Question:\n",
    "1. There are 3 possible packages to get the job done (statsmodel, scipy, scikit learn). Which one should I use?"
   ]
  },
  {
   "cell_type": "markdown",
   "id": "0a00fc9f",
   "metadata": {},
   "source": [
    "#### Example 7.1: A Linear Model for Hurricanes"
   ]
  },
  {
   "cell_type": "code",
   "execution_count": 79,
   "id": "d5e3efa1",
   "metadata": {},
   "outputs": [
    {
     "data": {
      "image/png": "[encoded data removed]",
      "text/plain": [
       "<Figure size 360x360 with 1 Axes>"
      ]
     },
     "metadata": {
      "needs_background": "light"
     },
     "output_type": "display_data"
    }
   ],
   "source": [
    "hurricanes = pd.read_csv(\"datasets/hurricanes_2018.txt\", sep = \"\\t\")\n",
    "hurricanes\n",
    "\n",
    "sns.lmplot(data = hurricanes, x = \"Central.Pressure(mb)\", y = \"Max.Wind.Speed(kts)\", ci = None)\n",
    "plt.xlabel(\"Central Pressure (mb)\")\n",
    "plt.ylabel(\"Max Wind Speed (kts)\")\n",
    "plt.show()"
   ]
  },
  {
   "cell_type": "markdown",
   "id": "8a26642e",
   "metadata": {},
   "source": [
    "#### Section 7.3: Finding the Least Squares Line"
   ]
  },
  {
   "cell_type": "code",
   "execution_count": 83,
   "id": "c3a1881d",
   "metadata": {
    "scrolled": true
   },
   "outputs": [
    {
     "name": "stdout",
     "output_type": "stream",
     "text": [
      "count    122.000000\n",
      "mean      17.934426\n",
      "std       13.389115\n",
      "min        0.000000\n",
      "25%        7.000000\n",
      "50%       15.500000\n",
      "75%       24.750000\n",
      "max       71.000000\n",
      "Name: Protein(g), dtype: float64\n"
     ]
    }
   ],
   "source": [
    "print(burger[\"Protein(g)\"].describe())"
   ]
  },
  {
   "cell_type": "markdown",
   "id": "ebe488e3",
   "metadata": {},
   "source": [
    "#### Example 7.2: Finding the Regresison Equation"
   ]
  },
  {
   "cell_type": "code",
   "execution_count": 84,
   "id": "f80f676f",
   "metadata": {},
   "outputs": [
    {
     "name": "stdout",
     "output_type": "stream",
     "text": [
      "count    122.000000\n",
      "mean      24.778689\n",
      "std       16.133617\n",
      "min        0.000000\n",
      "25%       14.250000\n",
      "50%       22.000000\n",
      "75%       33.000000\n",
      "max       82.000000\n",
      "Name: Fat(g), dtype: float64\n"
     ]
    }
   ],
   "source": [
    "print(burger[\"Fat(g)\"].describe())"
   ]
  },
  {
   "cell_type": "code",
   "execution_count": 86,
   "id": "d408e951",
   "metadata": {},
   "outputs": [
    {
     "data": {
      "text/plain": [
       "13.389114676364041"
      ]
     },
     "execution_count": 86,
     "metadata": {},
     "output_type": "execute_result"
    }
   ],
   "source": [
    "sx = burger[\"Protein(g)\"].std()\n",
    "sx"
   ]
  },
  {
   "cell_type": "code",
   "execution_count": 87,
   "id": "2424d0b4",
   "metadata": {},
   "outputs": [
    {
     "data": {
      "text/plain": [
       "16.133616818749825"
      ]
     },
     "execution_count": 87,
     "metadata": {},
     "output_type": "execute_result"
    }
   ],
   "source": [
    "sy = burger[\"Fat(g)\"].std()\n",
    "sy"
   ]
  },
  {
   "cell_type": "code",
   "execution_count": 94,
   "id": "56389ce7",
   "metadata": {},
   "outputs": [
    {
     "data": {
      "text/plain": [
       "0.7578002849027409"
      ]
     },
     "execution_count": 94,
     "metadata": {},
     "output_type": "execute_result"
    }
   ],
   "source": [
    "r = burger.corr().iloc[3,4]\n",
    "r"
   ]
  },
  {
   "cell_type": "code",
   "execution_count": 95,
   "id": "437831d1",
   "metadata": {},
   "outputs": [
    {
     "data": {
      "text/plain": [
       "0.9131342674466052"
      ]
     },
     "execution_count": 95,
     "metadata": {},
     "output_type": "execute_result"
    }
   ],
   "source": [
    "r * sy / sx"
   ]
  },
  {
   "cell_type": "code",
   "execution_count": 96,
   "id": "8048b0e5",
   "metadata": {
    "scrolled": true
   },
   "outputs": [
    {
     "data": {
      "text/plain": [
       "array([0.91313427])"
      ]
     },
     "execution_count": 96,
     "metadata": {},
     "output_type": "execute_result"
    }
   ],
   "source": [
    "model.coef_"
   ]
  },
  {
   "cell_type": "markdown",
   "id": "9ac79809",
   "metadata": {},
   "source": [
    "#### Step-by-Step Example: Calculating a Regression Equation"
   ]
  },
  {
   "cell_type": "code",
   "execution_count": 99,
   "id": "42375638",
   "metadata": {},
   "outputs": [
    {
     "data": {
      "image/png": "[encoded data removed]",
      "text/plain": [
       "<Figure size 360x360 with 1 Axes>"
      ]
     },
     "metadata": {
      "needs_background": "light"
     },
     "output_type": "display_data"
    }
   ],
   "source": [
    "bridge = pd.read_csv(\"datasets/tompkins-county-bridges-2016.txt\", sep = \"\\t\")\n",
    "bridge\n",
    "\n",
    "sns.lmplot(data = bridge, x = \"AgeAtInspection\", y = \"Condition\", lowess = True)\n",
    "plt.xlabel(\"Age at Inspection\")\n",
    "plt.ylabel(\"Condition\")\n",
    "plt.show()"
   ]
  },
  {
   "cell_type": "markdown",
   "id": "6f73f583",
   "metadata": {},
   "source": [
    "See calculations on page 214\n",
    "#### Section 7.4: Regression to the Mean\n",
    "See Figure 7.4 on page 217 to visualize standard deviations\n",
    "#### Section 7.5: Examining the Residuals"
   ]
  },
  {
   "cell_type": "code",
   "execution_count": 100,
   "id": "099544c8",
   "metadata": {},
   "outputs": [
    {
     "name": "stdout",
     "output_type": "stream",
     "text": [
      "                            OLS Regression Results                            \n",
      "==============================================================================\n",
      "Dep. Variable:                 Fat(g)   R-squared:                       0.574\n",
      "Model:                            OLS   Adj. R-squared:                  0.571\n",
      "Method:                 Least Squares   F-statistic:                     161.9\n",
      "Date:                Thu, 21 Jul 2022   Prob (F-statistic):           5.34e-24\n",
      "Time:                        14:41:30   Log-Likelihood:                -459.79\n",
      "No. Observations:                 122   AIC:                             923.6\n",
      "Df Residuals:                     120   BIC:                             929.2\n",
      "Df Model:                           1                                         \n",
      "Covariance Type:            nonrobust                                         \n",
      "==============================================================================\n",
      "                 coef    std err          t      P>|t|      [0.025      0.975]\n",
      "------------------------------------------------------------------------------\n",
      "const          8.4021      1.604      5.238      0.000       5.226      11.578\n",
      "x1             0.9131      0.072     12.723      0.000       0.771       1.055\n",
      "==============================================================================\n",
      "Omnibus:                        7.169   Durbin-Watson:                   1.379\n",
      "Prob(Omnibus):                  0.028   Jarque-Bera (JB):               12.951\n",
      "Skew:                          -0.069   Prob(JB):                      0.00154\n",
      "Kurtosis:                       4.590   Cond. No.                         37.5\n",
      "==============================================================================\n",
      "\n",
      "Notes:\n",
      "[1] Standard Errors assume that the covariance matrix of the errors is correctly specified.\n"
     ]
    }
   ],
   "source": [
    "print(res.summary())"
   ]
  },
  {
   "cell_type": "code",
   "execution_count": 103,
   "id": "85e336a2",
   "metadata": {},
   "outputs": [
    {
     "data": {
      "image/png": "[encoded data removed]",
      "text/plain": [
       "<Figure size 432x288 with 1 Axes>"
      ]
     },
     "metadata": {
      "needs_background": "light"
     },
     "output_type": "display_data"
    }
   ],
   "source": [
    "#Figure 7.5, page 219\n",
    "sns.residplot(data = burger, x = \"Protein(g)\", y = \"Fat(g)\")\n",
    "plt.xlabel(\"Protein (g)\")\n",
    "plt.ylabel(\"Residuals (g fat)\")\n",
    "plt.show()"
   ]
  },
  {
   "cell_type": "code",
   "execution_count": 105,
   "id": "20c41c07",
   "metadata": {},
   "outputs": [],
   "source": [
    "#Figure 7.6, page 220\n"
   ]
  },
  {
   "cell_type": "markdown",
   "id": "8d06e9d9",
   "metadata": {},
   "source": [
    "Question: How to plot a histogram of residuals?"
   ]
  },
  {
   "cell_type": "markdown",
   "id": "ce7895b6",
   "metadata": {},
   "source": [
    "#### Section 7.6: R$^2$ - The proportion of Variation Accounted for by the Model"
   ]
  },
  {
   "cell_type": "code",
   "execution_count": 109,
   "id": "ecc7e004",
   "metadata": {},
   "outputs": [
    {
     "name": "stdout",
     "output_type": "stream",
     "text": [
      "0.5742612717986757\n"
     ]
    }
   ],
   "source": [
    "print(res.rsquared)"
   ]
  },
  {
   "cell_type": "markdown",
   "id": "d83c3664",
   "metadata": {},
   "source": [
    "#### Section 7.7: Regression Assumptions and Conditions"
   ]
  }
 ],
 "metadata": {
  "kernelspec": {
   "display_name": "Python 3 (ipykernel)",
   "language": "python",
   "name": "python3"
  },
  "language_info": {
   "codemirror_mode": {
    "name": "ipython",
    "version": 3
   },
   "file_extension": ".py",
   "mimetype": "text/x-python",
   "name": "python",
   "nbconvert_exporter": "python",
   "pygments_lexer": "ipython3",
   "version": "3.9.12"
  }
 },
 "nbformat": 4,
 "nbformat_minor": 5
}
