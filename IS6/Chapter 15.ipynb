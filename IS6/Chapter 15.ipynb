{
 "cells": [
  {
   "cell_type": "markdown",
   "id": "2be431ae",
   "metadata": {},
   "source": [
    "## IS6 in Python: Testing Hypotheses (Chapter 15)\n",
    "\n",
    "### Introduction and background\n",
    "\n",
    "This document is intended to assist students in undertaking examples shown in the Sixth Edition of Intro Stats (2022) by De Veaux, Velleman, and Bock. This pdf file as well as the associated ipynb reproducible analysis source file used to create it can be found at (INSERT WEBSITE LINK HERE)."
   ]
  },
  {
   "cell_type": "markdown",
   "id": "9de64b40",
   "metadata": {},
   "source": [
    "#### Chapter 15: Testing Hypotheses"
   ]
  },
  {
   "cell_type": "code",
   "execution_count": 108,
   "id": "10a49e74",
   "metadata": {},
   "outputs": [],
   "source": [
    "#Load in libraries\n",
    "import pandas as pd\n",
    "from scipy.stats import norm, t\n",
    "import matplotlib.pyplot as plt\n",
    "import seaborn as sns"
   ]
  },
  {
   "cell_type": "markdown",
   "id": "e0b8b2cd",
   "metadata": {},
   "source": [
    "#### Section 15.1: Hypotheses\n",
    "#### Section 15.2: P-Values\n",
    "#### Section 15.3: The Reasoning of Hypothesis Testing\n",
    "#### Example 15.5: Finding A P-Value"
   ]
  },
  {
   "cell_type": "code",
   "execution_count": 109,
   "id": "5b5d61e9",
   "metadata": {},
   "outputs": [
    {
     "name": "stdout",
     "output_type": "stream",
     "text": [
      "0.001873240452646042\n"
     ]
    }
   ],
   "source": [
    "#P-Value using a normal distribution\n",
    "n = 90\n",
    "x = 61\n",
    "p = 0.8\n",
    "phat = x/n\n",
    "sdphat = ((p * (1-p)) / n) ** 0.5\n",
    "z = (phat - p) / sdphat\n",
    "print(norm.cdf(z))"
   ]
  },
  {
   "cell_type": "code",
   "execution_count": 110,
   "id": "05d357fa",
   "metadata": {},
   "outputs": [
    {
     "name": "stdout",
     "output_type": "stream",
     "text": [
      "0.001873240452646042\n"
     ]
    }
   ],
   "source": [
    "#Or calculate everything in one line\n",
    "print(norm.cdf(x = phat, loc = p, scale = sdphat))"
   ]
  },
  {
   "cell_type": "markdown",
   "id": "6490948e",
   "metadata": {},
   "source": [
    "#### Section 15.4: A Hypothesis Test for the Mean"
   ]
  },
  {
   "cell_type": "code",
   "execution_count": 111,
   "id": "d4420cda",
   "metadata": {},
   "outputs": [
    {
     "data": {
      "text/html": [
       "<div>\n",
       "<style scoped>\n",
       "    .dataframe tbody tr th:only-of-type {\n",
       "        vertical-align: middle;\n",
       "    }\n",
       "\n",
       "    .dataframe tbody tr th {\n",
       "        vertical-align: top;\n",
       "    }\n",
       "\n",
       "    .dataframe thead th {\n",
       "        text-align: right;\n",
       "    }\n",
       "</style>\n",
       "<table border=\"1\" class=\"dataframe\">\n",
       "  <thead>\n",
       "    <tr style=\"text-align: right;\">\n",
       "      <th></th>\n",
       "      <th>Gestation Time</th>\n",
       "    </tr>\n",
       "  </thead>\n",
       "  <tbody>\n",
       "    <tr>\n",
       "      <th>0</th>\n",
       "      <td>251</td>\n",
       "    </tr>\n",
       "    <tr>\n",
       "      <th>1</th>\n",
       "      <td>263</td>\n",
       "    </tr>\n",
       "    <tr>\n",
       "      <th>2</th>\n",
       "      <td>265</td>\n",
       "    </tr>\n",
       "    <tr>\n",
       "      <th>3</th>\n",
       "      <td>240</td>\n",
       "    </tr>\n",
       "    <tr>\n",
       "      <th>4</th>\n",
       "      <td>268</td>\n",
       "    </tr>\n",
       "    <tr>\n",
       "      <th>...</th>\n",
       "      <td>...</td>\n",
       "    </tr>\n",
       "    <tr>\n",
       "      <th>65</th>\n",
       "      <td>269</td>\n",
       "    </tr>\n",
       "    <tr>\n",
       "      <th>66</th>\n",
       "      <td>261</td>\n",
       "    </tr>\n",
       "    <tr>\n",
       "      <th>67</th>\n",
       "      <td>278</td>\n",
       "    </tr>\n",
       "    <tr>\n",
       "      <th>68</th>\n",
       "      <td>253</td>\n",
       "    </tr>\n",
       "    <tr>\n",
       "      <th>69</th>\n",
       "      <td>264</td>\n",
       "    </tr>\n",
       "  </tbody>\n",
       "</table>\n",
       "<p>70 rows × 1 columns</p>\n",
       "</div>"
      ],
      "text/plain": [
       "    Gestation Time\n",
       "0              251\n",
       "1              263\n",
       "2              265\n",
       "3              240\n",
       "4              268\n",
       "..             ...\n",
       "65             269\n",
       "66             261\n",
       "67             278\n",
       "68             253\n",
       "69             264\n",
       "\n",
       "[70 rows x 1 columns]"
      ]
     },
     "execution_count": 111,
     "metadata": {},
     "output_type": "execute_result"
    }
   ],
   "source": [
    "time = pd.read_csv(\"datasets/nashville.txt\", sep = \"\\t\")\n",
    "time"
   ]
  },
  {
   "cell_type": "code",
   "execution_count": 112,
   "id": "f6eea802",
   "metadata": {},
   "outputs": [
    {
     "data": {
      "image/png": "[encoded data removed]",
      "text/plain": [
       "<Figure size 432x288 with 1 Axes>"
      ]
     },
     "metadata": {
      "needs_background": "light"
     },
     "output_type": "display_data"
    }
   ],
   "source": [
    "sns.histplot(data = time, x = \"Gestation Time\", binwidth = 7.5)\n",
    "plt.xlabel(\"Gestation Time (days)\")\n",
    "plt.ylabel(\"# of Births\")\n",
    "plt.show()"
   ]
  },
  {
   "cell_type": "code",
   "execution_count": 113,
   "id": "90b639c9",
   "metadata": {
    "scrolled": true
   },
   "outputs": [
    {
     "data": {
      "image/png": "[encoded data removed]",
      "text/plain": [
       "<Figure size 432x288 with 1 Axes>"
      ]
     },
     "metadata": {
      "needs_background": "light"
     },
     "output_type": "display_data"
    }
   ],
   "source": [
    "#Generate a t distribution with df = 69\n",
    "t_dist = t.rvs(df = 69, size = 10000)\n",
    "sns.kdeplot(t_dist)\n",
    "plt.vlines(x = -3.118, ymin = 0, ymax = 0.4)\n",
    "plt.vlines(x = 3.118, ymin = 0, ymax = 0.4)\n",
    "plt.xlim([-3.347,3.347])\n",
    "plt.show()"
   ]
  },
  {
   "cell_type": "markdown",
   "id": "f6b4666e",
   "metadata": {},
   "source": [
    "#### Step-By-Step Example: A One-Sample t-Test for the Mean"
   ]
  },
  {
   "cell_type": "code",
   "execution_count": 114,
   "id": "83184802",
   "metadata": {},
   "outputs": [],
   "source": [
    "sleep = pd.read_csv(\"datasets/sleep.txt\", sep = \"\\t\")"
   ]
  },
  {
   "cell_type": "code",
   "execution_count": 115,
   "id": "49af784a",
   "metadata": {},
   "outputs": [
    {
     "name": "stdout",
     "output_type": "stream",
     "text": [
      "           Sleep\n",
      "count  25.000000\n",
      "mean    6.640000\n",
      "std     1.075484\n",
      "min     4.000000\n",
      "25%     6.000000\n",
      "50%     7.000000\n",
      "75%     7.000000\n",
      "max     8.000000\n"
     ]
    }
   ],
   "source": [
    "print(sleep.describe())"
   ]
  },
  {
   "cell_type": "code",
   "execution_count": 116,
   "id": "02160573",
   "metadata": {},
   "outputs": [
    {
     "data": {
      "image/png": "[encoded data removed]",
      "text/plain": [
       "<Figure size 432x288 with 1 Axes>"
      ]
     },
     "metadata": {
      "needs_background": "light"
     },
     "output_type": "display_data"
    }
   ],
   "source": [
    "sns.histplot(data = sleep, x = \"Sleep\", bins = 5)\n",
    "plt.xlabel(\"Hours of Sleep\")\n",
    "plt.show()"
   ]
  },
  {
   "cell_type": "code",
   "execution_count": 117,
   "id": "3ea75eee",
   "metadata": {},
   "outputs": [
    {
     "data": {
      "image/png": "[encoded data removed]",
      "text/plain": [
       "<Figure size 432x288 with 1 Axes>"
      ]
     },
     "metadata": {
      "needs_background": "light"
     },
     "output_type": "display_data"
    }
   ],
   "source": [
    "#Generate t distribution with df = 69\n",
    "t_dist = t.rvs(df = 24, size = 10000)\n",
    "sns.kdeplot(t_dist)\n",
    "plt.vlines(x = -1.67, ymin = 0, ymax = 0.4)\n",
    "plt.xlim([-3,3])\n",
    "plt.show()"
   ]
  },
  {
   "cell_type": "code",
   "execution_count": 118,
   "id": "87d19930",
   "metadata": {},
   "outputs": [
    {
     "name": "stdout",
     "output_type": "stream",
     "text": [
      "0.05351624715472282\n"
     ]
    }
   ],
   "source": [
    "#Mechanics\n",
    "n = 25\n",
    "mean = 7\n",
    "df = 24\n",
    "y = 6.64\n",
    "s = 1.075\n",
    "sey = s / (n ** 0.5)\n",
    "t_ = (y - mean) / sey\n",
    "#Calculate p-value using t distribution\n",
    "print(t.cdf(x = t_, df = 24))"
   ]
  },
  {
   "cell_type": "markdown",
   "id": "fc76a63e",
   "metadata": {},
   "source": [
    "#### Section 15.5: Intervals and Tests"
   ]
  },
  {
   "cell_type": "code",
   "execution_count": 119,
   "id": "47a21903",
   "metadata": {},
   "outputs": [
    {
     "data": {
      "text/html": [
       "<div>\n",
       "<style scoped>\n",
       "    .dataframe tbody tr th:only-of-type {\n",
       "        vertical-align: middle;\n",
       "    }\n",
       "\n",
       "    .dataframe tbody tr th {\n",
       "        vertical-align: top;\n",
       "    }\n",
       "\n",
       "    .dataframe thead th {\n",
       "        text-align: right;\n",
       "    }\n",
       "</style>\n",
       "<table border=\"1\" class=\"dataframe\">\n",
       "  <thead>\n",
       "    <tr style=\"text-align: right;\">\n",
       "      <th></th>\n",
       "      <th>Temp</th>\n",
       "    </tr>\n",
       "  </thead>\n",
       "  <tbody>\n",
       "    <tr>\n",
       "      <th>0</th>\n",
       "      <td>97.3</td>\n",
       "    </tr>\n",
       "    <tr>\n",
       "      <th>1</th>\n",
       "      <td>97.4</td>\n",
       "    </tr>\n",
       "    <tr>\n",
       "      <th>2</th>\n",
       "      <td>97.4</td>\n",
       "    </tr>\n",
       "    <tr>\n",
       "      <th>3</th>\n",
       "      <td>97.4</td>\n",
       "    </tr>\n",
       "    <tr>\n",
       "      <th>4</th>\n",
       "      <td>97.4</td>\n",
       "    </tr>\n",
       "  </tbody>\n",
       "</table>\n",
       "</div>"
      ],
      "text/plain": [
       "   Temp\n",
       "0  97.3\n",
       "1  97.4\n",
       "2  97.4\n",
       "3  97.4\n",
       "4  97.4"
      ]
     },
     "execution_count": 119,
     "metadata": {},
     "output_type": "execute_result"
    }
   ],
   "source": [
    "#Page 514\n",
    "temp = pd.read_csv(\"datasets/normal-temperature.txt\", sep = \"\\t\")\n",
    "temp.head()"
   ]
  },
  {
   "cell_type": "code",
   "execution_count": 120,
   "id": "5f98e5fe",
   "metadata": {},
   "outputs": [
    {
     "name": "stdout",
     "output_type": "stream",
     "text": [
      "             Temp\n",
      "count   52.000000\n",
      "mean    98.284615\n",
      "std      0.682379\n",
      "min     97.200000\n",
      "25%     97.675000\n",
      "50%     98.200000\n",
      "75%     98.700000\n",
      "max    100.000000\n"
     ]
    }
   ],
   "source": [
    "print(temp.describe())"
   ]
  },
  {
   "cell_type": "code",
   "execution_count": 121,
   "id": "14ad625c",
   "metadata": {},
   "outputs": [
    {
     "data": {
      "image/png": "[encoded data removed]",
      "text/plain": [
       "<Figure size 432x288 with 1 Axes>"
      ]
     },
     "metadata": {
      "needs_background": "light"
     },
     "output_type": "display_data"
    }
   ],
   "source": [
    "sns.histplot(data = temp, x = \"Temp\", binwidth = 0.2)\n",
    "plt.show()"
   ]
  },
  {
   "cell_type": "code",
   "execution_count": 122,
   "id": "cc72f71b",
   "metadata": {},
   "outputs": [
    {
     "name": "stdout",
     "output_type": "stream",
     "text": [
      "y: Temp    98.284615\n",
      "dtype: float64\n",
      "s: Temp    0.682379\n",
      "dtype: float64\n",
      "n: Temp    52\n",
      "dtype: int64\n",
      "confidence interval: (array([98.24161451]), array([98.32761626]))\n"
     ]
    }
   ],
   "source": [
    "#Confidence Interval\n",
    "y = temp.mean()\n",
    "print(f\"y: {y}\")\n",
    "s = temp.std()\n",
    "print(f\"s: {s}\")\n",
    "n = temp.count()\n",
    "print(f\"n: {n}\")\n",
    "tstats = t.interval(loc = y, scale = s, df = n-1, alpha = 0.05)\n",
    "print(f\"confidence interval: {tstats}\")"
   ]
  },
  {
   "cell_type": "markdown",
   "id": "321901f4",
   "metadata": {},
   "source": [
    "Question: I followed the guide on how to calculate confidence interval for mean in Teaching4, but I got a different interval than what is shown in the book."
   ]
  },
  {
   "cell_type": "code",
   "execution_count": 123,
   "id": "3cec5182",
   "metadata": {},
   "outputs": [
    {
     "name": "stdout",
     "output_type": "stream",
     "text": [
      "Temp   -3.332856\n",
      "dtype: float64\n"
     ]
    }
   ],
   "source": [
    "#Hypothesis test\n",
    "mu = 98.6\n",
    "test = (y - mu) / (s / (n ** 0.5))\n",
    "print(test)"
   ]
  },
  {
   "cell_type": "code",
   "execution_count": 124,
   "id": "56e14864",
   "metadata": {},
   "outputs": [
    {
     "name": "stdout",
     "output_type": "stream",
     "text": [
      "[0.00160585]\n"
     ]
    }
   ],
   "source": [
    "#Two-sided test - code equilavent to pt() in R\n",
    "print(2 * t.cdf(x = test, df = n - 1))"
   ]
  },
  {
   "cell_type": "markdown",
   "id": "28f1bb90",
   "metadata": {},
   "source": [
    "#### Note: pt() == t.cdf()\n",
    "- pt() in R is used to return the probability cumulative density of the Student t-distribution\n",
    "- t.cdf() in Python is used to calculate the cumulative distribution function using t-distribution"
   ]
  },
  {
   "cell_type": "markdown",
   "id": "6859cbcd",
   "metadata": {},
   "source": [
    "#### Random Matters: Bootstrap Hypothesis Tests and Intervals\n",
    "#### Step-By-Step Example: Tests and Intervals"
   ]
  },
  {
   "cell_type": "code",
   "execution_count": 125,
   "id": "06fcc4e3",
   "metadata": {},
   "outputs": [
    {
     "data": {
      "text/html": [
       "<div>\n",
       "<style scoped>\n",
       "    .dataframe tbody tr th:only-of-type {\n",
       "        vertical-align: middle;\n",
       "    }\n",
       "\n",
       "    .dataframe tbody tr th {\n",
       "        vertical-align: top;\n",
       "    }\n",
       "\n",
       "    .dataframe thead th {\n",
       "        text-align: right;\n",
       "    }\n",
       "</style>\n",
       "<table border=\"1\" class=\"dataframe\">\n",
       "  <thead>\n",
       "    <tr style=\"text-align: right;\">\n",
       "      <th></th>\n",
       "      <th>winner</th>\n",
       "    </tr>\n",
       "  </thead>\n",
       "  <tbody>\n",
       "    <tr>\n",
       "      <th>0</th>\n",
       "      <td>Home</td>\n",
       "    </tr>\n",
       "    <tr>\n",
       "      <th>1</th>\n",
       "      <td>Home</td>\n",
       "    </tr>\n",
       "    <tr>\n",
       "      <th>2</th>\n",
       "      <td>Home</td>\n",
       "    </tr>\n",
       "    <tr>\n",
       "      <th>3</th>\n",
       "      <td>Home</td>\n",
       "    </tr>\n",
       "    <tr>\n",
       "      <th>4</th>\n",
       "      <td>Home</td>\n",
       "    </tr>\n",
       "  </tbody>\n",
       "</table>\n",
       "</div>"
      ],
      "text/plain": [
       "  winner\n",
       "0   Home\n",
       "1   Home\n",
       "2   Home\n",
       "3   Home\n",
       "4   Home"
      ]
     },
     "execution_count": 125,
     "metadata": {},
     "output_type": "execute_result"
    }
   ],
   "source": [
    "#Create dataset\n",
    "baseball = ([\"Home\"] * 1308) + [\"Away\"] * (2431 - 1308)\n",
    "baseball = pd.DataFrame(baseball, columns = [\"winner\"])\n",
    "baseball.head()"
   ]
  },
  {
   "cell_type": "code",
   "execution_count": 126,
   "id": "9d483454",
   "metadata": {},
   "outputs": [
    {
     "name": "stdout",
     "output_type": "stream",
     "text": [
      "phat: winner    0.53805\n",
      "dtype: float64\n",
      "sdphat: winner    0.010141\n",
      "dtype: float64\n",
      "z value: winner    3.752142\n",
      "dtype: float64\n"
     ]
    }
   ],
   "source": [
    "#Mechanics, page 517\n",
    "n = baseball.count()\n",
    "p = 0.5\n",
    "phat = baseball[baseball[\"winner\"] == \"Home\"].count() / n\n",
    "print(f\"phat: {phat}\")\n",
    "sdphat = ((p * (1 - p)) / n) ** 0.5\n",
    "print(f\"sdphat: {sdphat}\")\n",
    "z = (phat - p) / sdphat\n",
    "print(f\"z value: {z}\")"
   ]
  },
  {
   "cell_type": "code",
   "execution_count": 127,
   "id": "0bda7ff8",
   "metadata": {},
   "outputs": [
    {
     "name": "stdout",
     "output_type": "stream",
     "text": [
      "[8.76651022e-05]\n",
      "[8.76651022e-05]\n"
     ]
    }
   ],
   "source": [
    "#p-value\n",
    "print(1 - norm.cdf(z))\n",
    "#Or, without calculating the z-score\n",
    "print(1 - norm.cdf(x = phat, loc = p, scale = sdphat))"
   ]
  },
  {
   "cell_type": "code",
   "execution_count": 128,
   "id": "0ec0eb36",
   "metadata": {},
   "outputs": [
    {
     "name": "stdout",
     "output_type": "stream",
     "text": [
      "winner    0.010112\n",
      "dtype: float64\n",
      "Lower bound of 95% confidence: winner    0.518232\n",
      "dtype: float64\n",
      "upper bound of 95% confidence: winner    0.557869\n",
      "dtype: float64\n"
     ]
    }
   ],
   "source": [
    "#Mechanics, page 518\n",
    "sep = ((phat * (1 - phat)) / n) ** 0.5\n",
    "print(sep)\n",
    "me = 1.96 * sep\n",
    "print(f\"Lower bound of 95% confidence: {phat - me}\")\n",
    "print(f\"upper bound of 95% confidence: {phat + me}\")"
   ]
  },
  {
   "cell_type": "markdown",
   "id": "e87e0451",
   "metadata": {},
   "source": [
    "#### Section 15.6: P-Values and Decisions: What to Tell About a Hypothesis Test"
   ]
  }
 ],
 "metadata": {
  "kernelspec": {
   "display_name": "Python 3 (ipykernel)",
   "language": "python",
   "name": "python3"
  },
  "language_info": {
   "codemirror_mode": {
    "name": "ipython",
    "version": 3
   },
   "file_extension": ".py",
   "mimetype": "text/x-python",
   "name": "python",
   "nbconvert_exporter": "python",
   "pygments_lexer": "ipython3",
   "version": "3.9.12"
  }
 },
 "nbformat": 4,
 "nbformat_minor": 5
}
