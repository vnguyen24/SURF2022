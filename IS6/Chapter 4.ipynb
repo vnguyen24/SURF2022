{
 "cells": [
  {
   "cell_type": "markdown",
   "id": "2be431ae",
   "metadata": {},
   "source": [
    "## IS6 in Python: Understanding and Comparing Distributions (Chapter 4)\n",
    "\n",
    "### Introduction and background\n",
    "\n",
    "This document is intended to assist students in undertaking examples shown in the Sixth Edition of Intro Stats (2022) by De Veaux, Velleman, and Bock. This pdf file as well as the associated ipynb reproducible analysis source file used to create it can be found at (INSERT WEBSITE LINK HERE)."
   ]
  },
  {
   "cell_type": "markdown",
   "id": "28d1da0b",
   "metadata": {},
   "source": [
    "### Chapter 4: Understanding and Comparing Distributions"
   ]
  },
  {
   "cell_type": "code",
   "execution_count": 1,
   "id": "392861a5",
   "metadata": {},
   "outputs": [],
   "source": [
    "#Read in libraries. These are all the libraries we need for this chapter\n",
    "import pandas as pd\n",
    "import matplotlib.pyplot as plt\n",
    "import seaborn as sns"
   ]
  },
  {
   "cell_type": "code",
   "execution_count": 2,
   "id": "cb17cd6f",
   "metadata": {},
   "outputs": [
    {
     "data": {
      "image/png": "[encoded data removed]",
      "text/plain": [
       "<Figure size 432x288 with 1 Axes>"
      ]
     },
     "metadata": {
      "needs_background": "light"
     },
     "output_type": "display_data"
    },
    {
     "name": "stdout",
     "output_type": "stream",
     "text": [
      "count    365.000000\n",
      "mean       1.507808\n",
      "std        1.260161\n",
      "min        0.000000\n",
      "25%        0.460000\n",
      "50%        1.120000\n",
      "75%        2.280000\n",
      "max        6.730000\n",
      "Name: Avg Wind (mph), dtype: float64\n"
     ]
    }
   ],
   "source": [
    "#Figure 4.1, page 99\n",
    "forest = pd.read_csv(\"http://nhorton.people.amherst.edu/is5/data/Hopkins_Forest.csv\", sep = \",\")\n",
    "\n",
    "sns.histplot(data = forest, x = \"Avg Wind (mph)\")\n",
    "plt.xlabel(\"Average Wind Speed (mph)\")\n",
    "plt.ylabel(\"# of Days\")\n",
    "plt.show()\n",
    "\n",
    "print(forest[\"Avg Wind (mph)\"].describe())"
   ]
  },
  {
   "cell_type": "markdown",
   "id": "985b2f50",
   "metadata": {},
   "source": [
    "#### Section 4.1: Displays for Comparing Groups"
   ]
  },
  {
   "cell_type": "code",
   "execution_count": 5,
   "id": "f4a08066",
   "metadata": {},
   "outputs": [
    {
     "data": {
      "image/png": "[encoded data removed]",
      "text/plain": [
       "<Figure size 432x216 with 2 Axes>"
      ]
     },
     "metadata": {
      "needs_background": "light"
     },
     "output_type": "display_data"
    },
    {
     "name": "stdout",
     "output_type": "stream",
     "text": [
      "               count      mean       std   min   25%   50%     75%   max\n",
      "Season                                                                  \n",
      "Fall/Winter    182.0  1.904176  1.287233  0.02  0.84  1.72  2.6575  6.73\n",
      "Spring/Summer  183.0  1.113607  1.102176  0.00  0.35  0.71  1.6150  5.47\n"
     ]
    }
   ],
   "source": [
    "#Figure 4.2, page 99\n",
    "#Wrangle data\n",
    "season = []\n",
    "for i in range(len(forest)):\n",
    "    if forest[\"Month\"][i] <= 9 and forest[\"Month\"][i] >= 4:\n",
    "        season.append(\"Spring/Summer\")\n",
    "    else:\n",
    "        season.append(\"Fall/Winter\")\n",
    "forest[\"Season\"] = season\n",
    "\n",
    "#Plot\n",
    "g = sns.FacetGrid(data = forest, col = \"Season\")\n",
    "g.map(sns.histplot, \"Avg Wind (mph)\")\n",
    "\n",
    "plt.show()\n",
    "\n",
    "print(forest.groupby(\"Season\")[\"Avg Wind (mph)\"].describe())"
   ]
  },
  {
   "cell_type": "markdown",
   "id": "98801c25",
   "metadata": {},
   "source": [
    "#### Example 4.1: Comparing Groups with Stem-And-Leaf"
   ]
  }
 ],
 "metadata": {
  "kernelspec": {
   "display_name": "Python 3 (ipykernel)",
   "language": "python",
   "name": "python3"
  },
  "language_info": {
   "codemirror_mode": {
    "name": "ipython",
    "version": 3
   },
   "file_extension": ".py",
   "mimetype": "text/x-python",
   "name": "python",
   "nbconvert_exporter": "python",
   "pygments_lexer": "ipython3",
   "version": "3.9.12"
  }
 },
 "nbformat": 4,
 "nbformat_minor": 5
}
